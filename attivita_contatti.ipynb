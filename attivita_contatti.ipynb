{
 "cells": [
  {
   "cell_type": "code",
   "execution_count": 2,
   "metadata": {},
   "outputs": [],
   "source": [
    "import pandas as pd\n",
    "import numpy as np\n",
    "import plotly.graph_objects as go\n",
    "import plotly.express as px\n",
    "\n",
    "import seaborn as sns\n",
    "\n",
    "import dash\n",
    "import dash_core_components as dcc\n",
    "import dash_html_components as html\n",
    "from dash.dependencies import Input, Output\n",
    "\n",
    "TOP_K = 15\n",
    "ASSETS_PATH=\"assets\"\n",
    "# pd.set_option('display.max_rows', None)\n",
    "# pd.set_option('display.max_columns', None)\n",
    "# pd.set_option('display.width', None)\n",
    "# pd.set_option('display.max_colwidth', -1)"
   ]
  },
  {
   "cell_type": "code",
   "execution_count": 3,
   "metadata": {
    "pycharm": {
     "name": "#%%\n"
    }
   },
   "outputs": [
    {
     "name": "stdout",
     "output_type": "stream",
     "text": [
      "First email was on: 2008-05-01 00:00:00\n",
      "Last email was on: 2014-12-14 00:00:00\n",
      "The dataset covers 2418 days 00:00:00 days\n",
      "The most active day was 2009-12-23 00:00:00 with 47 emails\n"
     ]
    }
   ],
   "source": [
    "dataset = pd.read_csv(\"./data/Emails.csv\")\n",
    "df = pd.DataFrame(dataset)\n",
    "\n",
    "df.rename(columns={\"MetadataDateSent\": \"DateSent\"}, inplace=True)\n",
    "df = pd.DataFrame(df[[\"SenderPersonId\",\"DateSent\"]])\n",
    "df.dropna(inplace = True)\n",
    "\n",
    "df[\"DateSent\"] = df[\"DateSent\"].astype(str)\n",
    "df[\"DateSent\"]= df[\"DateSent\"].str.slice(0, 10, 1)\n",
    "df[\"DateSent\"] = pd.to_datetime(df[\"DateSent\"])\n",
    "\n",
    "df[\"SenderPersonId\"] = df[\"SenderPersonId\"].astype(str)\n",
    "df[\"SenderPersonId\"] = df[\"SenderPersonId\"].str.slice(0, -2, 1)\n",
    "\n",
    "print(\"First email was on:\", df.DateSent.min())\n",
    "print(\"Last email was on:\", df.DateSent.max())\n",
    "print(\"The dataset covers\", df.DateSent.max() - df.DateSent.min(), \"days\")\n",
    "print(\"The most active day was\",df[\"DateSent\"].value_counts().index[0],\n",
    "      \"with\",df[\"DateSent\"].value_counts()[0],\"emails\")"
   ]
  },
  {
   "cell_type": "code",
   "execution_count": 4,
   "metadata": {
    "pycharm": {
     "name": "#%%\n"
    }
   },
   "outputs": [
    {
     "name": "stderr",
     "output_type": "stream",
     "text": [
      "/Users/gianlucagiudice/.pyenv/versions/3.8.7/lib/python3.8/site-packages/pandas/core/indexing.py:1637: SettingWithCopyWarning: \n",
      "A value is trying to be set on a copy of a slice from a DataFrame\n",
      "\n",
      "See the caveats in the documentation: https://pandas.pydata.org/pandas-docs/stable/user_guide/indexing.html#returning-a-view-versus-a-copy\n",
      "  self._setitem_single_block(indexer, value, name)\n"
     ]
    }
   ],
   "source": [
    "# Assegnare ID in persons.csv a dataframe principale, così da poter tradurre gli IDs in nomi\n",
    "persons = pd.read_csv(\"./data/Persons.csv\")\n",
    "persons = persons.to_dict()\n",
    "persons = persons[\"Name\"]\n",
    "df[\"SenderFullName\"] = None\n",
    "\n",
    "i = 0\n",
    "for cell,i in zip(df[\"SenderPersonId\"].items(),range(0,len(df))):\n",
    "    for key in persons.keys():\n",
    "        if cell[1] == str(key):\n",
    "            df[\"SenderFullName\"].iloc[i] = persons[key-1]\n",
    "            i += 1"
   ]
  },
  {
   "cell_type": "code",
   "execution_count": 5,
   "metadata": {
    "pycharm": {
     "name": "#%%\n"
    }
   },
   "outputs": [
    {
     "name": "stdout",
     "output_type": "stream",
     "text": [
      "In 490 giorni, cioè il 6.0% del totale dei giorni, si è concentrato il 90.0% degli scambi di mail\n"
     ]
    }
   ],
   "source": [
    "i = 0\n",
    "x = 0\n",
    "num = 490\n",
    "while i < 10:\n",
    "    for date in df['DateSent'].value_counts(normalize=True)[:num]:\n",
    "        x += df['DateSent'].value_counts(normalize=True)[i]\n",
    "        i += 1\n",
    "print(f\"In {num} giorni, cioè il {round(num/int(df['DateSent'].count()),2)*100}% del totale dei \"\n",
    "      f\"giorni, si è concentrato il {round(x,2)*100}% degli scambi di mail\")"
   ]
  },
  {
   "cell_type": "code",
   "execution_count": 29,
   "metadata": {
    "pycharm": {
     "name": "#%%\n"
    },
    "scrolled": false
   },
   "outputs": [
    {
     "data": {
      "application/vnd.plotly.v1+json": {
       "config": {
        "plotlyServerURL": "https://plot.ly"
       },
       "data": [
        {
         "marker": {
          "color": "#636EFA"
         },
         "name": "Markers and Text",
         "showlegend": false,
         "type": "bar",
         "x": [
          "Hillary Clinton",
          "Huma Abedin",
          "Cheryl Mills",
          "Jake Sullivan",
          "Sidney Blumenthal",
          "Lauren Jiloty",
          "Philippe Reines",
          "Lona Valmoro",
          "Anne-Marie Slaughter",
          "Richard Verma",
          "Melanne Verveer",
          "Lissa Muscatine",
          "Judith McHale",
          "Strobe Talbott",
          "Betsy Ebeling"
         ],
         "y": [
          0.25673758865248225,
          0.18529980657640233,
          0.16982591876208897,
          0.11231463571889104,
          0.04809800128949065,
          0.04397163120567376,
          0.020502901353965184,
          0.019987105093488073,
          0.016763378465506126,
          0.01521598968407479,
          0.012379110251450677,
          0.01096067053513862,
          0.010058027079303675,
          0.004771115409413282,
          0.003997421018697615
         ]
        },
        {
         "mode": "text+lines+markers",
         "showlegend": false,
         "text": [
          "1",
          "2",
          "3",
          "4",
          "5",
          "6",
          "7",
          "8",
          "9",
          "10",
          "11",
          "12",
          "13",
          "14",
          "15"
         ],
         "textposition": "top center",
         "type": "scatter",
         "x": [
          "Hillary Clinton",
          "Huma Abedin",
          "Cheryl Mills",
          "Jake Sullivan",
          "Sidney Blumenthal",
          "Lauren Jiloty",
          "Philippe Reines",
          "Lona Valmoro",
          "Anne-Marie Slaughter",
          "Richard Verma",
          "Melanne Verveer",
          "Lissa Muscatine",
          "Judith McHale",
          "Strobe Talbott",
          "Betsy Ebeling"
         ],
         "y": [
          0.25673758865248225,
          0.4420373952288846,
          0.6118633139909735,
          0.7241779497098645,
          0.7722759509993551,
          0.8162475822050288,
          0.836750483558994,
          0.8567375886524821,
          0.8735009671179882,
          0.888716956802063,
          0.9010960670535136,
          0.9120567375886522,
          0.9221147646679559,
          0.9268858800773693,
          0.9308833010960669
         ]
        }
       ],
       "layout": {
        "template": {
         "data": {
          "bar": [
           {
            "error_x": {
             "color": "#2a3f5f"
            },
            "error_y": {
             "color": "#2a3f5f"
            },
            "marker": {
             "line": {
              "color": "#E5ECF6",
              "width": 0.5
             }
            },
            "type": "bar"
           }
          ],
          "barpolar": [
           {
            "marker": {
             "line": {
              "color": "#E5ECF6",
              "width": 0.5
             }
            },
            "type": "barpolar"
           }
          ],
          "carpet": [
           {
            "aaxis": {
             "endlinecolor": "#2a3f5f",
             "gridcolor": "white",
             "linecolor": "white",
             "minorgridcolor": "white",
             "startlinecolor": "#2a3f5f"
            },
            "baxis": {
             "endlinecolor": "#2a3f5f",
             "gridcolor": "white",
             "linecolor": "white",
             "minorgridcolor": "white",
             "startlinecolor": "#2a3f5f"
            },
            "type": "carpet"
           }
          ],
          "choropleth": [
           {
            "colorbar": {
             "outlinewidth": 0,
             "ticks": ""
            },
            "type": "choropleth"
           }
          ],
          "contour": [
           {
            "colorbar": {
             "outlinewidth": 0,
             "ticks": ""
            },
            "colorscale": [
             [
              0.0,
              "#0d0887"
             ],
             [
              0.1111111111111111,
              "#46039f"
             ],
             [
              0.2222222222222222,
              "#7201a8"
             ],
             [
              0.3333333333333333,
              "#9c179e"
             ],
             [
              0.4444444444444444,
              "#bd3786"
             ],
             [
              0.5555555555555556,
              "#d8576b"
             ],
             [
              0.6666666666666666,
              "#ed7953"
             ],
             [
              0.7777777777777778,
              "#fb9f3a"
             ],
             [
              0.8888888888888888,
              "#fdca26"
             ],
             [
              1.0,
              "#f0f921"
             ]
            ],
            "type": "contour"
           }
          ],
          "contourcarpet": [
           {
            "colorbar": {
             "outlinewidth": 0,
             "ticks": ""
            },
            "type": "contourcarpet"
           }
          ],
          "heatmap": [
           {
            "colorbar": {
             "outlinewidth": 0,
             "ticks": ""
            },
            "colorscale": [
             [
              0.0,
              "#0d0887"
             ],
             [
              0.1111111111111111,
              "#46039f"
             ],
             [
              0.2222222222222222,
              "#7201a8"
             ],
             [
              0.3333333333333333,
              "#9c179e"
             ],
             [
              0.4444444444444444,
              "#bd3786"
             ],
             [
              0.5555555555555556,
              "#d8576b"
             ],
             [
              0.6666666666666666,
              "#ed7953"
             ],
             [
              0.7777777777777778,
              "#fb9f3a"
             ],
             [
              0.8888888888888888,
              "#fdca26"
             ],
             [
              1.0,
              "#f0f921"
             ]
            ],
            "type": "heatmap"
           }
          ],
          "heatmapgl": [
           {
            "colorbar": {
             "outlinewidth": 0,
             "ticks": ""
            },
            "colorscale": [
             [
              0.0,
              "#0d0887"
             ],
             [
              0.1111111111111111,
              "#46039f"
             ],
             [
              0.2222222222222222,
              "#7201a8"
             ],
             [
              0.3333333333333333,
              "#9c179e"
             ],
             [
              0.4444444444444444,
              "#bd3786"
             ],
             [
              0.5555555555555556,
              "#d8576b"
             ],
             [
              0.6666666666666666,
              "#ed7953"
             ],
             [
              0.7777777777777778,
              "#fb9f3a"
             ],
             [
              0.8888888888888888,
              "#fdca26"
             ],
             [
              1.0,
              "#f0f921"
             ]
            ],
            "type": "heatmapgl"
           }
          ],
          "histogram": [
           {
            "marker": {
             "colorbar": {
              "outlinewidth": 0,
              "ticks": ""
             }
            },
            "type": "histogram"
           }
          ],
          "histogram2d": [
           {
            "colorbar": {
             "outlinewidth": 0,
             "ticks": ""
            },
            "colorscale": [
             [
              0.0,
              "#0d0887"
             ],
             [
              0.1111111111111111,
              "#46039f"
             ],
             [
              0.2222222222222222,
              "#7201a8"
             ],
             [
              0.3333333333333333,
              "#9c179e"
             ],
             [
              0.4444444444444444,
              "#bd3786"
             ],
             [
              0.5555555555555556,
              "#d8576b"
             ],
             [
              0.6666666666666666,
              "#ed7953"
             ],
             [
              0.7777777777777778,
              "#fb9f3a"
             ],
             [
              0.8888888888888888,
              "#fdca26"
             ],
             [
              1.0,
              "#f0f921"
             ]
            ],
            "type": "histogram2d"
           }
          ],
          "histogram2dcontour": [
           {
            "colorbar": {
             "outlinewidth": 0,
             "ticks": ""
            },
            "colorscale": [
             [
              0.0,
              "#0d0887"
             ],
             [
              0.1111111111111111,
              "#46039f"
             ],
             [
              0.2222222222222222,
              "#7201a8"
             ],
             [
              0.3333333333333333,
              "#9c179e"
             ],
             [
              0.4444444444444444,
              "#bd3786"
             ],
             [
              0.5555555555555556,
              "#d8576b"
             ],
             [
              0.6666666666666666,
              "#ed7953"
             ],
             [
              0.7777777777777778,
              "#fb9f3a"
             ],
             [
              0.8888888888888888,
              "#fdca26"
             ],
             [
              1.0,
              "#f0f921"
             ]
            ],
            "type": "histogram2dcontour"
           }
          ],
          "mesh3d": [
           {
            "colorbar": {
             "outlinewidth": 0,
             "ticks": ""
            },
            "type": "mesh3d"
           }
          ],
          "parcoords": [
           {
            "line": {
             "colorbar": {
              "outlinewidth": 0,
              "ticks": ""
             }
            },
            "type": "parcoords"
           }
          ],
          "pie": [
           {
            "automargin": true,
            "type": "pie"
           }
          ],
          "scatter": [
           {
            "marker": {
             "colorbar": {
              "outlinewidth": 0,
              "ticks": ""
             }
            },
            "type": "scatter"
           }
          ],
          "scatter3d": [
           {
            "line": {
             "colorbar": {
              "outlinewidth": 0,
              "ticks": ""
             }
            },
            "marker": {
             "colorbar": {
              "outlinewidth": 0,
              "ticks": ""
             }
            },
            "type": "scatter3d"
           }
          ],
          "scattercarpet": [
           {
            "marker": {
             "colorbar": {
              "outlinewidth": 0,
              "ticks": ""
             }
            },
            "type": "scattercarpet"
           }
          ],
          "scattergeo": [
           {
            "marker": {
             "colorbar": {
              "outlinewidth": 0,
              "ticks": ""
             }
            },
            "type": "scattergeo"
           }
          ],
          "scattergl": [
           {
            "marker": {
             "colorbar": {
              "outlinewidth": 0,
              "ticks": ""
             }
            },
            "type": "scattergl"
           }
          ],
          "scattermapbox": [
           {
            "marker": {
             "colorbar": {
              "outlinewidth": 0,
              "ticks": ""
             }
            },
            "type": "scattermapbox"
           }
          ],
          "scatterpolar": [
           {
            "marker": {
             "colorbar": {
              "outlinewidth": 0,
              "ticks": ""
             }
            },
            "type": "scatterpolar"
           }
          ],
          "scatterpolargl": [
           {
            "marker": {
             "colorbar": {
              "outlinewidth": 0,
              "ticks": ""
             }
            },
            "type": "scatterpolargl"
           }
          ],
          "scatterternary": [
           {
            "marker": {
             "colorbar": {
              "outlinewidth": 0,
              "ticks": ""
             }
            },
            "type": "scatterternary"
           }
          ],
          "surface": [
           {
            "colorbar": {
             "outlinewidth": 0,
             "ticks": ""
            },
            "colorscale": [
             [
              0.0,
              "#0d0887"
             ],
             [
              0.1111111111111111,
              "#46039f"
             ],
             [
              0.2222222222222222,
              "#7201a8"
             ],
             [
              0.3333333333333333,
              "#9c179e"
             ],
             [
              0.4444444444444444,
              "#bd3786"
             ],
             [
              0.5555555555555556,
              "#d8576b"
             ],
             [
              0.6666666666666666,
              "#ed7953"
             ],
             [
              0.7777777777777778,
              "#fb9f3a"
             ],
             [
              0.8888888888888888,
              "#fdca26"
             ],
             [
              1.0,
              "#f0f921"
             ]
            ],
            "type": "surface"
           }
          ],
          "table": [
           {
            "cells": {
             "fill": {
              "color": "#EBF0F8"
             },
             "line": {
              "color": "white"
             }
            },
            "header": {
             "fill": {
              "color": "#C8D4E3"
             },
             "line": {
              "color": "white"
             }
            },
            "type": "table"
           }
          ]
         },
         "layout": {
          "annotationdefaults": {
           "arrowcolor": "#2a3f5f",
           "arrowhead": 0,
           "arrowwidth": 1
          },
          "autotypenumbers": "strict",
          "coloraxis": {
           "colorbar": {
            "outlinewidth": 0,
            "ticks": ""
           }
          },
          "colorscale": {
           "diverging": [
            [
             0,
             "#8e0152"
            ],
            [
             0.1,
             "#c51b7d"
            ],
            [
             0.2,
             "#de77ae"
            ],
            [
             0.3,
             "#f1b6da"
            ],
            [
             0.4,
             "#fde0ef"
            ],
            [
             0.5,
             "#f7f7f7"
            ],
            [
             0.6,
             "#e6f5d0"
            ],
            [
             0.7,
             "#b8e186"
            ],
            [
             0.8,
             "#7fbc41"
            ],
            [
             0.9,
             "#4d9221"
            ],
            [
             1,
             "#276419"
            ]
           ],
           "sequential": [
            [
             0.0,
             "#0d0887"
            ],
            [
             0.1111111111111111,
             "#46039f"
            ],
            [
             0.2222222222222222,
             "#7201a8"
            ],
            [
             0.3333333333333333,
             "#9c179e"
            ],
            [
             0.4444444444444444,
             "#bd3786"
            ],
            [
             0.5555555555555556,
             "#d8576b"
            ],
            [
             0.6666666666666666,
             "#ed7953"
            ],
            [
             0.7777777777777778,
             "#fb9f3a"
            ],
            [
             0.8888888888888888,
             "#fdca26"
            ],
            [
             1.0,
             "#f0f921"
            ]
           ],
           "sequentialminus": [
            [
             0.0,
             "#0d0887"
            ],
            [
             0.1111111111111111,
             "#46039f"
            ],
            [
             0.2222222222222222,
             "#7201a8"
            ],
            [
             0.3333333333333333,
             "#9c179e"
            ],
            [
             0.4444444444444444,
             "#bd3786"
            ],
            [
             0.5555555555555556,
             "#d8576b"
            ],
            [
             0.6666666666666666,
             "#ed7953"
            ],
            [
             0.7777777777777778,
             "#fb9f3a"
            ],
            [
             0.8888888888888888,
             "#fdca26"
            ],
            [
             1.0,
             "#f0f921"
            ]
           ]
          },
          "colorway": [
           "#636efa",
           "#EF553B",
           "#00cc96",
           "#ab63fa",
           "#FFA15A",
           "#19d3f3",
           "#FF6692",
           "#B6E880",
           "#FF97FF",
           "#FECB52"
          ],
          "font": {
           "color": "#2a3f5f"
          },
          "geo": {
           "bgcolor": "white",
           "lakecolor": "white",
           "landcolor": "#E5ECF6",
           "showlakes": true,
           "showland": true,
           "subunitcolor": "white"
          },
          "hoverlabel": {
           "align": "left"
          },
          "hovermode": "closest",
          "mapbox": {
           "style": "light"
          },
          "paper_bgcolor": "white",
          "plot_bgcolor": "#E5ECF6",
          "polar": {
           "angularaxis": {
            "gridcolor": "white",
            "linecolor": "white",
            "ticks": ""
           },
           "bgcolor": "#E5ECF6",
           "radialaxis": {
            "gridcolor": "white",
            "linecolor": "white",
            "ticks": ""
           }
          },
          "scene": {
           "xaxis": {
            "backgroundcolor": "#E5ECF6",
            "gridcolor": "white",
            "gridwidth": 2,
            "linecolor": "white",
            "showbackground": true,
            "ticks": "",
            "zerolinecolor": "white"
           },
           "yaxis": {
            "backgroundcolor": "#E5ECF6",
            "gridcolor": "white",
            "gridwidth": 2,
            "linecolor": "white",
            "showbackground": true,
            "ticks": "",
            "zerolinecolor": "white"
           },
           "zaxis": {
            "backgroundcolor": "#E5ECF6",
            "gridcolor": "white",
            "gridwidth": 2,
            "linecolor": "white",
            "showbackground": true,
            "ticks": "",
            "zerolinecolor": "white"
           }
          },
          "shapedefaults": {
           "line": {
            "color": "#2a3f5f"
           }
          },
          "ternary": {
           "aaxis": {
            "gridcolor": "white",
            "linecolor": "white",
            "ticks": ""
           },
           "baxis": {
            "gridcolor": "white",
            "linecolor": "white",
            "ticks": ""
           },
           "bgcolor": "#E5ECF6",
           "caxis": {
            "gridcolor": "white",
            "linecolor": "white",
            "ticks": ""
           }
          },
          "title": {
           "x": 0.05
          },
          "xaxis": {
           "automargin": true,
           "gridcolor": "white",
           "linecolor": "white",
           "ticks": "",
           "title": {
            "standoff": 15
           },
           "zerolinecolor": "white",
           "zerolinewidth": 2
          },
          "yaxis": {
           "automargin": true,
           "gridcolor": "white",
           "linecolor": "white",
           "ticks": "",
           "title": {
            "standoff": 15
           },
           "zerolinecolor": "white",
           "zerolinewidth": 2
          }
         }
        },
        "title": {
         "text": "Attività dei contatti cumulata",
         "x": 0.5,
         "xanchor": "center",
         "y": 0.85
        },
        "xaxis": {
         "tickangle": 45
        },
        "yaxis": {
         "dtick": 0.1,
         "tick0": 0,
         "tickmode": "linear",
         "title": {
          "text": "Probabilità dell'attività"
         }
        }
       }
      },
      "text/html": "<div>                            <div id=\"6fbce859-f2da-4b20-9a49-c1eae676a3ae\" class=\"plotly-graph-div\" style=\"height:525px; width:100%;\"></div>            <script type=\"text/javascript\">                require([\"plotly\"], function(Plotly) {                    window.PLOTLYENV=window.PLOTLYENV || {};                                    if (document.getElementById(\"6fbce859-f2da-4b20-9a49-c1eae676a3ae\")) {                    Plotly.newPlot(                        \"6fbce859-f2da-4b20-9a49-c1eae676a3ae\",                        [{\"marker\": {\"color\": \"#636EFA\"}, \"name\": \"Markers and Text\", \"showlegend\": false, \"type\": \"bar\", \"x\": [\"Hillary Clinton\", \"Huma Abedin\", \"Cheryl Mills\", \"Jake Sullivan\", \"Sidney Blumenthal\", \"Lauren Jiloty\", \"Philippe Reines\", \"Lona Valmoro\", \"Anne-Marie Slaughter\", \"Richard Verma\", \"Melanne Verveer\", \"Lissa Muscatine\", \"Judith McHale\", \"Strobe Talbott\", \"Betsy Ebeling\"], \"y\": [0.25673758865248225, 0.18529980657640233, 0.16982591876208897, 0.11231463571889104, 0.04809800128949065, 0.04397163120567376, 0.020502901353965184, 0.019987105093488073, 0.016763378465506126, 0.01521598968407479, 0.012379110251450677, 0.01096067053513862, 0.010058027079303675, 0.004771115409413282, 0.003997421018697615]}, {\"mode\": \"text+lines+markers\", \"showlegend\": false, \"text\": [\"1\", \"2\", \"3\", \"4\", \"5\", \"6\", \"7\", \"8\", \"9\", \"10\", \"11\", \"12\", \"13\", \"14\", \"15\"], \"textposition\": \"top center\", \"type\": \"scatter\", \"x\": [\"Hillary Clinton\", \"Huma Abedin\", \"Cheryl Mills\", \"Jake Sullivan\", \"Sidney Blumenthal\", \"Lauren Jiloty\", \"Philippe Reines\", \"Lona Valmoro\", \"Anne-Marie Slaughter\", \"Richard Verma\", \"Melanne Verveer\", \"Lissa Muscatine\", \"Judith McHale\", \"Strobe Talbott\", \"Betsy Ebeling\"], \"y\": [0.25673758865248225, 0.4420373952288846, 0.6118633139909735, 0.7241779497098645, 0.7722759509993551, 0.8162475822050288, 0.836750483558994, 0.8567375886524821, 0.8735009671179882, 0.888716956802063, 0.9010960670535136, 0.9120567375886522, 0.9221147646679559, 0.9268858800773693, 0.9308833010960669]}],                        {\"template\": {\"data\": {\"bar\": [{\"error_x\": {\"color\": \"#2a3f5f\"}, \"error_y\": {\"color\": \"#2a3f5f\"}, \"marker\": {\"line\": {\"color\": \"#E5ECF6\", \"width\": 0.5}}, \"type\": \"bar\"}], \"barpolar\": [{\"marker\": {\"line\": {\"color\": \"#E5ECF6\", \"width\": 0.5}}, \"type\": \"barpolar\"}], \"carpet\": [{\"aaxis\": {\"endlinecolor\": \"#2a3f5f\", \"gridcolor\": \"white\", \"linecolor\": \"white\", \"minorgridcolor\": \"white\", \"startlinecolor\": \"#2a3f5f\"}, \"baxis\": {\"endlinecolor\": \"#2a3f5f\", \"gridcolor\": \"white\", \"linecolor\": \"white\", \"minorgridcolor\": \"white\", \"startlinecolor\": \"#2a3f5f\"}, \"type\": \"carpet\"}], \"choropleth\": [{\"colorbar\": {\"outlinewidth\": 0, \"ticks\": \"\"}, \"type\": \"choropleth\"}], \"contour\": [{\"colorbar\": {\"outlinewidth\": 0, \"ticks\": \"\"}, \"colorscale\": [[0.0, \"#0d0887\"], [0.1111111111111111, \"#46039f\"], [0.2222222222222222, \"#7201a8\"], [0.3333333333333333, \"#9c179e\"], [0.4444444444444444, \"#bd3786\"], [0.5555555555555556, \"#d8576b\"], [0.6666666666666666, \"#ed7953\"], [0.7777777777777778, \"#fb9f3a\"], [0.8888888888888888, \"#fdca26\"], [1.0, \"#f0f921\"]], \"type\": \"contour\"}], \"contourcarpet\": [{\"colorbar\": {\"outlinewidth\": 0, \"ticks\": \"\"}, \"type\": \"contourcarpet\"}], \"heatmap\": [{\"colorbar\": {\"outlinewidth\": 0, \"ticks\": \"\"}, \"colorscale\": [[0.0, \"#0d0887\"], [0.1111111111111111, \"#46039f\"], [0.2222222222222222, \"#7201a8\"], [0.3333333333333333, \"#9c179e\"], [0.4444444444444444, \"#bd3786\"], [0.5555555555555556, \"#d8576b\"], [0.6666666666666666, \"#ed7953\"], [0.7777777777777778, \"#fb9f3a\"], [0.8888888888888888, \"#fdca26\"], [1.0, \"#f0f921\"]], \"type\": \"heatmap\"}], \"heatmapgl\": [{\"colorbar\": {\"outlinewidth\": 0, \"ticks\": \"\"}, \"colorscale\": [[0.0, \"#0d0887\"], [0.1111111111111111, \"#46039f\"], [0.2222222222222222, \"#7201a8\"], [0.3333333333333333, \"#9c179e\"], [0.4444444444444444, \"#bd3786\"], [0.5555555555555556, \"#d8576b\"], [0.6666666666666666, \"#ed7953\"], [0.7777777777777778, \"#fb9f3a\"], [0.8888888888888888, \"#fdca26\"], [1.0, \"#f0f921\"]], \"type\": \"heatmapgl\"}], \"histogram\": [{\"marker\": {\"colorbar\": {\"outlinewidth\": 0, \"ticks\": \"\"}}, \"type\": \"histogram\"}], \"histogram2d\": [{\"colorbar\": {\"outlinewidth\": 0, \"ticks\": \"\"}, \"colorscale\": [[0.0, \"#0d0887\"], [0.1111111111111111, \"#46039f\"], [0.2222222222222222, \"#7201a8\"], [0.3333333333333333, \"#9c179e\"], [0.4444444444444444, \"#bd3786\"], [0.5555555555555556, \"#d8576b\"], [0.6666666666666666, \"#ed7953\"], [0.7777777777777778, \"#fb9f3a\"], [0.8888888888888888, \"#fdca26\"], [1.0, \"#f0f921\"]], \"type\": \"histogram2d\"}], \"histogram2dcontour\": [{\"colorbar\": {\"outlinewidth\": 0, \"ticks\": \"\"}, \"colorscale\": [[0.0, \"#0d0887\"], [0.1111111111111111, \"#46039f\"], [0.2222222222222222, \"#7201a8\"], [0.3333333333333333, \"#9c179e\"], [0.4444444444444444, \"#bd3786\"], [0.5555555555555556, \"#d8576b\"], [0.6666666666666666, \"#ed7953\"], [0.7777777777777778, \"#fb9f3a\"], [0.8888888888888888, \"#fdca26\"], [1.0, \"#f0f921\"]], \"type\": \"histogram2dcontour\"}], \"mesh3d\": [{\"colorbar\": {\"outlinewidth\": 0, \"ticks\": \"\"}, \"type\": \"mesh3d\"}], \"parcoords\": [{\"line\": {\"colorbar\": {\"outlinewidth\": 0, \"ticks\": \"\"}}, \"type\": \"parcoords\"}], \"pie\": [{\"automargin\": true, \"type\": \"pie\"}], \"scatter\": [{\"marker\": {\"colorbar\": {\"outlinewidth\": 0, \"ticks\": \"\"}}, \"type\": \"scatter\"}], \"scatter3d\": [{\"line\": {\"colorbar\": {\"outlinewidth\": 0, \"ticks\": \"\"}}, \"marker\": {\"colorbar\": {\"outlinewidth\": 0, \"ticks\": \"\"}}, \"type\": \"scatter3d\"}], \"scattercarpet\": [{\"marker\": {\"colorbar\": {\"outlinewidth\": 0, \"ticks\": \"\"}}, \"type\": \"scattercarpet\"}], \"scattergeo\": [{\"marker\": {\"colorbar\": {\"outlinewidth\": 0, \"ticks\": \"\"}}, \"type\": \"scattergeo\"}], \"scattergl\": [{\"marker\": {\"colorbar\": {\"outlinewidth\": 0, \"ticks\": \"\"}}, \"type\": \"scattergl\"}], \"scattermapbox\": [{\"marker\": {\"colorbar\": {\"outlinewidth\": 0, \"ticks\": \"\"}}, \"type\": \"scattermapbox\"}], \"scatterpolar\": [{\"marker\": {\"colorbar\": {\"outlinewidth\": 0, \"ticks\": \"\"}}, \"type\": \"scatterpolar\"}], \"scatterpolargl\": [{\"marker\": {\"colorbar\": {\"outlinewidth\": 0, \"ticks\": \"\"}}, \"type\": \"scatterpolargl\"}], \"scatterternary\": [{\"marker\": {\"colorbar\": {\"outlinewidth\": 0, \"ticks\": \"\"}}, \"type\": \"scatterternary\"}], \"surface\": [{\"colorbar\": {\"outlinewidth\": 0, \"ticks\": \"\"}, \"colorscale\": [[0.0, \"#0d0887\"], [0.1111111111111111, \"#46039f\"], [0.2222222222222222, \"#7201a8\"], [0.3333333333333333, \"#9c179e\"], [0.4444444444444444, \"#bd3786\"], [0.5555555555555556, \"#d8576b\"], [0.6666666666666666, \"#ed7953\"], [0.7777777777777778, \"#fb9f3a\"], [0.8888888888888888, \"#fdca26\"], [1.0, \"#f0f921\"]], \"type\": \"surface\"}], \"table\": [{\"cells\": {\"fill\": {\"color\": \"#EBF0F8\"}, \"line\": {\"color\": \"white\"}}, \"header\": {\"fill\": {\"color\": \"#C8D4E3\"}, \"line\": {\"color\": \"white\"}}, \"type\": \"table\"}]}, \"layout\": {\"annotationdefaults\": {\"arrowcolor\": \"#2a3f5f\", \"arrowhead\": 0, \"arrowwidth\": 1}, \"autotypenumbers\": \"strict\", \"coloraxis\": {\"colorbar\": {\"outlinewidth\": 0, \"ticks\": \"\"}}, \"colorscale\": {\"diverging\": [[0, \"#8e0152\"], [0.1, \"#c51b7d\"], [0.2, \"#de77ae\"], [0.3, \"#f1b6da\"], [0.4, \"#fde0ef\"], [0.5, \"#f7f7f7\"], [0.6, \"#e6f5d0\"], [0.7, \"#b8e186\"], [0.8, \"#7fbc41\"], [0.9, \"#4d9221\"], [1, \"#276419\"]], \"sequential\": [[0.0, \"#0d0887\"], [0.1111111111111111, \"#46039f\"], [0.2222222222222222, \"#7201a8\"], [0.3333333333333333, \"#9c179e\"], [0.4444444444444444, \"#bd3786\"], [0.5555555555555556, \"#d8576b\"], [0.6666666666666666, \"#ed7953\"], [0.7777777777777778, \"#fb9f3a\"], [0.8888888888888888, \"#fdca26\"], [1.0, \"#f0f921\"]], \"sequentialminus\": [[0.0, \"#0d0887\"], [0.1111111111111111, \"#46039f\"], [0.2222222222222222, \"#7201a8\"], [0.3333333333333333, \"#9c179e\"], [0.4444444444444444, \"#bd3786\"], [0.5555555555555556, \"#d8576b\"], [0.6666666666666666, \"#ed7953\"], [0.7777777777777778, \"#fb9f3a\"], [0.8888888888888888, \"#fdca26\"], [1.0, \"#f0f921\"]]}, \"colorway\": [\"#636efa\", \"#EF553B\", \"#00cc96\", \"#ab63fa\", \"#FFA15A\", \"#19d3f3\", \"#FF6692\", \"#B6E880\", \"#FF97FF\", \"#FECB52\"], \"font\": {\"color\": \"#2a3f5f\"}, \"geo\": {\"bgcolor\": \"white\", \"lakecolor\": \"white\", \"landcolor\": \"#E5ECF6\", \"showlakes\": true, \"showland\": true, \"subunitcolor\": \"white\"}, \"hoverlabel\": {\"align\": \"left\"}, \"hovermode\": \"closest\", \"mapbox\": {\"style\": \"light\"}, \"paper_bgcolor\": \"white\", \"plot_bgcolor\": \"#E5ECF6\", \"polar\": {\"angularaxis\": {\"gridcolor\": \"white\", \"linecolor\": \"white\", \"ticks\": \"\"}, \"bgcolor\": \"#E5ECF6\", \"radialaxis\": {\"gridcolor\": \"white\", \"linecolor\": \"white\", \"ticks\": \"\"}}, \"scene\": {\"xaxis\": {\"backgroundcolor\": \"#E5ECF6\", \"gridcolor\": \"white\", \"gridwidth\": 2, \"linecolor\": \"white\", \"showbackground\": true, \"ticks\": \"\", \"zerolinecolor\": \"white\"}, \"yaxis\": {\"backgroundcolor\": \"#E5ECF6\", \"gridcolor\": \"white\", \"gridwidth\": 2, \"linecolor\": \"white\", \"showbackground\": true, \"ticks\": \"\", \"zerolinecolor\": \"white\"}, \"zaxis\": {\"backgroundcolor\": \"#E5ECF6\", \"gridcolor\": \"white\", \"gridwidth\": 2, \"linecolor\": \"white\", \"showbackground\": true, \"ticks\": \"\", \"zerolinecolor\": \"white\"}}, \"shapedefaults\": {\"line\": {\"color\": \"#2a3f5f\"}}, \"ternary\": {\"aaxis\": {\"gridcolor\": \"white\", \"linecolor\": \"white\", \"ticks\": \"\"}, \"baxis\": {\"gridcolor\": \"white\", \"linecolor\": \"white\", \"ticks\": \"\"}, \"bgcolor\": \"#E5ECF6\", \"caxis\": {\"gridcolor\": \"white\", \"linecolor\": \"white\", \"ticks\": \"\"}}, \"title\": {\"x\": 0.05}, \"xaxis\": {\"automargin\": true, \"gridcolor\": \"white\", \"linecolor\": \"white\", \"ticks\": \"\", \"title\": {\"standoff\": 15}, \"zerolinecolor\": \"white\", \"zerolinewidth\": 2}, \"yaxis\": {\"automargin\": true, \"gridcolor\": \"white\", \"linecolor\": \"white\", \"ticks\": \"\", \"title\": {\"standoff\": 15}, \"zerolinecolor\": \"white\", \"zerolinewidth\": 2}}}, \"title\": {\"text\": \"Attivit\\u00e0 dei contatti cumulata\", \"x\": 0.5, \"xanchor\": \"center\", \"y\": 0.85}, \"xaxis\": {\"tickangle\": 45}, \"yaxis\": {\"dtick\": 0.1, \"tick0\": 0, \"tickmode\": \"linear\", \"title\": {\"text\": \"Probabilit\\u00e0 dell'attivit\\u00e0\"}}},                        {\"responsive\": true}                    ).then(function(){\n                            \nvar gd = document.getElementById('6fbce859-f2da-4b20-9a49-c1eae676a3ae');\nvar x = new MutationObserver(function (mutations, observer) {{\n        var display = window.getComputedStyle(gd).display;\n        if (!display || display === 'none') {{\n            console.log([gd, 'removed!']);\n            Plotly.purge(gd);\n            observer.disconnect();\n        }}\n}});\n\n// Listen for the removal of the full notebook cells\nvar notebookContainer = gd.closest('#notebook-container');\nif (notebookContainer) {{\n    x.observe(notebookContainer, {childList: true});\n}}\n\n// Listen for the clearing of the current output cell\nvar outputEl = gd.closest('.output');\nif (outputEl) {{\n    x.observe(outputEl, {childList: true});\n}}\n\n                        })                };                });            </script>        </div>"
     },
     "metadata": {},
     "output_type": "display_data"
    }
   ],
   "source": [
    "top_people = df['SenderFullName'].value_counts(normalize=True)[:TOP_K]\n",
    "cum_sum = np.cumsum(top_people)\n",
    "\n",
    "chart2 = go.Figure()\n",
    "\n",
    "chart2.add_trace(go.Bar(\n",
    "    x=cum_sum.index[:TOP_K],\n",
    "    y=top_people[:TOP_K],\n",
    "    name=\"Markers and Text\",\n",
    "    marker_color=\"#636EFA\",\n",
    "    showlegend=False\n",
    "))\n",
    "\n",
    "chart2.add_trace(go.Scatter(\n",
    "    x=cum_sum.index[:TOP_K],\n",
    "    y=cum_sum,\n",
    "    mode=\"text+lines+markers\",\n",
    "    #name = \"Cumulata\",\n",
    "    text=[i for i in range(1, TOP_K + 1)],\n",
    "    textposition=\"top center\",\n",
    "    showlegend=False\n",
    "))\n",
    "\n",
    "chart2.update_xaxes(\n",
    "    tickangle = 45\n",
    ")\n",
    "\n",
    "chart2.update_yaxes(\n",
    "    title_text = \"Probabilità dell'attività\",\n",
    ")\n",
    "\n",
    "chart2.update_layout(\n",
    "    title=dict(\n",
    "        text=f'Attività dei contatti cumulata',\n",
    "        xanchor='center',\n",
    "        x=0.5, y=.85),\n",
    "    yaxis = dict(\n",
    "        tickmode = 'linear',\n",
    "        tick0 = 0,\n",
    "        dtick = 0.1,\n",
    "    )\n",
    ")\n",
    "chart2.write_image(\"assets/cumulative_activity.png\", scale=4)\n",
    "chart2.show()"
   ]
  },
  {
   "cell_type": "code",
   "execution_count": 23,
   "metadata": {},
   "outputs": [
    {
     "data": {
      "application/vnd.plotly.v1+json": {
       "config": {
        "plotlyServerURL": "https://plot.ly"
       },
       "data": [
        {
         "branchvalues": "total",
         "domain": {
          "x": [
           0.0,
           1.0
          ],
          "y": [
           0.0,
           1.0
          ]
         },
         "hovertemplate": "labels=%{label}<br>count=%{value}<br>parent=%{parent}<br>id=%{id}<extra></extra>",
         "ids": [
          "AGNA USEMB Kabul Afghanistan",
          "American Beverage Association",
          "Andrew Shapiro",
          "Anne-Marie Slaughter",
          "Anthony Lake",
          "Arturo Valenzuela",
          "Barbara Mikulski",
          "Betsy Ebeling",
          "Burns Strider",
          "Capricia Marshall",
          "Caroline Adler",
          "Case Button",
          "Cecile Richards",
          "Chad Weston",
          "Cherie Blair",
          "Cheryl Mills",
          "Chester Crocker",
          "Christopher Butzgy",
          "Christopher Hill",
          "Claire Coleman",
          "Colin Powell",
          "Courtney Beale",
          "Craig Kelly",
          "Dana Hyde",
          "Daniel Baer",
          "Daniel Inonye",
          "Daniel Schwerin",
          "Danielle Brian",
          "David Axelrod",
          "David Brock",
          "David Garten",
          "David Miliband",
          "Derek Chollet",
          "Elizabeth Drew",
          "Ellen Tauscher",
          "Eni Faleomavaega",
          "Eric Woodard",
          "Esther Brimmer",
          "FINCA International",
          "G Wills",
          "G. Lou de Bac",
          "G. Wills",
          "George Mitchell",
          "Gina Glantz",
          "Haiti",
          "Harold Hongju Koh",
          "Heintz",
          "Hillary Clinton",
          "Huma Abedin",
          "Ian Kelly",
          "J. Finkle",
          "JAMA",
          "Jackie Newmyer",
          "Jacob Lew",
          "Jake Sullivan",
          "James McGovern",
          "James Smith",
          "James Steinberg",
          "Jeffrey Farrow",
          "Jeffrey Feltman",
          "Jim Hoagland",
          "Joanne Laszczych",
          "John Podesta",
          "Johnnie Carson",
          "Jonathan Prince",
          "Joshua Daniel",
          "Judith Kieffer",
          "Judith McHale",
          "KPK",
          "Kris Balderston",
          "Kurt Campbell",
          "L. Rosenberger",
          "Lauren Jiloty",
          "Laurie Rubiner",
          "Lee Brown",
          "Lee Feinstein",
          "Linda Dewan",
          "Lissa Muscatine",
          "Lois Quam",
          "Lona Valmoro",
          "Luis CdeBaca",
          "M. Albright",
          "Madeleine Albright",
          "Maria Calivis",
          "Maria Otero",
          "Marianne Scott",
          "Maura Pally",
          "Max Baucus",
          "Megan Rooney",
          "Melanne Verveer",
          "Michael Fuchs",
          "Michael Posner",
          "Miguel Rodriguez",
          "Monica Hanley",
          "NHLA",
          "Neera Tanden",
          "New York Times",
          "Nicholas Norman",
          "Nora Toiv",
          "Nora Tov",
          "Opinion Research",
          "PVervee",
          "Patrick Kennedy",
          "Paul Collier",
          "Paul Jones",
          "Philip Crowley",
          "Philip Gordon",
          "Philippe Reines",
          "Phillip Crowley",
          "Piper Campbell",
          "Prime Minister",
          "Rajiv Shah",
          "Recos",
          "Reines Philippe",
          "Reta Jo Lewis",
          "Richard Verma",
          "Robert Blake",
          "Robert Danford",
          "Robert Hormats",
          "Robert Russo",
          "S. Akbar Zaidi",
          "SRGIA",
          "STATE",
          "Samuel (\"Sandy\") Berger",
          "Samuel Berger",
          "Sidney Blumenthal",
          "Strobe Talbott",
          "Susan Rice",
          "Thomas Donilon",
          "Thomas Nides",
          "Thomas Shannon",
          "Todd Stern",
          "Tomicah Tillemann",
          "Tsakina Elbegdori",
          "U.S. Global Leadership Coalition",
          "Victoria Nuland",
          "Voda Ebeling",
          "Washington Post",
          "Wendy Sherman",
          "Werner Ilic",
          "White House",
          "William Burns",
          "Zachary Iscol",
          "aclb",
          "alcb",
          "latimes.com",
          "postmaster@state.gov",
          "rooneym@state.gov"
         ],
         "labels": [
          "AGNA USEMB Kabul Afghanistan",
          "American Beverage Association",
          "Andrew Shapiro",
          "Anne-Marie Slaughter",
          "Anthony Lake",
          "Arturo Valenzuela",
          "Barbara Mikulski",
          "Betsy Ebeling",
          "Burns Strider",
          "Capricia Marshall",
          "Caroline Adler",
          "Case Button",
          "Cecile Richards",
          "Chad Weston",
          "Cherie Blair",
          "Cheryl Mills",
          "Chester Crocker",
          "Christopher Butzgy",
          "Christopher Hill",
          "Claire Coleman",
          "Colin Powell",
          "Courtney Beale",
          "Craig Kelly",
          "Dana Hyde",
          "Daniel Baer",
          "Daniel Inonye",
          "Daniel Schwerin",
          "Danielle Brian",
          "David Axelrod",
          "David Brock",
          "David Garten",
          "David Miliband",
          "Derek Chollet",
          "Elizabeth Drew",
          "Ellen Tauscher",
          "Eni Faleomavaega",
          "Eric Woodard",
          "Esther Brimmer",
          "FINCA International",
          "G Wills",
          "G. Lou de Bac",
          "G. Wills",
          "George Mitchell",
          "Gina Glantz",
          "Haiti",
          "Harold Hongju Koh",
          "Heintz",
          "Hillary Clinton",
          "Huma Abedin",
          "Ian Kelly",
          "J. Finkle",
          "JAMA",
          "Jackie Newmyer",
          "Jacob Lew",
          "Jake Sullivan",
          "James McGovern",
          "James Smith",
          "James Steinberg",
          "Jeffrey Farrow",
          "Jeffrey Feltman",
          "Jim Hoagland",
          "Joanne Laszczych",
          "John Podesta",
          "Johnnie Carson",
          "Jonathan Prince",
          "Joshua Daniel",
          "Judith Kieffer",
          "Judith McHale",
          "KPK",
          "Kris Balderston",
          "Kurt Campbell",
          "L. Rosenberger",
          "Lauren Jiloty",
          "Laurie Rubiner",
          "Lee Brown",
          "Lee Feinstein",
          "Linda Dewan",
          "Lissa Muscatine",
          "Lois Quam",
          "Lona Valmoro",
          "Luis CdeBaca",
          "M. Albright",
          "Madeleine Albright",
          "Maria Calivis",
          "Maria Otero",
          "Marianne Scott",
          "Maura Pally",
          "Max Baucus",
          "Megan Rooney",
          "Melanne Verveer",
          "Michael Fuchs",
          "Michael Posner",
          "Miguel Rodriguez",
          "Monica Hanley",
          "NHLA",
          "Neera Tanden",
          "New York Times",
          "Nicholas Norman",
          "Nora Toiv",
          "Nora Tov",
          "Opinion Research",
          "PVervee",
          "Patrick Kennedy",
          "Paul Collier",
          "Paul Jones",
          "Philip Crowley",
          "Philip Gordon",
          "Philippe Reines",
          "Phillip Crowley",
          "Piper Campbell",
          "Prime Minister",
          "Rajiv Shah",
          "Recos",
          "Reines Philippe",
          "Reta Jo Lewis",
          "Richard Verma",
          "Robert Blake",
          "Robert Danford",
          "Robert Hormats",
          "Robert Russo",
          "S. Akbar Zaidi",
          "SRGIA",
          "STATE",
          "Samuel (\"Sandy\") Berger",
          "Samuel Berger",
          "Sidney Blumenthal",
          "Strobe Talbott",
          "Susan Rice",
          "Thomas Donilon",
          "Thomas Nides",
          "Thomas Shannon",
          "Todd Stern",
          "Tomicah Tillemann",
          "Tsakina Elbegdori",
          "U.S. Global Leadership Coalition",
          "Victoria Nuland",
          "Voda Ebeling",
          "Washington Post",
          "Wendy Sherman",
          "Werner Ilic",
          "White House",
          "William Burns",
          "Zachary Iscol",
          "aclb",
          "alcb",
          "latimes.com",
          "postmaster@state.gov",
          "rooneym@state.gov"
         ],
         "name": "",
         "parents": [
          "",
          "",
          "",
          "",
          "",
          "",
          "",
          "",
          "",
          "",
          "",
          "",
          "",
          "",
          "",
          "",
          "",
          "",
          "",
          "",
          "",
          "",
          "",
          "",
          "",
          "",
          "",
          "",
          "",
          "",
          "",
          "",
          "",
          "",
          "",
          "",
          "",
          "",
          "",
          "",
          "",
          "",
          "",
          "",
          "",
          "",
          "",
          "",
          "",
          "",
          "",
          "",
          "",
          "",
          "",
          "",
          "",
          "",
          "",
          "",
          "",
          "",
          "",
          "",
          "",
          "",
          "",
          "",
          "",
          "",
          "",
          "",
          "",
          "",
          "",
          "",
          "",
          "",
          "",
          "",
          "",
          "",
          "",
          "",
          "",
          "",
          "",
          "",
          "",
          "",
          "",
          "",
          "",
          "",
          "",
          "",
          "",
          "",
          "",
          "",
          "",
          "",
          "",
          "",
          "",
          "",
          "",
          "",
          "",
          "",
          "",
          "",
          "",
          "",
          "",
          "",
          "",
          "",
          "",
          "",
          "",
          "",
          "",
          "",
          "",
          "",
          "",
          "",
          "",
          "",
          "",
          "",
          "",
          "",
          "",
          "",
          "",
          "",
          "",
          "",
          "",
          "",
          "",
          "",
          "",
          "",
          "",
          ""
         ],
         "textinfo": "label+percent parent",
         "type": "treemap",
         "values": [
          1,
          1,
          7,
          130,
          1,
          7,
          12,
          31,
          2,
          17,
          2,
          1,
          1,
          1,
          25,
          1317,
          1,
          1,
          1,
          6,
          1,
          3,
          3,
          1,
          5,
          1,
          10,
          2,
          2,
          2,
          1,
          1,
          1,
          1,
          9,
          1,
          1,
          1,
          1,
          1,
          1,
          2,
          6,
          2,
          5,
          15,
          1,
          1991,
          1437,
          1,
          1,
          1,
          10,
          14,
          871,
          2,
          1,
          6,
          10,
          16,
          1,
          4,
          2,
          1,
          1,
          5,
          1,
          78,
          1,
          23,
          14,
          1,
          341,
          1,
          2,
          1,
          1,
          85,
          3,
          155,
          1,
          1,
          1,
          1,
          9,
          1,
          1,
          1,
          10,
          96,
          15,
          1,
          10,
          29,
          1,
          7,
          2,
          1,
          5,
          1,
          1,
          1,
          2,
          1,
          2,
          16,
          4,
          159,
          4,
          1,
          1,
          1,
          1,
          1,
          1,
          118,
          1,
          1,
          1,
          24,
          1,
          1,
          6,
          7,
          4,
          373,
          37,
          3,
          1,
          1,
          1,
          5,
          6,
          1,
          1,
          1,
          4,
          4,
          7,
          1,
          1,
          10,
          1,
          2,
          5,
          1,
          7,
          1
         ]
        }
       ],
       "layout": {
        "height": 500,
        "legend": {
         "tracegroupgap": 0
        },
        "template": {
         "data": {
          "bar": [
           {
            "error_x": {
             "color": "#2a3f5f"
            },
            "error_y": {
             "color": "#2a3f5f"
            },
            "marker": {
             "line": {
              "color": "#E5ECF6",
              "width": 0.5
             }
            },
            "type": "bar"
           }
          ],
          "barpolar": [
           {
            "marker": {
             "line": {
              "color": "#E5ECF6",
              "width": 0.5
             }
            },
            "type": "barpolar"
           }
          ],
          "carpet": [
           {
            "aaxis": {
             "endlinecolor": "#2a3f5f",
             "gridcolor": "white",
             "linecolor": "white",
             "minorgridcolor": "white",
             "startlinecolor": "#2a3f5f"
            },
            "baxis": {
             "endlinecolor": "#2a3f5f",
             "gridcolor": "white",
             "linecolor": "white",
             "minorgridcolor": "white",
             "startlinecolor": "#2a3f5f"
            },
            "type": "carpet"
           }
          ],
          "choropleth": [
           {
            "colorbar": {
             "outlinewidth": 0,
             "ticks": ""
            },
            "type": "choropleth"
           }
          ],
          "contour": [
           {
            "colorbar": {
             "outlinewidth": 0,
             "ticks": ""
            },
            "colorscale": [
             [
              0.0,
              "#0d0887"
             ],
             [
              0.1111111111111111,
              "#46039f"
             ],
             [
              0.2222222222222222,
              "#7201a8"
             ],
             [
              0.3333333333333333,
              "#9c179e"
             ],
             [
              0.4444444444444444,
              "#bd3786"
             ],
             [
              0.5555555555555556,
              "#d8576b"
             ],
             [
              0.6666666666666666,
              "#ed7953"
             ],
             [
              0.7777777777777778,
              "#fb9f3a"
             ],
             [
              0.8888888888888888,
              "#fdca26"
             ],
             [
              1.0,
              "#f0f921"
             ]
            ],
            "type": "contour"
           }
          ],
          "contourcarpet": [
           {
            "colorbar": {
             "outlinewidth": 0,
             "ticks": ""
            },
            "type": "contourcarpet"
           }
          ],
          "heatmap": [
           {
            "colorbar": {
             "outlinewidth": 0,
             "ticks": ""
            },
            "colorscale": [
             [
              0.0,
              "#0d0887"
             ],
             [
              0.1111111111111111,
              "#46039f"
             ],
             [
              0.2222222222222222,
              "#7201a8"
             ],
             [
              0.3333333333333333,
              "#9c179e"
             ],
             [
              0.4444444444444444,
              "#bd3786"
             ],
             [
              0.5555555555555556,
              "#d8576b"
             ],
             [
              0.6666666666666666,
              "#ed7953"
             ],
             [
              0.7777777777777778,
              "#fb9f3a"
             ],
             [
              0.8888888888888888,
              "#fdca26"
             ],
             [
              1.0,
              "#f0f921"
             ]
            ],
            "type": "heatmap"
           }
          ],
          "heatmapgl": [
           {
            "colorbar": {
             "outlinewidth": 0,
             "ticks": ""
            },
            "colorscale": [
             [
              0.0,
              "#0d0887"
             ],
             [
              0.1111111111111111,
              "#46039f"
             ],
             [
              0.2222222222222222,
              "#7201a8"
             ],
             [
              0.3333333333333333,
              "#9c179e"
             ],
             [
              0.4444444444444444,
              "#bd3786"
             ],
             [
              0.5555555555555556,
              "#d8576b"
             ],
             [
              0.6666666666666666,
              "#ed7953"
             ],
             [
              0.7777777777777778,
              "#fb9f3a"
             ],
             [
              0.8888888888888888,
              "#fdca26"
             ],
             [
              1.0,
              "#f0f921"
             ]
            ],
            "type": "heatmapgl"
           }
          ],
          "histogram": [
           {
            "marker": {
             "colorbar": {
              "outlinewidth": 0,
              "ticks": ""
             }
            },
            "type": "histogram"
           }
          ],
          "histogram2d": [
           {
            "colorbar": {
             "outlinewidth": 0,
             "ticks": ""
            },
            "colorscale": [
             [
              0.0,
              "#0d0887"
             ],
             [
              0.1111111111111111,
              "#46039f"
             ],
             [
              0.2222222222222222,
              "#7201a8"
             ],
             [
              0.3333333333333333,
              "#9c179e"
             ],
             [
              0.4444444444444444,
              "#bd3786"
             ],
             [
              0.5555555555555556,
              "#d8576b"
             ],
             [
              0.6666666666666666,
              "#ed7953"
             ],
             [
              0.7777777777777778,
              "#fb9f3a"
             ],
             [
              0.8888888888888888,
              "#fdca26"
             ],
             [
              1.0,
              "#f0f921"
             ]
            ],
            "type": "histogram2d"
           }
          ],
          "histogram2dcontour": [
           {
            "colorbar": {
             "outlinewidth": 0,
             "ticks": ""
            },
            "colorscale": [
             [
              0.0,
              "#0d0887"
             ],
             [
              0.1111111111111111,
              "#46039f"
             ],
             [
              0.2222222222222222,
              "#7201a8"
             ],
             [
              0.3333333333333333,
              "#9c179e"
             ],
             [
              0.4444444444444444,
              "#bd3786"
             ],
             [
              0.5555555555555556,
              "#d8576b"
             ],
             [
              0.6666666666666666,
              "#ed7953"
             ],
             [
              0.7777777777777778,
              "#fb9f3a"
             ],
             [
              0.8888888888888888,
              "#fdca26"
             ],
             [
              1.0,
              "#f0f921"
             ]
            ],
            "type": "histogram2dcontour"
           }
          ],
          "mesh3d": [
           {
            "colorbar": {
             "outlinewidth": 0,
             "ticks": ""
            },
            "type": "mesh3d"
           }
          ],
          "parcoords": [
           {
            "line": {
             "colorbar": {
              "outlinewidth": 0,
              "ticks": ""
             }
            },
            "type": "parcoords"
           }
          ],
          "pie": [
           {
            "automargin": true,
            "type": "pie"
           }
          ],
          "scatter": [
           {
            "marker": {
             "colorbar": {
              "outlinewidth": 0,
              "ticks": ""
             }
            },
            "type": "scatter"
           }
          ],
          "scatter3d": [
           {
            "line": {
             "colorbar": {
              "outlinewidth": 0,
              "ticks": ""
             }
            },
            "marker": {
             "colorbar": {
              "outlinewidth": 0,
              "ticks": ""
             }
            },
            "type": "scatter3d"
           }
          ],
          "scattercarpet": [
           {
            "marker": {
             "colorbar": {
              "outlinewidth": 0,
              "ticks": ""
             }
            },
            "type": "scattercarpet"
           }
          ],
          "scattergeo": [
           {
            "marker": {
             "colorbar": {
              "outlinewidth": 0,
              "ticks": ""
             }
            },
            "type": "scattergeo"
           }
          ],
          "scattergl": [
           {
            "marker": {
             "colorbar": {
              "outlinewidth": 0,
              "ticks": ""
             }
            },
            "type": "scattergl"
           }
          ],
          "scattermapbox": [
           {
            "marker": {
             "colorbar": {
              "outlinewidth": 0,
              "ticks": ""
             }
            },
            "type": "scattermapbox"
           }
          ],
          "scatterpolar": [
           {
            "marker": {
             "colorbar": {
              "outlinewidth": 0,
              "ticks": ""
             }
            },
            "type": "scatterpolar"
           }
          ],
          "scatterpolargl": [
           {
            "marker": {
             "colorbar": {
              "outlinewidth": 0,
              "ticks": ""
             }
            },
            "type": "scatterpolargl"
           }
          ],
          "scatterternary": [
           {
            "marker": {
             "colorbar": {
              "outlinewidth": 0,
              "ticks": ""
             }
            },
            "type": "scatterternary"
           }
          ],
          "surface": [
           {
            "colorbar": {
             "outlinewidth": 0,
             "ticks": ""
            },
            "colorscale": [
             [
              0.0,
              "#0d0887"
             ],
             [
              0.1111111111111111,
              "#46039f"
             ],
             [
              0.2222222222222222,
              "#7201a8"
             ],
             [
              0.3333333333333333,
              "#9c179e"
             ],
             [
              0.4444444444444444,
              "#bd3786"
             ],
             [
              0.5555555555555556,
              "#d8576b"
             ],
             [
              0.6666666666666666,
              "#ed7953"
             ],
             [
              0.7777777777777778,
              "#fb9f3a"
             ],
             [
              0.8888888888888888,
              "#fdca26"
             ],
             [
              1.0,
              "#f0f921"
             ]
            ],
            "type": "surface"
           }
          ],
          "table": [
           {
            "cells": {
             "fill": {
              "color": "#EBF0F8"
             },
             "line": {
              "color": "white"
             }
            },
            "header": {
             "fill": {
              "color": "#C8D4E3"
             },
             "line": {
              "color": "white"
             }
            },
            "type": "table"
           }
          ]
         },
         "layout": {
          "annotationdefaults": {
           "arrowcolor": "#2a3f5f",
           "arrowhead": 0,
           "arrowwidth": 1
          },
          "autotypenumbers": "strict",
          "coloraxis": {
           "colorbar": {
            "outlinewidth": 0,
            "ticks": ""
           }
          },
          "colorscale": {
           "diverging": [
            [
             0,
             "#8e0152"
            ],
            [
             0.1,
             "#c51b7d"
            ],
            [
             0.2,
             "#de77ae"
            ],
            [
             0.3,
             "#f1b6da"
            ],
            [
             0.4,
             "#fde0ef"
            ],
            [
             0.5,
             "#f7f7f7"
            ],
            [
             0.6,
             "#e6f5d0"
            ],
            [
             0.7,
             "#b8e186"
            ],
            [
             0.8,
             "#7fbc41"
            ],
            [
             0.9,
             "#4d9221"
            ],
            [
             1,
             "#276419"
            ]
           ],
           "sequential": [
            [
             0.0,
             "#0d0887"
            ],
            [
             0.1111111111111111,
             "#46039f"
            ],
            [
             0.2222222222222222,
             "#7201a8"
            ],
            [
             0.3333333333333333,
             "#9c179e"
            ],
            [
             0.4444444444444444,
             "#bd3786"
            ],
            [
             0.5555555555555556,
             "#d8576b"
            ],
            [
             0.6666666666666666,
             "#ed7953"
            ],
            [
             0.7777777777777778,
             "#fb9f3a"
            ],
            [
             0.8888888888888888,
             "#fdca26"
            ],
            [
             1.0,
             "#f0f921"
            ]
           ],
           "sequentialminus": [
            [
             0.0,
             "#0d0887"
            ],
            [
             0.1111111111111111,
             "#46039f"
            ],
            [
             0.2222222222222222,
             "#7201a8"
            ],
            [
             0.3333333333333333,
             "#9c179e"
            ],
            [
             0.4444444444444444,
             "#bd3786"
            ],
            [
             0.5555555555555556,
             "#d8576b"
            ],
            [
             0.6666666666666666,
             "#ed7953"
            ],
            [
             0.7777777777777778,
             "#fb9f3a"
            ],
            [
             0.8888888888888888,
             "#fdca26"
            ],
            [
             1.0,
             "#f0f921"
            ]
           ]
          },
          "colorway": [
           "#636efa",
           "#EF553B",
           "#00cc96",
           "#ab63fa",
           "#FFA15A",
           "#19d3f3",
           "#FF6692",
           "#B6E880",
           "#FF97FF",
           "#FECB52"
          ],
          "font": {
           "color": "#2a3f5f"
          },
          "geo": {
           "bgcolor": "white",
           "lakecolor": "white",
           "landcolor": "#E5ECF6",
           "showlakes": true,
           "showland": true,
           "subunitcolor": "white"
          },
          "hoverlabel": {
           "align": "left"
          },
          "hovermode": "closest",
          "mapbox": {
           "style": "light"
          },
          "paper_bgcolor": "white",
          "plot_bgcolor": "#E5ECF6",
          "polar": {
           "angularaxis": {
            "gridcolor": "white",
            "linecolor": "white",
            "ticks": ""
           },
           "bgcolor": "#E5ECF6",
           "radialaxis": {
            "gridcolor": "white",
            "linecolor": "white",
            "ticks": ""
           }
          },
          "scene": {
           "xaxis": {
            "backgroundcolor": "#E5ECF6",
            "gridcolor": "white",
            "gridwidth": 2,
            "linecolor": "white",
            "showbackground": true,
            "ticks": "",
            "zerolinecolor": "white"
           },
           "yaxis": {
            "backgroundcolor": "#E5ECF6",
            "gridcolor": "white",
            "gridwidth": 2,
            "linecolor": "white",
            "showbackground": true,
            "ticks": "",
            "zerolinecolor": "white"
           },
           "zaxis": {
            "backgroundcolor": "#E5ECF6",
            "gridcolor": "white",
            "gridwidth": 2,
            "linecolor": "white",
            "showbackground": true,
            "ticks": "",
            "zerolinecolor": "white"
           }
          },
          "shapedefaults": {
           "line": {
            "color": "#2a3f5f"
           }
          },
          "ternary": {
           "aaxis": {
            "gridcolor": "white",
            "linecolor": "white",
            "ticks": ""
           },
           "baxis": {
            "gridcolor": "white",
            "linecolor": "white",
            "ticks": ""
           },
           "bgcolor": "#E5ECF6",
           "caxis": {
            "gridcolor": "white",
            "linecolor": "white",
            "ticks": ""
           }
          },
          "title": {
           "x": 0.05
          },
          "xaxis": {
           "automargin": true,
           "gridcolor": "white",
           "linecolor": "white",
           "ticks": "",
           "title": {
            "standoff": 15
           },
           "zerolinecolor": "white",
           "zerolinewidth": 2
          },
          "yaxis": {
           "automargin": true,
           "gridcolor": "white",
           "linecolor": "white",
           "ticks": "",
           "title": {
            "standoff": 15
           },
           "zerolinecolor": "white",
           "zerolinewidth": 2
          }
         }
        },
        "title": {
         "text": "Origine delle mail in percentuale",
         "x": 0.5,
         "xanchor": "center",
         "y": 0.8
        }
       }
      },
      "text/html": "<div>                            <div id=\"dae82f86-f41d-4f94-8504-c00ab09edceb\" class=\"plotly-graph-div\" style=\"height:500px; width:100%;\"></div>            <script type=\"text/javascript\">                require([\"plotly\"], function(Plotly) {                    window.PLOTLYENV=window.PLOTLYENV || {};                                    if (document.getElementById(\"dae82f86-f41d-4f94-8504-c00ab09edceb\")) {                    Plotly.newPlot(                        \"dae82f86-f41d-4f94-8504-c00ab09edceb\",                        [{\"branchvalues\": \"total\", \"domain\": {\"x\": [0.0, 1.0], \"y\": [0.0, 1.0]}, \"hovertemplate\": \"labels=%{label}<br>count=%{value}<br>parent=%{parent}<br>id=%{id}<extra></extra>\", \"ids\": [\"AGNA USEMB Kabul Afghanistan\", \"American Beverage Association\", \"Andrew Shapiro\", \"Anne-Marie Slaughter\", \"Anthony Lake\", \"Arturo Valenzuela\", \"Barbara Mikulski\", \"Betsy Ebeling\", \"Burns Strider\", \"Capricia Marshall\", \"Caroline Adler\", \"Case Button\", \"Cecile Richards\", \"Chad Weston\", \"Cherie Blair\", \"Cheryl Mills\", \"Chester Crocker\", \"Christopher Butzgy\", \"Christopher Hill\", \"Claire Coleman\", \"Colin Powell\", \"Courtney Beale\", \"Craig Kelly\", \"Dana Hyde\", \"Daniel Baer\", \"Daniel Inonye\", \"Daniel Schwerin\", \"Danielle Brian\", \"David Axelrod\", \"David Brock\", \"David Garten\", \"David Miliband\", \"Derek Chollet\", \"Elizabeth Drew\", \"Ellen Tauscher\", \"Eni Faleomavaega\", \"Eric Woodard\", \"Esther Brimmer\", \"FINCA International\", \"G Wills\", \"G. Lou de Bac\", \"G. Wills\", \"George Mitchell\", \"Gina Glantz\", \"Haiti\", \"Harold Hongju Koh\", \"Heintz\", \"Hillary Clinton\", \"Huma Abedin\", \"Ian Kelly\", \"J. Finkle\", \"JAMA\", \"Jackie Newmyer\", \"Jacob Lew\", \"Jake Sullivan\", \"James McGovern\", \"James Smith\", \"James Steinberg\", \"Jeffrey Farrow\", \"Jeffrey Feltman\", \"Jim Hoagland\", \"Joanne Laszczych\", \"John Podesta\", \"Johnnie Carson\", \"Jonathan Prince\", \"Joshua Daniel\", \"Judith Kieffer\", \"Judith McHale\", \"KPK\", \"Kris Balderston\", \"Kurt Campbell\", \"L. Rosenberger\", \"Lauren Jiloty\", \"Laurie Rubiner\", \"Lee Brown\", \"Lee Feinstein\", \"Linda Dewan\", \"Lissa Muscatine\", \"Lois Quam\", \"Lona Valmoro\", \"Luis CdeBaca\", \"M. Albright\", \"Madeleine Albright\", \"Maria Calivis\", \"Maria Otero\", \"Marianne Scott\", \"Maura Pally\", \"Max Baucus\", \"Megan Rooney\", \"Melanne Verveer\", \"Michael Fuchs\", \"Michael Posner\", \"Miguel Rodriguez\", \"Monica Hanley\", \"NHLA\", \"Neera Tanden\", \"New York Times\", \"Nicholas Norman\", \"Nora Toiv\", \"Nora Tov\", \"Opinion Research\", \"PVervee\", \"Patrick Kennedy\", \"Paul Collier\", \"Paul Jones\", \"Philip Crowley\", \"Philip Gordon\", \"Philippe Reines\", \"Phillip Crowley\", \"Piper Campbell\", \"Prime Minister\", \"Rajiv Shah\", \"Recos\", \"Reines Philippe\", \"Reta Jo Lewis\", \"Richard Verma\", \"Robert Blake\", \"Robert Danford\", \"Robert Hormats\", \"Robert Russo\", \"S. Akbar Zaidi\", \"SRGIA\", \"STATE\", \"Samuel (\\\"Sandy\\\") Berger\", \"Samuel Berger\", \"Sidney Blumenthal\", \"Strobe Talbott\", \"Susan Rice\", \"Thomas Donilon\", \"Thomas Nides\", \"Thomas Shannon\", \"Todd Stern\", \"Tomicah Tillemann\", \"Tsakina Elbegdori\", \"U.S. Global Leadership Coalition\", \"Victoria Nuland\", \"Voda Ebeling\", \"Washington Post\", \"Wendy Sherman\", \"Werner Ilic\", \"White House\", \"William Burns\", \"Zachary Iscol\", \"aclb\", \"alcb\", \"latimes.com\", \"postmaster@state.gov\", \"rooneym@state.gov\"], \"labels\": [\"AGNA USEMB Kabul Afghanistan\", \"American Beverage Association\", \"Andrew Shapiro\", \"Anne-Marie Slaughter\", \"Anthony Lake\", \"Arturo Valenzuela\", \"Barbara Mikulski\", \"Betsy Ebeling\", \"Burns Strider\", \"Capricia Marshall\", \"Caroline Adler\", \"Case Button\", \"Cecile Richards\", \"Chad Weston\", \"Cherie Blair\", \"Cheryl Mills\", \"Chester Crocker\", \"Christopher Butzgy\", \"Christopher Hill\", \"Claire Coleman\", \"Colin Powell\", \"Courtney Beale\", \"Craig Kelly\", \"Dana Hyde\", \"Daniel Baer\", \"Daniel Inonye\", \"Daniel Schwerin\", \"Danielle Brian\", \"David Axelrod\", \"David Brock\", \"David Garten\", \"David Miliband\", \"Derek Chollet\", \"Elizabeth Drew\", \"Ellen Tauscher\", \"Eni Faleomavaega\", \"Eric Woodard\", \"Esther Brimmer\", \"FINCA International\", \"G Wills\", \"G. Lou de Bac\", \"G. Wills\", \"George Mitchell\", \"Gina Glantz\", \"Haiti\", \"Harold Hongju Koh\", \"Heintz\", \"Hillary Clinton\", \"Huma Abedin\", \"Ian Kelly\", \"J. Finkle\", \"JAMA\", \"Jackie Newmyer\", \"Jacob Lew\", \"Jake Sullivan\", \"James McGovern\", \"James Smith\", \"James Steinberg\", \"Jeffrey Farrow\", \"Jeffrey Feltman\", \"Jim Hoagland\", \"Joanne Laszczych\", \"John Podesta\", \"Johnnie Carson\", \"Jonathan Prince\", \"Joshua Daniel\", \"Judith Kieffer\", \"Judith McHale\", \"KPK\", \"Kris Balderston\", \"Kurt Campbell\", \"L. Rosenberger\", \"Lauren Jiloty\", \"Laurie Rubiner\", \"Lee Brown\", \"Lee Feinstein\", \"Linda Dewan\", \"Lissa Muscatine\", \"Lois Quam\", \"Lona Valmoro\", \"Luis CdeBaca\", \"M. Albright\", \"Madeleine Albright\", \"Maria Calivis\", \"Maria Otero\", \"Marianne Scott\", \"Maura Pally\", \"Max Baucus\", \"Megan Rooney\", \"Melanne Verveer\", \"Michael Fuchs\", \"Michael Posner\", \"Miguel Rodriguez\", \"Monica Hanley\", \"NHLA\", \"Neera Tanden\", \"New York Times\", \"Nicholas Norman\", \"Nora Toiv\", \"Nora Tov\", \"Opinion Research\", \"PVervee\", \"Patrick Kennedy\", \"Paul Collier\", \"Paul Jones\", \"Philip Crowley\", \"Philip Gordon\", \"Philippe Reines\", \"Phillip Crowley\", \"Piper Campbell\", \"Prime Minister\", \"Rajiv Shah\", \"Recos\", \"Reines Philippe\", \"Reta Jo Lewis\", \"Richard Verma\", \"Robert Blake\", \"Robert Danford\", \"Robert Hormats\", \"Robert Russo\", \"S. Akbar Zaidi\", \"SRGIA\", \"STATE\", \"Samuel (\\\"Sandy\\\") Berger\", \"Samuel Berger\", \"Sidney Blumenthal\", \"Strobe Talbott\", \"Susan Rice\", \"Thomas Donilon\", \"Thomas Nides\", \"Thomas Shannon\", \"Todd Stern\", \"Tomicah Tillemann\", \"Tsakina Elbegdori\", \"U.S. Global Leadership Coalition\", \"Victoria Nuland\", \"Voda Ebeling\", \"Washington Post\", \"Wendy Sherman\", \"Werner Ilic\", \"White House\", \"William Burns\", \"Zachary Iscol\", \"aclb\", \"alcb\", \"latimes.com\", \"postmaster@state.gov\", \"rooneym@state.gov\"], \"name\": \"\", \"parents\": [\"\", \"\", \"\", \"\", \"\", \"\", \"\", \"\", \"\", \"\", \"\", \"\", \"\", \"\", \"\", \"\", \"\", \"\", \"\", \"\", \"\", \"\", \"\", \"\", \"\", \"\", \"\", \"\", \"\", \"\", \"\", \"\", \"\", \"\", \"\", \"\", \"\", \"\", \"\", \"\", \"\", \"\", \"\", \"\", \"\", \"\", \"\", \"\", \"\", \"\", \"\", \"\", \"\", \"\", \"\", \"\", \"\", \"\", \"\", \"\", \"\", \"\", \"\", \"\", \"\", \"\", \"\", \"\", \"\", \"\", \"\", \"\", \"\", \"\", \"\", \"\", \"\", \"\", \"\", \"\", \"\", \"\", \"\", \"\", \"\", \"\", \"\", \"\", \"\", \"\", \"\", \"\", \"\", \"\", \"\", \"\", \"\", \"\", \"\", \"\", \"\", \"\", \"\", \"\", \"\", \"\", \"\", \"\", \"\", \"\", \"\", \"\", \"\", \"\", \"\", \"\", \"\", \"\", \"\", \"\", \"\", \"\", \"\", \"\", \"\", \"\", \"\", \"\", \"\", \"\", \"\", \"\", \"\", \"\", \"\", \"\", \"\", \"\", \"\", \"\", \"\", \"\", \"\", \"\", \"\", \"\", \"\", \"\"], \"textinfo\": \"label+percent parent\", \"type\": \"treemap\", \"values\": [1, 1, 7, 130, 1, 7, 12, 31, 2, 17, 2, 1, 1, 1, 25, 1317, 1, 1, 1, 6, 1, 3, 3, 1, 5, 1, 10, 2, 2, 2, 1, 1, 1, 1, 9, 1, 1, 1, 1, 1, 1, 2, 6, 2, 5, 15, 1, 1991, 1437, 1, 1, 1, 10, 14, 871, 2, 1, 6, 10, 16, 1, 4, 2, 1, 1, 5, 1, 78, 1, 23, 14, 1, 341, 1, 2, 1, 1, 85, 3, 155, 1, 1, 1, 1, 9, 1, 1, 1, 10, 96, 15, 1, 10, 29, 1, 7, 2, 1, 5, 1, 1, 1, 2, 1, 2, 16, 4, 159, 4, 1, 1, 1, 1, 1, 1, 118, 1, 1, 1, 24, 1, 1, 6, 7, 4, 373, 37, 3, 1, 1, 1, 5, 6, 1, 1, 1, 4, 4, 7, 1, 1, 10, 1, 2, 5, 1, 7, 1]}],                        {\"height\": 500, \"legend\": {\"tracegroupgap\": 0}, \"template\": {\"data\": {\"bar\": [{\"error_x\": {\"color\": \"#2a3f5f\"}, \"error_y\": {\"color\": \"#2a3f5f\"}, \"marker\": {\"line\": {\"color\": \"#E5ECF6\", \"width\": 0.5}}, \"type\": \"bar\"}], \"barpolar\": [{\"marker\": {\"line\": {\"color\": \"#E5ECF6\", \"width\": 0.5}}, \"type\": \"barpolar\"}], \"carpet\": [{\"aaxis\": {\"endlinecolor\": \"#2a3f5f\", \"gridcolor\": \"white\", \"linecolor\": \"white\", \"minorgridcolor\": \"white\", \"startlinecolor\": \"#2a3f5f\"}, \"baxis\": {\"endlinecolor\": \"#2a3f5f\", \"gridcolor\": \"white\", \"linecolor\": \"white\", \"minorgridcolor\": \"white\", \"startlinecolor\": \"#2a3f5f\"}, \"type\": \"carpet\"}], \"choropleth\": [{\"colorbar\": {\"outlinewidth\": 0, \"ticks\": \"\"}, \"type\": \"choropleth\"}], \"contour\": [{\"colorbar\": {\"outlinewidth\": 0, \"ticks\": \"\"}, \"colorscale\": [[0.0, \"#0d0887\"], [0.1111111111111111, \"#46039f\"], [0.2222222222222222, \"#7201a8\"], [0.3333333333333333, \"#9c179e\"], [0.4444444444444444, \"#bd3786\"], [0.5555555555555556, \"#d8576b\"], [0.6666666666666666, \"#ed7953\"], [0.7777777777777778, \"#fb9f3a\"], [0.8888888888888888, \"#fdca26\"], [1.0, \"#f0f921\"]], \"type\": \"contour\"}], \"contourcarpet\": [{\"colorbar\": {\"outlinewidth\": 0, \"ticks\": \"\"}, \"type\": \"contourcarpet\"}], \"heatmap\": [{\"colorbar\": {\"outlinewidth\": 0, \"ticks\": \"\"}, \"colorscale\": [[0.0, \"#0d0887\"], [0.1111111111111111, \"#46039f\"], [0.2222222222222222, \"#7201a8\"], [0.3333333333333333, \"#9c179e\"], [0.4444444444444444, \"#bd3786\"], [0.5555555555555556, \"#d8576b\"], [0.6666666666666666, \"#ed7953\"], [0.7777777777777778, \"#fb9f3a\"], [0.8888888888888888, \"#fdca26\"], [1.0, \"#f0f921\"]], \"type\": \"heatmap\"}], \"heatmapgl\": [{\"colorbar\": {\"outlinewidth\": 0, \"ticks\": \"\"}, \"colorscale\": [[0.0, \"#0d0887\"], [0.1111111111111111, \"#46039f\"], [0.2222222222222222, \"#7201a8\"], [0.3333333333333333, \"#9c179e\"], [0.4444444444444444, \"#bd3786\"], [0.5555555555555556, \"#d8576b\"], [0.6666666666666666, \"#ed7953\"], [0.7777777777777778, \"#fb9f3a\"], [0.8888888888888888, \"#fdca26\"], [1.0, \"#f0f921\"]], \"type\": \"heatmapgl\"}], \"histogram\": [{\"marker\": {\"colorbar\": {\"outlinewidth\": 0, \"ticks\": \"\"}}, \"type\": \"histogram\"}], \"histogram2d\": [{\"colorbar\": {\"outlinewidth\": 0, \"ticks\": \"\"}, \"colorscale\": [[0.0, \"#0d0887\"], [0.1111111111111111, \"#46039f\"], [0.2222222222222222, \"#7201a8\"], [0.3333333333333333, \"#9c179e\"], [0.4444444444444444, \"#bd3786\"], [0.5555555555555556, \"#d8576b\"], [0.6666666666666666, \"#ed7953\"], [0.7777777777777778, \"#fb9f3a\"], [0.8888888888888888, \"#fdca26\"], [1.0, \"#f0f921\"]], \"type\": \"histogram2d\"}], \"histogram2dcontour\": [{\"colorbar\": {\"outlinewidth\": 0, \"ticks\": \"\"}, \"colorscale\": [[0.0, \"#0d0887\"], [0.1111111111111111, \"#46039f\"], [0.2222222222222222, \"#7201a8\"], [0.3333333333333333, \"#9c179e\"], [0.4444444444444444, \"#bd3786\"], [0.5555555555555556, \"#d8576b\"], [0.6666666666666666, \"#ed7953\"], [0.7777777777777778, \"#fb9f3a\"], [0.8888888888888888, \"#fdca26\"], [1.0, \"#f0f921\"]], \"type\": \"histogram2dcontour\"}], \"mesh3d\": [{\"colorbar\": {\"outlinewidth\": 0, \"ticks\": \"\"}, \"type\": \"mesh3d\"}], \"parcoords\": [{\"line\": {\"colorbar\": {\"outlinewidth\": 0, \"ticks\": \"\"}}, \"type\": \"parcoords\"}], \"pie\": [{\"automargin\": true, \"type\": \"pie\"}], \"scatter\": [{\"marker\": {\"colorbar\": {\"outlinewidth\": 0, \"ticks\": \"\"}}, \"type\": \"scatter\"}], \"scatter3d\": [{\"line\": {\"colorbar\": {\"outlinewidth\": 0, \"ticks\": \"\"}}, \"marker\": {\"colorbar\": {\"outlinewidth\": 0, \"ticks\": \"\"}}, \"type\": \"scatter3d\"}], \"scattercarpet\": [{\"marker\": {\"colorbar\": {\"outlinewidth\": 0, \"ticks\": \"\"}}, \"type\": \"scattercarpet\"}], \"scattergeo\": [{\"marker\": {\"colorbar\": {\"outlinewidth\": 0, \"ticks\": \"\"}}, \"type\": \"scattergeo\"}], \"scattergl\": [{\"marker\": {\"colorbar\": {\"outlinewidth\": 0, \"ticks\": \"\"}}, \"type\": \"scattergl\"}], \"scattermapbox\": [{\"marker\": {\"colorbar\": {\"outlinewidth\": 0, \"ticks\": \"\"}}, \"type\": \"scattermapbox\"}], \"scatterpolar\": [{\"marker\": {\"colorbar\": {\"outlinewidth\": 0, \"ticks\": \"\"}}, \"type\": \"scatterpolar\"}], \"scatterpolargl\": [{\"marker\": {\"colorbar\": {\"outlinewidth\": 0, \"ticks\": \"\"}}, \"type\": \"scatterpolargl\"}], \"scatterternary\": [{\"marker\": {\"colorbar\": {\"outlinewidth\": 0, \"ticks\": \"\"}}, \"type\": \"scatterternary\"}], \"surface\": [{\"colorbar\": {\"outlinewidth\": 0, \"ticks\": \"\"}, \"colorscale\": [[0.0, \"#0d0887\"], [0.1111111111111111, \"#46039f\"], [0.2222222222222222, \"#7201a8\"], [0.3333333333333333, \"#9c179e\"], [0.4444444444444444, \"#bd3786\"], [0.5555555555555556, \"#d8576b\"], [0.6666666666666666, \"#ed7953\"], [0.7777777777777778, \"#fb9f3a\"], [0.8888888888888888, \"#fdca26\"], [1.0, \"#f0f921\"]], \"type\": \"surface\"}], \"table\": [{\"cells\": {\"fill\": {\"color\": \"#EBF0F8\"}, \"line\": {\"color\": \"white\"}}, \"header\": {\"fill\": {\"color\": \"#C8D4E3\"}, \"line\": {\"color\": \"white\"}}, \"type\": \"table\"}]}, \"layout\": {\"annotationdefaults\": {\"arrowcolor\": \"#2a3f5f\", \"arrowhead\": 0, \"arrowwidth\": 1}, \"autotypenumbers\": \"strict\", \"coloraxis\": {\"colorbar\": {\"outlinewidth\": 0, \"ticks\": \"\"}}, \"colorscale\": {\"diverging\": [[0, \"#8e0152\"], [0.1, \"#c51b7d\"], [0.2, \"#de77ae\"], [0.3, \"#f1b6da\"], [0.4, \"#fde0ef\"], [0.5, \"#f7f7f7\"], [0.6, \"#e6f5d0\"], [0.7, \"#b8e186\"], [0.8, \"#7fbc41\"], [0.9, \"#4d9221\"], [1, \"#276419\"]], \"sequential\": [[0.0, \"#0d0887\"], [0.1111111111111111, \"#46039f\"], [0.2222222222222222, \"#7201a8\"], [0.3333333333333333, \"#9c179e\"], [0.4444444444444444, \"#bd3786\"], [0.5555555555555556, \"#d8576b\"], [0.6666666666666666, \"#ed7953\"], [0.7777777777777778, \"#fb9f3a\"], [0.8888888888888888, \"#fdca26\"], [1.0, \"#f0f921\"]], \"sequentialminus\": [[0.0, \"#0d0887\"], [0.1111111111111111, \"#46039f\"], [0.2222222222222222, \"#7201a8\"], [0.3333333333333333, \"#9c179e\"], [0.4444444444444444, \"#bd3786\"], [0.5555555555555556, \"#d8576b\"], [0.6666666666666666, \"#ed7953\"], [0.7777777777777778, \"#fb9f3a\"], [0.8888888888888888, \"#fdca26\"], [1.0, \"#f0f921\"]]}, \"colorway\": [\"#636efa\", \"#EF553B\", \"#00cc96\", \"#ab63fa\", \"#FFA15A\", \"#19d3f3\", \"#FF6692\", \"#B6E880\", \"#FF97FF\", \"#FECB52\"], \"font\": {\"color\": \"#2a3f5f\"}, \"geo\": {\"bgcolor\": \"white\", \"lakecolor\": \"white\", \"landcolor\": \"#E5ECF6\", \"showlakes\": true, \"showland\": true, \"subunitcolor\": \"white\"}, \"hoverlabel\": {\"align\": \"left\"}, \"hovermode\": \"closest\", \"mapbox\": {\"style\": \"light\"}, \"paper_bgcolor\": \"white\", \"plot_bgcolor\": \"#E5ECF6\", \"polar\": {\"angularaxis\": {\"gridcolor\": \"white\", \"linecolor\": \"white\", \"ticks\": \"\"}, \"bgcolor\": \"#E5ECF6\", \"radialaxis\": {\"gridcolor\": \"white\", \"linecolor\": \"white\", \"ticks\": \"\"}}, \"scene\": {\"xaxis\": {\"backgroundcolor\": \"#E5ECF6\", \"gridcolor\": \"white\", \"gridwidth\": 2, \"linecolor\": \"white\", \"showbackground\": true, \"ticks\": \"\", \"zerolinecolor\": \"white\"}, \"yaxis\": {\"backgroundcolor\": \"#E5ECF6\", \"gridcolor\": \"white\", \"gridwidth\": 2, \"linecolor\": \"white\", \"showbackground\": true, \"ticks\": \"\", \"zerolinecolor\": \"white\"}, \"zaxis\": {\"backgroundcolor\": \"#E5ECF6\", \"gridcolor\": \"white\", \"gridwidth\": 2, \"linecolor\": \"white\", \"showbackground\": true, \"ticks\": \"\", \"zerolinecolor\": \"white\"}}, \"shapedefaults\": {\"line\": {\"color\": \"#2a3f5f\"}}, \"ternary\": {\"aaxis\": {\"gridcolor\": \"white\", \"linecolor\": \"white\", \"ticks\": \"\"}, \"baxis\": {\"gridcolor\": \"white\", \"linecolor\": \"white\", \"ticks\": \"\"}, \"bgcolor\": \"#E5ECF6\", \"caxis\": {\"gridcolor\": \"white\", \"linecolor\": \"white\", \"ticks\": \"\"}}, \"title\": {\"x\": 0.05}, \"xaxis\": {\"automargin\": true, \"gridcolor\": \"white\", \"linecolor\": \"white\", \"ticks\": \"\", \"title\": {\"standoff\": 15}, \"zerolinecolor\": \"white\", \"zerolinewidth\": 2}, \"yaxis\": {\"automargin\": true, \"gridcolor\": \"white\", \"linecolor\": \"white\", \"ticks\": \"\", \"title\": {\"standoff\": 15}, \"zerolinecolor\": \"white\", \"zerolinewidth\": 2}}}, \"title\": {\"text\": \"Origine delle mail in percentuale\", \"x\": 0.5, \"xanchor\": \"center\", \"y\": 0.8}},                        {\"responsive\": true}                    ).then(function(){\n                            \nvar gd = document.getElementById('dae82f86-f41d-4f94-8504-c00ab09edceb');\nvar x = new MutationObserver(function (mutations, observer) {{\n        var display = window.getComputedStyle(gd).display;\n        if (!display || display === 'none') {{\n            console.log([gd, 'removed!']);\n            Plotly.purge(gd);\n            observer.disconnect();\n        }}\n}});\n\n// Listen for the removal of the full notebook cells\nvar notebookContainer = gd.closest('#notebook-container');\nif (notebookContainer) {{\n    x.observe(notebookContainer, {childList: true});\n}}\n\n// Listen for the clearing of the current output cell\nvar outputEl = gd.closest('.output');\nif (outputEl) {{\n    x.observe(outputEl, {childList: true});\n}}\n\n                        })                };                });            </script>        </div>"
     },
     "metadata": {},
     "output_type": "display_data"
    }
   ],
   "source": [
    "chart3 = px.treemap(df, path=['SenderFullName'],\n",
    "                    height = 500,\n",
    "                    title = \"Origine delle mail in percentuale\")\n",
    "\n",
    "chart3.update_layout(\n",
    "    title=dict(\n",
    "        x=0.5,\n",
    "        y=0.8,\n",
    "        xanchor='center')\n",
    ")\n",
    "\n",
    "chart3.update_traces(textinfo = 'label + percent parent')\n",
    "chart3.write_image(\"assets/activity.png\", scale=4)\n",
    "chart3.show()"
   ]
  },
  {
   "cell_type": "code",
   "execution_count": 7,
   "metadata": {
    "pycharm": {
     "name": "#%%\n"
    }
   },
   "outputs": [],
   "source": [
    "# Trovare i 5 giorni più intensi per le prime 10 persone più attive\n",
    "names_group = df.groupby([\"SenderFullName\"])\n",
    "# for name in su1:\n",
    "#     print(name)\n",
    "#     print(names_group[\"DateSent\"].value_counts().loc[name][:5],\"\\n\")\n",
    "    \n",
    "# p = df.groupby('SenderFullName').DateSent.value_counts(normalize=True)"
   ]
  },
  {
   "cell_type": "code",
   "execution_count": 8,
   "metadata": {
    "scrolled": true
   },
   "outputs": [
    {
     "name": "stdout",
     "output_type": "stream",
     "text": [
      "Dash is running on http://127.0.0.1:1346/\n",
      "\n",
      " * Serving Flask app \"__main__\" (lazy loading)\n",
      " * Environment: production\n",
      "\u001B[31m   WARNING: This is a development server. Do not use it in a production deployment.\u001B[0m\n",
      "\u001B[2m   Use a production WSGI server instead.\u001B[0m\n",
      " * Debug mode: off\n"
     ]
    },
    {
     "name": "stderr",
     "output_type": "stream",
     "text": [
      " * Running on http://127.0.0.1:1346/ (Press CTRL+C to quit)\n",
      "127.0.0.1 - - [19/Jun/2021 17:25:45] \"\u001B[37mGET / HTTP/1.1\u001B[0m\" 200 -\n",
      "127.0.0.1 - - [19/Jun/2021 17:25:45] \"\u001B[37mGET /_dash-component-suites/dash_renderer/polyfill@7.v1_9_1m1617900226.8.7.min.js HTTP/1.1\u001B[0m\" 200 -\n",
      "127.0.0.1 - - [19/Jun/2021 17:25:45] \"\u001B[37mGET /_dash-component-suites/dash_renderer/react@16.v1_9_1m1617900226.14.0.min.js HTTP/1.1\u001B[0m\" 200 -\n",
      "127.0.0.1 - - [19/Jun/2021 17:25:45] \"\u001B[37mGET /_dash-component-suites/dash_renderer/prop-types@15.v1_9_1m1617900226.7.2.min.js HTTP/1.1\u001B[0m\" 200 -\n",
      "127.0.0.1 - - [19/Jun/2021 17:25:45] \"\u001B[37mGET /_dash-component-suites/dash_core_components/dash_core_components-shared.v1_16_0m1617909890.js HTTP/1.1\u001B[0m\" 200 -\n",
      "127.0.0.1 - - [19/Jun/2021 17:25:45] \"\u001B[37mGET /_dash-component-suites/dash_renderer/react-dom@16.v1_9_1m1617900226.14.0.min.js HTTP/1.1\u001B[0m\" 200 -\n",
      "127.0.0.1 - - [19/Jun/2021 17:25:45] \"\u001B[37mGET /_dash-component-suites/dash_html_components/dash_html_components.v1_1_3m1617909188.min.js HTTP/1.1\u001B[0m\" 200 -\n",
      "127.0.0.1 - - [19/Jun/2021 17:25:46] \"\u001B[37mGET /_dash-component-suites/dash_renderer/dash_renderer.v1_9_1m1617900246.min.js HTTP/1.1\u001B[0m\" 200 -\n",
      "127.0.0.1 - - [19/Jun/2021 17:25:46] \"\u001B[37mGET /_dash-component-suites/dash_core_components/dash_core_components.v1_16_0m1617909890.min.js HTTP/1.1\u001B[0m\" 200 -\n",
      "127.0.0.1 - - [19/Jun/2021 17:25:47] \"\u001B[37mGET /_dash-dependencies HTTP/1.1\u001B[0m\" 200 -\n",
      "127.0.0.1 - - [19/Jun/2021 17:25:47] \"\u001B[37mGET /_dash-layout HTTP/1.1\u001B[0m\" 200 -\n",
      "127.0.0.1 - - [19/Jun/2021 17:25:47] \"\u001B[37mGET /_dash-component-suites/dash_core_components/async-graph.v1_16_0m1617903285.js HTTP/1.1\u001B[0m\" 200 -\n",
      "127.0.0.1 - - [19/Jun/2021 17:25:47] \"\u001B[37mGET /_dash-component-suites/dash_core_components/async-dropdown.v1_16_0m1617903285.js HTTP/1.1\u001B[0m\" 200 -\n",
      "127.0.0.1 - - [19/Jun/2021 17:25:47] \"\u001B[37mGET /_dash-component-suites/dash_core_components/async-plotlyjs.v1_16_0m1617903285.js HTTP/1.1\u001B[0m\" 200 -\n",
      "127.0.0.1 - - [19/Jun/2021 17:25:58] \"\u001B[37mPOST /_dash-update-component HTTP/1.1\u001B[0m\" 200 -\n",
      "127.0.0.1 - - [19/Jun/2021 17:25:59] \"\u001B[37mPOST /_dash-update-component HTTP/1.1\u001B[0m\" 200 -\n"
     ]
    }
   ],
   "source": [
    "n_of_emails = len(df)\n",
    "n_of_people = len(df[\"SenderFullName\"].unique())\n",
    "\n",
    "def generate_hisplot_expl(dataframe):\n",
    "    i = 0\n",
    "    x = 0\n",
    "    while i < len(dataframe.value_counts(normalize=False)):\n",
    "        for line in dataframe.value_counts(normalize=False):\n",
    "            x += dataframe.value_counts(normalize=False)[i]\n",
    "            i += 1\n",
    "    perc_p = round(len(dataframe)/n_of_people,4)*100\n",
    "    perc_e = round(x/n_of_emails,4)*100\n",
    "    \n",
    "    return html.Div([\n",
    "        dcc.Graph(\n",
    "            id='displot-people-date',\n",
    "            figure = px.histogram(dataframe, x=\"DateSent\", marginal=\"rug\", color=\"SenderFullName\")),\n",
    "        html.Center(html.H4(\n",
    "                   children = [f\"I {len(dataframe.SenderFullName.unique())} contatti scelti, cioè il \"+\n",
    "                               f\"{round(len(dataframe.SenderFullName.unique())/n_of_people*100,2)}% del totale,\"+\n",
    "      f\" sono responsabili per il {round(x/n_of_emails*100,2)}% del flusso totale di mail\"]\n",
    "        )\n",
    "    )\n",
    "    ])\n",
    "# https://wallpapercave.com/wp/wp2038942.jpg\n",
    "# https://www.wallpapers4u.org/wp-content/uploads/light_blue_rays_shine_9824_1920x1080.jpg\n",
    "\n",
    "external_stylesheets = ['https://codepen.io/chriddyp/pen/bWLwgP.css']\n",
    "\n",
    "app = dash.Dash(__name__, external_stylesheets=external_stylesheets)\n",
    "app.layout = html.Div(\n",
    "    children=[\n",
    "        html.Div(\n",
    "            style={'background-image': \"url(https://static.vecteezy.com/system/resources/previews/000/072/938/original/rays-background-vector.jpg)\", \n",
    "                   'background-repeat' : \"no-repeat\",\n",
    "                   'background-size' : 'cover',\n",
    "                   'margin-right' : \"auto\",\n",
    "                   'margin-left' : 'auto',\n",
    "                   'opacity' : 1,\n",
    "                   'float' : 'none'\n",
    "                    }, \n",
    "            children=[\n",
    "                html.Center(\n",
    "                    html.H1(html.I(\"Hillary Clinton's Leaked Emails: un'analisi\"))\n",
    "                )\n",
    "            ]\n",
    "        ),\n",
    "\n",
    "    dcc.Tabs([\n",
    "        \n",
    "        \n",
    "        dcc.Tab(label='Analisi Esplorativa', children=[\n",
    "            html.Center(html.H2(children='Attività dei contatti')),\n",
    "            html.Br(),\n",
    "            html.Center(html.H4(children='Nei grafici sottostanti sono esposte le attività dei contatti presenti '+ \n",
    "                'nel dataset. Come è possibile notare, le attività cominciano il 2008-05-01 e finiscono '+\n",
    "                'il 2014-12-14, per una copertura totale di 2418 giorni, ovvero più di 6 anni.')),\n",
    "            dcc.Dropdown(\n",
    "                id='dropdown',\n",
    "                options=[{'label': i, 'value': i} for i in top_people.index],\n",
    "                multi=True, placeholder='Selezionare i contatti desiderati... (Ordinati per utenti più attivi)'),\n",
    "            html.Div(id='plot-container'),\n",
    "            html.Br(),\n",
    "            html.Div(\n",
    "                children=[\n",
    "                    dcc.Graph(figure=chart3),\n",
    "                    dcc.Graph(figure=chart2)\n",
    "            ]\n",
    "        \n",
    "        )]),\n",
    "        \n",
    "        \n",
    "        dcc.Tab(label='Sentiment Analysis', children=[\n",
    "            dcc.Graph(\n",
    "                figure={\n",
    "                    'data': [\n",
    "                        {'x': [1, 2, 3], 'y': [1, 4, 1],\n",
    "                            'type': 'bar', 'name': 'SF'},\n",
    "                        {'x': [1, 2, 3], 'y': [1, 2, 3],\n",
    "                         'type': 'bar', 'name': u'Montréal'},\n",
    "                    ]\n",
    "                }\n",
    "            )\n",
    "        ]),\n",
    "        \n",
    "        \n",
    "        ])])\n",
    "\n",
    "@app.callback(dash.dependencies.Output('plot-container', 'children'),\n",
    "    [dash.dependencies.Input('dropdown', 'value')])\n",
    "\n",
    "def display_hisplot_expl(dropdown_value):\n",
    "    if dropdown_value is None:\n",
    "        return generate_hisplot_expl(df)\n",
    "    dff = df[df.SenderFullName.str.contains('|'.join(dropdown_value))]\n",
    "    return generate_hisplot_expl(dff)\n",
    "\n",
    "if __name__ == '__main__':\n",
    "    app.run_server(debug=False, port=1346)"
   ]
  }
 ],
 "metadata": {
  "kernelspec": {
   "display_name": "Python 3",
   "language": "python",
   "name": "python3"
  },
  "language_info": {
   "codemirror_mode": {
    "name": "ipython",
    "version": 3
   },
   "file_extension": ".py",
   "mimetype": "text/x-python",
   "name": "python",
   "nbconvert_exporter": "python",
   "pygments_lexer": "ipython3",
   "version": "3.8.5"
  }
 },
 "nbformat": 4,
 "nbformat_minor": 1
}