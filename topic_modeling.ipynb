{
 "cells": [
  {
   "cell_type": "code",
   "metadata": {
    "collapsed": true,
    "pycharm": {
     "name": "#%%\n"
    }
   },
   "source": [
    "import pandas as pd\n",
    "from config import SERIALIZATION_FOLDER, DF_NAME"
   ],
   "execution_count": 2,
   "outputs": []
  },
  {
   "cell_type": "code",
   "execution_count": 3,
   "outputs": [
    {
     "data": {
      "text/plain": "      SenderPersonId          MetadataDateSent  \\\nId                                               \n2                NaN 2011-03-03 05:00:00+00:00   \n3               32.0 2012-09-12 04:00:00+00:00   \n5               80.0 2011-03-11 05:00:00+00:00   \n6               80.0 2012-09-12 04:00:00+00:00   \n8               80.0 2011-03-11 05:00:00+00:00   \n...              ...                       ...   \n7939           204.0 2010-12-16 05:00:00+00:00   \n7940            87.0 2010-12-16 05:00:00+00:00   \n7942           180.0 2010-12-16 05:00:00+00:00   \n7944           143.0 2012-12-17 05:00:00+00:00   \n7945            87.0 2010-12-17 05:00:00+00:00   \n\n                                       ExtractedSubject  \\\nId                                                        \n2                                                   NaN   \n3                                     Re: Chris Stevens   \n5                                                   NaN   \n6     Meet The Right Wing Extremist Behind Anti-Musl...   \n8                                                   NaN   \n...                                                 ...   \n7939                                             update   \n7940                             Fwd: FW: Richard (TNR)   \n7942                                             Senate   \n7944                                                NaN   \n7945                     FW: Note for Secretary Clinton   \n\n                                      ExtractedBodyText  DateYear  DateMonth  \\\nId                                                                             \n2     B6\\nThursday, March 3, 2011 9:45 PM\\nH: Latest...      2011          3   \n3                                                   Thx      2012          9   \n5     H <hrod17@clintonemail.com>\\nFriday, March 11,...      2011          3   \n6     Pis print.\\n-•-...-^\\nH < hrod17@clintonernail...      2012          9   \n8     H <hrod17@clintonemail.corn>\\nFriday, March 11...      2011          3   \n...                                                 ...       ...        ...   \n7939  Hi. Sorry I haven't had a chance to see you, b...      2010         12   \n7940  B6\\nI assume you saw this by now -- if not, it...      2010         12   \n7942  Big change of plans in the Senate. Senator Rei...      2010         12   \n7944  PVerveer B6\\nFriday, December 17, 2010 12:12 A...      2012         12   \n7945                                         See below.      2010         12   \n\n      DateDay                                          Tokenized  \nId                                                                \n2           3  [h, latest, syria, aiding, qaddafi, sid, hrc, ...  \n3          12                                              [thx]  \n5          11  [huma, abedin, hrc, memo, syria, aiding, libya...  \n6          12  [state.gov', meat, sent, subject, meet, right,...  \n8          11  [huma, abedin, hrc, memo, syria, aiding, libya...  \n...       ...                                                ...  \n7939       16  [hi, sorry, chance, see, want, hear, directly,...  \n7940       16     [assume, saw, worth, read, forwarded, message]  \n7942       16  [big, change, plans, senate, senator, reid, an...  \n7944       17  [pverveer, please, let, know, help, department...  \n7945       17                                              [see]  \n\n[6737 rows x 8 columns]",
      "text/html": "<div>\n<style scoped>\n    .dataframe tbody tr th:only-of-type {\n        vertical-align: middle;\n    }\n\n    .dataframe tbody tr th {\n        vertical-align: top;\n    }\n\n    .dataframe thead th {\n        text-align: right;\n    }\n</style>\n<table border=\"1\" class=\"dataframe\">\n  <thead>\n    <tr style=\"text-align: right;\">\n      <th></th>\n      <th>SenderPersonId</th>\n      <th>MetadataDateSent</th>\n      <th>ExtractedSubject</th>\n      <th>ExtractedBodyText</th>\n      <th>DateYear</th>\n      <th>DateMonth</th>\n      <th>DateDay</th>\n      <th>Tokenized</th>\n    </tr>\n    <tr>\n      <th>Id</th>\n      <th></th>\n      <th></th>\n      <th></th>\n      <th></th>\n      <th></th>\n      <th></th>\n      <th></th>\n      <th></th>\n    </tr>\n  </thead>\n  <tbody>\n    <tr>\n      <th>2</th>\n      <td>NaN</td>\n      <td>2011-03-03 05:00:00+00:00</td>\n      <td>NaN</td>\n      <td>B6\\nThursday, March 3, 2011 9:45 PM\\nH: Latest...</td>\n      <td>2011</td>\n      <td>3</td>\n      <td>3</td>\n      <td>[h, latest, syria, aiding, qaddafi, sid, hrc, ...</td>\n    </tr>\n    <tr>\n      <th>3</th>\n      <td>32.0</td>\n      <td>2012-09-12 04:00:00+00:00</td>\n      <td>Re: Chris Stevens</td>\n      <td>Thx</td>\n      <td>2012</td>\n      <td>9</td>\n      <td>12</td>\n      <td>[thx]</td>\n    </tr>\n    <tr>\n      <th>5</th>\n      <td>80.0</td>\n      <td>2011-03-11 05:00:00+00:00</td>\n      <td>NaN</td>\n      <td>H &lt;hrod17@clintonemail.com&gt;\\nFriday, March 11,...</td>\n      <td>2011</td>\n      <td>3</td>\n      <td>11</td>\n      <td>[huma, abedin, hrc, memo, syria, aiding, libya...</td>\n    </tr>\n    <tr>\n      <th>6</th>\n      <td>80.0</td>\n      <td>2012-09-12 04:00:00+00:00</td>\n      <td>Meet The Right Wing Extremist Behind Anti-Musl...</td>\n      <td>Pis print.\\n-•-...-^\\nH &lt; hrod17@clintonernail...</td>\n      <td>2012</td>\n      <td>9</td>\n      <td>12</td>\n      <td>[state.gov', meat, sent, subject, meet, right,...</td>\n    </tr>\n    <tr>\n      <th>8</th>\n      <td>80.0</td>\n      <td>2011-03-11 05:00:00+00:00</td>\n      <td>NaN</td>\n      <td>H &lt;hrod17@clintonemail.corn&gt;\\nFriday, March 11...</td>\n      <td>2011</td>\n      <td>3</td>\n      <td>11</td>\n      <td>[huma, abedin, hrc, memo, syria, aiding, libya...</td>\n    </tr>\n    <tr>\n      <th>...</th>\n      <td>...</td>\n      <td>...</td>\n      <td>...</td>\n      <td>...</td>\n      <td>...</td>\n      <td>...</td>\n      <td>...</td>\n      <td>...</td>\n    </tr>\n    <tr>\n      <th>7939</th>\n      <td>204.0</td>\n      <td>2010-12-16 05:00:00+00:00</td>\n      <td>update</td>\n      <td>Hi. Sorry I haven't had a chance to see you, b...</td>\n      <td>2010</td>\n      <td>12</td>\n      <td>16</td>\n      <td>[hi, sorry, chance, see, want, hear, directly,...</td>\n    </tr>\n    <tr>\n      <th>7940</th>\n      <td>87.0</td>\n      <td>2010-12-16 05:00:00+00:00</td>\n      <td>Fwd: FW: Richard (TNR)</td>\n      <td>B6\\nI assume you saw this by now -- if not, it...</td>\n      <td>2010</td>\n      <td>12</td>\n      <td>16</td>\n      <td>[assume, saw, worth, read, forwarded, message]</td>\n    </tr>\n    <tr>\n      <th>7942</th>\n      <td>180.0</td>\n      <td>2010-12-16 05:00:00+00:00</td>\n      <td>Senate</td>\n      <td>Big change of plans in the Senate. Senator Rei...</td>\n      <td>2010</td>\n      <td>12</td>\n      <td>16</td>\n      <td>[big, change, plans, senate, senator, reid, an...</td>\n    </tr>\n    <tr>\n      <th>7944</th>\n      <td>143.0</td>\n      <td>2012-12-17 05:00:00+00:00</td>\n      <td>NaN</td>\n      <td>PVerveer B6\\nFriday, December 17, 2010 12:12 A...</td>\n      <td>2012</td>\n      <td>12</td>\n      <td>17</td>\n      <td>[pverveer, please, let, know, help, department...</td>\n    </tr>\n    <tr>\n      <th>7945</th>\n      <td>87.0</td>\n      <td>2010-12-17 05:00:00+00:00</td>\n      <td>FW: Note for Secretary Clinton</td>\n      <td>See below.</td>\n      <td>2010</td>\n      <td>12</td>\n      <td>17</td>\n      <td>[see]</td>\n    </tr>\n  </tbody>\n</table>\n<p>6737 rows × 8 columns</p>\n</div>"
     },
     "execution_count": 3,
     "metadata": {},
     "output_type": "execute_result"
    }
   ],
   "source": [
    "# Read dataframe\n",
    "df = pd.read_pickle(SERIALIZATION_FOLDER + DF_NAME)\n",
    "df"
   ],
   "metadata": {
    "collapsed": false,
    "pycharm": {
     "name": "#%%\n"
    }
   }
  },
  {
   "cell_type": "code",
   "execution_count": null,
   "outputs": [],
   "source": [],
   "metadata": {
    "collapsed": false,
    "pycharm": {
     "name": "#%%\n"
    }
   }
  }
 ],
 "metadata": {
  "kernelspec": {
   "display_name": "Python 3",
   "language": "python",
   "name": "python3"
  },
  "language_info": {
   "codemirror_mode": {
    "name": "ipython",
    "version": 2
   },
   "file_extension": ".py",
   "mimetype": "text/x-python",
   "name": "python",
   "nbconvert_exporter": "python",
   "pygments_lexer": "ipython2",
   "version": "2.7.6"
  }
 },
 "nbformat": 4,
 "nbformat_minor": 0
}