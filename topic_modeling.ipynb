{
 "cells": [
  {
   "cell_type": "code",
   "metadata": {
    "collapsed": true,
    "pycharm": {
     "name": "#%%\n"
    }
   },
   "source": [
    "import pandas as pd\n",
    "import nltk\n",
    "import string\n",
    "from nltk.corpus import stopwords\n",
    "from nltk.tokenize import word_tokenize, sent_tokenize\n",
    "import regex as re\n",
    "from nltk.stem import PorterStemmer\n",
    "from pandarallel import pandarallel\n",
    "import itertools\n",
    "import collections\n",
    "\n",
    "stemmer = PorterStemmer()\n",
    "\n",
    "pandarallel.initialize(progress_bar = False)\n",
    "\n",
    "# Serialization folder\n",
    "SERIALIZATION_FOLDER = \"pickle/\"\n",
    "\n",
    "# Serialization folder\n",
    "DF_NAME = \"df.pkl\"\n",
    "\n",
    "# Environment\n",
    "DATA_PATH = 'data/'\n",
    "EMAIL_DATA = 'Emails.csv'\n",
    "\n",
    "ASUM_PATH = 'asum/'\n",
    "\n",
    "TOKENS_THLD = 15\n",
    "\n",
    "FREQ_THLD = 10"
   ],
   "execution_count": 1,
   "outputs": [
    {
     "name": "stdout",
     "output_type": "stream",
     "text": [
      "INFO: Pandarallel will run on 12 workers.\n",
      "INFO: Pandarallel will use standard multiprocessing data transfer (pipe) to transfer data between the main process and workers.\n"
     ]
    }
   ]
  },
  {
   "cell_type": "code",
   "execution_count": 2,
   "outputs": [
    {
     "name": "stdout",
     "output_type": "stream",
     "text": [
      "Length before: 6737\n",
      "Length after: 1752\n"
     ]
    },
    {
     "data": {
      "text/plain": "    SenderPersonId          MetadataDateSent  \\\nId                                             \n2              NaN 2011-03-03 05:00:00+00:00   \n6             80.0 2012-09-12 04:00:00+00:00   \n14            10.0 2011-03-13 05:00:00+00:00   \n15            32.0 2012-09-12 04:00:00+00:00   \n16            77.0 2012-09-12 04:00:00+00:00   \n\n                                     ExtractedSubject  \\\nId                                                      \n2                                                 NaN   \n6   Meet The Right Wing Extremist Behind Anti-Musl...   \n14                                                NaN   \n15                           RE: Not a dry eye in NEA   \n16                                                NaN   \n\n                                    ExtractedBodyText  DateYear  DateMonth  \\\nId                                                                           \n2   B6\\nThursday, March 3, 2011 9:45 PM\\nH: Latest...      2011          3   \n6   Pis print.\\n-•-...-^\\nH < hrod17@clintonernail...      2012          9   \n14  Anne-Marie Slaughter\\nSunday, March 13, 2011 9...      2011          3   \n15  _ .....\\nFrom Randolph, Lawrence M\\nSent: Wedn...      2012          9   \n16  I asked to attend your svtc today with Embassy...      2012          9   \n\n    DateDay                           ExtractedBodyTextCleaned  \\\nId                                                               \n2         3  b6\\nh: latest how syria is aiding qaddafi and ...   \n6        12  °russorv@state.gov'\\nfrom [meat)\\nsent: to: 11...   \n14       13  anne-marie slaughter\\njacob mills, cheryl d; r...   \n15       12  _ .....\\nfrom randolph, lawrence m\\nsent: to: ...   \n16       12  i asked to attend your svtc today with embassy...   \n\n                                            Tokenized  \nId                                                     \n2   [h, latest, syria, aiding, qaddafi, sid, hrc, ...  \n6   [state.gov', meat, sent, subject, meet, right,...  \n14  [anne-marie, slaughter, jacob, mills, cheryl, ...  \n15  [randolph, lawrence, sent, mills, cheryl, subj...  \n16  [asked, attend, svtc, today, embassy, tripoli,...  ",
      "text/html": "<div>\n<style scoped>\n    .dataframe tbody tr th:only-of-type {\n        vertical-align: middle;\n    }\n\n    .dataframe tbody tr th {\n        vertical-align: top;\n    }\n\n    .dataframe thead th {\n        text-align: right;\n    }\n</style>\n<table border=\"1\" class=\"dataframe\">\n  <thead>\n    <tr style=\"text-align: right;\">\n      <th></th>\n      <th>SenderPersonId</th>\n      <th>MetadataDateSent</th>\n      <th>ExtractedSubject</th>\n      <th>ExtractedBodyText</th>\n      <th>DateYear</th>\n      <th>DateMonth</th>\n      <th>DateDay</th>\n      <th>ExtractedBodyTextCleaned</th>\n      <th>Tokenized</th>\n    </tr>\n    <tr>\n      <th>Id</th>\n      <th></th>\n      <th></th>\n      <th></th>\n      <th></th>\n      <th></th>\n      <th></th>\n      <th></th>\n      <th></th>\n      <th></th>\n    </tr>\n  </thead>\n  <tbody>\n    <tr>\n      <th>2</th>\n      <td>NaN</td>\n      <td>2011-03-03 05:00:00+00:00</td>\n      <td>NaN</td>\n      <td>B6\\nThursday, March 3, 2011 9:45 PM\\nH: Latest...</td>\n      <td>2011</td>\n      <td>3</td>\n      <td>3</td>\n      <td>b6\\nh: latest how syria is aiding qaddafi and ...</td>\n      <td>[h, latest, syria, aiding, qaddafi, sid, hrc, ...</td>\n    </tr>\n    <tr>\n      <th>6</th>\n      <td>80.0</td>\n      <td>2012-09-12 04:00:00+00:00</td>\n      <td>Meet The Right Wing Extremist Behind Anti-Musl...</td>\n      <td>Pis print.\\n-•-...-^\\nH &lt; hrod17@clintonernail...</td>\n      <td>2012</td>\n      <td>9</td>\n      <td>12</td>\n      <td>°russorv@state.gov'\\nfrom [meat)\\nsent: to: 11...</td>\n      <td>[state.gov', meat, sent, subject, meet, right,...</td>\n    </tr>\n    <tr>\n      <th>14</th>\n      <td>10.0</td>\n      <td>2011-03-13 05:00:00+00:00</td>\n      <td>NaN</td>\n      <td>Anne-Marie Slaughter\\nSunday, March 13, 2011 9...</td>\n      <td>2011</td>\n      <td>3</td>\n      <td>13</td>\n      <td>anne-marie slaughter\\njacob mills, cheryl d; r...</td>\n      <td>[anne-marie, slaughter, jacob, mills, cheryl, ...</td>\n    </tr>\n    <tr>\n      <th>15</th>\n      <td>32.0</td>\n      <td>2012-09-12 04:00:00+00:00</td>\n      <td>RE: Not a dry eye in NEA</td>\n      <td>_ .....\\nFrom Randolph, Lawrence M\\nSent: Wedn...</td>\n      <td>2012</td>\n      <td>9</td>\n      <td>12</td>\n      <td>_ .....\\nfrom randolph, lawrence m\\nsent: to: ...</td>\n      <td>[randolph, lawrence, sent, mills, cheryl, subj...</td>\n    </tr>\n    <tr>\n      <th>16</th>\n      <td>77.0</td>\n      <td>2012-09-12 04:00:00+00:00</td>\n      <td>NaN</td>\n      <td>I asked to attend your svtc today with Embassy...</td>\n      <td>2012</td>\n      <td>9</td>\n      <td>12</td>\n      <td>i asked to attend your svtc today with embassy...</td>\n      <td>[asked, attend, svtc, today, embassy, tripoli,...</td>\n    </tr>\n  </tbody>\n</table>\n</div>"
     },
     "execution_count": 2,
     "metadata": {},
     "output_type": "execute_result"
    }
   ],
   "source": [
    "df = pd.read_pickle(SERIALIZATION_FOLDER + DF_NAME)\n",
    "\n",
    "print(f\"Length before: {len(df)}\")\n",
    "df = df[df[\"Tokenized\"].apply(lambda x: len(x)) > TOKENS_THLD]\n",
    "print(f\"Length after: {len(df)}\")\n",
    "df.head()"
   ],
   "metadata": {
    "collapsed": false,
    "pycharm": {
     "name": "#%%\n"
    }
   }
  },
  {
   "cell_type": "code",
   "execution_count": 3,
   "outputs": [],
   "source": [
    "def tokenize_sentence(sentence, stem=True):\n",
    "    tokenized = word_tokenize(sentence)\n",
    "    # Strip tokens\n",
    "    tokenized = [token.strip() for token in tokenized]\n",
    "    # Strict regex rule\n",
    "    tokenized = [token for token in tokenized if re.match('\\w+', token)]\n",
    "    # Remove punctuation\n",
    "    tokenized = [token for token in tokenized if token not in string.punctuation]\n",
    "    # Remove stopwords\n",
    "    stop = stopwords.words('english') + [':', '.', '@'] + [\"n't\"]\n",
    "    tokenized = [token for token in tokenized if token not in stop]\n",
    "    # Remove numbers\n",
    "    tokenized = [token for token in tokenized if not re.search(r'\\d', token)]\n",
    "    if stem:\n",
    "        tokenized = [stemmer.stem(token) for token in tokenized]\n",
    "    return tokenized\n",
    "\n",
    "def preprocess_asum(body):\n",
    "    sentences = sent_tokenize(body)\n",
    "    sentences = [tokenize_sentence(sentence) for sentence in sentences]\n",
    "    return [s for s in sentences if s != []]"
   ],
   "metadata": {
    "collapsed": false,
    "pycharm": {
     "name": "#%%\n"
    }
   }
  },
  {
   "cell_type": "code",
   "execution_count": 4,
   "outputs": [
    {
     "data": {
      "text/plain": "\"i asked to attend your svtc today with embassy tripoli, because had first met so many of that staff when i went with\\nyou from malta to tripoli for the reopening of our embassy.\\ntoday's deaths hit me much harder than i would have guessed. i am always proud to serve under you, but never have\\nyour words been more meaningful than on today's svtc. every day of your tenure has been extraordinary, but none\\nmore so than today. thank you again for your inspirational leadership and example.\\nas ever,\\nharold\\nu.s. department of state\\ncase no. f-2015-04841\\ndoc no. c05739571\\ndate: 05/13/2015\\nstate dept. - produced to house select benghazi comm.\\nsubject to agreement on sensitive information & redactions. no foia waiver. state-scb0045269\""
     },
     "execution_count": 4,
     "metadata": {},
     "output_type": "execute_result"
    }
   ],
   "source": [
    "text = df.iloc[4]['ExtractedBodyTextCleaned']\n",
    "text"
   ],
   "metadata": {
    "collapsed": false,
    "pycharm": {
     "name": "#%%\n"
    }
   }
  },
  {
   "cell_type": "code",
   "execution_count": 5,
   "outputs": [
    {
     "data": {
      "text/plain": "['i asked to attend your svtc today with embassy tripoli, because had first met so many of that staff when i went with\\nyou from malta to tripoli for the reopening of our embassy.',\n \"today's deaths hit me much harder than i would have guessed.\",\n \"i am always proud to serve under you, but never have\\nyour words been more meaningful than on today's svtc.\",\n 'every day of your tenure has been extraordinary, but none\\nmore so than today.',\n 'thank you again for your inspirational leadership and example.',\n 'as ever,\\nharold\\nu.s. department of state\\ncase no.',\n 'f-2015-04841\\ndoc no.',\n 'c05739571\\ndate: 05/13/2015\\nstate dept.',\n '- produced to house select benghazi comm.',\n 'subject to agreement on sensitive information & redactions.',\n 'no foia waiver.',\n 'state-scb0045269']"
     },
     "execution_count": 5,
     "metadata": {},
     "output_type": "execute_result"
    }
   ],
   "source": [
    "sent_text = nltk.sent_tokenize(text)\n",
    "sent_text"
   ],
   "metadata": {
    "collapsed": false,
    "pycharm": {
     "name": "#%%\n"
    }
   }
  },
  {
   "cell_type": "code",
   "execution_count": 6,
   "outputs": [
    {
     "data": {
      "text/plain": "[['ask',\n  'attend',\n  'svtc',\n  'today',\n  'embassi',\n  'tripoli',\n  'first',\n  'met',\n  'mani',\n  'staff',\n  'went',\n  'malta',\n  'tripoli',\n  'reopen',\n  'embassi'],\n ['today', 'death', 'hit', 'much', 'harder', 'would', 'guess'],\n ['alway', 'proud', 'serv', 'never', 'word', 'meaning', 'today', 'svtc'],\n ['everi', 'day', 'tenur', 'extraordinari', 'none', 'today'],\n ['thank', 'inspir', 'leadership', 'exampl'],\n ['ever', 'harold', 'u.s.', 'depart', 'state', 'case'],\n ['doc'],\n ['date', 'state', 'dept'],\n ['produc', 'hous', 'select', 'benghazi', 'comm'],\n ['subject', 'agreement', 'sensit', 'inform', 'redact'],\n ['foia', 'waiver'],\n []]"
     },
     "execution_count": 6,
     "metadata": {},
     "output_type": "execute_result"
    }
   ],
   "source": [
    "[tokenize_sentence(s) for s in sent_text]"
   ],
   "metadata": {
    "collapsed": false,
    "pycharm": {
     "name": "#%%\n"
    }
   }
  },
  {
   "cell_type": "code",
   "execution_count": 7,
   "outputs": [
    {
     "data": {
      "text/plain": "    SenderPersonId          MetadataDateSent  \\\nId                                             \n2              NaN 2011-03-03 05:00:00+00:00   \n6             80.0 2012-09-12 04:00:00+00:00   \n14            10.0 2011-03-13 05:00:00+00:00   \n15            32.0 2012-09-12 04:00:00+00:00   \n16            77.0 2012-09-12 04:00:00+00:00   \n\n                                     ExtractedSubject  \\\nId                                                      \n2                                                 NaN   \n6   Meet The Right Wing Extremist Behind Anti-Musl...   \n14                                                NaN   \n15                           RE: Not a dry eye in NEA   \n16                                                NaN   \n\n                                    ExtractedBodyText  DateYear  DateMonth  \\\nId                                                                           \n2   B6\\nThursday, March 3, 2011 9:45 PM\\nH: Latest...      2011          3   \n6   Pis print.\\n-•-...-^\\nH < hrod17@clintonernail...      2012          9   \n14  Anne-Marie Slaughter\\nSunday, March 13, 2011 9...      2011          3   \n15  _ .....\\nFrom Randolph, Lawrence M\\nSent: Wedn...      2012          9   \n16  I asked to attend your svtc today with Embassy...      2012          9   \n\n    DateDay                           ExtractedBodyTextCleaned  \\\nId                                                               \n2         3  b6\\nh: latest how syria is aiding qaddafi and ...   \n6        12  °russorv@state.gov'\\nfrom [meat)\\nsent: to: 11...   \n14       13  anne-marie slaughter\\njacob mills, cheryl d; r...   \n15       12  _ .....\\nfrom randolph, lawrence m\\nsent: to: ...   \n16       12  i asked to attend your svtc today with embassy...   \n\n                                            Tokenized  \\\nId                                                      \n2   [h, latest, syria, aiding, qaddafi, sid, hrc, ...   \n6   [state.gov', meat, sent, subject, meet, right,...   \n14  [anne-marie, slaughter, jacob, mills, cheryl, ...   \n15  [randolph, lawrence, sent, mills, cheryl, subj...   \n16  [asked, attend, svtc, today, embassy, tripoli,...   \n\n                                                 asum  \nId                                                     \n2   [[h, latest, syria, aid, qaddafi, sid, hrc, me...  \n6   [[state.gov', meat, sent, subject, meet, right...  \n14  [[anne-mari, slaughter, jacob, mill, cheryl, r...  \n15  [[randolph, lawrenc, sent, mill, cheryl, subje...  \n16  [[ask, attend, svtc, today, embassi, tripoli, ...  ",
      "text/html": "<div>\n<style scoped>\n    .dataframe tbody tr th:only-of-type {\n        vertical-align: middle;\n    }\n\n    .dataframe tbody tr th {\n        vertical-align: top;\n    }\n\n    .dataframe thead th {\n        text-align: right;\n    }\n</style>\n<table border=\"1\" class=\"dataframe\">\n  <thead>\n    <tr style=\"text-align: right;\">\n      <th></th>\n      <th>SenderPersonId</th>\n      <th>MetadataDateSent</th>\n      <th>ExtractedSubject</th>\n      <th>ExtractedBodyText</th>\n      <th>DateYear</th>\n      <th>DateMonth</th>\n      <th>DateDay</th>\n      <th>ExtractedBodyTextCleaned</th>\n      <th>Tokenized</th>\n      <th>asum</th>\n    </tr>\n    <tr>\n      <th>Id</th>\n      <th></th>\n      <th></th>\n      <th></th>\n      <th></th>\n      <th></th>\n      <th></th>\n      <th></th>\n      <th></th>\n      <th></th>\n      <th></th>\n    </tr>\n  </thead>\n  <tbody>\n    <tr>\n      <th>2</th>\n      <td>NaN</td>\n      <td>2011-03-03 05:00:00+00:00</td>\n      <td>NaN</td>\n      <td>B6\\nThursday, March 3, 2011 9:45 PM\\nH: Latest...</td>\n      <td>2011</td>\n      <td>3</td>\n      <td>3</td>\n      <td>b6\\nh: latest how syria is aiding qaddafi and ...</td>\n      <td>[h, latest, syria, aiding, qaddafi, sid, hrc, ...</td>\n      <td>[[h, latest, syria, aid, qaddafi, sid, hrc, me...</td>\n    </tr>\n    <tr>\n      <th>6</th>\n      <td>80.0</td>\n      <td>2012-09-12 04:00:00+00:00</td>\n      <td>Meet The Right Wing Extremist Behind Anti-Musl...</td>\n      <td>Pis print.\\n-•-...-^\\nH &lt; hrod17@clintonernail...</td>\n      <td>2012</td>\n      <td>9</td>\n      <td>12</td>\n      <td>°russorv@state.gov'\\nfrom [meat)\\nsent: to: 11...</td>\n      <td>[state.gov', meat, sent, subject, meet, right,...</td>\n      <td>[[state.gov', meat, sent, subject, meet, right...</td>\n    </tr>\n    <tr>\n      <th>14</th>\n      <td>10.0</td>\n      <td>2011-03-13 05:00:00+00:00</td>\n      <td>NaN</td>\n      <td>Anne-Marie Slaughter\\nSunday, March 13, 2011 9...</td>\n      <td>2011</td>\n      <td>3</td>\n      <td>13</td>\n      <td>anne-marie slaughter\\njacob mills, cheryl d; r...</td>\n      <td>[anne-marie, slaughter, jacob, mills, cheryl, ...</td>\n      <td>[[anne-mari, slaughter, jacob, mill, cheryl, r...</td>\n    </tr>\n    <tr>\n      <th>15</th>\n      <td>32.0</td>\n      <td>2012-09-12 04:00:00+00:00</td>\n      <td>RE: Not a dry eye in NEA</td>\n      <td>_ .....\\nFrom Randolph, Lawrence M\\nSent: Wedn...</td>\n      <td>2012</td>\n      <td>9</td>\n      <td>12</td>\n      <td>_ .....\\nfrom randolph, lawrence m\\nsent: to: ...</td>\n      <td>[randolph, lawrence, sent, mills, cheryl, subj...</td>\n      <td>[[randolph, lawrenc, sent, mill, cheryl, subje...</td>\n    </tr>\n    <tr>\n      <th>16</th>\n      <td>77.0</td>\n      <td>2012-09-12 04:00:00+00:00</td>\n      <td>NaN</td>\n      <td>I asked to attend your svtc today with Embassy...</td>\n      <td>2012</td>\n      <td>9</td>\n      <td>12</td>\n      <td>i asked to attend your svtc today with embassy...</td>\n      <td>[asked, attend, svtc, today, embassy, tripoli,...</td>\n      <td>[[ask, attend, svtc, today, embassi, tripoli, ...</td>\n    </tr>\n  </tbody>\n</table>\n</div>"
     },
     "execution_count": 7,
     "metadata": {},
     "output_type": "execute_result"
    }
   ],
   "source": [
    "df[\"asum\"] = df[\"ExtractedBodyTextCleaned\"].parallel_apply(preprocess_asum)\n",
    "df.head()"
   ],
   "metadata": {
    "collapsed": false,
    "pycharm": {
     "name": "#%%\n"
    }
   }
  },
  {
   "cell_type": "code",
   "execution_count": 8,
   "outputs": [
    {
     "name": "stdout",
     "output_type": "stream",
     "text": [
      "Describe tokens frequency\n"
     ]
    },
    {
     "data": {
      "text/plain": "count    20088.000000\nmean        13.966697\nstd         57.815385\nmin          1.000000\n25%          1.000000\n50%          2.000000\n75%          6.000000\nmax       2122.000000\ndtype: float64"
     },
     "execution_count": 8,
     "metadata": {},
     "output_type": "execute_result"
    }
   ],
   "source": [
    "flatten = list(itertools.chain(*list(itertools.chain(*df[\"asum\"]))))\n",
    "tokens_freq = collections.Counter(flatten)\n",
    "print(\"Describe tokens frequency\")\n",
    "pd.Series(tokens_freq.values()).describe()"
   ],
   "metadata": {
    "collapsed": false,
    "pycharm": {
     "name": "#%%\n"
    }
   }
  },
  {
   "cell_type": "code",
   "execution_count": 9,
   "outputs": [
    {
     "name": "stdout",
     "output_type": "stream",
     "text": [
      "After thld on frequency: 3419\n"
     ]
    }
   ],
   "source": [
    "top_tokens = [token for token, occ in tokens_freq.items() if occ > FREQ_THLD]\n",
    "print(f\"After thld on frequency: {len(top_tokens)}\")"
   ],
   "metadata": {
    "collapsed": false,
    "pycharm": {
     "name": "#%%\n"
    }
   }
  },
  {
   "cell_type": "code",
   "execution_count": 10,
   "outputs": [],
   "source": [
    "top_tokens = sorted(top_tokens)\n",
    "top_tokens = {idx: token for idx, token in zip(top_tokens, range(len(top_tokens)))}"
   ],
   "metadata": {
    "collapsed": false,
    "pycharm": {
     "name": "#%%\n"
    }
   }
  },
  {
   "cell_type": "code",
   "execution_count": 11,
   "outputs": [],
   "source": [
    "def resolve_asum(sentences):\n",
    "    # Resolve indices\n",
    "    resolved = []\n",
    "    for sentence in sentences:\n",
    "        resolved.append([top_tokens.get(token, None) for token in sentence])\n",
    "    # Remove None values\n",
    "    no_none = []\n",
    "    for l in resolved:\n",
    "        no_none.append([x for x in l if x is not None])\n",
    "    # Remove empty list\n",
    "    out_list = []\n",
    "    for l in no_none:\n",
    "        out_list.append([x for x in l if x != []])\n",
    "    # Remove empty body\n",
    "    return [x for x in out_list if x != []]"
   ],
   "metadata": {
    "collapsed": false,
    "pycharm": {
     "name": "#%%\n"
    }
   }
  },
  {
   "cell_type": "code",
   "execution_count": 15,
   "outputs": [
    {
     "data": {
      "text/plain": "Id\n2       [[1367, 1737, 3016, 89, 2447, 2795, 1462, 1919...\n6       [[2915, 2743, 2969, 1915, 2628, 3363, 1110, 29...\n14      [[149, 2824, 1618, 1950, 501, 6, 2281, 1787, 1...\n15      [[2743, 1950, 501, 2969, 1514, 1955], [2567, 2...\n16      [[212, 232, 3110, 983, 3163, 1185, 1930, 1864,...\n                              ...                        \n7934    [[955, 172, 343, 2136, 2379, 1912, 2414, 1514,...\n7938    [[763, 1027, 2329, 1733, 2063, 3276, 1761, 144...\n7939    [[2860, 481, 2728, 3306, 1404, 846, 1340, 2610...\n7942    [[320, 482, 2291, 2738], [2738, 2550, 151, 182...\n7944    [[2445, 2297, 1774, 1701, 1413, 798, 1385, 229...\nName: asum, Length: 1752, dtype: object"
     },
     "execution_count": 15,
     "metadata": {},
     "output_type": "execute_result"
    }
   ],
   "source": [
    "final_series = df[\"asum\"].parallel_apply(resolve_asum)\n",
    "final_series\n"
   ],
   "metadata": {
    "collapsed": false,
    "pycharm": {
     "name": "#%%\n"
    }
   }
  },
  {
   "cell_type": "code",
   "execution_count": 17,
   "outputs": [],
   "source": [
    "# Wordlist\n",
    "with open(ASUM_PATH + 'in/WordList.txt', \"w+\") as f:\n",
    "    for word in top_tokens.keys():\n",
    "        f.write(word + \"\\n\")"
   ],
   "metadata": {
    "collapsed": false,
    "pycharm": {
     "name": "#%%\n"
    }
   }
  },
  {
   "cell_type": "code",
   "execution_count": 20,
   "outputs": [],
   "source": [
    "# Bag of sentences\n",
    "with open(ASUM_PATH + 'in/BagOfSentences.txt.txt', \"w+\") as f:\n",
    "    for senteces in final_series:\n",
    "        f.write(str(len(senteces)) + \"\\n\")\n",
    "        for sentence in senteces:\n",
    "            f.write(' '.join([str(x) for x in sentence]) + '\\n')"
   ],
   "metadata": {
    "collapsed": false,
    "pycharm": {
     "name": "#%%\n"
    }
   }
  },
  {
   "cell_type": "code",
   "execution_count": 13,
   "outputs": [
    {
     "data": {
      "text/plain": "'\\njava sto2.STO2Core -s 2 -t 30 -i 1000 -th 3 -a 0.1 -b 0.001/0.1/0 -g 1/1 -d ../../Test\\\\ data/ -o /tmp/ciao\\n'"
     },
     "execution_count": 13,
     "metadata": {},
     "output_type": "execute_result"
    }
   ],
   "source": [
    "'''\n",
    "java sto2.STO2Core -s 2 -t 30 -i 1000 -th 3 -a 0.1 -b 0.001/0.1/0 -g 1/1 -d ../../Test\\ data/ -o /tmp/ciao\n",
    "'''"
   ],
   "metadata": {
    "collapsed": false,
    "pycharm": {
     "name": "#%%\n"
    }
   }
  }
 ],
 "metadata": {
  "kernelspec": {
   "display_name": "Python 3",
   "language": "python",
   "name": "python3"
  },
  "language_info": {
   "codemirror_mode": {
    "name": "ipython",
    "version": 2
   },
   "file_extension": ".py",
   "mimetype": "text/x-python",
   "name": "python",
   "nbconvert_exporter": "python",
   "pygments_lexer": "ipython2",
   "version": "2.7.6"
  }
 },
 "nbformat": 4,
 "nbformat_minor": 0
}