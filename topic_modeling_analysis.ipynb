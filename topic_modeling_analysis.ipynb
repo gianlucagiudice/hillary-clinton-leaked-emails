{
 "cells": [
  {
   "cell_type": "code",
   "execution_count": 3,
   "metadata": {
    "collapsed": true
   },
   "outputs": [],
   "source": [
    "import os\n",
    "import pandas as pd\n",
    "import re\n",
    "\n",
    "DATA_PATH = os.path.join('asum', 'out')\n",
    "FILENAME = 'STO2-T7-S2(2)-A0.1-B0.001,0.1,0.1-G1.0,1.0-I1000-ProbWords.csv'"
   ]
  },
  {
   "cell_type": "code",
   "execution_count": 16,
   "outputs": [
    {
     "name": "stdout",
     "output_type": "stream",
     "text": [
      "Number of topics: 7\n",
      "Number of sentiment: 2\n"
     ]
    }
   ],
   "source": [
    "# Parse filename\n",
    "n_topics = int(FILENAME.split('-')[1][1:])\n",
    "n_sentiment = int(FILENAME.split('-')[2][1:].split('(')[-1][:-1])\n",
    "\n",
    "print(f\"Number of topics: {str(n_topics)}\")\n",
    "print(f\"Number of sentiment: {str(n_sentiment)}\")"
   ],
   "metadata": {
    "collapsed": false,
    "pycharm": {
     "name": "#%%\n"
    }
   }
  },
  {
   "cell_type": "code",
   "execution_count": 22,
   "outputs": [
    {
     "data": {
      "text/plain": "          S0-T0             S0-T1               S0-T2              S0-T3  \\\n0  call (0.016)  benghazi (0.176)        sent (0.046)      state (0.133)   \n1  work (0.011)      comm (0.174)       thank (0.039)       date (0.070)   \n2   get (0.011)      hous (0.174)  blackberri (0.035)       dept (0.070)   \n3  want (0.010)    produc (0.173)        best (0.033)  agreement (0.069)   \n4  know (0.009)    select (0.173)        year (0.033)        doc (0.069)   \n\n            S0-T4               S0-T5            S0-T6              S1-T0  \\\n0   obama (0.007)  agricultur (0.031)        h (0.041)         pm (0.108)   \n1   would (0.007)     develop (0.018)      sid (0.031)  secretari (0.054)   \n2  presid (0.006)    approach (0.017)  foreign (0.026)      offic (0.053)   \n3    said (0.006)        need (0.017)      fyi (0.024)     depart (0.041)   \n4     one (0.005)     support (0.013)     memo (0.023)       room (0.039)   \n\n              S1-T1              S1-T2          S1-T3               S1-T4  \\\n0     state (0.009)     assist (0.049)   http (0.034)      receiv (0.024)   \n1     would (0.006)  secretari (0.040)   time (0.027)     percent (0.023)   \n2    govern (0.005)      state (0.037)  spoke (0.019)       among (0.022)   \n3      said (0.005)      pleas (0.027)    url (0.019)  republican (0.016)   \n4  american (0.005)     approv (0.026)   keep (0.018)       women (0.014)   \n\n              S1-T5              S1-T6  \n0     parti (0.020)    percent (0.077)  \n1      tori (0.014)        thx (0.052)  \n2   ireland (0.012)        cdm (0.047)  \n3   cameron (0.012)  disapprov (0.041)  \n4  northern (0.011)         jm (0.041)  ",
      "text/html": "<div>\n<style scoped>\n    .dataframe tbody tr th:only-of-type {\n        vertical-align: middle;\n    }\n\n    .dataframe tbody tr th {\n        vertical-align: top;\n    }\n\n    .dataframe thead th {\n        text-align: right;\n    }\n</style>\n<table border=\"1\" class=\"dataframe\">\n  <thead>\n    <tr style=\"text-align: right;\">\n      <th></th>\n      <th>S0-T0</th>\n      <th>S0-T1</th>\n      <th>S0-T2</th>\n      <th>S0-T3</th>\n      <th>S0-T4</th>\n      <th>S0-T5</th>\n      <th>S0-T6</th>\n      <th>S1-T0</th>\n      <th>S1-T1</th>\n      <th>S1-T2</th>\n      <th>S1-T3</th>\n      <th>S1-T4</th>\n      <th>S1-T5</th>\n      <th>S1-T6</th>\n    </tr>\n  </thead>\n  <tbody>\n    <tr>\n      <th>0</th>\n      <td>call (0.016)</td>\n      <td>benghazi (0.176)</td>\n      <td>sent (0.046)</td>\n      <td>state (0.133)</td>\n      <td>obama (0.007)</td>\n      <td>agricultur (0.031)</td>\n      <td>h (0.041)</td>\n      <td>pm (0.108)</td>\n      <td>state (0.009)</td>\n      <td>assist (0.049)</td>\n      <td>http (0.034)</td>\n      <td>receiv (0.024)</td>\n      <td>parti (0.020)</td>\n      <td>percent (0.077)</td>\n    </tr>\n    <tr>\n      <th>1</th>\n      <td>work (0.011)</td>\n      <td>comm (0.174)</td>\n      <td>thank (0.039)</td>\n      <td>date (0.070)</td>\n      <td>would (0.007)</td>\n      <td>develop (0.018)</td>\n      <td>sid (0.031)</td>\n      <td>secretari (0.054)</td>\n      <td>would (0.006)</td>\n      <td>secretari (0.040)</td>\n      <td>time (0.027)</td>\n      <td>percent (0.023)</td>\n      <td>tori (0.014)</td>\n      <td>thx (0.052)</td>\n    </tr>\n    <tr>\n      <th>2</th>\n      <td>get (0.011)</td>\n      <td>hous (0.174)</td>\n      <td>blackberri (0.035)</td>\n      <td>dept (0.070)</td>\n      <td>presid (0.006)</td>\n      <td>approach (0.017)</td>\n      <td>foreign (0.026)</td>\n      <td>offic (0.053)</td>\n      <td>govern (0.005)</td>\n      <td>state (0.037)</td>\n      <td>spoke (0.019)</td>\n      <td>among (0.022)</td>\n      <td>ireland (0.012)</td>\n      <td>cdm (0.047)</td>\n    </tr>\n    <tr>\n      <th>3</th>\n      <td>want (0.010)</td>\n      <td>produc (0.173)</td>\n      <td>best (0.033)</td>\n      <td>agreement (0.069)</td>\n      <td>said (0.006)</td>\n      <td>need (0.017)</td>\n      <td>fyi (0.024)</td>\n      <td>depart (0.041)</td>\n      <td>said (0.005)</td>\n      <td>pleas (0.027)</td>\n      <td>url (0.019)</td>\n      <td>republican (0.016)</td>\n      <td>cameron (0.012)</td>\n      <td>disapprov (0.041)</td>\n    </tr>\n    <tr>\n      <th>4</th>\n      <td>know (0.009)</td>\n      <td>select (0.173)</td>\n      <td>year (0.033)</td>\n      <td>doc (0.069)</td>\n      <td>one (0.005)</td>\n      <td>support (0.013)</td>\n      <td>memo (0.023)</td>\n      <td>room (0.039)</td>\n      <td>american (0.005)</td>\n      <td>approv (0.026)</td>\n      <td>keep (0.018)</td>\n      <td>women (0.014)</td>\n      <td>northern (0.011)</td>\n      <td>jm (0.041)</td>\n    </tr>\n  </tbody>\n</table>\n</div>"
     },
     "execution_count": 22,
     "metadata": {},
     "output_type": "execute_result"
    }
   ],
   "source": [
    "df = pd.read_csv(os.path.join(DATA_PATH, FILENAME))\n",
    "df = df.iloc[:,:n_topics*n_sentiment]\n",
    "\n",
    "pos_sentiment = df.iloc[:,:n_topics]\n",
    "neg_sentiment = df.iloc[:,n_topics:]\n",
    "\n",
    "df.head()"
   ],
   "metadata": {
    "collapsed": false,
    "pycharm": {
     "name": "#%%\n"
    }
   }
  },
  {
   "cell_type": "code",
   "execution_count": 67,
   "outputs": [],
   "source": [
    "TOP_K = 20\n",
    "\n",
    "def parse_topic(column):\n",
    "    parse = lambda row : (re.search(r'^([\\w\\s]+)\\s\\(', row).group(1),\n",
    "                          re.search(r'\\d+.\\d+', row).group(0))\n",
    "    parsed = map(parse, column)\n",
    "    return list(parsed)\n",
    "\n",
    "def extract_info(df_sentiment):\n",
    "    out_dict = dict()\n",
    "    for topic in df_sentiment:\n",
    "        out_dict[topic] = parse_topic(df_sentiment[topic])\n",
    "    return out_dict\n",
    "\n",
    "parsed_positive = extract_info(pos_sentiment)\n",
    "parsed_negative = extract_info(neg_sentiment)"
   ],
   "metadata": {
    "collapsed": false,
    "pycharm": {
     "name": "#%%\n"
    }
   }
  },
  {
   "cell_type": "code",
   "execution_count": null,
   "outputs": [],
   "source": [],
   "metadata": {
    "collapsed": false,
    "pycharm": {
     "name": "#%%\n"
    }
   }
  }
 ],
 "metadata": {
  "kernelspec": {
   "display_name": "Python 3",
   "language": "python",
   "name": "python3"
  },
  "language_info": {
   "codemirror_mode": {
    "name": "ipython",
    "version": 2
   },
   "file_extension": ".py",
   "mimetype": "text/x-python",
   "name": "python",
   "nbconvert_exporter": "python",
   "pygments_lexer": "ipython2",
   "version": "2.7.6"
  }
 },
 "nbformat": 4,
 "nbformat_minor": 0
}