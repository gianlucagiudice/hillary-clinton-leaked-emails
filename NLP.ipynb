{
 "cells": [
  {
   "cell_type": "code",
   "execution_count": 94,
   "metadata": {},
   "outputs": [
    {
     "name": "stderr",
     "output_type": "stream",
     "text": [
      "<ipython-input-94-c8363f98b771>:15: FutureWarning:\n",
      "\n",
      "Passing a negative integer is deprecated in version 1.0 and will not be supported in future version. Instead, use None to not limit the column width.\n",
      "\n"
     ]
    }
   ],
   "source": [
    "import pandas as pd\n",
    "import numpy as np\n",
    "import plotly.graph_objects as go\n",
    "\n",
    "# import seaborn as sns\n",
    "# import matplotlib.pyplot as plt\n",
    "# import squarify\n",
    "# import plotly.express as px\n",
    "\n",
    "TOP_K = 15\n",
    "\n",
    "pd.set_option('display.max_rows', None)\n",
    "pd.set_option('display.max_columns', None)\n",
    "pd.set_option('display.width', None)\n",
    "pd.set_option('display.max_colwidth', -1)"
   ]
  },
  {
   "cell_type": "code",
   "execution_count": 95,
   "metadata": {
    "pycharm": {
     "name": "#%%\n"
    }
   },
   "outputs": [
    {
     "name": "stdout",
     "output_type": "stream",
     "text": [
      "First email was on: 2008-05-01 00:00:00\n",
      "Last email was on: 2014-12-14 00:00:00\n",
      "The dataset covers 2418 days 00:00:00 days\n",
      "The most active day was 2009-12-23 00:00:00 with 47 emails\n"
     ]
    }
   ],
   "source": [
    "dataset = pd.read_csv(\"./data/Emails.csv\")\n",
    "df = pd.DataFrame(dataset)\n",
    "\n",
    "df.rename(columns={\"MetadataDateSent\": \"DateSent\"}, inplace=True)\n",
    "df = pd.DataFrame(df[[\"SenderPersonId\",\"DateSent\"]])\n",
    "df.dropna(inplace = True)\n",
    "\n",
    "df[\"DateSent\"] = df[\"DateSent\"].astype(str)\n",
    "df[\"DateSent\"]= df[\"DateSent\"].str.slice(0, 10, 1)\n",
    "df[\"DateSent\"] = pd.to_datetime(df[\"DateSent\"])\n",
    "\n",
    "df[\"SenderPersonId\"] = df[\"SenderPersonId\"].astype(str)\n",
    "df[\"SenderPersonId\"] = df[\"SenderPersonId\"].str.slice(0, -2, 1)\n",
    "\n",
    "print(\"First email was on:\", df.DateSent.min())\n",
    "print(\"Last email was on:\", df.DateSent.max())\n",
    "print(\"The dataset covers\", df.DateSent.max() - df.DateSent.min(), \"days\")\n",
    "print(\"The most active day was\",df[\"DateSent\"].value_counts().index[0],\n",
    "      \"with\",df[\"DateSent\"].value_counts()[0],\"emails\")"
   ]
  },
  {
   "cell_type": "code",
   "execution_count": 96,
   "metadata": {
    "pycharm": {
     "name": "#%%\n"
    }
   },
   "outputs": [
    {
     "name": "stderr",
     "output_type": "stream",
     "text": [
      "/Users/gianlucagiudice/.pyenv/versions/3.8.7/lib/python3.8/site-packages/pandas/core/indexing.py:1637: SettingWithCopyWarning:\n",
      "\n",
      "\n",
      "A value is trying to be set on a copy of a slice from a DataFrame\n",
      "\n",
      "See the caveats in the documentation: https://pandas.pydata.org/pandas-docs/stable/user_guide/indexing.html#returning-a-view-versus-a-copy\n",
      "\n"
     ]
    }
   ],
   "source": [
    "# Assegnare ID in persons.csv a dataframe principale, così da poter tradurre gli IDs in nomi\n",
    "persons = pd.read_csv(\"./data/Persons.csv\")\n",
    "persons = persons.to_dict()\n",
    "persons = persons[\"Name\"]\n",
    "df[\"SenderFullName\"] = None\n",
    "\n",
    "i = 0\n",
    "for cell,i in zip(df[\"SenderPersonId\"].items(),range(0,len(df))):\n",
    "    for key in persons.keys():\n",
    "        if cell[1] == str(key):\n",
    "            df[\"SenderFullName\"].iloc[i] = persons[key-1]\n",
    "            i += 1"
   ]
  },
  {
   "cell_type": "code",
   "execution_count": 97,
   "metadata": {
    "pycharm": {
     "name": "#%%\n"
    }
   },
   "outputs": [
    {
     "name": "stdout",
     "output_type": "stream",
     "text": [
      "In 490 giorni, cioè il 6.0% del totale dei giorni, si è concentrato il 90.0% degli scambi di mail\n"
     ]
    }
   ],
   "source": [
    "i = 0\n",
    "x = 0\n",
    "num = 490\n",
    "while i < 10:\n",
    "    for date in df['DateSent'].value_counts(normalize=True)[:num]:\n",
    "        x += df['DateSent'].value_counts(normalize=True)[i]\n",
    "        i += 1\n",
    "print(f\"In {num} giorni, cioè il {round(num/int(df['DateSent'].count()),2)*100}% del totale dei \"\n",
    "      f\"giorni, si è concentrato il {round(x,2)*100}% degli scambi di mail\")"
   ]
  },
  {
   "cell_type": "code",
   "execution_count": 98,
   "metadata": {
    "pycharm": {
     "name": "#%%\n"
    },
    "scrolled": true
   },
   "outputs": [
    {
     "name": "stdout",
     "output_type": "stream",
     "text": [
      "10 persone, cioè il 2.0% del totale, sono responsabili per il 89.0% del flusso di mail\n"
     ]
    }
   ],
   "source": [
    "# Trovare 10 persone più attive nel dataset\n",
    "top10people = df[\"SenderFullName\"].value_counts(normalize=True)\n",
    "# print(df[\"SenderFullName\"].value_counts(normalize=True)[:10])\n",
    "su1 = df[\"SenderFullName\"].value_counts()[:10].index.to_list()\n",
    "i = 0\n",
    "x = 0\n",
    "# print(df[\"SenderFullName\"].value_counts().index[i])\n",
    "\n",
    "names = []\n",
    "percs = []\n",
    "while i < 10:\n",
    "    for date in df[\"SenderFullName\"].value_counts(normalize=True)[:10]:\n",
    "        x += df[\"SenderFullName\"].value_counts(normalize=True)[i]\n",
    "        name_to_add = df[\"SenderFullName\"].value_counts().index[i]\n",
    "        perc_to_add = round(df[\"SenderFullName\"].value_counts(normalize=True)[i]*100)\n",
    "        names.append(name_to_add)\n",
    "        percs.append(perc_to_add)\n",
    "        i += 1\n",
    "\n",
    "names.append(\"Others\")\n",
    "percs.append(10)\n",
    "\n",
    "print(f\"10 persone, cioè il {round(10/len(persons),2)*100}% del totale,\"\n",
    "      f\" sono responsabili per il {round(x,2)*100}% del flusso di mail\")"
   ]
  },
  {
   "cell_type": "code",
   "execution_count": 99,
   "metadata": {
    "scrolled": true
   },
   "outputs": [
    {
     "name": "stdout",
     "output_type": "stream",
     "text": [
      "Hillary Clinton         0.256738\n",
      "Huma Abedin             0.185300\n",
      "Cheryl Mills            0.169826\n",
      "Jake Sullivan           0.112315\n",
      "Sidney Blumenthal       0.048098\n",
      "Lauren Jiloty           0.043972\n",
      "Philippe Reines         0.020503\n",
      "Lona Valmoro            0.019987\n",
      "Anne-Marie Slaughter    0.016763\n",
      "Richard Verma           0.015216\n",
      "Name: SenderFullName, dtype: float64\n"
     ]
    },
    {
     "data": {
      "application/vnd.plotly.v1+json": {
       "config": {
        "plotlyServerURL": "https://plot.ly"
       },
       "data": [
        {
         "domain": {
          "x": [
           0.0,
           1.0
          ],
          "y": [
           0.0,
           1.0
          ]
         },
         "hovertemplate": "label=%{label}<br>value=%{value}<extra></extra>",
         "labels": [
          "Hillary Clinton",
          "Huma Abedin",
          "Cheryl Mills",
          "Jake Sullivan",
          "Sidney Blumenthal",
          "Lauren Jiloty",
          "Philippe Reines",
          "Lona Valmoro",
          "Anne-Marie Slaughter",
          "Richard Verma"
         ],
         "legendgroup": "",
         "name": "",
         "showlegend": true,
         "type": "pie",
         "values": [
          0.25673758865248225,
          0.18529980657640233,
          0.16982591876208897,
          0.11231463571889104,
          0.04809800128949065,
          0.04397163120567376,
          0.020502901353965184,
          0.019987105093488073,
          0.016763378465506126,
          0.01521598968407479
         ]
        }
       ],
       "layout": {
        "legend": {
         "tracegroupgap": 0
        },
        "margin": {
         "t": 60
        },
        "template": {
         "data": {
          "bar": [
           {
            "error_x": {
             "color": "#2a3f5f"
            },
            "error_y": {
             "color": "#2a3f5f"
            },
            "marker": {
             "line": {
              "color": "#E5ECF6",
              "width": 0.5
             }
            },
            "type": "bar"
           }
          ],
          "barpolar": [
           {
            "marker": {
             "line": {
              "color": "#E5ECF6",
              "width": 0.5
             }
            },
            "type": "barpolar"
           }
          ],
          "carpet": [
           {
            "aaxis": {
             "endlinecolor": "#2a3f5f",
             "gridcolor": "white",
             "linecolor": "white",
             "minorgridcolor": "white",
             "startlinecolor": "#2a3f5f"
            },
            "baxis": {
             "endlinecolor": "#2a3f5f",
             "gridcolor": "white",
             "linecolor": "white",
             "minorgridcolor": "white",
             "startlinecolor": "#2a3f5f"
            },
            "type": "carpet"
           }
          ],
          "choropleth": [
           {
            "colorbar": {
             "outlinewidth": 0,
             "ticks": ""
            },
            "type": "choropleth"
           }
          ],
          "contour": [
           {
            "colorbar": {
             "outlinewidth": 0,
             "ticks": ""
            },
            "colorscale": [
             [
              0.0,
              "#0d0887"
             ],
             [
              0.1111111111111111,
              "#46039f"
             ],
             [
              0.2222222222222222,
              "#7201a8"
             ],
             [
              0.3333333333333333,
              "#9c179e"
             ],
             [
              0.4444444444444444,
              "#bd3786"
             ],
             [
              0.5555555555555556,
              "#d8576b"
             ],
             [
              0.6666666666666666,
              "#ed7953"
             ],
             [
              0.7777777777777778,
              "#fb9f3a"
             ],
             [
              0.8888888888888888,
              "#fdca26"
             ],
             [
              1.0,
              "#f0f921"
             ]
            ],
            "type": "contour"
           }
          ],
          "contourcarpet": [
           {
            "colorbar": {
             "outlinewidth": 0,
             "ticks": ""
            },
            "type": "contourcarpet"
           }
          ],
          "heatmap": [
           {
            "colorbar": {
             "outlinewidth": 0,
             "ticks": ""
            },
            "colorscale": [
             [
              0.0,
              "#0d0887"
             ],
             [
              0.1111111111111111,
              "#46039f"
             ],
             [
              0.2222222222222222,
              "#7201a8"
             ],
             [
              0.3333333333333333,
              "#9c179e"
             ],
             [
              0.4444444444444444,
              "#bd3786"
             ],
             [
              0.5555555555555556,
              "#d8576b"
             ],
             [
              0.6666666666666666,
              "#ed7953"
             ],
             [
              0.7777777777777778,
              "#fb9f3a"
             ],
             [
              0.8888888888888888,
              "#fdca26"
             ],
             [
              1.0,
              "#f0f921"
             ]
            ],
            "type": "heatmap"
           }
          ],
          "heatmapgl": [
           {
            "colorbar": {
             "outlinewidth": 0,
             "ticks": ""
            },
            "colorscale": [
             [
              0.0,
              "#0d0887"
             ],
             [
              0.1111111111111111,
              "#46039f"
             ],
             [
              0.2222222222222222,
              "#7201a8"
             ],
             [
              0.3333333333333333,
              "#9c179e"
             ],
             [
              0.4444444444444444,
              "#bd3786"
             ],
             [
              0.5555555555555556,
              "#d8576b"
             ],
             [
              0.6666666666666666,
              "#ed7953"
             ],
             [
              0.7777777777777778,
              "#fb9f3a"
             ],
             [
              0.8888888888888888,
              "#fdca26"
             ],
             [
              1.0,
              "#f0f921"
             ]
            ],
            "type": "heatmapgl"
           }
          ],
          "histogram": [
           {
            "marker": {
             "colorbar": {
              "outlinewidth": 0,
              "ticks": ""
             }
            },
            "type": "histogram"
           }
          ],
          "histogram2d": [
           {
            "colorbar": {
             "outlinewidth": 0,
             "ticks": ""
            },
            "colorscale": [
             [
              0.0,
              "#0d0887"
             ],
             [
              0.1111111111111111,
              "#46039f"
             ],
             [
              0.2222222222222222,
              "#7201a8"
             ],
             [
              0.3333333333333333,
              "#9c179e"
             ],
             [
              0.4444444444444444,
              "#bd3786"
             ],
             [
              0.5555555555555556,
              "#d8576b"
             ],
             [
              0.6666666666666666,
              "#ed7953"
             ],
             [
              0.7777777777777778,
              "#fb9f3a"
             ],
             [
              0.8888888888888888,
              "#fdca26"
             ],
             [
              1.0,
              "#f0f921"
             ]
            ],
            "type": "histogram2d"
           }
          ],
          "histogram2dcontour": [
           {
            "colorbar": {
             "outlinewidth": 0,
             "ticks": ""
            },
            "colorscale": [
             [
              0.0,
              "#0d0887"
             ],
             [
              0.1111111111111111,
              "#46039f"
             ],
             [
              0.2222222222222222,
              "#7201a8"
             ],
             [
              0.3333333333333333,
              "#9c179e"
             ],
             [
              0.4444444444444444,
              "#bd3786"
             ],
             [
              0.5555555555555556,
              "#d8576b"
             ],
             [
              0.6666666666666666,
              "#ed7953"
             ],
             [
              0.7777777777777778,
              "#fb9f3a"
             ],
             [
              0.8888888888888888,
              "#fdca26"
             ],
             [
              1.0,
              "#f0f921"
             ]
            ],
            "type": "histogram2dcontour"
           }
          ],
          "mesh3d": [
           {
            "colorbar": {
             "outlinewidth": 0,
             "ticks": ""
            },
            "type": "mesh3d"
           }
          ],
          "parcoords": [
           {
            "line": {
             "colorbar": {
              "outlinewidth": 0,
              "ticks": ""
             }
            },
            "type": "parcoords"
           }
          ],
          "pie": [
           {
            "automargin": true,
            "type": "pie"
           }
          ],
          "scatter": [
           {
            "marker": {
             "colorbar": {
              "outlinewidth": 0,
              "ticks": ""
             }
            },
            "type": "scatter"
           }
          ],
          "scatter3d": [
           {
            "line": {
             "colorbar": {
              "outlinewidth": 0,
              "ticks": ""
             }
            },
            "marker": {
             "colorbar": {
              "outlinewidth": 0,
              "ticks": ""
             }
            },
            "type": "scatter3d"
           }
          ],
          "scattercarpet": [
           {
            "marker": {
             "colorbar": {
              "outlinewidth": 0,
              "ticks": ""
             }
            },
            "type": "scattercarpet"
           }
          ],
          "scattergeo": [
           {
            "marker": {
             "colorbar": {
              "outlinewidth": 0,
              "ticks": ""
             }
            },
            "type": "scattergeo"
           }
          ],
          "scattergl": [
           {
            "marker": {
             "colorbar": {
              "outlinewidth": 0,
              "ticks": ""
             }
            },
            "type": "scattergl"
           }
          ],
          "scattermapbox": [
           {
            "marker": {
             "colorbar": {
              "outlinewidth": 0,
              "ticks": ""
             }
            },
            "type": "scattermapbox"
           }
          ],
          "scatterpolar": [
           {
            "marker": {
             "colorbar": {
              "outlinewidth": 0,
              "ticks": ""
             }
            },
            "type": "scatterpolar"
           }
          ],
          "scatterpolargl": [
           {
            "marker": {
             "colorbar": {
              "outlinewidth": 0,
              "ticks": ""
             }
            },
            "type": "scatterpolargl"
           }
          ],
          "scatterternary": [
           {
            "marker": {
             "colorbar": {
              "outlinewidth": 0,
              "ticks": ""
             }
            },
            "type": "scatterternary"
           }
          ],
          "surface": [
           {
            "colorbar": {
             "outlinewidth": 0,
             "ticks": ""
            },
            "colorscale": [
             [
              0.0,
              "#0d0887"
             ],
             [
              0.1111111111111111,
              "#46039f"
             ],
             [
              0.2222222222222222,
              "#7201a8"
             ],
             [
              0.3333333333333333,
              "#9c179e"
             ],
             [
              0.4444444444444444,
              "#bd3786"
             ],
             [
              0.5555555555555556,
              "#d8576b"
             ],
             [
              0.6666666666666666,
              "#ed7953"
             ],
             [
              0.7777777777777778,
              "#fb9f3a"
             ],
             [
              0.8888888888888888,
              "#fdca26"
             ],
             [
              1.0,
              "#f0f921"
             ]
            ],
            "type": "surface"
           }
          ],
          "table": [
           {
            "cells": {
             "fill": {
              "color": "#EBF0F8"
             },
             "line": {
              "color": "white"
             }
            },
            "header": {
             "fill": {
              "color": "#C8D4E3"
             },
             "line": {
              "color": "white"
             }
            },
            "type": "table"
           }
          ]
         },
         "layout": {
          "annotationdefaults": {
           "arrowcolor": "#2a3f5f",
           "arrowhead": 0,
           "arrowwidth": 1
          },
          "autotypenumbers": "strict",
          "coloraxis": {
           "colorbar": {
            "outlinewidth": 0,
            "ticks": ""
           }
          },
          "colorscale": {
           "diverging": [
            [
             0,
             "#8e0152"
            ],
            [
             0.1,
             "#c51b7d"
            ],
            [
             0.2,
             "#de77ae"
            ],
            [
             0.3,
             "#f1b6da"
            ],
            [
             0.4,
             "#fde0ef"
            ],
            [
             0.5,
             "#f7f7f7"
            ],
            [
             0.6,
             "#e6f5d0"
            ],
            [
             0.7,
             "#b8e186"
            ],
            [
             0.8,
             "#7fbc41"
            ],
            [
             0.9,
             "#4d9221"
            ],
            [
             1,
             "#276419"
            ]
           ],
           "sequential": [
            [
             0.0,
             "#0d0887"
            ],
            [
             0.1111111111111111,
             "#46039f"
            ],
            [
             0.2222222222222222,
             "#7201a8"
            ],
            [
             0.3333333333333333,
             "#9c179e"
            ],
            [
             0.4444444444444444,
             "#bd3786"
            ],
            [
             0.5555555555555556,
             "#d8576b"
            ],
            [
             0.6666666666666666,
             "#ed7953"
            ],
            [
             0.7777777777777778,
             "#fb9f3a"
            ],
            [
             0.8888888888888888,
             "#fdca26"
            ],
            [
             1.0,
             "#f0f921"
            ]
           ],
           "sequentialminus": [
            [
             0.0,
             "#0d0887"
            ],
            [
             0.1111111111111111,
             "#46039f"
            ],
            [
             0.2222222222222222,
             "#7201a8"
            ],
            [
             0.3333333333333333,
             "#9c179e"
            ],
            [
             0.4444444444444444,
             "#bd3786"
            ],
            [
             0.5555555555555556,
             "#d8576b"
            ],
            [
             0.6666666666666666,
             "#ed7953"
            ],
            [
             0.7777777777777778,
             "#fb9f3a"
            ],
            [
             0.8888888888888888,
             "#fdca26"
            ],
            [
             1.0,
             "#f0f921"
            ]
           ]
          },
          "colorway": [
           "#636efa",
           "#EF553B",
           "#00cc96",
           "#ab63fa",
           "#FFA15A",
           "#19d3f3",
           "#FF6692",
           "#B6E880",
           "#FF97FF",
           "#FECB52"
          ],
          "font": {
           "color": "#2a3f5f"
          },
          "geo": {
           "bgcolor": "white",
           "lakecolor": "white",
           "landcolor": "#E5ECF6",
           "showlakes": true,
           "showland": true,
           "subunitcolor": "white"
          },
          "hoverlabel": {
           "align": "left"
          },
          "hovermode": "closest",
          "mapbox": {
           "style": "light"
          },
          "paper_bgcolor": "white",
          "plot_bgcolor": "#E5ECF6",
          "polar": {
           "angularaxis": {
            "gridcolor": "white",
            "linecolor": "white",
            "ticks": ""
           },
           "bgcolor": "#E5ECF6",
           "radialaxis": {
            "gridcolor": "white",
            "linecolor": "white",
            "ticks": ""
           }
          },
          "scene": {
           "xaxis": {
            "backgroundcolor": "#E5ECF6",
            "gridcolor": "white",
            "gridwidth": 2,
            "linecolor": "white",
            "showbackground": true,
            "ticks": "",
            "zerolinecolor": "white"
           },
           "yaxis": {
            "backgroundcolor": "#E5ECF6",
            "gridcolor": "white",
            "gridwidth": 2,
            "linecolor": "white",
            "showbackground": true,
            "ticks": "",
            "zerolinecolor": "white"
           },
           "zaxis": {
            "backgroundcolor": "#E5ECF6",
            "gridcolor": "white",
            "gridwidth": 2,
            "linecolor": "white",
            "showbackground": true,
            "ticks": "",
            "zerolinecolor": "white"
           }
          },
          "shapedefaults": {
           "line": {
            "color": "#2a3f5f"
           }
          },
          "ternary": {
           "aaxis": {
            "gridcolor": "white",
            "linecolor": "white",
            "ticks": ""
           },
           "baxis": {
            "gridcolor": "white",
            "linecolor": "white",
            "ticks": ""
           },
           "bgcolor": "#E5ECF6",
           "caxis": {
            "gridcolor": "white",
            "linecolor": "white",
            "ticks": ""
           }
          },
          "title": {
           "x": 0.05
          },
          "xaxis": {
           "automargin": true,
           "gridcolor": "white",
           "linecolor": "white",
           "ticks": "",
           "title": {
            "standoff": 15
           },
           "zerolinecolor": "white",
           "zerolinewidth": 2
          },
          "yaxis": {
           "automargin": true,
           "gridcolor": "white",
           "linecolor": "white",
           "ticks": "",
           "title": {
            "standoff": 15
           },
           "zerolinecolor": "white",
           "zerolinewidth": 2
          }
         }
        }
       }
      },
      "text/html": "<div>                            <div id=\"9f9066d7-3754-4dcb-ad10-b258a9c527b9\" class=\"plotly-graph-div\" style=\"height:525px; width:100%;\"></div>            <script type=\"text/javascript\">                require([\"plotly\"], function(Plotly) {                    window.PLOTLYENV=window.PLOTLYENV || {};                                    if (document.getElementById(\"9f9066d7-3754-4dcb-ad10-b258a9c527b9\")) {                    Plotly.newPlot(                        \"9f9066d7-3754-4dcb-ad10-b258a9c527b9\",                        [{\"domain\": {\"x\": [0.0, 1.0], \"y\": [0.0, 1.0]}, \"hovertemplate\": \"label=%{label}<br>value=%{value}<extra></extra>\", \"labels\": [\"Hillary Clinton\", \"Huma Abedin\", \"Cheryl Mills\", \"Jake Sullivan\", \"Sidney Blumenthal\", \"Lauren Jiloty\", \"Philippe Reines\", \"Lona Valmoro\", \"Anne-Marie Slaughter\", \"Richard Verma\"], \"legendgroup\": \"\", \"name\": \"\", \"showlegend\": true, \"type\": \"pie\", \"values\": [0.25673758865248225, 0.18529980657640233, 0.16982591876208897, 0.11231463571889104, 0.04809800128949065, 0.04397163120567376, 0.020502901353965184, 0.019987105093488073, 0.016763378465506126, 0.01521598968407479]}],                        {\"legend\": {\"tracegroupgap\": 0}, \"margin\": {\"t\": 60}, \"template\": {\"data\": {\"bar\": [{\"error_x\": {\"color\": \"#2a3f5f\"}, \"error_y\": {\"color\": \"#2a3f5f\"}, \"marker\": {\"line\": {\"color\": \"#E5ECF6\", \"width\": 0.5}}, \"type\": \"bar\"}], \"barpolar\": [{\"marker\": {\"line\": {\"color\": \"#E5ECF6\", \"width\": 0.5}}, \"type\": \"barpolar\"}], \"carpet\": [{\"aaxis\": {\"endlinecolor\": \"#2a3f5f\", \"gridcolor\": \"white\", \"linecolor\": \"white\", \"minorgridcolor\": \"white\", \"startlinecolor\": \"#2a3f5f\"}, \"baxis\": {\"endlinecolor\": \"#2a3f5f\", \"gridcolor\": \"white\", \"linecolor\": \"white\", \"minorgridcolor\": \"white\", \"startlinecolor\": \"#2a3f5f\"}, \"type\": \"carpet\"}], \"choropleth\": [{\"colorbar\": {\"outlinewidth\": 0, \"ticks\": \"\"}, \"type\": \"choropleth\"}], \"contour\": [{\"colorbar\": {\"outlinewidth\": 0, \"ticks\": \"\"}, \"colorscale\": [[0.0, \"#0d0887\"], [0.1111111111111111, \"#46039f\"], [0.2222222222222222, \"#7201a8\"], [0.3333333333333333, \"#9c179e\"], [0.4444444444444444, \"#bd3786\"], [0.5555555555555556, \"#d8576b\"], [0.6666666666666666, \"#ed7953\"], [0.7777777777777778, \"#fb9f3a\"], [0.8888888888888888, \"#fdca26\"], [1.0, \"#f0f921\"]], \"type\": \"contour\"}], \"contourcarpet\": [{\"colorbar\": {\"outlinewidth\": 0, \"ticks\": \"\"}, \"type\": \"contourcarpet\"}], \"heatmap\": [{\"colorbar\": {\"outlinewidth\": 0, \"ticks\": \"\"}, \"colorscale\": [[0.0, \"#0d0887\"], [0.1111111111111111, \"#46039f\"], [0.2222222222222222, \"#7201a8\"], [0.3333333333333333, \"#9c179e\"], [0.4444444444444444, \"#bd3786\"], [0.5555555555555556, \"#d8576b\"], [0.6666666666666666, \"#ed7953\"], [0.7777777777777778, \"#fb9f3a\"], [0.8888888888888888, \"#fdca26\"], [1.0, \"#f0f921\"]], \"type\": \"heatmap\"}], \"heatmapgl\": [{\"colorbar\": {\"outlinewidth\": 0, \"ticks\": \"\"}, \"colorscale\": [[0.0, \"#0d0887\"], [0.1111111111111111, \"#46039f\"], [0.2222222222222222, \"#7201a8\"], [0.3333333333333333, \"#9c179e\"], [0.4444444444444444, \"#bd3786\"], [0.5555555555555556, \"#d8576b\"], [0.6666666666666666, \"#ed7953\"], [0.7777777777777778, \"#fb9f3a\"], [0.8888888888888888, \"#fdca26\"], [1.0, \"#f0f921\"]], \"type\": \"heatmapgl\"}], \"histogram\": [{\"marker\": {\"colorbar\": {\"outlinewidth\": 0, \"ticks\": \"\"}}, \"type\": \"histogram\"}], \"histogram2d\": [{\"colorbar\": {\"outlinewidth\": 0, \"ticks\": \"\"}, \"colorscale\": [[0.0, \"#0d0887\"], [0.1111111111111111, \"#46039f\"], [0.2222222222222222, \"#7201a8\"], [0.3333333333333333, \"#9c179e\"], [0.4444444444444444, \"#bd3786\"], [0.5555555555555556, \"#d8576b\"], [0.6666666666666666, \"#ed7953\"], [0.7777777777777778, \"#fb9f3a\"], [0.8888888888888888, \"#fdca26\"], [1.0, \"#f0f921\"]], \"type\": \"histogram2d\"}], \"histogram2dcontour\": [{\"colorbar\": {\"outlinewidth\": 0, \"ticks\": \"\"}, \"colorscale\": [[0.0, \"#0d0887\"], [0.1111111111111111, \"#46039f\"], [0.2222222222222222, \"#7201a8\"], [0.3333333333333333, \"#9c179e\"], [0.4444444444444444, \"#bd3786\"], [0.5555555555555556, \"#d8576b\"], [0.6666666666666666, \"#ed7953\"], [0.7777777777777778, \"#fb9f3a\"], [0.8888888888888888, \"#fdca26\"], [1.0, \"#f0f921\"]], \"type\": \"histogram2dcontour\"}], \"mesh3d\": [{\"colorbar\": {\"outlinewidth\": 0, \"ticks\": \"\"}, \"type\": \"mesh3d\"}], \"parcoords\": [{\"line\": {\"colorbar\": {\"outlinewidth\": 0, \"ticks\": \"\"}}, \"type\": \"parcoords\"}], \"pie\": [{\"automargin\": true, \"type\": \"pie\"}], \"scatter\": [{\"marker\": {\"colorbar\": {\"outlinewidth\": 0, \"ticks\": \"\"}}, \"type\": \"scatter\"}], \"scatter3d\": [{\"line\": {\"colorbar\": {\"outlinewidth\": 0, \"ticks\": \"\"}}, \"marker\": {\"colorbar\": {\"outlinewidth\": 0, \"ticks\": \"\"}}, \"type\": \"scatter3d\"}], \"scattercarpet\": [{\"marker\": {\"colorbar\": {\"outlinewidth\": 0, \"ticks\": \"\"}}, \"type\": \"scattercarpet\"}], \"scattergeo\": [{\"marker\": {\"colorbar\": {\"outlinewidth\": 0, \"ticks\": \"\"}}, \"type\": \"scattergeo\"}], \"scattergl\": [{\"marker\": {\"colorbar\": {\"outlinewidth\": 0, \"ticks\": \"\"}}, \"type\": \"scattergl\"}], \"scattermapbox\": [{\"marker\": {\"colorbar\": {\"outlinewidth\": 0, \"ticks\": \"\"}}, \"type\": \"scattermapbox\"}], \"scatterpolar\": [{\"marker\": {\"colorbar\": {\"outlinewidth\": 0, \"ticks\": \"\"}}, \"type\": \"scatterpolar\"}], \"scatterpolargl\": [{\"marker\": {\"colorbar\": {\"outlinewidth\": 0, \"ticks\": \"\"}}, \"type\": \"scatterpolargl\"}], \"scatterternary\": [{\"marker\": {\"colorbar\": {\"outlinewidth\": 0, \"ticks\": \"\"}}, \"type\": \"scatterternary\"}], \"surface\": [{\"colorbar\": {\"outlinewidth\": 0, \"ticks\": \"\"}, \"colorscale\": [[0.0, \"#0d0887\"], [0.1111111111111111, \"#46039f\"], [0.2222222222222222, \"#7201a8\"], [0.3333333333333333, \"#9c179e\"], [0.4444444444444444, \"#bd3786\"], [0.5555555555555556, \"#d8576b\"], [0.6666666666666666, \"#ed7953\"], [0.7777777777777778, \"#fb9f3a\"], [0.8888888888888888, \"#fdca26\"], [1.0, \"#f0f921\"]], \"type\": \"surface\"}], \"table\": [{\"cells\": {\"fill\": {\"color\": \"#EBF0F8\"}, \"line\": {\"color\": \"white\"}}, \"header\": {\"fill\": {\"color\": \"#C8D4E3\"}, \"line\": {\"color\": \"white\"}}, \"type\": \"table\"}]}, \"layout\": {\"annotationdefaults\": {\"arrowcolor\": \"#2a3f5f\", \"arrowhead\": 0, \"arrowwidth\": 1}, \"autotypenumbers\": \"strict\", \"coloraxis\": {\"colorbar\": {\"outlinewidth\": 0, \"ticks\": \"\"}}, \"colorscale\": {\"diverging\": [[0, \"#8e0152\"], [0.1, \"#c51b7d\"], [0.2, \"#de77ae\"], [0.3, \"#f1b6da\"], [0.4, \"#fde0ef\"], [0.5, \"#f7f7f7\"], [0.6, \"#e6f5d0\"], [0.7, \"#b8e186\"], [0.8, \"#7fbc41\"], [0.9, \"#4d9221\"], [1, \"#276419\"]], \"sequential\": [[0.0, \"#0d0887\"], [0.1111111111111111, \"#46039f\"], [0.2222222222222222, \"#7201a8\"], [0.3333333333333333, \"#9c179e\"], [0.4444444444444444, \"#bd3786\"], [0.5555555555555556, \"#d8576b\"], [0.6666666666666666, \"#ed7953\"], [0.7777777777777778, \"#fb9f3a\"], [0.8888888888888888, \"#fdca26\"], [1.0, \"#f0f921\"]], \"sequentialminus\": [[0.0, \"#0d0887\"], [0.1111111111111111, \"#46039f\"], [0.2222222222222222, \"#7201a8\"], [0.3333333333333333, \"#9c179e\"], [0.4444444444444444, \"#bd3786\"], [0.5555555555555556, \"#d8576b\"], [0.6666666666666666, \"#ed7953\"], [0.7777777777777778, \"#fb9f3a\"], [0.8888888888888888, \"#fdca26\"], [1.0, \"#f0f921\"]]}, \"colorway\": [\"#636efa\", \"#EF553B\", \"#00cc96\", \"#ab63fa\", \"#FFA15A\", \"#19d3f3\", \"#FF6692\", \"#B6E880\", \"#FF97FF\", \"#FECB52\"], \"font\": {\"color\": \"#2a3f5f\"}, \"geo\": {\"bgcolor\": \"white\", \"lakecolor\": \"white\", \"landcolor\": \"#E5ECF6\", \"showlakes\": true, \"showland\": true, \"subunitcolor\": \"white\"}, \"hoverlabel\": {\"align\": \"left\"}, \"hovermode\": \"closest\", \"mapbox\": {\"style\": \"light\"}, \"paper_bgcolor\": \"white\", \"plot_bgcolor\": \"#E5ECF6\", \"polar\": {\"angularaxis\": {\"gridcolor\": \"white\", \"linecolor\": \"white\", \"ticks\": \"\"}, \"bgcolor\": \"#E5ECF6\", \"radialaxis\": {\"gridcolor\": \"white\", \"linecolor\": \"white\", \"ticks\": \"\"}}, \"scene\": {\"xaxis\": {\"backgroundcolor\": \"#E5ECF6\", \"gridcolor\": \"white\", \"gridwidth\": 2, \"linecolor\": \"white\", \"showbackground\": true, \"ticks\": \"\", \"zerolinecolor\": \"white\"}, \"yaxis\": {\"backgroundcolor\": \"#E5ECF6\", \"gridcolor\": \"white\", \"gridwidth\": 2, \"linecolor\": \"white\", \"showbackground\": true, \"ticks\": \"\", \"zerolinecolor\": \"white\"}, \"zaxis\": {\"backgroundcolor\": \"#E5ECF6\", \"gridcolor\": \"white\", \"gridwidth\": 2, \"linecolor\": \"white\", \"showbackground\": true, \"ticks\": \"\", \"zerolinecolor\": \"white\"}}, \"shapedefaults\": {\"line\": {\"color\": \"#2a3f5f\"}}, \"ternary\": {\"aaxis\": {\"gridcolor\": \"white\", \"linecolor\": \"white\", \"ticks\": \"\"}, \"baxis\": {\"gridcolor\": \"white\", \"linecolor\": \"white\", \"ticks\": \"\"}, \"bgcolor\": \"#E5ECF6\", \"caxis\": {\"gridcolor\": \"white\", \"linecolor\": \"white\", \"ticks\": \"\"}}, \"title\": {\"x\": 0.05}, \"xaxis\": {\"automargin\": true, \"gridcolor\": \"white\", \"linecolor\": \"white\", \"ticks\": \"\", \"title\": {\"standoff\": 15}, \"zerolinecolor\": \"white\", \"zerolinewidth\": 2}, \"yaxis\": {\"automargin\": true, \"gridcolor\": \"white\", \"linecolor\": \"white\", \"ticks\": \"\", \"title\": {\"standoff\": 15}, \"zerolinecolor\": \"white\", \"zerolinewidth\": 2}}}},                        {\"responsive\": true}                    ).then(function(){\n                            \nvar gd = document.getElementById('9f9066d7-3754-4dcb-ad10-b258a9c527b9');\nvar x = new MutationObserver(function (mutations, observer) {{\n        var display = window.getComputedStyle(gd).display;\n        if (!display || display === 'none') {{\n            console.log([gd, 'removed!']);\n            Plotly.purge(gd);\n            observer.disconnect();\n        }}\n}});\n\n// Listen for the removal of the full notebook cells\nvar notebookContainer = gd.closest('#notebook-container');\nif (notebookContainer) {{\n    x.observe(notebookContainer, {childList: true});\n}}\n\n// Listen for the clearing of the current output cell\nvar outputEl = gd.closest('.output');\nif (outputEl) {{\n    x.observe(outputEl, {childList: true});\n}}\n\n                        })                };                });            </script>        </div>"
     },
     "metadata": {},
     "output_type": "display_data"
    }
   ],
   "source": [
    "print(top10people[:10])\n",
    "import plotly.express as px\n",
    "\n",
    "fig = px.pie(top10people[:10], values=top10people[:10], names=top10people[:10].index)\n",
    "fig.show()"
   ]
  },
  {
   "cell_type": "code",
   "execution_count": 100,
   "outputs": [
    {
     "data": {
      "application/vnd.plotly.v1+json": {
       "config": {
        "plotlyServerURL": "https://plot.ly"
       },
       "data": [
        {
         "marker": {
          "color": "#636EFA"
         },
         "name": "Markers and Text",
         "showlegend": false,
         "type": "bar",
         "x": [
          "Hillary Clinton",
          "Huma Abedin",
          "Cheryl Mills",
          "Jake Sullivan",
          "Sidney Blumenthal",
          "Lauren Jiloty",
          "Philippe Reines",
          "Lona Valmoro",
          "Anne-Marie Slaughter",
          "Richard Verma",
          "Melanne Verveer",
          "Lissa Muscatine",
          "Judith McHale",
          "Strobe Talbott",
          "Betsy Ebeling"
         ],
         "y": [
          0.25673758865248225,
          0.18529980657640233,
          0.16982591876208897,
          0.11231463571889104,
          0.04809800128949065,
          0.04397163120567376,
          0.020502901353965184,
          0.019987105093488073,
          0.016763378465506126,
          0.01521598968407479,
          0.012379110251450677,
          0.01096067053513862,
          0.010058027079303675,
          0.004771115409413282,
          0.003997421018697615
         ]
        },
        {
         "mode": "text+lines+markers",
         "name": "Cumulative",
         "text": [
          "1",
          "2",
          "3",
          "4",
          "5",
          "6",
          "7",
          "8",
          "9",
          "10",
          "11",
          "12",
          "13",
          "14",
          "15"
         ],
         "textposition": "top center",
         "type": "scatter",
         "x": [
          "Hillary Clinton",
          "Huma Abedin",
          "Cheryl Mills",
          "Jake Sullivan",
          "Sidney Blumenthal",
          "Lauren Jiloty",
          "Philippe Reines",
          "Lona Valmoro",
          "Anne-Marie Slaughter",
          "Richard Verma",
          "Melanne Verveer",
          "Lissa Muscatine",
          "Judith McHale",
          "Strobe Talbott",
          "Betsy Ebeling"
         ],
         "y": [
          0.25673758865248225,
          0.4420373952288846,
          0.6118633139909735,
          0.7241779497098645,
          0.7722759509993551,
          0.8162475822050288,
          0.836750483558994,
          0.8567375886524821,
          0.8735009671179882,
          0.888716956802063,
          0.9010960670535136,
          0.9120567375886522,
          0.9221147646679559,
          0.9268858800773693,
          0.9308833010960669,
          0.9346228239845259,
          0.9378465506125079,
          0.9409413281753706,
          0.943907156673114,
          0.9460992907801417,
          0.9481624758220502,
          0.9502256608639587,
          0.9521598968407479,
          0.9540941328175371,
          0.955899419729207,
          0.9577047066408769,
          0.9592520954223083,
          0.960541586073501,
          0.9618310767246938,
          0.9631205673758866,
          0.9644100580270794,
          0.9656995486782721,
          0.9669890393294649,
          0.9681495809155384,
          0.9693101225016119,
          0.9702127659574468,
          0.9711154094132817,
          0.9720180528691166,
          0.9729206963249515,
          0.9738233397807864,
          0.9747259832366213,
          0.9754996776273369,
          0.9762733720180525,
          0.9770470664087682,
          0.9778207607994838,
          0.9785944551901994,
          0.9792392005157958,
          0.9798839458413923,
          0.9805286911669887,
          0.9811734364925851,
          0.9818181818181816,
          0.982462927143778,
          0.9829787234042552,
          0.9834945196647323,
          0.9840103159252095,
          0.9845261121856866,
          0.9850419084461638,
          0.985557704706641,
          0.9859445519019988,
          0.9863313990973567,
          0.9867182462927145,
          0.9871050934880724,
          0.987362991618311,
          0.9876208897485496,
          0.9878787878787881,
          0.9881366860090267,
          0.9883945841392653,
          0.9886524822695039,
          0.9889103803997424,
          0.989168278529981,
          0.9894261766602196,
          0.9896840747904582,
          0.9899419729206967,
          0.9901998710509353,
          0.9904577691811739,
          0.9907156673114125,
          0.9908446163765318,
          0.990973565441651,
          0.9911025145067703,
          0.9912314635718896,
          0.9913604126370089,
          0.9914893617021282,
          0.9916183107672475,
          0.9917472598323668,
          0.9918762088974861,
          0.9920051579626054,
          0.9921341070277246,
          0.9922630560928439,
          0.9923920051579632,
          0.9925209542230825,
          0.9926499032882018,
          0.9927788523533211,
          0.9929078014184404,
          0.9930367504835597,
          0.993165699548679,
          0.9932946486137982,
          0.9934235976789175,
          0.9935525467440368,
          0.9936814958091561,
          0.9938104448742754,
          0.9939393939393947,
          0.994068343004514,
          0.9941972920696333,
          0.9943262411347525,
          0.9944551901998718,
          0.9945841392649911,
          0.9947130883301104,
          0.9948420373952297,
          0.994970986460349,
          0.9950999355254683,
          0.9952288845905876,
          0.9953578336557068,
          0.9954867827208261,
          0.9956157317859454,
          0.9957446808510647,
          0.995873629916184,
          0.9960025789813033,
          0.9961315280464226,
          0.9962604771115419,
          0.9963894261766612,
          0.9965183752417804,
          0.9966473243068997,
          0.996776273372019,
          0.9969052224371383,
          0.9970341715022576,
          0.9971631205673769,
          0.9972920696324962,
          0.9974210186976155,
          0.9975499677627347,
          0.997678916827854,
          0.9978078658929733,
          0.9979368149580926,
          0.9980657640232119,
          0.9981947130883312,
          0.9983236621534505,
          0.9984526112185698,
          0.998581560283689,
          0.9987105093488083,
          0.9988394584139276,
          0.9989684074790469,
          0.9990973565441662,
          0.9992263056092855,
          0.9993552546744048,
          0.9994842037395241,
          0.9996131528046434,
          0.9997421018697626,
          0.9998710509348819,
          1.000000000000001
         ]
        }
       ],
       "layout": {
        "template": {
         "data": {
          "bar": [
           {
            "error_x": {
             "color": "#2a3f5f"
            },
            "error_y": {
             "color": "#2a3f5f"
            },
            "marker": {
             "line": {
              "color": "#E5ECF6",
              "width": 0.5
             }
            },
            "type": "bar"
           }
          ],
          "barpolar": [
           {
            "marker": {
             "line": {
              "color": "#E5ECF6",
              "width": 0.5
             }
            },
            "type": "barpolar"
           }
          ],
          "carpet": [
           {
            "aaxis": {
             "endlinecolor": "#2a3f5f",
             "gridcolor": "white",
             "linecolor": "white",
             "minorgridcolor": "white",
             "startlinecolor": "#2a3f5f"
            },
            "baxis": {
             "endlinecolor": "#2a3f5f",
             "gridcolor": "white",
             "linecolor": "white",
             "minorgridcolor": "white",
             "startlinecolor": "#2a3f5f"
            },
            "type": "carpet"
           }
          ],
          "choropleth": [
           {
            "colorbar": {
             "outlinewidth": 0,
             "ticks": ""
            },
            "type": "choropleth"
           }
          ],
          "contour": [
           {
            "colorbar": {
             "outlinewidth": 0,
             "ticks": ""
            },
            "colorscale": [
             [
              0.0,
              "#0d0887"
             ],
             [
              0.1111111111111111,
              "#46039f"
             ],
             [
              0.2222222222222222,
              "#7201a8"
             ],
             [
              0.3333333333333333,
              "#9c179e"
             ],
             [
              0.4444444444444444,
              "#bd3786"
             ],
             [
              0.5555555555555556,
              "#d8576b"
             ],
             [
              0.6666666666666666,
              "#ed7953"
             ],
             [
              0.7777777777777778,
              "#fb9f3a"
             ],
             [
              0.8888888888888888,
              "#fdca26"
             ],
             [
              1.0,
              "#f0f921"
             ]
            ],
            "type": "contour"
           }
          ],
          "contourcarpet": [
           {
            "colorbar": {
             "outlinewidth": 0,
             "ticks": ""
            },
            "type": "contourcarpet"
           }
          ],
          "heatmap": [
           {
            "colorbar": {
             "outlinewidth": 0,
             "ticks": ""
            },
            "colorscale": [
             [
              0.0,
              "#0d0887"
             ],
             [
              0.1111111111111111,
              "#46039f"
             ],
             [
              0.2222222222222222,
              "#7201a8"
             ],
             [
              0.3333333333333333,
              "#9c179e"
             ],
             [
              0.4444444444444444,
              "#bd3786"
             ],
             [
              0.5555555555555556,
              "#d8576b"
             ],
             [
              0.6666666666666666,
              "#ed7953"
             ],
             [
              0.7777777777777778,
              "#fb9f3a"
             ],
             [
              0.8888888888888888,
              "#fdca26"
             ],
             [
              1.0,
              "#f0f921"
             ]
            ],
            "type": "heatmap"
           }
          ],
          "heatmapgl": [
           {
            "colorbar": {
             "outlinewidth": 0,
             "ticks": ""
            },
            "colorscale": [
             [
              0.0,
              "#0d0887"
             ],
             [
              0.1111111111111111,
              "#46039f"
             ],
             [
              0.2222222222222222,
              "#7201a8"
             ],
             [
              0.3333333333333333,
              "#9c179e"
             ],
             [
              0.4444444444444444,
              "#bd3786"
             ],
             [
              0.5555555555555556,
              "#d8576b"
             ],
             [
              0.6666666666666666,
              "#ed7953"
             ],
             [
              0.7777777777777778,
              "#fb9f3a"
             ],
             [
              0.8888888888888888,
              "#fdca26"
             ],
             [
              1.0,
              "#f0f921"
             ]
            ],
            "type": "heatmapgl"
           }
          ],
          "histogram": [
           {
            "marker": {
             "colorbar": {
              "outlinewidth": 0,
              "ticks": ""
             }
            },
            "type": "histogram"
           }
          ],
          "histogram2d": [
           {
            "colorbar": {
             "outlinewidth": 0,
             "ticks": ""
            },
            "colorscale": [
             [
              0.0,
              "#0d0887"
             ],
             [
              0.1111111111111111,
              "#46039f"
             ],
             [
              0.2222222222222222,
              "#7201a8"
             ],
             [
              0.3333333333333333,
              "#9c179e"
             ],
             [
              0.4444444444444444,
              "#bd3786"
             ],
             [
              0.5555555555555556,
              "#d8576b"
             ],
             [
              0.6666666666666666,
              "#ed7953"
             ],
             [
              0.7777777777777778,
              "#fb9f3a"
             ],
             [
              0.8888888888888888,
              "#fdca26"
             ],
             [
              1.0,
              "#f0f921"
             ]
            ],
            "type": "histogram2d"
           }
          ],
          "histogram2dcontour": [
           {
            "colorbar": {
             "outlinewidth": 0,
             "ticks": ""
            },
            "colorscale": [
             [
              0.0,
              "#0d0887"
             ],
             [
              0.1111111111111111,
              "#46039f"
             ],
             [
              0.2222222222222222,
              "#7201a8"
             ],
             [
              0.3333333333333333,
              "#9c179e"
             ],
             [
              0.4444444444444444,
              "#bd3786"
             ],
             [
              0.5555555555555556,
              "#d8576b"
             ],
             [
              0.6666666666666666,
              "#ed7953"
             ],
             [
              0.7777777777777778,
              "#fb9f3a"
             ],
             [
              0.8888888888888888,
              "#fdca26"
             ],
             [
              1.0,
              "#f0f921"
             ]
            ],
            "type": "histogram2dcontour"
           }
          ],
          "mesh3d": [
           {
            "colorbar": {
             "outlinewidth": 0,
             "ticks": ""
            },
            "type": "mesh3d"
           }
          ],
          "parcoords": [
           {
            "line": {
             "colorbar": {
              "outlinewidth": 0,
              "ticks": ""
             }
            },
            "type": "parcoords"
           }
          ],
          "pie": [
           {
            "automargin": true,
            "type": "pie"
           }
          ],
          "scatter": [
           {
            "marker": {
             "colorbar": {
              "outlinewidth": 0,
              "ticks": ""
             }
            },
            "type": "scatter"
           }
          ],
          "scatter3d": [
           {
            "line": {
             "colorbar": {
              "outlinewidth": 0,
              "ticks": ""
             }
            },
            "marker": {
             "colorbar": {
              "outlinewidth": 0,
              "ticks": ""
             }
            },
            "type": "scatter3d"
           }
          ],
          "scattercarpet": [
           {
            "marker": {
             "colorbar": {
              "outlinewidth": 0,
              "ticks": ""
             }
            },
            "type": "scattercarpet"
           }
          ],
          "scattergeo": [
           {
            "marker": {
             "colorbar": {
              "outlinewidth": 0,
              "ticks": ""
             }
            },
            "type": "scattergeo"
           }
          ],
          "scattergl": [
           {
            "marker": {
             "colorbar": {
              "outlinewidth": 0,
              "ticks": ""
             }
            },
            "type": "scattergl"
           }
          ],
          "scattermapbox": [
           {
            "marker": {
             "colorbar": {
              "outlinewidth": 0,
              "ticks": ""
             }
            },
            "type": "scattermapbox"
           }
          ],
          "scatterpolar": [
           {
            "marker": {
             "colorbar": {
              "outlinewidth": 0,
              "ticks": ""
             }
            },
            "type": "scatterpolar"
           }
          ],
          "scatterpolargl": [
           {
            "marker": {
             "colorbar": {
              "outlinewidth": 0,
              "ticks": ""
             }
            },
            "type": "scatterpolargl"
           }
          ],
          "scatterternary": [
           {
            "marker": {
             "colorbar": {
              "outlinewidth": 0,
              "ticks": ""
             }
            },
            "type": "scatterternary"
           }
          ],
          "surface": [
           {
            "colorbar": {
             "outlinewidth": 0,
             "ticks": ""
            },
            "colorscale": [
             [
              0.0,
              "#0d0887"
             ],
             [
              0.1111111111111111,
              "#46039f"
             ],
             [
              0.2222222222222222,
              "#7201a8"
             ],
             [
              0.3333333333333333,
              "#9c179e"
             ],
             [
              0.4444444444444444,
              "#bd3786"
             ],
             [
              0.5555555555555556,
              "#d8576b"
             ],
             [
              0.6666666666666666,
              "#ed7953"
             ],
             [
              0.7777777777777778,
              "#fb9f3a"
             ],
             [
              0.8888888888888888,
              "#fdca26"
             ],
             [
              1.0,
              "#f0f921"
             ]
            ],
            "type": "surface"
           }
          ],
          "table": [
           {
            "cells": {
             "fill": {
              "color": "#EBF0F8"
             },
             "line": {
              "color": "white"
             }
            },
            "header": {
             "fill": {
              "color": "#C8D4E3"
             },
             "line": {
              "color": "white"
             }
            },
            "type": "table"
           }
          ]
         },
         "layout": {
          "annotationdefaults": {
           "arrowcolor": "#2a3f5f",
           "arrowhead": 0,
           "arrowwidth": 1
          },
          "autotypenumbers": "strict",
          "coloraxis": {
           "colorbar": {
            "outlinewidth": 0,
            "ticks": ""
           }
          },
          "colorscale": {
           "diverging": [
            [
             0,
             "#8e0152"
            ],
            [
             0.1,
             "#c51b7d"
            ],
            [
             0.2,
             "#de77ae"
            ],
            [
             0.3,
             "#f1b6da"
            ],
            [
             0.4,
             "#fde0ef"
            ],
            [
             0.5,
             "#f7f7f7"
            ],
            [
             0.6,
             "#e6f5d0"
            ],
            [
             0.7,
             "#b8e186"
            ],
            [
             0.8,
             "#7fbc41"
            ],
            [
             0.9,
             "#4d9221"
            ],
            [
             1,
             "#276419"
            ]
           ],
           "sequential": [
            [
             0.0,
             "#0d0887"
            ],
            [
             0.1111111111111111,
             "#46039f"
            ],
            [
             0.2222222222222222,
             "#7201a8"
            ],
            [
             0.3333333333333333,
             "#9c179e"
            ],
            [
             0.4444444444444444,
             "#bd3786"
            ],
            [
             0.5555555555555556,
             "#d8576b"
            ],
            [
             0.6666666666666666,
             "#ed7953"
            ],
            [
             0.7777777777777778,
             "#fb9f3a"
            ],
            [
             0.8888888888888888,
             "#fdca26"
            ],
            [
             1.0,
             "#f0f921"
            ]
           ],
           "sequentialminus": [
            [
             0.0,
             "#0d0887"
            ],
            [
             0.1111111111111111,
             "#46039f"
            ],
            [
             0.2222222222222222,
             "#7201a8"
            ],
            [
             0.3333333333333333,
             "#9c179e"
            ],
            [
             0.4444444444444444,
             "#bd3786"
            ],
            [
             0.5555555555555556,
             "#d8576b"
            ],
            [
             0.6666666666666666,
             "#ed7953"
            ],
            [
             0.7777777777777778,
             "#fb9f3a"
            ],
            [
             0.8888888888888888,
             "#fdca26"
            ],
            [
             1.0,
             "#f0f921"
            ]
           ]
          },
          "colorway": [
           "#636efa",
           "#EF553B",
           "#00cc96",
           "#ab63fa",
           "#FFA15A",
           "#19d3f3",
           "#FF6692",
           "#B6E880",
           "#FF97FF",
           "#FECB52"
          ],
          "font": {
           "color": "#2a3f5f"
          },
          "geo": {
           "bgcolor": "white",
           "lakecolor": "white",
           "landcolor": "#E5ECF6",
           "showlakes": true,
           "showland": true,
           "subunitcolor": "white"
          },
          "hoverlabel": {
           "align": "left"
          },
          "hovermode": "closest",
          "mapbox": {
           "style": "light"
          },
          "paper_bgcolor": "white",
          "plot_bgcolor": "#E5ECF6",
          "polar": {
           "angularaxis": {
            "gridcolor": "white",
            "linecolor": "white",
            "ticks": ""
           },
           "bgcolor": "#E5ECF6",
           "radialaxis": {
            "gridcolor": "white",
            "linecolor": "white",
            "ticks": ""
           }
          },
          "scene": {
           "xaxis": {
            "backgroundcolor": "#E5ECF6",
            "gridcolor": "white",
            "gridwidth": 2,
            "linecolor": "white",
            "showbackground": true,
            "ticks": "",
            "zerolinecolor": "white"
           },
           "yaxis": {
            "backgroundcolor": "#E5ECF6",
            "gridcolor": "white",
            "gridwidth": 2,
            "linecolor": "white",
            "showbackground": true,
            "ticks": "",
            "zerolinecolor": "white"
           },
           "zaxis": {
            "backgroundcolor": "#E5ECF6",
            "gridcolor": "white",
            "gridwidth": 2,
            "linecolor": "white",
            "showbackground": true,
            "ticks": "",
            "zerolinecolor": "white"
           }
          },
          "shapedefaults": {
           "line": {
            "color": "#2a3f5f"
           }
          },
          "ternary": {
           "aaxis": {
            "gridcolor": "white",
            "linecolor": "white",
            "ticks": ""
           },
           "baxis": {
            "gridcolor": "white",
            "linecolor": "white",
            "ticks": ""
           },
           "bgcolor": "#E5ECF6",
           "caxis": {
            "gridcolor": "white",
            "linecolor": "white",
            "ticks": ""
           }
          },
          "title": {
           "x": 0.05
          },
          "xaxis": {
           "automargin": true,
           "gridcolor": "white",
           "linecolor": "white",
           "ticks": "",
           "title": {
            "standoff": 15
           },
           "zerolinecolor": "white",
           "zerolinewidth": 2
          },
          "yaxis": {
           "automargin": true,
           "gridcolor": "white",
           "linecolor": "white",
           "ticks": "",
           "title": {
            "standoff": 15
           },
           "zerolinecolor": "white",
           "zerolinewidth": 2
          }
         }
        },
        "title": {
         "text": "People activity",
         "x": 0.5,
         "xanchor": "center",
         "y": 0.9
        },
        "xaxis": {
         "tickangle": 45,
         "title": {
          "text": "Person"
         }
        },
        "yaxis": {
         "title": {
          "text": "Activity probability"
         }
        }
       }
      },
      "text/html": "<div>                            <div id=\"1dfe5f2c-b717-4153-9a37-a4723e805f35\" class=\"plotly-graph-div\" style=\"height:525px; width:100%;\"></div>            <script type=\"text/javascript\">                require([\"plotly\"], function(Plotly) {                    window.PLOTLYENV=window.PLOTLYENV || {};                                    if (document.getElementById(\"1dfe5f2c-b717-4153-9a37-a4723e805f35\")) {                    Plotly.newPlot(                        \"1dfe5f2c-b717-4153-9a37-a4723e805f35\",                        [{\"marker\": {\"color\": \"#636EFA\"}, \"name\": \"Markers and Text\", \"showlegend\": false, \"type\": \"bar\", \"x\": [\"Hillary Clinton\", \"Huma Abedin\", \"Cheryl Mills\", \"Jake Sullivan\", \"Sidney Blumenthal\", \"Lauren Jiloty\", \"Philippe Reines\", \"Lona Valmoro\", \"Anne-Marie Slaughter\", \"Richard Verma\", \"Melanne Verveer\", \"Lissa Muscatine\", \"Judith McHale\", \"Strobe Talbott\", \"Betsy Ebeling\"], \"y\": [0.25673758865248225, 0.18529980657640233, 0.16982591876208897, 0.11231463571889104, 0.04809800128949065, 0.04397163120567376, 0.020502901353965184, 0.019987105093488073, 0.016763378465506126, 0.01521598968407479, 0.012379110251450677, 0.01096067053513862, 0.010058027079303675, 0.004771115409413282, 0.003997421018697615]}, {\"mode\": \"text+lines+markers\", \"name\": \"Cumulative\", \"text\": [\"1\", \"2\", \"3\", \"4\", \"5\", \"6\", \"7\", \"8\", \"9\", \"10\", \"11\", \"12\", \"13\", \"14\", \"15\"], \"textposition\": \"top center\", \"type\": \"scatter\", \"x\": [\"Hillary Clinton\", \"Huma Abedin\", \"Cheryl Mills\", \"Jake Sullivan\", \"Sidney Blumenthal\", \"Lauren Jiloty\", \"Philippe Reines\", \"Lona Valmoro\", \"Anne-Marie Slaughter\", \"Richard Verma\", \"Melanne Verveer\", \"Lissa Muscatine\", \"Judith McHale\", \"Strobe Talbott\", \"Betsy Ebeling\"], \"y\": [0.25673758865248225, 0.4420373952288846, 0.6118633139909735, 0.7241779497098645, 0.7722759509993551, 0.8162475822050288, 0.836750483558994, 0.8567375886524821, 0.8735009671179882, 0.888716956802063, 0.9010960670535136, 0.9120567375886522, 0.9221147646679559, 0.9268858800773693, 0.9308833010960669, 0.9346228239845259, 0.9378465506125079, 0.9409413281753706, 0.943907156673114, 0.9460992907801417, 0.9481624758220502, 0.9502256608639587, 0.9521598968407479, 0.9540941328175371, 0.955899419729207, 0.9577047066408769, 0.9592520954223083, 0.960541586073501, 0.9618310767246938, 0.9631205673758866, 0.9644100580270794, 0.9656995486782721, 0.9669890393294649, 0.9681495809155384, 0.9693101225016119, 0.9702127659574468, 0.9711154094132817, 0.9720180528691166, 0.9729206963249515, 0.9738233397807864, 0.9747259832366213, 0.9754996776273369, 0.9762733720180525, 0.9770470664087682, 0.9778207607994838, 0.9785944551901994, 0.9792392005157958, 0.9798839458413923, 0.9805286911669887, 0.9811734364925851, 0.9818181818181816, 0.982462927143778, 0.9829787234042552, 0.9834945196647323, 0.9840103159252095, 0.9845261121856866, 0.9850419084461638, 0.985557704706641, 0.9859445519019988, 0.9863313990973567, 0.9867182462927145, 0.9871050934880724, 0.987362991618311, 0.9876208897485496, 0.9878787878787881, 0.9881366860090267, 0.9883945841392653, 0.9886524822695039, 0.9889103803997424, 0.989168278529981, 0.9894261766602196, 0.9896840747904582, 0.9899419729206967, 0.9901998710509353, 0.9904577691811739, 0.9907156673114125, 0.9908446163765318, 0.990973565441651, 0.9911025145067703, 0.9912314635718896, 0.9913604126370089, 0.9914893617021282, 0.9916183107672475, 0.9917472598323668, 0.9918762088974861, 0.9920051579626054, 0.9921341070277246, 0.9922630560928439, 0.9923920051579632, 0.9925209542230825, 0.9926499032882018, 0.9927788523533211, 0.9929078014184404, 0.9930367504835597, 0.993165699548679, 0.9932946486137982, 0.9934235976789175, 0.9935525467440368, 0.9936814958091561, 0.9938104448742754, 0.9939393939393947, 0.994068343004514, 0.9941972920696333, 0.9943262411347525, 0.9944551901998718, 0.9945841392649911, 0.9947130883301104, 0.9948420373952297, 0.994970986460349, 0.9950999355254683, 0.9952288845905876, 0.9953578336557068, 0.9954867827208261, 0.9956157317859454, 0.9957446808510647, 0.995873629916184, 0.9960025789813033, 0.9961315280464226, 0.9962604771115419, 0.9963894261766612, 0.9965183752417804, 0.9966473243068997, 0.996776273372019, 0.9969052224371383, 0.9970341715022576, 0.9971631205673769, 0.9972920696324962, 0.9974210186976155, 0.9975499677627347, 0.997678916827854, 0.9978078658929733, 0.9979368149580926, 0.9980657640232119, 0.9981947130883312, 0.9983236621534505, 0.9984526112185698, 0.998581560283689, 0.9987105093488083, 0.9988394584139276, 0.9989684074790469, 0.9990973565441662, 0.9992263056092855, 0.9993552546744048, 0.9994842037395241, 0.9996131528046434, 0.9997421018697626, 0.9998710509348819, 1.000000000000001]}],                        {\"template\": {\"data\": {\"bar\": [{\"error_x\": {\"color\": \"#2a3f5f\"}, \"error_y\": {\"color\": \"#2a3f5f\"}, \"marker\": {\"line\": {\"color\": \"#E5ECF6\", \"width\": 0.5}}, \"type\": \"bar\"}], \"barpolar\": [{\"marker\": {\"line\": {\"color\": \"#E5ECF6\", \"width\": 0.5}}, \"type\": \"barpolar\"}], \"carpet\": [{\"aaxis\": {\"endlinecolor\": \"#2a3f5f\", \"gridcolor\": \"white\", \"linecolor\": \"white\", \"minorgridcolor\": \"white\", \"startlinecolor\": \"#2a3f5f\"}, \"baxis\": {\"endlinecolor\": \"#2a3f5f\", \"gridcolor\": \"white\", \"linecolor\": \"white\", \"minorgridcolor\": \"white\", \"startlinecolor\": \"#2a3f5f\"}, \"type\": \"carpet\"}], \"choropleth\": [{\"colorbar\": {\"outlinewidth\": 0, \"ticks\": \"\"}, \"type\": \"choropleth\"}], \"contour\": [{\"colorbar\": {\"outlinewidth\": 0, \"ticks\": \"\"}, \"colorscale\": [[0.0, \"#0d0887\"], [0.1111111111111111, \"#46039f\"], [0.2222222222222222, \"#7201a8\"], [0.3333333333333333, \"#9c179e\"], [0.4444444444444444, \"#bd3786\"], [0.5555555555555556, \"#d8576b\"], [0.6666666666666666, \"#ed7953\"], [0.7777777777777778, \"#fb9f3a\"], [0.8888888888888888, \"#fdca26\"], [1.0, \"#f0f921\"]], \"type\": \"contour\"}], \"contourcarpet\": [{\"colorbar\": {\"outlinewidth\": 0, \"ticks\": \"\"}, \"type\": \"contourcarpet\"}], \"heatmap\": [{\"colorbar\": {\"outlinewidth\": 0, \"ticks\": \"\"}, \"colorscale\": [[0.0, \"#0d0887\"], [0.1111111111111111, \"#46039f\"], [0.2222222222222222, \"#7201a8\"], [0.3333333333333333, \"#9c179e\"], [0.4444444444444444, \"#bd3786\"], [0.5555555555555556, \"#d8576b\"], [0.6666666666666666, \"#ed7953\"], [0.7777777777777778, \"#fb9f3a\"], [0.8888888888888888, \"#fdca26\"], [1.0, \"#f0f921\"]], \"type\": \"heatmap\"}], \"heatmapgl\": [{\"colorbar\": {\"outlinewidth\": 0, \"ticks\": \"\"}, \"colorscale\": [[0.0, \"#0d0887\"], [0.1111111111111111, \"#46039f\"], [0.2222222222222222, \"#7201a8\"], [0.3333333333333333, \"#9c179e\"], [0.4444444444444444, \"#bd3786\"], [0.5555555555555556, \"#d8576b\"], [0.6666666666666666, \"#ed7953\"], [0.7777777777777778, \"#fb9f3a\"], [0.8888888888888888, \"#fdca26\"], [1.0, \"#f0f921\"]], \"type\": \"heatmapgl\"}], \"histogram\": [{\"marker\": {\"colorbar\": {\"outlinewidth\": 0, \"ticks\": \"\"}}, \"type\": \"histogram\"}], \"histogram2d\": [{\"colorbar\": {\"outlinewidth\": 0, \"ticks\": \"\"}, \"colorscale\": [[0.0, \"#0d0887\"], [0.1111111111111111, \"#46039f\"], [0.2222222222222222, \"#7201a8\"], [0.3333333333333333, \"#9c179e\"], [0.4444444444444444, \"#bd3786\"], [0.5555555555555556, \"#d8576b\"], [0.6666666666666666, \"#ed7953\"], [0.7777777777777778, \"#fb9f3a\"], [0.8888888888888888, \"#fdca26\"], [1.0, \"#f0f921\"]], \"type\": \"histogram2d\"}], \"histogram2dcontour\": [{\"colorbar\": {\"outlinewidth\": 0, \"ticks\": \"\"}, \"colorscale\": [[0.0, \"#0d0887\"], [0.1111111111111111, \"#46039f\"], [0.2222222222222222, \"#7201a8\"], [0.3333333333333333, \"#9c179e\"], [0.4444444444444444, \"#bd3786\"], [0.5555555555555556, \"#d8576b\"], [0.6666666666666666, \"#ed7953\"], [0.7777777777777778, \"#fb9f3a\"], [0.8888888888888888, \"#fdca26\"], [1.0, \"#f0f921\"]], \"type\": \"histogram2dcontour\"}], \"mesh3d\": [{\"colorbar\": {\"outlinewidth\": 0, \"ticks\": \"\"}, \"type\": \"mesh3d\"}], \"parcoords\": [{\"line\": {\"colorbar\": {\"outlinewidth\": 0, \"ticks\": \"\"}}, \"type\": \"parcoords\"}], \"pie\": [{\"automargin\": true, \"type\": \"pie\"}], \"scatter\": [{\"marker\": {\"colorbar\": {\"outlinewidth\": 0, \"ticks\": \"\"}}, \"type\": \"scatter\"}], \"scatter3d\": [{\"line\": {\"colorbar\": {\"outlinewidth\": 0, \"ticks\": \"\"}}, \"marker\": {\"colorbar\": {\"outlinewidth\": 0, \"ticks\": \"\"}}, \"type\": \"scatter3d\"}], \"scattercarpet\": [{\"marker\": {\"colorbar\": {\"outlinewidth\": 0, \"ticks\": \"\"}}, \"type\": \"scattercarpet\"}], \"scattergeo\": [{\"marker\": {\"colorbar\": {\"outlinewidth\": 0, \"ticks\": \"\"}}, \"type\": \"scattergeo\"}], \"scattergl\": [{\"marker\": {\"colorbar\": {\"outlinewidth\": 0, \"ticks\": \"\"}}, \"type\": \"scattergl\"}], \"scattermapbox\": [{\"marker\": {\"colorbar\": {\"outlinewidth\": 0, \"ticks\": \"\"}}, \"type\": \"scattermapbox\"}], \"scatterpolar\": [{\"marker\": {\"colorbar\": {\"outlinewidth\": 0, \"ticks\": \"\"}}, \"type\": \"scatterpolar\"}], \"scatterpolargl\": [{\"marker\": {\"colorbar\": {\"outlinewidth\": 0, \"ticks\": \"\"}}, \"type\": \"scatterpolargl\"}], \"scatterternary\": [{\"marker\": {\"colorbar\": {\"outlinewidth\": 0, \"ticks\": \"\"}}, \"type\": \"scatterternary\"}], \"surface\": [{\"colorbar\": {\"outlinewidth\": 0, \"ticks\": \"\"}, \"colorscale\": [[0.0, \"#0d0887\"], [0.1111111111111111, \"#46039f\"], [0.2222222222222222, \"#7201a8\"], [0.3333333333333333, \"#9c179e\"], [0.4444444444444444, \"#bd3786\"], [0.5555555555555556, \"#d8576b\"], [0.6666666666666666, \"#ed7953\"], [0.7777777777777778, \"#fb9f3a\"], [0.8888888888888888, \"#fdca26\"], [1.0, \"#f0f921\"]], \"type\": \"surface\"}], \"table\": [{\"cells\": {\"fill\": {\"color\": \"#EBF0F8\"}, \"line\": {\"color\": \"white\"}}, \"header\": {\"fill\": {\"color\": \"#C8D4E3\"}, \"line\": {\"color\": \"white\"}}, \"type\": \"table\"}]}, \"layout\": {\"annotationdefaults\": {\"arrowcolor\": \"#2a3f5f\", \"arrowhead\": 0, \"arrowwidth\": 1}, \"autotypenumbers\": \"strict\", \"coloraxis\": {\"colorbar\": {\"outlinewidth\": 0, \"ticks\": \"\"}}, \"colorscale\": {\"diverging\": [[0, \"#8e0152\"], [0.1, \"#c51b7d\"], [0.2, \"#de77ae\"], [0.3, \"#f1b6da\"], [0.4, \"#fde0ef\"], [0.5, \"#f7f7f7\"], [0.6, \"#e6f5d0\"], [0.7, \"#b8e186\"], [0.8, \"#7fbc41\"], [0.9, \"#4d9221\"], [1, \"#276419\"]], \"sequential\": [[0.0, \"#0d0887\"], [0.1111111111111111, \"#46039f\"], [0.2222222222222222, \"#7201a8\"], [0.3333333333333333, \"#9c179e\"], [0.4444444444444444, \"#bd3786\"], [0.5555555555555556, \"#d8576b\"], [0.6666666666666666, \"#ed7953\"], [0.7777777777777778, \"#fb9f3a\"], [0.8888888888888888, \"#fdca26\"], [1.0, \"#f0f921\"]], \"sequentialminus\": [[0.0, \"#0d0887\"], [0.1111111111111111, \"#46039f\"], [0.2222222222222222, \"#7201a8\"], [0.3333333333333333, \"#9c179e\"], [0.4444444444444444, \"#bd3786\"], [0.5555555555555556, \"#d8576b\"], [0.6666666666666666, \"#ed7953\"], [0.7777777777777778, \"#fb9f3a\"], [0.8888888888888888, \"#fdca26\"], [1.0, \"#f0f921\"]]}, \"colorway\": [\"#636efa\", \"#EF553B\", \"#00cc96\", \"#ab63fa\", \"#FFA15A\", \"#19d3f3\", \"#FF6692\", \"#B6E880\", \"#FF97FF\", \"#FECB52\"], \"font\": {\"color\": \"#2a3f5f\"}, \"geo\": {\"bgcolor\": \"white\", \"lakecolor\": \"white\", \"landcolor\": \"#E5ECF6\", \"showlakes\": true, \"showland\": true, \"subunitcolor\": \"white\"}, \"hoverlabel\": {\"align\": \"left\"}, \"hovermode\": \"closest\", \"mapbox\": {\"style\": \"light\"}, \"paper_bgcolor\": \"white\", \"plot_bgcolor\": \"#E5ECF6\", \"polar\": {\"angularaxis\": {\"gridcolor\": \"white\", \"linecolor\": \"white\", \"ticks\": \"\"}, \"bgcolor\": \"#E5ECF6\", \"radialaxis\": {\"gridcolor\": \"white\", \"linecolor\": \"white\", \"ticks\": \"\"}}, \"scene\": {\"xaxis\": {\"backgroundcolor\": \"#E5ECF6\", \"gridcolor\": \"white\", \"gridwidth\": 2, \"linecolor\": \"white\", \"showbackground\": true, \"ticks\": \"\", \"zerolinecolor\": \"white\"}, \"yaxis\": {\"backgroundcolor\": \"#E5ECF6\", \"gridcolor\": \"white\", \"gridwidth\": 2, \"linecolor\": \"white\", \"showbackground\": true, \"ticks\": \"\", \"zerolinecolor\": \"white\"}, \"zaxis\": {\"backgroundcolor\": \"#E5ECF6\", \"gridcolor\": \"white\", \"gridwidth\": 2, \"linecolor\": \"white\", \"showbackground\": true, \"ticks\": \"\", \"zerolinecolor\": \"white\"}}, \"shapedefaults\": {\"line\": {\"color\": \"#2a3f5f\"}}, \"ternary\": {\"aaxis\": {\"gridcolor\": \"white\", \"linecolor\": \"white\", \"ticks\": \"\"}, \"baxis\": {\"gridcolor\": \"white\", \"linecolor\": \"white\", \"ticks\": \"\"}, \"bgcolor\": \"#E5ECF6\", \"caxis\": {\"gridcolor\": \"white\", \"linecolor\": \"white\", \"ticks\": \"\"}}, \"title\": {\"x\": 0.05}, \"xaxis\": {\"automargin\": true, \"gridcolor\": \"white\", \"linecolor\": \"white\", \"ticks\": \"\", \"title\": {\"standoff\": 15}, \"zerolinecolor\": \"white\", \"zerolinewidth\": 2}, \"yaxis\": {\"automargin\": true, \"gridcolor\": \"white\", \"linecolor\": \"white\", \"ticks\": \"\", \"title\": {\"standoff\": 15}, \"zerolinecolor\": \"white\", \"zerolinewidth\": 2}}}, \"title\": {\"text\": \"People activity\", \"x\": 0.5, \"xanchor\": \"center\", \"y\": 0.9}, \"xaxis\": {\"tickangle\": 45, \"title\": {\"text\": \"Person\"}}, \"yaxis\": {\"title\": {\"text\": \"Activity probability\"}}},                        {\"responsive\": true}                    ).then(function(){\n                            \nvar gd = document.getElementById('1dfe5f2c-b717-4153-9a37-a4723e805f35');\nvar x = new MutationObserver(function (mutations, observer) {{\n        var display = window.getComputedStyle(gd).display;\n        if (!display || display === 'none') {{\n            console.log([gd, 'removed!']);\n            Plotly.purge(gd);\n            observer.disconnect();\n        }}\n}});\n\n// Listen for the removal of the full notebook cells\nvar notebookContainer = gd.closest('#notebook-container');\nif (notebookContainer) {{\n    x.observe(notebookContainer, {childList: true});\n}}\n\n// Listen for the clearing of the current output cell\nvar outputEl = gd.closest('.output');\nif (outputEl) {{\n    x.observe(outputEl, {childList: true});\n}}\n\n                        })                };                });            </script>        </div>"
     },
     "metadata": {},
     "output_type": "display_data"
    }
   ],
   "source": [
    "cum_sum = np.cumsum(top10people)\n",
    "\n",
    "fig = go.Figure()\n",
    "\n",
    "fig.add_trace(go.Bar(\n",
    "    x=cum_sum.index[:TOP_K],\n",
    "    y=top10people[:TOP_K],\n",
    "    name=\"Markers and Text\",\n",
    "    marker_color=\"#636EFA\",\n",
    "    showlegend=False\n",
    "))\n",
    "\n",
    "fig.add_trace(go.Scatter(\n",
    "    x=cum_sum.index[:TOP_K],\n",
    "    y=cum_sum,\n",
    "    mode=\"text+lines+markers\",\n",
    "    name = \"Cumulative\",\n",
    "    text=[i for i in range(1, TOP_K + 1)],\n",
    "    textposition=\"top center\",\n",
    "))\n",
    "\n",
    "fig.update_xaxes(\n",
    "    tickangle = 45,\n",
    "    title_text = \"Person\",\n",
    ")\n",
    "\n",
    "fig.update_yaxes(\n",
    "    title_text = \"Activity probability\",\n",
    ")\n",
    "\n",
    "fig.update_layout(\n",
    "    title= dict(\n",
    "        text=f'People activity',\n",
    "        xanchor='center',\n",
    "        x=0.5, y=.9),\n",
    ")\n",
    "fig.show()"
   ],
   "metadata": {
    "collapsed": false,
    "pycharm": {
     "name": "#%%\n"
    }
   }
  },
  {
   "cell_type": "code",
   "execution_count": 101,
   "metadata": {},
   "outputs": [
    {
     "data": {
      "application/vnd.plotly.v1+json": {
       "config": {
        "plotlyServerURL": "https://plot.ly"
       },
       "data": [
        {
         "branchvalues": "total",
         "domain": {
          "x": [
           0.0,
           1.0
          ],
          "y": [
           0.0,
           1.0
          ]
         },
         "hovertemplate": "labels=%{label}<br>count=%{value}<br>parent=%{parent}<br>id=%{id}<extra></extra>",
         "ids": [
          "AGNA USEMB Kabul Afghanistan",
          "American Beverage Association",
          "Andrew Shapiro",
          "Anne-Marie Slaughter",
          "Anthony Lake",
          "Arturo Valenzuela",
          "Barbara Mikulski",
          "Betsy Ebeling",
          "Burns Strider",
          "Capricia Marshall",
          "Caroline Adler",
          "Case Button",
          "Cecile Richards",
          "Chad Weston",
          "Cherie Blair",
          "Cheryl Mills",
          "Chester Crocker",
          "Christopher Butzgy",
          "Christopher Hill",
          "Claire Coleman",
          "Colin Powell",
          "Courtney Beale",
          "Craig Kelly",
          "Dana Hyde",
          "Daniel Baer",
          "Daniel Inonye",
          "Daniel Schwerin",
          "Danielle Brian",
          "David Axelrod",
          "David Brock",
          "David Garten",
          "David Miliband",
          "Derek Chollet",
          "Elizabeth Drew",
          "Ellen Tauscher",
          "Eni Faleomavaega",
          "Eric Woodard",
          "Esther Brimmer",
          "FINCA International",
          "G Wills",
          "G. Lou de Bac",
          "G. Wills",
          "George Mitchell",
          "Gina Glantz",
          "Haiti",
          "Harold Hongju Koh",
          "Heintz",
          "Hillary Clinton",
          "Huma Abedin",
          "Ian Kelly",
          "J. Finkle",
          "JAMA",
          "Jackie Newmyer",
          "Jacob Lew",
          "Jake Sullivan",
          "James McGovern",
          "James Smith",
          "James Steinberg",
          "Jeffrey Farrow",
          "Jeffrey Feltman",
          "Jim Hoagland",
          "Joanne Laszczych",
          "John Podesta",
          "Johnnie Carson",
          "Jonathan Prince",
          "Joshua Daniel",
          "Judith Kieffer",
          "Judith McHale",
          "KPK",
          "Kris Balderston",
          "Kurt Campbell",
          "L. Rosenberger",
          "Lauren Jiloty",
          "Laurie Rubiner",
          "Lee Brown",
          "Lee Feinstein",
          "Linda Dewan",
          "Lissa Muscatine",
          "Lois Quam",
          "Lona Valmoro",
          "Luis CdeBaca",
          "M. Albright",
          "Madeleine Albright",
          "Maria Calivis",
          "Maria Otero",
          "Marianne Scott",
          "Maura Pally",
          "Max Baucus",
          "Megan Rooney",
          "Melanne Verveer",
          "Michael Fuchs",
          "Michael Posner",
          "Miguel Rodriguez",
          "Monica Hanley",
          "NHLA",
          "Neera Tanden",
          "New York Times",
          "Nicholas Norman",
          "Nora Toiv",
          "Nora Tov",
          "Opinion Research",
          "PVervee",
          "Patrick Kennedy",
          "Paul Collier",
          "Paul Jones",
          "Philip Crowley",
          "Philip Gordon",
          "Philippe Reines",
          "Phillip Crowley",
          "Piper Campbell",
          "Prime Minister",
          "Rajiv Shah",
          "Recos",
          "Reines Philippe",
          "Reta Jo Lewis",
          "Richard Verma",
          "Robert Blake",
          "Robert Danford",
          "Robert Hormats",
          "Robert Russo",
          "S. Akbar Zaidi",
          "SRGIA",
          "STATE",
          "Samuel (\"Sandy\") Berger",
          "Samuel Berger",
          "Sidney Blumenthal",
          "Strobe Talbott",
          "Susan Rice",
          "Thomas Donilon",
          "Thomas Nides",
          "Thomas Shannon",
          "Todd Stern",
          "Tomicah Tillemann",
          "Tsakina Elbegdori",
          "U.S. Global Leadership Coalition",
          "Victoria Nuland",
          "Voda Ebeling",
          "Washington Post",
          "Wendy Sherman",
          "Werner Ilic",
          "White House",
          "William Burns",
          "Zachary Iscol",
          "aclb",
          "alcb",
          "latimes.com",
          "postmaster@state.gov",
          "rooneym@state.gov"
         ],
         "labels": [
          "AGNA USEMB Kabul Afghanistan",
          "American Beverage Association",
          "Andrew Shapiro",
          "Anne-Marie Slaughter",
          "Anthony Lake",
          "Arturo Valenzuela",
          "Barbara Mikulski",
          "Betsy Ebeling",
          "Burns Strider",
          "Capricia Marshall",
          "Caroline Adler",
          "Case Button",
          "Cecile Richards",
          "Chad Weston",
          "Cherie Blair",
          "Cheryl Mills",
          "Chester Crocker",
          "Christopher Butzgy",
          "Christopher Hill",
          "Claire Coleman",
          "Colin Powell",
          "Courtney Beale",
          "Craig Kelly",
          "Dana Hyde",
          "Daniel Baer",
          "Daniel Inonye",
          "Daniel Schwerin",
          "Danielle Brian",
          "David Axelrod",
          "David Brock",
          "David Garten",
          "David Miliband",
          "Derek Chollet",
          "Elizabeth Drew",
          "Ellen Tauscher",
          "Eni Faleomavaega",
          "Eric Woodard",
          "Esther Brimmer",
          "FINCA International",
          "G Wills",
          "G. Lou de Bac",
          "G. Wills",
          "George Mitchell",
          "Gina Glantz",
          "Haiti",
          "Harold Hongju Koh",
          "Heintz",
          "Hillary Clinton",
          "Huma Abedin",
          "Ian Kelly",
          "J. Finkle",
          "JAMA",
          "Jackie Newmyer",
          "Jacob Lew",
          "Jake Sullivan",
          "James McGovern",
          "James Smith",
          "James Steinberg",
          "Jeffrey Farrow",
          "Jeffrey Feltman",
          "Jim Hoagland",
          "Joanne Laszczych",
          "John Podesta",
          "Johnnie Carson",
          "Jonathan Prince",
          "Joshua Daniel",
          "Judith Kieffer",
          "Judith McHale",
          "KPK",
          "Kris Balderston",
          "Kurt Campbell",
          "L. Rosenberger",
          "Lauren Jiloty",
          "Laurie Rubiner",
          "Lee Brown",
          "Lee Feinstein",
          "Linda Dewan",
          "Lissa Muscatine",
          "Lois Quam",
          "Lona Valmoro",
          "Luis CdeBaca",
          "M. Albright",
          "Madeleine Albright",
          "Maria Calivis",
          "Maria Otero",
          "Marianne Scott",
          "Maura Pally",
          "Max Baucus",
          "Megan Rooney",
          "Melanne Verveer",
          "Michael Fuchs",
          "Michael Posner",
          "Miguel Rodriguez",
          "Monica Hanley",
          "NHLA",
          "Neera Tanden",
          "New York Times",
          "Nicholas Norman",
          "Nora Toiv",
          "Nora Tov",
          "Opinion Research",
          "PVervee",
          "Patrick Kennedy",
          "Paul Collier",
          "Paul Jones",
          "Philip Crowley",
          "Philip Gordon",
          "Philippe Reines",
          "Phillip Crowley",
          "Piper Campbell",
          "Prime Minister",
          "Rajiv Shah",
          "Recos",
          "Reines Philippe",
          "Reta Jo Lewis",
          "Richard Verma",
          "Robert Blake",
          "Robert Danford",
          "Robert Hormats",
          "Robert Russo",
          "S. Akbar Zaidi",
          "SRGIA",
          "STATE",
          "Samuel (\"Sandy\") Berger",
          "Samuel Berger",
          "Sidney Blumenthal",
          "Strobe Talbott",
          "Susan Rice",
          "Thomas Donilon",
          "Thomas Nides",
          "Thomas Shannon",
          "Todd Stern",
          "Tomicah Tillemann",
          "Tsakina Elbegdori",
          "U.S. Global Leadership Coalition",
          "Victoria Nuland",
          "Voda Ebeling",
          "Washington Post",
          "Wendy Sherman",
          "Werner Ilic",
          "White House",
          "William Burns",
          "Zachary Iscol",
          "aclb",
          "alcb",
          "latimes.com",
          "postmaster@state.gov",
          "rooneym@state.gov"
         ],
         "name": "",
         "parents": [
          "",
          "",
          "",
          "",
          "",
          "",
          "",
          "",
          "",
          "",
          "",
          "",
          "",
          "",
          "",
          "",
          "",
          "",
          "",
          "",
          "",
          "",
          "",
          "",
          "",
          "",
          "",
          "",
          "",
          "",
          "",
          "",
          "",
          "",
          "",
          "",
          "",
          "",
          "",
          "",
          "",
          "",
          "",
          "",
          "",
          "",
          "",
          "",
          "",
          "",
          "",
          "",
          "",
          "",
          "",
          "",
          "",
          "",
          "",
          "",
          "",
          "",
          "",
          "",
          "",
          "",
          "",
          "",
          "",
          "",
          "",
          "",
          "",
          "",
          "",
          "",
          "",
          "",
          "",
          "",
          "",
          "",
          "",
          "",
          "",
          "",
          "",
          "",
          "",
          "",
          "",
          "",
          "",
          "",
          "",
          "",
          "",
          "",
          "",
          "",
          "",
          "",
          "",
          "",
          "",
          "",
          "",
          "",
          "",
          "",
          "",
          "",
          "",
          "",
          "",
          "",
          "",
          "",
          "",
          "",
          "",
          "",
          "",
          "",
          "",
          "",
          "",
          "",
          "",
          "",
          "",
          "",
          "",
          "",
          "",
          "",
          "",
          "",
          "",
          "",
          "",
          "",
          "",
          "",
          "",
          "",
          "",
          ""
         ],
         "textinfo": "label+percent parent",
         "type": "treemap",
         "values": [
          1,
          1,
          7,
          130,
          1,
          7,
          12,
          31,
          2,
          17,
          2,
          1,
          1,
          1,
          25,
          1317,
          1,
          1,
          1,
          6,
          1,
          3,
          3,
          1,
          5,
          1,
          10,
          2,
          2,
          2,
          1,
          1,
          1,
          1,
          9,
          1,
          1,
          1,
          1,
          1,
          1,
          2,
          6,
          2,
          5,
          15,
          1,
          1991,
          1437,
          1,
          1,
          1,
          10,
          14,
          871,
          2,
          1,
          6,
          10,
          16,
          1,
          4,
          2,
          1,
          1,
          5,
          1,
          78,
          1,
          23,
          14,
          1,
          341,
          1,
          2,
          1,
          1,
          85,
          3,
          155,
          1,
          1,
          1,
          1,
          9,
          1,
          1,
          1,
          10,
          96,
          15,
          1,
          10,
          29,
          1,
          7,
          2,
          1,
          5,
          1,
          1,
          1,
          2,
          1,
          2,
          16,
          4,
          159,
          4,
          1,
          1,
          1,
          1,
          1,
          1,
          118,
          1,
          1,
          1,
          24,
          1,
          1,
          6,
          7,
          4,
          373,
          37,
          3,
          1,
          1,
          1,
          5,
          6,
          1,
          1,
          1,
          4,
          4,
          7,
          1,
          1,
          10,
          1,
          2,
          5,
          1,
          7,
          1
         ]
        }
       ],
       "layout": {
        "height": 500,
        "legend": {
         "tracegroupgap": 0
        },
        "template": {
         "data": {
          "bar": [
           {
            "error_x": {
             "color": "#2a3f5f"
            },
            "error_y": {
             "color": "#2a3f5f"
            },
            "marker": {
             "line": {
              "color": "#E5ECF6",
              "width": 0.5
             }
            },
            "type": "bar"
           }
          ],
          "barpolar": [
           {
            "marker": {
             "line": {
              "color": "#E5ECF6",
              "width": 0.5
             }
            },
            "type": "barpolar"
           }
          ],
          "carpet": [
           {
            "aaxis": {
             "endlinecolor": "#2a3f5f",
             "gridcolor": "white",
             "linecolor": "white",
             "minorgridcolor": "white",
             "startlinecolor": "#2a3f5f"
            },
            "baxis": {
             "endlinecolor": "#2a3f5f",
             "gridcolor": "white",
             "linecolor": "white",
             "minorgridcolor": "white",
             "startlinecolor": "#2a3f5f"
            },
            "type": "carpet"
           }
          ],
          "choropleth": [
           {
            "colorbar": {
             "outlinewidth": 0,
             "ticks": ""
            },
            "type": "choropleth"
           }
          ],
          "contour": [
           {
            "colorbar": {
             "outlinewidth": 0,
             "ticks": ""
            },
            "colorscale": [
             [
              0.0,
              "#0d0887"
             ],
             [
              0.1111111111111111,
              "#46039f"
             ],
             [
              0.2222222222222222,
              "#7201a8"
             ],
             [
              0.3333333333333333,
              "#9c179e"
             ],
             [
              0.4444444444444444,
              "#bd3786"
             ],
             [
              0.5555555555555556,
              "#d8576b"
             ],
             [
              0.6666666666666666,
              "#ed7953"
             ],
             [
              0.7777777777777778,
              "#fb9f3a"
             ],
             [
              0.8888888888888888,
              "#fdca26"
             ],
             [
              1.0,
              "#f0f921"
             ]
            ],
            "type": "contour"
           }
          ],
          "contourcarpet": [
           {
            "colorbar": {
             "outlinewidth": 0,
             "ticks": ""
            },
            "type": "contourcarpet"
           }
          ],
          "heatmap": [
           {
            "colorbar": {
             "outlinewidth": 0,
             "ticks": ""
            },
            "colorscale": [
             [
              0.0,
              "#0d0887"
             ],
             [
              0.1111111111111111,
              "#46039f"
             ],
             [
              0.2222222222222222,
              "#7201a8"
             ],
             [
              0.3333333333333333,
              "#9c179e"
             ],
             [
              0.4444444444444444,
              "#bd3786"
             ],
             [
              0.5555555555555556,
              "#d8576b"
             ],
             [
              0.6666666666666666,
              "#ed7953"
             ],
             [
              0.7777777777777778,
              "#fb9f3a"
             ],
             [
              0.8888888888888888,
              "#fdca26"
             ],
             [
              1.0,
              "#f0f921"
             ]
            ],
            "type": "heatmap"
           }
          ],
          "heatmapgl": [
           {
            "colorbar": {
             "outlinewidth": 0,
             "ticks": ""
            },
            "colorscale": [
             [
              0.0,
              "#0d0887"
             ],
             [
              0.1111111111111111,
              "#46039f"
             ],
             [
              0.2222222222222222,
              "#7201a8"
             ],
             [
              0.3333333333333333,
              "#9c179e"
             ],
             [
              0.4444444444444444,
              "#bd3786"
             ],
             [
              0.5555555555555556,
              "#d8576b"
             ],
             [
              0.6666666666666666,
              "#ed7953"
             ],
             [
              0.7777777777777778,
              "#fb9f3a"
             ],
             [
              0.8888888888888888,
              "#fdca26"
             ],
             [
              1.0,
              "#f0f921"
             ]
            ],
            "type": "heatmapgl"
           }
          ],
          "histogram": [
           {
            "marker": {
             "colorbar": {
              "outlinewidth": 0,
              "ticks": ""
             }
            },
            "type": "histogram"
           }
          ],
          "histogram2d": [
           {
            "colorbar": {
             "outlinewidth": 0,
             "ticks": ""
            },
            "colorscale": [
             [
              0.0,
              "#0d0887"
             ],
             [
              0.1111111111111111,
              "#46039f"
             ],
             [
              0.2222222222222222,
              "#7201a8"
             ],
             [
              0.3333333333333333,
              "#9c179e"
             ],
             [
              0.4444444444444444,
              "#bd3786"
             ],
             [
              0.5555555555555556,
              "#d8576b"
             ],
             [
              0.6666666666666666,
              "#ed7953"
             ],
             [
              0.7777777777777778,
              "#fb9f3a"
             ],
             [
              0.8888888888888888,
              "#fdca26"
             ],
             [
              1.0,
              "#f0f921"
             ]
            ],
            "type": "histogram2d"
           }
          ],
          "histogram2dcontour": [
           {
            "colorbar": {
             "outlinewidth": 0,
             "ticks": ""
            },
            "colorscale": [
             [
              0.0,
              "#0d0887"
             ],
             [
              0.1111111111111111,
              "#46039f"
             ],
             [
              0.2222222222222222,
              "#7201a8"
             ],
             [
              0.3333333333333333,
              "#9c179e"
             ],
             [
              0.4444444444444444,
              "#bd3786"
             ],
             [
              0.5555555555555556,
              "#d8576b"
             ],
             [
              0.6666666666666666,
              "#ed7953"
             ],
             [
              0.7777777777777778,
              "#fb9f3a"
             ],
             [
              0.8888888888888888,
              "#fdca26"
             ],
             [
              1.0,
              "#f0f921"
             ]
            ],
            "type": "histogram2dcontour"
           }
          ],
          "mesh3d": [
           {
            "colorbar": {
             "outlinewidth": 0,
             "ticks": ""
            },
            "type": "mesh3d"
           }
          ],
          "parcoords": [
           {
            "line": {
             "colorbar": {
              "outlinewidth": 0,
              "ticks": ""
             }
            },
            "type": "parcoords"
           }
          ],
          "pie": [
           {
            "automargin": true,
            "type": "pie"
           }
          ],
          "scatter": [
           {
            "marker": {
             "colorbar": {
              "outlinewidth": 0,
              "ticks": ""
             }
            },
            "type": "scatter"
           }
          ],
          "scatter3d": [
           {
            "line": {
             "colorbar": {
              "outlinewidth": 0,
              "ticks": ""
             }
            },
            "marker": {
             "colorbar": {
              "outlinewidth": 0,
              "ticks": ""
             }
            },
            "type": "scatter3d"
           }
          ],
          "scattercarpet": [
           {
            "marker": {
             "colorbar": {
              "outlinewidth": 0,
              "ticks": ""
             }
            },
            "type": "scattercarpet"
           }
          ],
          "scattergeo": [
           {
            "marker": {
             "colorbar": {
              "outlinewidth": 0,
              "ticks": ""
             }
            },
            "type": "scattergeo"
           }
          ],
          "scattergl": [
           {
            "marker": {
             "colorbar": {
              "outlinewidth": 0,
              "ticks": ""
             }
            },
            "type": "scattergl"
           }
          ],
          "scattermapbox": [
           {
            "marker": {
             "colorbar": {
              "outlinewidth": 0,
              "ticks": ""
             }
            },
            "type": "scattermapbox"
           }
          ],
          "scatterpolar": [
           {
            "marker": {
             "colorbar": {
              "outlinewidth": 0,
              "ticks": ""
             }
            },
            "type": "scatterpolar"
           }
          ],
          "scatterpolargl": [
           {
            "marker": {
             "colorbar": {
              "outlinewidth": 0,
              "ticks": ""
             }
            },
            "type": "scatterpolargl"
           }
          ],
          "scatterternary": [
           {
            "marker": {
             "colorbar": {
              "outlinewidth": 0,
              "ticks": ""
             }
            },
            "type": "scatterternary"
           }
          ],
          "surface": [
           {
            "colorbar": {
             "outlinewidth": 0,
             "ticks": ""
            },
            "colorscale": [
             [
              0.0,
              "#0d0887"
             ],
             [
              0.1111111111111111,
              "#46039f"
             ],
             [
              0.2222222222222222,
              "#7201a8"
             ],
             [
              0.3333333333333333,
              "#9c179e"
             ],
             [
              0.4444444444444444,
              "#bd3786"
             ],
             [
              0.5555555555555556,
              "#d8576b"
             ],
             [
              0.6666666666666666,
              "#ed7953"
             ],
             [
              0.7777777777777778,
              "#fb9f3a"
             ],
             [
              0.8888888888888888,
              "#fdca26"
             ],
             [
              1.0,
              "#f0f921"
             ]
            ],
            "type": "surface"
           }
          ],
          "table": [
           {
            "cells": {
             "fill": {
              "color": "#EBF0F8"
             },
             "line": {
              "color": "white"
             }
            },
            "header": {
             "fill": {
              "color": "#C8D4E3"
             },
             "line": {
              "color": "white"
             }
            },
            "type": "table"
           }
          ]
         },
         "layout": {
          "annotationdefaults": {
           "arrowcolor": "#2a3f5f",
           "arrowhead": 0,
           "arrowwidth": 1
          },
          "autotypenumbers": "strict",
          "coloraxis": {
           "colorbar": {
            "outlinewidth": 0,
            "ticks": ""
           }
          },
          "colorscale": {
           "diverging": [
            [
             0,
             "#8e0152"
            ],
            [
             0.1,
             "#c51b7d"
            ],
            [
             0.2,
             "#de77ae"
            ],
            [
             0.3,
             "#f1b6da"
            ],
            [
             0.4,
             "#fde0ef"
            ],
            [
             0.5,
             "#f7f7f7"
            ],
            [
             0.6,
             "#e6f5d0"
            ],
            [
             0.7,
             "#b8e186"
            ],
            [
             0.8,
             "#7fbc41"
            ],
            [
             0.9,
             "#4d9221"
            ],
            [
             1,
             "#276419"
            ]
           ],
           "sequential": [
            [
             0.0,
             "#0d0887"
            ],
            [
             0.1111111111111111,
             "#46039f"
            ],
            [
             0.2222222222222222,
             "#7201a8"
            ],
            [
             0.3333333333333333,
             "#9c179e"
            ],
            [
             0.4444444444444444,
             "#bd3786"
            ],
            [
             0.5555555555555556,
             "#d8576b"
            ],
            [
             0.6666666666666666,
             "#ed7953"
            ],
            [
             0.7777777777777778,
             "#fb9f3a"
            ],
            [
             0.8888888888888888,
             "#fdca26"
            ],
            [
             1.0,
             "#f0f921"
            ]
           ],
           "sequentialminus": [
            [
             0.0,
             "#0d0887"
            ],
            [
             0.1111111111111111,
             "#46039f"
            ],
            [
             0.2222222222222222,
             "#7201a8"
            ],
            [
             0.3333333333333333,
             "#9c179e"
            ],
            [
             0.4444444444444444,
             "#bd3786"
            ],
            [
             0.5555555555555556,
             "#d8576b"
            ],
            [
             0.6666666666666666,
             "#ed7953"
            ],
            [
             0.7777777777777778,
             "#fb9f3a"
            ],
            [
             0.8888888888888888,
             "#fdca26"
            ],
            [
             1.0,
             "#f0f921"
            ]
           ]
          },
          "colorway": [
           "#636efa",
           "#EF553B",
           "#00cc96",
           "#ab63fa",
           "#FFA15A",
           "#19d3f3",
           "#FF6692",
           "#B6E880",
           "#FF97FF",
           "#FECB52"
          ],
          "font": {
           "color": "#2a3f5f"
          },
          "geo": {
           "bgcolor": "white",
           "lakecolor": "white",
           "landcolor": "#E5ECF6",
           "showlakes": true,
           "showland": true,
           "subunitcolor": "white"
          },
          "hoverlabel": {
           "align": "left"
          },
          "hovermode": "closest",
          "mapbox": {
           "style": "light"
          },
          "paper_bgcolor": "white",
          "plot_bgcolor": "#E5ECF6",
          "polar": {
           "angularaxis": {
            "gridcolor": "white",
            "linecolor": "white",
            "ticks": ""
           },
           "bgcolor": "#E5ECF6",
           "radialaxis": {
            "gridcolor": "white",
            "linecolor": "white",
            "ticks": ""
           }
          },
          "scene": {
           "xaxis": {
            "backgroundcolor": "#E5ECF6",
            "gridcolor": "white",
            "gridwidth": 2,
            "linecolor": "white",
            "showbackground": true,
            "ticks": "",
            "zerolinecolor": "white"
           },
           "yaxis": {
            "backgroundcolor": "#E5ECF6",
            "gridcolor": "white",
            "gridwidth": 2,
            "linecolor": "white",
            "showbackground": true,
            "ticks": "",
            "zerolinecolor": "white"
           },
           "zaxis": {
            "backgroundcolor": "#E5ECF6",
            "gridcolor": "white",
            "gridwidth": 2,
            "linecolor": "white",
            "showbackground": true,
            "ticks": "",
            "zerolinecolor": "white"
           }
          },
          "shapedefaults": {
           "line": {
            "color": "#2a3f5f"
           }
          },
          "ternary": {
           "aaxis": {
            "gridcolor": "white",
            "linecolor": "white",
            "ticks": ""
           },
           "baxis": {
            "gridcolor": "white",
            "linecolor": "white",
            "ticks": ""
           },
           "bgcolor": "#E5ECF6",
           "caxis": {
            "gridcolor": "white",
            "linecolor": "white",
            "ticks": ""
           }
          },
          "title": {
           "x": 0.05
          },
          "xaxis": {
           "automargin": true,
           "gridcolor": "white",
           "linecolor": "white",
           "ticks": "",
           "title": {
            "standoff": 15
           },
           "zerolinecolor": "white",
           "zerolinewidth": 2
          },
          "yaxis": {
           "automargin": true,
           "gridcolor": "white",
           "linecolor": "white",
           "ticks": "",
           "title": {
            "standoff": 15
           },
           "zerolinecolor": "white",
           "zerolinewidth": 2
          }
         }
        },
        "title": {
         "text": "People activity",
         "x": 0.5
        }
       }
      },
      "text/html": "<div>                            <div id=\"6fdc9f20-5941-43d9-961e-090fd8415fdb\" class=\"plotly-graph-div\" style=\"height:500px; width:100%;\"></div>            <script type=\"text/javascript\">                require([\"plotly\"], function(Plotly) {                    window.PLOTLYENV=window.PLOTLYENV || {};                                    if (document.getElementById(\"6fdc9f20-5941-43d9-961e-090fd8415fdb\")) {                    Plotly.newPlot(                        \"6fdc9f20-5941-43d9-961e-090fd8415fdb\",                        [{\"branchvalues\": \"total\", \"domain\": {\"x\": [0.0, 1.0], \"y\": [0.0, 1.0]}, \"hovertemplate\": \"labels=%{label}<br>count=%{value}<br>parent=%{parent}<br>id=%{id}<extra></extra>\", \"ids\": [\"AGNA USEMB Kabul Afghanistan\", \"American Beverage Association\", \"Andrew Shapiro\", \"Anne-Marie Slaughter\", \"Anthony Lake\", \"Arturo Valenzuela\", \"Barbara Mikulski\", \"Betsy Ebeling\", \"Burns Strider\", \"Capricia Marshall\", \"Caroline Adler\", \"Case Button\", \"Cecile Richards\", \"Chad Weston\", \"Cherie Blair\", \"Cheryl Mills\", \"Chester Crocker\", \"Christopher Butzgy\", \"Christopher Hill\", \"Claire Coleman\", \"Colin Powell\", \"Courtney Beale\", \"Craig Kelly\", \"Dana Hyde\", \"Daniel Baer\", \"Daniel Inonye\", \"Daniel Schwerin\", \"Danielle Brian\", \"David Axelrod\", \"David Brock\", \"David Garten\", \"David Miliband\", \"Derek Chollet\", \"Elizabeth Drew\", \"Ellen Tauscher\", \"Eni Faleomavaega\", \"Eric Woodard\", \"Esther Brimmer\", \"FINCA International\", \"G Wills\", \"G. Lou de Bac\", \"G. Wills\", \"George Mitchell\", \"Gina Glantz\", \"Haiti\", \"Harold Hongju Koh\", \"Heintz\", \"Hillary Clinton\", \"Huma Abedin\", \"Ian Kelly\", \"J. Finkle\", \"JAMA\", \"Jackie Newmyer\", \"Jacob Lew\", \"Jake Sullivan\", \"James McGovern\", \"James Smith\", \"James Steinberg\", \"Jeffrey Farrow\", \"Jeffrey Feltman\", \"Jim Hoagland\", \"Joanne Laszczych\", \"John Podesta\", \"Johnnie Carson\", \"Jonathan Prince\", \"Joshua Daniel\", \"Judith Kieffer\", \"Judith McHale\", \"KPK\", \"Kris Balderston\", \"Kurt Campbell\", \"L. Rosenberger\", \"Lauren Jiloty\", \"Laurie Rubiner\", \"Lee Brown\", \"Lee Feinstein\", \"Linda Dewan\", \"Lissa Muscatine\", \"Lois Quam\", \"Lona Valmoro\", \"Luis CdeBaca\", \"M. Albright\", \"Madeleine Albright\", \"Maria Calivis\", \"Maria Otero\", \"Marianne Scott\", \"Maura Pally\", \"Max Baucus\", \"Megan Rooney\", \"Melanne Verveer\", \"Michael Fuchs\", \"Michael Posner\", \"Miguel Rodriguez\", \"Monica Hanley\", \"NHLA\", \"Neera Tanden\", \"New York Times\", \"Nicholas Norman\", \"Nora Toiv\", \"Nora Tov\", \"Opinion Research\", \"PVervee\", \"Patrick Kennedy\", \"Paul Collier\", \"Paul Jones\", \"Philip Crowley\", \"Philip Gordon\", \"Philippe Reines\", \"Phillip Crowley\", \"Piper Campbell\", \"Prime Minister\", \"Rajiv Shah\", \"Recos\", \"Reines Philippe\", \"Reta Jo Lewis\", \"Richard Verma\", \"Robert Blake\", \"Robert Danford\", \"Robert Hormats\", \"Robert Russo\", \"S. Akbar Zaidi\", \"SRGIA\", \"STATE\", \"Samuel (\\\"Sandy\\\") Berger\", \"Samuel Berger\", \"Sidney Blumenthal\", \"Strobe Talbott\", \"Susan Rice\", \"Thomas Donilon\", \"Thomas Nides\", \"Thomas Shannon\", \"Todd Stern\", \"Tomicah Tillemann\", \"Tsakina Elbegdori\", \"U.S. Global Leadership Coalition\", \"Victoria Nuland\", \"Voda Ebeling\", \"Washington Post\", \"Wendy Sherman\", \"Werner Ilic\", \"White House\", \"William Burns\", \"Zachary Iscol\", \"aclb\", \"alcb\", \"latimes.com\", \"postmaster@state.gov\", \"rooneym@state.gov\"], \"labels\": [\"AGNA USEMB Kabul Afghanistan\", \"American Beverage Association\", \"Andrew Shapiro\", \"Anne-Marie Slaughter\", \"Anthony Lake\", \"Arturo Valenzuela\", \"Barbara Mikulski\", \"Betsy Ebeling\", \"Burns Strider\", \"Capricia Marshall\", \"Caroline Adler\", \"Case Button\", \"Cecile Richards\", \"Chad Weston\", \"Cherie Blair\", \"Cheryl Mills\", \"Chester Crocker\", \"Christopher Butzgy\", \"Christopher Hill\", \"Claire Coleman\", \"Colin Powell\", \"Courtney Beale\", \"Craig Kelly\", \"Dana Hyde\", \"Daniel Baer\", \"Daniel Inonye\", \"Daniel Schwerin\", \"Danielle Brian\", \"David Axelrod\", \"David Brock\", \"David Garten\", \"David Miliband\", \"Derek Chollet\", \"Elizabeth Drew\", \"Ellen Tauscher\", \"Eni Faleomavaega\", \"Eric Woodard\", \"Esther Brimmer\", \"FINCA International\", \"G Wills\", \"G. Lou de Bac\", \"G. Wills\", \"George Mitchell\", \"Gina Glantz\", \"Haiti\", \"Harold Hongju Koh\", \"Heintz\", \"Hillary Clinton\", \"Huma Abedin\", \"Ian Kelly\", \"J. Finkle\", \"JAMA\", \"Jackie Newmyer\", \"Jacob Lew\", \"Jake Sullivan\", \"James McGovern\", \"James Smith\", \"James Steinberg\", \"Jeffrey Farrow\", \"Jeffrey Feltman\", \"Jim Hoagland\", \"Joanne Laszczych\", \"John Podesta\", \"Johnnie Carson\", \"Jonathan Prince\", \"Joshua Daniel\", \"Judith Kieffer\", \"Judith McHale\", \"KPK\", \"Kris Balderston\", \"Kurt Campbell\", \"L. Rosenberger\", \"Lauren Jiloty\", \"Laurie Rubiner\", \"Lee Brown\", \"Lee Feinstein\", \"Linda Dewan\", \"Lissa Muscatine\", \"Lois Quam\", \"Lona Valmoro\", \"Luis CdeBaca\", \"M. Albright\", \"Madeleine Albright\", \"Maria Calivis\", \"Maria Otero\", \"Marianne Scott\", \"Maura Pally\", \"Max Baucus\", \"Megan Rooney\", \"Melanne Verveer\", \"Michael Fuchs\", \"Michael Posner\", \"Miguel Rodriguez\", \"Monica Hanley\", \"NHLA\", \"Neera Tanden\", \"New York Times\", \"Nicholas Norman\", \"Nora Toiv\", \"Nora Tov\", \"Opinion Research\", \"PVervee\", \"Patrick Kennedy\", \"Paul Collier\", \"Paul Jones\", \"Philip Crowley\", \"Philip Gordon\", \"Philippe Reines\", \"Phillip Crowley\", \"Piper Campbell\", \"Prime Minister\", \"Rajiv Shah\", \"Recos\", \"Reines Philippe\", \"Reta Jo Lewis\", \"Richard Verma\", \"Robert Blake\", \"Robert Danford\", \"Robert Hormats\", \"Robert Russo\", \"S. Akbar Zaidi\", \"SRGIA\", \"STATE\", \"Samuel (\\\"Sandy\\\") Berger\", \"Samuel Berger\", \"Sidney Blumenthal\", \"Strobe Talbott\", \"Susan Rice\", \"Thomas Donilon\", \"Thomas Nides\", \"Thomas Shannon\", \"Todd Stern\", \"Tomicah Tillemann\", \"Tsakina Elbegdori\", \"U.S. Global Leadership Coalition\", \"Victoria Nuland\", \"Voda Ebeling\", \"Washington Post\", \"Wendy Sherman\", \"Werner Ilic\", \"White House\", \"William Burns\", \"Zachary Iscol\", \"aclb\", \"alcb\", \"latimes.com\", \"postmaster@state.gov\", \"rooneym@state.gov\"], \"name\": \"\", \"parents\": [\"\", \"\", \"\", \"\", \"\", \"\", \"\", \"\", \"\", \"\", \"\", \"\", \"\", \"\", \"\", \"\", \"\", \"\", \"\", \"\", \"\", \"\", \"\", \"\", \"\", \"\", \"\", \"\", \"\", \"\", \"\", \"\", \"\", \"\", \"\", \"\", \"\", \"\", \"\", \"\", \"\", \"\", \"\", \"\", \"\", \"\", \"\", \"\", \"\", \"\", \"\", \"\", \"\", \"\", \"\", \"\", \"\", \"\", \"\", \"\", \"\", \"\", \"\", \"\", \"\", \"\", \"\", \"\", \"\", \"\", \"\", \"\", \"\", \"\", \"\", \"\", \"\", \"\", \"\", \"\", \"\", \"\", \"\", \"\", \"\", \"\", \"\", \"\", \"\", \"\", \"\", \"\", \"\", \"\", \"\", \"\", \"\", \"\", \"\", \"\", \"\", \"\", \"\", \"\", \"\", \"\", \"\", \"\", \"\", \"\", \"\", \"\", \"\", \"\", \"\", \"\", \"\", \"\", \"\", \"\", \"\", \"\", \"\", \"\", \"\", \"\", \"\", \"\", \"\", \"\", \"\", \"\", \"\", \"\", \"\", \"\", \"\", \"\", \"\", \"\", \"\", \"\", \"\", \"\", \"\", \"\", \"\", \"\"], \"textinfo\": \"label+percent parent\", \"type\": \"treemap\", \"values\": [1, 1, 7, 130, 1, 7, 12, 31, 2, 17, 2, 1, 1, 1, 25, 1317, 1, 1, 1, 6, 1, 3, 3, 1, 5, 1, 10, 2, 2, 2, 1, 1, 1, 1, 9, 1, 1, 1, 1, 1, 1, 2, 6, 2, 5, 15, 1, 1991, 1437, 1, 1, 1, 10, 14, 871, 2, 1, 6, 10, 16, 1, 4, 2, 1, 1, 5, 1, 78, 1, 23, 14, 1, 341, 1, 2, 1, 1, 85, 3, 155, 1, 1, 1, 1, 9, 1, 1, 1, 10, 96, 15, 1, 10, 29, 1, 7, 2, 1, 5, 1, 1, 1, 2, 1, 2, 16, 4, 159, 4, 1, 1, 1, 1, 1, 1, 118, 1, 1, 1, 24, 1, 1, 6, 7, 4, 373, 37, 3, 1, 1, 1, 5, 6, 1, 1, 1, 4, 4, 7, 1, 1, 10, 1, 2, 5, 1, 7, 1]}],                        {\"height\": 500, \"legend\": {\"tracegroupgap\": 0}, \"template\": {\"data\": {\"bar\": [{\"error_x\": {\"color\": \"#2a3f5f\"}, \"error_y\": {\"color\": \"#2a3f5f\"}, \"marker\": {\"line\": {\"color\": \"#E5ECF6\", \"width\": 0.5}}, \"type\": \"bar\"}], \"barpolar\": [{\"marker\": {\"line\": {\"color\": \"#E5ECF6\", \"width\": 0.5}}, \"type\": \"barpolar\"}], \"carpet\": [{\"aaxis\": {\"endlinecolor\": \"#2a3f5f\", \"gridcolor\": \"white\", \"linecolor\": \"white\", \"minorgridcolor\": \"white\", \"startlinecolor\": \"#2a3f5f\"}, \"baxis\": {\"endlinecolor\": \"#2a3f5f\", \"gridcolor\": \"white\", \"linecolor\": \"white\", \"minorgridcolor\": \"white\", \"startlinecolor\": \"#2a3f5f\"}, \"type\": \"carpet\"}], \"choropleth\": [{\"colorbar\": {\"outlinewidth\": 0, \"ticks\": \"\"}, \"type\": \"choropleth\"}], \"contour\": [{\"colorbar\": {\"outlinewidth\": 0, \"ticks\": \"\"}, \"colorscale\": [[0.0, \"#0d0887\"], [0.1111111111111111, \"#46039f\"], [0.2222222222222222, \"#7201a8\"], [0.3333333333333333, \"#9c179e\"], [0.4444444444444444, \"#bd3786\"], [0.5555555555555556, \"#d8576b\"], [0.6666666666666666, \"#ed7953\"], [0.7777777777777778, \"#fb9f3a\"], [0.8888888888888888, \"#fdca26\"], [1.0, \"#f0f921\"]], \"type\": \"contour\"}], \"contourcarpet\": [{\"colorbar\": {\"outlinewidth\": 0, \"ticks\": \"\"}, \"type\": \"contourcarpet\"}], \"heatmap\": [{\"colorbar\": {\"outlinewidth\": 0, \"ticks\": \"\"}, \"colorscale\": [[0.0, \"#0d0887\"], [0.1111111111111111, \"#46039f\"], [0.2222222222222222, \"#7201a8\"], [0.3333333333333333, \"#9c179e\"], [0.4444444444444444, \"#bd3786\"], [0.5555555555555556, \"#d8576b\"], [0.6666666666666666, \"#ed7953\"], [0.7777777777777778, \"#fb9f3a\"], [0.8888888888888888, \"#fdca26\"], [1.0, \"#f0f921\"]], \"type\": \"heatmap\"}], \"heatmapgl\": [{\"colorbar\": {\"outlinewidth\": 0, \"ticks\": \"\"}, \"colorscale\": [[0.0, \"#0d0887\"], [0.1111111111111111, \"#46039f\"], [0.2222222222222222, \"#7201a8\"], [0.3333333333333333, \"#9c179e\"], [0.4444444444444444, \"#bd3786\"], [0.5555555555555556, \"#d8576b\"], [0.6666666666666666, \"#ed7953\"], [0.7777777777777778, \"#fb9f3a\"], [0.8888888888888888, \"#fdca26\"], [1.0, \"#f0f921\"]], \"type\": \"heatmapgl\"}], \"histogram\": [{\"marker\": {\"colorbar\": {\"outlinewidth\": 0, \"ticks\": \"\"}}, \"type\": \"histogram\"}], \"histogram2d\": [{\"colorbar\": {\"outlinewidth\": 0, \"ticks\": \"\"}, \"colorscale\": [[0.0, \"#0d0887\"], [0.1111111111111111, \"#46039f\"], [0.2222222222222222, \"#7201a8\"], [0.3333333333333333, \"#9c179e\"], [0.4444444444444444, \"#bd3786\"], [0.5555555555555556, \"#d8576b\"], [0.6666666666666666, \"#ed7953\"], [0.7777777777777778, \"#fb9f3a\"], [0.8888888888888888, \"#fdca26\"], [1.0, \"#f0f921\"]], \"type\": \"histogram2d\"}], \"histogram2dcontour\": [{\"colorbar\": {\"outlinewidth\": 0, \"ticks\": \"\"}, \"colorscale\": [[0.0, \"#0d0887\"], [0.1111111111111111, \"#46039f\"], [0.2222222222222222, \"#7201a8\"], [0.3333333333333333, \"#9c179e\"], [0.4444444444444444, \"#bd3786\"], [0.5555555555555556, \"#d8576b\"], [0.6666666666666666, \"#ed7953\"], [0.7777777777777778, \"#fb9f3a\"], [0.8888888888888888, \"#fdca26\"], [1.0, \"#f0f921\"]], \"type\": \"histogram2dcontour\"}], \"mesh3d\": [{\"colorbar\": {\"outlinewidth\": 0, \"ticks\": \"\"}, \"type\": \"mesh3d\"}], \"parcoords\": [{\"line\": {\"colorbar\": {\"outlinewidth\": 0, \"ticks\": \"\"}}, \"type\": \"parcoords\"}], \"pie\": [{\"automargin\": true, \"type\": \"pie\"}], \"scatter\": [{\"marker\": {\"colorbar\": {\"outlinewidth\": 0, \"ticks\": \"\"}}, \"type\": \"scatter\"}], \"scatter3d\": [{\"line\": {\"colorbar\": {\"outlinewidth\": 0, \"ticks\": \"\"}}, \"marker\": {\"colorbar\": {\"outlinewidth\": 0, \"ticks\": \"\"}}, \"type\": \"scatter3d\"}], \"scattercarpet\": [{\"marker\": {\"colorbar\": {\"outlinewidth\": 0, \"ticks\": \"\"}}, \"type\": \"scattercarpet\"}], \"scattergeo\": [{\"marker\": {\"colorbar\": {\"outlinewidth\": 0, \"ticks\": \"\"}}, \"type\": \"scattergeo\"}], \"scattergl\": [{\"marker\": {\"colorbar\": {\"outlinewidth\": 0, \"ticks\": \"\"}}, \"type\": \"scattergl\"}], \"scattermapbox\": [{\"marker\": {\"colorbar\": {\"outlinewidth\": 0, \"ticks\": \"\"}}, \"type\": \"scattermapbox\"}], \"scatterpolar\": [{\"marker\": {\"colorbar\": {\"outlinewidth\": 0, \"ticks\": \"\"}}, \"type\": \"scatterpolar\"}], \"scatterpolargl\": [{\"marker\": {\"colorbar\": {\"outlinewidth\": 0, \"ticks\": \"\"}}, \"type\": \"scatterpolargl\"}], \"scatterternary\": [{\"marker\": {\"colorbar\": {\"outlinewidth\": 0, \"ticks\": \"\"}}, \"type\": \"scatterternary\"}], \"surface\": [{\"colorbar\": {\"outlinewidth\": 0, \"ticks\": \"\"}, \"colorscale\": [[0.0, \"#0d0887\"], [0.1111111111111111, \"#46039f\"], [0.2222222222222222, \"#7201a8\"], [0.3333333333333333, \"#9c179e\"], [0.4444444444444444, \"#bd3786\"], [0.5555555555555556, \"#d8576b\"], [0.6666666666666666, \"#ed7953\"], [0.7777777777777778, \"#fb9f3a\"], [0.8888888888888888, \"#fdca26\"], [1.0, \"#f0f921\"]], \"type\": \"surface\"}], \"table\": [{\"cells\": {\"fill\": {\"color\": \"#EBF0F8\"}, \"line\": {\"color\": \"white\"}}, \"header\": {\"fill\": {\"color\": \"#C8D4E3\"}, \"line\": {\"color\": \"white\"}}, \"type\": \"table\"}]}, \"layout\": {\"annotationdefaults\": {\"arrowcolor\": \"#2a3f5f\", \"arrowhead\": 0, \"arrowwidth\": 1}, \"autotypenumbers\": \"strict\", \"coloraxis\": {\"colorbar\": {\"outlinewidth\": 0, \"ticks\": \"\"}}, \"colorscale\": {\"diverging\": [[0, \"#8e0152\"], [0.1, \"#c51b7d\"], [0.2, \"#de77ae\"], [0.3, \"#f1b6da\"], [0.4, \"#fde0ef\"], [0.5, \"#f7f7f7\"], [0.6, \"#e6f5d0\"], [0.7, \"#b8e186\"], [0.8, \"#7fbc41\"], [0.9, \"#4d9221\"], [1, \"#276419\"]], \"sequential\": [[0.0, \"#0d0887\"], [0.1111111111111111, \"#46039f\"], [0.2222222222222222, \"#7201a8\"], [0.3333333333333333, \"#9c179e\"], [0.4444444444444444, \"#bd3786\"], [0.5555555555555556, \"#d8576b\"], [0.6666666666666666, \"#ed7953\"], [0.7777777777777778, \"#fb9f3a\"], [0.8888888888888888, \"#fdca26\"], [1.0, \"#f0f921\"]], \"sequentialminus\": [[0.0, \"#0d0887\"], [0.1111111111111111, \"#46039f\"], [0.2222222222222222, \"#7201a8\"], [0.3333333333333333, \"#9c179e\"], [0.4444444444444444, \"#bd3786\"], [0.5555555555555556, \"#d8576b\"], [0.6666666666666666, \"#ed7953\"], [0.7777777777777778, \"#fb9f3a\"], [0.8888888888888888, \"#fdca26\"], [1.0, \"#f0f921\"]]}, \"colorway\": [\"#636efa\", \"#EF553B\", \"#00cc96\", \"#ab63fa\", \"#FFA15A\", \"#19d3f3\", \"#FF6692\", \"#B6E880\", \"#FF97FF\", \"#FECB52\"], \"font\": {\"color\": \"#2a3f5f\"}, \"geo\": {\"bgcolor\": \"white\", \"lakecolor\": \"white\", \"landcolor\": \"#E5ECF6\", \"showlakes\": true, \"showland\": true, \"subunitcolor\": \"white\"}, \"hoverlabel\": {\"align\": \"left\"}, \"hovermode\": \"closest\", \"mapbox\": {\"style\": \"light\"}, \"paper_bgcolor\": \"white\", \"plot_bgcolor\": \"#E5ECF6\", \"polar\": {\"angularaxis\": {\"gridcolor\": \"white\", \"linecolor\": \"white\", \"ticks\": \"\"}, \"bgcolor\": \"#E5ECF6\", \"radialaxis\": {\"gridcolor\": \"white\", \"linecolor\": \"white\", \"ticks\": \"\"}}, \"scene\": {\"xaxis\": {\"backgroundcolor\": \"#E5ECF6\", \"gridcolor\": \"white\", \"gridwidth\": 2, \"linecolor\": \"white\", \"showbackground\": true, \"ticks\": \"\", \"zerolinecolor\": \"white\"}, \"yaxis\": {\"backgroundcolor\": \"#E5ECF6\", \"gridcolor\": \"white\", \"gridwidth\": 2, \"linecolor\": \"white\", \"showbackground\": true, \"ticks\": \"\", \"zerolinecolor\": \"white\"}, \"zaxis\": {\"backgroundcolor\": \"#E5ECF6\", \"gridcolor\": \"white\", \"gridwidth\": 2, \"linecolor\": \"white\", \"showbackground\": true, \"ticks\": \"\", \"zerolinecolor\": \"white\"}}, \"shapedefaults\": {\"line\": {\"color\": \"#2a3f5f\"}}, \"ternary\": {\"aaxis\": {\"gridcolor\": \"white\", \"linecolor\": \"white\", \"ticks\": \"\"}, \"baxis\": {\"gridcolor\": \"white\", \"linecolor\": \"white\", \"ticks\": \"\"}, \"bgcolor\": \"#E5ECF6\", \"caxis\": {\"gridcolor\": \"white\", \"linecolor\": \"white\", \"ticks\": \"\"}}, \"title\": {\"x\": 0.05}, \"xaxis\": {\"automargin\": true, \"gridcolor\": \"white\", \"linecolor\": \"white\", \"ticks\": \"\", \"title\": {\"standoff\": 15}, \"zerolinecolor\": \"white\", \"zerolinewidth\": 2}, \"yaxis\": {\"automargin\": true, \"gridcolor\": \"white\", \"linecolor\": \"white\", \"ticks\": \"\", \"title\": {\"standoff\": 15}, \"zerolinecolor\": \"white\", \"zerolinewidth\": 2}}}, \"title\": {\"text\": \"People activity\", \"x\": 0.5}},                        {\"responsive\": true}                    ).then(function(){\n                            \nvar gd = document.getElementById('6fdc9f20-5941-43d9-961e-090fd8415fdb');\nvar x = new MutationObserver(function (mutations, observer) {{\n        var display = window.getComputedStyle(gd).display;\n        if (!display || display === 'none') {{\n            console.log([gd, 'removed!']);\n            Plotly.purge(gd);\n            observer.disconnect();\n        }}\n}});\n\n// Listen for the removal of the full notebook cells\nvar notebookContainer = gd.closest('#notebook-container');\nif (notebookContainer) {{\n    x.observe(notebookContainer, {childList: true});\n}}\n\n// Listen for the clearing of the current output cell\nvar outputEl = gd.closest('.output');\nif (outputEl) {{\n    x.observe(outputEl, {childList: true});\n}}\n\n                        })                };                });            </script>        </div>"
     },
     "metadata": {},
     "output_type": "display_data"
    }
   ],
   "source": [
    "''''''''''''\n",
    "chart3 = px.treemap(df, path=['SenderFullName'],\n",
    "                    height = 500,\n",
    "                    title = \"People activity\")\n",
    "\n",
    "chart3.update(layout=dict(title=dict(x=0.5)))\n",
    "chart3.update_traces(textinfo = 'label + percent parent')"
   ]
  },
  {
   "cell_type": "code",
   "execution_count": 102,
   "metadata": {
    "pycharm": {
     "name": "#%%\n"
    }
   },
   "outputs": [
    {
     "name": "stdout",
     "output_type": "stream",
     "text": [
      "Hillary Clinton\n",
      "DateSent\n",
      "2009-12-23    24\n",
      "2009-09-20    21\n",
      "2009-07-14    19\n",
      "2009-12-29    17\n",
      "2010-01-17    17\n",
      "Name: DateSent, dtype: int64 \n",
      "\n",
      "Huma Abedin\n",
      "DateSent\n",
      "2009-07-02    25\n",
      "2009-08-21    17\n",
      "2009-09-01    17\n",
      "2009-08-26    15\n",
      "2009-09-12    15\n",
      "Name: DateSent, dtype: int64 \n",
      "\n",
      "Cheryl Mills\n",
      "DateSent\n",
      "2010-01-24    17\n",
      "2009-05-14    13\n",
      "2009-06-02    13\n",
      "2009-08-26    10\n",
      "2010-01-13    10\n",
      "Name: DateSent, dtype: int64 \n",
      "\n",
      "Jake Sullivan\n",
      "DateSent\n",
      "2010-03-21    12\n",
      "2010-04-02    12\n",
      "2010-02-10    11\n",
      "2009-09-12    9 \n",
      "2010-08-28    9 \n",
      "Name: DateSent, dtype: int64 \n",
      "\n",
      "Sidney Blumenthal\n",
      "DateSent\n",
      "2009-11-05    12\n",
      "2010-05-07    11\n",
      "2010-01-23    8 \n",
      "2010-05-11    8 \n",
      "2009-11-29    7 \n",
      "Name: DateSent, dtype: int64 \n",
      "\n",
      "Lauren Jiloty\n",
      "DateSent\n",
      "2010-08-26    21\n",
      "2010-10-08    7 \n",
      "2009-09-21    6 \n",
      "2010-08-24    6 \n",
      "2010-08-25    6 \n",
      "Name: DateSent, dtype: int64 \n",
      "\n",
      "Philippe Reines\n",
      "DateSent\n",
      "2010-09-02    7\n",
      "2009-08-07    5\n",
      "2010-06-23    5\n",
      "2010-08-08    5\n",
      "2009-07-26    4\n",
      "Name: DateSent, dtype: int64 \n",
      "\n",
      "Lona Valmoro\n",
      "DateSent\n",
      "2009-08-02    5\n",
      "2009-09-20    4\n",
      "2010-05-07    4\n",
      "2010-05-31    4\n",
      "2009-06-08    3\n",
      "Name: DateSent, dtype: int64 \n",
      "\n",
      "Anne-Marie Slaughter\n",
      "DateSent\n",
      "2010-08-27    5\n",
      "2010-08-15    4\n",
      "2010-02-11    3\n",
      "2010-08-18    3\n",
      "2010-08-25    3\n",
      "Name: DateSent, dtype: int64 \n",
      "\n",
      "Richard Verma\n",
      "DateSent\n",
      "2009-12-24    8\n",
      "2009-12-16    4\n",
      "2009-12-22    4\n",
      "2010-04-24    4\n",
      "2010-12-21    4\n",
      "Name: DateSent, dtype: int64 \n",
      "\n"
     ]
    }
   ],
   "source": [
    "# Trovare i 5 giorni più intensi per le prime 10 persone più attive\n",
    "names_group = df.groupby([\"SenderFullName\"])\n",
    "for name in su1:\n",
    "    print(name)\n",
    "    print(names_group[\"DateSent\"].value_counts().loc[name][:5],\"\\n\")"
   ]
  },
  {
   "cell_type": "code",
   "execution_count": 103,
   "metadata": {
    "pycharm": {
     "name": "#%%\n"
    }
   },
   "outputs": [
    {
     "name": "stdout",
     "output_type": "stream",
     "text": [
      "Hillary Clinton         0.256738\n",
      "Huma Abedin             0.185300\n",
      "Cheryl Mills            0.169826\n",
      "Jake Sullivan           0.112315\n",
      "Sidney Blumenthal       0.048098\n",
      "Lauren Jiloty           0.043972\n",
      "Philippe Reines         0.020503\n",
      "Lona Valmoro            0.019987\n",
      "Anne-Marie Slaughter    0.016763\n",
      "Richard Verma           0.015216\n",
      "Melanne Verveer         0.012379\n",
      "Name: SenderFullName, dtype: float64\n",
      "2009-12-23    0.006061\n",
      "2009-09-20    0.006061\n",
      "2010-03-21    0.005932\n",
      "2010-02-10    0.005803\n",
      "2009-07-14    0.005674\n",
      "2009-12-24    0.005674\n",
      "2010-02-06    0.005674\n",
      "2010-01-17    0.005545\n",
      "2009-08-26    0.005416\n",
      "2009-08-29    0.005416\n",
      "2009-10-18    0.005287\n",
      "Name: DateSent, dtype: float64\n"
     ]
    },
    {
     "data": {
      "text/plain": "SenderFullName                 DateSent  \nAGNA USEMB Kabul Afghanistan   2009-05-29    1.000000\nAmerican Beverage Association  2010-10-18    1.000000\nAndrew Shapiro                 2009-07-31    0.285714\n                               2009-08-14    0.142857\n                               2009-08-16    0.142857\nName: DateSent, dtype: float64"
     },
     "execution_count": 103,
     "metadata": {},
     "output_type": "execute_result"
    }
   ],
   "source": [
    "print(df[\"SenderFullName\"].value_counts(normalize=True)[:11])\n",
    "print(df[\"DateSent\"].value_counts(normalize=True)[:11])\n",
    "p = df.groupby('SenderFullName').DateSent.value_counts(normalize=True)\n",
    "p.head()"
   ]
  },
  {
   "cell_type": "code",
   "execution_count": 103,
   "metadata": {
    "pycharm": {
     "name": "#%%\n"
    }
   },
   "outputs": [],
   "source": []
  }
 ],
 "metadata": {
  "kernelspec": {
   "display_name": "Python 3",
   "language": "python",
   "name": "python3"
  },
  "language_info": {
   "codemirror_mode": {
    "name": "ipython",
    "version": 3
   },
   "file_extension": ".py",
   "mimetype": "text/x-python",
   "name": "python",
   "nbconvert_exporter": "python",
   "pygments_lexer": "ipython3",
   "version": "3.8.5"
  }
 },
 "nbformat": 4,
 "nbformat_minor": 1
}