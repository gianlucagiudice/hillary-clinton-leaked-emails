{
 "cells": [
  {
   "cell_type": "code",
   "execution_count": 1,
   "metadata": {
    "pycharm": {
     "name": "#%%\n"
    }
   },
   "outputs": [
    {
     "name": "stdout",
     "output_type": "stream",
     "text": [
      "INFO: Pandarallel will run on 8 workers.\n",
      "INFO: Pandarallel will use Memory file system to transfer data between the main process and workers.\n"
     ]
    }
   ],
   "source": [
    "from urllib.error import URLError\n",
    "import pandas as pd\n",
    "from os.path import join\n",
    "import regex as re\n",
    "import string\n",
    "from nltk.corpus import stopwords\n",
    "import seaborn as sns\n",
    "import matplotlib.pyplot as plt\n",
    "from wordcloud import WordCloud\n",
    "from afinn import Afinn\n",
    "import dateutil.parser as dparser\n",
    "import spacy\n",
    "from pandarallel import pandarallel\n",
    "from spacy import displacy\n",
    "from nltk.tokenize import word_tokenize\n",
    "import requests\n",
    "from json.decoder import JSONDecodeError\n",
    "from multiprocessing.dummy import Pool as ThreadPool\n",
    "import json\n",
    "import plotly.express as px\n",
    "import itertools\n",
    "import plotly.graph_objects as go\n",
    "import datetime\n",
    "import os\n",
    "import collections\n",
    "\n",
    "\n",
    "sns.set_theme()\n",
    "pandarallel.initialize(progress_bar = False)\n",
    "\n",
    "# Constants\n",
    "DBPEDIA_ENDPOINT = \"https://api.dbpedia-spotlight.org/en/annotate\"\n",
    "POOL_SIZE = 30\n",
    "\n",
    "# Serialization folder\n",
    "SERIALIZATION_FOLDER = \"pickle/\"\n",
    "\n",
    "# Environment\n",
    "DATA_PATH = 'data/'\n",
    "EMAIL_DATA = 'Emails.csv'\n",
    "\n",
    "\n",
    "TOP_K = 30"
   ]
  },
  {
   "cell_type": "markdown",
   "metadata": {
    "pycharm": {
     "name": "#%% md\n"
    }
   },
   "source": [
    "Read dataframe"
   ]
  },
  {
   "cell_type": "code",
   "execution_count": 2,
   "metadata": {
    "pycharm": {
     "name": "#%%\n"
    }
   },
   "outputs": [
    {
     "name": "stdout",
     "output_type": "stream",
     "text": [
      "Number of NA values in body and date: 1208.\n",
      "Number of valid email: 6737\n"
     ]
    },
    {
     "data": {
      "text/plain": "    SenderPersonId          MetadataDateSent  \\\nId                                             \n2              NaN 2011-03-03 05:00:00+00:00   \n3             32.0 2012-09-12 04:00:00+00:00   \n5             80.0 2011-03-11 05:00:00+00:00   \n6             80.0 2012-09-12 04:00:00+00:00   \n8             80.0 2011-03-11 05:00:00+00:00   \n\n                                     ExtractedSubject  \\\nId                                                      \n2                                                 NaN   \n3                                   Re: Chris Stevens   \n5                                                 NaN   \n6   Meet The Right Wing Extremist Behind Anti-Musl...   \n8                                                 NaN   \n\n                                    ExtractedBodyText  DateYear  DateMonth  \\\nId                                                                           \n2   B6\\nThursday, March 3, 2011 9:45 PM\\nH: Latest...      2011          3   \n3                                                 Thx      2012          9   \n5   H <hrod17@clintonemail.com>\\nFriday, March 11,...      2011          3   \n6   Pis print.\\n-•-...-^\\nH < hrod17@clintonernail...      2012          9   \n8   H <hrod17@clintonemail.corn>\\nFriday, March 11...      2011          3   \n\n    DateDay  \nId           \n2         3  \n3        12  \n5        11  \n6        12  \n8        11  ",
      "text/html": "<div>\n<style scoped>\n    .dataframe tbody tr th:only-of-type {\n        vertical-align: middle;\n    }\n\n    .dataframe tbody tr th {\n        vertical-align: top;\n    }\n\n    .dataframe thead th {\n        text-align: right;\n    }\n</style>\n<table border=\"1\" class=\"dataframe\">\n  <thead>\n    <tr style=\"text-align: right;\">\n      <th></th>\n      <th>SenderPersonId</th>\n      <th>MetadataDateSent</th>\n      <th>ExtractedSubject</th>\n      <th>ExtractedBodyText</th>\n      <th>DateYear</th>\n      <th>DateMonth</th>\n      <th>DateDay</th>\n    </tr>\n    <tr>\n      <th>Id</th>\n      <th></th>\n      <th></th>\n      <th></th>\n      <th></th>\n      <th></th>\n      <th></th>\n      <th></th>\n    </tr>\n  </thead>\n  <tbody>\n    <tr>\n      <th>2</th>\n      <td>NaN</td>\n      <td>2011-03-03 05:00:00+00:00</td>\n      <td>NaN</td>\n      <td>B6\\nThursday, March 3, 2011 9:45 PM\\nH: Latest...</td>\n      <td>2011</td>\n      <td>3</td>\n      <td>3</td>\n    </tr>\n    <tr>\n      <th>3</th>\n      <td>32.0</td>\n      <td>2012-09-12 04:00:00+00:00</td>\n      <td>Re: Chris Stevens</td>\n      <td>Thx</td>\n      <td>2012</td>\n      <td>9</td>\n      <td>12</td>\n    </tr>\n    <tr>\n      <th>5</th>\n      <td>80.0</td>\n      <td>2011-03-11 05:00:00+00:00</td>\n      <td>NaN</td>\n      <td>H &lt;hrod17@clintonemail.com&gt;\\nFriday, March 11,...</td>\n      <td>2011</td>\n      <td>3</td>\n      <td>11</td>\n    </tr>\n    <tr>\n      <th>6</th>\n      <td>80.0</td>\n      <td>2012-09-12 04:00:00+00:00</td>\n      <td>Meet The Right Wing Extremist Behind Anti-Musl...</td>\n      <td>Pis print.\\n-•-...-^\\nH &lt; hrod17@clintonernail...</td>\n      <td>2012</td>\n      <td>9</td>\n      <td>12</td>\n    </tr>\n    <tr>\n      <th>8</th>\n      <td>80.0</td>\n      <td>2011-03-11 05:00:00+00:00</td>\n      <td>NaN</td>\n      <td>H &lt;hrod17@clintonemail.corn&gt;\\nFriday, March 11...</td>\n      <td>2011</td>\n      <td>3</td>\n      <td>11</td>\n    </tr>\n  </tbody>\n</table>\n</div>"
     },
     "execution_count": 2,
     "metadata": {},
     "output_type": "execute_result"
    }
   ],
   "source": [
    "df = pd.read_csv(join(DATA_PATH, EMAIL_DATA))\n",
    "\n",
    "# Subset useful fields\n",
    "df = df[['Id', 'SenderPersonId', 'MetadataDateSent',\n",
    "         'ExtractedSubject', 'ExtractedBodyText']]\n",
    "# Preprocess dataframe data\n",
    "df = df.astype({'Id': int})\n",
    "df = df.set_index('Id')\n",
    "\n",
    "# Drop na values based on Extracted body\n",
    "len_before = len(df)\n",
    "df = df[df['ExtractedBodyText'].notna()]\n",
    "df = df[df['MetadataDateSent'].notna()]\n",
    "\n",
    "# Parse date\n",
    "df[\"MetadataDateSent\"] = df[\"MetadataDateSent\"].apply(lambda x : dparser.parse(x))\n",
    "df[\"DateYear\"] = df[\"MetadataDateSent\"].apply(lambda x : x.year)\n",
    "df[\"DateMonth\"] = df[\"MetadataDateSent\"].apply(lambda x : x.month)\n",
    "df[\"DateDay\"] = df[\"MetadataDateSent\"].apply(lambda x : x.day)\n",
    "\n",
    "print(f\"Number of NA values in body and date: {len_before - len(df)}.\\n\"\n",
    "      f\"Number of valid email: {len(df)}\")\n",
    "df.head()"
   ]
  },
  {
   "cell_type": "markdown",
   "metadata": {},
   "source": [
    "Date and time distribution.\n",
    "\n",
    "Since the emails belong to Hillary Clinton's personal account instead of the institutional one, we should notice few emails sent during weekdays."
   ]
  },
  {
   "cell_type": "code",
   "execution_count": 48,
   "metadata": {
    "pycharm": {
     "name": "#%%\n"
    }
   },
   "outputs": [
    {
     "name": "stderr",
     "output_type": "stream",
     "text": [
      "/Users/gianlucagiudice/.pyenv/versions/3.8.7/lib/python3.8/site-packages/seaborn/_decorators.py:36: FutureWarning:\n",
      "\n",
      "Pass the following variable as a keyword arg: x. From version 0.12, the only valid positional argument will be `data`, and passing other arguments without an explicit keyword will result in an error or misinterpretation.\n",
      "\n"
     ]
    },
    {
     "data": {
      "text/plain": "<Figure size 432x288 with 1 Axes>",
      "image/png": "[encoded data removed]"
     },
     "metadata": {},
     "output_type": "display_data"
    }
   ],
   "source": [
    "def plot_days_dist(days_metadata):\n",
    "    days_order = [\"Monday\", \"Tuesday\", \"Wednesday\", \"Thursday\", \"Friday\", \"Saturday\", \"Sunday\"]\n",
    "    days = [date.strftime(\"%A\") for date in df[days_metadata.notnull()][\"MetadataDateSent\"]]\n",
    "    sns.countplot(days, order=days_order)\n",
    "    plt.xticks(rotation=45)\n",
    "    plt.title(\"Days of the week distribution\")\n",
    "    plt.plot()\n",
    "\n",
    "plot_days_dist(df[\"MetadataDateSent\"])\n"
   ]
  },
  {
   "cell_type": "markdown",
   "metadata": {},
   "source": [
    "Preprocessing"
   ]
  },
  {
   "cell_type": "code",
   "execution_count": 3,
   "metadata": {
    "pycharm": {
     "name": "#%%\n"
    }
   },
   "outputs": [
    {
     "name": "stdout",
     "output_type": "stream",
     "text": [
      ">>> Raw:\n",
      "Brennan, John 0.\n",
      "Subject: RE: Google and YouTube\n",
      "Sue just called back and the block will stay through Monday. They will not/not be unblocking it before then.\n",
      "Nora Toiv\n",
      "Office of the Secretary\n",
      "202-647-8633\n",
      ">>> Cleaned:\n",
      "brennan, john 0.\n",
      "subject: sue just called back and the block will stay through monday. they will not/not be unblocking it before then.\n",
      "nora toiv\n",
      "office of the secretary\n",
      "202-647-8633\n"
     ]
    }
   ],
   "source": [
    "# Body preprocessing\n",
    "def clean_body(body):\n",
    "    email_header = re.compile(r'.+[^<]+<[^>]+>', re.IGNORECASE)\n",
    "    re_header = re.compile(r'(Delivered:\\s+)?RE:[^\\n]+\\n', re.IGNORECASE)\n",
    "    fw_header = re.compile(r'FW:[^\\n]+\\n', re.IGNORECASE)\n",
    "    date_header = re.compile(r'\\w+,\\s\\w+\\s\\d+,\\s\\d+[^\\n]+\\n', re.IGNORECASE)\n",
    "    # Convert to lowercase\n",
    "    body = body.lower()\n",
    "    # Remove email\n",
    "    body = re.sub(email_header, '', body).strip()\n",
    "    # Remove \"FW:\"\n",
    "    body = re.sub(fw_header, '', body).strip()\n",
    "    # Remove \"RE:\"\n",
    "    body = re.sub(re_header, '', body).strip()\n",
    "    # Remove date\n",
    "    body = re.sub(date_header, '', body).strip()\n",
    "    return body\n",
    "\n",
    "sample = df['ExtractedBodyText'].loc[230]\n",
    "print('>>> Raw:\\n' + sample)\n",
    "print('>>> Cleaned:\\n' + clean_body(sample))"
   ]
  },
  {
   "cell_type": "markdown",
   "metadata": {
    "pycharm": {
     "name": "#%% md\n"
    }
   },
   "source": [
    "Drop the emails that are too short"
   ]
  },
  {
   "cell_type": "code",
   "execution_count": 4,
   "metadata": {
    "pycharm": {
     "name": "#%%\n"
    }
   },
   "outputs": [
    {
     "data": {
      "text/plain": "['brennan',\n 'john',\n 'subject',\n 'sue',\n 'called',\n 'back',\n 'block',\n 'stay',\n 'monday',\n 'unblocking',\n 'nora',\n 'toiv',\n 'office',\n 'secretary']"
     },
     "execution_count": 4,
     "metadata": {},
     "output_type": "execute_result"
    }
   ],
   "source": [
    "def tokenize_body(body):\n",
    "    tokenized = word_tokenize(body)\n",
    "    # Strip tokens\n",
    "    tokenized = [token.strip() for token in tokenized]\n",
    "\n",
    "    # --------- STRICT RULE ---------\n",
    "    # Strict regex rule\n",
    "    tokenized = [token for token in tokenized if re.match('^\\w+$', token)]\n",
    "    # --------- STRICT RULE ---------\n",
    "\n",
    "    # Remove punctuation\n",
    "    tokenized = [token for token in tokenized if token not in string.punctuation]\n",
    "    # Remove stopwords\n",
    "    stop = stopwords.words('english') + [':', '.', '@'] + [\"n't\"] + [\"would\"]\n",
    "    tokenized = [token for token in tokenized if token not in stop]\n",
    "    # Remove numbers\n",
    "    tokenized = [token for token in tokenized if not re.search(r'\\d', token)]\n",
    "    # Remove if shorten than 1 char\n",
    "    tokenized = [token for token in tokenized if len(token) > 1]\n",
    "    return tokenized\n",
    "\n",
    "to_tokenize = clean_body(sample)\n",
    "tokenize_body(to_tokenize)"
   ]
  },
  {
   "cell_type": "code",
   "execution_count": 5,
   "metadata": {
    "pycharm": {
     "name": "#%%\n"
    }
   },
   "outputs": [],
   "source": [
    "def process_body(body):\n",
    "    body = clean_body(body)\n",
    "    tokenized = tokenize_body(body)\n",
    "    return tokenized"
   ]
  },
  {
   "cell_type": "code",
   "execution_count": 6,
   "metadata": {
    "pycharm": {
     "name": "#%%\n"
    }
   },
   "outputs": [
    {
     "data": {
      "text/plain": "    SenderPersonId          MetadataDateSent  \\\nId                                             \n2              NaN 2011-03-03 05:00:00+00:00   \n3             32.0 2012-09-12 04:00:00+00:00   \n5             80.0 2011-03-11 05:00:00+00:00   \n6             80.0 2012-09-12 04:00:00+00:00   \n8             80.0 2011-03-11 05:00:00+00:00   \n\n                                     ExtractedSubject  \\\nId                                                      \n2                                                 NaN   \n3                                   Re: Chris Stevens   \n5                                                 NaN   \n6   Meet The Right Wing Extremist Behind Anti-Musl...   \n8                                                 NaN   \n\n                                    ExtractedBodyText  DateYear  DateMonth  \\\nId                                                                           \n2   B6\\nThursday, March 3, 2011 9:45 PM\\nH: Latest...      2011          3   \n3                                                 Thx      2012          9   \n5   H <hrod17@clintonemail.com>\\nFriday, March 11,...      2011          3   \n6   Pis print.\\n-•-...-^\\nH < hrod17@clintonernail...      2012          9   \n8   H <hrod17@clintonemail.corn>\\nFriday, March 11...      2011          3   \n\n    DateDay                                          Tokenized  \nId                                                              \n2         3  [latest, syria, aiding, qaddafi, sid, hrc, mem...  \n3        12                                              [thx]  \n5        11  [huma, abedin, hrc, memo, syria, aiding, libya...  \n6        12  [meat, sent, subject, meet, right, wing, extre...  \n8        11  [huma, abedin, hrc, memo, syria, aiding, libya...  ",
      "text/html": "<div>\n<style scoped>\n    .dataframe tbody tr th:only-of-type {\n        vertical-align: middle;\n    }\n\n    .dataframe tbody tr th {\n        vertical-align: top;\n    }\n\n    .dataframe thead th {\n        text-align: right;\n    }\n</style>\n<table border=\"1\" class=\"dataframe\">\n  <thead>\n    <tr style=\"text-align: right;\">\n      <th></th>\n      <th>SenderPersonId</th>\n      <th>MetadataDateSent</th>\n      <th>ExtractedSubject</th>\n      <th>ExtractedBodyText</th>\n      <th>DateYear</th>\n      <th>DateMonth</th>\n      <th>DateDay</th>\n      <th>Tokenized</th>\n    </tr>\n    <tr>\n      <th>Id</th>\n      <th></th>\n      <th></th>\n      <th></th>\n      <th></th>\n      <th></th>\n      <th></th>\n      <th></th>\n      <th></th>\n    </tr>\n  </thead>\n  <tbody>\n    <tr>\n      <th>2</th>\n      <td>NaN</td>\n      <td>2011-03-03 05:00:00+00:00</td>\n      <td>NaN</td>\n      <td>B6\\nThursday, March 3, 2011 9:45 PM\\nH: Latest...</td>\n      <td>2011</td>\n      <td>3</td>\n      <td>3</td>\n      <td>[latest, syria, aiding, qaddafi, sid, hrc, mem...</td>\n    </tr>\n    <tr>\n      <th>3</th>\n      <td>32.0</td>\n      <td>2012-09-12 04:00:00+00:00</td>\n      <td>Re: Chris Stevens</td>\n      <td>Thx</td>\n      <td>2012</td>\n      <td>9</td>\n      <td>12</td>\n      <td>[thx]</td>\n    </tr>\n    <tr>\n      <th>5</th>\n      <td>80.0</td>\n      <td>2011-03-11 05:00:00+00:00</td>\n      <td>NaN</td>\n      <td>H &lt;hrod17@clintonemail.com&gt;\\nFriday, March 11,...</td>\n      <td>2011</td>\n      <td>3</td>\n      <td>11</td>\n      <td>[huma, abedin, hrc, memo, syria, aiding, libya...</td>\n    </tr>\n    <tr>\n      <th>6</th>\n      <td>80.0</td>\n      <td>2012-09-12 04:00:00+00:00</td>\n      <td>Meet The Right Wing Extremist Behind Anti-Musl...</td>\n      <td>Pis print.\\n-•-...-^\\nH &lt; hrod17@clintonernail...</td>\n      <td>2012</td>\n      <td>9</td>\n      <td>12</td>\n      <td>[meat, sent, subject, meet, right, wing, extre...</td>\n    </tr>\n    <tr>\n      <th>8</th>\n      <td>80.0</td>\n      <td>2011-03-11 05:00:00+00:00</td>\n      <td>NaN</td>\n      <td>H &lt;hrod17@clintonemail.corn&gt;\\nFriday, March 11...</td>\n      <td>2011</td>\n      <td>3</td>\n      <td>11</td>\n      <td>[huma, abedin, hrc, memo, syria, aiding, libya...</td>\n    </tr>\n  </tbody>\n</table>\n</div>"
     },
     "execution_count": 6,
     "metadata": {},
     "output_type": "execute_result"
    }
   ],
   "source": [
    "df['Tokenized'] = df['ExtractedBodyText'].parallel_apply(process_body)\n",
    "df.to_pickle(SERIALIZATION_FOLDER + \"df.pkl\")\n",
    "df.head()"
   ]
  },
  {
   "cell_type": "code",
   "execution_count": 7,
   "metadata": {
    "pycharm": {
     "name": "#%%\n"
    }
   },
   "outputs": [
    {
     "data": {
      "text/plain": "<Figure size 360x360 with 1 Axes>",
      "image/png": "[encoded data removed]"
     },
     "metadata": {},
     "output_type": "display_data"
    },
    {
     "name": "stdout",
     "output_type": "stream",
     "text": [
      "Describe tokens length: count    6737.000000\n",
      "mean       43.554550\n",
      "std       221.690877\n",
      "min         0.000000\n",
      "25%         2.000000\n",
      "50%         6.000000\n",
      "75%        15.000000\n",
      "max      6709.000000\n",
      "Name: TokensLength, dtype: float64\n"
     ]
    }
   ],
   "source": [
    "def plot_tokens_distribution(values):\n",
    "    ax = sns.displot(values, log=True, bins=30)\n",
    "    ax.set_xlabels(\"Number of tokens\")\n",
    "    plt.title(\"Number of tokens per email\")\n",
    "    plt.show()\n",
    "    print(\"Describe tokens length:\", values.describe())\n",
    "\n",
    "df['TokensLength'] = [len(x) for x in df['Tokenized']]\n",
    "\n",
    "plot_tokens_distribution(df['TokensLength'])"
   ]
  },
  {
   "cell_type": "markdown",
   "metadata": {},
   "source": [
    "Wordcloud of the emails with few tokens"
   ]
  },
  {
   "cell_type": "code",
   "execution_count": 8,
   "metadata": {
    "pycharm": {
     "name": "#%%\n"
    }
   },
   "outputs": [],
   "source": [
    "TOKENS_THLD = 7\n",
    "def flatten_tokens(tokens_list):\n",
    "    words_flatten = []\n",
    "    for token in tokens_list:\n",
    "        words_flatten += token\n",
    "    return pd.Series(words_flatten)\n",
    "\n",
    "def plot_wordcloud(words_freq, title, max_font, max_words):\n",
    "    wordcloud = WordCloud(max_font_size=max_font, max_words=max_words)\n",
    "    wordcloud = wordcloud.generate_from_frequencies(words_freq)\n",
    "    plt.figure()\n",
    "    plt.title(title)\n",
    "    plt.imshow(wordcloud, interpolation=\"bilinear\")\n",
    "    plt.axis(\"off\")\n",
    "    plt.show()"
   ]
  },
  {
   "cell_type": "code",
   "execution_count": 55,
   "metadata": {
    "pycharm": {
     "name": "#%%\n"
    }
   },
   "outputs": [
    {
     "data": {
      "text/plain": "<Figure size 432x288 with 1 Axes>",
      "image/png": "[encoded data removed]"
     },
     "metadata": {},
     "output_type": "display_data"
    }
   ],
   "source": [
    "words_flatten = flatten_tokens(df[df[\"TokensLength\"] < TOKENS_THLD][\"Tokenized\"])\n",
    "title = f\"Word cloud of the short emails (Num. of tokens < {TOKENS_THLD})\"\n",
    "plot_wordcloud(words_flatten.value_counts(), title, 100, 70)"
   ]
  },
  {
   "cell_type": "code",
   "execution_count": 56,
   "metadata": {
    "pycharm": {
     "name": "#%%\n"
    }
   },
   "outputs": [
    {
     "data": {
      "text/plain": "<Figure size 432x288 with 1 Axes>",
      "image/png": "[encoded data removed]"
     },
     "metadata": {},
     "output_type": "display_data"
    }
   ],
   "source": [
    "words_flatten = flatten_tokens(df[df[\"TokensLength\"] >= TOKENS_THLD][\"Tokenized\"])\n",
    "title = f\"Word cloud ot the long emails (Num. of tokens >= {TOKENS_THLD})\"\n",
    "plot_wordcloud(words_flatten.value_counts(), title, 100, 70)"
   ]
  },
  {
   "cell_type": "markdown",
   "metadata": {
    "pycharm": {
     "name": "#%% md\n"
    }
   },
   "source": [
    "Named entity Recognition and linking on nations"
   ]
  },
  {
   "cell_type": "code",
   "execution_count": 9,
   "metadata": {
    "pycharm": {
     "name": "#%%\n"
    }
   },
   "outputs": [],
   "source": [
    "nlp = spacy.load(\"en_core_web_md\")\n",
    "afn = Afinn()\n",
    "\n",
    "def extract_entities(email_body, target_label):\n",
    "    entities = [ent for ent in nlp(email_body).ents if ent.label_ == target_label]\n",
    "    return [(entity.text.lower(), afn.score(entity.sent.lemma_)) for entity in entities]"
   ]
  },
  {
   "cell_type": "markdown",
   "metadata": {},
   "source": [
    "Slides demo"
   ]
  },
  {
   "cell_type": "code",
   "execution_count": 10,
   "metadata": {
    "pycharm": {
     "name": "#%%\n"
    }
   },
   "outputs": [
    {
     "data": {
      "text/plain": "<IPython.core.display.HTML object>",
      "text/html": "<span class=\"tex2jax_ignore\"><div class=\"entities\" style=\"line-height: 2.5; direction: ltr\">[...] \n<mark class=\"entity\" style=\"background: #feca74; padding: 0.45em 0.6em; margin: 0 0.25em; line-height: 1; border-radius: 0.35em;\">\n    The United States\n    <span style=\"font-size: 0.8em; font-weight: bold; line-height: 1; border-radius: 0.35em; vertical-align: middle; margin-left: 0.5rem\">GPE</span>\n</mark>\n should immediately ask \n<mark class=\"entity\" style=\"background: #7aecec; padding: 0.45em 0.6em; margin: 0 0.25em; line-height: 1; border-radius: 0.35em;\">\n    the Security Council\n    <span style=\"font-size: 0.8em; font-weight: bold; line-height: 1; border-radius: 0.35em; vertical-align: middle; margin-left: 0.5rem\">ORG</span>\n</mark>\n to authorize a no-flight zone and make clear to \n<mark class=\"entity\" style=\"background: #feca74; padding: 0.45em 0.6em; margin: 0 0.25em; line-height: 1; border-radius: 0.35em;\">\n    Russia\n    <span style=\"font-size: 0.8em; font-weight: bold; line-height: 1; border-radius: 0.35em; vertical-align: middle; margin-left: 0.5rem\">GPE</span>\n</mark>\n and \n<mark class=\"entity\" style=\"background: #feca74; padding: 0.45em 0.6em; margin: 0 0.25em; line-height: 1; border-radius: 0.35em;\">\n    China\n    <span style=\"font-size: 0.8em; font-weight: bold; line-height: 1; border-radius: 0.35em; vertical-align: middle; margin-left: 0.5rem\">GPE</span>\n</mark>\n that if they block the resolution, the blood of the \n<mark class=\"entity\" style=\"background: #c887fb; padding: 0.45em 0.6em; margin: 0 0.25em; line-height: 1; border-radius: 0.35em;\">\n    Libyan\n    <span style=\"font-size: 0.8em; font-weight: bold; line-height: 1; border-radius: 0.35em; vertical-align: middle; margin-left: 0.5rem\">NORP</span>\n</mark>\n opposition will be on their hands. [...]</div></span>"
     },
     "metadata": {},
     "output_type": "display_data"
    }
   ],
   "source": [
    "def named_entity_recognition_demo():\n",
    "    doc = \"\"\"[...] The United States should immediately ask the Security Council to authorize a no-flight zone and make clear to Russia and China that if they block the resolution, the blood of the Libyan opposition will be on their hands. [...]\"\"\"\n",
    "    displacy.render(nlp(doc), style=\"ent\", jupyter=True)\n",
    "named_entity_recognition_demo()"
   ]
  },
  {
   "cell_type": "code",
   "execution_count": 11,
   "metadata": {
    "pycharm": {
     "name": "#%%\n"
    }
   },
   "outputs": [
    {
     "data": {
      "text/plain": "Id\n2    [(syria, 0.0), (qaddafi, 0.0), (libya, 0.0), (...\n3                                                   []\n5         [(syria, 0.0), (qaddafi, 0.0), (libya, 0.0)]\n6                                       [(u.s., -1.0)]\n8    [(syria, 0.0), (qaddafi, 0.0), (syria, 0.0), (...\nName: EntitiesGPE, dtype: object"
     },
     "execution_count": 11,
     "metadata": {},
     "output_type": "execute_result"
    }
   ],
   "source": [
    "df[\"EntitiesGPE\"] = df[\"ExtractedBodyText\"].parallel_apply(extract_entities, target_label='GPE')\n",
    "df[\"EntitiesGPE\"].head()"
   ]
  },
  {
   "cell_type": "markdown",
   "metadata": {},
   "source": [
    "Aggregate (sum) the sentiment among emails.\n",
    "\n",
    "If an entity appears one or more times in the email, its frequency contribution is 1."
   ]
  },
  {
   "cell_type": "code",
   "execution_count": 12,
   "metadata": {
    "pycharm": {
     "name": "#%%\n"
    }
   },
   "outputs": [],
   "source": [
    "def evaluate_entities(entities_list, order='freq'):\n",
    "    entity_score = dict()\n",
    "    freq_dict = dict()\n",
    "    for entities in entities_list:\n",
    "        entities_set = set()\n",
    "        for entity, sentiment in entities:\n",
    "            entity_score[entity] = entity_score.get(entity, 0) + sentiment\n",
    "            entities_set.add(entity)\n",
    "        for entity in entities_set:\n",
    "            freq_dict[entity] = freq_dict.get(entity, 0) + 1\n",
    "    out_dict = dict()\n",
    "    for entity, frequnecy in freq_dict.items():\n",
    "        out_dict[entity] = {\n",
    "            \"score\": entity_score[entity],\n",
    "            \"freq\": frequnecy,\n",
    "            \"norm\": entity_score[entity] / frequnecy}\n",
    "    return {k: v for k, v in sorted(out_dict.items(), key=lambda item: item[1][order], reverse=True)}\n",
    "\n",
    "def clean_entities(entities, blacklist):\n",
    "    for target in map(lambda x: x.lower(), blacklist):\n",
    "        if entities.get(target) is not None :\n",
    "            del entities[target]\n",
    "    return entities"
   ]
  },
  {
   "cell_type": "code",
   "execution_count": 14,
   "metadata": {
    "pycharm": {
     "name": "#%%\n"
    }
   },
   "outputs": [
    {
     "name": "stdout",
     "output_type": "stream",
     "text": [
      "[('u.s.', {'score': 98.0, 'freq': 207, 'norm': 0.47342995169082125}), ('washington', {'score': -9.0, 'freq': 183, 'norm': -0.04918032786885246}), ('us', {'score': 266.0, 'freq': 169, 'norm': 1.5739644970414202}), ('the united states', {'score': 553.0, 'freq': 137, 'norm': 4.036496350364963}), ('dc', {'score': 43.0, 'freq': 101, 'norm': 0.42574257425742573}), ('iran', {'score': -50.0, 'freq': 101, 'norm': -0.49504950495049505}), ('afghanistan', {'score': 28.0, 'freq': 100, 'norm': 0.28}), ('china', {'score': 109.0, 'freq': 85, 'norm': 1.2823529411764707}), ('america', {'score': 81.0, 'freq': 84, 'norm': 0.9642857142857143}), ('israel', {'score': 177.0, 'freq': 73, 'norm': 2.4246575342465753}), ('pakistan', {'score': 103.0, 'freq': 70, 'norm': 1.4714285714285715}), ('iraq', {'score': -76.0, 'freq': 68, 'norm': -1.1176470588235294}), ('new york', {'score': -12.0, 'freq': 66, 'norm': -0.18181818181818182}), ('haiti', {'score': 102.0, 'freq': 63, 'norm': 1.619047619047619}), ('libya', {'score': -27.0, 'freq': 55, 'norm': -0.4909090909090909})]\n"
     ]
    }
   ],
   "source": [
    "entities_to_remove = ['U.S.', 'US', 'the United States', 'America', 'usa',\n",
    "                      \"washington\", \"new york\", \"dc\", \"united states\"]\n",
    "entities_gpe = evaluate_entities(df['EntitiesGPE'])\n",
    "# entities_gpe = clean_entities(entities_gpe, entities_to_remove)\n",
    "print(list(entities_gpe.items())[:15])\n"
   ]
  },
  {
   "cell_type": "markdown",
   "metadata": {
    "pycharm": {
     "name": "#%% md\n"
    }
   },
   "source": [
    "Entity linking using DBpedia Spotlights"
   ]
  },
  {
   "cell_type": "code",
   "execution_count": 13,
   "metadata": {
    "pycharm": {
     "name": "#%%\n"
    }
   },
   "outputs": [],
   "source": [
    "def entity_linking(*args):\n",
    "    entity, session = args\n",
    "    params = {\"text\": entity, \"confidence\":0.1}\n",
    "    headers = {\"accept\": \"application/json\"}\n",
    "    response_url = session.get(url=DBPEDIA_ENDPOINT, params=params, headers=headers)\n",
    "    try:\n",
    "        parsed = json.loads(response_url.content.decode())\n",
    "        return parsed[\"Resources\"][0]['@URI']\n",
    "    except (IndexError, KeyError, JSONDecodeError):\n",
    "        return None\n",
    "\n",
    "def resolve_entities(entities: dict) -> dict:\n",
    "    with ThreadPool(POOL_SIZE) as pool:\n",
    "        with requests.Session() as session:\n",
    "            session_to_zip = itertools.repeat(session, len(entities))\n",
    "            results = pool.starmap(entity_linking, zip(entities.keys(), session_to_zip))\n",
    "\n",
    "    entities_resolved = entities\n",
    "    for (entity, entity_dict), dbpedia in zip(entities.items(), results):\n",
    "        entity_dict.update([('dbpedia', dbpedia)])\n",
    "        entities_resolved[entity] = entity_dict\n",
    "    return entities_resolved\n"
   ]
  },
  {
   "cell_type": "code",
   "execution_count": 63,
   "metadata": {
    "pycharm": {
     "name": "#%%\n"
    }
   },
   "outputs": [
    {
     "name": "stdout",
     "output_type": "stream",
     "text": [
      "[('iran', {'score': -50.0, 'freq': 101, 'norm': -0.49504950495049505, 'dbpedia': 'http://dbpedia.org/resource/Iran'}), ('afghanistan', {'score': 28.0, 'freq': 100, 'norm': 0.28, 'dbpedia': 'http://dbpedia.org/resource/Afghanistan'}), ('china', {'score': 109.0, 'freq': 85, 'norm': 1.2823529411764707, 'dbpedia': 'http://dbpedia.org/resource/China'}), ('israel', {'score': 177.0, 'freq': 73, 'norm': 2.4246575342465753, 'dbpedia': 'http://dbpedia.org/resource/Israel'}), ('pakistan', {'score': 103.0, 'freq': 70, 'norm': 1.4714285714285715, 'dbpedia': 'http://dbpedia.org/resource/Pakistan'}), ('iraq', {'score': -76.0, 'freq': 68, 'norm': -1.1176470588235294, 'dbpedia': 'http://dbpedia.org/resource/Iraq'}), ('haiti', {'score': 102.0, 'freq': 63, 'norm': 1.619047619047619, 'dbpedia': 'http://dbpedia.org/resource/Haiti'}), ('libya', {'score': -27.0, 'freq': 55, 'norm': -0.4909090909090909, 'dbpedia': 'http://dbpedia.org/resource/Libya'}), ('russia', {'score': -1.0, 'freq': 54, 'norm': -0.018518518518518517, 'dbpedia': 'http://dbpedia.org/resource/Russia'}), ('india', {'score': 127.0, 'freq': 52, 'norm': 2.4423076923076925, 'dbpedia': 'http://dbpedia.org/resource/India'}), ('ny', {'score': 15.0, 'freq': 49, 'norm': 0.30612244897959184, 'dbpedia': None}), ('uk', {'score': -5.0, 'freq': 41, 'norm': -0.12195121951219512, 'dbpedia': 'http://dbpedia.org/resource/United_Kingdom'}), ('london', {'score': 5.0, 'freq': 41, 'norm': 0.12195121951219512, 'dbpedia': 'http://dbpedia.org/resource/London'}), ('hrc', {'score': 47.0, 'freq': 34, 'norm': 1.3823529411764706, 'dbpedia': 'http://dbpedia.org/resource/Human_Rights_Campaign'}), ('turkey', {'score': 18.0, 'freq': 33, 'norm': 0.5454545454545454, 'dbpedia': 'http://dbpedia.org/resource/Turkey'})]\n"
     ]
    }
   ],
   "source": [
    "entities_gpe = resolve_entities(entities_gpe)\n",
    "print(list(entities_gpe.items())[:15])"
   ]
  },
  {
   "cell_type": "markdown",
   "metadata": {
    "pycharm": {
     "name": "#%% md\n"
    }
   },
   "source": [
    "Plot nations sentiment using"
   ]
  },
  {
   "cell_type": "code",
   "execution_count": 64,
   "metadata": {
    "scrolled": false
   },
   "outputs": [
    {
     "data": {
      "text/plain": "        entity  score   freq                                  dbpedia  \\\n0         iran  -50.0  101.0         http://dbpedia.org/resource/Iran   \n1  afghanistan   28.0  100.0  http://dbpedia.org/resource/Afghanistan   \n2        china  109.0   85.0        http://dbpedia.org/resource/China   \n3       israel  177.0   73.0       http://dbpedia.org/resource/Israel   \n4     pakistan  103.0   70.0     http://dbpedia.org/resource/Pakistan   \n\n       norm  \n0 -0.495050  \n1  0.280000  \n2  1.282353  \n3  2.424658  \n4  1.471429  ",
      "text/html": "<div>\n<style scoped>\n    .dataframe tbody tr th:only-of-type {\n        vertical-align: middle;\n    }\n\n    .dataframe tbody tr th {\n        vertical-align: top;\n    }\n\n    .dataframe thead th {\n        text-align: right;\n    }\n</style>\n<table border=\"1\" class=\"dataframe\">\n  <thead>\n    <tr style=\"text-align: right;\">\n      <th></th>\n      <th>entity</th>\n      <th>score</th>\n      <th>freq</th>\n      <th>dbpedia</th>\n      <th>norm</th>\n    </tr>\n  </thead>\n  <tbody>\n    <tr>\n      <th>0</th>\n      <td>iran</td>\n      <td>-50.0</td>\n      <td>101.0</td>\n      <td>http://dbpedia.org/resource/Iran</td>\n      <td>-0.495050</td>\n    </tr>\n    <tr>\n      <th>1</th>\n      <td>afghanistan</td>\n      <td>28.0</td>\n      <td>100.0</td>\n      <td>http://dbpedia.org/resource/Afghanistan</td>\n      <td>0.280000</td>\n    </tr>\n    <tr>\n      <th>2</th>\n      <td>china</td>\n      <td>109.0</td>\n      <td>85.0</td>\n      <td>http://dbpedia.org/resource/China</td>\n      <td>1.282353</td>\n    </tr>\n    <tr>\n      <th>3</th>\n      <td>israel</td>\n      <td>177.0</td>\n      <td>73.0</td>\n      <td>http://dbpedia.org/resource/Israel</td>\n      <td>2.424658</td>\n    </tr>\n    <tr>\n      <th>4</th>\n      <td>pakistan</td>\n      <td>103.0</td>\n      <td>70.0</td>\n      <td>http://dbpedia.org/resource/Pakistan</td>\n      <td>1.471429</td>\n    </tr>\n  </tbody>\n</table>\n</div>"
     },
     "execution_count": 64,
     "metadata": {},
     "output_type": "execute_result"
    }
   ],
   "source": [
    "def build_entities_df(entities):\n",
    "    df_entities = pd.DataFrame(columns=[\"entity\", \"score\", \"freq\"])\n",
    "    for entity, entity_dict in entities.items():\n",
    "        row = {\"entity\": entity, \"score\": entity_dict[\"score\"],\n",
    "               \"freq\": entity_dict[\"freq\"], \"dbpedia\": entity_dict[\"dbpedia\"]}\n",
    "        df_entities = df_entities.append(row, ignore_index=True)\n",
    "\n",
    "    df_entities.sort_values(by=['freq'])\n",
    "    df_entities = df_entities.astype(dict(freq=float))\n",
    "    df_entities[\"norm\"] = df_entities[\"score\"] / df_entities[\"freq\"]\n",
    "    df_entities = df_entities.dropna()\n",
    "    # False positive\n",
    "    false_positive = [\"mcchrystal\", \"mcdonough\"]\n",
    "    false_positive_ids = []\n",
    "    for fp in false_positive:\n",
    "        false_positive_ids.append(df_entities[df_entities[\"entity\"]==fp].index)\n",
    "    false_positive_ids = [x.values[0] for x in false_positive_ids]\n",
    "    try:\n",
    "        df_entities = df_entities.drop(false_positive_ids)\n",
    "    except KeyError:\n",
    "        pass\n",
    "\n",
    "    return df_entities\n",
    "\n",
    "def plot_entitites_sentiment(df_entities, top_k=30):\n",
    "    df_entities = df_entities.iloc[:top_k]\n",
    "    fig = px.scatter(df_entities, x=\"score\", y=\"freq\", text=\"entity\", size=\"freq\",\n",
    "                     color=\"score\", color_continuous_scale=\"Bluered_r\")\n",
    "    fig.update_traces(textposition='top right')\n",
    "    fig.update_layout(\n",
    "        xaxis_title=\"Sentiment Score\",\n",
    "        yaxis_title=\"Frequency\",\n",
    "        title= dict(\n",
    "            text=f'Sentiment of the nations (top {TOP_K} by frequency)',\n",
    "            xanchor='center',\n",
    "            x=0.5)\n",
    "    )\n",
    "    fig.update_traces(marker=dict(size=15), selector=dict(mode='markers'))\n",
    "    return fig\n",
    "\n",
    "def plot_entities_normalized(df_entities, top_k=30):\n",
    "    df_entities = df_entities.iloc[:top_k]\n",
    "    df_entities_sub = df_entities.sort_values(by=\"norm\", ascending=False)\n",
    "    df_entities_sub.head()\n",
    "\n",
    "    fig = px.bar(x=df_entities_sub[\"entity\"], y=df_entities_sub[\"norm\"],\n",
    "                 color=df_entities_sub[\"norm\"], color_continuous_scale=\"Bluered_r\")\n",
    "\n",
    "    fig.update_layout(\n",
    "        yaxis_title=\"Sentiment Score normalized\",\n",
    "        xaxis_title=\"Entity\",\n",
    "        title= dict(\n",
    "            text=f'Sentiment of the nations normalized (top {top_k} by frequency)',\n",
    "            xanchor='center',\n",
    "            x=0.5),\n",
    "        coloraxis_colorbar=dict(title=\"Sentiment\")\n",
    "    )\n",
    "    return fig\n",
    "\n",
    "def plot_entities_boxplot(df_entities, freq_th=2):\n",
    "    df_entities = df_entities[df_entities[\"freq\"]>freq_th]\n",
    "    fig = px.box(df_entities, x=\"norm\", points=\"all\", hover_data=[\"entity\", \"freq\"], height=400)\n",
    "    fig.update_layout(\n",
    "        xaxis_title=\"Sentiment Score normalized\",\n",
    "        title= dict(\n",
    "            text=f'Boxplot of the normalized sentiment of the countries (frequency threshold {freq_th})',\n",
    "            xanchor='center',\n",
    "            x=0.5),\n",
    "        coloraxis_colorbar=dict(title=\"Sentiment\")\n",
    "    )\n",
    "    return fig\n",
    "\n",
    "df_entities = build_entities_df(entities_gpe)\n",
    "df_entities.to_pickle(os.path.join(SERIALIZATION_FOLDER, \"df_entities.pkl\"))\n",
    "df_entities.head()"
   ]
  },
  {
   "cell_type": "code",
   "execution_count": 65,
   "metadata": {},
   "outputs": [
    {
     "data": {
      "application/vnd.plotly.v1+json": {
       "config": {
        "plotlyServerURL": "https://plot.ly"
       },
       "data": [
        {
         "alignmentgroup": "True",
         "boxpoints": "all",
         "customdata": [
          [
           "iran",
           101.0
          ],
          [
           "afghanistan",
           100.0
          ],
          [
           "china",
           85.0
          ],
          [
           "israel",
           73.0
          ],
          [
           "pakistan",
           70.0
          ],
          [
           "iraq",
           68.0
          ],
          [
           "haiti",
           63.0
          ],
          [
           "libya",
           55.0
          ],
          [
           "russia",
           54.0
          ],
          [
           "india",
           52.0
          ],
          [
           "uk",
           41.0
          ],
          [
           "london",
           41.0
          ],
          [
           "hrc",
           34.0
          ],
          [
           "turkey",
           33.0
          ],
          [
           "karzai",
           33.0
          ],
          [
           "kabul",
           33.0
          ],
          [
           "egypt",
           27.0
          ],
          [
           "france",
           25.0
          ],
          [
           "massachusetts",
           25.0
          ],
          [
           "mexico",
           25.0
          ],
          [
           "jerusalem",
           24.0
          ],
          [
           "brazil",
           24.0
          ],
          [
           "florida",
           23.0
          ],
          [
           "germany",
           23.0
          ],
          [
           "honduras",
           22.0
          ],
          [
           "indonesia",
           21.0
          ],
          [
           "britain",
           21.0
          ],
          [
           "japan",
           21.0
          ],
          [
           "benghazi",
           20.0
          ],
          [
           "north korea",
           20.0
          ],
          [
           "the united\nstates",
           19.0
          ],
          [
           "cairo",
           19.0
          ],
          [
           "gaza",
           19.0
          ],
          [
           "chicago",
           18.0
          ],
          [
           "cuba",
           18.0
          ],
          [
           "beijing",
           18.0
          ],
          [
           "paris",
           17.0
          ],
          [
           "northern ireland",
           17.0
          ],
          [
           "the west bank",
           17.0
          ],
          [
           "south africa",
           16.0
          ],
          [
           "california",
           16.0
          ],
          [
           "brussels",
           16.0
          ],
          [
           "belfast",
           16.0
          ],
          [
           "syria",
           15.0
          ],
          [
           "canada",
           15.0
          ],
          [
           "geneva",
           14.0
          ],
          [
           "tehran",
           14.0
          ],
          [
           "ohio",
           14.0
          ],
          [
           "vietnam",
           14.0
          ],
          [
           "huma",
           14.0
          ],
          [
           "spain",
           13.0
          ],
          [
           "baghdad",
           13.0
          ],
          [
           "copenhagen",
           13.0
          ],
          [
           "palau",
           13.0
          ],
          [
           "east jerusalem",
           13.0
          ],
          [
           "poland",
           13.0
          ],
          [
           "arizona",
           13.0
          ],
          [
           "yemen",
           12.0
          ],
          [
           "norway",
           12.0
          ],
          [
           "berlin",
           12.0
          ],
          [
           "singapore",
           12.0
          ],
          [
           "d.c.",
           12.0
          ],
          [
           "argentina",
           12.0
          ],
          [
           "moscow",
           12.0
          ],
          [
           "tripoli",
           11.0
          ],
          [
           "qatar",
           11.0
          ],
          [
           "korea",
           11.0
          ],
          [
           "ireland",
           11.0
          ],
          [
           "pennsylvania",
           11.0
          ],
          [
           "palestine",
           11.0
          ],
          [
           "saudi arabia",
           10.0
          ],
          [
           "islamabad",
           10.0
          ],
          [
           "italy",
           10.0
          ],
          [
           "whitehaven",
           9.0
          ],
          [
           "michigan",
           9.0
          ],
          [
           "new york city",
           9.0
          ],
          [
           "australia",
           9.0
          ],
          [
           "west bank",
           9.0
          ],
          [
           "shanghai",
           9.0
          ],
          [
           "texas",
           9.0
          ],
          [
           "chile",
           9.0
          ],
          [
           "colombia",
           9.0
          ],
          [
           "ukraine",
           9.0
          ],
          [
           "jordan",
           8.0
          ],
          [
           "uae",
           8.0
          ],
          [
           "greece",
           8.0
          ],
          [
           "hawaii",
           8.0
          ],
          [
           "kenya",
           8.0
          ],
          [
           "sudan",
           8.0
          ],
          [
           "kentucky",
           8.0
          ],
          [
           "qaddafi",
           7.0
          ],
          [
           "morocco",
           7.0
          ],
          [
           "sri lanka",
           7.0
          ],
          [
           "miami",
           7.0
          ],
          [
           "brookings",
           7.0
          ],
          [
           "somalia",
           7.0
          ],
          [
           "cambridge",
           7.0
          ],
          [
           "georgetown",
           7.0
          ],
          [
           "tokyo",
           7.0
          ],
          [
           "bosnia",
           7.0
          ],
          [
           "alaska",
           7.0
          ],
          [
           "virginia",
           7.0
          ],
          [
           "netherlands",
           7.0
          ],
          [
           "kandahar",
           7.0
          ],
          [
           "illinois",
           7.0
          ],
          [
           "politico",
           6.0
          ],
          [
           "georgia",
           6.0
          ],
          [
           "the\nunited states",
           6.0
          ],
          [
           "rome",
           6.0
          ],
          [
           "pak",
           6.0
          ],
          [
           "connecticut",
           6.0
          ],
          [
           "nigeria",
           6.0
          ],
          [
           "venezuela",
           6.0
          ],
          [
           "south korea",
           6.0
          ],
          [
           "ecuador",
           6.0
          ],
          [
           "maryland",
           6.0
          ],
          [
           "detroit",
           6.0
          ],
          [
           "nevada",
           6.0
          ],
          [
           "belgium",
           6.0
          ],
          [
           "ulster",
           6.0
          ],
          [
           "england",
           6.0
          ],
          [
           "tennessee",
           5.0
          ],
          [
           "tunisia",
           5.0
          ],
          [
           "liberia",
           5.0
          ],
          [
           "warsaw",
           5.0
          ],
          [
           "kurdistan",
           5.0
          ],
          [
           "manhattan",
           5.0
          ],
          [
           "uruguay",
           5.0
          ],
          [
           "seoul",
           5.0
          ],
          [
           "mousavi",
           5.0
          ],
          [
           "vienna",
           5.0
          ],
          [
           "angola",
           5.0
          ],
          [
           "north korea's",
           5.0
          ],
          [
           "bangladesh",
           5.0
          ],
          [
           "oslo",
           5.0
          ],
          [
           "uganda",
           5.0
          ],
          [
           "the new republic",
           5.0
          ],
          [
           "pittsburgh",
           5.0
          ],
          [
           "rwanda",
           5.0
          ],
          [
           "louisiana",
           5.0
          ],
          [
           "south carolina",
           5.0
          ],
          [
           "houston",
           5.0
          ],
          [
           "los angeles",
           5.0
          ],
          [
           "lithuania",
           5.0
          ],
          [
           "doha",
           4.0
          ],
          [
           "lahore",
           4.0
          ],
          [
           "switzerland",
           4.0
          ],
          [
           "istanbul",
           4.0
          ],
          [
           "columbia",
           4.0
          ],
          [
           "kuwait",
           4.0
          ],
          [
           "athens",
           4.0
          ],
          [
           "pyongyang",
           4.0
          ],
          [
           "jamaica",
           4.0
          ],
          [
           "lebanon",
           4.0
          ],
          [
           "wi",
           4.0
          ],
          [
           "philippines",
           4.0
          ],
          [
           "bolivia",
           4.0
          ],
          [
           "westminster",
           4.0
          ],
          [
           "congo",
           4.0
          ],
          [
           "prague",
           4.0
          ],
          [
           "bogota",
           4.0
          ],
          [
           "nairobi",
           4.0
          ],
          [
           "new delhi",
           4.0
          ],
          [
           "drc",
           4.0
          ],
          [
           "moldova",
           4.0
          ],
          [
           "panama",
           4.0
          ],
          [
           "buenos aires",
           4.0
          ],
          [
           "baucus",
           4.0
          ],
          [
           "new\nyork",
           4.0
          ],
          [
           "ramallah",
           4.0
          ],
          [
           "arkansas",
           4.0
          ],
          [
           "bloomberg",
           4.0
          ],
          [
           "pres",
           4.0
          ],
          [
           "missouri",
           4.0
          ],
          [
           "taiwan",
           4.0
          ],
          [
           "sweden",
           4.0
          ],
          [
           "the soviet union",
           4.0
          ],
          [
           "peru",
           4.0
          ],
          [
           "arlington",
           4.0
          ],
          [
           "malaysia",
           4.0
          ],
          [
           "la",
           4.0
          ],
          [
           "north carolina",
           4.0
          ],
          [
           "washington dc",
           4.0
          ],
          [
           "northern ireland's",
           4.0
          ],
          [
           "iceland",
           4.0
          ],
          [
           "krakow",
           4.0
          ],
          [
           "dubai",
           4.0
          ],
          [
           "new hampshire",
           4.0
          ],
          [
           "ussr",
           4.0
          ],
          [
           "austria",
           4.0
          ],
          [
           "minnesota",
           4.0
          ],
          [
           "kamala",
           3.0
          ],
          [
           "westchester county airport",
           3.0
          ],
          [
           "white plains",
           3.0
          ],
          [
           "westchester county",
           3.0
          ],
          [
           "khartoum",
           3.0
          ],
          [
           "peshawar",
           3.0
          ],
          [
           "montreal",
           3.0
          ],
          [
           "karachi",
           3.0
          ],
          [
           "embassy",
           3.0
          ],
          [
           "the united states of america",
           3.0
          ],
          [
           "north africa",
           3.0
          ],
          [
           "kazakhstan",
           3.0
          ],
          [
           "dublin",
           3.0
          ],
          [
           "guatemala",
           3.0
          ],
          [
           "dominican republic",
           3.0
          ],
          [
           "montevideo",
           3.0
          ],
          [
           "the dominican republic",
           3.0
          ],
          [
           "new york's",
           3.0
          ],
          [
           "ethiopia",
           3.0
          ],
          [
           "uighur",
           3.0
          ],
          [
           "the islamic republic",
           3.0
          ],
          [
           "wales",
           3.0
          ],
          [
           "new york avenue",
           3.0
          ],
          [
           "thailand",
           3.0
          ],
          [
           "new zealand",
           3.0
          ],
          [
           "denver",
           3.0
          ],
          [
           "idaho",
           3.0
          ],
          [
           "tanzania",
           3.0
          ],
          [
           "ottawa",
           3.0
          ],
          [
           "nyc",
           3.0
          ],
          [
           "reno",
           3.0
          ],
          [
           "the united states'",
           3.0
          ],
          [
           "hamid karzai",
           3.0
          ],
          [
           "holland",
           3.0
          ],
          [
           "delhi",
           3.0
          ],
          [
           "south dakota",
           3.0
          ],
          [
           "oklahoma",
           3.0
          ],
          [
           "orange county",
           3.0
          ],
          [
           "uzbekistan",
           3.0
          ],
          [
           "zambia",
           3.0
          ],
          [
           "costa rica",
           3.0
          ],
          [
           "koh",
           3.0
          ],
          [
           "nj",
           3.0
          ],
          [
           "delaware",
           3.0
          ],
          [
           "denmark",
           3.0
          ],
          [
           "sf",
           3.0
          ],
          [
           "hillsborough",
           3.0
          ],
          [
           "brasilia",
           3.0
          ],
          [
           "calif.",
           3.0
          ],
          [
           "u.k.",
           3.0
          ],
          [
           "pd",
           3.0
          ],
          [
           "iowa",
           3.0
          ],
          [
           "hollywood",
           3.0
          ],
          [
           "darfur",
           3.0
          ],
          [
           "montana",
           3.0
          ],
          [
           "greater israel",
           3.0
          ],
          [
           "hebron",
           3.0
          ],
          [
           "mexico city",
           3.0
          ],
          [
           "algeria",
           3.0
          ],
          [
           "mosul",
           3.0
          ],
          [
           "mississippi",
           3.0
          ],
          [
           "lugar",
           3.0
          ],
          [
           "the state of israel",
           3.0
          ],
          [
           "portugal",
           3.0
          ],
          [
           "kampala",
           3.0
          ],
          [
           "citizens united",
           3.0
          ],
          [
           "indiana",
           3.0
          ],
          [
           "alabama",
           3.0
          ],
          [
           "el salvador",
           3.0
          ],
          [
           "seattle",
           3.0
          ],
          [
           "saudi arabia's",
           3.0
          ],
          [
           "kansas",
           3.0
          ],
          [
           "wichita",
           3.0
          ],
          [
           "lisbon",
           3.0
          ],
          [
           "kosovo",
           3.0
          ]
         ],
         "hovertemplate": "norm=%{x}<br>entity=%{customdata[0]}<br>freq=%{customdata[1]}<extra></extra>",
         "legendgroup": "",
         "marker": {
          "color": "#636efa"
         },
         "name": "",
         "notched": false,
         "offsetgroup": "",
         "orientation": "h",
         "showlegend": false,
         "type": "box",
         "x": [
          -0.49504950495049505,
          0.28,
          1.2823529411764707,
          2.4246575342465753,
          1.4714285714285715,
          -1.1176470588235294,
          1.619047619047619,
          -0.4909090909090909,
          -0.018518518518518517,
          2.4423076923076925,
          -0.12195121951219512,
          0.12195121951219512,
          1.3823529411764706,
          0.5454545454545454,
          1.3636363636363635,
          0.6060606060606061,
          -0.2222222222222222,
          0.04,
          0.32,
          0.88,
          0.5,
          1.7083333333333333,
          0.6086956521739131,
          -0.6086956521739131,
          0.22727272727272727,
          4.238095238095238,
          -0.7619047619047619,
          0.2857142857142857,
          -5.7,
          -1.65,
          1.736842105263158,
          -0.15789473684210525,
          -1.263157894736842,
          1.1666666666666667,
          1.0,
          1.5555555555555556,
          0.5882352941176471,
          6.9411764705882355,
          1.4705882352941178,
          2.5625,
          -0.125,
          -0.5,
          1.4375,
          -1.0666666666666667,
          0.2,
          0.2857142857142857,
          -1.0,
          -0.42857142857142855,
          1.8571428571428572,
          -0.07142857142857142,
          0.38461538461538464,
          -1.5384615384615385,
          -0.7692307692307693,
          11.0,
          -0.5384615384615384,
          -1.3846153846153846,
          0.23076923076923078,
          -2.0833333333333335,
          1.0833333333333333,
          2.0833333333333335,
          2.5833333333333335,
          0.25,
          0.9166666666666666,
          1.75,
          0.0,
          0.9090909090909091,
          0.18181818181818182,
          1.8181818181818181,
          1.0,
          1.8181818181818181,
          -0.7,
          2.7,
          0.3,
          0.2222222222222222,
          0.1111111111111111,
          0.7777777777777778,
          1.7777777777777777,
          0.5555555555555556,
          0.4444444444444444,
          -0.5555555555555556,
          -1.0,
          2.2222222222222223,
          0.4444444444444444,
          -0.625,
          0.625,
          -2.0,
          -0.25,
          2.375,
          1.625,
          1.875,
          -3.857142857142857,
          14.571428571428571,
          -20.428571428571427,
          -0.14285714285714285,
          2.2857142857142856,
          -0.2857142857142857,
          2.857142857142857,
          -0.42857142857142855,
          0.7142857142857143,
          -0.14285714285714285,
          0.5714285714285714,
          1.7142857142857142,
          0.42857142857142855,
          -2.7142857142857144,
          -0.2857142857142857,
          -0.16666666666666666,
          0.3333333333333333,
          1.8333333333333333,
          -0.16666666666666666,
          0.5,
          0.16666666666666666,
          5.166666666666667,
          -0.8333333333333334,
          -2.1666666666666665,
          1.3333333333333333,
          1.5,
          3.8333333333333335,
          0.6666666666666666,
          0.6666666666666666,
          -3.8333333333333335,
          -1.6666666666666667,
          -1.2,
          6.0,
          -1.0,
          1.8,
          -4.0,
          -1.8,
          0.8,
          -0.8,
          -5.2,
          1.6,
          0.4,
          0.0,
          1.6,
          2.4,
          1.8,
          1.0,
          -1.4,
          1.6,
          -2.0,
          -1.2,
          0.4,
          -1.2,
          1.2,
          -0.25,
          0.5,
          2.25,
          0.25,
          0.5,
          -1.75,
          -0.25,
          -0.5,
          0.0,
          0.0,
          0.75,
          0.0,
          1.5,
          -0.25,
          -9.5,
          0.75,
          1.25,
          2.0,
          3.0,
          -2.0,
          3.0,
          0.75,
          0.75,
          -0.25,
          1.5,
          2.0,
          0.0,
          1.25,
          0.0,
          -0.5,
          -1.0,
          1.25,
          -2.0,
          0.0,
          0.5,
          0.5,
          0.5,
          -0.75,
          2.0,
          4.0,
          0.5,
          3.0,
          1.25,
          1.5,
          1.75,
          -2.0,
          1.25,
          0.0,
          0.0,
          0.0,
          1.3333333333333333,
          1.3333333333333333,
          -1.3333333333333333,
          0.6666666666666666,
          1.6666666666666667,
          4.666666666666667,
          1.3333333333333333,
          7.0,
          1.0,
          -0.3333333333333333,
          0.6666666666666666,
          0.6666666666666666,
          1.0,
          -1.0,
          1.0,
          5.666666666666667,
          0.6666666666666666,
          2.0,
          -2.0,
          0.0,
          0.0,
          0.6666666666666666,
          -1.0,
          -3.0,
          2.0,
          0.6666666666666666,
          1.3333333333333333,
          -2.0,
          6.333333333333333,
          -0.6666666666666666,
          0.6666666666666666,
          3.0,
          0.0,
          -6.0,
          2.0,
          0.6666666666666666,
          0.3333333333333333,
          -0.6666666666666666,
          1.0,
          2.3333333333333335,
          1.3333333333333333,
          0.6666666666666666,
          -0.6666666666666666,
          0.3333333333333333,
          2.0,
          -0.3333333333333333,
          -1.6666666666666667,
          0.6666666666666666,
          5.0,
          1.6666666666666667,
          -2.3333333333333335,
          3.6666666666666665,
          4.333333333333333,
          1.0,
          -1.6666666666666667,
          2.0,
          0.0,
          -0.3333333333333333,
          0.0,
          4.666666666666667,
          -0.6666666666666666,
          -1.0,
          4.666666666666667,
          -0.3333333333333333,
          -1.0,
          0.6666666666666666,
          -0.6666666666666666,
          1.3333333333333333,
          1.6666666666666667,
          1.3333333333333333,
          3.3333333333333335,
          0.3333333333333333
         ],
         "x0": " ",
         "xaxis": "x",
         "y0": " ",
         "yaxis": "y"
        }
       ],
       "layout": {
        "boxmode": "group",
        "coloraxis": {
         "colorbar": {
          "title": {
           "text": "Sentiment"
          }
         }
        },
        "height": 400,
        "legend": {
         "tracegroupgap": 0
        },
        "margin": {
         "t": 60
        },
        "template": {
         "data": {
          "bar": [
           {
            "error_x": {
             "color": "#2a3f5f"
            },
            "error_y": {
             "color": "#2a3f5f"
            },
            "marker": {
             "line": {
              "color": "#E5ECF6",
              "width": 0.5
             }
            },
            "type": "bar"
           }
          ],
          "barpolar": [
           {
            "marker": {
             "line": {
              "color": "#E5ECF6",
              "width": 0.5
             }
            },
            "type": "barpolar"
           }
          ],
          "carpet": [
           {
            "aaxis": {
             "endlinecolor": "#2a3f5f",
             "gridcolor": "white",
             "linecolor": "white",
             "minorgridcolor": "white",
             "startlinecolor": "#2a3f5f"
            },
            "baxis": {
             "endlinecolor": "#2a3f5f",
             "gridcolor": "white",
             "linecolor": "white",
             "minorgridcolor": "white",
             "startlinecolor": "#2a3f5f"
            },
            "type": "carpet"
           }
          ],
          "choropleth": [
           {
            "colorbar": {
             "outlinewidth": 0,
             "ticks": ""
            },
            "type": "choropleth"
           }
          ],
          "contour": [
           {
            "colorbar": {
             "outlinewidth": 0,
             "ticks": ""
            },
            "colorscale": [
             [
              0.0,
              "#0d0887"
             ],
             [
              0.1111111111111111,
              "#46039f"
             ],
             [
              0.2222222222222222,
              "#7201a8"
             ],
             [
              0.3333333333333333,
              "#9c179e"
             ],
             [
              0.4444444444444444,
              "#bd3786"
             ],
             [
              0.5555555555555556,
              "#d8576b"
             ],
             [
              0.6666666666666666,
              "#ed7953"
             ],
             [
              0.7777777777777778,
              "#fb9f3a"
             ],
             [
              0.8888888888888888,
              "#fdca26"
             ],
             [
              1.0,
              "#f0f921"
             ]
            ],
            "type": "contour"
           }
          ],
          "contourcarpet": [
           {
            "colorbar": {
             "outlinewidth": 0,
             "ticks": ""
            },
            "type": "contourcarpet"
           }
          ],
          "heatmap": [
           {
            "colorbar": {
             "outlinewidth": 0,
             "ticks": ""
            },
            "colorscale": [
             [
              0.0,
              "#0d0887"
             ],
             [
              0.1111111111111111,
              "#46039f"
             ],
             [
              0.2222222222222222,
              "#7201a8"
             ],
             [
              0.3333333333333333,
              "#9c179e"
             ],
             [
              0.4444444444444444,
              "#bd3786"
             ],
             [
              0.5555555555555556,
              "#d8576b"
             ],
             [
              0.6666666666666666,
              "#ed7953"
             ],
             [
              0.7777777777777778,
              "#fb9f3a"
             ],
             [
              0.8888888888888888,
              "#fdca26"
             ],
             [
              1.0,
              "#f0f921"
             ]
            ],
            "type": "heatmap"
           }
          ],
          "heatmapgl": [
           {
            "colorbar": {
             "outlinewidth": 0,
             "ticks": ""
            },
            "colorscale": [
             [
              0.0,
              "#0d0887"
             ],
             [
              0.1111111111111111,
              "#46039f"
             ],
             [
              0.2222222222222222,
              "#7201a8"
             ],
             [
              0.3333333333333333,
              "#9c179e"
             ],
             [
              0.4444444444444444,
              "#bd3786"
             ],
             [
              0.5555555555555556,
              "#d8576b"
             ],
             [
              0.6666666666666666,
              "#ed7953"
             ],
             [
              0.7777777777777778,
              "#fb9f3a"
             ],
             [
              0.8888888888888888,
              "#fdca26"
             ],
             [
              1.0,
              "#f0f921"
             ]
            ],
            "type": "heatmapgl"
           }
          ],
          "histogram": [
           {
            "marker": {
             "colorbar": {
              "outlinewidth": 0,
              "ticks": ""
             }
            },
            "type": "histogram"
           }
          ],
          "histogram2d": [
           {
            "colorbar": {
             "outlinewidth": 0,
             "ticks": ""
            },
            "colorscale": [
             [
              0.0,
              "#0d0887"
             ],
             [
              0.1111111111111111,
              "#46039f"
             ],
             [
              0.2222222222222222,
              "#7201a8"
             ],
             [
              0.3333333333333333,
              "#9c179e"
             ],
             [
              0.4444444444444444,
              "#bd3786"
             ],
             [
              0.5555555555555556,
              "#d8576b"
             ],
             [
              0.6666666666666666,
              "#ed7953"
             ],
             [
              0.7777777777777778,
              "#fb9f3a"
             ],
             [
              0.8888888888888888,
              "#fdca26"
             ],
             [
              1.0,
              "#f0f921"
             ]
            ],
            "type": "histogram2d"
           }
          ],
          "histogram2dcontour": [
           {
            "colorbar": {
             "outlinewidth": 0,
             "ticks": ""
            },
            "colorscale": [
             [
              0.0,
              "#0d0887"
             ],
             [
              0.1111111111111111,
              "#46039f"
             ],
             [
              0.2222222222222222,
              "#7201a8"
             ],
             [
              0.3333333333333333,
              "#9c179e"
             ],
             [
              0.4444444444444444,
              "#bd3786"
             ],
             [
              0.5555555555555556,
              "#d8576b"
             ],
             [
              0.6666666666666666,
              "#ed7953"
             ],
             [
              0.7777777777777778,
              "#fb9f3a"
             ],
             [
              0.8888888888888888,
              "#fdca26"
             ],
             [
              1.0,
              "#f0f921"
             ]
            ],
            "type": "histogram2dcontour"
           }
          ],
          "mesh3d": [
           {
            "colorbar": {
             "outlinewidth": 0,
             "ticks": ""
            },
            "type": "mesh3d"
           }
          ],
          "parcoords": [
           {
            "line": {
             "colorbar": {
              "outlinewidth": 0,
              "ticks": ""
             }
            },
            "type": "parcoords"
           }
          ],
          "pie": [
           {
            "automargin": true,
            "type": "pie"
           }
          ],
          "scatter": [
           {
            "marker": {
             "colorbar": {
              "outlinewidth": 0,
              "ticks": ""
             }
            },
            "type": "scatter"
           }
          ],
          "scatter3d": [
           {
            "line": {
             "colorbar": {
              "outlinewidth": 0,
              "ticks": ""
             }
            },
            "marker": {
             "colorbar": {
              "outlinewidth": 0,
              "ticks": ""
             }
            },
            "type": "scatter3d"
           }
          ],
          "scattercarpet": [
           {
            "marker": {
             "colorbar": {
              "outlinewidth": 0,
              "ticks": ""
             }
            },
            "type": "scattercarpet"
           }
          ],
          "scattergeo": [
           {
            "marker": {
             "colorbar": {
              "outlinewidth": 0,
              "ticks": ""
             }
            },
            "type": "scattergeo"
           }
          ],
          "scattergl": [
           {
            "marker": {
             "colorbar": {
              "outlinewidth": 0,
              "ticks": ""
             }
            },
            "type": "scattergl"
           }
          ],
          "scattermapbox": [
           {
            "marker": {
             "colorbar": {
              "outlinewidth": 0,
              "ticks": ""
             }
            },
            "type": "scattermapbox"
           }
          ],
          "scatterpolar": [
           {
            "marker": {
             "colorbar": {
              "outlinewidth": 0,
              "ticks": ""
             }
            },
            "type": "scatterpolar"
           }
          ],
          "scatterpolargl": [
           {
            "marker": {
             "colorbar": {
              "outlinewidth": 0,
              "ticks": ""
             }
            },
            "type": "scatterpolargl"
           }
          ],
          "scatterternary": [
           {
            "marker": {
             "colorbar": {
              "outlinewidth": 0,
              "ticks": ""
             }
            },
            "type": "scatterternary"
           }
          ],
          "surface": [
           {
            "colorbar": {
             "outlinewidth": 0,
             "ticks": ""
            },
            "colorscale": [
             [
              0.0,
              "#0d0887"
             ],
             [
              0.1111111111111111,
              "#46039f"
             ],
             [
              0.2222222222222222,
              "#7201a8"
             ],
             [
              0.3333333333333333,
              "#9c179e"
             ],
             [
              0.4444444444444444,
              "#bd3786"
             ],
             [
              0.5555555555555556,
              "#d8576b"
             ],
             [
              0.6666666666666666,
              "#ed7953"
             ],
             [
              0.7777777777777778,
              "#fb9f3a"
             ],
             [
              0.8888888888888888,
              "#fdca26"
             ],
             [
              1.0,
              "#f0f921"
             ]
            ],
            "type": "surface"
           }
          ],
          "table": [
           {
            "cells": {
             "fill": {
              "color": "#EBF0F8"
             },
             "line": {
              "color": "white"
             }
            },
            "header": {
             "fill": {
              "color": "#C8D4E3"
             },
             "line": {
              "color": "white"
             }
            },
            "type": "table"
           }
          ]
         },
         "layout": {
          "annotationdefaults": {
           "arrowcolor": "#2a3f5f",
           "arrowhead": 0,
           "arrowwidth": 1
          },
          "autotypenumbers": "strict",
          "coloraxis": {
           "colorbar": {
            "outlinewidth": 0,
            "ticks": ""
           }
          },
          "colorscale": {
           "diverging": [
            [
             0,
             "#8e0152"
            ],
            [
             0.1,
             "#c51b7d"
            ],
            [
             0.2,
             "#de77ae"
            ],
            [
             0.3,
             "#f1b6da"
            ],
            [
             0.4,
             "#fde0ef"
            ],
            [
             0.5,
             "#f7f7f7"
            ],
            [
             0.6,
             "#e6f5d0"
            ],
            [
             0.7,
             "#b8e186"
            ],
            [
             0.8,
             "#7fbc41"
            ],
            [
             0.9,
             "#4d9221"
            ],
            [
             1,
             "#276419"
            ]
           ],
           "sequential": [
            [
             0.0,
             "#0d0887"
            ],
            [
             0.1111111111111111,
             "#46039f"
            ],
            [
             0.2222222222222222,
             "#7201a8"
            ],
            [
             0.3333333333333333,
             "#9c179e"
            ],
            [
             0.4444444444444444,
             "#bd3786"
            ],
            [
             0.5555555555555556,
             "#d8576b"
            ],
            [
             0.6666666666666666,
             "#ed7953"
            ],
            [
             0.7777777777777778,
             "#fb9f3a"
            ],
            [
             0.8888888888888888,
             "#fdca26"
            ],
            [
             1.0,
             "#f0f921"
            ]
           ],
           "sequentialminus": [
            [
             0.0,
             "#0d0887"
            ],
            [
             0.1111111111111111,
             "#46039f"
            ],
            [
             0.2222222222222222,
             "#7201a8"
            ],
            [
             0.3333333333333333,
             "#9c179e"
            ],
            [
             0.4444444444444444,
             "#bd3786"
            ],
            [
             0.5555555555555556,
             "#d8576b"
            ],
            [
             0.6666666666666666,
             "#ed7953"
            ],
            [
             0.7777777777777778,
             "#fb9f3a"
            ],
            [
             0.8888888888888888,
             "#fdca26"
            ],
            [
             1.0,
             "#f0f921"
            ]
           ]
          },
          "colorway": [
           "#636efa",
           "#EF553B",
           "#00cc96",
           "#ab63fa",
           "#FFA15A",
           "#19d3f3",
           "#FF6692",
           "#B6E880",
           "#FF97FF",
           "#FECB52"
          ],
          "font": {
           "color": "#2a3f5f"
          },
          "geo": {
           "bgcolor": "white",
           "lakecolor": "white",
           "landcolor": "#E5ECF6",
           "showlakes": true,
           "showland": true,
           "subunitcolor": "white"
          },
          "hoverlabel": {
           "align": "left"
          },
          "hovermode": "closest",
          "mapbox": {
           "style": "light"
          },
          "paper_bgcolor": "white",
          "plot_bgcolor": "#E5ECF6",
          "polar": {
           "angularaxis": {
            "gridcolor": "white",
            "linecolor": "white",
            "ticks": ""
           },
           "bgcolor": "#E5ECF6",
           "radialaxis": {
            "gridcolor": "white",
            "linecolor": "white",
            "ticks": ""
           }
          },
          "scene": {
           "xaxis": {
            "backgroundcolor": "#E5ECF6",
            "gridcolor": "white",
            "gridwidth": 2,
            "linecolor": "white",
            "showbackground": true,
            "ticks": "",
            "zerolinecolor": "white"
           },
           "yaxis": {
            "backgroundcolor": "#E5ECF6",
            "gridcolor": "white",
            "gridwidth": 2,
            "linecolor": "white",
            "showbackground": true,
            "ticks": "",
            "zerolinecolor": "white"
           },
           "zaxis": {
            "backgroundcolor": "#E5ECF6",
            "gridcolor": "white",
            "gridwidth": 2,
            "linecolor": "white",
            "showbackground": true,
            "ticks": "",
            "zerolinecolor": "white"
           }
          },
          "shapedefaults": {
           "line": {
            "color": "#2a3f5f"
           }
          },
          "ternary": {
           "aaxis": {
            "gridcolor": "white",
            "linecolor": "white",
            "ticks": ""
           },
           "baxis": {
            "gridcolor": "white",
            "linecolor": "white",
            "ticks": ""
           },
           "bgcolor": "#E5ECF6",
           "caxis": {
            "gridcolor": "white",
            "linecolor": "white",
            "ticks": ""
           }
          },
          "title": {
           "x": 0.05
          },
          "xaxis": {
           "automargin": true,
           "gridcolor": "white",
           "linecolor": "white",
           "ticks": "",
           "title": {
            "standoff": 15
           },
           "zerolinecolor": "white",
           "zerolinewidth": 2
          },
          "yaxis": {
           "automargin": true,
           "gridcolor": "white",
           "linecolor": "white",
           "ticks": "",
           "title": {
            "standoff": 15
           },
           "zerolinecolor": "white",
           "zerolinewidth": 2
          }
         }
        },
        "title": {
         "text": "Boxplot of the normalized sentiment of the countries (frequency threshold 2)",
         "x": 0.5,
         "xanchor": "center"
        },
        "xaxis": {
         "anchor": "y",
         "domain": [
          0.0,
          1.0
         ],
         "title": {
          "text": "Sentiment Score normalized"
         }
        },
        "yaxis": {
         "anchor": "x",
         "domain": [
          0.0,
          1.0
         ]
        }
       }
      },
      "text/html": "<div>                            <div id=\"229ac352-96b8-4666-8ced-04dfa4a107c5\" class=\"plotly-graph-div\" style=\"height:400px; width:100%;\"></div>            <script type=\"text/javascript\">                require([\"plotly\"], function(Plotly) {                    window.PLOTLYENV=window.PLOTLYENV || {};                                    if (document.getElementById(\"229ac352-96b8-4666-8ced-04dfa4a107c5\")) {                    Plotly.newPlot(                        \"229ac352-96b8-4666-8ced-04dfa4a107c5\",                        [{\"alignmentgroup\": \"True\", \"boxpoints\": \"all\", \"customdata\": [[\"iran\", 101.0], [\"afghanistan\", 100.0], [\"china\", 85.0], [\"israel\", 73.0], [\"pakistan\", 70.0], [\"iraq\", 68.0], [\"haiti\", 63.0], [\"libya\", 55.0], [\"russia\", 54.0], [\"india\", 52.0], [\"uk\", 41.0], [\"london\", 41.0], [\"hrc\", 34.0], [\"turkey\", 33.0], [\"karzai\", 33.0], [\"kabul\", 33.0], [\"egypt\", 27.0], [\"france\", 25.0], [\"massachusetts\", 25.0], [\"mexico\", 25.0], [\"jerusalem\", 24.0], [\"brazil\", 24.0], [\"florida\", 23.0], [\"germany\", 23.0], [\"honduras\", 22.0], [\"indonesia\", 21.0], [\"britain\", 21.0], [\"japan\", 21.0], [\"benghazi\", 20.0], [\"north korea\", 20.0], [\"the united\\nstates\", 19.0], [\"cairo\", 19.0], [\"gaza\", 19.0], [\"chicago\", 18.0], [\"cuba\", 18.0], [\"beijing\", 18.0], [\"paris\", 17.0], [\"northern ireland\", 17.0], [\"the west bank\", 17.0], [\"south africa\", 16.0], [\"california\", 16.0], [\"brussels\", 16.0], [\"belfast\", 16.0], [\"syria\", 15.0], [\"canada\", 15.0], [\"geneva\", 14.0], [\"tehran\", 14.0], [\"ohio\", 14.0], [\"vietnam\", 14.0], [\"huma\", 14.0], [\"spain\", 13.0], [\"baghdad\", 13.0], [\"copenhagen\", 13.0], [\"palau\", 13.0], [\"east jerusalem\", 13.0], [\"poland\", 13.0], [\"arizona\", 13.0], [\"yemen\", 12.0], [\"norway\", 12.0], [\"berlin\", 12.0], [\"singapore\", 12.0], [\"d.c.\", 12.0], [\"argentina\", 12.0], [\"moscow\", 12.0], [\"tripoli\", 11.0], [\"qatar\", 11.0], [\"korea\", 11.0], [\"ireland\", 11.0], [\"pennsylvania\", 11.0], [\"palestine\", 11.0], [\"saudi arabia\", 10.0], [\"islamabad\", 10.0], [\"italy\", 10.0], [\"whitehaven\", 9.0], [\"michigan\", 9.0], [\"new york city\", 9.0], [\"australia\", 9.0], [\"west bank\", 9.0], [\"shanghai\", 9.0], [\"texas\", 9.0], [\"chile\", 9.0], [\"colombia\", 9.0], [\"ukraine\", 9.0], [\"jordan\", 8.0], [\"uae\", 8.0], [\"greece\", 8.0], [\"hawaii\", 8.0], [\"kenya\", 8.0], [\"sudan\", 8.0], [\"kentucky\", 8.0], [\"qaddafi\", 7.0], [\"morocco\", 7.0], [\"sri lanka\", 7.0], [\"miami\", 7.0], [\"brookings\", 7.0], [\"somalia\", 7.0], [\"cambridge\", 7.0], [\"georgetown\", 7.0], [\"tokyo\", 7.0], [\"bosnia\", 7.0], [\"alaska\", 7.0], [\"virginia\", 7.0], [\"netherlands\", 7.0], [\"kandahar\", 7.0], [\"illinois\", 7.0], [\"politico\", 6.0], [\"georgia\", 6.0], [\"the\\nunited states\", 6.0], [\"rome\", 6.0], [\"pak\", 6.0], [\"connecticut\", 6.0], [\"nigeria\", 6.0], [\"venezuela\", 6.0], [\"south korea\", 6.0], [\"ecuador\", 6.0], [\"maryland\", 6.0], [\"detroit\", 6.0], [\"nevada\", 6.0], [\"belgium\", 6.0], [\"ulster\", 6.0], [\"england\", 6.0], [\"tennessee\", 5.0], [\"tunisia\", 5.0], [\"liberia\", 5.0], [\"warsaw\", 5.0], [\"kurdistan\", 5.0], [\"manhattan\", 5.0], [\"uruguay\", 5.0], [\"seoul\", 5.0], [\"mousavi\", 5.0], [\"vienna\", 5.0], [\"angola\", 5.0], [\"north korea's\", 5.0], [\"bangladesh\", 5.0], [\"oslo\", 5.0], [\"uganda\", 5.0], [\"the new republic\", 5.0], [\"pittsburgh\", 5.0], [\"rwanda\", 5.0], [\"louisiana\", 5.0], [\"south carolina\", 5.0], [\"houston\", 5.0], [\"los angeles\", 5.0], [\"lithuania\", 5.0], [\"doha\", 4.0], [\"lahore\", 4.0], [\"switzerland\", 4.0], [\"istanbul\", 4.0], [\"columbia\", 4.0], [\"kuwait\", 4.0], [\"athens\", 4.0], [\"pyongyang\", 4.0], [\"jamaica\", 4.0], [\"lebanon\", 4.0], [\"wi\", 4.0], [\"philippines\", 4.0], [\"bolivia\", 4.0], [\"westminster\", 4.0], [\"congo\", 4.0], [\"prague\", 4.0], [\"bogota\", 4.0], [\"nairobi\", 4.0], [\"new delhi\", 4.0], [\"drc\", 4.0], [\"moldova\", 4.0], [\"panama\", 4.0], [\"buenos aires\", 4.0], [\"baucus\", 4.0], [\"new\\nyork\", 4.0], [\"ramallah\", 4.0], [\"arkansas\", 4.0], [\"bloomberg\", 4.0], [\"pres\", 4.0], [\"missouri\", 4.0], [\"taiwan\", 4.0], [\"sweden\", 4.0], [\"the soviet union\", 4.0], [\"peru\", 4.0], [\"arlington\", 4.0], [\"malaysia\", 4.0], [\"la\", 4.0], [\"north carolina\", 4.0], [\"washington dc\", 4.0], [\"northern ireland's\", 4.0], [\"iceland\", 4.0], [\"krakow\", 4.0], [\"dubai\", 4.0], [\"new hampshire\", 4.0], [\"ussr\", 4.0], [\"austria\", 4.0], [\"minnesota\", 4.0], [\"kamala\", 3.0], [\"westchester county airport\", 3.0], [\"white plains\", 3.0], [\"westchester county\", 3.0], [\"khartoum\", 3.0], [\"peshawar\", 3.0], [\"montreal\", 3.0], [\"karachi\", 3.0], [\"embassy\", 3.0], [\"the united states of america\", 3.0], [\"north africa\", 3.0], [\"kazakhstan\", 3.0], [\"dublin\", 3.0], [\"guatemala\", 3.0], [\"dominican republic\", 3.0], [\"montevideo\", 3.0], [\"the dominican republic\", 3.0], [\"new york's\", 3.0], [\"ethiopia\", 3.0], [\"uighur\", 3.0], [\"the islamic republic\", 3.0], [\"wales\", 3.0], [\"new york avenue\", 3.0], [\"thailand\", 3.0], [\"new zealand\", 3.0], [\"denver\", 3.0], [\"idaho\", 3.0], [\"tanzania\", 3.0], [\"ottawa\", 3.0], [\"nyc\", 3.0], [\"reno\", 3.0], [\"the united states'\", 3.0], [\"hamid karzai\", 3.0], [\"holland\", 3.0], [\"delhi\", 3.0], [\"south dakota\", 3.0], [\"oklahoma\", 3.0], [\"orange county\", 3.0], [\"uzbekistan\", 3.0], [\"zambia\", 3.0], [\"costa rica\", 3.0], [\"koh\", 3.0], [\"nj\", 3.0], [\"delaware\", 3.0], [\"denmark\", 3.0], [\"sf\", 3.0], [\"hillsborough\", 3.0], [\"brasilia\", 3.0], [\"calif.\", 3.0], [\"u.k.\", 3.0], [\"pd\", 3.0], [\"iowa\", 3.0], [\"hollywood\", 3.0], [\"darfur\", 3.0], [\"montana\", 3.0], [\"greater israel\", 3.0], [\"hebron\", 3.0], [\"mexico city\", 3.0], [\"algeria\", 3.0], [\"mosul\", 3.0], [\"mississippi\", 3.0], [\"lugar\", 3.0], [\"the state of israel\", 3.0], [\"portugal\", 3.0], [\"kampala\", 3.0], [\"citizens united\", 3.0], [\"indiana\", 3.0], [\"alabama\", 3.0], [\"el salvador\", 3.0], [\"seattle\", 3.0], [\"saudi arabia's\", 3.0], [\"kansas\", 3.0], [\"wichita\", 3.0], [\"lisbon\", 3.0], [\"kosovo\", 3.0]], \"hovertemplate\": \"norm=%{x}<br>entity=%{customdata[0]}<br>freq=%{customdata[1]}<extra></extra>\", \"legendgroup\": \"\", \"marker\": {\"color\": \"#636efa\"}, \"name\": \"\", \"notched\": false, \"offsetgroup\": \"\", \"orientation\": \"h\", \"showlegend\": false, \"type\": \"box\", \"x\": [-0.49504950495049505, 0.28, 1.2823529411764707, 2.4246575342465753, 1.4714285714285715, -1.1176470588235294, 1.619047619047619, -0.4909090909090909, -0.018518518518518517, 2.4423076923076925, -0.12195121951219512, 0.12195121951219512, 1.3823529411764706, 0.5454545454545454, 1.3636363636363635, 0.6060606060606061, -0.2222222222222222, 0.04, 0.32, 0.88, 0.5, 1.7083333333333333, 0.6086956521739131, -0.6086956521739131, 0.22727272727272727, 4.238095238095238, -0.7619047619047619, 0.2857142857142857, -5.7, -1.65, 1.736842105263158, -0.15789473684210525, -1.263157894736842, 1.1666666666666667, 1.0, 1.5555555555555556, 0.5882352941176471, 6.9411764705882355, 1.4705882352941178, 2.5625, -0.125, -0.5, 1.4375, -1.0666666666666667, 0.2, 0.2857142857142857, -1.0, -0.42857142857142855, 1.8571428571428572, -0.07142857142857142, 0.38461538461538464, -1.5384615384615385, -0.7692307692307693, 11.0, -0.5384615384615384, -1.3846153846153846, 0.23076923076923078, -2.0833333333333335, 1.0833333333333333, 2.0833333333333335, 2.5833333333333335, 0.25, 0.9166666666666666, 1.75, 0.0, 0.9090909090909091, 0.18181818181818182, 1.8181818181818181, 1.0, 1.8181818181818181, -0.7, 2.7, 0.3, 0.2222222222222222, 0.1111111111111111, 0.7777777777777778, 1.7777777777777777, 0.5555555555555556, 0.4444444444444444, -0.5555555555555556, -1.0, 2.2222222222222223, 0.4444444444444444, -0.625, 0.625, -2.0, -0.25, 2.375, 1.625, 1.875, -3.857142857142857, 14.571428571428571, -20.428571428571427, -0.14285714285714285, 2.2857142857142856, -0.2857142857142857, 2.857142857142857, -0.42857142857142855, 0.7142857142857143, -0.14285714285714285, 0.5714285714285714, 1.7142857142857142, 0.42857142857142855, -2.7142857142857144, -0.2857142857142857, -0.16666666666666666, 0.3333333333333333, 1.8333333333333333, -0.16666666666666666, 0.5, 0.16666666666666666, 5.166666666666667, -0.8333333333333334, -2.1666666666666665, 1.3333333333333333, 1.5, 3.8333333333333335, 0.6666666666666666, 0.6666666666666666, -3.8333333333333335, -1.6666666666666667, -1.2, 6.0, -1.0, 1.8, -4.0, -1.8, 0.8, -0.8, -5.2, 1.6, 0.4, 0.0, 1.6, 2.4, 1.8, 1.0, -1.4, 1.6, -2.0, -1.2, 0.4, -1.2, 1.2, -0.25, 0.5, 2.25, 0.25, 0.5, -1.75, -0.25, -0.5, 0.0, 0.0, 0.75, 0.0, 1.5, -0.25, -9.5, 0.75, 1.25, 2.0, 3.0, -2.0, 3.0, 0.75, 0.75, -0.25, 1.5, 2.0, 0.0, 1.25, 0.0, -0.5, -1.0, 1.25, -2.0, 0.0, 0.5, 0.5, 0.5, -0.75, 2.0, 4.0, 0.5, 3.0, 1.25, 1.5, 1.75, -2.0, 1.25, 0.0, 0.0, 0.0, 1.3333333333333333, 1.3333333333333333, -1.3333333333333333, 0.6666666666666666, 1.6666666666666667, 4.666666666666667, 1.3333333333333333, 7.0, 1.0, -0.3333333333333333, 0.6666666666666666, 0.6666666666666666, 1.0, -1.0, 1.0, 5.666666666666667, 0.6666666666666666, 2.0, -2.0, 0.0, 0.0, 0.6666666666666666, -1.0, -3.0, 2.0, 0.6666666666666666, 1.3333333333333333, -2.0, 6.333333333333333, -0.6666666666666666, 0.6666666666666666, 3.0, 0.0, -6.0, 2.0, 0.6666666666666666, 0.3333333333333333, -0.6666666666666666, 1.0, 2.3333333333333335, 1.3333333333333333, 0.6666666666666666, -0.6666666666666666, 0.3333333333333333, 2.0, -0.3333333333333333, -1.6666666666666667, 0.6666666666666666, 5.0, 1.6666666666666667, -2.3333333333333335, 3.6666666666666665, 4.333333333333333, 1.0, -1.6666666666666667, 2.0, 0.0, -0.3333333333333333, 0.0, 4.666666666666667, -0.6666666666666666, -1.0, 4.666666666666667, -0.3333333333333333, -1.0, 0.6666666666666666, -0.6666666666666666, 1.3333333333333333, 1.6666666666666667, 1.3333333333333333, 3.3333333333333335, 0.3333333333333333], \"x0\": \" \", \"xaxis\": \"x\", \"y0\": \" \", \"yaxis\": \"y\"}],                        {\"boxmode\": \"group\", \"coloraxis\": {\"colorbar\": {\"title\": {\"text\": \"Sentiment\"}}}, \"height\": 400, \"legend\": {\"tracegroupgap\": 0}, \"margin\": {\"t\": 60}, \"template\": {\"data\": {\"bar\": [{\"error_x\": {\"color\": \"#2a3f5f\"}, \"error_y\": {\"color\": \"#2a3f5f\"}, \"marker\": {\"line\": {\"color\": \"#E5ECF6\", \"width\": 0.5}}, \"type\": \"bar\"}], \"barpolar\": [{\"marker\": {\"line\": {\"color\": \"#E5ECF6\", \"width\": 0.5}}, \"type\": \"barpolar\"}], \"carpet\": [{\"aaxis\": {\"endlinecolor\": \"#2a3f5f\", \"gridcolor\": \"white\", \"linecolor\": \"white\", \"minorgridcolor\": \"white\", \"startlinecolor\": \"#2a3f5f\"}, \"baxis\": {\"endlinecolor\": \"#2a3f5f\", \"gridcolor\": \"white\", \"linecolor\": \"white\", \"minorgridcolor\": \"white\", \"startlinecolor\": \"#2a3f5f\"}, \"type\": \"carpet\"}], \"choropleth\": [{\"colorbar\": {\"outlinewidth\": 0, \"ticks\": \"\"}, \"type\": \"choropleth\"}], \"contour\": [{\"colorbar\": {\"outlinewidth\": 0, \"ticks\": \"\"}, \"colorscale\": [[0.0, \"#0d0887\"], [0.1111111111111111, \"#46039f\"], [0.2222222222222222, \"#7201a8\"], [0.3333333333333333, \"#9c179e\"], [0.4444444444444444, \"#bd3786\"], [0.5555555555555556, \"#d8576b\"], [0.6666666666666666, \"#ed7953\"], [0.7777777777777778, \"#fb9f3a\"], [0.8888888888888888, \"#fdca26\"], [1.0, \"#f0f921\"]], \"type\": \"contour\"}], \"contourcarpet\": [{\"colorbar\": {\"outlinewidth\": 0, \"ticks\": \"\"}, \"type\": \"contourcarpet\"}], \"heatmap\": [{\"colorbar\": {\"outlinewidth\": 0, \"ticks\": \"\"}, \"colorscale\": [[0.0, \"#0d0887\"], [0.1111111111111111, \"#46039f\"], [0.2222222222222222, \"#7201a8\"], [0.3333333333333333, \"#9c179e\"], [0.4444444444444444, \"#bd3786\"], [0.5555555555555556, \"#d8576b\"], [0.6666666666666666, \"#ed7953\"], [0.7777777777777778, \"#fb9f3a\"], [0.8888888888888888, \"#fdca26\"], [1.0, \"#f0f921\"]], \"type\": \"heatmap\"}], \"heatmapgl\": [{\"colorbar\": {\"outlinewidth\": 0, \"ticks\": \"\"}, \"colorscale\": [[0.0, \"#0d0887\"], [0.1111111111111111, \"#46039f\"], [0.2222222222222222, \"#7201a8\"], [0.3333333333333333, \"#9c179e\"], [0.4444444444444444, \"#bd3786\"], [0.5555555555555556, \"#d8576b\"], [0.6666666666666666, \"#ed7953\"], [0.7777777777777778, \"#fb9f3a\"], [0.8888888888888888, \"#fdca26\"], [1.0, \"#f0f921\"]], \"type\": \"heatmapgl\"}], \"histogram\": [{\"marker\": {\"colorbar\": {\"outlinewidth\": 0, \"ticks\": \"\"}}, \"type\": \"histogram\"}], \"histogram2d\": [{\"colorbar\": {\"outlinewidth\": 0, \"ticks\": \"\"}, \"colorscale\": [[0.0, \"#0d0887\"], [0.1111111111111111, \"#46039f\"], [0.2222222222222222, \"#7201a8\"], [0.3333333333333333, \"#9c179e\"], [0.4444444444444444, \"#bd3786\"], [0.5555555555555556, \"#d8576b\"], [0.6666666666666666, \"#ed7953\"], [0.7777777777777778, \"#fb9f3a\"], [0.8888888888888888, \"#fdca26\"], [1.0, \"#f0f921\"]], \"type\": \"histogram2d\"}], \"histogram2dcontour\": [{\"colorbar\": {\"outlinewidth\": 0, \"ticks\": \"\"}, \"colorscale\": [[0.0, \"#0d0887\"], [0.1111111111111111, \"#46039f\"], [0.2222222222222222, \"#7201a8\"], [0.3333333333333333, \"#9c179e\"], [0.4444444444444444, \"#bd3786\"], [0.5555555555555556, \"#d8576b\"], [0.6666666666666666, \"#ed7953\"], [0.7777777777777778, \"#fb9f3a\"], [0.8888888888888888, \"#fdca26\"], [1.0, \"#f0f921\"]], \"type\": \"histogram2dcontour\"}], \"mesh3d\": [{\"colorbar\": {\"outlinewidth\": 0, \"ticks\": \"\"}, \"type\": \"mesh3d\"}], \"parcoords\": [{\"line\": {\"colorbar\": {\"outlinewidth\": 0, \"ticks\": \"\"}}, \"type\": \"parcoords\"}], \"pie\": [{\"automargin\": true, \"type\": \"pie\"}], \"scatter\": [{\"marker\": {\"colorbar\": {\"outlinewidth\": 0, \"ticks\": \"\"}}, \"type\": \"scatter\"}], \"scatter3d\": [{\"line\": {\"colorbar\": {\"outlinewidth\": 0, \"ticks\": \"\"}}, \"marker\": {\"colorbar\": {\"outlinewidth\": 0, \"ticks\": \"\"}}, \"type\": \"scatter3d\"}], \"scattercarpet\": [{\"marker\": {\"colorbar\": {\"outlinewidth\": 0, \"ticks\": \"\"}}, \"type\": \"scattercarpet\"}], \"scattergeo\": [{\"marker\": {\"colorbar\": {\"outlinewidth\": 0, \"ticks\": \"\"}}, \"type\": \"scattergeo\"}], \"scattergl\": [{\"marker\": {\"colorbar\": {\"outlinewidth\": 0, \"ticks\": \"\"}}, \"type\": \"scattergl\"}], \"scattermapbox\": [{\"marker\": {\"colorbar\": {\"outlinewidth\": 0, \"ticks\": \"\"}}, \"type\": \"scattermapbox\"}], \"scatterpolar\": [{\"marker\": {\"colorbar\": {\"outlinewidth\": 0, \"ticks\": \"\"}}, \"type\": \"scatterpolar\"}], \"scatterpolargl\": [{\"marker\": {\"colorbar\": {\"outlinewidth\": 0, \"ticks\": \"\"}}, \"type\": \"scatterpolargl\"}], \"scatterternary\": [{\"marker\": {\"colorbar\": {\"outlinewidth\": 0, \"ticks\": \"\"}}, \"type\": \"scatterternary\"}], \"surface\": [{\"colorbar\": {\"outlinewidth\": 0, \"ticks\": \"\"}, \"colorscale\": [[0.0, \"#0d0887\"], [0.1111111111111111, \"#46039f\"], [0.2222222222222222, \"#7201a8\"], [0.3333333333333333, \"#9c179e\"], [0.4444444444444444, \"#bd3786\"], [0.5555555555555556, \"#d8576b\"], [0.6666666666666666, \"#ed7953\"], [0.7777777777777778, \"#fb9f3a\"], [0.8888888888888888, \"#fdca26\"], [1.0, \"#f0f921\"]], \"type\": \"surface\"}], \"table\": [{\"cells\": {\"fill\": {\"color\": \"#EBF0F8\"}, \"line\": {\"color\": \"white\"}}, \"header\": {\"fill\": {\"color\": \"#C8D4E3\"}, \"line\": {\"color\": \"white\"}}, \"type\": \"table\"}]}, \"layout\": {\"annotationdefaults\": {\"arrowcolor\": \"#2a3f5f\", \"arrowhead\": 0, \"arrowwidth\": 1}, \"autotypenumbers\": \"strict\", \"coloraxis\": {\"colorbar\": {\"outlinewidth\": 0, \"ticks\": \"\"}}, \"colorscale\": {\"diverging\": [[0, \"#8e0152\"], [0.1, \"#c51b7d\"], [0.2, \"#de77ae\"], [0.3, \"#f1b6da\"], [0.4, \"#fde0ef\"], [0.5, \"#f7f7f7\"], [0.6, \"#e6f5d0\"], [0.7, \"#b8e186\"], [0.8, \"#7fbc41\"], [0.9, \"#4d9221\"], [1, \"#276419\"]], \"sequential\": [[0.0, \"#0d0887\"], [0.1111111111111111, \"#46039f\"], [0.2222222222222222, \"#7201a8\"], [0.3333333333333333, \"#9c179e\"], [0.4444444444444444, \"#bd3786\"], [0.5555555555555556, \"#d8576b\"], [0.6666666666666666, \"#ed7953\"], [0.7777777777777778, \"#fb9f3a\"], [0.8888888888888888, \"#fdca26\"], [1.0, \"#f0f921\"]], \"sequentialminus\": [[0.0, \"#0d0887\"], [0.1111111111111111, \"#46039f\"], [0.2222222222222222, \"#7201a8\"], [0.3333333333333333, \"#9c179e\"], [0.4444444444444444, \"#bd3786\"], [0.5555555555555556, \"#d8576b\"], [0.6666666666666666, \"#ed7953\"], [0.7777777777777778, \"#fb9f3a\"], [0.8888888888888888, \"#fdca26\"], [1.0, \"#f0f921\"]]}, \"colorway\": [\"#636efa\", \"#EF553B\", \"#00cc96\", \"#ab63fa\", \"#FFA15A\", \"#19d3f3\", \"#FF6692\", \"#B6E880\", \"#FF97FF\", \"#FECB52\"], \"font\": {\"color\": \"#2a3f5f\"}, \"geo\": {\"bgcolor\": \"white\", \"lakecolor\": \"white\", \"landcolor\": \"#E5ECF6\", \"showlakes\": true, \"showland\": true, \"subunitcolor\": \"white\"}, \"hoverlabel\": {\"align\": \"left\"}, \"hovermode\": \"closest\", \"mapbox\": {\"style\": \"light\"}, \"paper_bgcolor\": \"white\", \"plot_bgcolor\": \"#E5ECF6\", \"polar\": {\"angularaxis\": {\"gridcolor\": \"white\", \"linecolor\": \"white\", \"ticks\": \"\"}, \"bgcolor\": \"#E5ECF6\", \"radialaxis\": {\"gridcolor\": \"white\", \"linecolor\": \"white\", \"ticks\": \"\"}}, \"scene\": {\"xaxis\": {\"backgroundcolor\": \"#E5ECF6\", \"gridcolor\": \"white\", \"gridwidth\": 2, \"linecolor\": \"white\", \"showbackground\": true, \"ticks\": \"\", \"zerolinecolor\": \"white\"}, \"yaxis\": {\"backgroundcolor\": \"#E5ECF6\", \"gridcolor\": \"white\", \"gridwidth\": 2, \"linecolor\": \"white\", \"showbackground\": true, \"ticks\": \"\", \"zerolinecolor\": \"white\"}, \"zaxis\": {\"backgroundcolor\": \"#E5ECF6\", \"gridcolor\": \"white\", \"gridwidth\": 2, \"linecolor\": \"white\", \"showbackground\": true, \"ticks\": \"\", \"zerolinecolor\": \"white\"}}, \"shapedefaults\": {\"line\": {\"color\": \"#2a3f5f\"}}, \"ternary\": {\"aaxis\": {\"gridcolor\": \"white\", \"linecolor\": \"white\", \"ticks\": \"\"}, \"baxis\": {\"gridcolor\": \"white\", \"linecolor\": \"white\", \"ticks\": \"\"}, \"bgcolor\": \"#E5ECF6\", \"caxis\": {\"gridcolor\": \"white\", \"linecolor\": \"white\", \"ticks\": \"\"}}, \"title\": {\"x\": 0.05}, \"xaxis\": {\"automargin\": true, \"gridcolor\": \"white\", \"linecolor\": \"white\", \"ticks\": \"\", \"title\": {\"standoff\": 15}, \"zerolinecolor\": \"white\", \"zerolinewidth\": 2}, \"yaxis\": {\"automargin\": true, \"gridcolor\": \"white\", \"linecolor\": \"white\", \"ticks\": \"\", \"title\": {\"standoff\": 15}, \"zerolinecolor\": \"white\", \"zerolinewidth\": 2}}}, \"title\": {\"text\": \"Boxplot of the normalized sentiment of the countries (frequency threshold 2)\", \"x\": 0.5, \"xanchor\": \"center\"}, \"xaxis\": {\"anchor\": \"y\", \"domain\": [0.0, 1.0], \"title\": {\"text\": \"Sentiment Score normalized\"}}, \"yaxis\": {\"anchor\": \"x\", \"domain\": [0.0, 1.0]}},                        {\"responsive\": true}                    ).then(function(){\n                            \nvar gd = document.getElementById('229ac352-96b8-4666-8ced-04dfa4a107c5');\nvar x = new MutationObserver(function (mutations, observer) {{\n        var display = window.getComputedStyle(gd).display;\n        if (!display || display === 'none') {{\n            console.log([gd, 'removed!']);\n            Plotly.purge(gd);\n            observer.disconnect();\n        }}\n}});\n\n// Listen for the removal of the full notebook cells\nvar notebookContainer = gd.closest('#notebook-container');\nif (notebookContainer) {{\n    x.observe(notebookContainer, {childList: true});\n}}\n\n// Listen for the clearing of the current output cell\nvar outputEl = gd.closest('.output');\nif (outputEl) {{\n    x.observe(outputEl, {childList: true});\n}}\n\n                        })                };                });            </script>        </div>"
     },
     "metadata": {},
     "output_type": "display_data"
    }
   ],
   "source": [
    "plot_entities_boxplot(df_entities).show()"
   ]
  },
  {
   "cell_type": "code",
   "execution_count": 66,
   "outputs": [
    {
     "data": {
      "application/vnd.plotly.v1+json": {
       "config": {
        "plotlyServerURL": "https://plot.ly"
       },
       "data": [
        {
         "hovertemplate": "score=%{marker.color}<br>freq=%{marker.size}<br>entity=%{text}<extra></extra>",
         "legendgroup": "",
         "marker": {
          "color": [
           -50.0,
           28.0,
           109.0,
           177.0,
           103.0,
           -76.0,
           102.0,
           -27.0,
           -1.0,
           127.0,
           -5.0,
           5.0,
           47.0,
           18.0,
           45.0,
           20.0,
           -6.0,
           1.0,
           8.0,
           22.0,
           12.0,
           41.0,
           14.0,
           -14.0,
           5.0,
           89.0,
           -16.0,
           6.0,
           -114.0,
           -33.0
          ],
          "coloraxis": "coloraxis",
          "size": [
           101.0,
           100.0,
           85.0,
           73.0,
           70.0,
           68.0,
           63.0,
           55.0,
           54.0,
           52.0,
           41.0,
           41.0,
           34.0,
           33.0,
           33.0,
           33.0,
           27.0,
           25.0,
           25.0,
           25.0,
           24.0,
           24.0,
           23.0,
           23.0,
           22.0,
           21.0,
           21.0,
           21.0,
           20.0,
           20.0
          ],
          "sizemode": "area",
          "sizeref": 0.2525,
          "symbol": "circle"
         },
         "mode": "markers+text",
         "name": "",
         "orientation": "v",
         "showlegend": false,
         "text": [
          "iran",
          "afghanistan",
          "china",
          "israel",
          "pakistan",
          "iraq",
          "haiti",
          "libya",
          "russia",
          "india",
          "uk",
          "london",
          "hrc",
          "turkey",
          "karzai",
          "kabul",
          "egypt",
          "france",
          "massachusetts",
          "mexico",
          "jerusalem",
          "brazil",
          "florida",
          "germany",
          "honduras",
          "indonesia",
          "britain",
          "japan",
          "benghazi",
          "north korea"
         ],
         "textposition": "top right",
         "type": "scatter",
         "x": [
          -50.0,
          28.0,
          109.0,
          177.0,
          103.0,
          -76.0,
          102.0,
          -27.0,
          -1.0,
          127.0,
          -5.0,
          5.0,
          47.0,
          18.0,
          45.0,
          20.0,
          -6.0,
          1.0,
          8.0,
          22.0,
          12.0,
          41.0,
          14.0,
          -14.0,
          5.0,
          89.0,
          -16.0,
          6.0,
          -114.0,
          -33.0
         ],
         "xaxis": "x",
         "y": [
          101.0,
          100.0,
          85.0,
          73.0,
          70.0,
          68.0,
          63.0,
          55.0,
          54.0,
          52.0,
          41.0,
          41.0,
          34.0,
          33.0,
          33.0,
          33.0,
          27.0,
          25.0,
          25.0,
          25.0,
          24.0,
          24.0,
          23.0,
          23.0,
          22.0,
          21.0,
          21.0,
          21.0,
          20.0,
          20.0
         ],
         "yaxis": "y"
        }
       ],
       "layout": {
        "coloraxis": {
         "colorbar": {
          "title": {
           "text": "score"
          }
         },
         "colorscale": [
          [
           0.0,
           "rgb(255,0,0)"
          ],
          [
           1.0,
           "rgb(0,0,255)"
          ]
         ]
        },
        "legend": {
         "itemsizing": "constant",
         "tracegroupgap": 0
        },
        "margin": {
         "t": 60
        },
        "template": {
         "data": {
          "bar": [
           {
            "error_x": {
             "color": "#2a3f5f"
            },
            "error_y": {
             "color": "#2a3f5f"
            },
            "marker": {
             "line": {
              "color": "#E5ECF6",
              "width": 0.5
             }
            },
            "type": "bar"
           }
          ],
          "barpolar": [
           {
            "marker": {
             "line": {
              "color": "#E5ECF6",
              "width": 0.5
             }
            },
            "type": "barpolar"
           }
          ],
          "carpet": [
           {
            "aaxis": {
             "endlinecolor": "#2a3f5f",
             "gridcolor": "white",
             "linecolor": "white",
             "minorgridcolor": "white",
             "startlinecolor": "#2a3f5f"
            },
            "baxis": {
             "endlinecolor": "#2a3f5f",
             "gridcolor": "white",
             "linecolor": "white",
             "minorgridcolor": "white",
             "startlinecolor": "#2a3f5f"
            },
            "type": "carpet"
           }
          ],
          "choropleth": [
           {
            "colorbar": {
             "outlinewidth": 0,
             "ticks": ""
            },
            "type": "choropleth"
           }
          ],
          "contour": [
           {
            "colorbar": {
             "outlinewidth": 0,
             "ticks": ""
            },
            "colorscale": [
             [
              0.0,
              "#0d0887"
             ],
             [
              0.1111111111111111,
              "#46039f"
             ],
             [
              0.2222222222222222,
              "#7201a8"
             ],
             [
              0.3333333333333333,
              "#9c179e"
             ],
             [
              0.4444444444444444,
              "#bd3786"
             ],
             [
              0.5555555555555556,
              "#d8576b"
             ],
             [
              0.6666666666666666,
              "#ed7953"
             ],
             [
              0.7777777777777778,
              "#fb9f3a"
             ],
             [
              0.8888888888888888,
              "#fdca26"
             ],
             [
              1.0,
              "#f0f921"
             ]
            ],
            "type": "contour"
           }
          ],
          "contourcarpet": [
           {
            "colorbar": {
             "outlinewidth": 0,
             "ticks": ""
            },
            "type": "contourcarpet"
           }
          ],
          "heatmap": [
           {
            "colorbar": {
             "outlinewidth": 0,
             "ticks": ""
            },
            "colorscale": [
             [
              0.0,
              "#0d0887"
             ],
             [
              0.1111111111111111,
              "#46039f"
             ],
             [
              0.2222222222222222,
              "#7201a8"
             ],
             [
              0.3333333333333333,
              "#9c179e"
             ],
             [
              0.4444444444444444,
              "#bd3786"
             ],
             [
              0.5555555555555556,
              "#d8576b"
             ],
             [
              0.6666666666666666,
              "#ed7953"
             ],
             [
              0.7777777777777778,
              "#fb9f3a"
             ],
             [
              0.8888888888888888,
              "#fdca26"
             ],
             [
              1.0,
              "#f0f921"
             ]
            ],
            "type": "heatmap"
           }
          ],
          "heatmapgl": [
           {
            "colorbar": {
             "outlinewidth": 0,
             "ticks": ""
            },
            "colorscale": [
             [
              0.0,
              "#0d0887"
             ],
             [
              0.1111111111111111,
              "#46039f"
             ],
             [
              0.2222222222222222,
              "#7201a8"
             ],
             [
              0.3333333333333333,
              "#9c179e"
             ],
             [
              0.4444444444444444,
              "#bd3786"
             ],
             [
              0.5555555555555556,
              "#d8576b"
             ],
             [
              0.6666666666666666,
              "#ed7953"
             ],
             [
              0.7777777777777778,
              "#fb9f3a"
             ],
             [
              0.8888888888888888,
              "#fdca26"
             ],
             [
              1.0,
              "#f0f921"
             ]
            ],
            "type": "heatmapgl"
           }
          ],
          "histogram": [
           {
            "marker": {
             "colorbar": {
              "outlinewidth": 0,
              "ticks": ""
             }
            },
            "type": "histogram"
           }
          ],
          "histogram2d": [
           {
            "colorbar": {
             "outlinewidth": 0,
             "ticks": ""
            },
            "colorscale": [
             [
              0.0,
              "#0d0887"
             ],
             [
              0.1111111111111111,
              "#46039f"
             ],
             [
              0.2222222222222222,
              "#7201a8"
             ],
             [
              0.3333333333333333,
              "#9c179e"
             ],
             [
              0.4444444444444444,
              "#bd3786"
             ],
             [
              0.5555555555555556,
              "#d8576b"
             ],
             [
              0.6666666666666666,
              "#ed7953"
             ],
             [
              0.7777777777777778,
              "#fb9f3a"
             ],
             [
              0.8888888888888888,
              "#fdca26"
             ],
             [
              1.0,
              "#f0f921"
             ]
            ],
            "type": "histogram2d"
           }
          ],
          "histogram2dcontour": [
           {
            "colorbar": {
             "outlinewidth": 0,
             "ticks": ""
            },
            "colorscale": [
             [
              0.0,
              "#0d0887"
             ],
             [
              0.1111111111111111,
              "#46039f"
             ],
             [
              0.2222222222222222,
              "#7201a8"
             ],
             [
              0.3333333333333333,
              "#9c179e"
             ],
             [
              0.4444444444444444,
              "#bd3786"
             ],
             [
              0.5555555555555556,
              "#d8576b"
             ],
             [
              0.6666666666666666,
              "#ed7953"
             ],
             [
              0.7777777777777778,
              "#fb9f3a"
             ],
             [
              0.8888888888888888,
              "#fdca26"
             ],
             [
              1.0,
              "#f0f921"
             ]
            ],
            "type": "histogram2dcontour"
           }
          ],
          "mesh3d": [
           {
            "colorbar": {
             "outlinewidth": 0,
             "ticks": ""
            },
            "type": "mesh3d"
           }
          ],
          "parcoords": [
           {
            "line": {
             "colorbar": {
              "outlinewidth": 0,
              "ticks": ""
             }
            },
            "type": "parcoords"
           }
          ],
          "pie": [
           {
            "automargin": true,
            "type": "pie"
           }
          ],
          "scatter": [
           {
            "marker": {
             "colorbar": {
              "outlinewidth": 0,
              "ticks": ""
             }
            },
            "type": "scatter"
           }
          ],
          "scatter3d": [
           {
            "line": {
             "colorbar": {
              "outlinewidth": 0,
              "ticks": ""
             }
            },
            "marker": {
             "colorbar": {
              "outlinewidth": 0,
              "ticks": ""
             }
            },
            "type": "scatter3d"
           }
          ],
          "scattercarpet": [
           {
            "marker": {
             "colorbar": {
              "outlinewidth": 0,
              "ticks": ""
             }
            },
            "type": "scattercarpet"
           }
          ],
          "scattergeo": [
           {
            "marker": {
             "colorbar": {
              "outlinewidth": 0,
              "ticks": ""
             }
            },
            "type": "scattergeo"
           }
          ],
          "scattergl": [
           {
            "marker": {
             "colorbar": {
              "outlinewidth": 0,
              "ticks": ""
             }
            },
            "type": "scattergl"
           }
          ],
          "scattermapbox": [
           {
            "marker": {
             "colorbar": {
              "outlinewidth": 0,
              "ticks": ""
             }
            },
            "type": "scattermapbox"
           }
          ],
          "scatterpolar": [
           {
            "marker": {
             "colorbar": {
              "outlinewidth": 0,
              "ticks": ""
             }
            },
            "type": "scatterpolar"
           }
          ],
          "scatterpolargl": [
           {
            "marker": {
             "colorbar": {
              "outlinewidth": 0,
              "ticks": ""
             }
            },
            "type": "scatterpolargl"
           }
          ],
          "scatterternary": [
           {
            "marker": {
             "colorbar": {
              "outlinewidth": 0,
              "ticks": ""
             }
            },
            "type": "scatterternary"
           }
          ],
          "surface": [
           {
            "colorbar": {
             "outlinewidth": 0,
             "ticks": ""
            },
            "colorscale": [
             [
              0.0,
              "#0d0887"
             ],
             [
              0.1111111111111111,
              "#46039f"
             ],
             [
              0.2222222222222222,
              "#7201a8"
             ],
             [
              0.3333333333333333,
              "#9c179e"
             ],
             [
              0.4444444444444444,
              "#bd3786"
             ],
             [
              0.5555555555555556,
              "#d8576b"
             ],
             [
              0.6666666666666666,
              "#ed7953"
             ],
             [
              0.7777777777777778,
              "#fb9f3a"
             ],
             [
              0.8888888888888888,
              "#fdca26"
             ],
             [
              1.0,
              "#f0f921"
             ]
            ],
            "type": "surface"
           }
          ],
          "table": [
           {
            "cells": {
             "fill": {
              "color": "#EBF0F8"
             },
             "line": {
              "color": "white"
             }
            },
            "header": {
             "fill": {
              "color": "#C8D4E3"
             },
             "line": {
              "color": "white"
             }
            },
            "type": "table"
           }
          ]
         },
         "layout": {
          "annotationdefaults": {
           "arrowcolor": "#2a3f5f",
           "arrowhead": 0,
           "arrowwidth": 1
          },
          "autotypenumbers": "strict",
          "coloraxis": {
           "colorbar": {
            "outlinewidth": 0,
            "ticks": ""
           }
          },
          "colorscale": {
           "diverging": [
            [
             0,
             "#8e0152"
            ],
            [
             0.1,
             "#c51b7d"
            ],
            [
             0.2,
             "#de77ae"
            ],
            [
             0.3,
             "#f1b6da"
            ],
            [
             0.4,
             "#fde0ef"
            ],
            [
             0.5,
             "#f7f7f7"
            ],
            [
             0.6,
             "#e6f5d0"
            ],
            [
             0.7,
             "#b8e186"
            ],
            [
             0.8,
             "#7fbc41"
            ],
            [
             0.9,
             "#4d9221"
            ],
            [
             1,
             "#276419"
            ]
           ],
           "sequential": [
            [
             0.0,
             "#0d0887"
            ],
            [
             0.1111111111111111,
             "#46039f"
            ],
            [
             0.2222222222222222,
             "#7201a8"
            ],
            [
             0.3333333333333333,
             "#9c179e"
            ],
            [
             0.4444444444444444,
             "#bd3786"
            ],
            [
             0.5555555555555556,
             "#d8576b"
            ],
            [
             0.6666666666666666,
             "#ed7953"
            ],
            [
             0.7777777777777778,
             "#fb9f3a"
            ],
            [
             0.8888888888888888,
             "#fdca26"
            ],
            [
             1.0,
             "#f0f921"
            ]
           ],
           "sequentialminus": [
            [
             0.0,
             "#0d0887"
            ],
            [
             0.1111111111111111,
             "#46039f"
            ],
            [
             0.2222222222222222,
             "#7201a8"
            ],
            [
             0.3333333333333333,
             "#9c179e"
            ],
            [
             0.4444444444444444,
             "#bd3786"
            ],
            [
             0.5555555555555556,
             "#d8576b"
            ],
            [
             0.6666666666666666,
             "#ed7953"
            ],
            [
             0.7777777777777778,
             "#fb9f3a"
            ],
            [
             0.8888888888888888,
             "#fdca26"
            ],
            [
             1.0,
             "#f0f921"
            ]
           ]
          },
          "colorway": [
           "#636efa",
           "#EF553B",
           "#00cc96",
           "#ab63fa",
           "#FFA15A",
           "#19d3f3",
           "#FF6692",
           "#B6E880",
           "#FF97FF",
           "#FECB52"
          ],
          "font": {
           "color": "#2a3f5f"
          },
          "geo": {
           "bgcolor": "white",
           "lakecolor": "white",
           "landcolor": "#E5ECF6",
           "showlakes": true,
           "showland": true,
           "subunitcolor": "white"
          },
          "hoverlabel": {
           "align": "left"
          },
          "hovermode": "closest",
          "mapbox": {
           "style": "light"
          },
          "paper_bgcolor": "white",
          "plot_bgcolor": "#E5ECF6",
          "polar": {
           "angularaxis": {
            "gridcolor": "white",
            "linecolor": "white",
            "ticks": ""
           },
           "bgcolor": "#E5ECF6",
           "radialaxis": {
            "gridcolor": "white",
            "linecolor": "white",
            "ticks": ""
           }
          },
          "scene": {
           "xaxis": {
            "backgroundcolor": "#E5ECF6",
            "gridcolor": "white",
            "gridwidth": 2,
            "linecolor": "white",
            "showbackground": true,
            "ticks": "",
            "zerolinecolor": "white"
           },
           "yaxis": {
            "backgroundcolor": "#E5ECF6",
            "gridcolor": "white",
            "gridwidth": 2,
            "linecolor": "white",
            "showbackground": true,
            "ticks": "",
            "zerolinecolor": "white"
           },
           "zaxis": {
            "backgroundcolor": "#E5ECF6",
            "gridcolor": "white",
            "gridwidth": 2,
            "linecolor": "white",
            "showbackground": true,
            "ticks": "",
            "zerolinecolor": "white"
           }
          },
          "shapedefaults": {
           "line": {
            "color": "#2a3f5f"
           }
          },
          "ternary": {
           "aaxis": {
            "gridcolor": "white",
            "linecolor": "white",
            "ticks": ""
           },
           "baxis": {
            "gridcolor": "white",
            "linecolor": "white",
            "ticks": ""
           },
           "bgcolor": "#E5ECF6",
           "caxis": {
            "gridcolor": "white",
            "linecolor": "white",
            "ticks": ""
           }
          },
          "title": {
           "x": 0.05
          },
          "xaxis": {
           "automargin": true,
           "gridcolor": "white",
           "linecolor": "white",
           "ticks": "",
           "title": {
            "standoff": 15
           },
           "zerolinecolor": "white",
           "zerolinewidth": 2
          },
          "yaxis": {
           "automargin": true,
           "gridcolor": "white",
           "linecolor": "white",
           "ticks": "",
           "title": {
            "standoff": 15
           },
           "zerolinecolor": "white",
           "zerolinewidth": 2
          }
         }
        },
        "title": {
         "text": "Sentiment of the nations (top 30 by frequency)",
         "x": 0.5,
         "xanchor": "center"
        },
        "xaxis": {
         "anchor": "y",
         "domain": [
          0.0,
          1.0
         ],
         "title": {
          "text": "Sentiment Score"
         }
        },
        "yaxis": {
         "anchor": "x",
         "domain": [
          0.0,
          1.0
         ],
         "title": {
          "text": "Frequency"
         }
        }
       }
      },
      "text/html": "<div>                            <div id=\"f8213d6b-2350-455b-8bf8-5d41280b9bf3\" class=\"plotly-graph-div\" style=\"height:525px; width:100%;\"></div>            <script type=\"text/javascript\">                require([\"plotly\"], function(Plotly) {                    window.PLOTLYENV=window.PLOTLYENV || {};                                    if (document.getElementById(\"f8213d6b-2350-455b-8bf8-5d41280b9bf3\")) {                    Plotly.newPlot(                        \"f8213d6b-2350-455b-8bf8-5d41280b9bf3\",                        [{\"hovertemplate\": \"score=%{marker.color}<br>freq=%{marker.size}<br>entity=%{text}<extra></extra>\", \"legendgroup\": \"\", \"marker\": {\"color\": [-50.0, 28.0, 109.0, 177.0, 103.0, -76.0, 102.0, -27.0, -1.0, 127.0, -5.0, 5.0, 47.0, 18.0, 45.0, 20.0, -6.0, 1.0, 8.0, 22.0, 12.0, 41.0, 14.0, -14.0, 5.0, 89.0, -16.0, 6.0, -114.0, -33.0], \"coloraxis\": \"coloraxis\", \"size\": [101.0, 100.0, 85.0, 73.0, 70.0, 68.0, 63.0, 55.0, 54.0, 52.0, 41.0, 41.0, 34.0, 33.0, 33.0, 33.0, 27.0, 25.0, 25.0, 25.0, 24.0, 24.0, 23.0, 23.0, 22.0, 21.0, 21.0, 21.0, 20.0, 20.0], \"sizemode\": \"area\", \"sizeref\": 0.2525, \"symbol\": \"circle\"}, \"mode\": \"markers+text\", \"name\": \"\", \"orientation\": \"v\", \"showlegend\": false, \"text\": [\"iran\", \"afghanistan\", \"china\", \"israel\", \"pakistan\", \"iraq\", \"haiti\", \"libya\", \"russia\", \"india\", \"uk\", \"london\", \"hrc\", \"turkey\", \"karzai\", \"kabul\", \"egypt\", \"france\", \"massachusetts\", \"mexico\", \"jerusalem\", \"brazil\", \"florida\", \"germany\", \"honduras\", \"indonesia\", \"britain\", \"japan\", \"benghazi\", \"north korea\"], \"textposition\": \"top right\", \"type\": \"scatter\", \"x\": [-50.0, 28.0, 109.0, 177.0, 103.0, -76.0, 102.0, -27.0, -1.0, 127.0, -5.0, 5.0, 47.0, 18.0, 45.0, 20.0, -6.0, 1.0, 8.0, 22.0, 12.0, 41.0, 14.0, -14.0, 5.0, 89.0, -16.0, 6.0, -114.0, -33.0], \"xaxis\": \"x\", \"y\": [101.0, 100.0, 85.0, 73.0, 70.0, 68.0, 63.0, 55.0, 54.0, 52.0, 41.0, 41.0, 34.0, 33.0, 33.0, 33.0, 27.0, 25.0, 25.0, 25.0, 24.0, 24.0, 23.0, 23.0, 22.0, 21.0, 21.0, 21.0, 20.0, 20.0], \"yaxis\": \"y\"}],                        {\"coloraxis\": {\"colorbar\": {\"title\": {\"text\": \"score\"}}, \"colorscale\": [[0.0, \"rgb(255,0,0)\"], [1.0, \"rgb(0,0,255)\"]]}, \"legend\": {\"itemsizing\": \"constant\", \"tracegroupgap\": 0}, \"margin\": {\"t\": 60}, \"template\": {\"data\": {\"bar\": [{\"error_x\": {\"color\": \"#2a3f5f\"}, \"error_y\": {\"color\": \"#2a3f5f\"}, \"marker\": {\"line\": {\"color\": \"#E5ECF6\", \"width\": 0.5}}, \"type\": \"bar\"}], \"barpolar\": [{\"marker\": {\"line\": {\"color\": \"#E5ECF6\", \"width\": 0.5}}, \"type\": \"barpolar\"}], \"carpet\": [{\"aaxis\": {\"endlinecolor\": \"#2a3f5f\", \"gridcolor\": \"white\", \"linecolor\": \"white\", \"minorgridcolor\": \"white\", \"startlinecolor\": \"#2a3f5f\"}, \"baxis\": {\"endlinecolor\": \"#2a3f5f\", \"gridcolor\": \"white\", \"linecolor\": \"white\", \"minorgridcolor\": \"white\", \"startlinecolor\": \"#2a3f5f\"}, \"type\": \"carpet\"}], \"choropleth\": [{\"colorbar\": {\"outlinewidth\": 0, \"ticks\": \"\"}, \"type\": \"choropleth\"}], \"contour\": [{\"colorbar\": {\"outlinewidth\": 0, \"ticks\": \"\"}, \"colorscale\": [[0.0, \"#0d0887\"], [0.1111111111111111, \"#46039f\"], [0.2222222222222222, \"#7201a8\"], [0.3333333333333333, \"#9c179e\"], [0.4444444444444444, \"#bd3786\"], [0.5555555555555556, \"#d8576b\"], [0.6666666666666666, \"#ed7953\"], [0.7777777777777778, \"#fb9f3a\"], [0.8888888888888888, \"#fdca26\"], [1.0, \"#f0f921\"]], \"type\": \"contour\"}], \"contourcarpet\": [{\"colorbar\": {\"outlinewidth\": 0, \"ticks\": \"\"}, \"type\": \"contourcarpet\"}], \"heatmap\": [{\"colorbar\": {\"outlinewidth\": 0, \"ticks\": \"\"}, \"colorscale\": [[0.0, \"#0d0887\"], [0.1111111111111111, \"#46039f\"], [0.2222222222222222, \"#7201a8\"], [0.3333333333333333, \"#9c179e\"], [0.4444444444444444, \"#bd3786\"], [0.5555555555555556, \"#d8576b\"], [0.6666666666666666, \"#ed7953\"], [0.7777777777777778, \"#fb9f3a\"], [0.8888888888888888, \"#fdca26\"], [1.0, \"#f0f921\"]], \"type\": \"heatmap\"}], \"heatmapgl\": [{\"colorbar\": {\"outlinewidth\": 0, \"ticks\": \"\"}, \"colorscale\": [[0.0, \"#0d0887\"], [0.1111111111111111, \"#46039f\"], [0.2222222222222222, \"#7201a8\"], [0.3333333333333333, \"#9c179e\"], [0.4444444444444444, \"#bd3786\"], [0.5555555555555556, \"#d8576b\"], [0.6666666666666666, \"#ed7953\"], [0.7777777777777778, \"#fb9f3a\"], [0.8888888888888888, \"#fdca26\"], [1.0, \"#f0f921\"]], \"type\": \"heatmapgl\"}], \"histogram\": [{\"marker\": {\"colorbar\": {\"outlinewidth\": 0, \"ticks\": \"\"}}, \"type\": \"histogram\"}], \"histogram2d\": [{\"colorbar\": {\"outlinewidth\": 0, \"ticks\": \"\"}, \"colorscale\": [[0.0, \"#0d0887\"], [0.1111111111111111, \"#46039f\"], [0.2222222222222222, \"#7201a8\"], [0.3333333333333333, \"#9c179e\"], [0.4444444444444444, \"#bd3786\"], [0.5555555555555556, \"#d8576b\"], [0.6666666666666666, \"#ed7953\"], [0.7777777777777778, \"#fb9f3a\"], [0.8888888888888888, \"#fdca26\"], [1.0, \"#f0f921\"]], \"type\": \"histogram2d\"}], \"histogram2dcontour\": [{\"colorbar\": {\"outlinewidth\": 0, \"ticks\": \"\"}, \"colorscale\": [[0.0, \"#0d0887\"], [0.1111111111111111, \"#46039f\"], [0.2222222222222222, \"#7201a8\"], [0.3333333333333333, \"#9c179e\"], [0.4444444444444444, \"#bd3786\"], [0.5555555555555556, \"#d8576b\"], [0.6666666666666666, \"#ed7953\"], [0.7777777777777778, \"#fb9f3a\"], [0.8888888888888888, \"#fdca26\"], [1.0, \"#f0f921\"]], \"type\": \"histogram2dcontour\"}], \"mesh3d\": [{\"colorbar\": {\"outlinewidth\": 0, \"ticks\": \"\"}, \"type\": \"mesh3d\"}], \"parcoords\": [{\"line\": {\"colorbar\": {\"outlinewidth\": 0, \"ticks\": \"\"}}, \"type\": \"parcoords\"}], \"pie\": [{\"automargin\": true, \"type\": \"pie\"}], \"scatter\": [{\"marker\": {\"colorbar\": {\"outlinewidth\": 0, \"ticks\": \"\"}}, \"type\": \"scatter\"}], \"scatter3d\": [{\"line\": {\"colorbar\": {\"outlinewidth\": 0, \"ticks\": \"\"}}, \"marker\": {\"colorbar\": {\"outlinewidth\": 0, \"ticks\": \"\"}}, \"type\": \"scatter3d\"}], \"scattercarpet\": [{\"marker\": {\"colorbar\": {\"outlinewidth\": 0, \"ticks\": \"\"}}, \"type\": \"scattercarpet\"}], \"scattergeo\": [{\"marker\": {\"colorbar\": {\"outlinewidth\": 0, \"ticks\": \"\"}}, \"type\": \"scattergeo\"}], \"scattergl\": [{\"marker\": {\"colorbar\": {\"outlinewidth\": 0, \"ticks\": \"\"}}, \"type\": \"scattergl\"}], \"scattermapbox\": [{\"marker\": {\"colorbar\": {\"outlinewidth\": 0, \"ticks\": \"\"}}, \"type\": \"scattermapbox\"}], \"scatterpolar\": [{\"marker\": {\"colorbar\": {\"outlinewidth\": 0, \"ticks\": \"\"}}, \"type\": \"scatterpolar\"}], \"scatterpolargl\": [{\"marker\": {\"colorbar\": {\"outlinewidth\": 0, \"ticks\": \"\"}}, \"type\": \"scatterpolargl\"}], \"scatterternary\": [{\"marker\": {\"colorbar\": {\"outlinewidth\": 0, \"ticks\": \"\"}}, \"type\": \"scatterternary\"}], \"surface\": [{\"colorbar\": {\"outlinewidth\": 0, \"ticks\": \"\"}, \"colorscale\": [[0.0, \"#0d0887\"], [0.1111111111111111, \"#46039f\"], [0.2222222222222222, \"#7201a8\"], [0.3333333333333333, \"#9c179e\"], [0.4444444444444444, \"#bd3786\"], [0.5555555555555556, \"#d8576b\"], [0.6666666666666666, \"#ed7953\"], [0.7777777777777778, \"#fb9f3a\"], [0.8888888888888888, \"#fdca26\"], [1.0, \"#f0f921\"]], \"type\": \"surface\"}], \"table\": [{\"cells\": {\"fill\": {\"color\": \"#EBF0F8\"}, \"line\": {\"color\": \"white\"}}, \"header\": {\"fill\": {\"color\": \"#C8D4E3\"}, \"line\": {\"color\": \"white\"}}, \"type\": \"table\"}]}, \"layout\": {\"annotationdefaults\": {\"arrowcolor\": \"#2a3f5f\", \"arrowhead\": 0, \"arrowwidth\": 1}, \"autotypenumbers\": \"strict\", \"coloraxis\": {\"colorbar\": {\"outlinewidth\": 0, \"ticks\": \"\"}}, \"colorscale\": {\"diverging\": [[0, \"#8e0152\"], [0.1, \"#c51b7d\"], [0.2, \"#de77ae\"], [0.3, \"#f1b6da\"], [0.4, \"#fde0ef\"], [0.5, \"#f7f7f7\"], [0.6, \"#e6f5d0\"], [0.7, \"#b8e186\"], [0.8, \"#7fbc41\"], [0.9, \"#4d9221\"], [1, \"#276419\"]], \"sequential\": [[0.0, \"#0d0887\"], [0.1111111111111111, \"#46039f\"], [0.2222222222222222, \"#7201a8\"], [0.3333333333333333, \"#9c179e\"], [0.4444444444444444, \"#bd3786\"], [0.5555555555555556, \"#d8576b\"], [0.6666666666666666, \"#ed7953\"], [0.7777777777777778, \"#fb9f3a\"], [0.8888888888888888, \"#fdca26\"], [1.0, \"#f0f921\"]], \"sequentialminus\": [[0.0, \"#0d0887\"], [0.1111111111111111, \"#46039f\"], [0.2222222222222222, \"#7201a8\"], [0.3333333333333333, \"#9c179e\"], [0.4444444444444444, \"#bd3786\"], [0.5555555555555556, \"#d8576b\"], [0.6666666666666666, \"#ed7953\"], [0.7777777777777778, \"#fb9f3a\"], [0.8888888888888888, \"#fdca26\"], [1.0, \"#f0f921\"]]}, \"colorway\": [\"#636efa\", \"#EF553B\", \"#00cc96\", \"#ab63fa\", \"#FFA15A\", \"#19d3f3\", \"#FF6692\", \"#B6E880\", \"#FF97FF\", \"#FECB52\"], \"font\": {\"color\": \"#2a3f5f\"}, \"geo\": {\"bgcolor\": \"white\", \"lakecolor\": \"white\", \"landcolor\": \"#E5ECF6\", \"showlakes\": true, \"showland\": true, \"subunitcolor\": \"white\"}, \"hoverlabel\": {\"align\": \"left\"}, \"hovermode\": \"closest\", \"mapbox\": {\"style\": \"light\"}, \"paper_bgcolor\": \"white\", \"plot_bgcolor\": \"#E5ECF6\", \"polar\": {\"angularaxis\": {\"gridcolor\": \"white\", \"linecolor\": \"white\", \"ticks\": \"\"}, \"bgcolor\": \"#E5ECF6\", \"radialaxis\": {\"gridcolor\": \"white\", \"linecolor\": \"white\", \"ticks\": \"\"}}, \"scene\": {\"xaxis\": {\"backgroundcolor\": \"#E5ECF6\", \"gridcolor\": \"white\", \"gridwidth\": 2, \"linecolor\": \"white\", \"showbackground\": true, \"ticks\": \"\", \"zerolinecolor\": \"white\"}, \"yaxis\": {\"backgroundcolor\": \"#E5ECF6\", \"gridcolor\": \"white\", \"gridwidth\": 2, \"linecolor\": \"white\", \"showbackground\": true, \"ticks\": \"\", \"zerolinecolor\": \"white\"}, \"zaxis\": {\"backgroundcolor\": \"#E5ECF6\", \"gridcolor\": \"white\", \"gridwidth\": 2, \"linecolor\": \"white\", \"showbackground\": true, \"ticks\": \"\", \"zerolinecolor\": \"white\"}}, \"shapedefaults\": {\"line\": {\"color\": \"#2a3f5f\"}}, \"ternary\": {\"aaxis\": {\"gridcolor\": \"white\", \"linecolor\": \"white\", \"ticks\": \"\"}, \"baxis\": {\"gridcolor\": \"white\", \"linecolor\": \"white\", \"ticks\": \"\"}, \"bgcolor\": \"#E5ECF6\", \"caxis\": {\"gridcolor\": \"white\", \"linecolor\": \"white\", \"ticks\": \"\"}}, \"title\": {\"x\": 0.05}, \"xaxis\": {\"automargin\": true, \"gridcolor\": \"white\", \"linecolor\": \"white\", \"ticks\": \"\", \"title\": {\"standoff\": 15}, \"zerolinecolor\": \"white\", \"zerolinewidth\": 2}, \"yaxis\": {\"automargin\": true, \"gridcolor\": \"white\", \"linecolor\": \"white\", \"ticks\": \"\", \"title\": {\"standoff\": 15}, \"zerolinecolor\": \"white\", \"zerolinewidth\": 2}}}, \"title\": {\"text\": \"Sentiment of the nations (top 30 by frequency)\", \"x\": 0.5, \"xanchor\": \"center\"}, \"xaxis\": {\"anchor\": \"y\", \"domain\": [0.0, 1.0], \"title\": {\"text\": \"Sentiment Score\"}}, \"yaxis\": {\"anchor\": \"x\", \"domain\": [0.0, 1.0], \"title\": {\"text\": \"Frequency\"}}},                        {\"responsive\": true}                    ).then(function(){\n                            \nvar gd = document.getElementById('f8213d6b-2350-455b-8bf8-5d41280b9bf3');\nvar x = new MutationObserver(function (mutations, observer) {{\n        var display = window.getComputedStyle(gd).display;\n        if (!display || display === 'none') {{\n            console.log([gd, 'removed!']);\n            Plotly.purge(gd);\n            observer.disconnect();\n        }}\n}});\n\n// Listen for the removal of the full notebook cells\nvar notebookContainer = gd.closest('#notebook-container');\nif (notebookContainer) {{\n    x.observe(notebookContainer, {childList: true});\n}}\n\n// Listen for the clearing of the current output cell\nvar outputEl = gd.closest('.output');\nif (outputEl) {{\n    x.observe(outputEl, {childList: true});\n}}\n\n                        })                };                });            </script>        </div>"
     },
     "metadata": {},
     "output_type": "display_data"
    }
   ],
   "source": [
    "plot_entitites_sentiment(df_entities, top_k=TOP_K).show()"
   ],
   "metadata": {
    "collapsed": false,
    "pycharm": {
     "name": "#%%\n"
    }
   }
  },
  {
   "cell_type": "code",
   "execution_count": 67,
   "metadata": {
    "pycharm": {
     "name": "#%%\n"
    }
   },
   "outputs": [
    {
     "data": {
      "application/vnd.plotly.v1+json": {
       "config": {
        "plotlyServerURL": "https://plot.ly"
       },
       "data": [
        {
         "alignmentgroup": "True",
         "hovertemplate": "x=%{x}<br>y=%{y}<br>color=%{marker.color}<extra></extra>",
         "legendgroup": "",
         "marker": {
          "color": [
           4.238095238095238,
           2.4423076923076925,
           2.4246575342465753,
           1.7083333333333333,
           1.619047619047619,
           1.4714285714285715,
           1.3823529411764706,
           1.3636363636363635,
           1.2823529411764707,
           0.88,
           0.6086956521739131,
           0.6060606060606061,
           0.5454545454545454,
           0.5,
           0.32,
           0.2857142857142857,
           0.28,
           0.22727272727272727,
           0.12195121951219512,
           0.04,
           -0.018518518518518517,
           -0.12195121951219512,
           -0.2222222222222222,
           -0.4909090909090909,
           -0.49504950495049505,
           -0.6086956521739131,
           -0.7619047619047619,
           -1.1176470588235294,
           -1.65,
           -5.7
          ],
          "coloraxis": "coloraxis"
         },
         "name": "",
         "offsetgroup": "",
         "orientation": "v",
         "showlegend": false,
         "textposition": "auto",
         "type": "bar",
         "x": [
          "indonesia",
          "india",
          "israel",
          "brazil",
          "haiti",
          "pakistan",
          "hrc",
          "karzai",
          "china",
          "mexico",
          "florida",
          "kabul",
          "turkey",
          "jerusalem",
          "massachusetts",
          "japan",
          "afghanistan",
          "honduras",
          "london",
          "france",
          "russia",
          "uk",
          "egypt",
          "libya",
          "iran",
          "germany",
          "britain",
          "iraq",
          "north korea",
          "benghazi"
         ],
         "xaxis": "x",
         "y": [
          4.238095238095238,
          2.4423076923076925,
          2.4246575342465753,
          1.7083333333333333,
          1.619047619047619,
          1.4714285714285715,
          1.3823529411764706,
          1.3636363636363635,
          1.2823529411764707,
          0.88,
          0.6086956521739131,
          0.6060606060606061,
          0.5454545454545454,
          0.5,
          0.32,
          0.2857142857142857,
          0.28,
          0.22727272727272727,
          0.12195121951219512,
          0.04,
          -0.018518518518518517,
          -0.12195121951219512,
          -0.2222222222222222,
          -0.4909090909090909,
          -0.49504950495049505,
          -0.6086956521739131,
          -0.7619047619047619,
          -1.1176470588235294,
          -1.65,
          -5.7
         ],
         "yaxis": "y"
        }
       ],
       "layout": {
        "barmode": "relative",
        "coloraxis": {
         "colorbar": {
          "title": {
           "text": "Sentiment"
          }
         },
         "colorscale": [
          [
           0.0,
           "rgb(255,0,0)"
          ],
          [
           1.0,
           "rgb(0,0,255)"
          ]
         ]
        },
        "legend": {
         "tracegroupgap": 0
        },
        "margin": {
         "t": 60
        },
        "template": {
         "data": {
          "bar": [
           {
            "error_x": {
             "color": "#2a3f5f"
            },
            "error_y": {
             "color": "#2a3f5f"
            },
            "marker": {
             "line": {
              "color": "#E5ECF6",
              "width": 0.5
             }
            },
            "type": "bar"
           }
          ],
          "barpolar": [
           {
            "marker": {
             "line": {
              "color": "#E5ECF6",
              "width": 0.5
             }
            },
            "type": "barpolar"
           }
          ],
          "carpet": [
           {
            "aaxis": {
             "endlinecolor": "#2a3f5f",
             "gridcolor": "white",
             "linecolor": "white",
             "minorgridcolor": "white",
             "startlinecolor": "#2a3f5f"
            },
            "baxis": {
             "endlinecolor": "#2a3f5f",
             "gridcolor": "white",
             "linecolor": "white",
             "minorgridcolor": "white",
             "startlinecolor": "#2a3f5f"
            },
            "type": "carpet"
           }
          ],
          "choropleth": [
           {
            "colorbar": {
             "outlinewidth": 0,
             "ticks": ""
            },
            "type": "choropleth"
           }
          ],
          "contour": [
           {
            "colorbar": {
             "outlinewidth": 0,
             "ticks": ""
            },
            "colorscale": [
             [
              0.0,
              "#0d0887"
             ],
             [
              0.1111111111111111,
              "#46039f"
             ],
             [
              0.2222222222222222,
              "#7201a8"
             ],
             [
              0.3333333333333333,
              "#9c179e"
             ],
             [
              0.4444444444444444,
              "#bd3786"
             ],
             [
              0.5555555555555556,
              "#d8576b"
             ],
             [
              0.6666666666666666,
              "#ed7953"
             ],
             [
              0.7777777777777778,
              "#fb9f3a"
             ],
             [
              0.8888888888888888,
              "#fdca26"
             ],
             [
              1.0,
              "#f0f921"
             ]
            ],
            "type": "contour"
           }
          ],
          "contourcarpet": [
           {
            "colorbar": {
             "outlinewidth": 0,
             "ticks": ""
            },
            "type": "contourcarpet"
           }
          ],
          "heatmap": [
           {
            "colorbar": {
             "outlinewidth": 0,
             "ticks": ""
            },
            "colorscale": [
             [
              0.0,
              "#0d0887"
             ],
             [
              0.1111111111111111,
              "#46039f"
             ],
             [
              0.2222222222222222,
              "#7201a8"
             ],
             [
              0.3333333333333333,
              "#9c179e"
             ],
             [
              0.4444444444444444,
              "#bd3786"
             ],
             [
              0.5555555555555556,
              "#d8576b"
             ],
             [
              0.6666666666666666,
              "#ed7953"
             ],
             [
              0.7777777777777778,
              "#fb9f3a"
             ],
             [
              0.8888888888888888,
              "#fdca26"
             ],
             [
              1.0,
              "#f0f921"
             ]
            ],
            "type": "heatmap"
           }
          ],
          "heatmapgl": [
           {
            "colorbar": {
             "outlinewidth": 0,
             "ticks": ""
            },
            "colorscale": [
             [
              0.0,
              "#0d0887"
             ],
             [
              0.1111111111111111,
              "#46039f"
             ],
             [
              0.2222222222222222,
              "#7201a8"
             ],
             [
              0.3333333333333333,
              "#9c179e"
             ],
             [
              0.4444444444444444,
              "#bd3786"
             ],
             [
              0.5555555555555556,
              "#d8576b"
             ],
             [
              0.6666666666666666,
              "#ed7953"
             ],
             [
              0.7777777777777778,
              "#fb9f3a"
             ],
             [
              0.8888888888888888,
              "#fdca26"
             ],
             [
              1.0,
              "#f0f921"
             ]
            ],
            "type": "heatmapgl"
           }
          ],
          "histogram": [
           {
            "marker": {
             "colorbar": {
              "outlinewidth": 0,
              "ticks": ""
             }
            },
            "type": "histogram"
           }
          ],
          "histogram2d": [
           {
            "colorbar": {
             "outlinewidth": 0,
             "ticks": ""
            },
            "colorscale": [
             [
              0.0,
              "#0d0887"
             ],
             [
              0.1111111111111111,
              "#46039f"
             ],
             [
              0.2222222222222222,
              "#7201a8"
             ],
             [
              0.3333333333333333,
              "#9c179e"
             ],
             [
              0.4444444444444444,
              "#bd3786"
             ],
             [
              0.5555555555555556,
              "#d8576b"
             ],
             [
              0.6666666666666666,
              "#ed7953"
             ],
             [
              0.7777777777777778,
              "#fb9f3a"
             ],
             [
              0.8888888888888888,
              "#fdca26"
             ],
             [
              1.0,
              "#f0f921"
             ]
            ],
            "type": "histogram2d"
           }
          ],
          "histogram2dcontour": [
           {
            "colorbar": {
             "outlinewidth": 0,
             "ticks": ""
            },
            "colorscale": [
             [
              0.0,
              "#0d0887"
             ],
             [
              0.1111111111111111,
              "#46039f"
             ],
             [
              0.2222222222222222,
              "#7201a8"
             ],
             [
              0.3333333333333333,
              "#9c179e"
             ],
             [
              0.4444444444444444,
              "#bd3786"
             ],
             [
              0.5555555555555556,
              "#d8576b"
             ],
             [
              0.6666666666666666,
              "#ed7953"
             ],
             [
              0.7777777777777778,
              "#fb9f3a"
             ],
             [
              0.8888888888888888,
              "#fdca26"
             ],
             [
              1.0,
              "#f0f921"
             ]
            ],
            "type": "histogram2dcontour"
           }
          ],
          "mesh3d": [
           {
            "colorbar": {
             "outlinewidth": 0,
             "ticks": ""
            },
            "type": "mesh3d"
           }
          ],
          "parcoords": [
           {
            "line": {
             "colorbar": {
              "outlinewidth": 0,
              "ticks": ""
             }
            },
            "type": "parcoords"
           }
          ],
          "pie": [
           {
            "automargin": true,
            "type": "pie"
           }
          ],
          "scatter": [
           {
            "marker": {
             "colorbar": {
              "outlinewidth": 0,
              "ticks": ""
             }
            },
            "type": "scatter"
           }
          ],
          "scatter3d": [
           {
            "line": {
             "colorbar": {
              "outlinewidth": 0,
              "ticks": ""
             }
            },
            "marker": {
             "colorbar": {
              "outlinewidth": 0,
              "ticks": ""
             }
            },
            "type": "scatter3d"
           }
          ],
          "scattercarpet": [
           {
            "marker": {
             "colorbar": {
              "outlinewidth": 0,
              "ticks": ""
             }
            },
            "type": "scattercarpet"
           }
          ],
          "scattergeo": [
           {
            "marker": {
             "colorbar": {
              "outlinewidth": 0,
              "ticks": ""
             }
            },
            "type": "scattergeo"
           }
          ],
          "scattergl": [
           {
            "marker": {
             "colorbar": {
              "outlinewidth": 0,
              "ticks": ""
             }
            },
            "type": "scattergl"
           }
          ],
          "scattermapbox": [
           {
            "marker": {
             "colorbar": {
              "outlinewidth": 0,
              "ticks": ""
             }
            },
            "type": "scattermapbox"
           }
          ],
          "scatterpolar": [
           {
            "marker": {
             "colorbar": {
              "outlinewidth": 0,
              "ticks": ""
             }
            },
            "type": "scatterpolar"
           }
          ],
          "scatterpolargl": [
           {
            "marker": {
             "colorbar": {
              "outlinewidth": 0,
              "ticks": ""
             }
            },
            "type": "scatterpolargl"
           }
          ],
          "scatterternary": [
           {
            "marker": {
             "colorbar": {
              "outlinewidth": 0,
              "ticks": ""
             }
            },
            "type": "scatterternary"
           }
          ],
          "surface": [
           {
            "colorbar": {
             "outlinewidth": 0,
             "ticks": ""
            },
            "colorscale": [
             [
              0.0,
              "#0d0887"
             ],
             [
              0.1111111111111111,
              "#46039f"
             ],
             [
              0.2222222222222222,
              "#7201a8"
             ],
             [
              0.3333333333333333,
              "#9c179e"
             ],
             [
              0.4444444444444444,
              "#bd3786"
             ],
             [
              0.5555555555555556,
              "#d8576b"
             ],
             [
              0.6666666666666666,
              "#ed7953"
             ],
             [
              0.7777777777777778,
              "#fb9f3a"
             ],
             [
              0.8888888888888888,
              "#fdca26"
             ],
             [
              1.0,
              "#f0f921"
             ]
            ],
            "type": "surface"
           }
          ],
          "table": [
           {
            "cells": {
             "fill": {
              "color": "#EBF0F8"
             },
             "line": {
              "color": "white"
             }
            },
            "header": {
             "fill": {
              "color": "#C8D4E3"
             },
             "line": {
              "color": "white"
             }
            },
            "type": "table"
           }
          ]
         },
         "layout": {
          "annotationdefaults": {
           "arrowcolor": "#2a3f5f",
           "arrowhead": 0,
           "arrowwidth": 1
          },
          "autotypenumbers": "strict",
          "coloraxis": {
           "colorbar": {
            "outlinewidth": 0,
            "ticks": ""
           }
          },
          "colorscale": {
           "diverging": [
            [
             0,
             "#8e0152"
            ],
            [
             0.1,
             "#c51b7d"
            ],
            [
             0.2,
             "#de77ae"
            ],
            [
             0.3,
             "#f1b6da"
            ],
            [
             0.4,
             "#fde0ef"
            ],
            [
             0.5,
             "#f7f7f7"
            ],
            [
             0.6,
             "#e6f5d0"
            ],
            [
             0.7,
             "#b8e186"
            ],
            [
             0.8,
             "#7fbc41"
            ],
            [
             0.9,
             "#4d9221"
            ],
            [
             1,
             "#276419"
            ]
           ],
           "sequential": [
            [
             0.0,
             "#0d0887"
            ],
            [
             0.1111111111111111,
             "#46039f"
            ],
            [
             0.2222222222222222,
             "#7201a8"
            ],
            [
             0.3333333333333333,
             "#9c179e"
            ],
            [
             0.4444444444444444,
             "#bd3786"
            ],
            [
             0.5555555555555556,
             "#d8576b"
            ],
            [
             0.6666666666666666,
             "#ed7953"
            ],
            [
             0.7777777777777778,
             "#fb9f3a"
            ],
            [
             0.8888888888888888,
             "#fdca26"
            ],
            [
             1.0,
             "#f0f921"
            ]
           ],
           "sequentialminus": [
            [
             0.0,
             "#0d0887"
            ],
            [
             0.1111111111111111,
             "#46039f"
            ],
            [
             0.2222222222222222,
             "#7201a8"
            ],
            [
             0.3333333333333333,
             "#9c179e"
            ],
            [
             0.4444444444444444,
             "#bd3786"
            ],
            [
             0.5555555555555556,
             "#d8576b"
            ],
            [
             0.6666666666666666,
             "#ed7953"
            ],
            [
             0.7777777777777778,
             "#fb9f3a"
            ],
            [
             0.8888888888888888,
             "#fdca26"
            ],
            [
             1.0,
             "#f0f921"
            ]
           ]
          },
          "colorway": [
           "#636efa",
           "#EF553B",
           "#00cc96",
           "#ab63fa",
           "#FFA15A",
           "#19d3f3",
           "#FF6692",
           "#B6E880",
           "#FF97FF",
           "#FECB52"
          ],
          "font": {
           "color": "#2a3f5f"
          },
          "geo": {
           "bgcolor": "white",
           "lakecolor": "white",
           "landcolor": "#E5ECF6",
           "showlakes": true,
           "showland": true,
           "subunitcolor": "white"
          },
          "hoverlabel": {
           "align": "left"
          },
          "hovermode": "closest",
          "mapbox": {
           "style": "light"
          },
          "paper_bgcolor": "white",
          "plot_bgcolor": "#E5ECF6",
          "polar": {
           "angularaxis": {
            "gridcolor": "white",
            "linecolor": "white",
            "ticks": ""
           },
           "bgcolor": "#E5ECF6",
           "radialaxis": {
            "gridcolor": "white",
            "linecolor": "white",
            "ticks": ""
           }
          },
          "scene": {
           "xaxis": {
            "backgroundcolor": "#E5ECF6",
            "gridcolor": "white",
            "gridwidth": 2,
            "linecolor": "white",
            "showbackground": true,
            "ticks": "",
            "zerolinecolor": "white"
           },
           "yaxis": {
            "backgroundcolor": "#E5ECF6",
            "gridcolor": "white",
            "gridwidth": 2,
            "linecolor": "white",
            "showbackground": true,
            "ticks": "",
            "zerolinecolor": "white"
           },
           "zaxis": {
            "backgroundcolor": "#E5ECF6",
            "gridcolor": "white",
            "gridwidth": 2,
            "linecolor": "white",
            "showbackground": true,
            "ticks": "",
            "zerolinecolor": "white"
           }
          },
          "shapedefaults": {
           "line": {
            "color": "#2a3f5f"
           }
          },
          "ternary": {
           "aaxis": {
            "gridcolor": "white",
            "linecolor": "white",
            "ticks": ""
           },
           "baxis": {
            "gridcolor": "white",
            "linecolor": "white",
            "ticks": ""
           },
           "bgcolor": "#E5ECF6",
           "caxis": {
            "gridcolor": "white",
            "linecolor": "white",
            "ticks": ""
           }
          },
          "title": {
           "x": 0.05
          },
          "xaxis": {
           "automargin": true,
           "gridcolor": "white",
           "linecolor": "white",
           "ticks": "",
           "title": {
            "standoff": 15
           },
           "zerolinecolor": "white",
           "zerolinewidth": 2
          },
          "yaxis": {
           "automargin": true,
           "gridcolor": "white",
           "linecolor": "white",
           "ticks": "",
           "title": {
            "standoff": 15
           },
           "zerolinecolor": "white",
           "zerolinewidth": 2
          }
         }
        },
        "title": {
         "text": "Sentiment of the nations normalized (top 30 by frequency)",
         "x": 0.5,
         "xanchor": "center"
        },
        "xaxis": {
         "anchor": "y",
         "domain": [
          0.0,
          1.0
         ],
         "title": {
          "text": "Entity"
         }
        },
        "yaxis": {
         "anchor": "x",
         "domain": [
          0.0,
          1.0
         ],
         "title": {
          "text": "Sentiment Score normalized"
         }
        }
       }
      },
      "text/html": "<div>                            <div id=\"28279f35-f48a-4777-8f63-db86dd080437\" class=\"plotly-graph-div\" style=\"height:525px; width:100%;\"></div>            <script type=\"text/javascript\">                require([\"plotly\"], function(Plotly) {                    window.PLOTLYENV=window.PLOTLYENV || {};                                    if (document.getElementById(\"28279f35-f48a-4777-8f63-db86dd080437\")) {                    Plotly.newPlot(                        \"28279f35-f48a-4777-8f63-db86dd080437\",                        [{\"alignmentgroup\": \"True\", \"hovertemplate\": \"x=%{x}<br>y=%{y}<br>color=%{marker.color}<extra></extra>\", \"legendgroup\": \"\", \"marker\": {\"color\": [4.238095238095238, 2.4423076923076925, 2.4246575342465753, 1.7083333333333333, 1.619047619047619, 1.4714285714285715, 1.3823529411764706, 1.3636363636363635, 1.2823529411764707, 0.88, 0.6086956521739131, 0.6060606060606061, 0.5454545454545454, 0.5, 0.32, 0.2857142857142857, 0.28, 0.22727272727272727, 0.12195121951219512, 0.04, -0.018518518518518517, -0.12195121951219512, -0.2222222222222222, -0.4909090909090909, -0.49504950495049505, -0.6086956521739131, -0.7619047619047619, -1.1176470588235294, -1.65, -5.7], \"coloraxis\": \"coloraxis\"}, \"name\": \"\", \"offsetgroup\": \"\", \"orientation\": \"v\", \"showlegend\": false, \"textposition\": \"auto\", \"type\": \"bar\", \"x\": [\"indonesia\", \"india\", \"israel\", \"brazil\", \"haiti\", \"pakistan\", \"hrc\", \"karzai\", \"china\", \"mexico\", \"florida\", \"kabul\", \"turkey\", \"jerusalem\", \"massachusetts\", \"japan\", \"afghanistan\", \"honduras\", \"london\", \"france\", \"russia\", \"uk\", \"egypt\", \"libya\", \"iran\", \"germany\", \"britain\", \"iraq\", \"north korea\", \"benghazi\"], \"xaxis\": \"x\", \"y\": [4.238095238095238, 2.4423076923076925, 2.4246575342465753, 1.7083333333333333, 1.619047619047619, 1.4714285714285715, 1.3823529411764706, 1.3636363636363635, 1.2823529411764707, 0.88, 0.6086956521739131, 0.6060606060606061, 0.5454545454545454, 0.5, 0.32, 0.2857142857142857, 0.28, 0.22727272727272727, 0.12195121951219512, 0.04, -0.018518518518518517, -0.12195121951219512, -0.2222222222222222, -0.4909090909090909, -0.49504950495049505, -0.6086956521739131, -0.7619047619047619, -1.1176470588235294, -1.65, -5.7], \"yaxis\": \"y\"}],                        {\"barmode\": \"relative\", \"coloraxis\": {\"colorbar\": {\"title\": {\"text\": \"Sentiment\"}}, \"colorscale\": [[0.0, \"rgb(255,0,0)\"], [1.0, \"rgb(0,0,255)\"]]}, \"legend\": {\"tracegroupgap\": 0}, \"margin\": {\"t\": 60}, \"template\": {\"data\": {\"bar\": [{\"error_x\": {\"color\": \"#2a3f5f\"}, \"error_y\": {\"color\": \"#2a3f5f\"}, \"marker\": {\"line\": {\"color\": \"#E5ECF6\", \"width\": 0.5}}, \"type\": \"bar\"}], \"barpolar\": [{\"marker\": {\"line\": {\"color\": \"#E5ECF6\", \"width\": 0.5}}, \"type\": \"barpolar\"}], \"carpet\": [{\"aaxis\": {\"endlinecolor\": \"#2a3f5f\", \"gridcolor\": \"white\", \"linecolor\": \"white\", \"minorgridcolor\": \"white\", \"startlinecolor\": \"#2a3f5f\"}, \"baxis\": {\"endlinecolor\": \"#2a3f5f\", \"gridcolor\": \"white\", \"linecolor\": \"white\", \"minorgridcolor\": \"white\", \"startlinecolor\": \"#2a3f5f\"}, \"type\": \"carpet\"}], \"choropleth\": [{\"colorbar\": {\"outlinewidth\": 0, \"ticks\": \"\"}, \"type\": \"choropleth\"}], \"contour\": [{\"colorbar\": {\"outlinewidth\": 0, \"ticks\": \"\"}, \"colorscale\": [[0.0, \"#0d0887\"], [0.1111111111111111, \"#46039f\"], [0.2222222222222222, \"#7201a8\"], [0.3333333333333333, \"#9c179e\"], [0.4444444444444444, \"#bd3786\"], [0.5555555555555556, \"#d8576b\"], [0.6666666666666666, \"#ed7953\"], [0.7777777777777778, \"#fb9f3a\"], [0.8888888888888888, \"#fdca26\"], [1.0, \"#f0f921\"]], \"type\": \"contour\"}], \"contourcarpet\": [{\"colorbar\": {\"outlinewidth\": 0, \"ticks\": \"\"}, \"type\": \"contourcarpet\"}], \"heatmap\": [{\"colorbar\": {\"outlinewidth\": 0, \"ticks\": \"\"}, \"colorscale\": [[0.0, \"#0d0887\"], [0.1111111111111111, \"#46039f\"], [0.2222222222222222, \"#7201a8\"], [0.3333333333333333, \"#9c179e\"], [0.4444444444444444, \"#bd3786\"], [0.5555555555555556, \"#d8576b\"], [0.6666666666666666, \"#ed7953\"], [0.7777777777777778, \"#fb9f3a\"], [0.8888888888888888, \"#fdca26\"], [1.0, \"#f0f921\"]], \"type\": \"heatmap\"}], \"heatmapgl\": [{\"colorbar\": {\"outlinewidth\": 0, \"ticks\": \"\"}, \"colorscale\": [[0.0, \"#0d0887\"], [0.1111111111111111, \"#46039f\"], [0.2222222222222222, \"#7201a8\"], [0.3333333333333333, \"#9c179e\"], [0.4444444444444444, \"#bd3786\"], [0.5555555555555556, \"#d8576b\"], [0.6666666666666666, \"#ed7953\"], [0.7777777777777778, \"#fb9f3a\"], [0.8888888888888888, \"#fdca26\"], [1.0, \"#f0f921\"]], \"type\": \"heatmapgl\"}], \"histogram\": [{\"marker\": {\"colorbar\": {\"outlinewidth\": 0, \"ticks\": \"\"}}, \"type\": \"histogram\"}], \"histogram2d\": [{\"colorbar\": {\"outlinewidth\": 0, \"ticks\": \"\"}, \"colorscale\": [[0.0, \"#0d0887\"], [0.1111111111111111, \"#46039f\"], [0.2222222222222222, \"#7201a8\"], [0.3333333333333333, \"#9c179e\"], [0.4444444444444444, \"#bd3786\"], [0.5555555555555556, \"#d8576b\"], [0.6666666666666666, \"#ed7953\"], [0.7777777777777778, \"#fb9f3a\"], [0.8888888888888888, \"#fdca26\"], [1.0, \"#f0f921\"]], \"type\": \"histogram2d\"}], \"histogram2dcontour\": [{\"colorbar\": {\"outlinewidth\": 0, \"ticks\": \"\"}, \"colorscale\": [[0.0, \"#0d0887\"], [0.1111111111111111, \"#46039f\"], [0.2222222222222222, \"#7201a8\"], [0.3333333333333333, \"#9c179e\"], [0.4444444444444444, \"#bd3786\"], [0.5555555555555556, \"#d8576b\"], [0.6666666666666666, \"#ed7953\"], [0.7777777777777778, \"#fb9f3a\"], [0.8888888888888888, \"#fdca26\"], [1.0, \"#f0f921\"]], \"type\": \"histogram2dcontour\"}], \"mesh3d\": [{\"colorbar\": {\"outlinewidth\": 0, \"ticks\": \"\"}, \"type\": \"mesh3d\"}], \"parcoords\": [{\"line\": {\"colorbar\": {\"outlinewidth\": 0, \"ticks\": \"\"}}, \"type\": \"parcoords\"}], \"pie\": [{\"automargin\": true, \"type\": \"pie\"}], \"scatter\": [{\"marker\": {\"colorbar\": {\"outlinewidth\": 0, \"ticks\": \"\"}}, \"type\": \"scatter\"}], \"scatter3d\": [{\"line\": {\"colorbar\": {\"outlinewidth\": 0, \"ticks\": \"\"}}, \"marker\": {\"colorbar\": {\"outlinewidth\": 0, \"ticks\": \"\"}}, \"type\": \"scatter3d\"}], \"scattercarpet\": [{\"marker\": {\"colorbar\": {\"outlinewidth\": 0, \"ticks\": \"\"}}, \"type\": \"scattercarpet\"}], \"scattergeo\": [{\"marker\": {\"colorbar\": {\"outlinewidth\": 0, \"ticks\": \"\"}}, \"type\": \"scattergeo\"}], \"scattergl\": [{\"marker\": {\"colorbar\": {\"outlinewidth\": 0, \"ticks\": \"\"}}, \"type\": \"scattergl\"}], \"scattermapbox\": [{\"marker\": {\"colorbar\": {\"outlinewidth\": 0, \"ticks\": \"\"}}, \"type\": \"scattermapbox\"}], \"scatterpolar\": [{\"marker\": {\"colorbar\": {\"outlinewidth\": 0, \"ticks\": \"\"}}, \"type\": \"scatterpolar\"}], \"scatterpolargl\": [{\"marker\": {\"colorbar\": {\"outlinewidth\": 0, \"ticks\": \"\"}}, \"type\": \"scatterpolargl\"}], \"scatterternary\": [{\"marker\": {\"colorbar\": {\"outlinewidth\": 0, \"ticks\": \"\"}}, \"type\": \"scatterternary\"}], \"surface\": [{\"colorbar\": {\"outlinewidth\": 0, \"ticks\": \"\"}, \"colorscale\": [[0.0, \"#0d0887\"], [0.1111111111111111, \"#46039f\"], [0.2222222222222222, \"#7201a8\"], [0.3333333333333333, \"#9c179e\"], [0.4444444444444444, \"#bd3786\"], [0.5555555555555556, \"#d8576b\"], [0.6666666666666666, \"#ed7953\"], [0.7777777777777778, \"#fb9f3a\"], [0.8888888888888888, \"#fdca26\"], [1.0, \"#f0f921\"]], \"type\": \"surface\"}], \"table\": [{\"cells\": {\"fill\": {\"color\": \"#EBF0F8\"}, \"line\": {\"color\": \"white\"}}, \"header\": {\"fill\": {\"color\": \"#C8D4E3\"}, \"line\": {\"color\": \"white\"}}, \"type\": \"table\"}]}, \"layout\": {\"annotationdefaults\": {\"arrowcolor\": \"#2a3f5f\", \"arrowhead\": 0, \"arrowwidth\": 1}, \"autotypenumbers\": \"strict\", \"coloraxis\": {\"colorbar\": {\"outlinewidth\": 0, \"ticks\": \"\"}}, \"colorscale\": {\"diverging\": [[0, \"#8e0152\"], [0.1, \"#c51b7d\"], [0.2, \"#de77ae\"], [0.3, \"#f1b6da\"], [0.4, \"#fde0ef\"], [0.5, \"#f7f7f7\"], [0.6, \"#e6f5d0\"], [0.7, \"#b8e186\"], [0.8, \"#7fbc41\"], [0.9, \"#4d9221\"], [1, \"#276419\"]], \"sequential\": [[0.0, \"#0d0887\"], [0.1111111111111111, \"#46039f\"], [0.2222222222222222, \"#7201a8\"], [0.3333333333333333, \"#9c179e\"], [0.4444444444444444, \"#bd3786\"], [0.5555555555555556, \"#d8576b\"], [0.6666666666666666, \"#ed7953\"], [0.7777777777777778, \"#fb9f3a\"], [0.8888888888888888, \"#fdca26\"], [1.0, \"#f0f921\"]], \"sequentialminus\": [[0.0, \"#0d0887\"], [0.1111111111111111, \"#46039f\"], [0.2222222222222222, \"#7201a8\"], [0.3333333333333333, \"#9c179e\"], [0.4444444444444444, \"#bd3786\"], [0.5555555555555556, \"#d8576b\"], [0.6666666666666666, \"#ed7953\"], [0.7777777777777778, \"#fb9f3a\"], [0.8888888888888888, \"#fdca26\"], [1.0, \"#f0f921\"]]}, \"colorway\": [\"#636efa\", \"#EF553B\", \"#00cc96\", \"#ab63fa\", \"#FFA15A\", \"#19d3f3\", \"#FF6692\", \"#B6E880\", \"#FF97FF\", \"#FECB52\"], \"font\": {\"color\": \"#2a3f5f\"}, \"geo\": {\"bgcolor\": \"white\", \"lakecolor\": \"white\", \"landcolor\": \"#E5ECF6\", \"showlakes\": true, \"showland\": true, \"subunitcolor\": \"white\"}, \"hoverlabel\": {\"align\": \"left\"}, \"hovermode\": \"closest\", \"mapbox\": {\"style\": \"light\"}, \"paper_bgcolor\": \"white\", \"plot_bgcolor\": \"#E5ECF6\", \"polar\": {\"angularaxis\": {\"gridcolor\": \"white\", \"linecolor\": \"white\", \"ticks\": \"\"}, \"bgcolor\": \"#E5ECF6\", \"radialaxis\": {\"gridcolor\": \"white\", \"linecolor\": \"white\", \"ticks\": \"\"}}, \"scene\": {\"xaxis\": {\"backgroundcolor\": \"#E5ECF6\", \"gridcolor\": \"white\", \"gridwidth\": 2, \"linecolor\": \"white\", \"showbackground\": true, \"ticks\": \"\", \"zerolinecolor\": \"white\"}, \"yaxis\": {\"backgroundcolor\": \"#E5ECF6\", \"gridcolor\": \"white\", \"gridwidth\": 2, \"linecolor\": \"white\", \"showbackground\": true, \"ticks\": \"\", \"zerolinecolor\": \"white\"}, \"zaxis\": {\"backgroundcolor\": \"#E5ECF6\", \"gridcolor\": \"white\", \"gridwidth\": 2, \"linecolor\": \"white\", \"showbackground\": true, \"ticks\": \"\", \"zerolinecolor\": \"white\"}}, \"shapedefaults\": {\"line\": {\"color\": \"#2a3f5f\"}}, \"ternary\": {\"aaxis\": {\"gridcolor\": \"white\", \"linecolor\": \"white\", \"ticks\": \"\"}, \"baxis\": {\"gridcolor\": \"white\", \"linecolor\": \"white\", \"ticks\": \"\"}, \"bgcolor\": \"#E5ECF6\", \"caxis\": {\"gridcolor\": \"white\", \"linecolor\": \"white\", \"ticks\": \"\"}}, \"title\": {\"x\": 0.05}, \"xaxis\": {\"automargin\": true, \"gridcolor\": \"white\", \"linecolor\": \"white\", \"ticks\": \"\", \"title\": {\"standoff\": 15}, \"zerolinecolor\": \"white\", \"zerolinewidth\": 2}, \"yaxis\": {\"automargin\": true, \"gridcolor\": \"white\", \"linecolor\": \"white\", \"ticks\": \"\", \"title\": {\"standoff\": 15}, \"zerolinecolor\": \"white\", \"zerolinewidth\": 2}}}, \"title\": {\"text\": \"Sentiment of the nations normalized (top 30 by frequency)\", \"x\": 0.5, \"xanchor\": \"center\"}, \"xaxis\": {\"anchor\": \"y\", \"domain\": [0.0, 1.0], \"title\": {\"text\": \"Entity\"}}, \"yaxis\": {\"anchor\": \"x\", \"domain\": [0.0, 1.0], \"title\": {\"text\": \"Sentiment Score normalized\"}}},                        {\"responsive\": true}                    ).then(function(){\n                            \nvar gd = document.getElementById('28279f35-f48a-4777-8f63-db86dd080437');\nvar x = new MutationObserver(function (mutations, observer) {{\n        var display = window.getComputedStyle(gd).display;\n        if (!display || display === 'none') {{\n            console.log([gd, 'removed!']);\n            Plotly.purge(gd);\n            observer.disconnect();\n        }}\n}});\n\n// Listen for the removal of the full notebook cells\nvar notebookContainer = gd.closest('#notebook-container');\nif (notebookContainer) {{\n    x.observe(notebookContainer, {childList: true});\n}}\n\n// Listen for the clearing of the current output cell\nvar outputEl = gd.closest('.output');\nif (outputEl) {{\n    x.observe(outputEl, {childList: true});\n}}\n\n                        })                };                });            </script>        </div>"
     },
     "metadata": {},
     "output_type": "display_data"
    }
   ],
   "source": [
    "plot_entities_normalized(df_entities, top_k=TOP_K).show()"
   ]
  },
  {
   "cell_type": "markdown",
   "metadata": {},
   "source": [
    "Plot on map"
   ]
  },
  {
   "cell_type": "code",
   "execution_count": 68,
   "metadata": {
    "pycharm": {
     "name": "#%%\n"
    }
   },
   "outputs": [],
   "source": [
    "from SPARQLWrapper import SPARQLWrapper, JSON\n",
    "from urllib.error import HTTPError, URLError\n",
    "import tqdm\n",
    "\n",
    "def dbpedia_get_geo(uri):\n",
    "    sparql = SPARQLWrapper(\"http://dbpedia.org/sparql\")\n",
    "    query = r'select distinct ?lat ?long where {<' + uri +\\\n",
    "            '> geo:lat ?lat. <'+uri+'> geo:long ?long.}'\n",
    "\n",
    "    try:\n",
    "        sparql.setQuery(query)\n",
    "        # Convert results to JSON format\n",
    "        sparql.setReturnFormat(JSON)\n",
    "        result = sparql.query().convert()[\"results\"][\"bindings\"][0]\n",
    "        lat, long = float(result[\"lat\"][\"value\"]), float(result[\"long\"][\"value\"])\n",
    "        return uri, lat, long\n",
    "    except (KeyError, IndexError, TimeoutError, URLError):\n",
    "        return uri, None, None\n",
    "\n",
    "def resolve_geo_info(df):\n",
    "    df = df.dropna()\n",
    "    dbpedia_uris = df[\"dbpedia\"]\n",
    "    with ThreadPool(POOL_SIZE) as pool:\n",
    "        results = []\n",
    "        for r in tqdm.tqdm(pool.imap_unordered(dbpedia_get_geo, dbpedia_uris), total=len(dbpedia_uris)):\n",
    "            results.append(r)\n",
    "        #results = pool.map(dbpedia_get_geo, dbpedia_uris)\n",
    "    # Append geo info\n",
    "    df_geo = pd.DataFrame(results, columns=[\"dbpedia\", \"lat\", \"long\"])\n",
    "    #df_geo = pd.concat([df, df_geo], axis=1)\n",
    "    df = df.join(df_geo.set_index(\"dbpedia\"), on='dbpedia')\n",
    "    df = df.dropna()\n",
    "    df = df.drop_duplicates(subset=['entity'])\n",
    "\n",
    "    return df\n"
   ]
  },
  {
   "cell_type": "code",
   "execution_count": 69,
   "metadata": {
    "pycharm": {
     "name": "#%%\n"
    }
   },
   "outputs": [
    {
     "name": "stderr",
     "output_type": "stream",
     "text": [
      "100%|██████████| 860/860 [00:12<00:00, 71.21it/s]\n"
     ]
    },
    {
     "data": {
      "text/plain": "        entity  score   freq                                  dbpedia  \\\n0         iran  -50.0  101.0         http://dbpedia.org/resource/Iran   \n1  afghanistan   28.0  100.0  http://dbpedia.org/resource/Afghanistan   \n2        china  109.0   85.0        http://dbpedia.org/resource/China   \n3       israel  177.0   73.0       http://dbpedia.org/resource/Israel   \n4     pakistan  103.0   70.0     http://dbpedia.org/resource/Pakistan   \n\n       norm    lat    long  \n0 -0.495050  32.00   51.42  \n1  0.280000  33.00   65.00  \n2  1.282353  39.92  116.38  \n3  2.424658  31.00   35.00  \n4  1.471429  30.00   70.00  ",
      "text/html": "<div>\n<style scoped>\n    .dataframe tbody tr th:only-of-type {\n        vertical-align: middle;\n    }\n\n    .dataframe tbody tr th {\n        vertical-align: top;\n    }\n\n    .dataframe thead th {\n        text-align: right;\n    }\n</style>\n<table border=\"1\" class=\"dataframe\">\n  <thead>\n    <tr style=\"text-align: right;\">\n      <th></th>\n      <th>entity</th>\n      <th>score</th>\n      <th>freq</th>\n      <th>dbpedia</th>\n      <th>norm</th>\n      <th>lat</th>\n      <th>long</th>\n    </tr>\n  </thead>\n  <tbody>\n    <tr>\n      <th>0</th>\n      <td>iran</td>\n      <td>-50.0</td>\n      <td>101.0</td>\n      <td>http://dbpedia.org/resource/Iran</td>\n      <td>-0.495050</td>\n      <td>32.00</td>\n      <td>51.42</td>\n    </tr>\n    <tr>\n      <th>1</th>\n      <td>afghanistan</td>\n      <td>28.0</td>\n      <td>100.0</td>\n      <td>http://dbpedia.org/resource/Afghanistan</td>\n      <td>0.280000</td>\n      <td>33.00</td>\n      <td>65.00</td>\n    </tr>\n    <tr>\n      <th>2</th>\n      <td>china</td>\n      <td>109.0</td>\n      <td>85.0</td>\n      <td>http://dbpedia.org/resource/China</td>\n      <td>1.282353</td>\n      <td>39.92</td>\n      <td>116.38</td>\n    </tr>\n    <tr>\n      <th>3</th>\n      <td>israel</td>\n      <td>177.0</td>\n      <td>73.0</td>\n      <td>http://dbpedia.org/resource/Israel</td>\n      <td>2.424658</td>\n      <td>31.00</td>\n      <td>35.00</td>\n    </tr>\n    <tr>\n      <th>4</th>\n      <td>pakistan</td>\n      <td>103.0</td>\n      <td>70.0</td>\n      <td>http://dbpedia.org/resource/Pakistan</td>\n      <td>1.471429</td>\n      <td>30.00</td>\n      <td>70.00</td>\n    </tr>\n  </tbody>\n</table>\n</div>"
     },
     "execution_count": 69,
     "metadata": {},
     "output_type": "execute_result"
    }
   ],
   "source": [
    "df_geo = resolve_geo_info(df_entities)\n",
    "df_geo = df_geo.drop_duplicates(subset=['entity'])\n",
    "df_geo[\"lat\"] = df_geo[\"lat\"].apply(lambda x: round(x, 2))\n",
    "df_geo[\"long\"] = df_geo[\"long\"].apply(lambda x: round(x, 2))\n",
    "df_geo = df_geo.drop_duplicates(subset=[\"lat\", \"long\"])\n",
    "df_geo.to_pickle(os.path.join(SERIALIZATION_FOLDER, \"df_geo.pkl\"))\n",
    "df_geo.head()"
   ]
  },
  {
   "cell_type": "code",
   "execution_count": 70,
   "metadata": {
    "pycharm": {
     "name": "#%%\n"
    },
    "scrolled": false
   },
   "outputs": [
    {
     "data": {
      "application/vnd.plotly.v1+json": {
       "config": {
        "plotlyServerURL": "https://plot.ly"
       },
       "data": [
        {
         "geo": "geo",
         "hovertemplate": "<b>%{hovertext}</b><br><br>freq=%{marker.size}<br>lat=%{lat}<br>long=%{lon}<br>norm=%{marker.color}<extra></extra>",
         "hovertext": [
          "iran",
          "afghanistan",
          "china",
          "israel",
          "pakistan",
          "iraq",
          "haiti",
          "libya",
          "russia",
          "india",
          "uk",
          "london",
          "turkey",
          "kabul",
          "egypt",
          "france",
          "mexico",
          "jerusalem",
          "brazil",
          "florida",
          "germany",
          "honduras",
          "indonesia",
          "japan",
          "benghazi",
          "north korea",
          "gaza",
          "chicago",
          "cuba",
          "beijing",
          "paris",
          "northern ireland",
          "the west bank",
          "south africa",
          "california",
          "brussels",
          "belfast",
          "syria",
          "canada",
          "tehran",
          "vietnam",
          "spain",
          "baghdad",
          "copenhagen",
          "palau",
          "poland",
          "arizona",
          "yemen",
          "norway",
          "berlin",
          "singapore",
          "argentina",
          "moscow",
          "qatar",
          "korea",
          "ireland",
          "saudi arabia",
          "islamabad",
          "italy",
          "whitehaven",
          "australia",
          "texas",
          "chile",
          "colombia",
          "ukraine",
          "jordan",
          "uae",
          "greece",
          "hawaii",
          "kenya",
          "sudan",
          "kentucky",
          "sri lanka",
          "miami",
          "somalia",
          "cambridge",
          "georgetown",
          "tokyo",
          "bosnia",
          "alaska",
          "netherlands",
          "kandahar",
          "illinois",
          "rome",
          "connecticut",
          "nigeria",
          "venezuela",
          "south korea",
          "ecuador",
          "detroit",
          "nevada",
          "belgium",
          "tunisia",
          "liberia",
          "warsaw",
          "kurdistan",
          "manhattan",
          "uruguay",
          "seoul",
          "vienna",
          "angola",
          "bangladesh",
          "oslo",
          "uganda",
          "pittsburgh",
          "rwanda",
          "louisiana",
          "houston",
          "los angeles",
          "lithuania",
          "doha",
          "lahore",
          "switzerland",
          "istanbul",
          "kuwait",
          "athens",
          "pyongyang",
          "jamaica",
          "lebanon",
          "philippines",
          "bolivia",
          "westminster",
          "congo",
          "prague",
          "bogota",
          "nairobi",
          "new delhi",
          "moldova",
          "panama",
          "buenos aires",
          "new\nyork",
          "ramallah",
          "arkansas",
          "taiwan",
          "sweden",
          "peru",
          "malaysia",
          "washington dc",
          "iceland",
          "krakow",
          "dubai",
          "new hampshire",
          "austria",
          "westchester county airport",
          "white plains",
          "westchester county",
          "khartoum",
          "peshawar",
          "montreal",
          "karachi",
          "kazakhstan",
          "guatemala",
          "dominican republic",
          "montevideo",
          "ethiopia",
          "wales",
          "thailand",
          "new zealand",
          "denver",
          "tanzania",
          "ottawa",
          "nyc",
          "reno",
          "holland",
          "orange county",
          "uzbekistan",
          "zambia",
          "costa rica",
          "delaware",
          "denmark",
          "hillsborough",
          "brasilia",
          "hollywood",
          "darfur",
          "hebron",
          "mexico city",
          "algeria",
          "mosul",
          "portugal",
          "kampala",
          "indiana",
          "alabama",
          "el salvador",
          "seattle",
          "kansas",
          "lisbon",
          "kosovo",
          "sirte",
          "tunis",
          "abu dhabi",
          "azerbaijan",
          "pretoria",
          "bali",
          "corfu",
          "trieste",
          "macedonia",
          "san francisco",
          "durban",
          "guinea",
          "north dakota",
          "havana",
          "riyadh",
          "czech republic",
          "stockholm",
          "hamden",
          "myanmar",
          "mongolia",
          "albania",
          "maldives",
          "puerto rico",
          "colombo",
          "boston",
          "santiago",
          "canberra",
          "san antonio",
          "lockerbie",
          "scotland",
          "quetta",
          "colorado",
          "okinawa",
          "tibet",
          "hong kong",
          "romania",
          "chappaqua",
          "waterloo",
          "ghana",
          "armagh",
          "luxembourg",
          "brighton",
          "punjab",
          "syracuse",
          "alexandria",
          "louisville",
          "kyrgyzstan",
          "tallin",
          "juba",
          "ciudad juarez",
          "luxor",
          "cancun",
          "madrid",
          "des moines",
          "arlington heights",
          "rhode island",
          "lviv",
          "cameroon",
          "springfield",
          "tampa",
          "tucson",
          "bagram",
          "annapolis",
          "mecca",
          "ankara",
          "gainesville",
          "finland",
          "greenland",
          "malta",
          "san diego",
          "sebha",
          "serbia",
          "sharjah",
          "hama",
          "derna",
          "addis",
          "ajdabiya",
          "kufra",
          "tripolitania",
          "cannes",
          "rochester",
          "philadelphia",
          "hamptons",
          "cincinnati",
          "kirkuk",
          "madagascar",
          "porto alegre",
          "oak hill's",
          "nangarhar province",
          "florence",
          "hunan",
          "bushehr",
          "baluchistan",
          "sistan",
          "kordestan",
          "mazandaran",
          "hainan island",
          "calcutta",
          "garten",
          "zimbabwe",
          "bahamas",
          "bangkok",
          "guam",
          "honolulu",
          "cambodia",
          "new orleans",
          "jakarta",
          "al anbar",
          "saigon",
          "denton",
          "latvia",
          "asuncion",
          "bariloche",
          "reykjavik",
          "wellington",
          "jericho",
          "washington heights",
          "wirral west",
          "the green zone",
          "west lafayette",
          "jedwabne",
          "baluchistan province",
          "mumbai",
          "new smyrna",
          "wayne",
          "slovenia",
          "charlottesville",
          "fairfax county",
          "hampton",
          "nassau county",
          "xinjiang",
          "yerevan",
          "chicago-kent",
          "esfahan",
          "rotterdam",
          "shenzhen",
          "kathmandu",
          "nepal",
          "ghulja",
          "lausanne",
          "helmand province",
          "ann arbor",
          "west africa",
          "damascus",
          "perth",
          "senegal",
          "nagoya",
          "xinxiang",
          "oman",
          "white haven",
          "faulkner county",
          "frankfurt",
          "u.s.-eu",
          "forkhill",
          "craigavon",
          "newry",
          "keady",
          "bronx",
          "ithaca",
          "ramat shlomo",
          "guinea-bissau",
          "masada",
          "bruges",
          "venice",
          "qum",
          "nicaragua",
          "estonia",
          "south sudan",
          "olathe",
          "montgomery county",
          "coionia morelos",
          "el paso",
          "ponce",
          "chiapas",
          "chihuahua city",
          "hangzhou",
          "taipei",
          "taixing",
          "jiangsu",
          "najaf",
          "diego garcia",
          "blue nile",
          "aceh",
          "malvern",
          "turkmenistan",
          "tajikistan",
          "naperville",
          "north lawndale",
          "douglas park",
          "st. charles",
          "muskoka",
          "transnistrian",
          "chisinau",
          "belarus",
          "sao paulo",
          "south hampton",
          "jalalabad",
          "messina",
          "arad",
          "ramadi",
          "fallujah",
          "johannesburg",
          "bridgewater",
          "burkina faso",
          "long island",
          "indianapolis",
          "san clemente",
          "guyana",
          "armenia",
          "vail",
          "herat",
          "harmarville",
          "mount herzl",
          "munich",
          "elyria",
          "haifa",
          "sochi",
          "kunduz",
          "muridke",
          "badakhshan",
          "bloomsbury",
          "suriname",
          "medina",
          "nuremberg",
          "potomac",
          "las vegas",
          "chennai",
          "bihar",
          "amsterdam",
          "cedarville",
          "dupage county's",
          "wisconsin",
          "rockford",
          "quito",
          "guayaquil",
          "hungary",
          "budapest",
          "strasbourg",
          "monterrey",
          "southampton",
          "dallas",
          "amherst",
          "monaco",
          "dachau",
          "bloomington",
          "mahabad",
          "cleveland",
          "west chester",
          "astoria",
          "toledo",
          "northwest ohio",
          "sparta",
          "slovakia",
          "bahrain",
          "birmingham",
          "brooklyn",
          "nablus",
          "khoy",
          "western azerbaijan",
          "malawi",
          "helsinki",
          "nauru",
          "east timor",
          "bonn",
          "lund",
          "rambouillet",
          "yugoslavia",
          "des plaines",
          "cote d'ivoire",
          "timor",
          "greenwich village"
         ],
         "lat": [
          32.0,
          33.0,
          39.92,
          31.0,
          30.0,
          33.0,
          18.53,
          32.87,
          55.75,
          28.61,
          51.5,
          51.51,
          39.0,
          34.53,
          26.0,
          47.0,
          19.43,
          31.78,
          -15.78,
          28.1,
          51.0,
          14.1,
          -6.17,
          35.68,
          32.12,
          39.03,
          31.52,
          41.82,
          22.0,
          39.91,
          48.86,
          54.6,
          32.0,
          -30.0,
          37.0,
          50.85,
          54.6,
          33.5,
          45.4,
          35.69,
          16.0,
          40.0,
          33.33,
          55.68,
          7.5,
          52.0,
          34.0,
          15.35,
          59.93,
          52.52,
          1.28,
          -34.6,
          55.76,
          25.3,
          38.32,
          53.42,
          24.65,
          33.69,
          41.9,
          54.55,
          -35.31,
          31.0,
          -34.0,
          4.0,
          49.0,
          31.95,
          24.0,
          37.97,
          21.31,
          -1.27,
          15.63,
          37.5,
          6.93,
          25.78,
          2.03,
          52.21,
          38.91,
          35.69,
          43.87,
          65.0,
          52.37,
          31.62,
          41.28,
          41.88,
          41.6,
          8.0,
          7.0,
          36.0,
          -2.0,
          42.33,
          39.0,
          50.83,
          36.82,
          6.32,
          52.23,
          37.0,
          40.78,
          -34.88,
          37.56,
          48.2,
          -12.5,
          23.76,
          59.91,
          1.0,
          40.44,
          -1.95,
          31.0,
          29.76,
          34.05,
          54.68,
          25.29,
          31.55,
          46.95,
          41.01,
          29.37,
          37.98,
          39.02,
          17.97,
          33.83,
          13.0,
          -16.71,
          51.49,
          -4.32,
          50.08,
          4.71,
          -1.29,
          28.61,
          47.0,
          8.97,
          -34.6,
          53.96,
          31.9,
          34.8,
          24.0,
          59.35,
          -12.04,
          2.5,
          47.33,
          64.13,
          50.06,
          25.26,
          51.06,
          47.33,
          41.07,
          41.04,
          41.15,
          15.5,
          34.02,
          45.51,
          24.86,
          51.17,
          14.63,
          19.0,
          -34.88,
          8.0,
          51.48,
          13.75,
          55.5,
          39.74,
          -6.0,
          45.42,
          40.71,
          39.52,
          52.25,
          33.67,
          41.32,
          -15.42,
          9.93,
          39.0,
          55.72,
          53.41,
          -15.79,
          34.1,
          13.0,
          31.53,
          19.43,
          28.0,
          36.34,
          38.77,
          0.31,
          40.0,
          32.7,
          13.68,
          47.61,
          38.45,
          38.73,
          42.58,
          31.2,
          36.81,
          24.47,
          40.4,
          -25.75,
          -8.34,
          39.58,
          45.63,
          42.0,
          37.78,
          -29.88,
          9.52,
          47.0,
          23.14,
          24.63,
          49.75,
          59.33,
          41.4,
          19.75,
          48.0,
          41.32,
          3.2,
          18.2,
          6.93,
          42.36,
          -33.45,
          -35.29,
          29.43,
          55.12,
          55.95,
          30.18,
          39.0,
          26.5,
          31.2,
          22.3,
          44.42,
          41.16,
          50.68,
          5.55,
          54.35,
          49.81,
          50.83,
          31.0,
          43.04,
          31.2,
          38.22,
          41.0,
          59.44,
          4.85,
          31.74,
          25.68,
          21.16,
          40.42,
          44.08,
          42.08,
          41.7,
          49.83,
          3.87,
          42.1,
          27.97,
          32.22,
          34.94,
          38.98,
          21.42,
          39.93,
          29.65,
          60.17,
          64.17,
          35.9,
          32.72,
          27.04,
          44.0,
          25.36,
          35.13,
          32.5,
          9.03,
          30.76,
          24.18,
          32.9,
          43.55,
          43.17,
          39.95,
          40.88,
          39.1,
          35.47,
          -20.0,
          -30.03,
          37.98,
          34.25,
          43.78,
          28.11,
          28.97,
          27.42,
          31.0,
          35.31,
          36.57,
          19.2,
          22.57,
          63.64,
          -20.0,
          24.25,
          13.75,
          13.5,
          21.31,
          11.55,
          29.95,
          -6.2,
          32.9,
          10.8,
          33.22,
          56.95,
          19.69,
          -41.15,
          64.15,
          -41.29,
          31.87,
          40.84,
          53.38,
          33.31,
          40.7,
          53.28,
          27.7,
          18.98,
          38.42,
          42.28,
          46.05,
          38.03,
          38.87,
          37.03,
          40.73,
          41.0,
          40.18,
          41.88,
          32.64,
          51.92,
          22.54,
          27.72,
          28.17,
          43.91,
          46.52,
          31.0,
          42.28,
          12.0,
          33.51,
          -31.95,
          14.67,
          35.18,
          35.3,
          21.0,
          38.55,
          35.16,
          50.12,
          40.0,
          54.08,
          54.45,
          54.18,
          54.25,
          40.84,
          38.37,
          31.81,
          11.87,
          31.32,
          51.21,
          45.44,
          34.64,
          12.1,
          59.0,
          4.85,
          38.88,
          39.14,
          18.75,
          31.76,
          18.01,
          16.42,
          28.64,
          30.27,
          25.07,
          32.16,
          32.9,
          32.0,
          -7.31,
          12.0,
          5.55,
          52.1,
          37.97,
          38.55,
          41.78,
          41.86,
          55.78,
          38.79,
          45.17,
          46.83,
          47.02,
          53.0,
          -23.55,
          42.88,
          34.43,
          38.18,
          46.36,
          33.42,
          33.35,
          -26.2,
          -35.01,
          12.33,
          47.25,
          39.77,
          32.9,
          5.0,
          40.18,
          39.64,
          34.34,
          40.53,
          31.77,
          48.13,
          41.36,
          32.82,
          43.59,
          36.73,
          31.8,
          38.0,
          51.53,
          4.0,
          24.47,
          49.45,
          39.2,
          36.17,
          13.08,
          25.4,
          52.37,
          39.74,
          41.83,
          44.5,
          42.27,
          -0.23,
          -2.18,
          47.0,
          47.49,
          48.58,
          25.67,
          50.9,
          32.78,
          42.37,
          43.73,
          48.27,
          39.17,
          36.76,
          41.48,
          39.95,
          51.52,
          39.83,
          41.0,
          37.08,
          48.15,
          26.22,
          52.48,
          40.62,
          32.22,
          38.55,
          37.55,
          -13.95,
          60.17,
          -0.53,
          -8.55,
          50.73,
          55.7,
          48.64,
          44.82,
          42.67,
          6.85,
          -9.23,
          40.73
         ],
         "legendgroup": "",
         "lon": [
          51.42,
          65.0,
          116.38,
          35.0,
          70.0,
          44.0,
          -72.42,
          13.18,
          37.62,
          77.21,
          -0.12,
          -0.13,
          35.0,
          69.18,
          30.0,
          2.0,
          -102.0,
          35.22,
          -52.0,
          -81.6,
          9.0,
          -87.22,
          106.82,
          139.77,
          20.07,
          125.75,
          34.45,
          -87.7,
          -82.38,
          116.4,
          2.35,
          -5.92,
          35.38,
          25.0,
          -120.0,
          4.35,
          -5.93,
          36.3,
          -110.0,
          51.39,
          105.85,
          -4.0,
          44.38,
          12.57,
          134.5,
          20.0,
          -112.0,
          44.21,
          8.0,
          13.4,
          103.83,
          -64.0,
          37.62,
          51.25,
          127.23,
          -8.0,
          46.77,
          73.06,
          12.0,
          -3.59,
          133.0,
          -100.0,
          -71.0,
          -74.07,
          32.0,
          35.93,
          54.0,
          23.72,
          -157.8,
          36.8,
          32.53,
          -85.0,
          79.87,
          -80.21,
          45.35,
          0.12,
          -77.07,
          139.69,
          18.42,
          -150.0,
          4.88,
          65.72,
          -88.38,
          12.5,
          -72.7,
          7.48,
          -66.92,
          128.0,
          -78.35,
          -83.05,
          -117.0,
          4.0,
          10.18,
          -10.8,
          21.02,
          43.0,
          -73.97,
          -56.17,
          126.97,
          16.37,
          13.33,
          90.0,
          10.75,
          32.0,
          -79.98,
          29.87,
          -92.0,
          -95.38,
          -118.25,
          25.32,
          51.53,
          74.34,
          7.45,
          28.95,
          47.75,
          23.73,
          125.74,
          -76.79,
          35.53,
          122.0,
          -64.67,
          -0.14,
          15.32,
          14.42,
          -74.07,
          36.82,
          77.23,
          28.92,
          -80.0,
          -58.38,
          -1.08,
          35.2,
          -92.2,
          121.0,
          16.0,
          -77.03,
          112.5,
          -121.62,
          -21.93,
          19.94,
          55.3,
          -1.31,
          13.33,
          -73.71,
          -73.78,
          -73.77,
          32.56,
          71.58,
          -73.56,
          67.01,
          71.43,
          -90.5,
          -70.67,
          -56.18,
          38.0,
          -3.18,
          100.48,
          11.75,
          -104.99,
          35.0,
          -75.69,
          -74.01,
          -119.83,
          4.67,
          -117.78,
          63.0,
          28.28,
          -84.08,
          -75.5,
          10.0,
          -1.5,
          -47.88,
          -118.33,
          25.0,
          35.09,
          -99.13,
          2.0,
          43.13,
          -9.15,
          32.58,
          -86.0,
          -86.7,
          -89.19,
          -122.33,
          -96.53,
          -9.15,
          21.0,
          16.59,
          10.18,
          54.37,
          49.88,
          28.19,
          115.09,
          19.87,
          13.8,
          21.43,
          -122.42,
          31.05,
          -13.7,
          -100.0,
          -82.36,
          46.72,
          14.47,
          18.07,
          -72.92,
          96.1,
          106.0,
          19.82,
          73.22,
          -66.5,
          79.84,
          -71.06,
          -70.67,
          149.13,
          -98.49,
          -3.36,
          -3.19,
          67.0,
          -105.55,
          128.0,
          88.8,
          114.2,
          25.0,
          -73.77,
          4.41,
          -1.05,
          -6.65,
          6.13,
          -0.14,
          74.0,
          -76.13,
          29.92,
          -85.76,
          74.6,
          24.75,
          31.6,
          -106.49,
          32.65,
          -86.85,
          -3.72,
          -95.69,
          -87.98,
          -71.5,
          24.01,
          11.52,
          -72.59,
          -82.48,
          -110.97,
          69.25,
          -76.49,
          39.82,
          32.85,
          -82.33,
          24.93,
          -51.73,
          14.52,
          -117.16,
          14.43,
          20.47,
          55.39,
          36.75,
          22.67,
          38.74,
          20.23,
          23.28,
          13.18,
          7.01,
          -77.61,
          -75.16,
          -72.5,
          -84.52,
          44.32,
          47.0,
          -51.23,
          -81.15,
          70.5,
          11.25,
          112.98,
          50.83,
          64.5,
          62.0,
          47.0,
          53.06,
          109.7,
          88.36,
          9.52,
          30.0,
          -77.33,
          100.49,
          144.8,
          -157.86,
          104.92,
          -90.08,
          106.82,
          41.6,
          106.65,
          -97.15,
          24.1,
          145.4,
          -71.3,
          -21.93,
          174.78,
          35.44,
          -73.94,
          -3.16,
          44.39,
          -75.21,
          22.3,
          65.7,
          72.83,
          27.14,
          -83.26,
          14.5,
          -78.48,
          -77.22,
          -76.36,
          -73.63,
          85.0,
          44.51,
          -87.64,
          51.67,
          4.5,
          114.06,
          85.32,
          84.25,
          81.28,
          6.63,
          64.0,
          -83.75,
          3.0,
          36.29,
          115.86,
          -17.42,
          136.9,
          113.93,
          57.0,
          -90.35,
          -92.31,
          8.68,
          -100.0,
          -6.45,
          -6.39,
          -6.35,
          -6.7,
          -73.89,
          20.72,
          35.22,
          -15.6,
          35.35,
          3.22,
          12.34,
          50.88,
          -86.23,
          24.75,
          30.0,
          -94.82,
          -77.2,
          -99.07,
          -106.49,
          -66.61,
          -92.42,
          -106.09,
          120.15,
          121.52,
          120.03,
          119.8,
          44.33,
          72.41,
          37.25,
          95.32,
          -2.33,
          58.33,
          68.8,
          -88.15,
          -87.71,
          -4.05,
          -90.51,
          -79.33,
          29.62,
          28.84,
          27.0,
          -46.63,
          -70.96,
          70.45,
          15.55,
          21.8,
          43.31,
          43.78,
          28.05,
          138.76,
          -1.83,
          18.95,
          -86.16,
          -118.5,
          -58.75,
          44.52,
          -106.37,
          62.2,
          -79.85,
          35.18,
          11.57,
          -82.11,
          34.98,
          39.72,
          68.87,
          74.25,
          71.0,
          -0.12,
          -56.0,
          39.6,
          11.08,
          -79.49,
          -115.14,
          80.27,
          85.1,
          4.9,
          -83.81,
          -88.08,
          -89.5,
          -88.96,
          -78.52,
          -79.88,
          19.25,
          19.05,
          7.75,
          -100.3,
          -1.4,
          -96.81,
          -72.52,
          7.42,
          11.47,
          -86.52,
          45.72,
          -81.67,
          -75.6,
          -0.13,
          -4.0,
          -84.0,
          22.42,
          17.12,
          50.58,
          -1.9,
          -73.99,
          35.26,
          44.95,
          45.08,
          33.7,
          24.94,
          166.92,
          125.56,
          7.1,
          13.2,
          1.83,
          20.45,
          -88.03,
          -5.3,
          124.93,
          -74.0
         ],
         "marker": {
          "color": [
           -0.49504950495049505,
           0.28,
           1.2823529411764707,
           2.4246575342465753,
           1.4714285714285715,
           -1.1176470588235294,
           1.619047619047619,
           -0.4909090909090909,
           -0.018518518518518517,
           2.4423076923076925,
           -0.12195121951219512,
           0.12195121951219512,
           0.5454545454545454,
           0.6060606060606061,
           -0.2222222222222222,
           0.04,
           0.88,
           0.5,
           1.7083333333333333,
           0.6086956521739131,
           -0.6086956521739131,
           0.22727272727272727,
           4.238095238095238,
           0.2857142857142857,
           -5.7,
           -1.65,
           -1.263157894736842,
           1.1666666666666667,
           1.0,
           1.5555555555555556,
           0.5882352941176471,
           6.9411764705882355,
           1.4705882352941178,
           2.5625,
           -0.125,
           -0.5,
           1.4375,
           -1.0666666666666667,
           0.2,
           -1.0,
           1.8571428571428572,
           0.38461538461538464,
           -1.5384615384615385,
           -0.7692307692307693,
           11.0,
           -1.3846153846153846,
           0.23076923076923078,
           -2.0833333333333335,
           1.0833333333333333,
           2.0833333333333335,
           2.5833333333333335,
           0.9166666666666666,
           1.75,
           0.9090909090909091,
           0.18181818181818182,
           1.8181818181818181,
           -0.7,
           2.7,
           0.3,
           0.2222222222222222,
           1.7777777777777777,
           -0.5555555555555556,
           -1.0,
           2.2222222222222223,
           0.4444444444444444,
           -0.625,
           0.625,
           -2.0,
           -0.25,
           2.375,
           1.625,
           1.875,
           -20.428571428571427,
           -0.14285714285714285,
           -0.2857142857142857,
           2.857142857142857,
           -0.42857142857142855,
           0.7142857142857143,
           -0.14285714285714285,
           0.5714285714285714,
           0.42857142857142855,
           -2.7142857142857144,
           -0.2857142857142857,
           -0.16666666666666666,
           0.16666666666666666,
           5.166666666666667,
           -0.8333333333333334,
           -2.1666666666666665,
           1.3333333333333333,
           3.8333333333333335,
           0.6666666666666666,
           0.6666666666666666,
           6.0,
           -1.0,
           1.8,
           -4.0,
           -1.8,
           0.8,
           -0.8,
           1.6,
           0.4,
           1.6,
           2.4,
           1.8,
           -1.4,
           1.6,
           -2.0,
           0.4,
           -1.2,
           1.2,
           -0.25,
           0.5,
           2.25,
           0.25,
           -1.75,
           -0.25,
           -0.5,
           0.0,
           0.0,
           0.0,
           1.5,
           -0.25,
           -9.5,
           0.75,
           1.25,
           2.0,
           3.0,
           3.0,
           0.75,
           0.75,
           1.5,
           2.0,
           0.0,
           -1.0,
           1.25,
           0.0,
           0.5,
           2.0,
           0.5,
           3.0,
           1.25,
           1.5,
           -2.0,
           0.0,
           0.0,
           1.3333333333333333,
           1.3333333333333333,
           -1.3333333333333333,
           0.6666666666666666,
           1.6666666666666667,
           1.0,
           0.6666666666666666,
           0.6666666666666666,
           1.0,
           5.666666666666667,
           -2.0,
           0.0,
           0.6666666666666666,
           -1.0,
           2.0,
           0.6666666666666666,
           1.3333333333333333,
           -2.0,
           0.6666666666666666,
           2.0,
           0.6666666666666666,
           0.3333333333333333,
           -0.6666666666666666,
           1.3333333333333333,
           0.6666666666666666,
           0.3333333333333333,
           2.0,
           1.6666666666666667,
           -2.3333333333333335,
           1.0,
           -1.6666666666666667,
           2.0,
           0.0,
           -0.6666666666666666,
           -1.0,
           -0.3333333333333333,
           -1.0,
           0.6666666666666666,
           -0.6666666666666666,
           1.6666666666666667,
           3.3333333333333335,
           0.3333333333333333,
           0.5,
           1.5,
           -0.5,
           1.0,
           3.0,
           1.0,
           0.0,
           0.0,
           -3.5,
           0.0,
           2.0,
           1.5,
           1.0,
           -3.0,
           0.5,
           0.0,
           4.5,
           0.5,
           -0.5,
           3.5,
           4.5,
           1.5,
           1.0,
           -4.0,
           -1.5,
           3.0,
           2.0,
           -1.5,
           -3.5,
           -3.0,
           1.5,
           3.5,
           0.0,
           1.5,
           -1.0,
           3.5,
           0.0,
           0.0,
           2.5,
           -2.5,
           1.0,
           5.0,
           1.0,
           -2.5,
           -3.0,
           0.0,
           13.0,
           0.5,
           -4.0,
           -3.0,
           -1.0,
           0.5,
           4.0,
           1.5,
           1.0,
           6.5,
           2.0,
           5.0,
           -3.5,
           -1.0,
           -1.0,
           -2.0,
           3.0,
           1.5,
           -2.0,
           0.0,
           1.0,
           0.0,
           0.0,
           2.0,
           -6.0,
           0.0,
           1.0,
           0.0,
           -1.0,
           0.0,
           -2.0,
           0.0,
           0.0,
           0.0,
           0.0,
           2.0,
           0.0,
           -7.0,
           5.0,
           -3.0,
           8.0,
           0.0,
           2.0,
           0.0,
           0.0,
           -4.0,
           0.0,
           0.0,
           0.0,
           0.0,
           0.0,
           -5.0,
           0.0,
           2.0,
           2.0,
           0.0,
           0.0,
           1.0,
           0.0,
           -3.0,
           2.0,
           -2.0,
           -4.0,
           2.0,
           -1.0,
           6.0,
           3.0,
           0.0,
           0.0,
           2.0,
           3.0,
           1.0,
           0.0,
           12.0,
           -9.0,
           2.0,
           -1.0,
           0.0,
           0.0,
           -1.0,
           -2.0,
           5.0,
           0.0,
           7.0,
           0.0,
           -3.0,
           1.0,
           0.0,
           1.0,
           1.0,
           2.0,
           2.0,
           0.0,
           4.0,
           1.0,
           0.0,
           -1.0,
           3.0,
           2.0,
           5.0,
           2.0,
           3.0,
           0.0,
           0.0,
           0.0,
           0.0,
           8.0,
           -1.0,
           -4.0,
           -4.0,
           -3.0,
           1.0,
           0.0,
           -2.0,
           0.0,
           -3.0,
           3.0,
           3.0,
           2.0,
           0.0,
           2.0,
           1.0,
           0.0,
           -3.0,
           -9.0,
           -7.0,
           -9.0,
           3.0,
           -5.0,
           -1.0,
           -4.0,
           -2.0,
           -2.0,
           0.0,
           2.0,
           12.0,
           10.0,
           0.0,
           4.0,
           4.0,
           4.0,
           0.0,
           3.0,
           4.0,
           4.0,
           3.0,
           4.0,
           0.0,
           3.0,
           0.0,
           -5.0,
           2.0,
           0.0,
           3.0,
           3.0,
           -1.0,
           0.0,
           0.0,
           0.0,
           0.0,
           0.0,
           0.0,
           -4.0,
           -2.0,
           2.0,
           0.0,
           -3.0,
           -3.0,
           -4.0,
           0.0,
           0.0,
           0.0,
           0.0,
           0.0,
           7.0,
           1.0,
           -2.0,
           0.0,
           2.0,
           0.0,
           5.0,
           0.0,
           1.0,
           6.0,
           3.0,
           1.0,
           0.0,
           5.0,
           2.0,
           4.0,
           1.0,
           -2.0,
           -11.0,
           0.0,
           -3.0,
           1.0,
           -1.0,
           -1.0,
           0.0,
           -2.0,
           -2.0,
           0.0,
           0.0,
           -2.0,
           -5.0,
           -3.0,
           0.0,
           1.0,
           0.0,
           0.0,
           1.0,
           -7.0,
           -7.0,
           2.0,
           0.0,
           0.0,
           8.0,
           2.0,
           -2.0,
           -3.0,
           0.0,
           -1.0,
           0.0,
           0.0,
           0.0
          ],
          "coloraxis": "coloraxis",
          "size": [
           101.0,
           100.0,
           85.0,
           73.0,
           70.0,
           68.0,
           63.0,
           55.0,
           54.0,
           52.0,
           41.0,
           41.0,
           33.0,
           33.0,
           27.0,
           25.0,
           25.0,
           24.0,
           24.0,
           23.0,
           23.0,
           22.0,
           21.0,
           21.0,
           20.0,
           20.0,
           19.0,
           18.0,
           18.0,
           18.0,
           17.0,
           17.0,
           17.0,
           16.0,
           16.0,
           16.0,
           16.0,
           15.0,
           15.0,
           14.0,
           14.0,
           13.0,
           13.0,
           13.0,
           13.0,
           13.0,
           13.0,
           12.0,
           12.0,
           12.0,
           12.0,
           12.0,
           12.0,
           11.0,
           11.0,
           11.0,
           10.0,
           10.0,
           10.0,
           9.0,
           9.0,
           9.0,
           9.0,
           9.0,
           9.0,
           8.0,
           8.0,
           8.0,
           8.0,
           8.0,
           8.0,
           8.0,
           7.0,
           7.0,
           7.0,
           7.0,
           7.0,
           7.0,
           7.0,
           7.0,
           7.0,
           7.0,
           7.0,
           6.0,
           6.0,
           6.0,
           6.0,
           6.0,
           6.0,
           6.0,
           6.0,
           6.0,
           5.0,
           5.0,
           5.0,
           5.0,
           5.0,
           5.0,
           5.0,
           5.0,
           5.0,
           5.0,
           5.0,
           5.0,
           5.0,
           5.0,
           5.0,
           5.0,
           5.0,
           5.0,
           4.0,
           4.0,
           4.0,
           4.0,
           4.0,
           4.0,
           4.0,
           4.0,
           4.0,
           4.0,
           4.0,
           4.0,
           4.0,
           4.0,
           4.0,
           4.0,
           4.0,
           4.0,
           4.0,
           4.0,
           4.0,
           4.0,
           4.0,
           4.0,
           4.0,
           4.0,
           4.0,
           4.0,
           4.0,
           4.0,
           4.0,
           4.0,
           4.0,
           3.0,
           3.0,
           3.0,
           3.0,
           3.0,
           3.0,
           3.0,
           3.0,
           3.0,
           3.0,
           3.0,
           3.0,
           3.0,
           3.0,
           3.0,
           3.0,
           3.0,
           3.0,
           3.0,
           3.0,
           3.0,
           3.0,
           3.0,
           3.0,
           3.0,
           3.0,
           3.0,
           3.0,
           3.0,
           3.0,
           3.0,
           3.0,
           3.0,
           3.0,
           3.0,
           3.0,
           3.0,
           3.0,
           3.0,
           3.0,
           3.0,
           3.0,
           3.0,
           3.0,
           2.0,
           2.0,
           2.0,
           2.0,
           2.0,
           2.0,
           2.0,
           2.0,
           2.0,
           2.0,
           2.0,
           2.0,
           2.0,
           2.0,
           2.0,
           2.0,
           2.0,
           2.0,
           2.0,
           2.0,
           2.0,
           2.0,
           2.0,
           2.0,
           2.0,
           2.0,
           2.0,
           2.0,
           2.0,
           2.0,
           2.0,
           2.0,
           2.0,
           2.0,
           2.0,
           2.0,
           2.0,
           2.0,
           2.0,
           2.0,
           2.0,
           2.0,
           2.0,
           2.0,
           2.0,
           2.0,
           2.0,
           2.0,
           2.0,
           2.0,
           2.0,
           2.0,
           2.0,
           2.0,
           2.0,
           2.0,
           2.0,
           2.0,
           2.0,
           2.0,
           2.0,
           2.0,
           2.0,
           2.0,
           2.0,
           2.0,
           2.0,
           2.0,
           1.0,
           1.0,
           1.0,
           1.0,
           1.0,
           1.0,
           1.0,
           1.0,
           1.0,
           1.0,
           1.0,
           1.0,
           1.0,
           1.0,
           1.0,
           1.0,
           1.0,
           1.0,
           1.0,
           1.0,
           1.0,
           1.0,
           1.0,
           1.0,
           1.0,
           1.0,
           1.0,
           1.0,
           1.0,
           1.0,
           1.0,
           1.0,
           1.0,
           1.0,
           1.0,
           1.0,
           1.0,
           1.0,
           1.0,
           1.0,
           1.0,
           1.0,
           1.0,
           1.0,
           1.0,
           1.0,
           1.0,
           1.0,
           1.0,
           1.0,
           1.0,
           1.0,
           1.0,
           1.0,
           1.0,
           1.0,
           1.0,
           1.0,
           1.0,
           1.0,
           1.0,
           1.0,
           1.0,
           1.0,
           1.0,
           1.0,
           1.0,
           1.0,
           1.0,
           1.0,
           1.0,
           1.0,
           1.0,
           1.0,
           1.0,
           1.0,
           1.0,
           1.0,
           1.0,
           1.0,
           1.0,
           1.0,
           1.0,
           1.0,
           1.0,
           1.0,
           1.0,
           1.0,
           1.0,
           1.0,
           1.0,
           1.0,
           1.0,
           1.0,
           1.0,
           1.0,
           1.0,
           1.0,
           1.0,
           1.0,
           1.0,
           1.0,
           1.0,
           1.0,
           1.0,
           1.0,
           1.0,
           1.0,
           1.0,
           1.0,
           1.0,
           1.0,
           1.0,
           1.0,
           1.0,
           1.0,
           1.0,
           1.0,
           1.0,
           1.0,
           1.0,
           1.0,
           1.0,
           1.0,
           1.0,
           1.0,
           1.0,
           1.0,
           1.0,
           1.0,
           1.0,
           1.0,
           1.0,
           1.0,
           1.0,
           1.0,
           1.0,
           1.0,
           1.0,
           1.0,
           1.0,
           1.0,
           1.0,
           1.0,
           1.0,
           1.0,
           1.0,
           1.0,
           1.0,
           1.0,
           1.0,
           1.0,
           1.0,
           1.0,
           1.0,
           1.0,
           1.0,
           1.0,
           1.0,
           1.0,
           1.0,
           1.0,
           1.0,
           1.0,
           1.0,
           1.0,
           1.0,
           1.0,
           1.0,
           1.0,
           1.0,
           1.0,
           1.0,
           1.0,
           1.0,
           1.0,
           1.0,
           1.0,
           1.0,
           1.0,
           1.0,
           1.0,
           1.0,
           1.0,
           1.0,
           1.0,
           1.0,
           1.0,
           1.0,
           1.0,
           1.0,
           1.0,
           1.0,
           1.0,
           1.0,
           1.0,
           1.0,
           1.0,
           1.0,
           1.0,
           1.0,
           1.0,
           1.0
          ],
          "sizemode": "area",
          "sizeref": 0.2525,
          "symbol": "circle"
         },
         "mode": "markers",
         "name": "",
         "showlegend": false,
         "type": "scattergeo"
        }
       ],
       "layout": {
        "coloraxis": {
         "colorbar": {
          "title": {
           "text": "norm"
          }
         },
         "colorscale": [
          [
           0.0,
           "rgb(255,0,0)"
          ],
          [
           1.0,
           "rgb(0,0,255)"
          ]
         ]
        },
        "geo": {
         "center": {},
         "domain": {
          "x": [
           0.0,
           1.0
          ],
          "y": [
           0.0,
           1.0
          ]
         }
        },
        "legend": {
         "itemsizing": "constant",
         "tracegroupgap": 0
        },
        "margin": {
         "b": 0,
         "l": 50,
         "r": 50,
         "t": 0
        },
        "template": {
         "data": {
          "bar": [
           {
            "error_x": {
             "color": "#2a3f5f"
            },
            "error_y": {
             "color": "#2a3f5f"
            },
            "marker": {
             "line": {
              "color": "#E5ECF6",
              "width": 0.5
             }
            },
            "type": "bar"
           }
          ],
          "barpolar": [
           {
            "marker": {
             "line": {
              "color": "#E5ECF6",
              "width": 0.5
             }
            },
            "type": "barpolar"
           }
          ],
          "carpet": [
           {
            "aaxis": {
             "endlinecolor": "#2a3f5f",
             "gridcolor": "white",
             "linecolor": "white",
             "minorgridcolor": "white",
             "startlinecolor": "#2a3f5f"
            },
            "baxis": {
             "endlinecolor": "#2a3f5f",
             "gridcolor": "white",
             "linecolor": "white",
             "minorgridcolor": "white",
             "startlinecolor": "#2a3f5f"
            },
            "type": "carpet"
           }
          ],
          "choropleth": [
           {
            "colorbar": {
             "outlinewidth": 0,
             "ticks": ""
            },
            "type": "choropleth"
           }
          ],
          "contour": [
           {
            "colorbar": {
             "outlinewidth": 0,
             "ticks": ""
            },
            "colorscale": [
             [
              0.0,
              "#0d0887"
             ],
             [
              0.1111111111111111,
              "#46039f"
             ],
             [
              0.2222222222222222,
              "#7201a8"
             ],
             [
              0.3333333333333333,
              "#9c179e"
             ],
             [
              0.4444444444444444,
              "#bd3786"
             ],
             [
              0.5555555555555556,
              "#d8576b"
             ],
             [
              0.6666666666666666,
              "#ed7953"
             ],
             [
              0.7777777777777778,
              "#fb9f3a"
             ],
             [
              0.8888888888888888,
              "#fdca26"
             ],
             [
              1.0,
              "#f0f921"
             ]
            ],
            "type": "contour"
           }
          ],
          "contourcarpet": [
           {
            "colorbar": {
             "outlinewidth": 0,
             "ticks": ""
            },
            "type": "contourcarpet"
           }
          ],
          "heatmap": [
           {
            "colorbar": {
             "outlinewidth": 0,
             "ticks": ""
            },
            "colorscale": [
             [
              0.0,
              "#0d0887"
             ],
             [
              0.1111111111111111,
              "#46039f"
             ],
             [
              0.2222222222222222,
              "#7201a8"
             ],
             [
              0.3333333333333333,
              "#9c179e"
             ],
             [
              0.4444444444444444,
              "#bd3786"
             ],
             [
              0.5555555555555556,
              "#d8576b"
             ],
             [
              0.6666666666666666,
              "#ed7953"
             ],
             [
              0.7777777777777778,
              "#fb9f3a"
             ],
             [
              0.8888888888888888,
              "#fdca26"
             ],
             [
              1.0,
              "#f0f921"
             ]
            ],
            "type": "heatmap"
           }
          ],
          "heatmapgl": [
           {
            "colorbar": {
             "outlinewidth": 0,
             "ticks": ""
            },
            "colorscale": [
             [
              0.0,
              "#0d0887"
             ],
             [
              0.1111111111111111,
              "#46039f"
             ],
             [
              0.2222222222222222,
              "#7201a8"
             ],
             [
              0.3333333333333333,
              "#9c179e"
             ],
             [
              0.4444444444444444,
              "#bd3786"
             ],
             [
              0.5555555555555556,
              "#d8576b"
             ],
             [
              0.6666666666666666,
              "#ed7953"
             ],
             [
              0.7777777777777778,
              "#fb9f3a"
             ],
             [
              0.8888888888888888,
              "#fdca26"
             ],
             [
              1.0,
              "#f0f921"
             ]
            ],
            "type": "heatmapgl"
           }
          ],
          "histogram": [
           {
            "marker": {
             "colorbar": {
              "outlinewidth": 0,
              "ticks": ""
             }
            },
            "type": "histogram"
           }
          ],
          "histogram2d": [
           {
            "colorbar": {
             "outlinewidth": 0,
             "ticks": ""
            },
            "colorscale": [
             [
              0.0,
              "#0d0887"
             ],
             [
              0.1111111111111111,
              "#46039f"
             ],
             [
              0.2222222222222222,
              "#7201a8"
             ],
             [
              0.3333333333333333,
              "#9c179e"
             ],
             [
              0.4444444444444444,
              "#bd3786"
             ],
             [
              0.5555555555555556,
              "#d8576b"
             ],
             [
              0.6666666666666666,
              "#ed7953"
             ],
             [
              0.7777777777777778,
              "#fb9f3a"
             ],
             [
              0.8888888888888888,
              "#fdca26"
             ],
             [
              1.0,
              "#f0f921"
             ]
            ],
            "type": "histogram2d"
           }
          ],
          "histogram2dcontour": [
           {
            "colorbar": {
             "outlinewidth": 0,
             "ticks": ""
            },
            "colorscale": [
             [
              0.0,
              "#0d0887"
             ],
             [
              0.1111111111111111,
              "#46039f"
             ],
             [
              0.2222222222222222,
              "#7201a8"
             ],
             [
              0.3333333333333333,
              "#9c179e"
             ],
             [
              0.4444444444444444,
              "#bd3786"
             ],
             [
              0.5555555555555556,
              "#d8576b"
             ],
             [
              0.6666666666666666,
              "#ed7953"
             ],
             [
              0.7777777777777778,
              "#fb9f3a"
             ],
             [
              0.8888888888888888,
              "#fdca26"
             ],
             [
              1.0,
              "#f0f921"
             ]
            ],
            "type": "histogram2dcontour"
           }
          ],
          "mesh3d": [
           {
            "colorbar": {
             "outlinewidth": 0,
             "ticks": ""
            },
            "type": "mesh3d"
           }
          ],
          "parcoords": [
           {
            "line": {
             "colorbar": {
              "outlinewidth": 0,
              "ticks": ""
             }
            },
            "type": "parcoords"
           }
          ],
          "pie": [
           {
            "automargin": true,
            "type": "pie"
           }
          ],
          "scatter": [
           {
            "marker": {
             "colorbar": {
              "outlinewidth": 0,
              "ticks": ""
             }
            },
            "type": "scatter"
           }
          ],
          "scatter3d": [
           {
            "line": {
             "colorbar": {
              "outlinewidth": 0,
              "ticks": ""
             }
            },
            "marker": {
             "colorbar": {
              "outlinewidth": 0,
              "ticks": ""
             }
            },
            "type": "scatter3d"
           }
          ],
          "scattercarpet": [
           {
            "marker": {
             "colorbar": {
              "outlinewidth": 0,
              "ticks": ""
             }
            },
            "type": "scattercarpet"
           }
          ],
          "scattergeo": [
           {
            "marker": {
             "colorbar": {
              "outlinewidth": 0,
              "ticks": ""
             }
            },
            "type": "scattergeo"
           }
          ],
          "scattergl": [
           {
            "marker": {
             "colorbar": {
              "outlinewidth": 0,
              "ticks": ""
             }
            },
            "type": "scattergl"
           }
          ],
          "scattermapbox": [
           {
            "marker": {
             "colorbar": {
              "outlinewidth": 0,
              "ticks": ""
             }
            },
            "type": "scattermapbox"
           }
          ],
          "scatterpolar": [
           {
            "marker": {
             "colorbar": {
              "outlinewidth": 0,
              "ticks": ""
             }
            },
            "type": "scatterpolar"
           }
          ],
          "scatterpolargl": [
           {
            "marker": {
             "colorbar": {
              "outlinewidth": 0,
              "ticks": ""
             }
            },
            "type": "scatterpolargl"
           }
          ],
          "scatterternary": [
           {
            "marker": {
             "colorbar": {
              "outlinewidth": 0,
              "ticks": ""
             }
            },
            "type": "scatterternary"
           }
          ],
          "surface": [
           {
            "colorbar": {
             "outlinewidth": 0,
             "ticks": ""
            },
            "colorscale": [
             [
              0.0,
              "#0d0887"
             ],
             [
              0.1111111111111111,
              "#46039f"
             ],
             [
              0.2222222222222222,
              "#7201a8"
             ],
             [
              0.3333333333333333,
              "#9c179e"
             ],
             [
              0.4444444444444444,
              "#bd3786"
             ],
             [
              0.5555555555555556,
              "#d8576b"
             ],
             [
              0.6666666666666666,
              "#ed7953"
             ],
             [
              0.7777777777777778,
              "#fb9f3a"
             ],
             [
              0.8888888888888888,
              "#fdca26"
             ],
             [
              1.0,
              "#f0f921"
             ]
            ],
            "type": "surface"
           }
          ],
          "table": [
           {
            "cells": {
             "fill": {
              "color": "#EBF0F8"
             },
             "line": {
              "color": "white"
             }
            },
            "header": {
             "fill": {
              "color": "#C8D4E3"
             },
             "line": {
              "color": "white"
             }
            },
            "type": "table"
           }
          ]
         },
         "layout": {
          "annotationdefaults": {
           "arrowcolor": "#2a3f5f",
           "arrowhead": 0,
           "arrowwidth": 1
          },
          "autotypenumbers": "strict",
          "coloraxis": {
           "colorbar": {
            "outlinewidth": 0,
            "ticks": ""
           }
          },
          "colorscale": {
           "diverging": [
            [
             0,
             "#8e0152"
            ],
            [
             0.1,
             "#c51b7d"
            ],
            [
             0.2,
             "#de77ae"
            ],
            [
             0.3,
             "#f1b6da"
            ],
            [
             0.4,
             "#fde0ef"
            ],
            [
             0.5,
             "#f7f7f7"
            ],
            [
             0.6,
             "#e6f5d0"
            ],
            [
             0.7,
             "#b8e186"
            ],
            [
             0.8,
             "#7fbc41"
            ],
            [
             0.9,
             "#4d9221"
            ],
            [
             1,
             "#276419"
            ]
           ],
           "sequential": [
            [
             0.0,
             "#0d0887"
            ],
            [
             0.1111111111111111,
             "#46039f"
            ],
            [
             0.2222222222222222,
             "#7201a8"
            ],
            [
             0.3333333333333333,
             "#9c179e"
            ],
            [
             0.4444444444444444,
             "#bd3786"
            ],
            [
             0.5555555555555556,
             "#d8576b"
            ],
            [
             0.6666666666666666,
             "#ed7953"
            ],
            [
             0.7777777777777778,
             "#fb9f3a"
            ],
            [
             0.8888888888888888,
             "#fdca26"
            ],
            [
             1.0,
             "#f0f921"
            ]
           ],
           "sequentialminus": [
            [
             0.0,
             "#0d0887"
            ],
            [
             0.1111111111111111,
             "#46039f"
            ],
            [
             0.2222222222222222,
             "#7201a8"
            ],
            [
             0.3333333333333333,
             "#9c179e"
            ],
            [
             0.4444444444444444,
             "#bd3786"
            ],
            [
             0.5555555555555556,
             "#d8576b"
            ],
            [
             0.6666666666666666,
             "#ed7953"
            ],
            [
             0.7777777777777778,
             "#fb9f3a"
            ],
            [
             0.8888888888888888,
             "#fdca26"
            ],
            [
             1.0,
             "#f0f921"
            ]
           ]
          },
          "colorway": [
           "#636efa",
           "#EF553B",
           "#00cc96",
           "#ab63fa",
           "#FFA15A",
           "#19d3f3",
           "#FF6692",
           "#B6E880",
           "#FF97FF",
           "#FECB52"
          ],
          "font": {
           "color": "#2a3f5f"
          },
          "geo": {
           "bgcolor": "white",
           "lakecolor": "white",
           "landcolor": "#E5ECF6",
           "showlakes": true,
           "showland": true,
           "subunitcolor": "white"
          },
          "hoverlabel": {
           "align": "left"
          },
          "hovermode": "closest",
          "mapbox": {
           "style": "light"
          },
          "paper_bgcolor": "white",
          "plot_bgcolor": "#E5ECF6",
          "polar": {
           "angularaxis": {
            "gridcolor": "white",
            "linecolor": "white",
            "ticks": ""
           },
           "bgcolor": "#E5ECF6",
           "radialaxis": {
            "gridcolor": "white",
            "linecolor": "white",
            "ticks": ""
           }
          },
          "scene": {
           "xaxis": {
            "backgroundcolor": "#E5ECF6",
            "gridcolor": "white",
            "gridwidth": 2,
            "linecolor": "white",
            "showbackground": true,
            "ticks": "",
            "zerolinecolor": "white"
           },
           "yaxis": {
            "backgroundcolor": "#E5ECF6",
            "gridcolor": "white",
            "gridwidth": 2,
            "linecolor": "white",
            "showbackground": true,
            "ticks": "",
            "zerolinecolor": "white"
           },
           "zaxis": {
            "backgroundcolor": "#E5ECF6",
            "gridcolor": "white",
            "gridwidth": 2,
            "linecolor": "white",
            "showbackground": true,
            "ticks": "",
            "zerolinecolor": "white"
           }
          },
          "shapedefaults": {
           "line": {
            "color": "#2a3f5f"
           }
          },
          "ternary": {
           "aaxis": {
            "gridcolor": "white",
            "linecolor": "white",
            "ticks": ""
           },
           "baxis": {
            "gridcolor": "white",
            "linecolor": "white",
            "ticks": ""
           },
           "bgcolor": "#E5ECF6",
           "caxis": {
            "gridcolor": "white",
            "linecolor": "white",
            "ticks": ""
           }
          },
          "title": {
           "x": 0.05
          },
          "xaxis": {
           "automargin": true,
           "gridcolor": "white",
           "linecolor": "white",
           "ticks": "",
           "title": {
            "standoff": 15
           },
           "zerolinecolor": "white",
           "zerolinewidth": 2
          },
          "yaxis": {
           "automargin": true,
           "gridcolor": "white",
           "linecolor": "white",
           "ticks": "",
           "title": {
            "standoff": 15
           },
           "zerolinecolor": "white",
           "zerolinewidth": 2
          }
         }
        },
        "title": {
         "text": "Sentiment of the countries (top 30 by frequency)",
         "x": 0.5,
         "xanchor": "center",
         "y": 0.9
        }
       }
      },
      "text/html": "<div>                            <div id=\"51742836-1892-4bf9-b0bb-2df3af405b97\" class=\"plotly-graph-div\" style=\"height:525px; width:100%;\"></div>            <script type=\"text/javascript\">                require([\"plotly\"], function(Plotly) {                    window.PLOTLYENV=window.PLOTLYENV || {};                                    if (document.getElementById(\"51742836-1892-4bf9-b0bb-2df3af405b97\")) {                    Plotly.newPlot(                        \"51742836-1892-4bf9-b0bb-2df3af405b97\",                        [{\"geo\": \"geo\", \"hovertemplate\": \"<b>%{hovertext}</b><br><br>freq=%{marker.size}<br>lat=%{lat}<br>long=%{lon}<br>norm=%{marker.color}<extra></extra>\", \"hovertext\": [\"iran\", \"afghanistan\", \"china\", \"israel\", \"pakistan\", \"iraq\", \"haiti\", \"libya\", \"russia\", \"india\", \"uk\", \"london\", \"turkey\", \"kabul\", \"egypt\", \"france\", \"mexico\", \"jerusalem\", \"brazil\", \"florida\", \"germany\", \"honduras\", \"indonesia\", \"japan\", \"benghazi\", \"north korea\", \"gaza\", \"chicago\", \"cuba\", \"beijing\", \"paris\", \"northern ireland\", \"the west bank\", \"south africa\", \"california\", \"brussels\", \"belfast\", \"syria\", \"canada\", \"tehran\", \"vietnam\", \"spain\", \"baghdad\", \"copenhagen\", \"palau\", \"poland\", \"arizona\", \"yemen\", \"norway\", \"berlin\", \"singapore\", \"argentina\", \"moscow\", \"qatar\", \"korea\", \"ireland\", \"saudi arabia\", \"islamabad\", \"italy\", \"whitehaven\", \"australia\", \"texas\", \"chile\", \"colombia\", \"ukraine\", \"jordan\", \"uae\", \"greece\", \"hawaii\", \"kenya\", \"sudan\", \"kentucky\", \"sri lanka\", \"miami\", \"somalia\", \"cambridge\", \"georgetown\", \"tokyo\", \"bosnia\", \"alaska\", \"netherlands\", \"kandahar\", \"illinois\", \"rome\", \"connecticut\", \"nigeria\", \"venezuela\", \"south korea\", \"ecuador\", \"detroit\", \"nevada\", \"belgium\", \"tunisia\", \"liberia\", \"warsaw\", \"kurdistan\", \"manhattan\", \"uruguay\", \"seoul\", \"vienna\", \"angola\", \"bangladesh\", \"oslo\", \"uganda\", \"pittsburgh\", \"rwanda\", \"louisiana\", \"houston\", \"los angeles\", \"lithuania\", \"doha\", \"lahore\", \"switzerland\", \"istanbul\", \"kuwait\", \"athens\", \"pyongyang\", \"jamaica\", \"lebanon\", \"philippines\", \"bolivia\", \"westminster\", \"congo\", \"prague\", \"bogota\", \"nairobi\", \"new delhi\", \"moldova\", \"panama\", \"buenos aires\", \"new\\nyork\", \"ramallah\", \"arkansas\", \"taiwan\", \"sweden\", \"peru\", \"malaysia\", \"washington dc\", \"iceland\", \"krakow\", \"dubai\", \"new hampshire\", \"austria\", \"westchester county airport\", \"white plains\", \"westchester county\", \"khartoum\", \"peshawar\", \"montreal\", \"karachi\", \"kazakhstan\", \"guatemala\", \"dominican republic\", \"montevideo\", \"ethiopia\", \"wales\", \"thailand\", \"new zealand\", \"denver\", \"tanzania\", \"ottawa\", \"nyc\", \"reno\", \"holland\", \"orange county\", \"uzbekistan\", \"zambia\", \"costa rica\", \"delaware\", \"denmark\", \"hillsborough\", \"brasilia\", \"hollywood\", \"darfur\", \"hebron\", \"mexico city\", \"algeria\", \"mosul\", \"portugal\", \"kampala\", \"indiana\", \"alabama\", \"el salvador\", \"seattle\", \"kansas\", \"lisbon\", \"kosovo\", \"sirte\", \"tunis\", \"abu dhabi\", \"azerbaijan\", \"pretoria\", \"bali\", \"corfu\", \"trieste\", \"macedonia\", \"san francisco\", \"durban\", \"guinea\", \"north dakota\", \"havana\", \"riyadh\", \"czech republic\", \"stockholm\", \"hamden\", \"myanmar\", \"mongolia\", \"albania\", \"maldives\", \"puerto rico\", \"colombo\", \"boston\", \"santiago\", \"canberra\", \"san antonio\", \"lockerbie\", \"scotland\", \"quetta\", \"colorado\", \"okinawa\", \"tibet\", \"hong kong\", \"romania\", \"chappaqua\", \"waterloo\", \"ghana\", \"armagh\", \"luxembourg\", \"brighton\", \"punjab\", \"syracuse\", \"alexandria\", \"louisville\", \"kyrgyzstan\", \"tallin\", \"juba\", \"ciudad juarez\", \"luxor\", \"cancun\", \"madrid\", \"des moines\", \"arlington heights\", \"rhode island\", \"lviv\", \"cameroon\", \"springfield\", \"tampa\", \"tucson\", \"bagram\", \"annapolis\", \"mecca\", \"ankara\", \"gainesville\", \"finland\", \"greenland\", \"malta\", \"san diego\", \"sebha\", \"serbia\", \"sharjah\", \"hama\", \"derna\", \"addis\", \"ajdabiya\", \"kufra\", \"tripolitania\", \"cannes\", \"rochester\", \"philadelphia\", \"hamptons\", \"cincinnati\", \"kirkuk\", \"madagascar\", \"porto alegre\", \"oak hill's\", \"nangarhar province\", \"florence\", \"hunan\", \"bushehr\", \"baluchistan\", \"sistan\", \"kordestan\", \"mazandaran\", \"hainan island\", \"calcutta\", \"garten\", \"zimbabwe\", \"bahamas\", \"bangkok\", \"guam\", \"honolulu\", \"cambodia\", \"new orleans\", \"jakarta\", \"al anbar\", \"saigon\", \"denton\", \"latvia\", \"asuncion\", \"bariloche\", \"reykjavik\", \"wellington\", \"jericho\", \"washington heights\", \"wirral west\", \"the green zone\", \"west lafayette\", \"jedwabne\", \"baluchistan province\", \"mumbai\", \"new smyrna\", \"wayne\", \"slovenia\", \"charlottesville\", \"fairfax county\", \"hampton\", \"nassau county\", \"xinjiang\", \"yerevan\", \"chicago-kent\", \"esfahan\", \"rotterdam\", \"shenzhen\", \"kathmandu\", \"nepal\", \"ghulja\", \"lausanne\", \"helmand province\", \"ann arbor\", \"west africa\", \"damascus\", \"perth\", \"senegal\", \"nagoya\", \"xinxiang\", \"oman\", \"white haven\", \"faulkner county\", \"frankfurt\", \"u.s.-eu\", \"forkhill\", \"craigavon\", \"newry\", \"keady\", \"bronx\", \"ithaca\", \"ramat shlomo\", \"guinea-bissau\", \"masada\", \"bruges\", \"venice\", \"qum\", \"nicaragua\", \"estonia\", \"south sudan\", \"olathe\", \"montgomery county\", \"coionia morelos\", \"el paso\", \"ponce\", \"chiapas\", \"chihuahua city\", \"hangzhou\", \"taipei\", \"taixing\", \"jiangsu\", \"najaf\", \"diego garcia\", \"blue nile\", \"aceh\", \"malvern\", \"turkmenistan\", \"tajikistan\", \"naperville\", \"north lawndale\", \"douglas park\", \"st. charles\", \"muskoka\", \"transnistrian\", \"chisinau\", \"belarus\", \"sao paulo\", \"south hampton\", \"jalalabad\", \"messina\", \"arad\", \"ramadi\", \"fallujah\", \"johannesburg\", \"bridgewater\", \"burkina faso\", \"long island\", \"indianapolis\", \"san clemente\", \"guyana\", \"armenia\", \"vail\", \"herat\", \"harmarville\", \"mount herzl\", \"munich\", \"elyria\", \"haifa\", \"sochi\", \"kunduz\", \"muridke\", \"badakhshan\", \"bloomsbury\", \"suriname\", \"medina\", \"nuremberg\", \"potomac\", \"las vegas\", \"chennai\", \"bihar\", \"amsterdam\", \"cedarville\", \"dupage county's\", \"wisconsin\", \"rockford\", \"quito\", \"guayaquil\", \"hungary\", \"budapest\", \"strasbourg\", \"monterrey\", \"southampton\", \"dallas\", \"amherst\", \"monaco\", \"dachau\", \"bloomington\", \"mahabad\", \"cleveland\", \"west chester\", \"astoria\", \"toledo\", \"northwest ohio\", \"sparta\", \"slovakia\", \"bahrain\", \"birmingham\", \"brooklyn\", \"nablus\", \"khoy\", \"western azerbaijan\", \"malawi\", \"helsinki\", \"nauru\", \"east timor\", \"bonn\", \"lund\", \"rambouillet\", \"yugoslavia\", \"des plaines\", \"cote d'ivoire\", \"timor\", \"greenwich village\"], \"lat\": [32.0, 33.0, 39.92, 31.0, 30.0, 33.0, 18.53, 32.87, 55.75, 28.61, 51.5, 51.51, 39.0, 34.53, 26.0, 47.0, 19.43, 31.78, -15.78, 28.1, 51.0, 14.1, -6.17, 35.68, 32.12, 39.03, 31.52, 41.82, 22.0, 39.91, 48.86, 54.6, 32.0, -30.0, 37.0, 50.85, 54.6, 33.5, 45.4, 35.69, 16.0, 40.0, 33.33, 55.68, 7.5, 52.0, 34.0, 15.35, 59.93, 52.52, 1.28, -34.6, 55.76, 25.3, 38.32, 53.42, 24.65, 33.69, 41.9, 54.55, -35.31, 31.0, -34.0, 4.0, 49.0, 31.95, 24.0, 37.97, 21.31, -1.27, 15.63, 37.5, 6.93, 25.78, 2.03, 52.21, 38.91, 35.69, 43.87, 65.0, 52.37, 31.62, 41.28, 41.88, 41.6, 8.0, 7.0, 36.0, -2.0, 42.33, 39.0, 50.83, 36.82, 6.32, 52.23, 37.0, 40.78, -34.88, 37.56, 48.2, -12.5, 23.76, 59.91, 1.0, 40.44, -1.95, 31.0, 29.76, 34.05, 54.68, 25.29, 31.55, 46.95, 41.01, 29.37, 37.98, 39.02, 17.97, 33.83, 13.0, -16.71, 51.49, -4.32, 50.08, 4.71, -1.29, 28.61, 47.0, 8.97, -34.6, 53.96, 31.9, 34.8, 24.0, 59.35, -12.04, 2.5, 47.33, 64.13, 50.06, 25.26, 51.06, 47.33, 41.07, 41.04, 41.15, 15.5, 34.02, 45.51, 24.86, 51.17, 14.63, 19.0, -34.88, 8.0, 51.48, 13.75, 55.5, 39.74, -6.0, 45.42, 40.71, 39.52, 52.25, 33.67, 41.32, -15.42, 9.93, 39.0, 55.72, 53.41, -15.79, 34.1, 13.0, 31.53, 19.43, 28.0, 36.34, 38.77, 0.31, 40.0, 32.7, 13.68, 47.61, 38.45, 38.73, 42.58, 31.2, 36.81, 24.47, 40.4, -25.75, -8.34, 39.58, 45.63, 42.0, 37.78, -29.88, 9.52, 47.0, 23.14, 24.63, 49.75, 59.33, 41.4, 19.75, 48.0, 41.32, 3.2, 18.2, 6.93, 42.36, -33.45, -35.29, 29.43, 55.12, 55.95, 30.18, 39.0, 26.5, 31.2, 22.3, 44.42, 41.16, 50.68, 5.55, 54.35, 49.81, 50.83, 31.0, 43.04, 31.2, 38.22, 41.0, 59.44, 4.85, 31.74, 25.68, 21.16, 40.42, 44.08, 42.08, 41.7, 49.83, 3.87, 42.1, 27.97, 32.22, 34.94, 38.98, 21.42, 39.93, 29.65, 60.17, 64.17, 35.9, 32.72, 27.04, 44.0, 25.36, 35.13, 32.5, 9.03, 30.76, 24.18, 32.9, 43.55, 43.17, 39.95, 40.88, 39.1, 35.47, -20.0, -30.03, 37.98, 34.25, 43.78, 28.11, 28.97, 27.42, 31.0, 35.31, 36.57, 19.2, 22.57, 63.64, -20.0, 24.25, 13.75, 13.5, 21.31, 11.55, 29.95, -6.2, 32.9, 10.8, 33.22, 56.95, 19.69, -41.15, 64.15, -41.29, 31.87, 40.84, 53.38, 33.31, 40.7, 53.28, 27.7, 18.98, 38.42, 42.28, 46.05, 38.03, 38.87, 37.03, 40.73, 41.0, 40.18, 41.88, 32.64, 51.92, 22.54, 27.72, 28.17, 43.91, 46.52, 31.0, 42.28, 12.0, 33.51, -31.95, 14.67, 35.18, 35.3, 21.0, 38.55, 35.16, 50.12, 40.0, 54.08, 54.45, 54.18, 54.25, 40.84, 38.37, 31.81, 11.87, 31.32, 51.21, 45.44, 34.64, 12.1, 59.0, 4.85, 38.88, 39.14, 18.75, 31.76, 18.01, 16.42, 28.64, 30.27, 25.07, 32.16, 32.9, 32.0, -7.31, 12.0, 5.55, 52.1, 37.97, 38.55, 41.78, 41.86, 55.78, 38.79, 45.17, 46.83, 47.02, 53.0, -23.55, 42.88, 34.43, 38.18, 46.36, 33.42, 33.35, -26.2, -35.01, 12.33, 47.25, 39.77, 32.9, 5.0, 40.18, 39.64, 34.34, 40.53, 31.77, 48.13, 41.36, 32.82, 43.59, 36.73, 31.8, 38.0, 51.53, 4.0, 24.47, 49.45, 39.2, 36.17, 13.08, 25.4, 52.37, 39.74, 41.83, 44.5, 42.27, -0.23, -2.18, 47.0, 47.49, 48.58, 25.67, 50.9, 32.78, 42.37, 43.73, 48.27, 39.17, 36.76, 41.48, 39.95, 51.52, 39.83, 41.0, 37.08, 48.15, 26.22, 52.48, 40.62, 32.22, 38.55, 37.55, -13.95, 60.17, -0.53, -8.55, 50.73, 55.7, 48.64, 44.82, 42.67, 6.85, -9.23, 40.73], \"legendgroup\": \"\", \"lon\": [51.42, 65.0, 116.38, 35.0, 70.0, 44.0, -72.42, 13.18, 37.62, 77.21, -0.12, -0.13, 35.0, 69.18, 30.0, 2.0, -102.0, 35.22, -52.0, -81.6, 9.0, -87.22, 106.82, 139.77, 20.07, 125.75, 34.45, -87.7, -82.38, 116.4, 2.35, -5.92, 35.38, 25.0, -120.0, 4.35, -5.93, 36.3, -110.0, 51.39, 105.85, -4.0, 44.38, 12.57, 134.5, 20.0, -112.0, 44.21, 8.0, 13.4, 103.83, -64.0, 37.62, 51.25, 127.23, -8.0, 46.77, 73.06, 12.0, -3.59, 133.0, -100.0, -71.0, -74.07, 32.0, 35.93, 54.0, 23.72, -157.8, 36.8, 32.53, -85.0, 79.87, -80.21, 45.35, 0.12, -77.07, 139.69, 18.42, -150.0, 4.88, 65.72, -88.38, 12.5, -72.7, 7.48, -66.92, 128.0, -78.35, -83.05, -117.0, 4.0, 10.18, -10.8, 21.02, 43.0, -73.97, -56.17, 126.97, 16.37, 13.33, 90.0, 10.75, 32.0, -79.98, 29.87, -92.0, -95.38, -118.25, 25.32, 51.53, 74.34, 7.45, 28.95, 47.75, 23.73, 125.74, -76.79, 35.53, 122.0, -64.67, -0.14, 15.32, 14.42, -74.07, 36.82, 77.23, 28.92, -80.0, -58.38, -1.08, 35.2, -92.2, 121.0, 16.0, -77.03, 112.5, -121.62, -21.93, 19.94, 55.3, -1.31, 13.33, -73.71, -73.78, -73.77, 32.56, 71.58, -73.56, 67.01, 71.43, -90.5, -70.67, -56.18, 38.0, -3.18, 100.48, 11.75, -104.99, 35.0, -75.69, -74.01, -119.83, 4.67, -117.78, 63.0, 28.28, -84.08, -75.5, 10.0, -1.5, -47.88, -118.33, 25.0, 35.09, -99.13, 2.0, 43.13, -9.15, 32.58, -86.0, -86.7, -89.19, -122.33, -96.53, -9.15, 21.0, 16.59, 10.18, 54.37, 49.88, 28.19, 115.09, 19.87, 13.8, 21.43, -122.42, 31.05, -13.7, -100.0, -82.36, 46.72, 14.47, 18.07, -72.92, 96.1, 106.0, 19.82, 73.22, -66.5, 79.84, -71.06, -70.67, 149.13, -98.49, -3.36, -3.19, 67.0, -105.55, 128.0, 88.8, 114.2, 25.0, -73.77, 4.41, -1.05, -6.65, 6.13, -0.14, 74.0, -76.13, 29.92, -85.76, 74.6, 24.75, 31.6, -106.49, 32.65, -86.85, -3.72, -95.69, -87.98, -71.5, 24.01, 11.52, -72.59, -82.48, -110.97, 69.25, -76.49, 39.82, 32.85, -82.33, 24.93, -51.73, 14.52, -117.16, 14.43, 20.47, 55.39, 36.75, 22.67, 38.74, 20.23, 23.28, 13.18, 7.01, -77.61, -75.16, -72.5, -84.52, 44.32, 47.0, -51.23, -81.15, 70.5, 11.25, 112.98, 50.83, 64.5, 62.0, 47.0, 53.06, 109.7, 88.36, 9.52, 30.0, -77.33, 100.49, 144.8, -157.86, 104.92, -90.08, 106.82, 41.6, 106.65, -97.15, 24.1, 145.4, -71.3, -21.93, 174.78, 35.44, -73.94, -3.16, 44.39, -75.21, 22.3, 65.7, 72.83, 27.14, -83.26, 14.5, -78.48, -77.22, -76.36, -73.63, 85.0, 44.51, -87.64, 51.67, 4.5, 114.06, 85.32, 84.25, 81.28, 6.63, 64.0, -83.75, 3.0, 36.29, 115.86, -17.42, 136.9, 113.93, 57.0, -90.35, -92.31, 8.68, -100.0, -6.45, -6.39, -6.35, -6.7, -73.89, 20.72, 35.22, -15.6, 35.35, 3.22, 12.34, 50.88, -86.23, 24.75, 30.0, -94.82, -77.2, -99.07, -106.49, -66.61, -92.42, -106.09, 120.15, 121.52, 120.03, 119.8, 44.33, 72.41, 37.25, 95.32, -2.33, 58.33, 68.8, -88.15, -87.71, -4.05, -90.51, -79.33, 29.62, 28.84, 27.0, -46.63, -70.96, 70.45, 15.55, 21.8, 43.31, 43.78, 28.05, 138.76, -1.83, 18.95, -86.16, -118.5, -58.75, 44.52, -106.37, 62.2, -79.85, 35.18, 11.57, -82.11, 34.98, 39.72, 68.87, 74.25, 71.0, -0.12, -56.0, 39.6, 11.08, -79.49, -115.14, 80.27, 85.1, 4.9, -83.81, -88.08, -89.5, -88.96, -78.52, -79.88, 19.25, 19.05, 7.75, -100.3, -1.4, -96.81, -72.52, 7.42, 11.47, -86.52, 45.72, -81.67, -75.6, -0.13, -4.0, -84.0, 22.42, 17.12, 50.58, -1.9, -73.99, 35.26, 44.95, 45.08, 33.7, 24.94, 166.92, 125.56, 7.1, 13.2, 1.83, 20.45, -88.03, -5.3, 124.93, -74.0], \"marker\": {\"color\": [-0.49504950495049505, 0.28, 1.2823529411764707, 2.4246575342465753, 1.4714285714285715, -1.1176470588235294, 1.619047619047619, -0.4909090909090909, -0.018518518518518517, 2.4423076923076925, -0.12195121951219512, 0.12195121951219512, 0.5454545454545454, 0.6060606060606061, -0.2222222222222222, 0.04, 0.88, 0.5, 1.7083333333333333, 0.6086956521739131, -0.6086956521739131, 0.22727272727272727, 4.238095238095238, 0.2857142857142857, -5.7, -1.65, -1.263157894736842, 1.1666666666666667, 1.0, 1.5555555555555556, 0.5882352941176471, 6.9411764705882355, 1.4705882352941178, 2.5625, -0.125, -0.5, 1.4375, -1.0666666666666667, 0.2, -1.0, 1.8571428571428572, 0.38461538461538464, -1.5384615384615385, -0.7692307692307693, 11.0, -1.3846153846153846, 0.23076923076923078, -2.0833333333333335, 1.0833333333333333, 2.0833333333333335, 2.5833333333333335, 0.9166666666666666, 1.75, 0.9090909090909091, 0.18181818181818182, 1.8181818181818181, -0.7, 2.7, 0.3, 0.2222222222222222, 1.7777777777777777, -0.5555555555555556, -1.0, 2.2222222222222223, 0.4444444444444444, -0.625, 0.625, -2.0, -0.25, 2.375, 1.625, 1.875, -20.428571428571427, -0.14285714285714285, -0.2857142857142857, 2.857142857142857, -0.42857142857142855, 0.7142857142857143, -0.14285714285714285, 0.5714285714285714, 0.42857142857142855, -2.7142857142857144, -0.2857142857142857, -0.16666666666666666, 0.16666666666666666, 5.166666666666667, -0.8333333333333334, -2.1666666666666665, 1.3333333333333333, 3.8333333333333335, 0.6666666666666666, 0.6666666666666666, 6.0, -1.0, 1.8, -4.0, -1.8, 0.8, -0.8, 1.6, 0.4, 1.6, 2.4, 1.8, -1.4, 1.6, -2.0, 0.4, -1.2, 1.2, -0.25, 0.5, 2.25, 0.25, -1.75, -0.25, -0.5, 0.0, 0.0, 0.0, 1.5, -0.25, -9.5, 0.75, 1.25, 2.0, 3.0, 3.0, 0.75, 0.75, 1.5, 2.0, 0.0, -1.0, 1.25, 0.0, 0.5, 2.0, 0.5, 3.0, 1.25, 1.5, -2.0, 0.0, 0.0, 1.3333333333333333, 1.3333333333333333, -1.3333333333333333, 0.6666666666666666, 1.6666666666666667, 1.0, 0.6666666666666666, 0.6666666666666666, 1.0, 5.666666666666667, -2.0, 0.0, 0.6666666666666666, -1.0, 2.0, 0.6666666666666666, 1.3333333333333333, -2.0, 0.6666666666666666, 2.0, 0.6666666666666666, 0.3333333333333333, -0.6666666666666666, 1.3333333333333333, 0.6666666666666666, 0.3333333333333333, 2.0, 1.6666666666666667, -2.3333333333333335, 1.0, -1.6666666666666667, 2.0, 0.0, -0.6666666666666666, -1.0, -0.3333333333333333, -1.0, 0.6666666666666666, -0.6666666666666666, 1.6666666666666667, 3.3333333333333335, 0.3333333333333333, 0.5, 1.5, -0.5, 1.0, 3.0, 1.0, 0.0, 0.0, -3.5, 0.0, 2.0, 1.5, 1.0, -3.0, 0.5, 0.0, 4.5, 0.5, -0.5, 3.5, 4.5, 1.5, 1.0, -4.0, -1.5, 3.0, 2.0, -1.5, -3.5, -3.0, 1.5, 3.5, 0.0, 1.5, -1.0, 3.5, 0.0, 0.0, 2.5, -2.5, 1.0, 5.0, 1.0, -2.5, -3.0, 0.0, 13.0, 0.5, -4.0, -3.0, -1.0, 0.5, 4.0, 1.5, 1.0, 6.5, 2.0, 5.0, -3.5, -1.0, -1.0, -2.0, 3.0, 1.5, -2.0, 0.0, 1.0, 0.0, 0.0, 2.0, -6.0, 0.0, 1.0, 0.0, -1.0, 0.0, -2.0, 0.0, 0.0, 0.0, 0.0, 2.0, 0.0, -7.0, 5.0, -3.0, 8.0, 0.0, 2.0, 0.0, 0.0, -4.0, 0.0, 0.0, 0.0, 0.0, 0.0, -5.0, 0.0, 2.0, 2.0, 0.0, 0.0, 1.0, 0.0, -3.0, 2.0, -2.0, -4.0, 2.0, -1.0, 6.0, 3.0, 0.0, 0.0, 2.0, 3.0, 1.0, 0.0, 12.0, -9.0, 2.0, -1.0, 0.0, 0.0, -1.0, -2.0, 5.0, 0.0, 7.0, 0.0, -3.0, 1.0, 0.0, 1.0, 1.0, 2.0, 2.0, 0.0, 4.0, 1.0, 0.0, -1.0, 3.0, 2.0, 5.0, 2.0, 3.0, 0.0, 0.0, 0.0, 0.0, 8.0, -1.0, -4.0, -4.0, -3.0, 1.0, 0.0, -2.0, 0.0, -3.0, 3.0, 3.0, 2.0, 0.0, 2.0, 1.0, 0.0, -3.0, -9.0, -7.0, -9.0, 3.0, -5.0, -1.0, -4.0, -2.0, -2.0, 0.0, 2.0, 12.0, 10.0, 0.0, 4.0, 4.0, 4.0, 0.0, 3.0, 4.0, 4.0, 3.0, 4.0, 0.0, 3.0, 0.0, -5.0, 2.0, 0.0, 3.0, 3.0, -1.0, 0.0, 0.0, 0.0, 0.0, 0.0, 0.0, -4.0, -2.0, 2.0, 0.0, -3.0, -3.0, -4.0, 0.0, 0.0, 0.0, 0.0, 0.0, 7.0, 1.0, -2.0, 0.0, 2.0, 0.0, 5.0, 0.0, 1.0, 6.0, 3.0, 1.0, 0.0, 5.0, 2.0, 4.0, 1.0, -2.0, -11.0, 0.0, -3.0, 1.0, -1.0, -1.0, 0.0, -2.0, -2.0, 0.0, 0.0, -2.0, -5.0, -3.0, 0.0, 1.0, 0.0, 0.0, 1.0, -7.0, -7.0, 2.0, 0.0, 0.0, 8.0, 2.0, -2.0, -3.0, 0.0, -1.0, 0.0, 0.0, 0.0], \"coloraxis\": \"coloraxis\", \"size\": [101.0, 100.0, 85.0, 73.0, 70.0, 68.0, 63.0, 55.0, 54.0, 52.0, 41.0, 41.0, 33.0, 33.0, 27.0, 25.0, 25.0, 24.0, 24.0, 23.0, 23.0, 22.0, 21.0, 21.0, 20.0, 20.0, 19.0, 18.0, 18.0, 18.0, 17.0, 17.0, 17.0, 16.0, 16.0, 16.0, 16.0, 15.0, 15.0, 14.0, 14.0, 13.0, 13.0, 13.0, 13.0, 13.0, 13.0, 12.0, 12.0, 12.0, 12.0, 12.0, 12.0, 11.0, 11.0, 11.0, 10.0, 10.0, 10.0, 9.0, 9.0, 9.0, 9.0, 9.0, 9.0, 8.0, 8.0, 8.0, 8.0, 8.0, 8.0, 8.0, 7.0, 7.0, 7.0, 7.0, 7.0, 7.0, 7.0, 7.0, 7.0, 7.0, 7.0, 6.0, 6.0, 6.0, 6.0, 6.0, 6.0, 6.0, 6.0, 6.0, 5.0, 5.0, 5.0, 5.0, 5.0, 5.0, 5.0, 5.0, 5.0, 5.0, 5.0, 5.0, 5.0, 5.0, 5.0, 5.0, 5.0, 5.0, 4.0, 4.0, 4.0, 4.0, 4.0, 4.0, 4.0, 4.0, 4.0, 4.0, 4.0, 4.0, 4.0, 4.0, 4.0, 4.0, 4.0, 4.0, 4.0, 4.0, 4.0, 4.0, 4.0, 4.0, 4.0, 4.0, 4.0, 4.0, 4.0, 4.0, 4.0, 4.0, 4.0, 3.0, 3.0, 3.0, 3.0, 3.0, 3.0, 3.0, 3.0, 3.0, 3.0, 3.0, 3.0, 3.0, 3.0, 3.0, 3.0, 3.0, 3.0, 3.0, 3.0, 3.0, 3.0, 3.0, 3.0, 3.0, 3.0, 3.0, 3.0, 3.0, 3.0, 3.0, 3.0, 3.0, 3.0, 3.0, 3.0, 3.0, 3.0, 3.0, 3.0, 3.0, 3.0, 3.0, 3.0, 2.0, 2.0, 2.0, 2.0, 2.0, 2.0, 2.0, 2.0, 2.0, 2.0, 2.0, 2.0, 2.0, 2.0, 2.0, 2.0, 2.0, 2.0, 2.0, 2.0, 2.0, 2.0, 2.0, 2.0, 2.0, 2.0, 2.0, 2.0, 2.0, 2.0, 2.0, 2.0, 2.0, 2.0, 2.0, 2.0, 2.0, 2.0, 2.0, 2.0, 2.0, 2.0, 2.0, 2.0, 2.0, 2.0, 2.0, 2.0, 2.0, 2.0, 2.0, 2.0, 2.0, 2.0, 2.0, 2.0, 2.0, 2.0, 2.0, 2.0, 2.0, 2.0, 2.0, 2.0, 2.0, 2.0, 2.0, 2.0, 1.0, 1.0, 1.0, 1.0, 1.0, 1.0, 1.0, 1.0, 1.0, 1.0, 1.0, 1.0, 1.0, 1.0, 1.0, 1.0, 1.0, 1.0, 1.0, 1.0, 1.0, 1.0, 1.0, 1.0, 1.0, 1.0, 1.0, 1.0, 1.0, 1.0, 1.0, 1.0, 1.0, 1.0, 1.0, 1.0, 1.0, 1.0, 1.0, 1.0, 1.0, 1.0, 1.0, 1.0, 1.0, 1.0, 1.0, 1.0, 1.0, 1.0, 1.0, 1.0, 1.0, 1.0, 1.0, 1.0, 1.0, 1.0, 1.0, 1.0, 1.0, 1.0, 1.0, 1.0, 1.0, 1.0, 1.0, 1.0, 1.0, 1.0, 1.0, 1.0, 1.0, 1.0, 1.0, 1.0, 1.0, 1.0, 1.0, 1.0, 1.0, 1.0, 1.0, 1.0, 1.0, 1.0, 1.0, 1.0, 1.0, 1.0, 1.0, 1.0, 1.0, 1.0, 1.0, 1.0, 1.0, 1.0, 1.0, 1.0, 1.0, 1.0, 1.0, 1.0, 1.0, 1.0, 1.0, 1.0, 1.0, 1.0, 1.0, 1.0, 1.0, 1.0, 1.0, 1.0, 1.0, 1.0, 1.0, 1.0, 1.0, 1.0, 1.0, 1.0, 1.0, 1.0, 1.0, 1.0, 1.0, 1.0, 1.0, 1.0, 1.0, 1.0, 1.0, 1.0, 1.0, 1.0, 1.0, 1.0, 1.0, 1.0, 1.0, 1.0, 1.0, 1.0, 1.0, 1.0, 1.0, 1.0, 1.0, 1.0, 1.0, 1.0, 1.0, 1.0, 1.0, 1.0, 1.0, 1.0, 1.0, 1.0, 1.0, 1.0, 1.0, 1.0, 1.0, 1.0, 1.0, 1.0, 1.0, 1.0, 1.0, 1.0, 1.0, 1.0, 1.0, 1.0, 1.0, 1.0, 1.0, 1.0, 1.0, 1.0, 1.0, 1.0, 1.0, 1.0, 1.0, 1.0, 1.0, 1.0, 1.0, 1.0, 1.0, 1.0, 1.0, 1.0, 1.0, 1.0, 1.0, 1.0, 1.0], \"sizemode\": \"area\", \"sizeref\": 0.2525, \"symbol\": \"circle\"}, \"mode\": \"markers\", \"name\": \"\", \"showlegend\": false, \"type\": \"scattergeo\"}],                        {\"coloraxis\": {\"colorbar\": {\"title\": {\"text\": \"norm\"}}, \"colorscale\": [[0.0, \"rgb(255,0,0)\"], [1.0, \"rgb(0,0,255)\"]]}, \"geo\": {\"center\": {}, \"domain\": {\"x\": [0.0, 1.0], \"y\": [0.0, 1.0]}}, \"legend\": {\"itemsizing\": \"constant\", \"tracegroupgap\": 0}, \"margin\": {\"b\": 0, \"l\": 50, \"r\": 50, \"t\": 0}, \"template\": {\"data\": {\"bar\": [{\"error_x\": {\"color\": \"#2a3f5f\"}, \"error_y\": {\"color\": \"#2a3f5f\"}, \"marker\": {\"line\": {\"color\": \"#E5ECF6\", \"width\": 0.5}}, \"type\": \"bar\"}], \"barpolar\": [{\"marker\": {\"line\": {\"color\": \"#E5ECF6\", \"width\": 0.5}}, \"type\": \"barpolar\"}], \"carpet\": [{\"aaxis\": {\"endlinecolor\": \"#2a3f5f\", \"gridcolor\": \"white\", \"linecolor\": \"white\", \"minorgridcolor\": \"white\", \"startlinecolor\": \"#2a3f5f\"}, \"baxis\": {\"endlinecolor\": \"#2a3f5f\", \"gridcolor\": \"white\", \"linecolor\": \"white\", \"minorgridcolor\": \"white\", \"startlinecolor\": \"#2a3f5f\"}, \"type\": \"carpet\"}], \"choropleth\": [{\"colorbar\": {\"outlinewidth\": 0, \"ticks\": \"\"}, \"type\": \"choropleth\"}], \"contour\": [{\"colorbar\": {\"outlinewidth\": 0, \"ticks\": \"\"}, \"colorscale\": [[0.0, \"#0d0887\"], [0.1111111111111111, \"#46039f\"], [0.2222222222222222, \"#7201a8\"], [0.3333333333333333, \"#9c179e\"], [0.4444444444444444, \"#bd3786\"], [0.5555555555555556, \"#d8576b\"], [0.6666666666666666, \"#ed7953\"], [0.7777777777777778, \"#fb9f3a\"], [0.8888888888888888, \"#fdca26\"], [1.0, \"#f0f921\"]], \"type\": \"contour\"}], \"contourcarpet\": [{\"colorbar\": {\"outlinewidth\": 0, \"ticks\": \"\"}, \"type\": \"contourcarpet\"}], \"heatmap\": [{\"colorbar\": {\"outlinewidth\": 0, \"ticks\": \"\"}, \"colorscale\": [[0.0, \"#0d0887\"], [0.1111111111111111, \"#46039f\"], [0.2222222222222222, \"#7201a8\"], [0.3333333333333333, \"#9c179e\"], [0.4444444444444444, \"#bd3786\"], [0.5555555555555556, \"#d8576b\"], [0.6666666666666666, \"#ed7953\"], [0.7777777777777778, \"#fb9f3a\"], [0.8888888888888888, \"#fdca26\"], [1.0, \"#f0f921\"]], \"type\": \"heatmap\"}], \"heatmapgl\": [{\"colorbar\": {\"outlinewidth\": 0, \"ticks\": \"\"}, \"colorscale\": [[0.0, \"#0d0887\"], [0.1111111111111111, \"#46039f\"], [0.2222222222222222, \"#7201a8\"], [0.3333333333333333, \"#9c179e\"], [0.4444444444444444, \"#bd3786\"], [0.5555555555555556, \"#d8576b\"], [0.6666666666666666, \"#ed7953\"], [0.7777777777777778, \"#fb9f3a\"], [0.8888888888888888, \"#fdca26\"], [1.0, \"#f0f921\"]], \"type\": \"heatmapgl\"}], \"histogram\": [{\"marker\": {\"colorbar\": {\"outlinewidth\": 0, \"ticks\": \"\"}}, \"type\": \"histogram\"}], \"histogram2d\": [{\"colorbar\": {\"outlinewidth\": 0, \"ticks\": \"\"}, \"colorscale\": [[0.0, \"#0d0887\"], [0.1111111111111111, \"#46039f\"], [0.2222222222222222, \"#7201a8\"], [0.3333333333333333, \"#9c179e\"], [0.4444444444444444, \"#bd3786\"], [0.5555555555555556, \"#d8576b\"], [0.6666666666666666, \"#ed7953\"], [0.7777777777777778, \"#fb9f3a\"], [0.8888888888888888, \"#fdca26\"], [1.0, \"#f0f921\"]], \"type\": \"histogram2d\"}], \"histogram2dcontour\": [{\"colorbar\": {\"outlinewidth\": 0, \"ticks\": \"\"}, \"colorscale\": [[0.0, \"#0d0887\"], [0.1111111111111111, \"#46039f\"], [0.2222222222222222, \"#7201a8\"], [0.3333333333333333, \"#9c179e\"], [0.4444444444444444, \"#bd3786\"], [0.5555555555555556, \"#d8576b\"], [0.6666666666666666, \"#ed7953\"], [0.7777777777777778, \"#fb9f3a\"], [0.8888888888888888, \"#fdca26\"], [1.0, \"#f0f921\"]], \"type\": \"histogram2dcontour\"}], \"mesh3d\": [{\"colorbar\": {\"outlinewidth\": 0, \"ticks\": \"\"}, \"type\": \"mesh3d\"}], \"parcoords\": [{\"line\": {\"colorbar\": {\"outlinewidth\": 0, \"ticks\": \"\"}}, \"type\": \"parcoords\"}], \"pie\": [{\"automargin\": true, \"type\": \"pie\"}], \"scatter\": [{\"marker\": {\"colorbar\": {\"outlinewidth\": 0, \"ticks\": \"\"}}, \"type\": \"scatter\"}], \"scatter3d\": [{\"line\": {\"colorbar\": {\"outlinewidth\": 0, \"ticks\": \"\"}}, \"marker\": {\"colorbar\": {\"outlinewidth\": 0, \"ticks\": \"\"}}, \"type\": \"scatter3d\"}], \"scattercarpet\": [{\"marker\": {\"colorbar\": {\"outlinewidth\": 0, \"ticks\": \"\"}}, \"type\": \"scattercarpet\"}], \"scattergeo\": [{\"marker\": {\"colorbar\": {\"outlinewidth\": 0, \"ticks\": \"\"}}, \"type\": \"scattergeo\"}], \"scattergl\": [{\"marker\": {\"colorbar\": {\"outlinewidth\": 0, \"ticks\": \"\"}}, \"type\": \"scattergl\"}], \"scattermapbox\": [{\"marker\": {\"colorbar\": {\"outlinewidth\": 0, \"ticks\": \"\"}}, \"type\": \"scattermapbox\"}], \"scatterpolar\": [{\"marker\": {\"colorbar\": {\"outlinewidth\": 0, \"ticks\": \"\"}}, \"type\": \"scatterpolar\"}], \"scatterpolargl\": [{\"marker\": {\"colorbar\": {\"outlinewidth\": 0, \"ticks\": \"\"}}, \"type\": \"scatterpolargl\"}], \"scatterternary\": [{\"marker\": {\"colorbar\": {\"outlinewidth\": 0, \"ticks\": \"\"}}, \"type\": \"scatterternary\"}], \"surface\": [{\"colorbar\": {\"outlinewidth\": 0, \"ticks\": \"\"}, \"colorscale\": [[0.0, \"#0d0887\"], [0.1111111111111111, \"#46039f\"], [0.2222222222222222, \"#7201a8\"], [0.3333333333333333, \"#9c179e\"], [0.4444444444444444, \"#bd3786\"], [0.5555555555555556, \"#d8576b\"], [0.6666666666666666, \"#ed7953\"], [0.7777777777777778, \"#fb9f3a\"], [0.8888888888888888, \"#fdca26\"], [1.0, \"#f0f921\"]], \"type\": \"surface\"}], \"table\": [{\"cells\": {\"fill\": {\"color\": \"#EBF0F8\"}, \"line\": {\"color\": \"white\"}}, \"header\": {\"fill\": {\"color\": \"#C8D4E3\"}, \"line\": {\"color\": \"white\"}}, \"type\": \"table\"}]}, \"layout\": {\"annotationdefaults\": {\"arrowcolor\": \"#2a3f5f\", \"arrowhead\": 0, \"arrowwidth\": 1}, \"autotypenumbers\": \"strict\", \"coloraxis\": {\"colorbar\": {\"outlinewidth\": 0, \"ticks\": \"\"}}, \"colorscale\": {\"diverging\": [[0, \"#8e0152\"], [0.1, \"#c51b7d\"], [0.2, \"#de77ae\"], [0.3, \"#f1b6da\"], [0.4, \"#fde0ef\"], [0.5, \"#f7f7f7\"], [0.6, \"#e6f5d0\"], [0.7, \"#b8e186\"], [0.8, \"#7fbc41\"], [0.9, \"#4d9221\"], [1, \"#276419\"]], \"sequential\": [[0.0, \"#0d0887\"], [0.1111111111111111, \"#46039f\"], [0.2222222222222222, \"#7201a8\"], [0.3333333333333333, \"#9c179e\"], [0.4444444444444444, \"#bd3786\"], [0.5555555555555556, \"#d8576b\"], [0.6666666666666666, \"#ed7953\"], [0.7777777777777778, \"#fb9f3a\"], [0.8888888888888888, \"#fdca26\"], [1.0, \"#f0f921\"]], \"sequentialminus\": [[0.0, \"#0d0887\"], [0.1111111111111111, \"#46039f\"], [0.2222222222222222, \"#7201a8\"], [0.3333333333333333, \"#9c179e\"], [0.4444444444444444, \"#bd3786\"], [0.5555555555555556, \"#d8576b\"], [0.6666666666666666, \"#ed7953\"], [0.7777777777777778, \"#fb9f3a\"], [0.8888888888888888, \"#fdca26\"], [1.0, \"#f0f921\"]]}, \"colorway\": [\"#636efa\", \"#EF553B\", \"#00cc96\", \"#ab63fa\", \"#FFA15A\", \"#19d3f3\", \"#FF6692\", \"#B6E880\", \"#FF97FF\", \"#FECB52\"], \"font\": {\"color\": \"#2a3f5f\"}, \"geo\": {\"bgcolor\": \"white\", \"lakecolor\": \"white\", \"landcolor\": \"#E5ECF6\", \"showlakes\": true, \"showland\": true, \"subunitcolor\": \"white\"}, \"hoverlabel\": {\"align\": \"left\"}, \"hovermode\": \"closest\", \"mapbox\": {\"style\": \"light\"}, \"paper_bgcolor\": \"white\", \"plot_bgcolor\": \"#E5ECF6\", \"polar\": {\"angularaxis\": {\"gridcolor\": \"white\", \"linecolor\": \"white\", \"ticks\": \"\"}, \"bgcolor\": \"#E5ECF6\", \"radialaxis\": {\"gridcolor\": \"white\", \"linecolor\": \"white\", \"ticks\": \"\"}}, \"scene\": {\"xaxis\": {\"backgroundcolor\": \"#E5ECF6\", \"gridcolor\": \"white\", \"gridwidth\": 2, \"linecolor\": \"white\", \"showbackground\": true, \"ticks\": \"\", \"zerolinecolor\": \"white\"}, \"yaxis\": {\"backgroundcolor\": \"#E5ECF6\", \"gridcolor\": \"white\", \"gridwidth\": 2, \"linecolor\": \"white\", \"showbackground\": true, \"ticks\": \"\", \"zerolinecolor\": \"white\"}, \"zaxis\": {\"backgroundcolor\": \"#E5ECF6\", \"gridcolor\": \"white\", \"gridwidth\": 2, \"linecolor\": \"white\", \"showbackground\": true, \"ticks\": \"\", \"zerolinecolor\": \"white\"}}, \"shapedefaults\": {\"line\": {\"color\": \"#2a3f5f\"}}, \"ternary\": {\"aaxis\": {\"gridcolor\": \"white\", \"linecolor\": \"white\", \"ticks\": \"\"}, \"baxis\": {\"gridcolor\": \"white\", \"linecolor\": \"white\", \"ticks\": \"\"}, \"bgcolor\": \"#E5ECF6\", \"caxis\": {\"gridcolor\": \"white\", \"linecolor\": \"white\", \"ticks\": \"\"}}, \"title\": {\"x\": 0.05}, \"xaxis\": {\"automargin\": true, \"gridcolor\": \"white\", \"linecolor\": \"white\", \"ticks\": \"\", \"title\": {\"standoff\": 15}, \"zerolinecolor\": \"white\", \"zerolinewidth\": 2}, \"yaxis\": {\"automargin\": true, \"gridcolor\": \"white\", \"linecolor\": \"white\", \"ticks\": \"\", \"title\": {\"standoff\": 15}, \"zerolinecolor\": \"white\", \"zerolinewidth\": 2}}}, \"title\": {\"text\": \"Sentiment of the countries (top 30 by frequency)\", \"x\": 0.5, \"xanchor\": \"center\", \"y\": 0.9}},                        {\"responsive\": true}                    ).then(function(){\n                            \nvar gd = document.getElementById('51742836-1892-4bf9-b0bb-2df3af405b97');\nvar x = new MutationObserver(function (mutations, observer) {{\n        var display = window.getComputedStyle(gd).display;\n        if (!display || display === 'none') {{\n            console.log([gd, 'removed!']);\n            Plotly.purge(gd);\n            observer.disconnect();\n        }}\n}});\n\n// Listen for the removal of the full notebook cells\nvar notebookContainer = gd.closest('#notebook-container');\nif (notebookContainer) {{\n    x.observe(notebookContainer, {childList: true});\n}}\n\n// Listen for the clearing of the current output cell\nvar outputEl = gd.closest('.output');\nif (outputEl) {{\n    x.observe(outputEl, {childList: true});\n}}\n\n                        })                };                });            </script>        </div>"
     },
     "metadata": {},
     "output_type": "display_data"
    }
   ],
   "source": [
    "def plot_nations_geo(df_geo):\n",
    "    fig = px.scatter_geo(df_geo, lat = \"lat\", lon=\"long\", hover_name=\"entity\", size=\"freq\",\n",
    "                         color=\"norm\", color_continuous_scale=\"Bluered_r\")\n",
    "\n",
    "    fig.update_layout(\n",
    "        title= dict(\n",
    "            text='Sentiment of the countries (top 30 by frequency)',\n",
    "            xanchor='center',\n",
    "            x=0.5, y=0.9)\n",
    "    )\n",
    "    #fig.update_traces(marker=dict(size=10))\n",
    "    fig.update_layout(margin={\"r\":50,\"t\":0,\"l\":50,\"b\":0})\n",
    "    return fig\n",
    "\n",
    "plot_nations_geo(df_geo).show()"
   ]
  },
  {
   "cell_type": "code",
   "execution_count": 71,
   "metadata": {},
   "outputs": [
    {
     "data": {
      "application/vnd.plotly.v1+json": {
       "config": {
        "plotlyServerURL": "https://plot.ly"
       },
       "data": [
        {
         "autocolorscale": false,
         "colorbar": {
          "tickprefix": "",
          "title": {
           "text": "Score"
          }
         },
         "colorscale": [
          [
           0.0,
           "rgb(0,0,255)"
          ],
          [
           1.0,
           "rgb(255,0,0)"
          ]
         ],
         "locationmode": "country names",
         "locations": [
          "iran",
          "afghanistan",
          "china",
          "israel",
          "pakistan",
          "iraq",
          "haiti",
          "libya",
          "russia",
          "india",
          "uk",
          "london",
          "turkey",
          "kabul",
          "egypt",
          "france",
          "mexico",
          "jerusalem",
          "brazil",
          "florida",
          "germany",
          "honduras",
          "indonesia",
          "japan",
          "benghazi",
          "north korea",
          "gaza",
          "chicago",
          "cuba",
          "beijing",
          "paris",
          "northern ireland",
          "the west bank",
          "south africa",
          "california",
          "brussels",
          "belfast",
          "syria",
          "canada",
          "tehran",
          "vietnam",
          "spain",
          "baghdad",
          "copenhagen",
          "palau",
          "poland",
          "arizona",
          "yemen",
          "norway",
          "berlin",
          "singapore",
          "argentina",
          "moscow",
          "qatar",
          "korea",
          "ireland",
          "saudi arabia",
          "islamabad",
          "italy",
          "whitehaven",
          "australia",
          "texas",
          "chile",
          "colombia",
          "ukraine",
          "jordan",
          "uae",
          "greece",
          "hawaii",
          "kenya",
          "sudan",
          "kentucky",
          "sri lanka",
          "miami",
          "somalia",
          "cambridge",
          "georgetown",
          "tokyo",
          "bosnia",
          "alaska",
          "netherlands",
          "kandahar",
          "illinois",
          "rome",
          "connecticut",
          "nigeria",
          "venezuela",
          "south korea",
          "ecuador",
          "detroit",
          "nevada",
          "belgium",
          "tunisia",
          "liberia",
          "warsaw",
          "kurdistan",
          "manhattan",
          "uruguay",
          "seoul",
          "vienna",
          "angola",
          "bangladesh",
          "oslo",
          "uganda",
          "pittsburgh",
          "rwanda",
          "louisiana",
          "houston",
          "los angeles",
          "lithuania",
          "doha",
          "lahore",
          "switzerland",
          "istanbul",
          "kuwait",
          "athens",
          "pyongyang",
          "jamaica",
          "lebanon",
          "philippines",
          "bolivia",
          "westminster",
          "congo",
          "prague",
          "bogota",
          "nairobi",
          "new delhi",
          "moldova",
          "panama",
          "buenos aires",
          "new\nyork",
          "ramallah",
          "arkansas",
          "taiwan",
          "sweden",
          "peru",
          "malaysia",
          "washington dc",
          "iceland",
          "krakow",
          "dubai",
          "new hampshire",
          "austria",
          "westchester county airport",
          "white plains",
          "westchester county",
          "khartoum",
          "peshawar",
          "montreal",
          "karachi",
          "kazakhstan",
          "guatemala",
          "dominican republic",
          "montevideo",
          "ethiopia",
          "wales",
          "thailand",
          "new zealand",
          "denver",
          "tanzania",
          "ottawa",
          "nyc",
          "reno",
          "holland",
          "orange county",
          "uzbekistan",
          "zambia",
          "costa rica",
          "delaware",
          "denmark",
          "hillsborough",
          "brasilia",
          "hollywood",
          "darfur",
          "hebron",
          "mexico city",
          "algeria",
          "mosul",
          "portugal",
          "kampala",
          "indiana",
          "alabama",
          "el salvador",
          "seattle",
          "kansas",
          "lisbon",
          "kosovo",
          "sirte",
          "tunis",
          "abu dhabi",
          "azerbaijan",
          "pretoria",
          "bali",
          "corfu",
          "trieste",
          "macedonia",
          "san francisco",
          "durban",
          "guinea",
          "north dakota",
          "havana",
          "riyadh",
          "czech republic",
          "stockholm",
          "hamden",
          "myanmar",
          "mongolia",
          "albania",
          "maldives",
          "puerto rico",
          "colombo",
          "boston",
          "santiago",
          "canberra",
          "san antonio",
          "lockerbie",
          "scotland",
          "quetta",
          "colorado",
          "okinawa",
          "tibet",
          "hong kong",
          "romania",
          "chappaqua",
          "waterloo",
          "ghana",
          "armagh",
          "luxembourg",
          "brighton",
          "punjab",
          "syracuse",
          "alexandria",
          "louisville",
          "kyrgyzstan",
          "tallin",
          "juba",
          "ciudad juarez",
          "luxor",
          "cancun",
          "madrid",
          "des moines",
          "arlington heights",
          "rhode island",
          "lviv",
          "cameroon",
          "springfield",
          "tampa",
          "tucson",
          "bagram",
          "annapolis",
          "mecca",
          "ankara",
          "gainesville",
          "finland",
          "greenland",
          "malta",
          "san diego",
          "sebha",
          "serbia",
          "sharjah",
          "hama",
          "derna",
          "addis",
          "ajdabiya",
          "kufra",
          "tripolitania",
          "cannes",
          "rochester",
          "philadelphia",
          "hamptons",
          "cincinnati",
          "kirkuk",
          "madagascar",
          "porto alegre",
          "oak hill's",
          "nangarhar province",
          "florence",
          "hunan",
          "bushehr",
          "baluchistan",
          "sistan",
          "kordestan",
          "mazandaran",
          "hainan island",
          "calcutta",
          "garten",
          "zimbabwe",
          "bahamas",
          "bangkok",
          "guam",
          "honolulu",
          "cambodia",
          "new orleans",
          "jakarta",
          "al anbar",
          "saigon",
          "denton",
          "latvia",
          "asuncion",
          "bariloche",
          "reykjavik",
          "wellington",
          "jericho",
          "washington heights",
          "wirral west",
          "the green zone",
          "west lafayette",
          "jedwabne",
          "baluchistan province",
          "mumbai",
          "new smyrna",
          "wayne",
          "slovenia",
          "charlottesville",
          "fairfax county",
          "hampton",
          "nassau county",
          "xinjiang",
          "yerevan",
          "chicago-kent",
          "esfahan",
          "rotterdam",
          "shenzhen",
          "kathmandu",
          "nepal",
          "ghulja",
          "lausanne",
          "helmand province",
          "ann arbor",
          "west africa",
          "damascus",
          "perth",
          "senegal",
          "nagoya",
          "xinxiang",
          "oman",
          "white haven",
          "faulkner county",
          "frankfurt",
          "u.s.-eu",
          "forkhill",
          "craigavon",
          "newry",
          "keady",
          "bronx",
          "ithaca",
          "ramat shlomo",
          "guinea-bissau",
          "masada",
          "bruges",
          "venice",
          "qum",
          "nicaragua",
          "estonia",
          "south sudan",
          "olathe",
          "montgomery county",
          "coionia morelos",
          "el paso",
          "ponce",
          "chiapas",
          "chihuahua city",
          "hangzhou",
          "taipei",
          "taixing",
          "jiangsu",
          "najaf",
          "diego garcia",
          "blue nile",
          "aceh",
          "malvern",
          "turkmenistan",
          "tajikistan",
          "naperville",
          "north lawndale",
          "douglas park",
          "st. charles",
          "muskoka",
          "transnistrian",
          "chisinau",
          "belarus",
          "sao paulo",
          "south hampton",
          "jalalabad",
          "messina",
          "arad",
          "ramadi",
          "fallujah",
          "johannesburg",
          "bridgewater",
          "burkina faso",
          "long island",
          "indianapolis",
          "san clemente",
          "guyana",
          "armenia",
          "vail",
          "herat",
          "harmarville",
          "mount herzl",
          "munich",
          "elyria",
          "haifa",
          "sochi",
          "kunduz",
          "muridke",
          "badakhshan",
          "bloomsbury",
          "suriname",
          "medina",
          "nuremberg",
          "potomac",
          "las vegas",
          "chennai",
          "bihar",
          "amsterdam",
          "cedarville",
          "dupage county's",
          "wisconsin",
          "rockford",
          "quito",
          "guayaquil",
          "hungary",
          "budapest",
          "strasbourg",
          "monterrey",
          "southampton",
          "dallas",
          "amherst",
          "monaco",
          "dachau",
          "bloomington",
          "mahabad",
          "cleveland",
          "west chester",
          "astoria",
          "toledo",
          "northwest ohio",
          "sparta",
          "slovakia",
          "bahrain",
          "birmingham",
          "brooklyn",
          "nablus",
          "khoy",
          "western azerbaijan",
          "malawi",
          "helsinki",
          "nauru",
          "east timor",
          "bonn",
          "lund",
          "rambouillet",
          "yugoslavia",
          "des plaines",
          "cote d'ivoire",
          "timor",
          "greenwich village"
         ],
         "marker": {
          "line": {
           "color": "darkgray",
           "width": 0.5
          }
         },
         "reversescale": true,
         "text": [
          "iran",
          "afghanistan",
          "china",
          "israel",
          "pakistan",
          "iraq",
          "haiti",
          "libya",
          "russia",
          "india",
          "uk",
          "london",
          "turkey",
          "kabul",
          "egypt",
          "france",
          "mexico",
          "jerusalem",
          "brazil",
          "florida",
          "germany",
          "honduras",
          "indonesia",
          "japan",
          "benghazi",
          "north korea",
          "gaza",
          "chicago",
          "cuba",
          "beijing",
          "paris",
          "northern ireland",
          "the west bank",
          "south africa",
          "california",
          "brussels",
          "belfast",
          "syria",
          "canada",
          "tehran",
          "vietnam",
          "spain",
          "baghdad",
          "copenhagen",
          "palau",
          "poland",
          "arizona",
          "yemen",
          "norway",
          "berlin",
          "singapore",
          "argentina",
          "moscow",
          "qatar",
          "korea",
          "ireland",
          "saudi arabia",
          "islamabad",
          "italy",
          "whitehaven",
          "australia",
          "texas",
          "chile",
          "colombia",
          "ukraine",
          "jordan",
          "uae",
          "greece",
          "hawaii",
          "kenya",
          "sudan",
          "kentucky",
          "sri lanka",
          "miami",
          "somalia",
          "cambridge",
          "georgetown",
          "tokyo",
          "bosnia",
          "alaska",
          "netherlands",
          "kandahar",
          "illinois",
          "rome",
          "connecticut",
          "nigeria",
          "venezuela",
          "south korea",
          "ecuador",
          "detroit",
          "nevada",
          "belgium",
          "tunisia",
          "liberia",
          "warsaw",
          "kurdistan",
          "manhattan",
          "uruguay",
          "seoul",
          "vienna",
          "angola",
          "bangladesh",
          "oslo",
          "uganda",
          "pittsburgh",
          "rwanda",
          "louisiana",
          "houston",
          "los angeles",
          "lithuania",
          "doha",
          "lahore",
          "switzerland",
          "istanbul",
          "kuwait",
          "athens",
          "pyongyang",
          "jamaica",
          "lebanon",
          "philippines",
          "bolivia",
          "westminster",
          "congo",
          "prague",
          "bogota",
          "nairobi",
          "new delhi",
          "moldova",
          "panama",
          "buenos aires",
          "new\nyork",
          "ramallah",
          "arkansas",
          "taiwan",
          "sweden",
          "peru",
          "malaysia",
          "washington dc",
          "iceland",
          "krakow",
          "dubai",
          "new hampshire",
          "austria",
          "westchester county airport",
          "white plains",
          "westchester county",
          "khartoum",
          "peshawar",
          "montreal",
          "karachi",
          "kazakhstan",
          "guatemala",
          "dominican republic",
          "montevideo",
          "ethiopia",
          "wales",
          "thailand",
          "new zealand",
          "denver",
          "tanzania",
          "ottawa",
          "nyc",
          "reno",
          "holland",
          "orange county",
          "uzbekistan",
          "zambia",
          "costa rica",
          "delaware",
          "denmark",
          "hillsborough",
          "brasilia",
          "hollywood",
          "darfur",
          "hebron",
          "mexico city",
          "algeria",
          "mosul",
          "portugal",
          "kampala",
          "indiana",
          "alabama",
          "el salvador",
          "seattle",
          "kansas",
          "lisbon",
          "kosovo",
          "sirte",
          "tunis",
          "abu dhabi",
          "azerbaijan",
          "pretoria",
          "bali",
          "corfu",
          "trieste",
          "macedonia",
          "san francisco",
          "durban",
          "guinea",
          "north dakota",
          "havana",
          "riyadh",
          "czech republic",
          "stockholm",
          "hamden",
          "myanmar",
          "mongolia",
          "albania",
          "maldives",
          "puerto rico",
          "colombo",
          "boston",
          "santiago",
          "canberra",
          "san antonio",
          "lockerbie",
          "scotland",
          "quetta",
          "colorado",
          "okinawa",
          "tibet",
          "hong kong",
          "romania",
          "chappaqua",
          "waterloo",
          "ghana",
          "armagh",
          "luxembourg",
          "brighton",
          "punjab",
          "syracuse",
          "alexandria",
          "louisville",
          "kyrgyzstan",
          "tallin",
          "juba",
          "ciudad juarez",
          "luxor",
          "cancun",
          "madrid",
          "des moines",
          "arlington heights",
          "rhode island",
          "lviv",
          "cameroon",
          "springfield",
          "tampa",
          "tucson",
          "bagram",
          "annapolis",
          "mecca",
          "ankara",
          "gainesville",
          "finland",
          "greenland",
          "malta",
          "san diego",
          "sebha",
          "serbia",
          "sharjah",
          "hama",
          "derna",
          "addis",
          "ajdabiya",
          "kufra",
          "tripolitania",
          "cannes",
          "rochester",
          "philadelphia",
          "hamptons",
          "cincinnati",
          "kirkuk",
          "madagascar",
          "porto alegre",
          "oak hill's",
          "nangarhar province",
          "florence",
          "hunan",
          "bushehr",
          "baluchistan",
          "sistan",
          "kordestan",
          "mazandaran",
          "hainan island",
          "calcutta",
          "garten",
          "zimbabwe",
          "bahamas",
          "bangkok",
          "guam",
          "honolulu",
          "cambodia",
          "new orleans",
          "jakarta",
          "al anbar",
          "saigon",
          "denton",
          "latvia",
          "asuncion",
          "bariloche",
          "reykjavik",
          "wellington",
          "jericho",
          "washington heights",
          "wirral west",
          "the green zone",
          "west lafayette",
          "jedwabne",
          "baluchistan province",
          "mumbai",
          "new smyrna",
          "wayne",
          "slovenia",
          "charlottesville",
          "fairfax county",
          "hampton",
          "nassau county",
          "xinjiang",
          "yerevan",
          "chicago-kent",
          "esfahan",
          "rotterdam",
          "shenzhen",
          "kathmandu",
          "nepal",
          "ghulja",
          "lausanne",
          "helmand province",
          "ann arbor",
          "west africa",
          "damascus",
          "perth",
          "senegal",
          "nagoya",
          "xinxiang",
          "oman",
          "white haven",
          "faulkner county",
          "frankfurt",
          "u.s.-eu",
          "forkhill",
          "craigavon",
          "newry",
          "keady",
          "bronx",
          "ithaca",
          "ramat shlomo",
          "guinea-bissau",
          "masada",
          "bruges",
          "venice",
          "qum",
          "nicaragua",
          "estonia",
          "south sudan",
          "olathe",
          "montgomery county",
          "coionia morelos",
          "el paso",
          "ponce",
          "chiapas",
          "chihuahua city",
          "hangzhou",
          "taipei",
          "taixing",
          "jiangsu",
          "najaf",
          "diego garcia",
          "blue nile",
          "aceh",
          "malvern",
          "turkmenistan",
          "tajikistan",
          "naperville",
          "north lawndale",
          "douglas park",
          "st. charles",
          "muskoka",
          "transnistrian",
          "chisinau",
          "belarus",
          "sao paulo",
          "south hampton",
          "jalalabad",
          "messina",
          "arad",
          "ramadi",
          "fallujah",
          "johannesburg",
          "bridgewater",
          "burkina faso",
          "long island",
          "indianapolis",
          "san clemente",
          "guyana",
          "armenia",
          "vail",
          "herat",
          "harmarville",
          "mount herzl",
          "munich",
          "elyria",
          "haifa",
          "sochi",
          "kunduz",
          "muridke",
          "badakhshan",
          "bloomsbury",
          "suriname",
          "medina",
          "nuremberg",
          "potomac",
          "las vegas",
          "chennai",
          "bihar",
          "amsterdam",
          "cedarville",
          "dupage county's",
          "wisconsin",
          "rockford",
          "quito",
          "guayaquil",
          "hungary",
          "budapest",
          "strasbourg",
          "monterrey",
          "southampton",
          "dallas",
          "amherst",
          "monaco",
          "dachau",
          "bloomington",
          "mahabad",
          "cleveland",
          "west chester",
          "astoria",
          "toledo",
          "northwest ohio",
          "sparta",
          "slovakia",
          "bahrain",
          "birmingham",
          "brooklyn",
          "nablus",
          "khoy",
          "western azerbaijan",
          "malawi",
          "helsinki",
          "nauru",
          "east timor",
          "bonn",
          "lund",
          "rambouillet",
          "yugoslavia",
          "des plaines",
          "cote d'ivoire",
          "timor",
          "greenwich village"
         ],
         "type": "choropleth",
         "z": [
          -0.49504950495049505,
          0.28,
          1.2823529411764707,
          2.4246575342465753,
          1.4714285714285715,
          -1.1176470588235294,
          1.619047619047619,
          -0.4909090909090909,
          -0.018518518518518517,
          2.4423076923076925,
          -0.12195121951219512,
          0.12195121951219512,
          0.5454545454545454,
          0.6060606060606061,
          -0.2222222222222222,
          0.04,
          0.88,
          0.5,
          1.7083333333333333,
          0.6086956521739131,
          -0.6086956521739131,
          0.22727272727272727,
          4.238095238095238,
          0.2857142857142857,
          -5.7,
          -1.65,
          -1.263157894736842,
          1.1666666666666667,
          1.0,
          1.5555555555555556,
          0.5882352941176471,
          6.9411764705882355,
          1.4705882352941178,
          2.5625,
          -0.125,
          -0.5,
          1.4375,
          -1.0666666666666667,
          0.2,
          -1.0,
          1.8571428571428572,
          0.38461538461538464,
          -1.5384615384615385,
          -0.7692307692307693,
          11.0,
          -1.3846153846153846,
          0.23076923076923078,
          -2.0833333333333335,
          1.0833333333333333,
          2.0833333333333335,
          2.5833333333333335,
          0.9166666666666666,
          1.75,
          0.9090909090909091,
          0.18181818181818182,
          1.8181818181818181,
          -0.7,
          2.7,
          0.3,
          0.2222222222222222,
          1.7777777777777777,
          -0.5555555555555556,
          -1.0,
          2.2222222222222223,
          0.4444444444444444,
          -0.625,
          0.625,
          -2.0,
          -0.25,
          2.375,
          1.625,
          1.875,
          -20.428571428571427,
          -0.14285714285714285,
          -0.2857142857142857,
          2.857142857142857,
          -0.42857142857142855,
          0.7142857142857143,
          -0.14285714285714285,
          0.5714285714285714,
          0.42857142857142855,
          -2.7142857142857144,
          -0.2857142857142857,
          -0.16666666666666666,
          0.16666666666666666,
          5.166666666666667,
          -0.8333333333333334,
          -2.1666666666666665,
          1.3333333333333333,
          3.8333333333333335,
          0.6666666666666666,
          0.6666666666666666,
          6.0,
          -1.0,
          1.8,
          -4.0,
          -1.8,
          0.8,
          -0.8,
          1.6,
          0.4,
          1.6,
          2.4,
          1.8,
          -1.4,
          1.6,
          -2.0,
          0.4,
          -1.2,
          1.2,
          -0.25,
          0.5,
          2.25,
          0.25,
          -1.75,
          -0.25,
          -0.5,
          0.0,
          0.0,
          0.0,
          1.5,
          -0.25,
          -9.5,
          0.75,
          1.25,
          2.0,
          3.0,
          3.0,
          0.75,
          0.75,
          1.5,
          2.0,
          0.0,
          -1.0,
          1.25,
          0.0,
          0.5,
          2.0,
          0.5,
          3.0,
          1.25,
          1.5,
          -2.0,
          0.0,
          0.0,
          1.3333333333333333,
          1.3333333333333333,
          -1.3333333333333333,
          0.6666666666666666,
          1.6666666666666667,
          1.0,
          0.6666666666666666,
          0.6666666666666666,
          1.0,
          5.666666666666667,
          -2.0,
          0.0,
          0.6666666666666666,
          -1.0,
          2.0,
          0.6666666666666666,
          1.3333333333333333,
          -2.0,
          0.6666666666666666,
          2.0,
          0.6666666666666666,
          0.3333333333333333,
          -0.6666666666666666,
          1.3333333333333333,
          0.6666666666666666,
          0.3333333333333333,
          2.0,
          1.6666666666666667,
          -2.3333333333333335,
          1.0,
          -1.6666666666666667,
          2.0,
          0.0,
          -0.6666666666666666,
          -1.0,
          -0.3333333333333333,
          -1.0,
          0.6666666666666666,
          -0.6666666666666666,
          1.6666666666666667,
          3.3333333333333335,
          0.3333333333333333,
          0.5,
          1.5,
          -0.5,
          1.0,
          3.0,
          1.0,
          0.0,
          0.0,
          -3.5,
          0.0,
          2.0,
          1.5,
          1.0,
          -3.0,
          0.5,
          0.0,
          4.5,
          0.5,
          -0.5,
          3.5,
          4.5,
          1.5,
          1.0,
          -4.0,
          -1.5,
          3.0,
          2.0,
          -1.5,
          -3.5,
          -3.0,
          1.5,
          3.5,
          0.0,
          1.5,
          -1.0,
          3.5,
          0.0,
          0.0,
          2.5,
          -2.5,
          1.0,
          5.0,
          1.0,
          -2.5,
          -3.0,
          0.0,
          13.0,
          0.5,
          -4.0,
          -3.0,
          -1.0,
          0.5,
          4.0,
          1.5,
          1.0,
          6.5,
          2.0,
          5.0,
          -3.5,
          -1.0,
          -1.0,
          -2.0,
          3.0,
          1.5,
          -2.0,
          0.0,
          1.0,
          0.0,
          0.0,
          2.0,
          -6.0,
          0.0,
          1.0,
          0.0,
          -1.0,
          0.0,
          -2.0,
          0.0,
          0.0,
          0.0,
          0.0,
          2.0,
          0.0,
          -7.0,
          5.0,
          -3.0,
          8.0,
          0.0,
          2.0,
          0.0,
          0.0,
          -4.0,
          0.0,
          0.0,
          0.0,
          0.0,
          0.0,
          -5.0,
          0.0,
          2.0,
          2.0,
          0.0,
          0.0,
          1.0,
          0.0,
          -3.0,
          2.0,
          -2.0,
          -4.0,
          2.0,
          -1.0,
          6.0,
          3.0,
          0.0,
          0.0,
          2.0,
          3.0,
          1.0,
          0.0,
          12.0,
          -9.0,
          2.0,
          -1.0,
          0.0,
          0.0,
          -1.0,
          -2.0,
          5.0,
          0.0,
          7.0,
          0.0,
          -3.0,
          1.0,
          0.0,
          1.0,
          1.0,
          2.0,
          2.0,
          0.0,
          4.0,
          1.0,
          0.0,
          -1.0,
          3.0,
          2.0,
          5.0,
          2.0,
          3.0,
          0.0,
          0.0,
          0.0,
          0.0,
          8.0,
          -1.0,
          -4.0,
          -4.0,
          -3.0,
          1.0,
          0.0,
          -2.0,
          0.0,
          -3.0,
          3.0,
          3.0,
          2.0,
          0.0,
          2.0,
          1.0,
          0.0,
          -3.0,
          -9.0,
          -7.0,
          -9.0,
          3.0,
          -5.0,
          -1.0,
          -4.0,
          -2.0,
          -2.0,
          0.0,
          2.0,
          12.0,
          10.0,
          0.0,
          4.0,
          4.0,
          4.0,
          0.0,
          3.0,
          4.0,
          4.0,
          3.0,
          4.0,
          0.0,
          3.0,
          0.0,
          -5.0,
          2.0,
          0.0,
          3.0,
          3.0,
          -1.0,
          0.0,
          0.0,
          0.0,
          0.0,
          0.0,
          0.0,
          -4.0,
          -2.0,
          2.0,
          0.0,
          -3.0,
          -3.0,
          -4.0,
          0.0,
          0.0,
          0.0,
          0.0,
          0.0,
          7.0,
          1.0,
          -2.0,
          0.0,
          2.0,
          0.0,
          5.0,
          0.0,
          1.0,
          6.0,
          3.0,
          1.0,
          0.0,
          5.0,
          2.0,
          4.0,
          1.0,
          -2.0,
          -11.0,
          0.0,
          -3.0,
          1.0,
          -1.0,
          -1.0,
          0.0,
          -2.0,
          -2.0,
          0.0,
          0.0,
          -2.0,
          -5.0,
          -3.0,
          0.0,
          1.0,
          0.0,
          0.0,
          1.0,
          -7.0,
          -7.0,
          2.0,
          0.0,
          0.0,
          8.0,
          2.0,
          -2.0,
          -3.0,
          0.0,
          -1.0,
          0.0,
          0.0,
          0.0
         ]
        }
       ],
       "layout": {
        "annotations": [
         {
          "showarrow": false,
          "text": "Hillary Clinton's emails",
          "x": 0.55,
          "xref": "paper",
          "y": 0.1,
          "yref": "paper"
         }
        ],
        "geo": {
         "projection": {
          "type": "equirectangular"
         },
         "showcoastlines": false,
         "showframe": false
        },
        "template": {
         "data": {
          "bar": [
           {
            "error_x": {
             "color": "#2a3f5f"
            },
            "error_y": {
             "color": "#2a3f5f"
            },
            "marker": {
             "line": {
              "color": "#E5ECF6",
              "width": 0.5
             }
            },
            "type": "bar"
           }
          ],
          "barpolar": [
           {
            "marker": {
             "line": {
              "color": "#E5ECF6",
              "width": 0.5
             }
            },
            "type": "barpolar"
           }
          ],
          "carpet": [
           {
            "aaxis": {
             "endlinecolor": "#2a3f5f",
             "gridcolor": "white",
             "linecolor": "white",
             "minorgridcolor": "white",
             "startlinecolor": "#2a3f5f"
            },
            "baxis": {
             "endlinecolor": "#2a3f5f",
             "gridcolor": "white",
             "linecolor": "white",
             "minorgridcolor": "white",
             "startlinecolor": "#2a3f5f"
            },
            "type": "carpet"
           }
          ],
          "choropleth": [
           {
            "colorbar": {
             "outlinewidth": 0,
             "ticks": ""
            },
            "type": "choropleth"
           }
          ],
          "contour": [
           {
            "colorbar": {
             "outlinewidth": 0,
             "ticks": ""
            },
            "colorscale": [
             [
              0.0,
              "#0d0887"
             ],
             [
              0.1111111111111111,
              "#46039f"
             ],
             [
              0.2222222222222222,
              "#7201a8"
             ],
             [
              0.3333333333333333,
              "#9c179e"
             ],
             [
              0.4444444444444444,
              "#bd3786"
             ],
             [
              0.5555555555555556,
              "#d8576b"
             ],
             [
              0.6666666666666666,
              "#ed7953"
             ],
             [
              0.7777777777777778,
              "#fb9f3a"
             ],
             [
              0.8888888888888888,
              "#fdca26"
             ],
             [
              1.0,
              "#f0f921"
             ]
            ],
            "type": "contour"
           }
          ],
          "contourcarpet": [
           {
            "colorbar": {
             "outlinewidth": 0,
             "ticks": ""
            },
            "type": "contourcarpet"
           }
          ],
          "heatmap": [
           {
            "colorbar": {
             "outlinewidth": 0,
             "ticks": ""
            },
            "colorscale": [
             [
              0.0,
              "#0d0887"
             ],
             [
              0.1111111111111111,
              "#46039f"
             ],
             [
              0.2222222222222222,
              "#7201a8"
             ],
             [
              0.3333333333333333,
              "#9c179e"
             ],
             [
              0.4444444444444444,
              "#bd3786"
             ],
             [
              0.5555555555555556,
              "#d8576b"
             ],
             [
              0.6666666666666666,
              "#ed7953"
             ],
             [
              0.7777777777777778,
              "#fb9f3a"
             ],
             [
              0.8888888888888888,
              "#fdca26"
             ],
             [
              1.0,
              "#f0f921"
             ]
            ],
            "type": "heatmap"
           }
          ],
          "heatmapgl": [
           {
            "colorbar": {
             "outlinewidth": 0,
             "ticks": ""
            },
            "colorscale": [
             [
              0.0,
              "#0d0887"
             ],
             [
              0.1111111111111111,
              "#46039f"
             ],
             [
              0.2222222222222222,
              "#7201a8"
             ],
             [
              0.3333333333333333,
              "#9c179e"
             ],
             [
              0.4444444444444444,
              "#bd3786"
             ],
             [
              0.5555555555555556,
              "#d8576b"
             ],
             [
              0.6666666666666666,
              "#ed7953"
             ],
             [
              0.7777777777777778,
              "#fb9f3a"
             ],
             [
              0.8888888888888888,
              "#fdca26"
             ],
             [
              1.0,
              "#f0f921"
             ]
            ],
            "type": "heatmapgl"
           }
          ],
          "histogram": [
           {
            "marker": {
             "colorbar": {
              "outlinewidth": 0,
              "ticks": ""
             }
            },
            "type": "histogram"
           }
          ],
          "histogram2d": [
           {
            "colorbar": {
             "outlinewidth": 0,
             "ticks": ""
            },
            "colorscale": [
             [
              0.0,
              "#0d0887"
             ],
             [
              0.1111111111111111,
              "#46039f"
             ],
             [
              0.2222222222222222,
              "#7201a8"
             ],
             [
              0.3333333333333333,
              "#9c179e"
             ],
             [
              0.4444444444444444,
              "#bd3786"
             ],
             [
              0.5555555555555556,
              "#d8576b"
             ],
             [
              0.6666666666666666,
              "#ed7953"
             ],
             [
              0.7777777777777778,
              "#fb9f3a"
             ],
             [
              0.8888888888888888,
              "#fdca26"
             ],
             [
              1.0,
              "#f0f921"
             ]
            ],
            "type": "histogram2d"
           }
          ],
          "histogram2dcontour": [
           {
            "colorbar": {
             "outlinewidth": 0,
             "ticks": ""
            },
            "colorscale": [
             [
              0.0,
              "#0d0887"
             ],
             [
              0.1111111111111111,
              "#46039f"
             ],
             [
              0.2222222222222222,
              "#7201a8"
             ],
             [
              0.3333333333333333,
              "#9c179e"
             ],
             [
              0.4444444444444444,
              "#bd3786"
             ],
             [
              0.5555555555555556,
              "#d8576b"
             ],
             [
              0.6666666666666666,
              "#ed7953"
             ],
             [
              0.7777777777777778,
              "#fb9f3a"
             ],
             [
              0.8888888888888888,
              "#fdca26"
             ],
             [
              1.0,
              "#f0f921"
             ]
            ],
            "type": "histogram2dcontour"
           }
          ],
          "mesh3d": [
           {
            "colorbar": {
             "outlinewidth": 0,
             "ticks": ""
            },
            "type": "mesh3d"
           }
          ],
          "parcoords": [
           {
            "line": {
             "colorbar": {
              "outlinewidth": 0,
              "ticks": ""
             }
            },
            "type": "parcoords"
           }
          ],
          "pie": [
           {
            "automargin": true,
            "type": "pie"
           }
          ],
          "scatter": [
           {
            "marker": {
             "colorbar": {
              "outlinewidth": 0,
              "ticks": ""
             }
            },
            "type": "scatter"
           }
          ],
          "scatter3d": [
           {
            "line": {
             "colorbar": {
              "outlinewidth": 0,
              "ticks": ""
             }
            },
            "marker": {
             "colorbar": {
              "outlinewidth": 0,
              "ticks": ""
             }
            },
            "type": "scatter3d"
           }
          ],
          "scattercarpet": [
           {
            "marker": {
             "colorbar": {
              "outlinewidth": 0,
              "ticks": ""
             }
            },
            "type": "scattercarpet"
           }
          ],
          "scattergeo": [
           {
            "marker": {
             "colorbar": {
              "outlinewidth": 0,
              "ticks": ""
             }
            },
            "type": "scattergeo"
           }
          ],
          "scattergl": [
           {
            "marker": {
             "colorbar": {
              "outlinewidth": 0,
              "ticks": ""
             }
            },
            "type": "scattergl"
           }
          ],
          "scattermapbox": [
           {
            "marker": {
             "colorbar": {
              "outlinewidth": 0,
              "ticks": ""
             }
            },
            "type": "scattermapbox"
           }
          ],
          "scatterpolar": [
           {
            "marker": {
             "colorbar": {
              "outlinewidth": 0,
              "ticks": ""
             }
            },
            "type": "scatterpolar"
           }
          ],
          "scatterpolargl": [
           {
            "marker": {
             "colorbar": {
              "outlinewidth": 0,
              "ticks": ""
             }
            },
            "type": "scatterpolargl"
           }
          ],
          "scatterternary": [
           {
            "marker": {
             "colorbar": {
              "outlinewidth": 0,
              "ticks": ""
             }
            },
            "type": "scatterternary"
           }
          ],
          "surface": [
           {
            "colorbar": {
             "outlinewidth": 0,
             "ticks": ""
            },
            "colorscale": [
             [
              0.0,
              "#0d0887"
             ],
             [
              0.1111111111111111,
              "#46039f"
             ],
             [
              0.2222222222222222,
              "#7201a8"
             ],
             [
              0.3333333333333333,
              "#9c179e"
             ],
             [
              0.4444444444444444,
              "#bd3786"
             ],
             [
              0.5555555555555556,
              "#d8576b"
             ],
             [
              0.6666666666666666,
              "#ed7953"
             ],
             [
              0.7777777777777778,
              "#fb9f3a"
             ],
             [
              0.8888888888888888,
              "#fdca26"
             ],
             [
              1.0,
              "#f0f921"
             ]
            ],
            "type": "surface"
           }
          ],
          "table": [
           {
            "cells": {
             "fill": {
              "color": "#EBF0F8"
             },
             "line": {
              "color": "white"
             }
            },
            "header": {
             "fill": {
              "color": "#C8D4E3"
             },
             "line": {
              "color": "white"
             }
            },
            "type": "table"
           }
          ]
         },
         "layout": {
          "annotationdefaults": {
           "arrowcolor": "#2a3f5f",
           "arrowhead": 0,
           "arrowwidth": 1
          },
          "autotypenumbers": "strict",
          "coloraxis": {
           "colorbar": {
            "outlinewidth": 0,
            "ticks": ""
           }
          },
          "colorscale": {
           "diverging": [
            [
             0,
             "#8e0152"
            ],
            [
             0.1,
             "#c51b7d"
            ],
            [
             0.2,
             "#de77ae"
            ],
            [
             0.3,
             "#f1b6da"
            ],
            [
             0.4,
             "#fde0ef"
            ],
            [
             0.5,
             "#f7f7f7"
            ],
            [
             0.6,
             "#e6f5d0"
            ],
            [
             0.7,
             "#b8e186"
            ],
            [
             0.8,
             "#7fbc41"
            ],
            [
             0.9,
             "#4d9221"
            ],
            [
             1,
             "#276419"
            ]
           ],
           "sequential": [
            [
             0.0,
             "#0d0887"
            ],
            [
             0.1111111111111111,
             "#46039f"
            ],
            [
             0.2222222222222222,
             "#7201a8"
            ],
            [
             0.3333333333333333,
             "#9c179e"
            ],
            [
             0.4444444444444444,
             "#bd3786"
            ],
            [
             0.5555555555555556,
             "#d8576b"
            ],
            [
             0.6666666666666666,
             "#ed7953"
            ],
            [
             0.7777777777777778,
             "#fb9f3a"
            ],
            [
             0.8888888888888888,
             "#fdca26"
            ],
            [
             1.0,
             "#f0f921"
            ]
           ],
           "sequentialminus": [
            [
             0.0,
             "#0d0887"
            ],
            [
             0.1111111111111111,
             "#46039f"
            ],
            [
             0.2222222222222222,
             "#7201a8"
            ],
            [
             0.3333333333333333,
             "#9c179e"
            ],
            [
             0.4444444444444444,
             "#bd3786"
            ],
            [
             0.5555555555555556,
             "#d8576b"
            ],
            [
             0.6666666666666666,
             "#ed7953"
            ],
            [
             0.7777777777777778,
             "#fb9f3a"
            ],
            [
             0.8888888888888888,
             "#fdca26"
            ],
            [
             1.0,
             "#f0f921"
            ]
           ]
          },
          "colorway": [
           "#636efa",
           "#EF553B",
           "#00cc96",
           "#ab63fa",
           "#FFA15A",
           "#19d3f3",
           "#FF6692",
           "#B6E880",
           "#FF97FF",
           "#FECB52"
          ],
          "font": {
           "color": "#2a3f5f"
          },
          "geo": {
           "bgcolor": "white",
           "lakecolor": "white",
           "landcolor": "#E5ECF6",
           "showlakes": true,
           "showland": true,
           "subunitcolor": "white"
          },
          "hoverlabel": {
           "align": "left"
          },
          "hovermode": "closest",
          "mapbox": {
           "style": "light"
          },
          "paper_bgcolor": "white",
          "plot_bgcolor": "#E5ECF6",
          "polar": {
           "angularaxis": {
            "gridcolor": "white",
            "linecolor": "white",
            "ticks": ""
           },
           "bgcolor": "#E5ECF6",
           "radialaxis": {
            "gridcolor": "white",
            "linecolor": "white",
            "ticks": ""
           }
          },
          "scene": {
           "xaxis": {
            "backgroundcolor": "#E5ECF6",
            "gridcolor": "white",
            "gridwidth": 2,
            "linecolor": "white",
            "showbackground": true,
            "ticks": "",
            "zerolinecolor": "white"
           },
           "yaxis": {
            "backgroundcolor": "#E5ECF6",
            "gridcolor": "white",
            "gridwidth": 2,
            "linecolor": "white",
            "showbackground": true,
            "ticks": "",
            "zerolinecolor": "white"
           },
           "zaxis": {
            "backgroundcolor": "#E5ECF6",
            "gridcolor": "white",
            "gridwidth": 2,
            "linecolor": "white",
            "showbackground": true,
            "ticks": "",
            "zerolinecolor": "white"
           }
          },
          "shapedefaults": {
           "line": {
            "color": "#2a3f5f"
           }
          },
          "ternary": {
           "aaxis": {
            "gridcolor": "white",
            "linecolor": "white",
            "ticks": ""
           },
           "baxis": {
            "gridcolor": "white",
            "linecolor": "white",
            "ticks": ""
           },
           "bgcolor": "#E5ECF6",
           "caxis": {
            "gridcolor": "white",
            "linecolor": "white",
            "ticks": ""
           }
          },
          "title": {
           "x": 0.05
          },
          "xaxis": {
           "automargin": true,
           "gridcolor": "white",
           "linecolor": "white",
           "ticks": "",
           "title": {
            "standoff": 15
           },
           "zerolinecolor": "white",
           "zerolinewidth": 2
          },
          "yaxis": {
           "automargin": true,
           "gridcolor": "white",
           "linecolor": "white",
           "ticks": "",
           "title": {
            "standoff": 15
           },
           "zerolinecolor": "white",
           "zerolinewidth": 2
          }
         }
        },
        "title": {
         "text": "Sentiment associated to countries"
        }
       }
      },
      "text/html": "<div>                            <div id=\"aae567e9-8496-48d8-9e92-818d573c0d80\" class=\"plotly-graph-div\" style=\"height:525px; width:100%;\"></div>            <script type=\"text/javascript\">                require([\"plotly\"], function(Plotly) {                    window.PLOTLYENV=window.PLOTLYENV || {};                                    if (document.getElementById(\"aae567e9-8496-48d8-9e92-818d573c0d80\")) {                    Plotly.newPlot(                        \"aae567e9-8496-48d8-9e92-818d573c0d80\",                        [{\"autocolorscale\": false, \"colorbar\": {\"tickprefix\": \"\", \"title\": {\"text\": \"Score\"}}, \"colorscale\": [[0.0, \"rgb(0,0,255)\"], [1.0, \"rgb(255,0,0)\"]], \"locationmode\": \"country names\", \"locations\": [\"iran\", \"afghanistan\", \"china\", \"israel\", \"pakistan\", \"iraq\", \"haiti\", \"libya\", \"russia\", \"india\", \"uk\", \"london\", \"turkey\", \"kabul\", \"egypt\", \"france\", \"mexico\", \"jerusalem\", \"brazil\", \"florida\", \"germany\", \"honduras\", \"indonesia\", \"japan\", \"benghazi\", \"north korea\", \"gaza\", \"chicago\", \"cuba\", \"beijing\", \"paris\", \"northern ireland\", \"the west bank\", \"south africa\", \"california\", \"brussels\", \"belfast\", \"syria\", \"canada\", \"tehran\", \"vietnam\", \"spain\", \"baghdad\", \"copenhagen\", \"palau\", \"poland\", \"arizona\", \"yemen\", \"norway\", \"berlin\", \"singapore\", \"argentina\", \"moscow\", \"qatar\", \"korea\", \"ireland\", \"saudi arabia\", \"islamabad\", \"italy\", \"whitehaven\", \"australia\", \"texas\", \"chile\", \"colombia\", \"ukraine\", \"jordan\", \"uae\", \"greece\", \"hawaii\", \"kenya\", \"sudan\", \"kentucky\", \"sri lanka\", \"miami\", \"somalia\", \"cambridge\", \"georgetown\", \"tokyo\", \"bosnia\", \"alaska\", \"netherlands\", \"kandahar\", \"illinois\", \"rome\", \"connecticut\", \"nigeria\", \"venezuela\", \"south korea\", \"ecuador\", \"detroit\", \"nevada\", \"belgium\", \"tunisia\", \"liberia\", \"warsaw\", \"kurdistan\", \"manhattan\", \"uruguay\", \"seoul\", \"vienna\", \"angola\", \"bangladesh\", \"oslo\", \"uganda\", \"pittsburgh\", \"rwanda\", \"louisiana\", \"houston\", \"los angeles\", \"lithuania\", \"doha\", \"lahore\", \"switzerland\", \"istanbul\", \"kuwait\", \"athens\", \"pyongyang\", \"jamaica\", \"lebanon\", \"philippines\", \"bolivia\", \"westminster\", \"congo\", \"prague\", \"bogota\", \"nairobi\", \"new delhi\", \"moldova\", \"panama\", \"buenos aires\", \"new\\nyork\", \"ramallah\", \"arkansas\", \"taiwan\", \"sweden\", \"peru\", \"malaysia\", \"washington dc\", \"iceland\", \"krakow\", \"dubai\", \"new hampshire\", \"austria\", \"westchester county airport\", \"white plains\", \"westchester county\", \"khartoum\", \"peshawar\", \"montreal\", \"karachi\", \"kazakhstan\", \"guatemala\", \"dominican republic\", \"montevideo\", \"ethiopia\", \"wales\", \"thailand\", \"new zealand\", \"denver\", \"tanzania\", \"ottawa\", \"nyc\", \"reno\", \"holland\", \"orange county\", \"uzbekistan\", \"zambia\", \"costa rica\", \"delaware\", \"denmark\", \"hillsborough\", \"brasilia\", \"hollywood\", \"darfur\", \"hebron\", \"mexico city\", \"algeria\", \"mosul\", \"portugal\", \"kampala\", \"indiana\", \"alabama\", \"el salvador\", \"seattle\", \"kansas\", \"lisbon\", \"kosovo\", \"sirte\", \"tunis\", \"abu dhabi\", \"azerbaijan\", \"pretoria\", \"bali\", \"corfu\", \"trieste\", \"macedonia\", \"san francisco\", \"durban\", \"guinea\", \"north dakota\", \"havana\", \"riyadh\", \"czech republic\", \"stockholm\", \"hamden\", \"myanmar\", \"mongolia\", \"albania\", \"maldives\", \"puerto rico\", \"colombo\", \"boston\", \"santiago\", \"canberra\", \"san antonio\", \"lockerbie\", \"scotland\", \"quetta\", \"colorado\", \"okinawa\", \"tibet\", \"hong kong\", \"romania\", \"chappaqua\", \"waterloo\", \"ghana\", \"armagh\", \"luxembourg\", \"brighton\", \"punjab\", \"syracuse\", \"alexandria\", \"louisville\", \"kyrgyzstan\", \"tallin\", \"juba\", \"ciudad juarez\", \"luxor\", \"cancun\", \"madrid\", \"des moines\", \"arlington heights\", \"rhode island\", \"lviv\", \"cameroon\", \"springfield\", \"tampa\", \"tucson\", \"bagram\", \"annapolis\", \"mecca\", \"ankara\", \"gainesville\", \"finland\", \"greenland\", \"malta\", \"san diego\", \"sebha\", \"serbia\", \"sharjah\", \"hama\", \"derna\", \"addis\", \"ajdabiya\", \"kufra\", \"tripolitania\", \"cannes\", \"rochester\", \"philadelphia\", \"hamptons\", \"cincinnati\", \"kirkuk\", \"madagascar\", \"porto alegre\", \"oak hill's\", \"nangarhar province\", \"florence\", \"hunan\", \"bushehr\", \"baluchistan\", \"sistan\", \"kordestan\", \"mazandaran\", \"hainan island\", \"calcutta\", \"garten\", \"zimbabwe\", \"bahamas\", \"bangkok\", \"guam\", \"honolulu\", \"cambodia\", \"new orleans\", \"jakarta\", \"al anbar\", \"saigon\", \"denton\", \"latvia\", \"asuncion\", \"bariloche\", \"reykjavik\", \"wellington\", \"jericho\", \"washington heights\", \"wirral west\", \"the green zone\", \"west lafayette\", \"jedwabne\", \"baluchistan province\", \"mumbai\", \"new smyrna\", \"wayne\", \"slovenia\", \"charlottesville\", \"fairfax county\", \"hampton\", \"nassau county\", \"xinjiang\", \"yerevan\", \"chicago-kent\", \"esfahan\", \"rotterdam\", \"shenzhen\", \"kathmandu\", \"nepal\", \"ghulja\", \"lausanne\", \"helmand province\", \"ann arbor\", \"west africa\", \"damascus\", \"perth\", \"senegal\", \"nagoya\", \"xinxiang\", \"oman\", \"white haven\", \"faulkner county\", \"frankfurt\", \"u.s.-eu\", \"forkhill\", \"craigavon\", \"newry\", \"keady\", \"bronx\", \"ithaca\", \"ramat shlomo\", \"guinea-bissau\", \"masada\", \"bruges\", \"venice\", \"qum\", \"nicaragua\", \"estonia\", \"south sudan\", \"olathe\", \"montgomery county\", \"coionia morelos\", \"el paso\", \"ponce\", \"chiapas\", \"chihuahua city\", \"hangzhou\", \"taipei\", \"taixing\", \"jiangsu\", \"najaf\", \"diego garcia\", \"blue nile\", \"aceh\", \"malvern\", \"turkmenistan\", \"tajikistan\", \"naperville\", \"north lawndale\", \"douglas park\", \"st. charles\", \"muskoka\", \"transnistrian\", \"chisinau\", \"belarus\", \"sao paulo\", \"south hampton\", \"jalalabad\", \"messina\", \"arad\", \"ramadi\", \"fallujah\", \"johannesburg\", \"bridgewater\", \"burkina faso\", \"long island\", \"indianapolis\", \"san clemente\", \"guyana\", \"armenia\", \"vail\", \"herat\", \"harmarville\", \"mount herzl\", \"munich\", \"elyria\", \"haifa\", \"sochi\", \"kunduz\", \"muridke\", \"badakhshan\", \"bloomsbury\", \"suriname\", \"medina\", \"nuremberg\", \"potomac\", \"las vegas\", \"chennai\", \"bihar\", \"amsterdam\", \"cedarville\", \"dupage county's\", \"wisconsin\", \"rockford\", \"quito\", \"guayaquil\", \"hungary\", \"budapest\", \"strasbourg\", \"monterrey\", \"southampton\", \"dallas\", \"amherst\", \"monaco\", \"dachau\", \"bloomington\", \"mahabad\", \"cleveland\", \"west chester\", \"astoria\", \"toledo\", \"northwest ohio\", \"sparta\", \"slovakia\", \"bahrain\", \"birmingham\", \"brooklyn\", \"nablus\", \"khoy\", \"western azerbaijan\", \"malawi\", \"helsinki\", \"nauru\", \"east timor\", \"bonn\", \"lund\", \"rambouillet\", \"yugoslavia\", \"des plaines\", \"cote d'ivoire\", \"timor\", \"greenwich village\"], \"marker\": {\"line\": {\"color\": \"darkgray\", \"width\": 0.5}}, \"reversescale\": true, \"text\": [\"iran\", \"afghanistan\", \"china\", \"israel\", \"pakistan\", \"iraq\", \"haiti\", \"libya\", \"russia\", \"india\", \"uk\", \"london\", \"turkey\", \"kabul\", \"egypt\", \"france\", \"mexico\", \"jerusalem\", \"brazil\", \"florida\", \"germany\", \"honduras\", \"indonesia\", \"japan\", \"benghazi\", \"north korea\", \"gaza\", \"chicago\", \"cuba\", \"beijing\", \"paris\", \"northern ireland\", \"the west bank\", \"south africa\", \"california\", \"brussels\", \"belfast\", \"syria\", \"canada\", \"tehran\", \"vietnam\", \"spain\", \"baghdad\", \"copenhagen\", \"palau\", \"poland\", \"arizona\", \"yemen\", \"norway\", \"berlin\", \"singapore\", \"argentina\", \"moscow\", \"qatar\", \"korea\", \"ireland\", \"saudi arabia\", \"islamabad\", \"italy\", \"whitehaven\", \"australia\", \"texas\", \"chile\", \"colombia\", \"ukraine\", \"jordan\", \"uae\", \"greece\", \"hawaii\", \"kenya\", \"sudan\", \"kentucky\", \"sri lanka\", \"miami\", \"somalia\", \"cambridge\", \"georgetown\", \"tokyo\", \"bosnia\", \"alaska\", \"netherlands\", \"kandahar\", \"illinois\", \"rome\", \"connecticut\", \"nigeria\", \"venezuela\", \"south korea\", \"ecuador\", \"detroit\", \"nevada\", \"belgium\", \"tunisia\", \"liberia\", \"warsaw\", \"kurdistan\", \"manhattan\", \"uruguay\", \"seoul\", \"vienna\", \"angola\", \"bangladesh\", \"oslo\", \"uganda\", \"pittsburgh\", \"rwanda\", \"louisiana\", \"houston\", \"los angeles\", \"lithuania\", \"doha\", \"lahore\", \"switzerland\", \"istanbul\", \"kuwait\", \"athens\", \"pyongyang\", \"jamaica\", \"lebanon\", \"philippines\", \"bolivia\", \"westminster\", \"congo\", \"prague\", \"bogota\", \"nairobi\", \"new delhi\", \"moldova\", \"panama\", \"buenos aires\", \"new\\nyork\", \"ramallah\", \"arkansas\", \"taiwan\", \"sweden\", \"peru\", \"malaysia\", \"washington dc\", \"iceland\", \"krakow\", \"dubai\", \"new hampshire\", \"austria\", \"westchester county airport\", \"white plains\", \"westchester county\", \"khartoum\", \"peshawar\", \"montreal\", \"karachi\", \"kazakhstan\", \"guatemala\", \"dominican republic\", \"montevideo\", \"ethiopia\", \"wales\", \"thailand\", \"new zealand\", \"denver\", \"tanzania\", \"ottawa\", \"nyc\", \"reno\", \"holland\", \"orange county\", \"uzbekistan\", \"zambia\", \"costa rica\", \"delaware\", \"denmark\", \"hillsborough\", \"brasilia\", \"hollywood\", \"darfur\", \"hebron\", \"mexico city\", \"algeria\", \"mosul\", \"portugal\", \"kampala\", \"indiana\", \"alabama\", \"el salvador\", \"seattle\", \"kansas\", \"lisbon\", \"kosovo\", \"sirte\", \"tunis\", \"abu dhabi\", \"azerbaijan\", \"pretoria\", \"bali\", \"corfu\", \"trieste\", \"macedonia\", \"san francisco\", \"durban\", \"guinea\", \"north dakota\", \"havana\", \"riyadh\", \"czech republic\", \"stockholm\", \"hamden\", \"myanmar\", \"mongolia\", \"albania\", \"maldives\", \"puerto rico\", \"colombo\", \"boston\", \"santiago\", \"canberra\", \"san antonio\", \"lockerbie\", \"scotland\", \"quetta\", \"colorado\", \"okinawa\", \"tibet\", \"hong kong\", \"romania\", \"chappaqua\", \"waterloo\", \"ghana\", \"armagh\", \"luxembourg\", \"brighton\", \"punjab\", \"syracuse\", \"alexandria\", \"louisville\", \"kyrgyzstan\", \"tallin\", \"juba\", \"ciudad juarez\", \"luxor\", \"cancun\", \"madrid\", \"des moines\", \"arlington heights\", \"rhode island\", \"lviv\", \"cameroon\", \"springfield\", \"tampa\", \"tucson\", \"bagram\", \"annapolis\", \"mecca\", \"ankara\", \"gainesville\", \"finland\", \"greenland\", \"malta\", \"san diego\", \"sebha\", \"serbia\", \"sharjah\", \"hama\", \"derna\", \"addis\", \"ajdabiya\", \"kufra\", \"tripolitania\", \"cannes\", \"rochester\", \"philadelphia\", \"hamptons\", \"cincinnati\", \"kirkuk\", \"madagascar\", \"porto alegre\", \"oak hill's\", \"nangarhar province\", \"florence\", \"hunan\", \"bushehr\", \"baluchistan\", \"sistan\", \"kordestan\", \"mazandaran\", \"hainan island\", \"calcutta\", \"garten\", \"zimbabwe\", \"bahamas\", \"bangkok\", \"guam\", \"honolulu\", \"cambodia\", \"new orleans\", \"jakarta\", \"al anbar\", \"saigon\", \"denton\", \"latvia\", \"asuncion\", \"bariloche\", \"reykjavik\", \"wellington\", \"jericho\", \"washington heights\", \"wirral west\", \"the green zone\", \"west lafayette\", \"jedwabne\", \"baluchistan province\", \"mumbai\", \"new smyrna\", \"wayne\", \"slovenia\", \"charlottesville\", \"fairfax county\", \"hampton\", \"nassau county\", \"xinjiang\", \"yerevan\", \"chicago-kent\", \"esfahan\", \"rotterdam\", \"shenzhen\", \"kathmandu\", \"nepal\", \"ghulja\", \"lausanne\", \"helmand province\", \"ann arbor\", \"west africa\", \"damascus\", \"perth\", \"senegal\", \"nagoya\", \"xinxiang\", \"oman\", \"white haven\", \"faulkner county\", \"frankfurt\", \"u.s.-eu\", \"forkhill\", \"craigavon\", \"newry\", \"keady\", \"bronx\", \"ithaca\", \"ramat shlomo\", \"guinea-bissau\", \"masada\", \"bruges\", \"venice\", \"qum\", \"nicaragua\", \"estonia\", \"south sudan\", \"olathe\", \"montgomery county\", \"coionia morelos\", \"el paso\", \"ponce\", \"chiapas\", \"chihuahua city\", \"hangzhou\", \"taipei\", \"taixing\", \"jiangsu\", \"najaf\", \"diego garcia\", \"blue nile\", \"aceh\", \"malvern\", \"turkmenistan\", \"tajikistan\", \"naperville\", \"north lawndale\", \"douglas park\", \"st. charles\", \"muskoka\", \"transnistrian\", \"chisinau\", \"belarus\", \"sao paulo\", \"south hampton\", \"jalalabad\", \"messina\", \"arad\", \"ramadi\", \"fallujah\", \"johannesburg\", \"bridgewater\", \"burkina faso\", \"long island\", \"indianapolis\", \"san clemente\", \"guyana\", \"armenia\", \"vail\", \"herat\", \"harmarville\", \"mount herzl\", \"munich\", \"elyria\", \"haifa\", \"sochi\", \"kunduz\", \"muridke\", \"badakhshan\", \"bloomsbury\", \"suriname\", \"medina\", \"nuremberg\", \"potomac\", \"las vegas\", \"chennai\", \"bihar\", \"amsterdam\", \"cedarville\", \"dupage county's\", \"wisconsin\", \"rockford\", \"quito\", \"guayaquil\", \"hungary\", \"budapest\", \"strasbourg\", \"monterrey\", \"southampton\", \"dallas\", \"amherst\", \"monaco\", \"dachau\", \"bloomington\", \"mahabad\", \"cleveland\", \"west chester\", \"astoria\", \"toledo\", \"northwest ohio\", \"sparta\", \"slovakia\", \"bahrain\", \"birmingham\", \"brooklyn\", \"nablus\", \"khoy\", \"western azerbaijan\", \"malawi\", \"helsinki\", \"nauru\", \"east timor\", \"bonn\", \"lund\", \"rambouillet\", \"yugoslavia\", \"des plaines\", \"cote d'ivoire\", \"timor\", \"greenwich village\"], \"type\": \"choropleth\", \"z\": [-0.49504950495049505, 0.28, 1.2823529411764707, 2.4246575342465753, 1.4714285714285715, -1.1176470588235294, 1.619047619047619, -0.4909090909090909, -0.018518518518518517, 2.4423076923076925, -0.12195121951219512, 0.12195121951219512, 0.5454545454545454, 0.6060606060606061, -0.2222222222222222, 0.04, 0.88, 0.5, 1.7083333333333333, 0.6086956521739131, -0.6086956521739131, 0.22727272727272727, 4.238095238095238, 0.2857142857142857, -5.7, -1.65, -1.263157894736842, 1.1666666666666667, 1.0, 1.5555555555555556, 0.5882352941176471, 6.9411764705882355, 1.4705882352941178, 2.5625, -0.125, -0.5, 1.4375, -1.0666666666666667, 0.2, -1.0, 1.8571428571428572, 0.38461538461538464, -1.5384615384615385, -0.7692307692307693, 11.0, -1.3846153846153846, 0.23076923076923078, -2.0833333333333335, 1.0833333333333333, 2.0833333333333335, 2.5833333333333335, 0.9166666666666666, 1.75, 0.9090909090909091, 0.18181818181818182, 1.8181818181818181, -0.7, 2.7, 0.3, 0.2222222222222222, 1.7777777777777777, -0.5555555555555556, -1.0, 2.2222222222222223, 0.4444444444444444, -0.625, 0.625, -2.0, -0.25, 2.375, 1.625, 1.875, -20.428571428571427, -0.14285714285714285, -0.2857142857142857, 2.857142857142857, -0.42857142857142855, 0.7142857142857143, -0.14285714285714285, 0.5714285714285714, 0.42857142857142855, -2.7142857142857144, -0.2857142857142857, -0.16666666666666666, 0.16666666666666666, 5.166666666666667, -0.8333333333333334, -2.1666666666666665, 1.3333333333333333, 3.8333333333333335, 0.6666666666666666, 0.6666666666666666, 6.0, -1.0, 1.8, -4.0, -1.8, 0.8, -0.8, 1.6, 0.4, 1.6, 2.4, 1.8, -1.4, 1.6, -2.0, 0.4, -1.2, 1.2, -0.25, 0.5, 2.25, 0.25, -1.75, -0.25, -0.5, 0.0, 0.0, 0.0, 1.5, -0.25, -9.5, 0.75, 1.25, 2.0, 3.0, 3.0, 0.75, 0.75, 1.5, 2.0, 0.0, -1.0, 1.25, 0.0, 0.5, 2.0, 0.5, 3.0, 1.25, 1.5, -2.0, 0.0, 0.0, 1.3333333333333333, 1.3333333333333333, -1.3333333333333333, 0.6666666666666666, 1.6666666666666667, 1.0, 0.6666666666666666, 0.6666666666666666, 1.0, 5.666666666666667, -2.0, 0.0, 0.6666666666666666, -1.0, 2.0, 0.6666666666666666, 1.3333333333333333, -2.0, 0.6666666666666666, 2.0, 0.6666666666666666, 0.3333333333333333, -0.6666666666666666, 1.3333333333333333, 0.6666666666666666, 0.3333333333333333, 2.0, 1.6666666666666667, -2.3333333333333335, 1.0, -1.6666666666666667, 2.0, 0.0, -0.6666666666666666, -1.0, -0.3333333333333333, -1.0, 0.6666666666666666, -0.6666666666666666, 1.6666666666666667, 3.3333333333333335, 0.3333333333333333, 0.5, 1.5, -0.5, 1.0, 3.0, 1.0, 0.0, 0.0, -3.5, 0.0, 2.0, 1.5, 1.0, -3.0, 0.5, 0.0, 4.5, 0.5, -0.5, 3.5, 4.5, 1.5, 1.0, -4.0, -1.5, 3.0, 2.0, -1.5, -3.5, -3.0, 1.5, 3.5, 0.0, 1.5, -1.0, 3.5, 0.0, 0.0, 2.5, -2.5, 1.0, 5.0, 1.0, -2.5, -3.0, 0.0, 13.0, 0.5, -4.0, -3.0, -1.0, 0.5, 4.0, 1.5, 1.0, 6.5, 2.0, 5.0, -3.5, -1.0, -1.0, -2.0, 3.0, 1.5, -2.0, 0.0, 1.0, 0.0, 0.0, 2.0, -6.0, 0.0, 1.0, 0.0, -1.0, 0.0, -2.0, 0.0, 0.0, 0.0, 0.0, 2.0, 0.0, -7.0, 5.0, -3.0, 8.0, 0.0, 2.0, 0.0, 0.0, -4.0, 0.0, 0.0, 0.0, 0.0, 0.0, -5.0, 0.0, 2.0, 2.0, 0.0, 0.0, 1.0, 0.0, -3.0, 2.0, -2.0, -4.0, 2.0, -1.0, 6.0, 3.0, 0.0, 0.0, 2.0, 3.0, 1.0, 0.0, 12.0, -9.0, 2.0, -1.0, 0.0, 0.0, -1.0, -2.0, 5.0, 0.0, 7.0, 0.0, -3.0, 1.0, 0.0, 1.0, 1.0, 2.0, 2.0, 0.0, 4.0, 1.0, 0.0, -1.0, 3.0, 2.0, 5.0, 2.0, 3.0, 0.0, 0.0, 0.0, 0.0, 8.0, -1.0, -4.0, -4.0, -3.0, 1.0, 0.0, -2.0, 0.0, -3.0, 3.0, 3.0, 2.0, 0.0, 2.0, 1.0, 0.0, -3.0, -9.0, -7.0, -9.0, 3.0, -5.0, -1.0, -4.0, -2.0, -2.0, 0.0, 2.0, 12.0, 10.0, 0.0, 4.0, 4.0, 4.0, 0.0, 3.0, 4.0, 4.0, 3.0, 4.0, 0.0, 3.0, 0.0, -5.0, 2.0, 0.0, 3.0, 3.0, -1.0, 0.0, 0.0, 0.0, 0.0, 0.0, 0.0, -4.0, -2.0, 2.0, 0.0, -3.0, -3.0, -4.0, 0.0, 0.0, 0.0, 0.0, 0.0, 7.0, 1.0, -2.0, 0.0, 2.0, 0.0, 5.0, 0.0, 1.0, 6.0, 3.0, 1.0, 0.0, 5.0, 2.0, 4.0, 1.0, -2.0, -11.0, 0.0, -3.0, 1.0, -1.0, -1.0, 0.0, -2.0, -2.0, 0.0, 0.0, -2.0, -5.0, -3.0, 0.0, 1.0, 0.0, 0.0, 1.0, -7.0, -7.0, 2.0, 0.0, 0.0, 8.0, 2.0, -2.0, -3.0, 0.0, -1.0, 0.0, 0.0, 0.0]}],                        {\"annotations\": [{\"showarrow\": false, \"text\": \"Hillary Clinton's emails\", \"x\": 0.55, \"xref\": \"paper\", \"y\": 0.1, \"yref\": \"paper\"}], \"geo\": {\"projection\": {\"type\": \"equirectangular\"}, \"showcoastlines\": false, \"showframe\": false}, \"template\": {\"data\": {\"bar\": [{\"error_x\": {\"color\": \"#2a3f5f\"}, \"error_y\": {\"color\": \"#2a3f5f\"}, \"marker\": {\"line\": {\"color\": \"#E5ECF6\", \"width\": 0.5}}, \"type\": \"bar\"}], \"barpolar\": [{\"marker\": {\"line\": {\"color\": \"#E5ECF6\", \"width\": 0.5}}, \"type\": \"barpolar\"}], \"carpet\": [{\"aaxis\": {\"endlinecolor\": \"#2a3f5f\", \"gridcolor\": \"white\", \"linecolor\": \"white\", \"minorgridcolor\": \"white\", \"startlinecolor\": \"#2a3f5f\"}, \"baxis\": {\"endlinecolor\": \"#2a3f5f\", \"gridcolor\": \"white\", \"linecolor\": \"white\", \"minorgridcolor\": \"white\", \"startlinecolor\": \"#2a3f5f\"}, \"type\": \"carpet\"}], \"choropleth\": [{\"colorbar\": {\"outlinewidth\": 0, \"ticks\": \"\"}, \"type\": \"choropleth\"}], \"contour\": [{\"colorbar\": {\"outlinewidth\": 0, \"ticks\": \"\"}, \"colorscale\": [[0.0, \"#0d0887\"], [0.1111111111111111, \"#46039f\"], [0.2222222222222222, \"#7201a8\"], [0.3333333333333333, \"#9c179e\"], [0.4444444444444444, \"#bd3786\"], [0.5555555555555556, \"#d8576b\"], [0.6666666666666666, \"#ed7953\"], [0.7777777777777778, \"#fb9f3a\"], [0.8888888888888888, \"#fdca26\"], [1.0, \"#f0f921\"]], \"type\": \"contour\"}], \"contourcarpet\": [{\"colorbar\": {\"outlinewidth\": 0, \"ticks\": \"\"}, \"type\": \"contourcarpet\"}], \"heatmap\": [{\"colorbar\": {\"outlinewidth\": 0, \"ticks\": \"\"}, \"colorscale\": [[0.0, \"#0d0887\"], [0.1111111111111111, \"#46039f\"], [0.2222222222222222, \"#7201a8\"], [0.3333333333333333, \"#9c179e\"], [0.4444444444444444, \"#bd3786\"], [0.5555555555555556, \"#d8576b\"], [0.6666666666666666, \"#ed7953\"], [0.7777777777777778, \"#fb9f3a\"], [0.8888888888888888, \"#fdca26\"], [1.0, \"#f0f921\"]], \"type\": \"heatmap\"}], \"heatmapgl\": [{\"colorbar\": {\"outlinewidth\": 0, \"ticks\": \"\"}, \"colorscale\": [[0.0, \"#0d0887\"], [0.1111111111111111, \"#46039f\"], [0.2222222222222222, \"#7201a8\"], [0.3333333333333333, \"#9c179e\"], [0.4444444444444444, \"#bd3786\"], [0.5555555555555556, \"#d8576b\"], [0.6666666666666666, \"#ed7953\"], [0.7777777777777778, \"#fb9f3a\"], [0.8888888888888888, \"#fdca26\"], [1.0, \"#f0f921\"]], \"type\": \"heatmapgl\"}], \"histogram\": [{\"marker\": {\"colorbar\": {\"outlinewidth\": 0, \"ticks\": \"\"}}, \"type\": \"histogram\"}], \"histogram2d\": [{\"colorbar\": {\"outlinewidth\": 0, \"ticks\": \"\"}, \"colorscale\": [[0.0, \"#0d0887\"], [0.1111111111111111, \"#46039f\"], [0.2222222222222222, \"#7201a8\"], [0.3333333333333333, \"#9c179e\"], [0.4444444444444444, \"#bd3786\"], [0.5555555555555556, \"#d8576b\"], [0.6666666666666666, \"#ed7953\"], [0.7777777777777778, \"#fb9f3a\"], [0.8888888888888888, \"#fdca26\"], [1.0, \"#f0f921\"]], \"type\": \"histogram2d\"}], \"histogram2dcontour\": [{\"colorbar\": {\"outlinewidth\": 0, \"ticks\": \"\"}, \"colorscale\": [[0.0, \"#0d0887\"], [0.1111111111111111, \"#46039f\"], [0.2222222222222222, \"#7201a8\"], [0.3333333333333333, \"#9c179e\"], [0.4444444444444444, \"#bd3786\"], [0.5555555555555556, \"#d8576b\"], [0.6666666666666666, \"#ed7953\"], [0.7777777777777778, \"#fb9f3a\"], [0.8888888888888888, \"#fdca26\"], [1.0, \"#f0f921\"]], \"type\": \"histogram2dcontour\"}], \"mesh3d\": [{\"colorbar\": {\"outlinewidth\": 0, \"ticks\": \"\"}, \"type\": \"mesh3d\"}], \"parcoords\": [{\"line\": {\"colorbar\": {\"outlinewidth\": 0, \"ticks\": \"\"}}, \"type\": \"parcoords\"}], \"pie\": [{\"automargin\": true, \"type\": \"pie\"}], \"scatter\": [{\"marker\": {\"colorbar\": {\"outlinewidth\": 0, \"ticks\": \"\"}}, \"type\": \"scatter\"}], \"scatter3d\": [{\"line\": {\"colorbar\": {\"outlinewidth\": 0, \"ticks\": \"\"}}, \"marker\": {\"colorbar\": {\"outlinewidth\": 0, \"ticks\": \"\"}}, \"type\": \"scatter3d\"}], \"scattercarpet\": [{\"marker\": {\"colorbar\": {\"outlinewidth\": 0, \"ticks\": \"\"}}, \"type\": \"scattercarpet\"}], \"scattergeo\": [{\"marker\": {\"colorbar\": {\"outlinewidth\": 0, \"ticks\": \"\"}}, \"type\": \"scattergeo\"}], \"scattergl\": [{\"marker\": {\"colorbar\": {\"outlinewidth\": 0, \"ticks\": \"\"}}, \"type\": \"scattergl\"}], \"scattermapbox\": [{\"marker\": {\"colorbar\": {\"outlinewidth\": 0, \"ticks\": \"\"}}, \"type\": \"scattermapbox\"}], \"scatterpolar\": [{\"marker\": {\"colorbar\": {\"outlinewidth\": 0, \"ticks\": \"\"}}, \"type\": \"scatterpolar\"}], \"scatterpolargl\": [{\"marker\": {\"colorbar\": {\"outlinewidth\": 0, \"ticks\": \"\"}}, \"type\": \"scatterpolargl\"}], \"scatterternary\": [{\"marker\": {\"colorbar\": {\"outlinewidth\": 0, \"ticks\": \"\"}}, \"type\": \"scatterternary\"}], \"surface\": [{\"colorbar\": {\"outlinewidth\": 0, \"ticks\": \"\"}, \"colorscale\": [[0.0, \"#0d0887\"], [0.1111111111111111, \"#46039f\"], [0.2222222222222222, \"#7201a8\"], [0.3333333333333333, \"#9c179e\"], [0.4444444444444444, \"#bd3786\"], [0.5555555555555556, \"#d8576b\"], [0.6666666666666666, \"#ed7953\"], [0.7777777777777778, \"#fb9f3a\"], [0.8888888888888888, \"#fdca26\"], [1.0, \"#f0f921\"]], \"type\": \"surface\"}], \"table\": [{\"cells\": {\"fill\": {\"color\": \"#EBF0F8\"}, \"line\": {\"color\": \"white\"}}, \"header\": {\"fill\": {\"color\": \"#C8D4E3\"}, \"line\": {\"color\": \"white\"}}, \"type\": \"table\"}]}, \"layout\": {\"annotationdefaults\": {\"arrowcolor\": \"#2a3f5f\", \"arrowhead\": 0, \"arrowwidth\": 1}, \"autotypenumbers\": \"strict\", \"coloraxis\": {\"colorbar\": {\"outlinewidth\": 0, \"ticks\": \"\"}}, \"colorscale\": {\"diverging\": [[0, \"#8e0152\"], [0.1, \"#c51b7d\"], [0.2, \"#de77ae\"], [0.3, \"#f1b6da\"], [0.4, \"#fde0ef\"], [0.5, \"#f7f7f7\"], [0.6, \"#e6f5d0\"], [0.7, \"#b8e186\"], [0.8, \"#7fbc41\"], [0.9, \"#4d9221\"], [1, \"#276419\"]], \"sequential\": [[0.0, \"#0d0887\"], [0.1111111111111111, \"#46039f\"], [0.2222222222222222, \"#7201a8\"], [0.3333333333333333, \"#9c179e\"], [0.4444444444444444, \"#bd3786\"], [0.5555555555555556, \"#d8576b\"], [0.6666666666666666, \"#ed7953\"], [0.7777777777777778, \"#fb9f3a\"], [0.8888888888888888, \"#fdca26\"], [1.0, \"#f0f921\"]], \"sequentialminus\": [[0.0, \"#0d0887\"], [0.1111111111111111, \"#46039f\"], [0.2222222222222222, \"#7201a8\"], [0.3333333333333333, \"#9c179e\"], [0.4444444444444444, \"#bd3786\"], [0.5555555555555556, \"#d8576b\"], [0.6666666666666666, \"#ed7953\"], [0.7777777777777778, \"#fb9f3a\"], [0.8888888888888888, \"#fdca26\"], [1.0, \"#f0f921\"]]}, \"colorway\": [\"#636efa\", \"#EF553B\", \"#00cc96\", \"#ab63fa\", \"#FFA15A\", \"#19d3f3\", \"#FF6692\", \"#B6E880\", \"#FF97FF\", \"#FECB52\"], \"font\": {\"color\": \"#2a3f5f\"}, \"geo\": {\"bgcolor\": \"white\", \"lakecolor\": \"white\", \"landcolor\": \"#E5ECF6\", \"showlakes\": true, \"showland\": true, \"subunitcolor\": \"white\"}, \"hoverlabel\": {\"align\": \"left\"}, \"hovermode\": \"closest\", \"mapbox\": {\"style\": \"light\"}, \"paper_bgcolor\": \"white\", \"plot_bgcolor\": \"#E5ECF6\", \"polar\": {\"angularaxis\": {\"gridcolor\": \"white\", \"linecolor\": \"white\", \"ticks\": \"\"}, \"bgcolor\": \"#E5ECF6\", \"radialaxis\": {\"gridcolor\": \"white\", \"linecolor\": \"white\", \"ticks\": \"\"}}, \"scene\": {\"xaxis\": {\"backgroundcolor\": \"#E5ECF6\", \"gridcolor\": \"white\", \"gridwidth\": 2, \"linecolor\": \"white\", \"showbackground\": true, \"ticks\": \"\", \"zerolinecolor\": \"white\"}, \"yaxis\": {\"backgroundcolor\": \"#E5ECF6\", \"gridcolor\": \"white\", \"gridwidth\": 2, \"linecolor\": \"white\", \"showbackground\": true, \"ticks\": \"\", \"zerolinecolor\": \"white\"}, \"zaxis\": {\"backgroundcolor\": \"#E5ECF6\", \"gridcolor\": \"white\", \"gridwidth\": 2, \"linecolor\": \"white\", \"showbackground\": true, \"ticks\": \"\", \"zerolinecolor\": \"white\"}}, \"shapedefaults\": {\"line\": {\"color\": \"#2a3f5f\"}}, \"ternary\": {\"aaxis\": {\"gridcolor\": \"white\", \"linecolor\": \"white\", \"ticks\": \"\"}, \"baxis\": {\"gridcolor\": \"white\", \"linecolor\": \"white\", \"ticks\": \"\"}, \"bgcolor\": \"#E5ECF6\", \"caxis\": {\"gridcolor\": \"white\", \"linecolor\": \"white\", \"ticks\": \"\"}}, \"title\": {\"x\": 0.05}, \"xaxis\": {\"automargin\": true, \"gridcolor\": \"white\", \"linecolor\": \"white\", \"ticks\": \"\", \"title\": {\"standoff\": 15}, \"zerolinecolor\": \"white\", \"zerolinewidth\": 2}, \"yaxis\": {\"automargin\": true, \"gridcolor\": \"white\", \"linecolor\": \"white\", \"ticks\": \"\", \"title\": {\"standoff\": 15}, \"zerolinecolor\": \"white\", \"zerolinewidth\": 2}}}, \"title\": {\"text\": \"Sentiment associated to countries\"}},                        {\"responsive\": true}                    ).then(function(){\n                            \nvar gd = document.getElementById('aae567e9-8496-48d8-9e92-818d573c0d80');\nvar x = new MutationObserver(function (mutations, observer) {{\n        var display = window.getComputedStyle(gd).display;\n        if (!display || display === 'none') {{\n            console.log([gd, 'removed!']);\n            Plotly.purge(gd);\n            observer.disconnect();\n        }}\n}});\n\n// Listen for the removal of the full notebook cells\nvar notebookContainer = gd.closest('#notebook-container');\nif (notebookContainer) {{\n    x.observe(notebookContainer, {childList: true});\n}}\n\n// Listen for the clearing of the current output cell\nvar outputEl = gd.closest('.output');\nif (outputEl) {{\n    x.observe(outputEl, {childList: true});\n}}\n\n                        })                };                });            </script>        </div>"
     },
     "metadata": {},
     "output_type": "display_data"
    }
   ],
   "source": [
    "fig = go.Figure(\n",
    "    data=go.Choropleth(    \n",
    "    locations = df_geo['entity'],\n",
    "    z = df_geo['score'] /  df_geo['freq'],\n",
    "    text = df_geo['entity'],\n",
    "    # Greys,YlGnBu,Greens,YlOrRd,Bluered,RdBu,Reds,\n",
    "    # Blues,Picnic,Rainbow,Portland,Jet,Hot,Blackbody,Earth,Electric,Viridis,Cividis.     \n",
    "    colorscale = 'Bluered',\n",
    "    autocolorscale=False,\n",
    "    reversescale=True,\n",
    "    marker_line_color='darkgray',\n",
    "    marker_line_width=0.5,\n",
    "    colorbar_tickprefix = '',\n",
    "    colorbar_title = 'Score',\n",
    "))\n",
    "\n",
    "fig.update_layout(\n",
    "    title_text='Sentiment associated to countries',\n",
    "    geo=dict(\n",
    "        showframe=False,\n",
    "        showcoastlines=False,\n",
    "        projection_type='equirectangular'\n",
    "    ),\n",
    "    annotations = [dict(\n",
    "        x=0.55,\n",
    "        y=0.1,\n",
    "        xref='paper',\n",
    "        yref='paper',\n",
    "        showarrow = False,\n",
    "        text=\"Hillary Clinton's emails\" \n",
    "    )]\n",
    ")\n",
    "\n",
    "fig.update_traces(locationmode=\"country names\", selector=dict(type='choropleth'))\n",
    "\n",
    "fig.show()"
   ]
  },
  {
   "cell_type": "markdown",
   "metadata": {},
   "source": [
    "Plot entities over time"
   ]
  },
  {
   "cell_type": "code",
   "execution_count": 72,
   "metadata": {
    "pycharm": {
     "name": "#%%\n"
    }
   },
   "outputs": [],
   "source": [
    "def parse_entities_name(entities):\n",
    "    if entities:\n",
    "        return [e[0] for e in entities]\n",
    "    else:\n",
    "        return []\n",
    "df[\"EntitiesGPEName\"] = df[\"EntitiesGPE\"].apply(parse_entities_name)"
   ]
  },
  {
   "cell_type": "code",
   "execution_count": 73,
   "metadata": {
    "pycharm": {
     "name": "#%%\n"
    },
    "scrolled": false
   },
   "outputs": [
    {
     "data": {
      "text/plain": "   DateYear  DateMonth                                           Entities  \\\n0    2009.0        3.0  [hrc, washington, washington, madagascar, u.s....   \n1    2009.0        4.0  [hrc, mexico, durban, states, washington, camb...   \n2    2009.0        5.0  [holbrooke, karzai, liberia, kazakhstan, india...   \n3    2009.0        6.0  [washington, dc, israel, morocco, no ireland, ...   \n4    2009.0        7.0  [santa, haiti, dc, ny, kurdistan, us, hrc, sor...   \n\n        Date  Freq  \n0 2009-03-01    22  \n1 2009-04-01   268  \n2 2009-05-01   147  \n3 2009-06-01   253  \n4 2009-07-01   250  ",
      "text/html": "<div>\n<style scoped>\n    .dataframe tbody tr th:only-of-type {\n        vertical-align: middle;\n    }\n\n    .dataframe tbody tr th {\n        vertical-align: top;\n    }\n\n    .dataframe thead th {\n        text-align: right;\n    }\n</style>\n<table border=\"1\" class=\"dataframe\">\n  <thead>\n    <tr style=\"text-align: right;\">\n      <th></th>\n      <th>DateYear</th>\n      <th>DateMonth</th>\n      <th>Entities</th>\n      <th>Date</th>\n      <th>Freq</th>\n    </tr>\n  </thead>\n  <tbody>\n    <tr>\n      <th>0</th>\n      <td>2009.0</td>\n      <td>3.0</td>\n      <td>[hrc, washington, washington, madagascar, u.s....</td>\n      <td>2009-03-01</td>\n      <td>22</td>\n    </tr>\n    <tr>\n      <th>1</th>\n      <td>2009.0</td>\n      <td>4.0</td>\n      <td>[hrc, mexico, durban, states, washington, camb...</td>\n      <td>2009-04-01</td>\n      <td>268</td>\n    </tr>\n    <tr>\n      <th>2</th>\n      <td>2009.0</td>\n      <td>5.0</td>\n      <td>[holbrooke, karzai, liberia, kazakhstan, india...</td>\n      <td>2009-05-01</td>\n      <td>147</td>\n    </tr>\n    <tr>\n      <th>3</th>\n      <td>2009.0</td>\n      <td>6.0</td>\n      <td>[washington, dc, israel, morocco, no ireland, ...</td>\n      <td>2009-06-01</td>\n      <td>253</td>\n    </tr>\n    <tr>\n      <th>4</th>\n      <td>2009.0</td>\n      <td>7.0</td>\n      <td>[santa, haiti, dc, ny, kurdistan, us, hrc, sor...</td>\n      <td>2009-07-01</td>\n      <td>250</td>\n    </tr>\n  </tbody>\n</table>\n</div>"
     },
     "execution_count": 73,
     "metadata": {},
     "output_type": "execute_result"
    }
   ],
   "source": [
    "df_nations = df.groupby(by=[\"DateYear\", \"DateMonth\"]).apply(lambda x : list(x[\"EntitiesGPEName\"]))\n",
    "df_nations = pd.DataFrame(df_nations, columns=[\"Entities\"]).reset_index()\n",
    "df_nations[\"Entities\"] = df_nations.reset_index()[\"Entities\"].apply(lambda x:list(itertools.chain(*x)))\n",
    "df_nations[\"Entities\"] = df_nations[\"Entities\"].apply(lambda x: x if x!= [] else None )\n",
    "df_nations = df_nations.dropna()\n",
    "df_nations[\"Date\"] = [datetime.datetime(x[\"DateYear\"], x[\"DateMonth\"], 1) for _, x in df_nations.iterrows()]\n",
    "dx = pd.period_range(min(df_nations.Date), max(df_nations.Date), freq='M')\n",
    "dx = [datetime.datetime(x.year, x.month, 1) for x in dx]\n",
    "ts = pd.DataFrame(dx, columns=[\"Date\"])\n",
    "df_nations = pd.merge(df_nations, ts, on=\"Date\", how=\"outer\").sort_values(by=[\"Date\"])\n",
    "df_nations[\"Entities\"] = df_nations[\"Entities\"].apply(lambda x : x if type(x) is list else [])\n",
    "df_nations[\"Freq\"] = df_nations[\"Entities\"].apply(lambda x: len(x) if x != None else [])\n",
    "df_nations = df_nations.sort_values(by=[\"Date\"])\n",
    "df_nations.to_pickle(os.path.join(SERIALIZATION_FOLDER, \"df_nations.pkl\"))\n",
    "df_nations.head()"
   ]
  },
  {
   "cell_type": "code",
   "execution_count": 74,
   "metadata": {
    "pycharm": {
     "name": "#%%\n"
    }
   },
   "outputs": [
    {
     "data": {
      "application/vnd.plotly.v1+json": {
       "config": {
        "plotlyServerURL": "https://plot.ly"
       },
       "data": [
        {
         "hovertemplate": "Date=%{x}<br>Freq=%{y}<extra></extra>",
         "legendgroup": "",
         "line": {
          "color": "#636efa"
         },
         "mode": "lines",
         "name": "",
         "orientation": "v",
         "showlegend": false,
         "stackgroup": "1",
         "type": "scatter",
         "x": [
          "2009-03-01T00:00:00",
          "2009-04-01T00:00:00",
          "2009-05-01T00:00:00",
          "2009-06-01T00:00:00",
          "2009-07-01T00:00:00",
          "2009-08-01T00:00:00",
          "2009-09-01T00:00:00",
          "2009-10-01T00:00:00",
          "2009-11-01T00:00:00",
          "2009-12-01T00:00:00",
          "2010-01-01T00:00:00",
          "2010-02-01T00:00:00",
          "2010-03-01T00:00:00",
          "2010-04-01T00:00:00",
          "2010-05-01T00:00:00",
          "2010-06-01T00:00:00",
          "2010-07-01T00:00:00",
          "2010-08-01T00:00:00",
          "2010-09-01T00:00:00",
          "2010-10-01T00:00:00",
          "2010-11-01T00:00:00",
          "2010-12-01T00:00:00",
          "2011-01-01T00:00:00",
          "2011-02-01T00:00:00",
          "2011-03-01T00:00:00",
          "2011-04-01T00:00:00",
          "2011-05-01T00:00:00",
          "2011-06-01T00:00:00",
          "2011-07-01T00:00:00",
          "2011-08-01T00:00:00",
          "2011-09-01T00:00:00",
          "2011-10-01T00:00:00",
          "2011-11-01T00:00:00",
          "2011-12-01T00:00:00",
          "2012-01-01T00:00:00",
          "2012-02-01T00:00:00",
          "2012-03-01T00:00:00",
          "2012-04-01T00:00:00",
          "2012-05-01T00:00:00",
          "2012-06-01T00:00:00",
          "2012-07-01T00:00:00",
          "2012-08-01T00:00:00",
          "2012-09-01T00:00:00",
          "2012-10-01T00:00:00",
          "2012-11-01T00:00:00",
          "2012-12-01T00:00:00"
         ],
         "xaxis": "x",
         "y": [
          22,
          268,
          147,
          253,
          250,
          260,
          450,
          308,
          615,
          269,
          394,
          430,
          796,
          287,
          470,
          881,
          276,
          800,
          604,
          344,
          202,
          346,
          0,
          0,
          55,
          34,
          0,
          1,
          0,
          54,
          1,
          0,
          0,
          0,
          9,
          2,
          7,
          50,
          0,
          0,
          18,
          0,
          510,
          69,
          56,
          41
         ],
         "yaxis": "y"
        }
       ],
       "layout": {
        "legend": {
         "tracegroupgap": 0
        },
        "margin": {
         "t": 60
        },
        "template": {
         "data": {
          "bar": [
           {
            "error_x": {
             "color": "#2a3f5f"
            },
            "error_y": {
             "color": "#2a3f5f"
            },
            "marker": {
             "line": {
              "color": "#E5ECF6",
              "width": 0.5
             }
            },
            "type": "bar"
           }
          ],
          "barpolar": [
           {
            "marker": {
             "line": {
              "color": "#E5ECF6",
              "width": 0.5
             }
            },
            "type": "barpolar"
           }
          ],
          "carpet": [
           {
            "aaxis": {
             "endlinecolor": "#2a3f5f",
             "gridcolor": "white",
             "linecolor": "white",
             "minorgridcolor": "white",
             "startlinecolor": "#2a3f5f"
            },
            "baxis": {
             "endlinecolor": "#2a3f5f",
             "gridcolor": "white",
             "linecolor": "white",
             "minorgridcolor": "white",
             "startlinecolor": "#2a3f5f"
            },
            "type": "carpet"
           }
          ],
          "choropleth": [
           {
            "colorbar": {
             "outlinewidth": 0,
             "ticks": ""
            },
            "type": "choropleth"
           }
          ],
          "contour": [
           {
            "colorbar": {
             "outlinewidth": 0,
             "ticks": ""
            },
            "colorscale": [
             [
              0.0,
              "#0d0887"
             ],
             [
              0.1111111111111111,
              "#46039f"
             ],
             [
              0.2222222222222222,
              "#7201a8"
             ],
             [
              0.3333333333333333,
              "#9c179e"
             ],
             [
              0.4444444444444444,
              "#bd3786"
             ],
             [
              0.5555555555555556,
              "#d8576b"
             ],
             [
              0.6666666666666666,
              "#ed7953"
             ],
             [
              0.7777777777777778,
              "#fb9f3a"
             ],
             [
              0.8888888888888888,
              "#fdca26"
             ],
             [
              1.0,
              "#f0f921"
             ]
            ],
            "type": "contour"
           }
          ],
          "contourcarpet": [
           {
            "colorbar": {
             "outlinewidth": 0,
             "ticks": ""
            },
            "type": "contourcarpet"
           }
          ],
          "heatmap": [
           {
            "colorbar": {
             "outlinewidth": 0,
             "ticks": ""
            },
            "colorscale": [
             [
              0.0,
              "#0d0887"
             ],
             [
              0.1111111111111111,
              "#46039f"
             ],
             [
              0.2222222222222222,
              "#7201a8"
             ],
             [
              0.3333333333333333,
              "#9c179e"
             ],
             [
              0.4444444444444444,
              "#bd3786"
             ],
             [
              0.5555555555555556,
              "#d8576b"
             ],
             [
              0.6666666666666666,
              "#ed7953"
             ],
             [
              0.7777777777777778,
              "#fb9f3a"
             ],
             [
              0.8888888888888888,
              "#fdca26"
             ],
             [
              1.0,
              "#f0f921"
             ]
            ],
            "type": "heatmap"
           }
          ],
          "heatmapgl": [
           {
            "colorbar": {
             "outlinewidth": 0,
             "ticks": ""
            },
            "colorscale": [
             [
              0.0,
              "#0d0887"
             ],
             [
              0.1111111111111111,
              "#46039f"
             ],
             [
              0.2222222222222222,
              "#7201a8"
             ],
             [
              0.3333333333333333,
              "#9c179e"
             ],
             [
              0.4444444444444444,
              "#bd3786"
             ],
             [
              0.5555555555555556,
              "#d8576b"
             ],
             [
              0.6666666666666666,
              "#ed7953"
             ],
             [
              0.7777777777777778,
              "#fb9f3a"
             ],
             [
              0.8888888888888888,
              "#fdca26"
             ],
             [
              1.0,
              "#f0f921"
             ]
            ],
            "type": "heatmapgl"
           }
          ],
          "histogram": [
           {
            "marker": {
             "colorbar": {
              "outlinewidth": 0,
              "ticks": ""
             }
            },
            "type": "histogram"
           }
          ],
          "histogram2d": [
           {
            "colorbar": {
             "outlinewidth": 0,
             "ticks": ""
            },
            "colorscale": [
             [
              0.0,
              "#0d0887"
             ],
             [
              0.1111111111111111,
              "#46039f"
             ],
             [
              0.2222222222222222,
              "#7201a8"
             ],
             [
              0.3333333333333333,
              "#9c179e"
             ],
             [
              0.4444444444444444,
              "#bd3786"
             ],
             [
              0.5555555555555556,
              "#d8576b"
             ],
             [
              0.6666666666666666,
              "#ed7953"
             ],
             [
              0.7777777777777778,
              "#fb9f3a"
             ],
             [
              0.8888888888888888,
              "#fdca26"
             ],
             [
              1.0,
              "#f0f921"
             ]
            ],
            "type": "histogram2d"
           }
          ],
          "histogram2dcontour": [
           {
            "colorbar": {
             "outlinewidth": 0,
             "ticks": ""
            },
            "colorscale": [
             [
              0.0,
              "#0d0887"
             ],
             [
              0.1111111111111111,
              "#46039f"
             ],
             [
              0.2222222222222222,
              "#7201a8"
             ],
             [
              0.3333333333333333,
              "#9c179e"
             ],
             [
              0.4444444444444444,
              "#bd3786"
             ],
             [
              0.5555555555555556,
              "#d8576b"
             ],
             [
              0.6666666666666666,
              "#ed7953"
             ],
             [
              0.7777777777777778,
              "#fb9f3a"
             ],
             [
              0.8888888888888888,
              "#fdca26"
             ],
             [
              1.0,
              "#f0f921"
             ]
            ],
            "type": "histogram2dcontour"
           }
          ],
          "mesh3d": [
           {
            "colorbar": {
             "outlinewidth": 0,
             "ticks": ""
            },
            "type": "mesh3d"
           }
          ],
          "parcoords": [
           {
            "line": {
             "colorbar": {
              "outlinewidth": 0,
              "ticks": ""
             }
            },
            "type": "parcoords"
           }
          ],
          "pie": [
           {
            "automargin": true,
            "type": "pie"
           }
          ],
          "scatter": [
           {
            "marker": {
             "colorbar": {
              "outlinewidth": 0,
              "ticks": ""
             }
            },
            "type": "scatter"
           }
          ],
          "scatter3d": [
           {
            "line": {
             "colorbar": {
              "outlinewidth": 0,
              "ticks": ""
             }
            },
            "marker": {
             "colorbar": {
              "outlinewidth": 0,
              "ticks": ""
             }
            },
            "type": "scatter3d"
           }
          ],
          "scattercarpet": [
           {
            "marker": {
             "colorbar": {
              "outlinewidth": 0,
              "ticks": ""
             }
            },
            "type": "scattercarpet"
           }
          ],
          "scattergeo": [
           {
            "marker": {
             "colorbar": {
              "outlinewidth": 0,
              "ticks": ""
             }
            },
            "type": "scattergeo"
           }
          ],
          "scattergl": [
           {
            "marker": {
             "colorbar": {
              "outlinewidth": 0,
              "ticks": ""
             }
            },
            "type": "scattergl"
           }
          ],
          "scattermapbox": [
           {
            "marker": {
             "colorbar": {
              "outlinewidth": 0,
              "ticks": ""
             }
            },
            "type": "scattermapbox"
           }
          ],
          "scatterpolar": [
           {
            "marker": {
             "colorbar": {
              "outlinewidth": 0,
              "ticks": ""
             }
            },
            "type": "scatterpolar"
           }
          ],
          "scatterpolargl": [
           {
            "marker": {
             "colorbar": {
              "outlinewidth": 0,
              "ticks": ""
             }
            },
            "type": "scatterpolargl"
           }
          ],
          "scatterternary": [
           {
            "marker": {
             "colorbar": {
              "outlinewidth": 0,
              "ticks": ""
             }
            },
            "type": "scatterternary"
           }
          ],
          "surface": [
           {
            "colorbar": {
             "outlinewidth": 0,
             "ticks": ""
            },
            "colorscale": [
             [
              0.0,
              "#0d0887"
             ],
             [
              0.1111111111111111,
              "#46039f"
             ],
             [
              0.2222222222222222,
              "#7201a8"
             ],
             [
              0.3333333333333333,
              "#9c179e"
             ],
             [
              0.4444444444444444,
              "#bd3786"
             ],
             [
              0.5555555555555556,
              "#d8576b"
             ],
             [
              0.6666666666666666,
              "#ed7953"
             ],
             [
              0.7777777777777778,
              "#fb9f3a"
             ],
             [
              0.8888888888888888,
              "#fdca26"
             ],
             [
              1.0,
              "#f0f921"
             ]
            ],
            "type": "surface"
           }
          ],
          "table": [
           {
            "cells": {
             "fill": {
              "color": "#EBF0F8"
             },
             "line": {
              "color": "white"
             }
            },
            "header": {
             "fill": {
              "color": "#C8D4E3"
             },
             "line": {
              "color": "white"
             }
            },
            "type": "table"
           }
          ]
         },
         "layout": {
          "annotationdefaults": {
           "arrowcolor": "#2a3f5f",
           "arrowhead": 0,
           "arrowwidth": 1
          },
          "autotypenumbers": "strict",
          "coloraxis": {
           "colorbar": {
            "outlinewidth": 0,
            "ticks": ""
           }
          },
          "colorscale": {
           "diverging": [
            [
             0,
             "#8e0152"
            ],
            [
             0.1,
             "#c51b7d"
            ],
            [
             0.2,
             "#de77ae"
            ],
            [
             0.3,
             "#f1b6da"
            ],
            [
             0.4,
             "#fde0ef"
            ],
            [
             0.5,
             "#f7f7f7"
            ],
            [
             0.6,
             "#e6f5d0"
            ],
            [
             0.7,
             "#b8e186"
            ],
            [
             0.8,
             "#7fbc41"
            ],
            [
             0.9,
             "#4d9221"
            ],
            [
             1,
             "#276419"
            ]
           ],
           "sequential": [
            [
             0.0,
             "#0d0887"
            ],
            [
             0.1111111111111111,
             "#46039f"
            ],
            [
             0.2222222222222222,
             "#7201a8"
            ],
            [
             0.3333333333333333,
             "#9c179e"
            ],
            [
             0.4444444444444444,
             "#bd3786"
            ],
            [
             0.5555555555555556,
             "#d8576b"
            ],
            [
             0.6666666666666666,
             "#ed7953"
            ],
            [
             0.7777777777777778,
             "#fb9f3a"
            ],
            [
             0.8888888888888888,
             "#fdca26"
            ],
            [
             1.0,
             "#f0f921"
            ]
           ],
           "sequentialminus": [
            [
             0.0,
             "#0d0887"
            ],
            [
             0.1111111111111111,
             "#46039f"
            ],
            [
             0.2222222222222222,
             "#7201a8"
            ],
            [
             0.3333333333333333,
             "#9c179e"
            ],
            [
             0.4444444444444444,
             "#bd3786"
            ],
            [
             0.5555555555555556,
             "#d8576b"
            ],
            [
             0.6666666666666666,
             "#ed7953"
            ],
            [
             0.7777777777777778,
             "#fb9f3a"
            ],
            [
             0.8888888888888888,
             "#fdca26"
            ],
            [
             1.0,
             "#f0f921"
            ]
           ]
          },
          "colorway": [
           "#636efa",
           "#EF553B",
           "#00cc96",
           "#ab63fa",
           "#FFA15A",
           "#19d3f3",
           "#FF6692",
           "#B6E880",
           "#FF97FF",
           "#FECB52"
          ],
          "font": {
           "color": "#2a3f5f"
          },
          "geo": {
           "bgcolor": "white",
           "lakecolor": "white",
           "landcolor": "#E5ECF6",
           "showlakes": true,
           "showland": true,
           "subunitcolor": "white"
          },
          "hoverlabel": {
           "align": "left"
          },
          "hovermode": "closest",
          "mapbox": {
           "style": "light"
          },
          "paper_bgcolor": "white",
          "plot_bgcolor": "#E5ECF6",
          "polar": {
           "angularaxis": {
            "gridcolor": "white",
            "linecolor": "white",
            "ticks": ""
           },
           "bgcolor": "#E5ECF6",
           "radialaxis": {
            "gridcolor": "white",
            "linecolor": "white",
            "ticks": ""
           }
          },
          "scene": {
           "xaxis": {
            "backgroundcolor": "#E5ECF6",
            "gridcolor": "white",
            "gridwidth": 2,
            "linecolor": "white",
            "showbackground": true,
            "ticks": "",
            "zerolinecolor": "white"
           },
           "yaxis": {
            "backgroundcolor": "#E5ECF6",
            "gridcolor": "white",
            "gridwidth": 2,
            "linecolor": "white",
            "showbackground": true,
            "ticks": "",
            "zerolinecolor": "white"
           },
           "zaxis": {
            "backgroundcolor": "#E5ECF6",
            "gridcolor": "white",
            "gridwidth": 2,
            "linecolor": "white",
            "showbackground": true,
            "ticks": "",
            "zerolinecolor": "white"
           }
          },
          "shapedefaults": {
           "line": {
            "color": "#2a3f5f"
           }
          },
          "ternary": {
           "aaxis": {
            "gridcolor": "white",
            "linecolor": "white",
            "ticks": ""
           },
           "baxis": {
            "gridcolor": "white",
            "linecolor": "white",
            "ticks": ""
           },
           "bgcolor": "#E5ECF6",
           "caxis": {
            "gridcolor": "white",
            "linecolor": "white",
            "ticks": ""
           }
          },
          "title": {
           "x": 0.05
          },
          "xaxis": {
           "automargin": true,
           "gridcolor": "white",
           "linecolor": "white",
           "ticks": "",
           "title": {
            "standoff": 15
           },
           "zerolinecolor": "white",
           "zerolinewidth": 2
          },
          "yaxis": {
           "automargin": true,
           "gridcolor": "white",
           "linecolor": "white",
           "ticks": "",
           "title": {
            "standoff": 15
           },
           "zerolinecolor": "white",
           "zerolinewidth": 2
          }
         }
        },
        "title": {
         "text": "Frequency of countries by date",
         "x": 0.5,
         "xanchor": "center"
        },
        "xaxis": {
         "anchor": "y",
         "domain": [
          0.0,
          1.0
         ],
         "title": {
          "text": "Date"
         }
        },
        "yaxis": {
         "anchor": "x",
         "domain": [
          0.0,
          1.0
         ],
         "title": {
          "text": "Frequency"
         }
        }
       }
      },
      "text/html": "<div>                            <div id=\"2621891b-6100-45fc-9ee1-56d20870e200\" class=\"plotly-graph-div\" style=\"height:525px; width:100%;\"></div>            <script type=\"text/javascript\">                require([\"plotly\"], function(Plotly) {                    window.PLOTLYENV=window.PLOTLYENV || {};                                    if (document.getElementById(\"2621891b-6100-45fc-9ee1-56d20870e200\")) {                    Plotly.newPlot(                        \"2621891b-6100-45fc-9ee1-56d20870e200\",                        [{\"hovertemplate\": \"Date=%{x}<br>Freq=%{y}<extra></extra>\", \"legendgroup\": \"\", \"line\": {\"color\": \"#636efa\"}, \"mode\": \"lines\", \"name\": \"\", \"orientation\": \"v\", \"showlegend\": false, \"stackgroup\": \"1\", \"type\": \"scatter\", \"x\": [\"2009-03-01T00:00:00\", \"2009-04-01T00:00:00\", \"2009-05-01T00:00:00\", \"2009-06-01T00:00:00\", \"2009-07-01T00:00:00\", \"2009-08-01T00:00:00\", \"2009-09-01T00:00:00\", \"2009-10-01T00:00:00\", \"2009-11-01T00:00:00\", \"2009-12-01T00:00:00\", \"2010-01-01T00:00:00\", \"2010-02-01T00:00:00\", \"2010-03-01T00:00:00\", \"2010-04-01T00:00:00\", \"2010-05-01T00:00:00\", \"2010-06-01T00:00:00\", \"2010-07-01T00:00:00\", \"2010-08-01T00:00:00\", \"2010-09-01T00:00:00\", \"2010-10-01T00:00:00\", \"2010-11-01T00:00:00\", \"2010-12-01T00:00:00\", \"2011-01-01T00:00:00\", \"2011-02-01T00:00:00\", \"2011-03-01T00:00:00\", \"2011-04-01T00:00:00\", \"2011-05-01T00:00:00\", \"2011-06-01T00:00:00\", \"2011-07-01T00:00:00\", \"2011-08-01T00:00:00\", \"2011-09-01T00:00:00\", \"2011-10-01T00:00:00\", \"2011-11-01T00:00:00\", \"2011-12-01T00:00:00\", \"2012-01-01T00:00:00\", \"2012-02-01T00:00:00\", \"2012-03-01T00:00:00\", \"2012-04-01T00:00:00\", \"2012-05-01T00:00:00\", \"2012-06-01T00:00:00\", \"2012-07-01T00:00:00\", \"2012-08-01T00:00:00\", \"2012-09-01T00:00:00\", \"2012-10-01T00:00:00\", \"2012-11-01T00:00:00\", \"2012-12-01T00:00:00\"], \"xaxis\": \"x\", \"y\": [22, 268, 147, 253, 250, 260, 450, 308, 615, 269, 394, 430, 796, 287, 470, 881, 276, 800, 604, 344, 202, 346, 0, 0, 55, 34, 0, 1, 0, 54, 1, 0, 0, 0, 9, 2, 7, 50, 0, 0, 18, 0, 510, 69, 56, 41], \"yaxis\": \"y\"}],                        {\"legend\": {\"tracegroupgap\": 0}, \"margin\": {\"t\": 60}, \"template\": {\"data\": {\"bar\": [{\"error_x\": {\"color\": \"#2a3f5f\"}, \"error_y\": {\"color\": \"#2a3f5f\"}, \"marker\": {\"line\": {\"color\": \"#E5ECF6\", \"width\": 0.5}}, \"type\": \"bar\"}], \"barpolar\": [{\"marker\": {\"line\": {\"color\": \"#E5ECF6\", \"width\": 0.5}}, \"type\": \"barpolar\"}], \"carpet\": [{\"aaxis\": {\"endlinecolor\": \"#2a3f5f\", \"gridcolor\": \"white\", \"linecolor\": \"white\", \"minorgridcolor\": \"white\", \"startlinecolor\": \"#2a3f5f\"}, \"baxis\": {\"endlinecolor\": \"#2a3f5f\", \"gridcolor\": \"white\", \"linecolor\": \"white\", \"minorgridcolor\": \"white\", \"startlinecolor\": \"#2a3f5f\"}, \"type\": \"carpet\"}], \"choropleth\": [{\"colorbar\": {\"outlinewidth\": 0, \"ticks\": \"\"}, \"type\": \"choropleth\"}], \"contour\": [{\"colorbar\": {\"outlinewidth\": 0, \"ticks\": \"\"}, \"colorscale\": [[0.0, \"#0d0887\"], [0.1111111111111111, \"#46039f\"], [0.2222222222222222, \"#7201a8\"], [0.3333333333333333, \"#9c179e\"], [0.4444444444444444, \"#bd3786\"], [0.5555555555555556, \"#d8576b\"], [0.6666666666666666, \"#ed7953\"], [0.7777777777777778, \"#fb9f3a\"], [0.8888888888888888, \"#fdca26\"], [1.0, \"#f0f921\"]], \"type\": \"contour\"}], \"contourcarpet\": [{\"colorbar\": {\"outlinewidth\": 0, \"ticks\": \"\"}, \"type\": \"contourcarpet\"}], \"heatmap\": [{\"colorbar\": {\"outlinewidth\": 0, \"ticks\": \"\"}, \"colorscale\": [[0.0, \"#0d0887\"], [0.1111111111111111, \"#46039f\"], [0.2222222222222222, \"#7201a8\"], [0.3333333333333333, \"#9c179e\"], [0.4444444444444444, \"#bd3786\"], [0.5555555555555556, \"#d8576b\"], [0.6666666666666666, \"#ed7953\"], [0.7777777777777778, \"#fb9f3a\"], [0.8888888888888888, \"#fdca26\"], [1.0, \"#f0f921\"]], \"type\": \"heatmap\"}], \"heatmapgl\": [{\"colorbar\": {\"outlinewidth\": 0, \"ticks\": \"\"}, \"colorscale\": [[0.0, \"#0d0887\"], [0.1111111111111111, \"#46039f\"], [0.2222222222222222, \"#7201a8\"], [0.3333333333333333, \"#9c179e\"], [0.4444444444444444, \"#bd3786\"], [0.5555555555555556, \"#d8576b\"], [0.6666666666666666, \"#ed7953\"], [0.7777777777777778, \"#fb9f3a\"], [0.8888888888888888, \"#fdca26\"], [1.0, \"#f0f921\"]], \"type\": \"heatmapgl\"}], \"histogram\": [{\"marker\": {\"colorbar\": {\"outlinewidth\": 0, \"ticks\": \"\"}}, \"type\": \"histogram\"}], \"histogram2d\": [{\"colorbar\": {\"outlinewidth\": 0, \"ticks\": \"\"}, \"colorscale\": [[0.0, \"#0d0887\"], [0.1111111111111111, \"#46039f\"], [0.2222222222222222, \"#7201a8\"], [0.3333333333333333, \"#9c179e\"], [0.4444444444444444, \"#bd3786\"], [0.5555555555555556, \"#d8576b\"], [0.6666666666666666, \"#ed7953\"], [0.7777777777777778, \"#fb9f3a\"], [0.8888888888888888, \"#fdca26\"], [1.0, \"#f0f921\"]], \"type\": \"histogram2d\"}], \"histogram2dcontour\": [{\"colorbar\": {\"outlinewidth\": 0, \"ticks\": \"\"}, \"colorscale\": [[0.0, \"#0d0887\"], [0.1111111111111111, \"#46039f\"], [0.2222222222222222, \"#7201a8\"], [0.3333333333333333, \"#9c179e\"], [0.4444444444444444, \"#bd3786\"], [0.5555555555555556, \"#d8576b\"], [0.6666666666666666, \"#ed7953\"], [0.7777777777777778, \"#fb9f3a\"], [0.8888888888888888, \"#fdca26\"], [1.0, \"#f0f921\"]], \"type\": \"histogram2dcontour\"}], \"mesh3d\": [{\"colorbar\": {\"outlinewidth\": 0, \"ticks\": \"\"}, \"type\": \"mesh3d\"}], \"parcoords\": [{\"line\": {\"colorbar\": {\"outlinewidth\": 0, \"ticks\": \"\"}}, \"type\": \"parcoords\"}], \"pie\": [{\"automargin\": true, \"type\": \"pie\"}], \"scatter\": [{\"marker\": {\"colorbar\": {\"outlinewidth\": 0, \"ticks\": \"\"}}, \"type\": \"scatter\"}], \"scatter3d\": [{\"line\": {\"colorbar\": {\"outlinewidth\": 0, \"ticks\": \"\"}}, \"marker\": {\"colorbar\": {\"outlinewidth\": 0, \"ticks\": \"\"}}, \"type\": \"scatter3d\"}], \"scattercarpet\": [{\"marker\": {\"colorbar\": {\"outlinewidth\": 0, \"ticks\": \"\"}}, \"type\": \"scattercarpet\"}], \"scattergeo\": [{\"marker\": {\"colorbar\": {\"outlinewidth\": 0, \"ticks\": \"\"}}, \"type\": \"scattergeo\"}], \"scattergl\": [{\"marker\": {\"colorbar\": {\"outlinewidth\": 0, \"ticks\": \"\"}}, \"type\": \"scattergl\"}], \"scattermapbox\": [{\"marker\": {\"colorbar\": {\"outlinewidth\": 0, \"ticks\": \"\"}}, \"type\": \"scattermapbox\"}], \"scatterpolar\": [{\"marker\": {\"colorbar\": {\"outlinewidth\": 0, \"ticks\": \"\"}}, \"type\": \"scatterpolar\"}], \"scatterpolargl\": [{\"marker\": {\"colorbar\": {\"outlinewidth\": 0, \"ticks\": \"\"}}, \"type\": \"scatterpolargl\"}], \"scatterternary\": [{\"marker\": {\"colorbar\": {\"outlinewidth\": 0, \"ticks\": \"\"}}, \"type\": \"scatterternary\"}], \"surface\": [{\"colorbar\": {\"outlinewidth\": 0, \"ticks\": \"\"}, \"colorscale\": [[0.0, \"#0d0887\"], [0.1111111111111111, \"#46039f\"], [0.2222222222222222, \"#7201a8\"], [0.3333333333333333, \"#9c179e\"], [0.4444444444444444, \"#bd3786\"], [0.5555555555555556, \"#d8576b\"], [0.6666666666666666, \"#ed7953\"], [0.7777777777777778, \"#fb9f3a\"], [0.8888888888888888, \"#fdca26\"], [1.0, \"#f0f921\"]], \"type\": \"surface\"}], \"table\": [{\"cells\": {\"fill\": {\"color\": \"#EBF0F8\"}, \"line\": {\"color\": \"white\"}}, \"header\": {\"fill\": {\"color\": \"#C8D4E3\"}, \"line\": {\"color\": \"white\"}}, \"type\": \"table\"}]}, \"layout\": {\"annotationdefaults\": {\"arrowcolor\": \"#2a3f5f\", \"arrowhead\": 0, \"arrowwidth\": 1}, \"autotypenumbers\": \"strict\", \"coloraxis\": {\"colorbar\": {\"outlinewidth\": 0, \"ticks\": \"\"}}, \"colorscale\": {\"diverging\": [[0, \"#8e0152\"], [0.1, \"#c51b7d\"], [0.2, \"#de77ae\"], [0.3, \"#f1b6da\"], [0.4, \"#fde0ef\"], [0.5, \"#f7f7f7\"], [0.6, \"#e6f5d0\"], [0.7, \"#b8e186\"], [0.8, \"#7fbc41\"], [0.9, \"#4d9221\"], [1, \"#276419\"]], \"sequential\": [[0.0, \"#0d0887\"], [0.1111111111111111, \"#46039f\"], [0.2222222222222222, \"#7201a8\"], [0.3333333333333333, \"#9c179e\"], [0.4444444444444444, \"#bd3786\"], [0.5555555555555556, \"#d8576b\"], [0.6666666666666666, \"#ed7953\"], [0.7777777777777778, \"#fb9f3a\"], [0.8888888888888888, \"#fdca26\"], [1.0, \"#f0f921\"]], \"sequentialminus\": [[0.0, \"#0d0887\"], [0.1111111111111111, \"#46039f\"], [0.2222222222222222, \"#7201a8\"], [0.3333333333333333, \"#9c179e\"], [0.4444444444444444, \"#bd3786\"], [0.5555555555555556, \"#d8576b\"], [0.6666666666666666, \"#ed7953\"], [0.7777777777777778, \"#fb9f3a\"], [0.8888888888888888, \"#fdca26\"], [1.0, \"#f0f921\"]]}, \"colorway\": [\"#636efa\", \"#EF553B\", \"#00cc96\", \"#ab63fa\", \"#FFA15A\", \"#19d3f3\", \"#FF6692\", \"#B6E880\", \"#FF97FF\", \"#FECB52\"], \"font\": {\"color\": \"#2a3f5f\"}, \"geo\": {\"bgcolor\": \"white\", \"lakecolor\": \"white\", \"landcolor\": \"#E5ECF6\", \"showlakes\": true, \"showland\": true, \"subunitcolor\": \"white\"}, \"hoverlabel\": {\"align\": \"left\"}, \"hovermode\": \"closest\", \"mapbox\": {\"style\": \"light\"}, \"paper_bgcolor\": \"white\", \"plot_bgcolor\": \"#E5ECF6\", \"polar\": {\"angularaxis\": {\"gridcolor\": \"white\", \"linecolor\": \"white\", \"ticks\": \"\"}, \"bgcolor\": \"#E5ECF6\", \"radialaxis\": {\"gridcolor\": \"white\", \"linecolor\": \"white\", \"ticks\": \"\"}}, \"scene\": {\"xaxis\": {\"backgroundcolor\": \"#E5ECF6\", \"gridcolor\": \"white\", \"gridwidth\": 2, \"linecolor\": \"white\", \"showbackground\": true, \"ticks\": \"\", \"zerolinecolor\": \"white\"}, \"yaxis\": {\"backgroundcolor\": \"#E5ECF6\", \"gridcolor\": \"white\", \"gridwidth\": 2, \"linecolor\": \"white\", \"showbackground\": true, \"ticks\": \"\", \"zerolinecolor\": \"white\"}, \"zaxis\": {\"backgroundcolor\": \"#E5ECF6\", \"gridcolor\": \"white\", \"gridwidth\": 2, \"linecolor\": \"white\", \"showbackground\": true, \"ticks\": \"\", \"zerolinecolor\": \"white\"}}, \"shapedefaults\": {\"line\": {\"color\": \"#2a3f5f\"}}, \"ternary\": {\"aaxis\": {\"gridcolor\": \"white\", \"linecolor\": \"white\", \"ticks\": \"\"}, \"baxis\": {\"gridcolor\": \"white\", \"linecolor\": \"white\", \"ticks\": \"\"}, \"bgcolor\": \"#E5ECF6\", \"caxis\": {\"gridcolor\": \"white\", \"linecolor\": \"white\", \"ticks\": \"\"}}, \"title\": {\"x\": 0.05}, \"xaxis\": {\"automargin\": true, \"gridcolor\": \"white\", \"linecolor\": \"white\", \"ticks\": \"\", \"title\": {\"standoff\": 15}, \"zerolinecolor\": \"white\", \"zerolinewidth\": 2}, \"yaxis\": {\"automargin\": true, \"gridcolor\": \"white\", \"linecolor\": \"white\", \"ticks\": \"\", \"title\": {\"standoff\": 15}, \"zerolinecolor\": \"white\", \"zerolinewidth\": 2}}}, \"title\": {\"text\": \"Frequency of countries by date\", \"x\": 0.5, \"xanchor\": \"center\"}, \"xaxis\": {\"anchor\": \"y\", \"domain\": [0.0, 1.0], \"title\": {\"text\": \"Date\"}}, \"yaxis\": {\"anchor\": \"x\", \"domain\": [0.0, 1.0], \"title\": {\"text\": \"Frequency\"}}},                        {\"responsive\": true}                    ).then(function(){\n                            \nvar gd = document.getElementById('2621891b-6100-45fc-9ee1-56d20870e200');\nvar x = new MutationObserver(function (mutations, observer) {{\n        var display = window.getComputedStyle(gd).display;\n        if (!display || display === 'none') {{\n            console.log([gd, 'removed!']);\n            Plotly.purge(gd);\n            observer.disconnect();\n        }}\n}});\n\n// Listen for the removal of the full notebook cells\nvar notebookContainer = gd.closest('#notebook-container');\nif (notebookContainer) {{\n    x.observe(notebookContainer, {childList: true});\n}}\n\n// Listen for the clearing of the current output cell\nvar outputEl = gd.closest('.output');\nif (outputEl) {{\n    x.observe(outputEl, {childList: true});\n}}\n\n                        })                };                });            </script>        </div>"
     },
     "metadata": {},
     "output_type": "display_data"
    }
   ],
   "source": [
    "def plot_nations_freq(df_nations):\n",
    "    fig = px.area(df_nations, x='Date', y=\"Freq\")\n",
    "    fig.update_layout(\n",
    "        yaxis_title=\"Frequency\",\n",
    "        xaxis_title=\"Date\",\n",
    "        title= dict(\n",
    "            text=f'Frequency of countries by date',\n",
    "            xanchor='center',\n",
    "            x=0.5)\n",
    "    )\n",
    "    return fig\n",
    "\n",
    "plot_nations_freq(df_nations).show()"
   ]
  },
  {
   "cell_type": "code",
   "execution_count": 75,
   "metadata": {},
   "outputs": [
    {
     "data": {
      "text/plain": "              entity  score  freq  \\\n55             palau  143.0  13.0   \n39  northern ireland  118.0  17.0   \n27         indonesia   89.0  21.0   \n62         singapore   31.0  12.0   \n41      south africa   41.0  16.0   \n9              india  127.0  52.0   \n30          benghazi -114.0  20.0   \n59             yemen  -25.0  12.0   \n31       north korea  -33.0  20.0   \n53           baghdad  -20.0  13.0   \n57            poland  -18.0  13.0   \n34              gaza  -24.0  19.0   \n\n                                         dbpedia       norm  \n55             http://dbpedia.org/resource/Palau  11.000000  \n39  http://dbpedia.org/resource/Northern_Ireland   6.941176  \n27         http://dbpedia.org/resource/Indonesia   4.238095  \n62         http://dbpedia.org/resource/Singapore   2.583333  \n41      http://dbpedia.org/resource/South_Africa   2.562500  \n9              http://dbpedia.org/resource/India   2.442308  \n30          http://dbpedia.org/resource/Benghazi  -5.700000  \n59             http://dbpedia.org/resource/Yemen  -2.083333  \n31       http://dbpedia.org/resource/North_Korea  -1.650000  \n53           http://dbpedia.org/resource/Baghdad  -1.538462  \n57            http://dbpedia.org/resource/Poland  -1.384615  \n34         http://dbpedia.org/resource/Gaza_City  -1.263158  ",
      "text/html": "<div>\n<style scoped>\n    .dataframe tbody tr th:only-of-type {\n        vertical-align: middle;\n    }\n\n    .dataframe tbody tr th {\n        vertical-align: top;\n    }\n\n    .dataframe thead th {\n        text-align: right;\n    }\n</style>\n<table border=\"1\" class=\"dataframe\">\n  <thead>\n    <tr style=\"text-align: right;\">\n      <th></th>\n      <th>entity</th>\n      <th>score</th>\n      <th>freq</th>\n      <th>dbpedia</th>\n      <th>norm</th>\n    </tr>\n  </thead>\n  <tbody>\n    <tr>\n      <th>55</th>\n      <td>palau</td>\n      <td>143.0</td>\n      <td>13.0</td>\n      <td>http://dbpedia.org/resource/Palau</td>\n      <td>11.000000</td>\n    </tr>\n    <tr>\n      <th>39</th>\n      <td>northern ireland</td>\n      <td>118.0</td>\n      <td>17.0</td>\n      <td>http://dbpedia.org/resource/Northern_Ireland</td>\n      <td>6.941176</td>\n    </tr>\n    <tr>\n      <th>27</th>\n      <td>indonesia</td>\n      <td>89.0</td>\n      <td>21.0</td>\n      <td>http://dbpedia.org/resource/Indonesia</td>\n      <td>4.238095</td>\n    </tr>\n    <tr>\n      <th>62</th>\n      <td>singapore</td>\n      <td>31.0</td>\n      <td>12.0</td>\n      <td>http://dbpedia.org/resource/Singapore</td>\n      <td>2.583333</td>\n    </tr>\n    <tr>\n      <th>41</th>\n      <td>south africa</td>\n      <td>41.0</td>\n      <td>16.0</td>\n      <td>http://dbpedia.org/resource/South_Africa</td>\n      <td>2.562500</td>\n    </tr>\n    <tr>\n      <th>9</th>\n      <td>india</td>\n      <td>127.0</td>\n      <td>52.0</td>\n      <td>http://dbpedia.org/resource/India</td>\n      <td>2.442308</td>\n    </tr>\n    <tr>\n      <th>30</th>\n      <td>benghazi</td>\n      <td>-114.0</td>\n      <td>20.0</td>\n      <td>http://dbpedia.org/resource/Benghazi</td>\n      <td>-5.700000</td>\n    </tr>\n    <tr>\n      <th>59</th>\n      <td>yemen</td>\n      <td>-25.0</td>\n      <td>12.0</td>\n      <td>http://dbpedia.org/resource/Yemen</td>\n      <td>-2.083333</td>\n    </tr>\n    <tr>\n      <th>31</th>\n      <td>north korea</td>\n      <td>-33.0</td>\n      <td>20.0</td>\n      <td>http://dbpedia.org/resource/North_Korea</td>\n      <td>-1.650000</td>\n    </tr>\n    <tr>\n      <th>53</th>\n      <td>baghdad</td>\n      <td>-20.0</td>\n      <td>13.0</td>\n      <td>http://dbpedia.org/resource/Baghdad</td>\n      <td>-1.538462</td>\n    </tr>\n    <tr>\n      <th>57</th>\n      <td>poland</td>\n      <td>-18.0</td>\n      <td>13.0</td>\n      <td>http://dbpedia.org/resource/Poland</td>\n      <td>-1.384615</td>\n    </tr>\n    <tr>\n      <th>34</th>\n      <td>gaza</td>\n      <td>-24.0</td>\n      <td>19.0</td>\n      <td>http://dbpedia.org/resource/Gaza_City</td>\n      <td>-1.263158</td>\n    </tr>\n  </tbody>\n</table>\n</div>"
     },
     "execution_count": 75,
     "metadata": {},
     "output_type": "execute_result"
    }
   ],
   "source": [
    "TOP_K_CATEGORY = 6\n",
    "FREQ_THLD = 10\n",
    "\n",
    "def get_most_influential_countries(df_ent, freq_th=2, top_k=6):\n",
    "    df_ent = df_ent[df_ent[\"freq\"]>freq_th]\n",
    "    top_positive = df_ent.sort_values(by=[\"norm\"], ascending=False).iloc[:top_k]\n",
    "    top_positive = top_positive[top_positive[\"norm\"] >= 0]\n",
    "    top_negative = df_ent.sort_values(by=[\"norm\"], ascending=True).iloc[:top_k]\n",
    "    top_negative = top_negative[top_negative[\"norm\"] < 0]\n",
    "\n",
    "    return top_positive, top_negative\n",
    "\n",
    "top_positive, top_negative = get_most_influential_countries(df_entities, freq_th=FREQ_THLD, top_k=TOP_K_CATEGORY)\n",
    "pd.concat([top_positive, top_negative])"
   ]
  },
  {
   "cell_type": "code",
   "execution_count": 76,
   "outputs": [
    {
     "data": {
      "text/plain": "   DateYear  DateMonth                                           Entities  \\\n0    2009.0        3.0  [hrc, washington, washington, madagascar, u.s....   \n1    2009.0        4.0  [hrc, mexico, durban, states, washington, camb...   \n2    2009.0        5.0  [holbrooke, karzai, liberia, kazakhstan, india...   \n3    2009.0        6.0  [washington, dc, israel, morocco, no ireland, ...   \n4    2009.0        7.0  [santa, haiti, dc, ny, kurdistan, us, hrc, sor...   \n\n        Date  Freq  \n0 2009-03-01    22  \n1 2009-04-01   268  \n2 2009-05-01   147  \n3 2009-06-01   253  \n4 2009-07-01   250  ",
      "text/html": "<div>\n<style scoped>\n    .dataframe tbody tr th:only-of-type {\n        vertical-align: middle;\n    }\n\n    .dataframe tbody tr th {\n        vertical-align: top;\n    }\n\n    .dataframe thead th {\n        text-align: right;\n    }\n</style>\n<table border=\"1\" class=\"dataframe\">\n  <thead>\n    <tr style=\"text-align: right;\">\n      <th></th>\n      <th>DateYear</th>\n      <th>DateMonth</th>\n      <th>Entities</th>\n      <th>Date</th>\n      <th>Freq</th>\n    </tr>\n  </thead>\n  <tbody>\n    <tr>\n      <th>0</th>\n      <td>2009.0</td>\n      <td>3.0</td>\n      <td>[hrc, washington, washington, madagascar, u.s....</td>\n      <td>2009-03-01</td>\n      <td>22</td>\n    </tr>\n    <tr>\n      <th>1</th>\n      <td>2009.0</td>\n      <td>4.0</td>\n      <td>[hrc, mexico, durban, states, washington, camb...</td>\n      <td>2009-04-01</td>\n      <td>268</td>\n    </tr>\n    <tr>\n      <th>2</th>\n      <td>2009.0</td>\n      <td>5.0</td>\n      <td>[holbrooke, karzai, liberia, kazakhstan, india...</td>\n      <td>2009-05-01</td>\n      <td>147</td>\n    </tr>\n    <tr>\n      <th>3</th>\n      <td>2009.0</td>\n      <td>6.0</td>\n      <td>[washington, dc, israel, morocco, no ireland, ...</td>\n      <td>2009-06-01</td>\n      <td>253</td>\n    </tr>\n    <tr>\n      <th>4</th>\n      <td>2009.0</td>\n      <td>7.0</td>\n      <td>[santa, haiti, dc, ny, kurdistan, us, hrc, sor...</td>\n      <td>2009-07-01</td>\n      <td>250</td>\n    </tr>\n  </tbody>\n</table>\n</div>"
     },
     "execution_count": 76,
     "metadata": {},
     "output_type": "execute_result"
    }
   ],
   "source": [
    "df_nations.head()"
   ],
   "metadata": {
    "collapsed": false,
    "pycharm": {
     "name": "#%%\n"
    }
   }
  },
  {
   "cell_type": "code",
   "execution_count": 77,
   "outputs": [
    {
     "data": {
      "application/vnd.plotly.v1+json": {
       "config": {
        "plotlyServerURL": "https://plot.ly"
       },
       "data": [
        {
         "name": "palau",
         "type": "scatter",
         "x": [
          "2009-03-01T00:00:00",
          "2009-04-01T00:00:00",
          "2009-05-01T00:00:00",
          "2009-06-01T00:00:00",
          "2009-07-01T00:00:00",
          "2009-08-01T00:00:00",
          "2009-09-01T00:00:00",
          "2009-10-01T00:00:00",
          "2009-11-01T00:00:00",
          "2009-12-01T00:00:00",
          "2010-01-01T00:00:00",
          "2010-02-01T00:00:00",
          "2010-03-01T00:00:00",
          "2010-04-01T00:00:00",
          "2010-05-01T00:00:00",
          "2010-06-01T00:00:00",
          "2010-07-01T00:00:00",
          "2010-08-01T00:00:00",
          "2010-09-01T00:00:00",
          "2010-10-01T00:00:00",
          "2010-11-01T00:00:00",
          "2010-12-01T00:00:00",
          "2011-01-01T00:00:00",
          "2011-02-01T00:00:00",
          "2011-03-01T00:00:00",
          "2011-04-01T00:00:00",
          "2011-05-01T00:00:00",
          "2011-06-01T00:00:00",
          "2011-07-01T00:00:00",
          "2011-08-01T00:00:00",
          "2011-09-01T00:00:00",
          "2011-10-01T00:00:00",
          "2011-11-01T00:00:00",
          "2011-12-01T00:00:00",
          "2012-01-01T00:00:00",
          "2012-02-01T00:00:00",
          "2012-03-01T00:00:00",
          "2012-04-01T00:00:00",
          "2012-05-01T00:00:00",
          "2012-06-01T00:00:00",
          "2012-07-01T00:00:00",
          "2012-08-01T00:00:00",
          "2012-09-01T00:00:00",
          "2012-10-01T00:00:00",
          "2012-11-01T00:00:00",
          "2012-12-01T00:00:00"
         ],
         "y": [
          0,
          0,
          0,
          17,
          22,
          0,
          12,
          7,
          0,
          0,
          3,
          0,
          0,
          0,
          0,
          0,
          0,
          1,
          1,
          0,
          0,
          0,
          0,
          0,
          0,
          0,
          0,
          0,
          0,
          0,
          0,
          0,
          0,
          0,
          0,
          0,
          0,
          0,
          0,
          0,
          0,
          0,
          0,
          0,
          0,
          0
         ]
        },
        {
         "name": "northern ireland",
         "type": "scatter",
         "x": [
          "2009-03-01T00:00:00",
          "2009-04-01T00:00:00",
          "2009-05-01T00:00:00",
          "2009-06-01T00:00:00",
          "2009-07-01T00:00:00",
          "2009-08-01T00:00:00",
          "2009-09-01T00:00:00",
          "2009-10-01T00:00:00",
          "2009-11-01T00:00:00",
          "2009-12-01T00:00:00",
          "2010-01-01T00:00:00",
          "2010-02-01T00:00:00",
          "2010-03-01T00:00:00",
          "2010-04-01T00:00:00",
          "2010-05-01T00:00:00",
          "2010-06-01T00:00:00",
          "2010-07-01T00:00:00",
          "2010-08-01T00:00:00",
          "2010-09-01T00:00:00",
          "2010-10-01T00:00:00",
          "2010-11-01T00:00:00",
          "2010-12-01T00:00:00",
          "2011-01-01T00:00:00",
          "2011-02-01T00:00:00",
          "2011-03-01T00:00:00",
          "2011-04-01T00:00:00",
          "2011-05-01T00:00:00",
          "2011-06-01T00:00:00",
          "2011-07-01T00:00:00",
          "2011-08-01T00:00:00",
          "2011-09-01T00:00:00",
          "2011-10-01T00:00:00",
          "2011-11-01T00:00:00",
          "2011-12-01T00:00:00",
          "2012-01-01T00:00:00",
          "2012-02-01T00:00:00",
          "2012-03-01T00:00:00",
          "2012-04-01T00:00:00",
          "2012-05-01T00:00:00",
          "2012-06-01T00:00:00",
          "2012-07-01T00:00:00",
          "2012-08-01T00:00:00",
          "2012-09-01T00:00:00",
          "2012-10-01T00:00:00",
          "2012-11-01T00:00:00",
          "2012-12-01T00:00:00"
         ],
         "y": [
          0,
          1,
          0,
          0,
          0,
          0,
          1,
          1,
          0,
          0,
          2,
          17,
          49,
          1,
          0,
          0,
          0,
          0,
          0,
          3,
          0,
          0,
          0,
          0,
          0,
          0,
          0,
          0,
          0,
          0,
          0,
          0,
          0,
          0,
          0,
          0,
          0,
          0,
          0,
          0,
          0,
          0,
          0,
          0,
          0,
          0
         ]
        },
        {
         "name": "indonesia",
         "type": "scatter",
         "x": [
          "2009-03-01T00:00:00",
          "2009-04-01T00:00:00",
          "2009-05-01T00:00:00",
          "2009-06-01T00:00:00",
          "2009-07-01T00:00:00",
          "2009-08-01T00:00:00",
          "2009-09-01T00:00:00",
          "2009-10-01T00:00:00",
          "2009-11-01T00:00:00",
          "2009-12-01T00:00:00",
          "2010-01-01T00:00:00",
          "2010-02-01T00:00:00",
          "2010-03-01T00:00:00",
          "2010-04-01T00:00:00",
          "2010-05-01T00:00:00",
          "2010-06-01T00:00:00",
          "2010-07-01T00:00:00",
          "2010-08-01T00:00:00",
          "2010-09-01T00:00:00",
          "2010-10-01T00:00:00",
          "2010-11-01T00:00:00",
          "2010-12-01T00:00:00",
          "2011-01-01T00:00:00",
          "2011-02-01T00:00:00",
          "2011-03-01T00:00:00",
          "2011-04-01T00:00:00",
          "2011-05-01T00:00:00",
          "2011-06-01T00:00:00",
          "2011-07-01T00:00:00",
          "2011-08-01T00:00:00",
          "2011-09-01T00:00:00",
          "2011-10-01T00:00:00",
          "2011-11-01T00:00:00",
          "2011-12-01T00:00:00",
          "2012-01-01T00:00:00",
          "2012-02-01T00:00:00",
          "2012-03-01T00:00:00",
          "2012-04-01T00:00:00",
          "2012-05-01T00:00:00",
          "2012-06-01T00:00:00",
          "2012-07-01T00:00:00",
          "2012-08-01T00:00:00",
          "2012-09-01T00:00:00",
          "2012-10-01T00:00:00",
          "2012-11-01T00:00:00",
          "2012-12-01T00:00:00"
         ],
         "y": [
          0,
          0,
          4,
          0,
          0,
          1,
          0,
          2,
          0,
          1,
          1,
          2,
          0,
          3,
          0,
          1,
          0,
          2,
          1,
          0,
          2,
          1,
          0,
          0,
          0,
          0,
          0,
          0,
          0,
          0,
          0,
          0,
          0,
          0,
          0,
          0,
          0,
          0,
          0,
          0,
          0,
          0,
          22,
          0,
          0,
          0
         ]
        },
        {
         "name": "singapore",
         "type": "scatter",
         "x": [
          "2009-03-01T00:00:00",
          "2009-04-01T00:00:00",
          "2009-05-01T00:00:00",
          "2009-06-01T00:00:00",
          "2009-07-01T00:00:00",
          "2009-08-01T00:00:00",
          "2009-09-01T00:00:00",
          "2009-10-01T00:00:00",
          "2009-11-01T00:00:00",
          "2009-12-01T00:00:00",
          "2010-01-01T00:00:00",
          "2010-02-01T00:00:00",
          "2010-03-01T00:00:00",
          "2010-04-01T00:00:00",
          "2010-05-01T00:00:00",
          "2010-06-01T00:00:00",
          "2010-07-01T00:00:00",
          "2010-08-01T00:00:00",
          "2010-09-01T00:00:00",
          "2010-10-01T00:00:00",
          "2010-11-01T00:00:00",
          "2010-12-01T00:00:00",
          "2011-01-01T00:00:00",
          "2011-02-01T00:00:00",
          "2011-03-01T00:00:00",
          "2011-04-01T00:00:00",
          "2011-05-01T00:00:00",
          "2011-06-01T00:00:00",
          "2011-07-01T00:00:00",
          "2011-08-01T00:00:00",
          "2011-09-01T00:00:00",
          "2011-10-01T00:00:00",
          "2011-11-01T00:00:00",
          "2011-12-01T00:00:00",
          "2012-01-01T00:00:00",
          "2012-02-01T00:00:00",
          "2012-03-01T00:00:00",
          "2012-04-01T00:00:00",
          "2012-05-01T00:00:00",
          "2012-06-01T00:00:00",
          "2012-07-01T00:00:00",
          "2012-08-01T00:00:00",
          "2012-09-01T00:00:00",
          "2012-10-01T00:00:00",
          "2012-11-01T00:00:00",
          "2012-12-01T00:00:00"
         ],
         "y": [
          0,
          6,
          0,
          0,
          0,
          0,
          1,
          1,
          2,
          1,
          2,
          0,
          0,
          1,
          0,
          14,
          0,
          0,
          1,
          1,
          0,
          1,
          0,
          0,
          0,
          0,
          0,
          0,
          0,
          0,
          0,
          0,
          0,
          0,
          0,
          0,
          0,
          0,
          0,
          0,
          0,
          0,
          0,
          0,
          0,
          0
         ]
        },
        {
         "name": "south africa",
         "type": "scatter",
         "x": [
          "2009-03-01T00:00:00",
          "2009-04-01T00:00:00",
          "2009-05-01T00:00:00",
          "2009-06-01T00:00:00",
          "2009-07-01T00:00:00",
          "2009-08-01T00:00:00",
          "2009-09-01T00:00:00",
          "2009-10-01T00:00:00",
          "2009-11-01T00:00:00",
          "2009-12-01T00:00:00",
          "2010-01-01T00:00:00",
          "2010-02-01T00:00:00",
          "2010-03-01T00:00:00",
          "2010-04-01T00:00:00",
          "2010-05-01T00:00:00",
          "2010-06-01T00:00:00",
          "2010-07-01T00:00:00",
          "2010-08-01T00:00:00",
          "2010-09-01T00:00:00",
          "2010-10-01T00:00:00",
          "2010-11-01T00:00:00",
          "2010-12-01T00:00:00",
          "2011-01-01T00:00:00",
          "2011-02-01T00:00:00",
          "2011-03-01T00:00:00",
          "2011-04-01T00:00:00",
          "2011-05-01T00:00:00",
          "2011-06-01T00:00:00",
          "2011-07-01T00:00:00",
          "2011-08-01T00:00:00",
          "2011-09-01T00:00:00",
          "2011-10-01T00:00:00",
          "2011-11-01T00:00:00",
          "2011-12-01T00:00:00",
          "2012-01-01T00:00:00",
          "2012-02-01T00:00:00",
          "2012-03-01T00:00:00",
          "2012-04-01T00:00:00",
          "2012-05-01T00:00:00",
          "2012-06-01T00:00:00",
          "2012-07-01T00:00:00",
          "2012-08-01T00:00:00",
          "2012-09-01T00:00:00",
          "2012-10-01T00:00:00",
          "2012-11-01T00:00:00",
          "2012-12-01T00:00:00"
         ],
         "y": [
          0,
          0,
          1,
          0,
          0,
          4,
          0,
          0,
          0,
          3,
          1,
          1,
          1,
          1,
          1,
          3,
          0,
          0,
          0,
          0,
          0,
          1,
          0,
          0,
          0,
          0,
          0,
          0,
          0,
          1,
          0,
          0,
          0,
          0,
          0,
          0,
          0,
          0,
          0,
          0,
          0,
          0,
          0,
          0,
          0,
          0
         ]
        },
        {
         "name": "india",
         "type": "scatter",
         "x": [
          "2009-03-01T00:00:00",
          "2009-04-01T00:00:00",
          "2009-05-01T00:00:00",
          "2009-06-01T00:00:00",
          "2009-07-01T00:00:00",
          "2009-08-01T00:00:00",
          "2009-09-01T00:00:00",
          "2009-10-01T00:00:00",
          "2009-11-01T00:00:00",
          "2009-12-01T00:00:00",
          "2010-01-01T00:00:00",
          "2010-02-01T00:00:00",
          "2010-03-01T00:00:00",
          "2010-04-01T00:00:00",
          "2010-05-01T00:00:00",
          "2010-06-01T00:00:00",
          "2010-07-01T00:00:00",
          "2010-08-01T00:00:00",
          "2010-09-01T00:00:00",
          "2010-10-01T00:00:00",
          "2010-11-01T00:00:00",
          "2010-12-01T00:00:00",
          "2011-01-01T00:00:00",
          "2011-02-01T00:00:00",
          "2011-03-01T00:00:00",
          "2011-04-01T00:00:00",
          "2011-05-01T00:00:00",
          "2011-06-01T00:00:00",
          "2011-07-01T00:00:00",
          "2011-08-01T00:00:00",
          "2011-09-01T00:00:00",
          "2011-10-01T00:00:00",
          "2011-11-01T00:00:00",
          "2011-12-01T00:00:00",
          "2012-01-01T00:00:00",
          "2012-02-01T00:00:00",
          "2012-03-01T00:00:00",
          "2012-04-01T00:00:00",
          "2012-05-01T00:00:00",
          "2012-06-01T00:00:00",
          "2012-07-01T00:00:00",
          "2012-08-01T00:00:00",
          "2012-09-01T00:00:00",
          "2012-10-01T00:00:00",
          "2012-11-01T00:00:00",
          "2012-12-01T00:00:00"
         ],
         "y": [
          0,
          8,
          3,
          3,
          7,
          13,
          2,
          4,
          6,
          6,
          3,
          2,
          10,
          0,
          1,
          23,
          2,
          14,
          8,
          1,
          3,
          0,
          0,
          0,
          0,
          0,
          0,
          0,
          0,
          1,
          0,
          0,
          0,
          0,
          0,
          0,
          0,
          0,
          0,
          0,
          0,
          0,
          0,
          0,
          0,
          0
         ]
        },
        {
         "name": "benghazi",
         "type": "scatter",
         "x": [
          "2009-03-01T00:00:00",
          "2009-04-01T00:00:00",
          "2009-05-01T00:00:00",
          "2009-06-01T00:00:00",
          "2009-07-01T00:00:00",
          "2009-08-01T00:00:00",
          "2009-09-01T00:00:00",
          "2009-10-01T00:00:00",
          "2009-11-01T00:00:00",
          "2009-12-01T00:00:00",
          "2010-01-01T00:00:00",
          "2010-02-01T00:00:00",
          "2010-03-01T00:00:00",
          "2010-04-01T00:00:00",
          "2010-05-01T00:00:00",
          "2010-06-01T00:00:00",
          "2010-07-01T00:00:00",
          "2010-08-01T00:00:00",
          "2010-09-01T00:00:00",
          "2010-10-01T00:00:00",
          "2010-11-01T00:00:00",
          "2010-12-01T00:00:00",
          "2011-01-01T00:00:00",
          "2011-02-01T00:00:00",
          "2011-03-01T00:00:00",
          "2011-04-01T00:00:00",
          "2011-05-01T00:00:00",
          "2011-06-01T00:00:00",
          "2011-07-01T00:00:00",
          "2011-08-01T00:00:00",
          "2011-09-01T00:00:00",
          "2011-10-01T00:00:00",
          "2011-11-01T00:00:00",
          "2011-12-01T00:00:00",
          "2012-01-01T00:00:00",
          "2012-02-01T00:00:00",
          "2012-03-01T00:00:00",
          "2012-04-01T00:00:00",
          "2012-05-01T00:00:00",
          "2012-06-01T00:00:00",
          "2012-07-01T00:00:00",
          "2012-08-01T00:00:00",
          "2012-09-01T00:00:00",
          "2012-10-01T00:00:00",
          "2012-11-01T00:00:00",
          "2012-12-01T00:00:00"
         ],
         "y": [
          0,
          0,
          0,
          0,
          0,
          0,
          0,
          0,
          0,
          0,
          0,
          0,
          0,
          0,
          0,
          0,
          0,
          0,
          0,
          0,
          0,
          0,
          0,
          0,
          4,
          5,
          0,
          0,
          0,
          6,
          0,
          0,
          0,
          0,
          0,
          0,
          0,
          1,
          0,
          0,
          2,
          0,
          54,
          5,
          7,
          14
         ]
        },
        {
         "name": "yemen",
         "type": "scatter",
         "x": [
          "2009-03-01T00:00:00",
          "2009-04-01T00:00:00",
          "2009-05-01T00:00:00",
          "2009-06-01T00:00:00",
          "2009-07-01T00:00:00",
          "2009-08-01T00:00:00",
          "2009-09-01T00:00:00",
          "2009-10-01T00:00:00",
          "2009-11-01T00:00:00",
          "2009-12-01T00:00:00",
          "2010-01-01T00:00:00",
          "2010-02-01T00:00:00",
          "2010-03-01T00:00:00",
          "2010-04-01T00:00:00",
          "2010-05-01T00:00:00",
          "2010-06-01T00:00:00",
          "2010-07-01T00:00:00",
          "2010-08-01T00:00:00",
          "2010-09-01T00:00:00",
          "2010-10-01T00:00:00",
          "2010-11-01T00:00:00",
          "2010-12-01T00:00:00",
          "2011-01-01T00:00:00",
          "2011-02-01T00:00:00",
          "2011-03-01T00:00:00",
          "2011-04-01T00:00:00",
          "2011-05-01T00:00:00",
          "2011-06-01T00:00:00",
          "2011-07-01T00:00:00",
          "2011-08-01T00:00:00",
          "2011-09-01T00:00:00",
          "2011-10-01T00:00:00",
          "2011-11-01T00:00:00",
          "2011-12-01T00:00:00",
          "2012-01-01T00:00:00",
          "2012-02-01T00:00:00",
          "2012-03-01T00:00:00",
          "2012-04-01T00:00:00",
          "2012-05-01T00:00:00",
          "2012-06-01T00:00:00",
          "2012-07-01T00:00:00",
          "2012-08-01T00:00:00",
          "2012-09-01T00:00:00",
          "2012-10-01T00:00:00",
          "2012-11-01T00:00:00",
          "2012-12-01T00:00:00"
         ],
         "y": [
          0,
          0,
          0,
          0,
          0,
          0,
          0,
          0,
          1,
          0,
          1,
          1,
          1,
          1,
          0,
          0,
          0,
          1,
          1,
          0,
          0,
          3,
          0,
          0,
          0,
          0,
          0,
          0,
          0,
          0,
          0,
          0,
          0,
          0,
          0,
          0,
          0,
          0,
          0,
          0,
          0,
          0,
          8,
          0,
          0,
          0
         ]
        },
        {
         "name": "north korea",
         "type": "scatter",
         "x": [
          "2009-03-01T00:00:00",
          "2009-04-01T00:00:00",
          "2009-05-01T00:00:00",
          "2009-06-01T00:00:00",
          "2009-07-01T00:00:00",
          "2009-08-01T00:00:00",
          "2009-09-01T00:00:00",
          "2009-10-01T00:00:00",
          "2009-11-01T00:00:00",
          "2009-12-01T00:00:00",
          "2010-01-01T00:00:00",
          "2010-02-01T00:00:00",
          "2010-03-01T00:00:00",
          "2010-04-01T00:00:00",
          "2010-05-01T00:00:00",
          "2010-06-01T00:00:00",
          "2010-07-01T00:00:00",
          "2010-08-01T00:00:00",
          "2010-09-01T00:00:00",
          "2010-10-01T00:00:00",
          "2010-11-01T00:00:00",
          "2010-12-01T00:00:00",
          "2011-01-01T00:00:00",
          "2011-02-01T00:00:00",
          "2011-03-01T00:00:00",
          "2011-04-01T00:00:00",
          "2011-05-01T00:00:00",
          "2011-06-01T00:00:00",
          "2011-07-01T00:00:00",
          "2011-08-01T00:00:00",
          "2011-09-01T00:00:00",
          "2011-10-01T00:00:00",
          "2011-11-01T00:00:00",
          "2011-12-01T00:00:00",
          "2012-01-01T00:00:00",
          "2012-02-01T00:00:00",
          "2012-03-01T00:00:00",
          "2012-04-01T00:00:00",
          "2012-05-01T00:00:00",
          "2012-06-01T00:00:00",
          "2012-07-01T00:00:00",
          "2012-08-01T00:00:00",
          "2012-09-01T00:00:00",
          "2012-10-01T00:00:00",
          "2012-11-01T00:00:00",
          "2012-12-01T00:00:00"
         ],
         "y": [
          0,
          1,
          7,
          0,
          9,
          1,
          10,
          0,
          1,
          0,
          0,
          0,
          0,
          1,
          4,
          0,
          0,
          9,
          0,
          0,
          0,
          4,
          0,
          0,
          0,
          0,
          0,
          0,
          0,
          0,
          0,
          0,
          0,
          0,
          0,
          0,
          0,
          0,
          0,
          0,
          0,
          0,
          0,
          0,
          0,
          0
         ]
        },
        {
         "name": "baghdad",
         "type": "scatter",
         "x": [
          "2009-03-01T00:00:00",
          "2009-04-01T00:00:00",
          "2009-05-01T00:00:00",
          "2009-06-01T00:00:00",
          "2009-07-01T00:00:00",
          "2009-08-01T00:00:00",
          "2009-09-01T00:00:00",
          "2009-10-01T00:00:00",
          "2009-11-01T00:00:00",
          "2009-12-01T00:00:00",
          "2010-01-01T00:00:00",
          "2010-02-01T00:00:00",
          "2010-03-01T00:00:00",
          "2010-04-01T00:00:00",
          "2010-05-01T00:00:00",
          "2010-06-01T00:00:00",
          "2010-07-01T00:00:00",
          "2010-08-01T00:00:00",
          "2010-09-01T00:00:00",
          "2010-10-01T00:00:00",
          "2010-11-01T00:00:00",
          "2010-12-01T00:00:00",
          "2011-01-01T00:00:00",
          "2011-02-01T00:00:00",
          "2011-03-01T00:00:00",
          "2011-04-01T00:00:00",
          "2011-05-01T00:00:00",
          "2011-06-01T00:00:00",
          "2011-07-01T00:00:00",
          "2011-08-01T00:00:00",
          "2011-09-01T00:00:00",
          "2011-10-01T00:00:00",
          "2011-11-01T00:00:00",
          "2011-12-01T00:00:00",
          "2012-01-01T00:00:00",
          "2012-02-01T00:00:00",
          "2012-03-01T00:00:00",
          "2012-04-01T00:00:00",
          "2012-05-01T00:00:00",
          "2012-06-01T00:00:00",
          "2012-07-01T00:00:00",
          "2012-08-01T00:00:00",
          "2012-09-01T00:00:00",
          "2012-10-01T00:00:00",
          "2012-11-01T00:00:00",
          "2012-12-01T00:00:00"
         ],
         "y": [
          0,
          5,
          1,
          1,
          0,
          5,
          0,
          2,
          0,
          0,
          0,
          0,
          0,
          0,
          0,
          2,
          0,
          0,
          2,
          1,
          0,
          0,
          0,
          0,
          0,
          1,
          0,
          0,
          0,
          0,
          0,
          0,
          0,
          0,
          0,
          0,
          0,
          0,
          0,
          0,
          0,
          0,
          3,
          0,
          0,
          0
         ]
        },
        {
         "name": "poland",
         "type": "scatter",
         "x": [
          "2009-03-01T00:00:00",
          "2009-04-01T00:00:00",
          "2009-05-01T00:00:00",
          "2009-06-01T00:00:00",
          "2009-07-01T00:00:00",
          "2009-08-01T00:00:00",
          "2009-09-01T00:00:00",
          "2009-10-01T00:00:00",
          "2009-11-01T00:00:00",
          "2009-12-01T00:00:00",
          "2010-01-01T00:00:00",
          "2010-02-01T00:00:00",
          "2010-03-01T00:00:00",
          "2010-04-01T00:00:00",
          "2010-05-01T00:00:00",
          "2010-06-01T00:00:00",
          "2010-07-01T00:00:00",
          "2010-08-01T00:00:00",
          "2010-09-01T00:00:00",
          "2010-10-01T00:00:00",
          "2010-11-01T00:00:00",
          "2010-12-01T00:00:00",
          "2011-01-01T00:00:00",
          "2011-02-01T00:00:00",
          "2011-03-01T00:00:00",
          "2011-04-01T00:00:00",
          "2011-05-01T00:00:00",
          "2011-06-01T00:00:00",
          "2011-07-01T00:00:00",
          "2011-08-01T00:00:00",
          "2011-09-01T00:00:00",
          "2011-10-01T00:00:00",
          "2011-11-01T00:00:00",
          "2011-12-01T00:00:00",
          "2012-01-01T00:00:00",
          "2012-02-01T00:00:00",
          "2012-03-01T00:00:00",
          "2012-04-01T00:00:00",
          "2012-05-01T00:00:00",
          "2012-06-01T00:00:00",
          "2012-07-01T00:00:00",
          "2012-08-01T00:00:00",
          "2012-09-01T00:00:00",
          "2012-10-01T00:00:00",
          "2012-11-01T00:00:00",
          "2012-12-01T00:00:00"
         ],
         "y": [
          0,
          0,
          0,
          1,
          0,
          0,
          3,
          3,
          3,
          0,
          1,
          1,
          0,
          8,
          0,
          0,
          0,
          0,
          3,
          1,
          0,
          0,
          0,
          0,
          0,
          0,
          0,
          0,
          0,
          0,
          0,
          0,
          0,
          0,
          0,
          0,
          0,
          0,
          0,
          0,
          0,
          0,
          0,
          0,
          0,
          0
         ]
        },
        {
         "name": "gaza",
         "type": "scatter",
         "x": [
          "2009-03-01T00:00:00",
          "2009-04-01T00:00:00",
          "2009-05-01T00:00:00",
          "2009-06-01T00:00:00",
          "2009-07-01T00:00:00",
          "2009-08-01T00:00:00",
          "2009-09-01T00:00:00",
          "2009-10-01T00:00:00",
          "2009-11-01T00:00:00",
          "2009-12-01T00:00:00",
          "2010-01-01T00:00:00",
          "2010-02-01T00:00:00",
          "2010-03-01T00:00:00",
          "2010-04-01T00:00:00",
          "2010-05-01T00:00:00",
          "2010-06-01T00:00:00",
          "2010-07-01T00:00:00",
          "2010-08-01T00:00:00",
          "2010-09-01T00:00:00",
          "2010-10-01T00:00:00",
          "2010-11-01T00:00:00",
          "2010-12-01T00:00:00",
          "2011-01-01T00:00:00",
          "2011-02-01T00:00:00",
          "2011-03-01T00:00:00",
          "2011-04-01T00:00:00",
          "2011-05-01T00:00:00",
          "2011-06-01T00:00:00",
          "2011-07-01T00:00:00",
          "2011-08-01T00:00:00",
          "2011-09-01T00:00:00",
          "2011-10-01T00:00:00",
          "2011-11-01T00:00:00",
          "2011-12-01T00:00:00",
          "2012-01-01T00:00:00",
          "2012-02-01T00:00:00",
          "2012-03-01T00:00:00",
          "2012-04-01T00:00:00",
          "2012-05-01T00:00:00",
          "2012-06-01T00:00:00",
          "2012-07-01T00:00:00",
          "2012-08-01T00:00:00",
          "2012-09-01T00:00:00",
          "2012-10-01T00:00:00",
          "2012-11-01T00:00:00",
          "2012-12-01T00:00:00"
         ],
         "y": [
          0,
          0,
          0,
          0,
          0,
          0,
          0,
          0,
          0,
          0,
          0,
          2,
          3,
          0,
          7,
          37,
          9,
          6,
          2,
          0,
          0,
          0,
          0,
          0,
          0,
          0,
          0,
          0,
          0,
          0,
          0,
          0,
          0,
          0,
          0,
          0,
          0,
          0,
          0,
          0,
          0,
          0,
          0,
          0,
          0,
          0
         ]
        }
       ],
       "layout": {
        "template": {
         "data": {
          "bar": [
           {
            "error_x": {
             "color": "#2a3f5f"
            },
            "error_y": {
             "color": "#2a3f5f"
            },
            "marker": {
             "line": {
              "color": "#E5ECF6",
              "width": 0.5
             }
            },
            "type": "bar"
           }
          ],
          "barpolar": [
           {
            "marker": {
             "line": {
              "color": "#E5ECF6",
              "width": 0.5
             }
            },
            "type": "barpolar"
           }
          ],
          "carpet": [
           {
            "aaxis": {
             "endlinecolor": "#2a3f5f",
             "gridcolor": "white",
             "linecolor": "white",
             "minorgridcolor": "white",
             "startlinecolor": "#2a3f5f"
            },
            "baxis": {
             "endlinecolor": "#2a3f5f",
             "gridcolor": "white",
             "linecolor": "white",
             "minorgridcolor": "white",
             "startlinecolor": "#2a3f5f"
            },
            "type": "carpet"
           }
          ],
          "choropleth": [
           {
            "colorbar": {
             "outlinewidth": 0,
             "ticks": ""
            },
            "type": "choropleth"
           }
          ],
          "contour": [
           {
            "colorbar": {
             "outlinewidth": 0,
             "ticks": ""
            },
            "colorscale": [
             [
              0.0,
              "#0d0887"
             ],
             [
              0.1111111111111111,
              "#46039f"
             ],
             [
              0.2222222222222222,
              "#7201a8"
             ],
             [
              0.3333333333333333,
              "#9c179e"
             ],
             [
              0.4444444444444444,
              "#bd3786"
             ],
             [
              0.5555555555555556,
              "#d8576b"
             ],
             [
              0.6666666666666666,
              "#ed7953"
             ],
             [
              0.7777777777777778,
              "#fb9f3a"
             ],
             [
              0.8888888888888888,
              "#fdca26"
             ],
             [
              1.0,
              "#f0f921"
             ]
            ],
            "type": "contour"
           }
          ],
          "contourcarpet": [
           {
            "colorbar": {
             "outlinewidth": 0,
             "ticks": ""
            },
            "type": "contourcarpet"
           }
          ],
          "heatmap": [
           {
            "colorbar": {
             "outlinewidth": 0,
             "ticks": ""
            },
            "colorscale": [
             [
              0.0,
              "#0d0887"
             ],
             [
              0.1111111111111111,
              "#46039f"
             ],
             [
              0.2222222222222222,
              "#7201a8"
             ],
             [
              0.3333333333333333,
              "#9c179e"
             ],
             [
              0.4444444444444444,
              "#bd3786"
             ],
             [
              0.5555555555555556,
              "#d8576b"
             ],
             [
              0.6666666666666666,
              "#ed7953"
             ],
             [
              0.7777777777777778,
              "#fb9f3a"
             ],
             [
              0.8888888888888888,
              "#fdca26"
             ],
             [
              1.0,
              "#f0f921"
             ]
            ],
            "type": "heatmap"
           }
          ],
          "heatmapgl": [
           {
            "colorbar": {
             "outlinewidth": 0,
             "ticks": ""
            },
            "colorscale": [
             [
              0.0,
              "#0d0887"
             ],
             [
              0.1111111111111111,
              "#46039f"
             ],
             [
              0.2222222222222222,
              "#7201a8"
             ],
             [
              0.3333333333333333,
              "#9c179e"
             ],
             [
              0.4444444444444444,
              "#bd3786"
             ],
             [
              0.5555555555555556,
              "#d8576b"
             ],
             [
              0.6666666666666666,
              "#ed7953"
             ],
             [
              0.7777777777777778,
              "#fb9f3a"
             ],
             [
              0.8888888888888888,
              "#fdca26"
             ],
             [
              1.0,
              "#f0f921"
             ]
            ],
            "type": "heatmapgl"
           }
          ],
          "histogram": [
           {
            "marker": {
             "colorbar": {
              "outlinewidth": 0,
              "ticks": ""
             }
            },
            "type": "histogram"
           }
          ],
          "histogram2d": [
           {
            "colorbar": {
             "outlinewidth": 0,
             "ticks": ""
            },
            "colorscale": [
             [
              0.0,
              "#0d0887"
             ],
             [
              0.1111111111111111,
              "#46039f"
             ],
             [
              0.2222222222222222,
              "#7201a8"
             ],
             [
              0.3333333333333333,
              "#9c179e"
             ],
             [
              0.4444444444444444,
              "#bd3786"
             ],
             [
              0.5555555555555556,
              "#d8576b"
             ],
             [
              0.6666666666666666,
              "#ed7953"
             ],
             [
              0.7777777777777778,
              "#fb9f3a"
             ],
             [
              0.8888888888888888,
              "#fdca26"
             ],
             [
              1.0,
              "#f0f921"
             ]
            ],
            "type": "histogram2d"
           }
          ],
          "histogram2dcontour": [
           {
            "colorbar": {
             "outlinewidth": 0,
             "ticks": ""
            },
            "colorscale": [
             [
              0.0,
              "#0d0887"
             ],
             [
              0.1111111111111111,
              "#46039f"
             ],
             [
              0.2222222222222222,
              "#7201a8"
             ],
             [
              0.3333333333333333,
              "#9c179e"
             ],
             [
              0.4444444444444444,
              "#bd3786"
             ],
             [
              0.5555555555555556,
              "#d8576b"
             ],
             [
              0.6666666666666666,
              "#ed7953"
             ],
             [
              0.7777777777777778,
              "#fb9f3a"
             ],
             [
              0.8888888888888888,
              "#fdca26"
             ],
             [
              1.0,
              "#f0f921"
             ]
            ],
            "type": "histogram2dcontour"
           }
          ],
          "mesh3d": [
           {
            "colorbar": {
             "outlinewidth": 0,
             "ticks": ""
            },
            "type": "mesh3d"
           }
          ],
          "parcoords": [
           {
            "line": {
             "colorbar": {
              "outlinewidth": 0,
              "ticks": ""
             }
            },
            "type": "parcoords"
           }
          ],
          "pie": [
           {
            "automargin": true,
            "type": "pie"
           }
          ],
          "scatter": [
           {
            "marker": {
             "colorbar": {
              "outlinewidth": 0,
              "ticks": ""
             }
            },
            "type": "scatter"
           }
          ],
          "scatter3d": [
           {
            "line": {
             "colorbar": {
              "outlinewidth": 0,
              "ticks": ""
             }
            },
            "marker": {
             "colorbar": {
              "outlinewidth": 0,
              "ticks": ""
             }
            },
            "type": "scatter3d"
           }
          ],
          "scattercarpet": [
           {
            "marker": {
             "colorbar": {
              "outlinewidth": 0,
              "ticks": ""
             }
            },
            "type": "scattercarpet"
           }
          ],
          "scattergeo": [
           {
            "marker": {
             "colorbar": {
              "outlinewidth": 0,
              "ticks": ""
             }
            },
            "type": "scattergeo"
           }
          ],
          "scattergl": [
           {
            "marker": {
             "colorbar": {
              "outlinewidth": 0,
              "ticks": ""
             }
            },
            "type": "scattergl"
           }
          ],
          "scattermapbox": [
           {
            "marker": {
             "colorbar": {
              "outlinewidth": 0,
              "ticks": ""
             }
            },
            "type": "scattermapbox"
           }
          ],
          "scatterpolar": [
           {
            "marker": {
             "colorbar": {
              "outlinewidth": 0,
              "ticks": ""
             }
            },
            "type": "scatterpolar"
           }
          ],
          "scatterpolargl": [
           {
            "marker": {
             "colorbar": {
              "outlinewidth": 0,
              "ticks": ""
             }
            },
            "type": "scatterpolargl"
           }
          ],
          "scatterternary": [
           {
            "marker": {
             "colorbar": {
              "outlinewidth": 0,
              "ticks": ""
             }
            },
            "type": "scatterternary"
           }
          ],
          "surface": [
           {
            "colorbar": {
             "outlinewidth": 0,
             "ticks": ""
            },
            "colorscale": [
             [
              0.0,
              "#0d0887"
             ],
             [
              0.1111111111111111,
              "#46039f"
             ],
             [
              0.2222222222222222,
              "#7201a8"
             ],
             [
              0.3333333333333333,
              "#9c179e"
             ],
             [
              0.4444444444444444,
              "#bd3786"
             ],
             [
              0.5555555555555556,
              "#d8576b"
             ],
             [
              0.6666666666666666,
              "#ed7953"
             ],
             [
              0.7777777777777778,
              "#fb9f3a"
             ],
             [
              0.8888888888888888,
              "#fdca26"
             ],
             [
              1.0,
              "#f0f921"
             ]
            ],
            "type": "surface"
           }
          ],
          "table": [
           {
            "cells": {
             "fill": {
              "color": "#EBF0F8"
             },
             "line": {
              "color": "white"
             }
            },
            "header": {
             "fill": {
              "color": "#C8D4E3"
             },
             "line": {
              "color": "white"
             }
            },
            "type": "table"
           }
          ]
         },
         "layout": {
          "annotationdefaults": {
           "arrowcolor": "#2a3f5f",
           "arrowhead": 0,
           "arrowwidth": 1
          },
          "autotypenumbers": "strict",
          "coloraxis": {
           "colorbar": {
            "outlinewidth": 0,
            "ticks": ""
           }
          },
          "colorscale": {
           "diverging": [
            [
             0,
             "#8e0152"
            ],
            [
             0.1,
             "#c51b7d"
            ],
            [
             0.2,
             "#de77ae"
            ],
            [
             0.3,
             "#f1b6da"
            ],
            [
             0.4,
             "#fde0ef"
            ],
            [
             0.5,
             "#f7f7f7"
            ],
            [
             0.6,
             "#e6f5d0"
            ],
            [
             0.7,
             "#b8e186"
            ],
            [
             0.8,
             "#7fbc41"
            ],
            [
             0.9,
             "#4d9221"
            ],
            [
             1,
             "#276419"
            ]
           ],
           "sequential": [
            [
             0.0,
             "#0d0887"
            ],
            [
             0.1111111111111111,
             "#46039f"
            ],
            [
             0.2222222222222222,
             "#7201a8"
            ],
            [
             0.3333333333333333,
             "#9c179e"
            ],
            [
             0.4444444444444444,
             "#bd3786"
            ],
            [
             0.5555555555555556,
             "#d8576b"
            ],
            [
             0.6666666666666666,
             "#ed7953"
            ],
            [
             0.7777777777777778,
             "#fb9f3a"
            ],
            [
             0.8888888888888888,
             "#fdca26"
            ],
            [
             1.0,
             "#f0f921"
            ]
           ],
           "sequentialminus": [
            [
             0.0,
             "#0d0887"
            ],
            [
             0.1111111111111111,
             "#46039f"
            ],
            [
             0.2222222222222222,
             "#7201a8"
            ],
            [
             0.3333333333333333,
             "#9c179e"
            ],
            [
             0.4444444444444444,
             "#bd3786"
            ],
            [
             0.5555555555555556,
             "#d8576b"
            ],
            [
             0.6666666666666666,
             "#ed7953"
            ],
            [
             0.7777777777777778,
             "#fb9f3a"
            ],
            [
             0.8888888888888888,
             "#fdca26"
            ],
            [
             1.0,
             "#f0f921"
            ]
           ]
          },
          "colorway": [
           "#636efa",
           "#EF553B",
           "#00cc96",
           "#ab63fa",
           "#FFA15A",
           "#19d3f3",
           "#FF6692",
           "#B6E880",
           "#FF97FF",
           "#FECB52"
          ],
          "font": {
           "color": "#2a3f5f"
          },
          "geo": {
           "bgcolor": "white",
           "lakecolor": "white",
           "landcolor": "#E5ECF6",
           "showlakes": true,
           "showland": true,
           "subunitcolor": "white"
          },
          "hoverlabel": {
           "align": "left"
          },
          "hovermode": "closest",
          "mapbox": {
           "style": "light"
          },
          "paper_bgcolor": "white",
          "plot_bgcolor": "#E5ECF6",
          "polar": {
           "angularaxis": {
            "gridcolor": "white",
            "linecolor": "white",
            "ticks": ""
           },
           "bgcolor": "#E5ECF6",
           "radialaxis": {
            "gridcolor": "white",
            "linecolor": "white",
            "ticks": ""
           }
          },
          "scene": {
           "xaxis": {
            "backgroundcolor": "#E5ECF6",
            "gridcolor": "white",
            "gridwidth": 2,
            "linecolor": "white",
            "showbackground": true,
            "ticks": "",
            "zerolinecolor": "white"
           },
           "yaxis": {
            "backgroundcolor": "#E5ECF6",
            "gridcolor": "white",
            "gridwidth": 2,
            "linecolor": "white",
            "showbackground": true,
            "ticks": "",
            "zerolinecolor": "white"
           },
           "zaxis": {
            "backgroundcolor": "#E5ECF6",
            "gridcolor": "white",
            "gridwidth": 2,
            "linecolor": "white",
            "showbackground": true,
            "ticks": "",
            "zerolinecolor": "white"
           }
          },
          "shapedefaults": {
           "line": {
            "color": "#2a3f5f"
           }
          },
          "ternary": {
           "aaxis": {
            "gridcolor": "white",
            "linecolor": "white",
            "ticks": ""
           },
           "baxis": {
            "gridcolor": "white",
            "linecolor": "white",
            "ticks": ""
           },
           "bgcolor": "#E5ECF6",
           "caxis": {
            "gridcolor": "white",
            "linecolor": "white",
            "ticks": ""
           }
          },
          "title": {
           "x": 0.05
          },
          "xaxis": {
           "automargin": true,
           "gridcolor": "white",
           "linecolor": "white",
           "ticks": "",
           "title": {
            "standoff": 15
           },
           "zerolinecolor": "white",
           "zerolinewidth": 2
          },
          "yaxis": {
           "automargin": true,
           "gridcolor": "white",
           "linecolor": "white",
           "ticks": "",
           "title": {
            "standoff": 15
           },
           "zerolinecolor": "white",
           "zerolinewidth": 2
          }
         }
        },
        "title": {
         "text": "Frequency of the most polarized countries by date",
         "x": 0.5,
         "xanchor": "center",
         "y": 0.9
        },
        "xaxis": {
         "title": {
          "text": "Date"
         }
        },
        "yaxis": {
         "title": {
          "text": "Frequency"
         }
        }
       }
      },
      "text/html": "<div>                            <div id=\"cfa03c00-30b1-42db-a43d-7b6b6da6de8e\" class=\"plotly-graph-div\" style=\"height:525px; width:100%;\"></div>            <script type=\"text/javascript\">                require([\"plotly\"], function(Plotly) {                    window.PLOTLYENV=window.PLOTLYENV || {};                                    if (document.getElementById(\"cfa03c00-30b1-42db-a43d-7b6b6da6de8e\")) {                    Plotly.newPlot(                        \"cfa03c00-30b1-42db-a43d-7b6b6da6de8e\",                        [{\"name\": \"palau\", \"type\": \"scatter\", \"x\": [\"2009-03-01T00:00:00\", \"2009-04-01T00:00:00\", \"2009-05-01T00:00:00\", \"2009-06-01T00:00:00\", \"2009-07-01T00:00:00\", \"2009-08-01T00:00:00\", \"2009-09-01T00:00:00\", \"2009-10-01T00:00:00\", \"2009-11-01T00:00:00\", \"2009-12-01T00:00:00\", \"2010-01-01T00:00:00\", \"2010-02-01T00:00:00\", \"2010-03-01T00:00:00\", \"2010-04-01T00:00:00\", \"2010-05-01T00:00:00\", \"2010-06-01T00:00:00\", \"2010-07-01T00:00:00\", \"2010-08-01T00:00:00\", \"2010-09-01T00:00:00\", \"2010-10-01T00:00:00\", \"2010-11-01T00:00:00\", \"2010-12-01T00:00:00\", \"2011-01-01T00:00:00\", \"2011-02-01T00:00:00\", \"2011-03-01T00:00:00\", \"2011-04-01T00:00:00\", \"2011-05-01T00:00:00\", \"2011-06-01T00:00:00\", \"2011-07-01T00:00:00\", \"2011-08-01T00:00:00\", \"2011-09-01T00:00:00\", \"2011-10-01T00:00:00\", \"2011-11-01T00:00:00\", \"2011-12-01T00:00:00\", \"2012-01-01T00:00:00\", \"2012-02-01T00:00:00\", \"2012-03-01T00:00:00\", \"2012-04-01T00:00:00\", \"2012-05-01T00:00:00\", \"2012-06-01T00:00:00\", \"2012-07-01T00:00:00\", \"2012-08-01T00:00:00\", \"2012-09-01T00:00:00\", \"2012-10-01T00:00:00\", \"2012-11-01T00:00:00\", \"2012-12-01T00:00:00\"], \"y\": [0, 0, 0, 17, 22, 0, 12, 7, 0, 0, 3, 0, 0, 0, 0, 0, 0, 1, 1, 0, 0, 0, 0, 0, 0, 0, 0, 0, 0, 0, 0, 0, 0, 0, 0, 0, 0, 0, 0, 0, 0, 0, 0, 0, 0, 0]}, {\"name\": \"northern ireland\", \"type\": \"scatter\", \"x\": [\"2009-03-01T00:00:00\", \"2009-04-01T00:00:00\", \"2009-05-01T00:00:00\", \"2009-06-01T00:00:00\", \"2009-07-01T00:00:00\", \"2009-08-01T00:00:00\", \"2009-09-01T00:00:00\", \"2009-10-01T00:00:00\", \"2009-11-01T00:00:00\", \"2009-12-01T00:00:00\", \"2010-01-01T00:00:00\", \"2010-02-01T00:00:00\", \"2010-03-01T00:00:00\", \"2010-04-01T00:00:00\", \"2010-05-01T00:00:00\", \"2010-06-01T00:00:00\", \"2010-07-01T00:00:00\", \"2010-08-01T00:00:00\", \"2010-09-01T00:00:00\", \"2010-10-01T00:00:00\", \"2010-11-01T00:00:00\", \"2010-12-01T00:00:00\", \"2011-01-01T00:00:00\", \"2011-02-01T00:00:00\", \"2011-03-01T00:00:00\", \"2011-04-01T00:00:00\", \"2011-05-01T00:00:00\", \"2011-06-01T00:00:00\", \"2011-07-01T00:00:00\", \"2011-08-01T00:00:00\", \"2011-09-01T00:00:00\", \"2011-10-01T00:00:00\", \"2011-11-01T00:00:00\", \"2011-12-01T00:00:00\", \"2012-01-01T00:00:00\", \"2012-02-01T00:00:00\", \"2012-03-01T00:00:00\", \"2012-04-01T00:00:00\", \"2012-05-01T00:00:00\", \"2012-06-01T00:00:00\", \"2012-07-01T00:00:00\", \"2012-08-01T00:00:00\", \"2012-09-01T00:00:00\", \"2012-10-01T00:00:00\", \"2012-11-01T00:00:00\", \"2012-12-01T00:00:00\"], \"y\": [0, 1, 0, 0, 0, 0, 1, 1, 0, 0, 2, 17, 49, 1, 0, 0, 0, 0, 0, 3, 0, 0, 0, 0, 0, 0, 0, 0, 0, 0, 0, 0, 0, 0, 0, 0, 0, 0, 0, 0, 0, 0, 0, 0, 0, 0]}, {\"name\": \"indonesia\", \"type\": \"scatter\", \"x\": [\"2009-03-01T00:00:00\", \"2009-04-01T00:00:00\", \"2009-05-01T00:00:00\", \"2009-06-01T00:00:00\", \"2009-07-01T00:00:00\", \"2009-08-01T00:00:00\", \"2009-09-01T00:00:00\", \"2009-10-01T00:00:00\", \"2009-11-01T00:00:00\", \"2009-12-01T00:00:00\", \"2010-01-01T00:00:00\", \"2010-02-01T00:00:00\", \"2010-03-01T00:00:00\", \"2010-04-01T00:00:00\", \"2010-05-01T00:00:00\", \"2010-06-01T00:00:00\", \"2010-07-01T00:00:00\", \"2010-08-01T00:00:00\", \"2010-09-01T00:00:00\", \"2010-10-01T00:00:00\", \"2010-11-01T00:00:00\", \"2010-12-01T00:00:00\", \"2011-01-01T00:00:00\", \"2011-02-01T00:00:00\", \"2011-03-01T00:00:00\", \"2011-04-01T00:00:00\", \"2011-05-01T00:00:00\", \"2011-06-01T00:00:00\", \"2011-07-01T00:00:00\", \"2011-08-01T00:00:00\", \"2011-09-01T00:00:00\", \"2011-10-01T00:00:00\", \"2011-11-01T00:00:00\", \"2011-12-01T00:00:00\", \"2012-01-01T00:00:00\", \"2012-02-01T00:00:00\", \"2012-03-01T00:00:00\", \"2012-04-01T00:00:00\", \"2012-05-01T00:00:00\", \"2012-06-01T00:00:00\", \"2012-07-01T00:00:00\", \"2012-08-01T00:00:00\", \"2012-09-01T00:00:00\", \"2012-10-01T00:00:00\", \"2012-11-01T00:00:00\", \"2012-12-01T00:00:00\"], \"y\": [0, 0, 4, 0, 0, 1, 0, 2, 0, 1, 1, 2, 0, 3, 0, 1, 0, 2, 1, 0, 2, 1, 0, 0, 0, 0, 0, 0, 0, 0, 0, 0, 0, 0, 0, 0, 0, 0, 0, 0, 0, 0, 22, 0, 0, 0]}, {\"name\": \"singapore\", \"type\": \"scatter\", \"x\": [\"2009-03-01T00:00:00\", \"2009-04-01T00:00:00\", \"2009-05-01T00:00:00\", \"2009-06-01T00:00:00\", \"2009-07-01T00:00:00\", \"2009-08-01T00:00:00\", \"2009-09-01T00:00:00\", \"2009-10-01T00:00:00\", \"2009-11-01T00:00:00\", \"2009-12-01T00:00:00\", \"2010-01-01T00:00:00\", \"2010-02-01T00:00:00\", \"2010-03-01T00:00:00\", \"2010-04-01T00:00:00\", \"2010-05-01T00:00:00\", \"2010-06-01T00:00:00\", \"2010-07-01T00:00:00\", \"2010-08-01T00:00:00\", \"2010-09-01T00:00:00\", \"2010-10-01T00:00:00\", \"2010-11-01T00:00:00\", \"2010-12-01T00:00:00\", \"2011-01-01T00:00:00\", \"2011-02-01T00:00:00\", \"2011-03-01T00:00:00\", \"2011-04-01T00:00:00\", \"2011-05-01T00:00:00\", \"2011-06-01T00:00:00\", \"2011-07-01T00:00:00\", \"2011-08-01T00:00:00\", \"2011-09-01T00:00:00\", \"2011-10-01T00:00:00\", \"2011-11-01T00:00:00\", \"2011-12-01T00:00:00\", \"2012-01-01T00:00:00\", \"2012-02-01T00:00:00\", \"2012-03-01T00:00:00\", \"2012-04-01T00:00:00\", \"2012-05-01T00:00:00\", \"2012-06-01T00:00:00\", \"2012-07-01T00:00:00\", \"2012-08-01T00:00:00\", \"2012-09-01T00:00:00\", \"2012-10-01T00:00:00\", \"2012-11-01T00:00:00\", \"2012-12-01T00:00:00\"], \"y\": [0, 6, 0, 0, 0, 0, 1, 1, 2, 1, 2, 0, 0, 1, 0, 14, 0, 0, 1, 1, 0, 1, 0, 0, 0, 0, 0, 0, 0, 0, 0, 0, 0, 0, 0, 0, 0, 0, 0, 0, 0, 0, 0, 0, 0, 0]}, {\"name\": \"south africa\", \"type\": \"scatter\", \"x\": [\"2009-03-01T00:00:00\", \"2009-04-01T00:00:00\", \"2009-05-01T00:00:00\", \"2009-06-01T00:00:00\", \"2009-07-01T00:00:00\", \"2009-08-01T00:00:00\", \"2009-09-01T00:00:00\", \"2009-10-01T00:00:00\", \"2009-11-01T00:00:00\", \"2009-12-01T00:00:00\", \"2010-01-01T00:00:00\", \"2010-02-01T00:00:00\", \"2010-03-01T00:00:00\", \"2010-04-01T00:00:00\", \"2010-05-01T00:00:00\", \"2010-06-01T00:00:00\", \"2010-07-01T00:00:00\", \"2010-08-01T00:00:00\", \"2010-09-01T00:00:00\", \"2010-10-01T00:00:00\", \"2010-11-01T00:00:00\", \"2010-12-01T00:00:00\", \"2011-01-01T00:00:00\", \"2011-02-01T00:00:00\", \"2011-03-01T00:00:00\", \"2011-04-01T00:00:00\", \"2011-05-01T00:00:00\", \"2011-06-01T00:00:00\", \"2011-07-01T00:00:00\", \"2011-08-01T00:00:00\", \"2011-09-01T00:00:00\", \"2011-10-01T00:00:00\", \"2011-11-01T00:00:00\", \"2011-12-01T00:00:00\", \"2012-01-01T00:00:00\", \"2012-02-01T00:00:00\", \"2012-03-01T00:00:00\", \"2012-04-01T00:00:00\", \"2012-05-01T00:00:00\", \"2012-06-01T00:00:00\", \"2012-07-01T00:00:00\", \"2012-08-01T00:00:00\", \"2012-09-01T00:00:00\", \"2012-10-01T00:00:00\", \"2012-11-01T00:00:00\", \"2012-12-01T00:00:00\"], \"y\": [0, 0, 1, 0, 0, 4, 0, 0, 0, 3, 1, 1, 1, 1, 1, 3, 0, 0, 0, 0, 0, 1, 0, 0, 0, 0, 0, 0, 0, 1, 0, 0, 0, 0, 0, 0, 0, 0, 0, 0, 0, 0, 0, 0, 0, 0]}, {\"name\": \"india\", \"type\": \"scatter\", \"x\": [\"2009-03-01T00:00:00\", \"2009-04-01T00:00:00\", \"2009-05-01T00:00:00\", \"2009-06-01T00:00:00\", \"2009-07-01T00:00:00\", \"2009-08-01T00:00:00\", \"2009-09-01T00:00:00\", \"2009-10-01T00:00:00\", \"2009-11-01T00:00:00\", \"2009-12-01T00:00:00\", \"2010-01-01T00:00:00\", \"2010-02-01T00:00:00\", \"2010-03-01T00:00:00\", \"2010-04-01T00:00:00\", \"2010-05-01T00:00:00\", \"2010-06-01T00:00:00\", \"2010-07-01T00:00:00\", \"2010-08-01T00:00:00\", \"2010-09-01T00:00:00\", \"2010-10-01T00:00:00\", \"2010-11-01T00:00:00\", \"2010-12-01T00:00:00\", \"2011-01-01T00:00:00\", \"2011-02-01T00:00:00\", \"2011-03-01T00:00:00\", \"2011-04-01T00:00:00\", \"2011-05-01T00:00:00\", \"2011-06-01T00:00:00\", \"2011-07-01T00:00:00\", \"2011-08-01T00:00:00\", \"2011-09-01T00:00:00\", \"2011-10-01T00:00:00\", \"2011-11-01T00:00:00\", \"2011-12-01T00:00:00\", \"2012-01-01T00:00:00\", \"2012-02-01T00:00:00\", \"2012-03-01T00:00:00\", \"2012-04-01T00:00:00\", \"2012-05-01T00:00:00\", \"2012-06-01T00:00:00\", \"2012-07-01T00:00:00\", \"2012-08-01T00:00:00\", \"2012-09-01T00:00:00\", \"2012-10-01T00:00:00\", \"2012-11-01T00:00:00\", \"2012-12-01T00:00:00\"], \"y\": [0, 8, 3, 3, 7, 13, 2, 4, 6, 6, 3, 2, 10, 0, 1, 23, 2, 14, 8, 1, 3, 0, 0, 0, 0, 0, 0, 0, 0, 1, 0, 0, 0, 0, 0, 0, 0, 0, 0, 0, 0, 0, 0, 0, 0, 0]}, {\"name\": \"benghazi\", \"type\": \"scatter\", \"x\": [\"2009-03-01T00:00:00\", \"2009-04-01T00:00:00\", \"2009-05-01T00:00:00\", \"2009-06-01T00:00:00\", \"2009-07-01T00:00:00\", \"2009-08-01T00:00:00\", \"2009-09-01T00:00:00\", \"2009-10-01T00:00:00\", \"2009-11-01T00:00:00\", \"2009-12-01T00:00:00\", \"2010-01-01T00:00:00\", \"2010-02-01T00:00:00\", \"2010-03-01T00:00:00\", \"2010-04-01T00:00:00\", \"2010-05-01T00:00:00\", \"2010-06-01T00:00:00\", \"2010-07-01T00:00:00\", \"2010-08-01T00:00:00\", \"2010-09-01T00:00:00\", \"2010-10-01T00:00:00\", \"2010-11-01T00:00:00\", \"2010-12-01T00:00:00\", \"2011-01-01T00:00:00\", \"2011-02-01T00:00:00\", \"2011-03-01T00:00:00\", \"2011-04-01T00:00:00\", \"2011-05-01T00:00:00\", \"2011-06-01T00:00:00\", \"2011-07-01T00:00:00\", \"2011-08-01T00:00:00\", \"2011-09-01T00:00:00\", \"2011-10-01T00:00:00\", \"2011-11-01T00:00:00\", \"2011-12-01T00:00:00\", \"2012-01-01T00:00:00\", \"2012-02-01T00:00:00\", \"2012-03-01T00:00:00\", \"2012-04-01T00:00:00\", \"2012-05-01T00:00:00\", \"2012-06-01T00:00:00\", \"2012-07-01T00:00:00\", \"2012-08-01T00:00:00\", \"2012-09-01T00:00:00\", \"2012-10-01T00:00:00\", \"2012-11-01T00:00:00\", \"2012-12-01T00:00:00\"], \"y\": [0, 0, 0, 0, 0, 0, 0, 0, 0, 0, 0, 0, 0, 0, 0, 0, 0, 0, 0, 0, 0, 0, 0, 0, 4, 5, 0, 0, 0, 6, 0, 0, 0, 0, 0, 0, 0, 1, 0, 0, 2, 0, 54, 5, 7, 14]}, {\"name\": \"yemen\", \"type\": \"scatter\", \"x\": [\"2009-03-01T00:00:00\", \"2009-04-01T00:00:00\", \"2009-05-01T00:00:00\", \"2009-06-01T00:00:00\", \"2009-07-01T00:00:00\", \"2009-08-01T00:00:00\", \"2009-09-01T00:00:00\", \"2009-10-01T00:00:00\", \"2009-11-01T00:00:00\", \"2009-12-01T00:00:00\", \"2010-01-01T00:00:00\", \"2010-02-01T00:00:00\", \"2010-03-01T00:00:00\", \"2010-04-01T00:00:00\", \"2010-05-01T00:00:00\", \"2010-06-01T00:00:00\", \"2010-07-01T00:00:00\", \"2010-08-01T00:00:00\", \"2010-09-01T00:00:00\", \"2010-10-01T00:00:00\", \"2010-11-01T00:00:00\", \"2010-12-01T00:00:00\", \"2011-01-01T00:00:00\", \"2011-02-01T00:00:00\", \"2011-03-01T00:00:00\", \"2011-04-01T00:00:00\", \"2011-05-01T00:00:00\", \"2011-06-01T00:00:00\", \"2011-07-01T00:00:00\", \"2011-08-01T00:00:00\", \"2011-09-01T00:00:00\", \"2011-10-01T00:00:00\", \"2011-11-01T00:00:00\", \"2011-12-01T00:00:00\", \"2012-01-01T00:00:00\", \"2012-02-01T00:00:00\", \"2012-03-01T00:00:00\", \"2012-04-01T00:00:00\", \"2012-05-01T00:00:00\", \"2012-06-01T00:00:00\", \"2012-07-01T00:00:00\", \"2012-08-01T00:00:00\", \"2012-09-01T00:00:00\", \"2012-10-01T00:00:00\", \"2012-11-01T00:00:00\", \"2012-12-01T00:00:00\"], \"y\": [0, 0, 0, 0, 0, 0, 0, 0, 1, 0, 1, 1, 1, 1, 0, 0, 0, 1, 1, 0, 0, 3, 0, 0, 0, 0, 0, 0, 0, 0, 0, 0, 0, 0, 0, 0, 0, 0, 0, 0, 0, 0, 8, 0, 0, 0]}, {\"name\": \"north korea\", \"type\": \"scatter\", \"x\": [\"2009-03-01T00:00:00\", \"2009-04-01T00:00:00\", \"2009-05-01T00:00:00\", \"2009-06-01T00:00:00\", \"2009-07-01T00:00:00\", \"2009-08-01T00:00:00\", \"2009-09-01T00:00:00\", \"2009-10-01T00:00:00\", \"2009-11-01T00:00:00\", \"2009-12-01T00:00:00\", \"2010-01-01T00:00:00\", \"2010-02-01T00:00:00\", \"2010-03-01T00:00:00\", \"2010-04-01T00:00:00\", \"2010-05-01T00:00:00\", \"2010-06-01T00:00:00\", \"2010-07-01T00:00:00\", \"2010-08-01T00:00:00\", \"2010-09-01T00:00:00\", \"2010-10-01T00:00:00\", \"2010-11-01T00:00:00\", \"2010-12-01T00:00:00\", \"2011-01-01T00:00:00\", \"2011-02-01T00:00:00\", \"2011-03-01T00:00:00\", \"2011-04-01T00:00:00\", \"2011-05-01T00:00:00\", \"2011-06-01T00:00:00\", \"2011-07-01T00:00:00\", \"2011-08-01T00:00:00\", \"2011-09-01T00:00:00\", \"2011-10-01T00:00:00\", \"2011-11-01T00:00:00\", \"2011-12-01T00:00:00\", \"2012-01-01T00:00:00\", \"2012-02-01T00:00:00\", \"2012-03-01T00:00:00\", \"2012-04-01T00:00:00\", \"2012-05-01T00:00:00\", \"2012-06-01T00:00:00\", \"2012-07-01T00:00:00\", \"2012-08-01T00:00:00\", \"2012-09-01T00:00:00\", \"2012-10-01T00:00:00\", \"2012-11-01T00:00:00\", \"2012-12-01T00:00:00\"], \"y\": [0, 1, 7, 0, 9, 1, 10, 0, 1, 0, 0, 0, 0, 1, 4, 0, 0, 9, 0, 0, 0, 4, 0, 0, 0, 0, 0, 0, 0, 0, 0, 0, 0, 0, 0, 0, 0, 0, 0, 0, 0, 0, 0, 0, 0, 0]}, {\"name\": \"baghdad\", \"type\": \"scatter\", \"x\": [\"2009-03-01T00:00:00\", \"2009-04-01T00:00:00\", \"2009-05-01T00:00:00\", \"2009-06-01T00:00:00\", \"2009-07-01T00:00:00\", \"2009-08-01T00:00:00\", \"2009-09-01T00:00:00\", \"2009-10-01T00:00:00\", \"2009-11-01T00:00:00\", \"2009-12-01T00:00:00\", \"2010-01-01T00:00:00\", \"2010-02-01T00:00:00\", \"2010-03-01T00:00:00\", \"2010-04-01T00:00:00\", \"2010-05-01T00:00:00\", \"2010-06-01T00:00:00\", \"2010-07-01T00:00:00\", \"2010-08-01T00:00:00\", \"2010-09-01T00:00:00\", \"2010-10-01T00:00:00\", \"2010-11-01T00:00:00\", \"2010-12-01T00:00:00\", \"2011-01-01T00:00:00\", \"2011-02-01T00:00:00\", \"2011-03-01T00:00:00\", \"2011-04-01T00:00:00\", \"2011-05-01T00:00:00\", \"2011-06-01T00:00:00\", \"2011-07-01T00:00:00\", \"2011-08-01T00:00:00\", \"2011-09-01T00:00:00\", \"2011-10-01T00:00:00\", \"2011-11-01T00:00:00\", \"2011-12-01T00:00:00\", \"2012-01-01T00:00:00\", \"2012-02-01T00:00:00\", \"2012-03-01T00:00:00\", \"2012-04-01T00:00:00\", \"2012-05-01T00:00:00\", \"2012-06-01T00:00:00\", \"2012-07-01T00:00:00\", \"2012-08-01T00:00:00\", \"2012-09-01T00:00:00\", \"2012-10-01T00:00:00\", \"2012-11-01T00:00:00\", \"2012-12-01T00:00:00\"], \"y\": [0, 5, 1, 1, 0, 5, 0, 2, 0, 0, 0, 0, 0, 0, 0, 2, 0, 0, 2, 1, 0, 0, 0, 0, 0, 1, 0, 0, 0, 0, 0, 0, 0, 0, 0, 0, 0, 0, 0, 0, 0, 0, 3, 0, 0, 0]}, {\"name\": \"poland\", \"type\": \"scatter\", \"x\": [\"2009-03-01T00:00:00\", \"2009-04-01T00:00:00\", \"2009-05-01T00:00:00\", \"2009-06-01T00:00:00\", \"2009-07-01T00:00:00\", \"2009-08-01T00:00:00\", \"2009-09-01T00:00:00\", \"2009-10-01T00:00:00\", \"2009-11-01T00:00:00\", \"2009-12-01T00:00:00\", \"2010-01-01T00:00:00\", \"2010-02-01T00:00:00\", \"2010-03-01T00:00:00\", \"2010-04-01T00:00:00\", \"2010-05-01T00:00:00\", \"2010-06-01T00:00:00\", \"2010-07-01T00:00:00\", \"2010-08-01T00:00:00\", \"2010-09-01T00:00:00\", \"2010-10-01T00:00:00\", \"2010-11-01T00:00:00\", \"2010-12-01T00:00:00\", \"2011-01-01T00:00:00\", \"2011-02-01T00:00:00\", \"2011-03-01T00:00:00\", \"2011-04-01T00:00:00\", \"2011-05-01T00:00:00\", \"2011-06-01T00:00:00\", \"2011-07-01T00:00:00\", \"2011-08-01T00:00:00\", \"2011-09-01T00:00:00\", \"2011-10-01T00:00:00\", \"2011-11-01T00:00:00\", \"2011-12-01T00:00:00\", \"2012-01-01T00:00:00\", \"2012-02-01T00:00:00\", \"2012-03-01T00:00:00\", \"2012-04-01T00:00:00\", \"2012-05-01T00:00:00\", \"2012-06-01T00:00:00\", \"2012-07-01T00:00:00\", \"2012-08-01T00:00:00\", \"2012-09-01T00:00:00\", \"2012-10-01T00:00:00\", \"2012-11-01T00:00:00\", \"2012-12-01T00:00:00\"], \"y\": [0, 0, 0, 1, 0, 0, 3, 3, 3, 0, 1, 1, 0, 8, 0, 0, 0, 0, 3, 1, 0, 0, 0, 0, 0, 0, 0, 0, 0, 0, 0, 0, 0, 0, 0, 0, 0, 0, 0, 0, 0, 0, 0, 0, 0, 0]}, {\"name\": \"gaza\", \"type\": \"scatter\", \"x\": [\"2009-03-01T00:00:00\", \"2009-04-01T00:00:00\", \"2009-05-01T00:00:00\", \"2009-06-01T00:00:00\", \"2009-07-01T00:00:00\", \"2009-08-01T00:00:00\", \"2009-09-01T00:00:00\", \"2009-10-01T00:00:00\", \"2009-11-01T00:00:00\", \"2009-12-01T00:00:00\", \"2010-01-01T00:00:00\", \"2010-02-01T00:00:00\", \"2010-03-01T00:00:00\", \"2010-04-01T00:00:00\", \"2010-05-01T00:00:00\", \"2010-06-01T00:00:00\", \"2010-07-01T00:00:00\", \"2010-08-01T00:00:00\", \"2010-09-01T00:00:00\", \"2010-10-01T00:00:00\", \"2010-11-01T00:00:00\", \"2010-12-01T00:00:00\", \"2011-01-01T00:00:00\", \"2011-02-01T00:00:00\", \"2011-03-01T00:00:00\", \"2011-04-01T00:00:00\", \"2011-05-01T00:00:00\", \"2011-06-01T00:00:00\", \"2011-07-01T00:00:00\", \"2011-08-01T00:00:00\", \"2011-09-01T00:00:00\", \"2011-10-01T00:00:00\", \"2011-11-01T00:00:00\", \"2011-12-01T00:00:00\", \"2012-01-01T00:00:00\", \"2012-02-01T00:00:00\", \"2012-03-01T00:00:00\", \"2012-04-01T00:00:00\", \"2012-05-01T00:00:00\", \"2012-06-01T00:00:00\", \"2012-07-01T00:00:00\", \"2012-08-01T00:00:00\", \"2012-09-01T00:00:00\", \"2012-10-01T00:00:00\", \"2012-11-01T00:00:00\", \"2012-12-01T00:00:00\"], \"y\": [0, 0, 0, 0, 0, 0, 0, 0, 0, 0, 0, 2, 3, 0, 7, 37, 9, 6, 2, 0, 0, 0, 0, 0, 0, 0, 0, 0, 0, 0, 0, 0, 0, 0, 0, 0, 0, 0, 0, 0, 0, 0, 0, 0, 0, 0]}],                        {\"template\": {\"data\": {\"bar\": [{\"error_x\": {\"color\": \"#2a3f5f\"}, \"error_y\": {\"color\": \"#2a3f5f\"}, \"marker\": {\"line\": {\"color\": \"#E5ECF6\", \"width\": 0.5}}, \"type\": \"bar\"}], \"barpolar\": [{\"marker\": {\"line\": {\"color\": \"#E5ECF6\", \"width\": 0.5}}, \"type\": \"barpolar\"}], \"carpet\": [{\"aaxis\": {\"endlinecolor\": \"#2a3f5f\", \"gridcolor\": \"white\", \"linecolor\": \"white\", \"minorgridcolor\": \"white\", \"startlinecolor\": \"#2a3f5f\"}, \"baxis\": {\"endlinecolor\": \"#2a3f5f\", \"gridcolor\": \"white\", \"linecolor\": \"white\", \"minorgridcolor\": \"white\", \"startlinecolor\": \"#2a3f5f\"}, \"type\": \"carpet\"}], \"choropleth\": [{\"colorbar\": {\"outlinewidth\": 0, \"ticks\": \"\"}, \"type\": \"choropleth\"}], \"contour\": [{\"colorbar\": {\"outlinewidth\": 0, \"ticks\": \"\"}, \"colorscale\": [[0.0, \"#0d0887\"], [0.1111111111111111, \"#46039f\"], [0.2222222222222222, \"#7201a8\"], [0.3333333333333333, \"#9c179e\"], [0.4444444444444444, \"#bd3786\"], [0.5555555555555556, \"#d8576b\"], [0.6666666666666666, \"#ed7953\"], [0.7777777777777778, \"#fb9f3a\"], [0.8888888888888888, \"#fdca26\"], [1.0, \"#f0f921\"]], \"type\": \"contour\"}], \"contourcarpet\": [{\"colorbar\": {\"outlinewidth\": 0, \"ticks\": \"\"}, \"type\": \"contourcarpet\"}], \"heatmap\": [{\"colorbar\": {\"outlinewidth\": 0, \"ticks\": \"\"}, \"colorscale\": [[0.0, \"#0d0887\"], [0.1111111111111111, \"#46039f\"], [0.2222222222222222, \"#7201a8\"], [0.3333333333333333, \"#9c179e\"], [0.4444444444444444, \"#bd3786\"], [0.5555555555555556, \"#d8576b\"], [0.6666666666666666, \"#ed7953\"], [0.7777777777777778, \"#fb9f3a\"], [0.8888888888888888, \"#fdca26\"], [1.0, \"#f0f921\"]], \"type\": \"heatmap\"}], \"heatmapgl\": [{\"colorbar\": {\"outlinewidth\": 0, \"ticks\": \"\"}, \"colorscale\": [[0.0, \"#0d0887\"], [0.1111111111111111, \"#46039f\"], [0.2222222222222222, \"#7201a8\"], [0.3333333333333333, \"#9c179e\"], [0.4444444444444444, \"#bd3786\"], [0.5555555555555556, \"#d8576b\"], [0.6666666666666666, \"#ed7953\"], [0.7777777777777778, \"#fb9f3a\"], [0.8888888888888888, \"#fdca26\"], [1.0, \"#f0f921\"]], \"type\": \"heatmapgl\"}], \"histogram\": [{\"marker\": {\"colorbar\": {\"outlinewidth\": 0, \"ticks\": \"\"}}, \"type\": \"histogram\"}], \"histogram2d\": [{\"colorbar\": {\"outlinewidth\": 0, \"ticks\": \"\"}, \"colorscale\": [[0.0, \"#0d0887\"], [0.1111111111111111, \"#46039f\"], [0.2222222222222222, \"#7201a8\"], [0.3333333333333333, \"#9c179e\"], [0.4444444444444444, \"#bd3786\"], [0.5555555555555556, \"#d8576b\"], [0.6666666666666666, \"#ed7953\"], [0.7777777777777778, \"#fb9f3a\"], [0.8888888888888888, \"#fdca26\"], [1.0, \"#f0f921\"]], \"type\": \"histogram2d\"}], \"histogram2dcontour\": [{\"colorbar\": {\"outlinewidth\": 0, \"ticks\": \"\"}, \"colorscale\": [[0.0, \"#0d0887\"], [0.1111111111111111, \"#46039f\"], [0.2222222222222222, \"#7201a8\"], [0.3333333333333333, \"#9c179e\"], [0.4444444444444444, \"#bd3786\"], [0.5555555555555556, \"#d8576b\"], [0.6666666666666666, \"#ed7953\"], [0.7777777777777778, \"#fb9f3a\"], [0.8888888888888888, \"#fdca26\"], [1.0, \"#f0f921\"]], \"type\": \"histogram2dcontour\"}], \"mesh3d\": [{\"colorbar\": {\"outlinewidth\": 0, \"ticks\": \"\"}, \"type\": \"mesh3d\"}], \"parcoords\": [{\"line\": {\"colorbar\": {\"outlinewidth\": 0, \"ticks\": \"\"}}, \"type\": \"parcoords\"}], \"pie\": [{\"automargin\": true, \"type\": \"pie\"}], \"scatter\": [{\"marker\": {\"colorbar\": {\"outlinewidth\": 0, \"ticks\": \"\"}}, \"type\": \"scatter\"}], \"scatter3d\": [{\"line\": {\"colorbar\": {\"outlinewidth\": 0, \"ticks\": \"\"}}, \"marker\": {\"colorbar\": {\"outlinewidth\": 0, \"ticks\": \"\"}}, \"type\": \"scatter3d\"}], \"scattercarpet\": [{\"marker\": {\"colorbar\": {\"outlinewidth\": 0, \"ticks\": \"\"}}, \"type\": \"scattercarpet\"}], \"scattergeo\": [{\"marker\": {\"colorbar\": {\"outlinewidth\": 0, \"ticks\": \"\"}}, \"type\": \"scattergeo\"}], \"scattergl\": [{\"marker\": {\"colorbar\": {\"outlinewidth\": 0, \"ticks\": \"\"}}, \"type\": \"scattergl\"}], \"scattermapbox\": [{\"marker\": {\"colorbar\": {\"outlinewidth\": 0, \"ticks\": \"\"}}, \"type\": \"scattermapbox\"}], \"scatterpolar\": [{\"marker\": {\"colorbar\": {\"outlinewidth\": 0, \"ticks\": \"\"}}, \"type\": \"scatterpolar\"}], \"scatterpolargl\": [{\"marker\": {\"colorbar\": {\"outlinewidth\": 0, \"ticks\": \"\"}}, \"type\": \"scatterpolargl\"}], \"scatterternary\": [{\"marker\": {\"colorbar\": {\"outlinewidth\": 0, \"ticks\": \"\"}}, \"type\": \"scatterternary\"}], \"surface\": [{\"colorbar\": {\"outlinewidth\": 0, \"ticks\": \"\"}, \"colorscale\": [[0.0, \"#0d0887\"], [0.1111111111111111, \"#46039f\"], [0.2222222222222222, \"#7201a8\"], [0.3333333333333333, \"#9c179e\"], [0.4444444444444444, \"#bd3786\"], [0.5555555555555556, \"#d8576b\"], [0.6666666666666666, \"#ed7953\"], [0.7777777777777778, \"#fb9f3a\"], [0.8888888888888888, \"#fdca26\"], [1.0, \"#f0f921\"]], \"type\": \"surface\"}], \"table\": [{\"cells\": {\"fill\": {\"color\": \"#EBF0F8\"}, \"line\": {\"color\": \"white\"}}, \"header\": {\"fill\": {\"color\": \"#C8D4E3\"}, \"line\": {\"color\": \"white\"}}, \"type\": \"table\"}]}, \"layout\": {\"annotationdefaults\": {\"arrowcolor\": \"#2a3f5f\", \"arrowhead\": 0, \"arrowwidth\": 1}, \"autotypenumbers\": \"strict\", \"coloraxis\": {\"colorbar\": {\"outlinewidth\": 0, \"ticks\": \"\"}}, \"colorscale\": {\"diverging\": [[0, \"#8e0152\"], [0.1, \"#c51b7d\"], [0.2, \"#de77ae\"], [0.3, \"#f1b6da\"], [0.4, \"#fde0ef\"], [0.5, \"#f7f7f7\"], [0.6, \"#e6f5d0\"], [0.7, \"#b8e186\"], [0.8, \"#7fbc41\"], [0.9, \"#4d9221\"], [1, \"#276419\"]], \"sequential\": [[0.0, \"#0d0887\"], [0.1111111111111111, \"#46039f\"], [0.2222222222222222, \"#7201a8\"], [0.3333333333333333, \"#9c179e\"], [0.4444444444444444, \"#bd3786\"], [0.5555555555555556, \"#d8576b\"], [0.6666666666666666, \"#ed7953\"], [0.7777777777777778, \"#fb9f3a\"], [0.8888888888888888, \"#fdca26\"], [1.0, \"#f0f921\"]], \"sequentialminus\": [[0.0, \"#0d0887\"], [0.1111111111111111, \"#46039f\"], [0.2222222222222222, \"#7201a8\"], [0.3333333333333333, \"#9c179e\"], [0.4444444444444444, \"#bd3786\"], [0.5555555555555556, \"#d8576b\"], [0.6666666666666666, \"#ed7953\"], [0.7777777777777778, \"#fb9f3a\"], [0.8888888888888888, \"#fdca26\"], [1.0, \"#f0f921\"]]}, \"colorway\": [\"#636efa\", \"#EF553B\", \"#00cc96\", \"#ab63fa\", \"#FFA15A\", \"#19d3f3\", \"#FF6692\", \"#B6E880\", \"#FF97FF\", \"#FECB52\"], \"font\": {\"color\": \"#2a3f5f\"}, \"geo\": {\"bgcolor\": \"white\", \"lakecolor\": \"white\", \"landcolor\": \"#E5ECF6\", \"showlakes\": true, \"showland\": true, \"subunitcolor\": \"white\"}, \"hoverlabel\": {\"align\": \"left\"}, \"hovermode\": \"closest\", \"mapbox\": {\"style\": \"light\"}, \"paper_bgcolor\": \"white\", \"plot_bgcolor\": \"#E5ECF6\", \"polar\": {\"angularaxis\": {\"gridcolor\": \"white\", \"linecolor\": \"white\", \"ticks\": \"\"}, \"bgcolor\": \"#E5ECF6\", \"radialaxis\": {\"gridcolor\": \"white\", \"linecolor\": \"white\", \"ticks\": \"\"}}, \"scene\": {\"xaxis\": {\"backgroundcolor\": \"#E5ECF6\", \"gridcolor\": \"white\", \"gridwidth\": 2, \"linecolor\": \"white\", \"showbackground\": true, \"ticks\": \"\", \"zerolinecolor\": \"white\"}, \"yaxis\": {\"backgroundcolor\": \"#E5ECF6\", \"gridcolor\": \"white\", \"gridwidth\": 2, \"linecolor\": \"white\", \"showbackground\": true, \"ticks\": \"\", \"zerolinecolor\": \"white\"}, \"zaxis\": {\"backgroundcolor\": \"#E5ECF6\", \"gridcolor\": \"white\", \"gridwidth\": 2, \"linecolor\": \"white\", \"showbackground\": true, \"ticks\": \"\", \"zerolinecolor\": \"white\"}}, \"shapedefaults\": {\"line\": {\"color\": \"#2a3f5f\"}}, \"ternary\": {\"aaxis\": {\"gridcolor\": \"white\", \"linecolor\": \"white\", \"ticks\": \"\"}, \"baxis\": {\"gridcolor\": \"white\", \"linecolor\": \"white\", \"ticks\": \"\"}, \"bgcolor\": \"#E5ECF6\", \"caxis\": {\"gridcolor\": \"white\", \"linecolor\": \"white\", \"ticks\": \"\"}}, \"title\": {\"x\": 0.05}, \"xaxis\": {\"automargin\": true, \"gridcolor\": \"white\", \"linecolor\": \"white\", \"ticks\": \"\", \"title\": {\"standoff\": 15}, \"zerolinecolor\": \"white\", \"zerolinewidth\": 2}, \"yaxis\": {\"automargin\": true, \"gridcolor\": \"white\", \"linecolor\": \"white\", \"ticks\": \"\", \"title\": {\"standoff\": 15}, \"zerolinecolor\": \"white\", \"zerolinewidth\": 2}}}, \"title\": {\"text\": \"Frequency of the most polarized countries by date\", \"x\": 0.5, \"xanchor\": \"center\", \"y\": 0.9}, \"xaxis\": {\"title\": {\"text\": \"Date\"}}, \"yaxis\": {\"title\": {\"text\": \"Frequency\"}}},                        {\"responsive\": true}                    ).then(function(){\n                            \nvar gd = document.getElementById('cfa03c00-30b1-42db-a43d-7b6b6da6de8e');\nvar x = new MutationObserver(function (mutations, observer) {{\n        var display = window.getComputedStyle(gd).display;\n        if (!display || display === 'none') {{\n            console.log([gd, 'removed!']);\n            Plotly.purge(gd);\n            observer.disconnect();\n        }}\n}});\n\n// Listen for the removal of the full notebook cells\nvar notebookContainer = gd.closest('#notebook-container');\nif (notebookContainer) {{\n    x.observe(notebookContainer, {childList: true});\n}}\n\n// Listen for the clearing of the current output cell\nvar outputEl = gd.closest('.output');\nif (outputEl) {{\n    x.observe(outputEl, {childList: true});\n}}\n\n                        })                };                });            </script>        </div>"
     },
     "metadata": {},
     "output_type": "display_data"
    }
   ],
   "source": [
    "def plot_most_influential_countries(df_nations, top_entities):\n",
    "    fig = go.Figure()\n",
    "\n",
    "    for entity in top_entities[\"entity\"]:\n",
    "        y = []\n",
    "        for x_date in df_nations[\"Date\"]:\n",
    "            nations = df_nations.query(f'Date==\"{x_date}\"')[\"Entities\"].values[0]\n",
    "            counts = collections.Counter(nations)\n",
    "            y.append(counts[entity])\n",
    "        fig.add_trace(go.Scatter(x=df_nations[\"Date\"], y=y, name=entity))\n",
    "\n",
    "    # Edit the layout\n",
    "    fig.update_layout(\n",
    "        yaxis_title=\"Frequency\",\n",
    "        xaxis_title=\"Date\",\n",
    "        title= dict(\n",
    "            text=f'Frequency of the most polarized countries by date',\n",
    "            xanchor='center',\n",
    "            x=0.5, y=.9)\n",
    "    )\n",
    "    return fig\n",
    "\n",
    "plot_most_influential_countries(df_nations, pd.concat([top_positive, top_negative])).show()\n"
   ],
   "metadata": {
    "collapsed": false,
    "pycharm": {
     "name": "#%%\n"
    }
   }
  },
  {
   "cell_type": "code",
   "execution_count": 78,
   "outputs": [
    {
     "data": {
      "text/plain": "        entity  score   freq                                  dbpedia  \\\n0         iran  -50.0  101.0         http://dbpedia.org/resource/Iran   \n1  afghanistan   28.0  100.0  http://dbpedia.org/resource/Afghanistan   \n2        china  109.0   85.0        http://dbpedia.org/resource/China   \n3       israel  177.0   73.0       http://dbpedia.org/resource/Israel   \n4     pakistan  103.0   70.0     http://dbpedia.org/resource/Pakistan   \n\n       norm  \n0 -0.495050  \n1  0.280000  \n2  1.282353  \n3  2.424658  \n4  1.471429  ",
      "text/html": "<div>\n<style scoped>\n    .dataframe tbody tr th:only-of-type {\n        vertical-align: middle;\n    }\n\n    .dataframe tbody tr th {\n        vertical-align: top;\n    }\n\n    .dataframe thead th {\n        text-align: right;\n    }\n</style>\n<table border=\"1\" class=\"dataframe\">\n  <thead>\n    <tr style=\"text-align: right;\">\n      <th></th>\n      <th>entity</th>\n      <th>score</th>\n      <th>freq</th>\n      <th>dbpedia</th>\n      <th>norm</th>\n    </tr>\n  </thead>\n  <tbody>\n    <tr>\n      <th>0</th>\n      <td>iran</td>\n      <td>-50.0</td>\n      <td>101.0</td>\n      <td>http://dbpedia.org/resource/Iran</td>\n      <td>-0.495050</td>\n    </tr>\n    <tr>\n      <th>1</th>\n      <td>afghanistan</td>\n      <td>28.0</td>\n      <td>100.0</td>\n      <td>http://dbpedia.org/resource/Afghanistan</td>\n      <td>0.280000</td>\n    </tr>\n    <tr>\n      <th>2</th>\n      <td>china</td>\n      <td>109.0</td>\n      <td>85.0</td>\n      <td>http://dbpedia.org/resource/China</td>\n      <td>1.282353</td>\n    </tr>\n    <tr>\n      <th>3</th>\n      <td>israel</td>\n      <td>177.0</td>\n      <td>73.0</td>\n      <td>http://dbpedia.org/resource/Israel</td>\n      <td>2.424658</td>\n    </tr>\n    <tr>\n      <th>4</th>\n      <td>pakistan</td>\n      <td>103.0</td>\n      <td>70.0</td>\n      <td>http://dbpedia.org/resource/Pakistan</td>\n      <td>1.471429</td>\n    </tr>\n  </tbody>\n</table>\n</div>"
     },
     "execution_count": 78,
     "metadata": {},
     "output_type": "execute_result"
    }
   ],
   "source": [
    "df_entities.head()"
   ],
   "metadata": {
    "collapsed": false,
    "pycharm": {
     "name": "#%%\n"
    }
   }
  },
  {
   "cell_type": "code",
   "execution_count": 78,
   "outputs": [],
   "source": [],
   "metadata": {
    "collapsed": false,
    "pycharm": {
     "name": "#%%\n"
    }
   }
  }
 ],
 "metadata": {
  "kernelspec": {
   "display_name": "Python 3",
   "language": "python",
   "name": "python3"
  },
  "language_info": {
   "codemirror_mode": {
    "name": "ipython",
    "version": 3
   },
   "file_extension": ".py",
   "mimetype": "text/x-python",
   "name": "python",
   "nbconvert_exporter": "python",
   "pygments_lexer": "ipython3",
   "version": "3.8.7"
  }
 },
 "nbformat": 4,
 "nbformat_minor": 1
}