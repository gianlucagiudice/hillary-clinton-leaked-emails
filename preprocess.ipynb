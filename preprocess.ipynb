{
 "cells": [
  {
   "cell_type": "code",
   "execution_count": 220,
   "metadata": {
    "pycharm": {
     "name": "#%%\n"
    }
   },
   "outputs": [
    {
     "name": "stdout",
     "output_type": "stream",
     "text": [
      "INFO: Pandarallel will run on 12 workers.\n",
      "INFO: Pandarallel will use standard multiprocessing data transfer (pipe) to transfer data between the main process and workers.\n"
     ]
    }
   ],
   "source": [
    "import pandas as pd\n",
    "from os.path import join\n",
    "import regex as re\n",
    "import string\n",
    "from nltk.corpus import stopwords\n",
    "import seaborn as sns\n",
    "import matplotlib.pyplot as plt\n",
    "from wordcloud import WordCloud\n",
    "from afinn import Afinn\n",
    "import pytz\n",
    "import dateutil.parser as dparser\n",
    "import spacy\n",
    "from pandarallel import pandarallel\n",
    "from spacy import displacy\n",
    "from nltk.tokenize import word_tokenize\n",
    "import requests\n",
    "from json.decoder import JSONDecodeError\n",
    "from multiprocessing.dummy import Pool as ThreadPool\n",
    "import json\n",
    "import itertools\n",
    "import plotly.express as px\n",
    "\n",
    "\n",
    "sns.set_theme()\n",
    "pandarallel.initialize(progress_bar = False)\n",
    "\n",
    "# Constants\n",
    "DBPEDIA_ENDPOINT = \"https://api.dbpedia-spotlight.org/en/annotate\"\n",
    "POOL_SIZE = 30\n",
    "\n",
    "# Environment\n",
    "DATA_PATH = 'data/'\n",
    "EMAIL_DATA = 'Emails.csv'"
   ]
  },
  {
   "cell_type": "markdown",
   "metadata": {
    "pycharm": {
     "name": "#%% md\n"
    }
   },
   "source": [
    "Read dataframe"
   ]
  },
  {
   "cell_type": "code",
   "execution_count": 2,
   "metadata": {
    "pycharm": {
     "name": "#%%\n"
    }
   },
   "outputs": [
    {
     "name": "stdout",
     "output_type": "stream",
     "text": [
      "Number of NA values in body: 1203.\n",
      "Number of valid email: 6742\n"
     ]
    },
    {
     "data": {
      "text/html": [
       "<div>\n",
       "<style scoped>\n",
       "    .dataframe tbody tr th:only-of-type {\n",
       "        vertical-align: middle;\n",
       "    }\n",
       "\n",
       "    .dataframe tbody tr th {\n",
       "        vertical-align: top;\n",
       "    }\n",
       "\n",
       "    .dataframe thead th {\n",
       "        text-align: right;\n",
       "    }\n",
       "</style>\n",
       "<table border=\"1\" class=\"dataframe\">\n",
       "  <thead>\n",
       "    <tr style=\"text-align: right;\">\n",
       "      <th></th>\n",
       "      <th>SenderPersonId</th>\n",
       "      <th>MetadataDateSent</th>\n",
       "      <th>ExtractedSubject</th>\n",
       "      <th>ExtractedBodyText</th>\n",
       "    </tr>\n",
       "    <tr>\n",
       "      <th>Id</th>\n",
       "      <th></th>\n",
       "      <th></th>\n",
       "      <th></th>\n",
       "      <th></th>\n",
       "    </tr>\n",
       "  </thead>\n",
       "  <tbody>\n",
       "    <tr>\n",
       "      <th>2</th>\n",
       "      <td>NaN</td>\n",
       "      <td>2011-03-03 13:53:00+01:00</td>\n",
       "      <td>NaN</td>\n",
       "      <td>B6\\nThursday, March 3, 2011 9:45 PM\\nH: Latest...</td>\n",
       "    </tr>\n",
       "    <tr>\n",
       "      <th>3</th>\n",
       "      <td>32.0</td>\n",
       "      <td>2012-09-12 13:53:00+02:00</td>\n",
       "      <td>Re: Chris Stevens</td>\n",
       "      <td>Thx</td>\n",
       "    </tr>\n",
       "    <tr>\n",
       "      <th>5</th>\n",
       "      <td>80.0</td>\n",
       "      <td>2011-03-11 13:53:00+01:00</td>\n",
       "      <td>NaN</td>\n",
       "      <td>H &lt;hrod17@clintonemail.com&gt;\\nFriday, March 11,...</td>\n",
       "    </tr>\n",
       "    <tr>\n",
       "      <th>6</th>\n",
       "      <td>80.0</td>\n",
       "      <td>2012-09-12 13:53:00+02:00</td>\n",
       "      <td>Meet The Right Wing Extremist Behind Anti-Musl...</td>\n",
       "      <td>Pis print.\\n-•-...-^\\nH &lt; hrod17@clintonernail...</td>\n",
       "    </tr>\n",
       "    <tr>\n",
       "      <th>8</th>\n",
       "      <td>80.0</td>\n",
       "      <td>2011-03-11 13:53:00+01:00</td>\n",
       "      <td>NaN</td>\n",
       "      <td>H &lt;hrod17@clintonemail.corn&gt;\\nFriday, March 11...</td>\n",
       "    </tr>\n",
       "  </tbody>\n",
       "</table>\n",
       "</div>"
      ],
      "text/plain": [
       "    SenderPersonId           MetadataDateSent  \\\n",
       "Id                                              \n",
       "2              NaN  2011-03-03 13:53:00+01:00   \n",
       "3             32.0  2012-09-12 13:53:00+02:00   \n",
       "5             80.0  2011-03-11 13:53:00+01:00   \n",
       "6             80.0  2012-09-12 13:53:00+02:00   \n",
       "8             80.0  2011-03-11 13:53:00+01:00   \n",
       "\n",
       "                                     ExtractedSubject  \\\n",
       "Id                                                      \n",
       "2                                                 NaN   \n",
       "3                                   Re: Chris Stevens   \n",
       "5                                                 NaN   \n",
       "6   Meet The Right Wing Extremist Behind Anti-Musl...   \n",
       "8                                                 NaN   \n",
       "\n",
       "                                    ExtractedBodyText  \n",
       "Id                                                     \n",
       "2   B6\\nThursday, March 3, 2011 9:45 PM\\nH: Latest...  \n",
       "3                                                 Thx  \n",
       "5   H <hrod17@clintonemail.com>\\nFriday, March 11,...  \n",
       "6   Pis print.\\n-•-...-^\\nH < hrod17@clintonernail...  \n",
       "8   H <hrod17@clintonemail.corn>\\nFriday, March 11...  "
      ]
     },
     "execution_count": 2,
     "metadata": {},
     "output_type": "execute_result"
    }
   ],
   "source": [
    "def parse_date(date):\n",
    "    date_parsed = None\n",
    "    try:\n",
    "        date_parsed = dparser.parse(date)\n",
    "        date_parsed = date_parsed.replace(tzinfo=pytz.timezone(\"US/Pacific\"))\n",
    "        date_parsed = date_parsed.astimezone()\n",
    "    except:\n",
    "        pass\n",
    "    return date_parsed\n",
    "\n",
    "\n",
    "df = pd.read_csv(join(DATA_PATH, EMAIL_DATA))\n",
    "\n",
    "# Subset useful fields\n",
    "df = df[['Id', 'SenderPersonId', 'MetadataDateSent',\n",
    "         'ExtractedSubject', 'ExtractedBodyText']]\n",
    "# Preprocess dataframe data\n",
    "df = df.astype({'Id': int})\n",
    "df = df.set_index('Id')\n",
    "df[\"MetadataDateSent\"] = df[\"MetadataDateSent\"].apply(parse_date)\n",
    "\n",
    "\n",
    "# Drop na values based on Extracted body\n",
    "len_before = len(df)\n",
    "df = df[df['ExtractedBodyText'].notna()]\n",
    "print(f\"Number of NA values in body: {len_before - len(df)}.\\nNumber of valid email: {len(df)}\")\n",
    "df.head()"
   ]
  },
  {
   "cell_type": "markdown",
   "metadata": {},
   "source": [
    "Date and time distribution.\n",
    "\n",
    "Since the emails belong to Hilary Clinton's personal account instead of the institutional one, we should notice few emails sent during weekdays."
   ]
  },
  {
   "cell_type": "code",
   "execution_count": 3,
   "metadata": {
    "pycharm": {
     "name": "#%%\n"
    }
   },
   "outputs": [
    {
     "name": "stderr",
     "output_type": "stream",
     "text": [
      "/Users/gianlucagiudice/.pyenv/versions/3.8.7/lib/python3.8/site-packages/seaborn/_decorators.py:36: FutureWarning: Pass the following variable as a keyword arg: x. From version 0.12, the only valid positional argument will be `data`, and passing other arguments without an explicit keyword will result in an error or misinterpretation.\n",
      "  warnings.warn(\n"
     ]
    },
    {
     "data": {
      "image/png": "[encoded data removed]",
      "text/plain": [
       "<Figure size 432x288 with 1 Axes>"
      ]
     },
     "metadata": {},
     "output_type": "display_data"
    }
   ],
   "source": [
    "def plot_days_dist(days_metadata):\n",
    "    days_order = [\"Monday\", \"Tuesday\", \"Wednesday\", \"Thursday\", \"Friday\", \"Saturday\", \"Sunday\"]\n",
    "    days = [date.strftime(\"%A\") for date in df[days_metadata.notnull()][\"MetadataDateSent\"]]\n",
    "    sns.countplot(days, order=days_order)\n",
    "    plt.xticks(rotation=45)\n",
    "    plt.title(\"Days of the week distribution\")\n",
    "    plt.plot()\n",
    "\n",
    "plot_days_dist(df[\"MetadataDateSent\"])\n"
   ]
  },
  {
   "cell_type": "markdown",
   "metadata": {},
   "source": [
    "Preprocessing"
   ]
  },
  {
   "cell_type": "code",
   "execution_count": 4,
   "metadata": {
    "pycharm": {
     "name": "#%%\n"
    }
   },
   "outputs": [
    {
     "name": "stdout",
     "output_type": "stream",
     "text": [
      ">>> Raw:\n",
      "Brennan, John 0.\n",
      "Subject: RE: Google and YouTube\n",
      "Sue just called back and the block will stay through Monday. They will not/not be unblocking it before then.\n",
      "Nora Toiv\n",
      "Office of the Secretary\n",
      "202-647-8633\n",
      ">>> Cleaned:\n",
      "brennan, john 0.\n",
      "subject: sue just called back and the block will stay through monday. they will not/not be unblocking it before then.\n",
      "nora toiv\n",
      "office of the secretary\n",
      "202-647-8633\n"
     ]
    }
   ],
   "source": [
    "# Body preprocessing\n",
    "def clean_body(body):\n",
    "    email_header = re.compile(r'.+[^<]+<[^>]+>', re.IGNORECASE)\n",
    "    re_header = re.compile(r'(Delivered:\\s+)?RE:[^\\n]+\\n', re.IGNORECASE)\n",
    "    fw_header = re.compile(r'FW:[^\\n]+\\n', re.IGNORECASE)\n",
    "    date_header = re.compile(r'\\w+,\\s\\w+\\s\\d+,\\s\\d+[^\\n]+\\n', re.IGNORECASE)\n",
    "    # Convert to lowercase\n",
    "    body = body.lower()\n",
    "    # Remove email\n",
    "    body = re.sub(email_header, '', body).strip()\n",
    "    # Remove \"FW:\"\n",
    "    body = re.sub(fw_header, '', body).strip()\n",
    "    # Remove \"RE:\"\n",
    "    body = re.sub(re_header, '', body).strip()\n",
    "    # Remove date\n",
    "    body = re.sub(date_header, '', body).strip()\n",
    "    return body\n",
    "\n",
    "sample = df['ExtractedBodyText'].loc[230]\n",
    "print('>>> Raw:\\n' + sample)\n",
    "print('>>> Cleaned:\\n' + clean_body(sample))"
   ]
  },
  {
   "cell_type": "markdown",
   "metadata": {
    "pycharm": {
     "name": "#%% md\n"
    }
   },
   "source": [
    "Drop the emails that are too short"
   ]
  },
  {
   "cell_type": "code",
   "execution_count": 5,
   "metadata": {
    "pycharm": {
     "name": "#%%\n"
    }
   },
   "outputs": [
    {
     "data": {
      "text/plain": [
       "['brennan',\n",
       " 'john',\n",
       " 'subject',\n",
       " 'sue',\n",
       " 'called',\n",
       " 'back',\n",
       " 'block',\n",
       " 'stay',\n",
       " 'monday',\n",
       " 'not/not',\n",
       " 'unblocking',\n",
       " 'nora',\n",
       " 'toiv',\n",
       " 'office',\n",
       " 'secretary']"
      ]
     },
     "execution_count": 5,
     "metadata": {},
     "output_type": "execute_result"
    }
   ],
   "source": [
    "def tokenize_body(body):\n",
    "    tokenized = word_tokenize(body)\n",
    "    # Strip tokens\n",
    "    tokenized = [token.strip() for token in tokenized]\n",
    "\n",
    "    # --------- STRICT RULE ---------\n",
    "    # Strict regex rule\n",
    "    tokenized = [token for token in tokenized if re.match('\\w+', token)]\n",
    "    # --------- STRICT RULE ---------\n",
    "\n",
    "    # Remove punctuation\n",
    "    tokenized = [token for token in tokenized if token not in string.punctuation]\n",
    "    # Remove stopwords\n",
    "    stop = stopwords.words('english') + [':', '.', '@'] + [\"n't\"]\n",
    "    tokenized = [token for token in tokenized if token not in stop]\n",
    "    # Remove numbers\n",
    "    tokenized = [token for token in tokenized if not re.search(r'\\d', token)]\n",
    "    return tokenized\n",
    "\n",
    "to_tokenize = clean_body(sample)\n",
    "tokenize_body(to_tokenize)"
   ]
  },
  {
   "cell_type": "code",
   "execution_count": 6,
   "metadata": {
    "pycharm": {
     "name": "#%%\n"
    }
   },
   "outputs": [],
   "source": [
    "def process_body(body):\n",
    "    body = clean_body(body)\n",
    "    tokenized = tokenize_body(body)\n",
    "    return tokenized"
   ]
  },
  {
   "cell_type": "code",
   "execution_count": 7,
   "metadata": {
    "pycharm": {
     "name": "#%%\n"
    }
   },
   "outputs": [
    {
     "data": {
      "text/plain": [
       "Id\n",
       "2    [h, latest, syria, aiding, qaddafi, sid, hrc, ...\n",
       "3                                                [thx]\n",
       "5    [huma, abedin, hrc, memo, syria, aiding, libya...\n",
       "6    [state.gov', meat, sent, subject, meet, right,...\n",
       "8    [huma, abedin, hrc, memo, syria, aiding, libya...\n",
       "Name: Tokenized, dtype: object"
      ]
     },
     "execution_count": 7,
     "metadata": {},
     "output_type": "execute_result"
    }
   ],
   "source": [
    "df['Tokenized'] = df['ExtractedBodyText'].parallel_apply(process_body)\n",
    "df['Tokenized'].head()"
   ]
  },
  {
   "cell_type": "code",
   "execution_count": 8,
   "metadata": {
    "pycharm": {
     "name": "#%%\n"
    }
   },
   "outputs": [
    {
     "data": {
      "image/png": "[encoded data removed]",
      "text/plain": [
       "<Figure size 360x360 with 1 Axes>"
      ]
     },
     "metadata": {},
     "output_type": "display_data"
    },
    {
     "name": "stdout",
     "output_type": "stream",
     "text": [
      "Describe tokens length: count    6742.000000\n",
      "mean       46.054732\n",
      "std       231.867086\n",
      "min         0.000000\n",
      "25%         2.000000\n",
      "50%         6.000000\n",
      "75%        16.000000\n",
      "max      6828.000000\n",
      "Name: TokensLength, dtype: float64\n"
     ]
    }
   ],
   "source": [
    "def plot_tokens_distribution(values):\n",
    "    ax = sns.displot(values, log=True, bins=30)\n",
    "    ax.set_xlabels(\"Number of tokens\")\n",
    "    plt.title(\"Number of tokens per email\")\n",
    "    plt.show()\n",
    "    print(\"Describe tokens length:\", values.describe())\n",
    "\n",
    "df['TokensLength'] = [len(x) for x in df['Tokenized']]\n",
    "\n",
    "plot_tokens_distribution(df['TokensLength'])"
   ]
  },
  {
   "cell_type": "markdown",
   "metadata": {},
   "source": [
    "Wordcloud of the emails with few tokens"
   ]
  },
  {
   "cell_type": "code",
   "execution_count": 9,
   "metadata": {
    "pycharm": {
     "name": "#%%\n"
    }
   },
   "outputs": [],
   "source": [
    "TOKENS_THLD = 7\n",
    "def flatten_tokens(tokens_list):\n",
    "    words_flatten = []\n",
    "    for token in tokens_list:\n",
    "        words_flatten += token\n",
    "    return pd.Series(words_flatten)\n",
    "\n",
    "def plot_wordcloud(words_freq, title, max_font, max_words):\n",
    "    wordcloud = WordCloud(max_font_size=max_font, max_words=max_words)\n",
    "    wordcloud = wordcloud.generate_from_frequencies(words_freq)\n",
    "    plt.figure()\n",
    "    plt.title(title)\n",
    "    plt.imshow(wordcloud, interpolation=\"bilinear\")\n",
    "    plt.axis(\"off\")\n",
    "    plt.show()"
   ]
  },
  {
   "cell_type": "code",
   "execution_count": 10,
   "metadata": {
    "pycharm": {
     "name": "#%%\n"
    }
   },
   "outputs": [
    {
     "data": {
      "image/png": "[encoded data removed]",
      "text/plain": [
       "<Figure size 432x288 with 1 Axes>"
      ]
     },
     "metadata": {},
     "output_type": "display_data"
    }
   ],
   "source": [
    "words_flatten = flatten_tokens(df[df[\"TokensLength\"] < TOKENS_THLD][\"Tokenized\"])\n",
    "title = f\"Word cloud of the short emails (Num. of tokens < {TOKENS_THLD})\"\n",
    "plot_wordcloud(words_flatten.value_counts(), title, 100, 70)"
   ]
  },
  {
   "cell_type": "code",
   "execution_count": 11,
   "metadata": {
    "pycharm": {
     "name": "#%%\n"
    }
   },
   "outputs": [
    {
     "data": {
      "image/png": "[encoded data removed]",
      "text/plain": [
       "<Figure size 432x288 with 1 Axes>"
      ]
     },
     "metadata": {},
     "output_type": "display_data"
    }
   ],
   "source": [
    "words_flatten = flatten_tokens(df[df[\"TokensLength\"] > TOKENS_THLD][\"Tokenized\"])\n",
    "title = f\"Word cloud ot the long emails (Num. of tokens >= {TOKENS_THLD})\"\n",
    "plot_wordcloud(words_flatten.value_counts(), title, 100, 70)"
   ]
  },
  {
   "cell_type": "markdown",
   "metadata": {
    "pycharm": {
     "name": "#%% md\n"
    }
   },
   "source": [
    "Named entity Recognition and linking on nations"
   ]
  },
  {
   "cell_type": "code",
   "execution_count": 12,
   "metadata": {
    "pycharm": {
     "name": "#%%\n"
    }
   },
   "outputs": [
    {
     "name": "stdout",
     "output_type": "stream",
     "text": [
      "spacy_entity_linker\n"
     ]
    }
   ],
   "source": [
    "nlp = nlp = spacy.load(\"en_core_web_md\")\n",
    "afn = Afinn()\n",
    "\n",
    "def extract_entities(email_body, target_label):\n",
    "    entities = [ent for ent in nlp(email_body).ents if ent.label_ == target_label]\n",
    "    return [(entity.text.lower(), afn.score(entity.sent.lemma_)) for entity in entities]"
   ]
  },
  {
   "cell_type": "markdown",
   "metadata": {},
   "source": [
    "Slides demo"
   ]
  },
  {
   "cell_type": "code",
   "execution_count": 13,
   "metadata": {
    "pycharm": {
     "name": "#%%\n"
    }
   },
   "outputs": [
    {
     "data": {
      "text/html": [
       "<span class=\"tex2jax_ignore\"><div class=\"entities\" style=\"line-height: 2.5; direction: ltr\">[...] \n",
       "<mark class=\"entity\" style=\"background: #feca74; padding: 0.45em 0.6em; margin: 0 0.25em; line-height: 1; border-radius: 0.35em;\">\n",
       "    The United States\n",
       "    <span style=\"font-size: 0.8em; font-weight: bold; line-height: 1; border-radius: 0.35em; vertical-align: middle; margin-left: 0.5rem\">GPE</span>\n",
       "</mark>\n",
       " should immediately ask \n",
       "<mark class=\"entity\" style=\"background: #7aecec; padding: 0.45em 0.6em; margin: 0 0.25em; line-height: 1; border-radius: 0.35em;\">\n",
       "    the Security Council\n",
       "    <span style=\"font-size: 0.8em; font-weight: bold; line-height: 1; border-radius: 0.35em; vertical-align: middle; margin-left: 0.5rem\">ORG</span>\n",
       "</mark>\n",
       " to authorize a no-flight zone and make clear to \n",
       "<mark class=\"entity\" style=\"background: #feca74; padding: 0.45em 0.6em; margin: 0 0.25em; line-height: 1; border-radius: 0.35em;\">\n",
       "    Russia\n",
       "    <span style=\"font-size: 0.8em; font-weight: bold; line-height: 1; border-radius: 0.35em; vertical-align: middle; margin-left: 0.5rem\">GPE</span>\n",
       "</mark>\n",
       " and \n",
       "<mark class=\"entity\" style=\"background: #feca74; padding: 0.45em 0.6em; margin: 0 0.25em; line-height: 1; border-radius: 0.35em;\">\n",
       "    China\n",
       "    <span style=\"font-size: 0.8em; font-weight: bold; line-height: 1; border-radius: 0.35em; vertical-align: middle; margin-left: 0.5rem\">GPE</span>\n",
       "</mark>\n",
       " that if they block the resolution, the blood of the \n",
       "<mark class=\"entity\" style=\"background: #c887fb; padding: 0.45em 0.6em; margin: 0 0.25em; line-height: 1; border-radius: 0.35em;\">\n",
       "    Libyan\n",
       "    <span style=\"font-size: 0.8em; font-weight: bold; line-height: 1; border-radius: 0.35em; vertical-align: middle; margin-left: 0.5rem\">NORP</span>\n",
       "</mark>\n",
       " opposition will be on their hands. [...]</div></span>"
      ],
      "text/plain": [
       "<IPython.core.display.HTML object>"
      ]
     },
     "metadata": {},
     "output_type": "display_data"
    }
   ],
   "source": [
    "def named_entity_recognition_demo():\n",
    "    doc = \"\"\"[...] The United States should immediately ask the Security Council to authorize a no-flight zone and make clear to Russia and China that if they block the resolution, the blood of the Libyan opposition will be on their hands. [...]\"\"\"\n",
    "    displacy.render(nlp(doc), style=\"ent\", jupyter=True)\n",
    "named_entity_recognition_demo()"
   ]
  },
  {
   "cell_type": "code",
   "execution_count": 14,
   "metadata": {
    "pycharm": {
     "name": "#%%\n"
    }
   },
   "outputs": [
    {
     "data": {
      "text/plain": [
       "Id\n",
       "2    [(syria, 0.0), (qaddafi, 0.0), (libya, 0.0), (...\n",
       "3                                                   []\n",
       "5         [(syria, 0.0), (qaddafi, 0.0), (libya, 0.0)]\n",
       "6                                       [(u.s., -1.0)]\n",
       "8    [(syria, 0.0), (qaddafi, 0.0), (syria, 0.0), (...\n",
       "Name: EntitiesGPE, dtype: object"
      ]
     },
     "execution_count": 14,
     "metadata": {},
     "output_type": "execute_result"
    }
   ],
   "source": [
    "df[\"EntitiesGPE\"] = df[\"ExtractedBodyText\"].parallel_apply(extract_entities, target_label='GPE')\n",
    "df[\"EntitiesGPE\"].head()"
   ]
  },
  {
   "cell_type": "markdown",
   "metadata": {},
   "source": [
    "Aggregate (sum) the sentiment among emails.\n",
    "\n",
    "If an entity appears one or more times in the email, its frequency contribution is 1."
   ]
  },
  {
   "cell_type": "code",
   "execution_count": 15,
   "metadata": {
    "pycharm": {
     "name": "#%%\n"
    }
   },
   "outputs": [],
   "source": [
    "def evaluate_entities(entities_list, order='freq'):\n",
    "    entity_score = dict()\n",
    "    freq_dict = dict()\n",
    "    for entities in entities_list:\n",
    "        entities_set = set()\n",
    "        for entity, sentiment in entities:\n",
    "            entity_score[entity] = entity_score.get(entity, 0) + sentiment\n",
    "            entities_set.add(entity)\n",
    "        for entity in entities_set:\n",
    "            freq_dict[entity] = freq_dict.get(entity, 0) + 1\n",
    "    out_dict = dict()\n",
    "    for entity, frequnecy in freq_dict.items():\n",
    "        out_dict[entity] = {\n",
    "            \"score\": entity_score[entity],\n",
    "            \"freq\": frequnecy,\n",
    "            \"norm\": entity_score[entity] / frequnecy}\n",
    "    return {k: v for k, v in sorted(out_dict.items(), key=lambda item: item[1][order], reverse=True)}\n",
    "\n",
    "def clean_entities(entities, blacklist):\n",
    "    for target in map(lambda x: x.lower(), blacklist):\n",
    "        if entities.get(target) is not None :\n",
    "            del entities[target]\n",
    "    return entities"
   ]
  },
  {
   "cell_type": "code",
   "execution_count": 60,
   "metadata": {
    "pycharm": {
     "name": "#%%\n"
    }
   },
   "outputs": [
    {
     "name": "stdout",
     "output_type": "stream",
     "text": [
      "[('iran', {'score': -48.0, 'freq': 102, 'norm': -0.47058823529411764}), ('afghanistan', {'score': 28.0, 'freq': 100, 'norm': 0.28}), ('china', {'score': 109.0, 'freq': 85, 'norm': 1.2823529411764707}), ('israel', {'score': 206.0, 'freq': 76, 'norm': 2.710526315789474}), ('pakistan', {'score': 103.0, 'freq': 70, 'norm': 1.4714285714285715}), ('iraq', {'score': -76.0, 'freq': 68, 'norm': -1.1176470588235294}), ('haiti', {'score': 141.0, 'freq': 66, 'norm': 2.1363636363636362}), ('libya', {'score': -27.0, 'freq': 55, 'norm': -0.4909090909090909}), ('russia', {'score': -1.0, 'freq': 54, 'norm': -0.018518518518518517}), ('india', {'score': 127.0, 'freq': 52, 'norm': 2.4423076923076925}), ('ny', {'score': 15.0, 'freq': 49, 'norm': 0.30612244897959184}), ('uk', {'score': -5.0, 'freq': 41, 'norm': -0.12195121951219512}), ('london', {'score': 5.0, 'freq': 41, 'norm': 0.12195121951219512}), ('hrc', {'score': 47.0, 'freq': 34, 'norm': 1.3823529411764706}), ('turkey', {'score': 18.0, 'freq': 33, 'norm': 0.5454545454545454})]\n"
     ]
    }
   ],
   "source": [
    "entities_to_remove = ['U.S.', 'US', 'the United States', 'America', 'usa', \"washington\", \"new york\", \"dc\"]\n",
    "entities_gpe = evaluate_entities(df['EntitiesGPE'])\n",
    "entities_gpe = clean_entities(entities_gpe, entities_to_remove)\n",
    "print(list(entities_gpe.items())[:15])\n"
   ]
  },
  {
   "cell_type": "markdown",
   "metadata": {
    "pycharm": {
     "name": "#%% md\n"
    }
   },
   "source": [
    "Entity linking using DBpedia Spotlights"
   ]
  },
  {
   "cell_type": "code",
   "execution_count": 61,
   "metadata": {
    "pycharm": {
     "name": "#%%\n"
    }
   },
   "outputs": [],
   "source": [
    "def entity_linking(*args):\n",
    "    entity, session = args\n",
    "    params = {\"text\": entity, \"confidence\":0.1}\n",
    "    headers = {\"accept\": \"application/json\"}\n",
    "    response_url = session.get(url=DBPEDIA_ENDPOINT, params=params, headers=headers)\n",
    "    try:\n",
    "        parsed = json.loads(response_url.content.decode())\n",
    "        return parsed[\"Resources\"][0]['@URI']\n",
    "    except (IndexError, KeyError, JSONDecodeError):\n",
    "        return None\n",
    "\n",
    "def resolve_entities(entities: dict) -> dict:\n",
    "    with ThreadPool(POOL_SIZE) as pool:\n",
    "        with requests.Session() as session:\n",
    "            session_to_zip = itertools.repeat(session, len(entities))\n",
    "            results = pool.starmap(entity_linking, zip(entities.keys(), session_to_zip))\n",
    "\n",
    "    entities_resolved = entities\n",
    "    for (entity, entity_dict), dbpedia in zip(entities.items(), results):\n",
    "        entity_dict.update([('dbpedia', dbpedia)])\n",
    "        entities_resolved[entity] = entity_dict\n",
    "    return entities_resolved\n"
   ]
  },
  {
   "cell_type": "code",
   "execution_count": 62,
   "metadata": {
    "pycharm": {
     "name": "#%%\n"
    }
   },
   "outputs": [
    {
     "name": "stdout",
     "output_type": "stream",
     "text": [
      "[('iran', {'score': -48.0, 'freq': 102, 'norm': -0.47058823529411764, 'dbpedia': 'http://dbpedia.org/resource/Iran'}), ('afghanistan', {'score': 28.0, 'freq': 100, 'norm': 0.28, 'dbpedia': 'http://dbpedia.org/resource/Afghanistan'}), ('china', {'score': 109.0, 'freq': 85, 'norm': 1.2823529411764707, 'dbpedia': 'http://dbpedia.org/resource/China'}), ('israel', {'score': 206.0, 'freq': 76, 'norm': 2.710526315789474, 'dbpedia': 'http://dbpedia.org/resource/Israel'}), ('pakistan', {'score': 103.0, 'freq': 70, 'norm': 1.4714285714285715, 'dbpedia': 'http://dbpedia.org/resource/Pakistan'}), ('iraq', {'score': -76.0, 'freq': 68, 'norm': -1.1176470588235294, 'dbpedia': 'http://dbpedia.org/resource/Iraq'}), ('haiti', {'score': 141.0, 'freq': 66, 'norm': 2.1363636363636362, 'dbpedia': 'http://dbpedia.org/resource/Haiti'}), ('libya', {'score': -27.0, 'freq': 55, 'norm': -0.4909090909090909, 'dbpedia': 'http://dbpedia.org/resource/Libya'}), ('russia', {'score': -1.0, 'freq': 54, 'norm': -0.018518518518518517, 'dbpedia': 'http://dbpedia.org/resource/Russia'}), ('india', {'score': 127.0, 'freq': 52, 'norm': 2.4423076923076925, 'dbpedia': 'http://dbpedia.org/resource/India'}), ('ny', {'score': 15.0, 'freq': 49, 'norm': 0.30612244897959184, 'dbpedia': None}), ('uk', {'score': -5.0, 'freq': 41, 'norm': -0.12195121951219512, 'dbpedia': 'http://dbpedia.org/resource/United_Kingdom'}), ('london', {'score': 5.0, 'freq': 41, 'norm': 0.12195121951219512, 'dbpedia': 'http://dbpedia.org/resource/London'}), ('hrc', {'score': 47.0, 'freq': 34, 'norm': 1.3823529411764706, 'dbpedia': 'http://dbpedia.org/resource/Human_Rights_Campaign'}), ('turkey', {'score': 18.0, 'freq': 33, 'norm': 0.5454545454545454, 'dbpedia': 'http://dbpedia.org/resource/Turkey'})]\n"
     ]
    }
   ],
   "source": [
    "entities_gpe = resolve_entities(entities_gpe)\n",
    "print(list(entities_gpe.items())[:15])"
   ]
  },
  {
   "cell_type": "markdown",
   "metadata": {
    "pycharm": {
     "name": "#%% md\n"
    }
   },
   "source": [
    "Plot nations sentiment using"
   ]
  },
  {
   "cell_type": "code",
   "execution_count": 72,
   "metadata": {
    "pycharm": {
     "name": "#%%\n"
    }
   },
   "outputs": [
    {
     "data": {
      "image/png": "[encoded data removed]",
      "text/plain": [
       "<Figure size 418.1x360 with 1 Axes>"
      ]
     },
     "metadata": {},
     "output_type": "display_data"
    }
   ],
   "source": [
    "cmap = sns.color_palette(\"coolwarm_r\", as_cmap=True)\n",
    "fig = sns.relplot(x=\"score\", y=\"freq\", size=\"freq\", hue=\"score\", sizes=(15, 250), palette=cmap, data=df_entities)\n",
    "\n",
    "ax = fig.axes[0,0]\n",
    "for idx,row in df_entities.iterrows():\n",
    "    x = row[\"score\"]\n",
    "    y = row[\"freq\"]\n",
    "    text = row[\"entity\"]\n",
    "    ax.text(x+10, y-0.5 ,text, horizontalalignment='left')"
   ]
  },
  {
   "cell_type": "code",
   "execution_count": 222,
   "metadata": {
    "scrolled": false
   },
   "outputs": [],
   "source": [
    "def build_entities_df(entities):\n",
    "    df_entities = pd.DataFrame(columns=[\"entity\", \"score\", \"freq\"])\n",
    "    for entity, entity_dict in entites.items():\n",
    "        row = {\"entity\": entity, \"score\": entity_dict[\"score\"],\n",
    "               \"freq\": entity_dict[\"freq\"], \"dbpedia\": entity_dict[\"dbpedia\"]}\n",
    "        df_entities = df_entities.append(row, ignore_index=True)\n",
    "\n",
    "    df_entities.sort_values(by=['freq'])\n",
    "    df_entities = df_entities.iloc[:30]\n",
    "    return df_entities\n",
    "\n",
    "def plot_entitites_sentiment(df_entities):\n",
    "    fig = px.scatter(df_entities, x=\"score\", y=\"freq\", text=\"entity\",\n",
    "                     color=\"score\", color_continuous_scale=\"Bluered_r\")\n",
    "    fig.update_traces(textposition='top right')\n",
    "    fig.update_layout(\n",
    "        xaxis_title=\"Sentiment Score\",\n",
    "        yaxis_title=\"Frequency\",\n",
    "        title= dict(\n",
    "            text='Sentiment of the population (top 30 by frequncy)',\n",
    "            xanchor='center',\n",
    "            x=0.5)\n",
    "    )\n",
    "    fig.update_traces(marker=dict(size=15), selector=dict(mode='markers'))\n",
    "    fig.show()"
   ]
  },
  {
   "cell_type": "code",
   "execution_count": 223,
   "metadata": {},
   "outputs": [
    {
     "data": {
      "application/vnd.plotly.v1+json": {
       "config": {
        "plotlyServerURL": "https://plot.ly"
       },
       "data": [
        {
         "hovertemplate": "score=%{marker.color}<br>freq=%{y}<br>entity=%{text}<extra></extra>",
         "legendgroup": "",
         "marker": {
          "color": [
           -48,
           28,
           109,
           206,
           103,
           -76,
           141,
           -27,
           -1,
           127,
           15,
           -5,
           5,
           47,
           18,
           45,
           20,
           -6,
           1,
           8,
           13,
           22,
           41,
           14,
           -14,
           -5,
           5,
           89,
           45,
           -16
          ],
          "coloraxis": "coloraxis",
          "symbol": "circle"
         },
         "mode": "markers+text",
         "name": "",
         "orientation": "h",
         "showlegend": false,
         "text": [
          "iran",
          "afghanistan",
          "china",
          "israel",
          "pakistan",
          "iraq",
          "haiti",
          "libya",
          "russia",
          "india",
          "ny",
          "uk",
          "london",
          "hrc",
          "turkey",
          "karzai",
          "kabul",
          "egypt",
          "france",
          "massachusetts",
          "jerusalem",
          "mexico",
          "brazil",
          "florida",
          "germany",
          "jiloty",
          "honduras",
          "indonesia",
          "united states",
          "britain"
         ],
         "textposition": "top right",
         "type": "scatter",
         "x": [
          -48,
          28,
          109,
          206,
          103,
          -76,
          141,
          -27,
          -1,
          127,
          15,
          -5,
          5,
          47,
          18,
          45,
          20,
          -6,
          1,
          8,
          13,
          22,
          41,
          14,
          -14,
          -5,
          5,
          89,
          45,
          -16
         ],
         "xaxis": "x",
         "y": [
          102,
          100,
          85,
          76,
          70,
          68,
          66,
          55,
          54,
          52,
          49,
          41,
          41,
          34,
          33,
          33,
          33,
          28,
          25,
          25,
          25,
          25,
          24,
          23,
          23,
          23,
          22,
          21,
          21,
          21
         ],
         "yaxis": "y"
        }
       ],
       "layout": {
        "coloraxis": {
         "colorbar": {
          "title": {
           "text": "score"
          }
         },
         "colorscale": [
          [
           0,
           "rgb(255,0,0)"
          ],
          [
           1,
           "rgb(0,0,255)"
          ]
         ]
        },
        "legend": {
         "tracegroupgap": 0
        },
        "margin": {
         "t": 60
        },
        "template": {
         "data": {
          "bar": [
           {
            "error_x": {
             "color": "#2a3f5f"
            },
            "error_y": {
             "color": "#2a3f5f"
            },
            "marker": {
             "line": {
              "color": "#E5ECF6",
              "width": 0.5
             }
            },
            "type": "bar"
           }
          ],
          "barpolar": [
           {
            "marker": {
             "line": {
              "color": "#E5ECF6",
              "width": 0.5
             }
            },
            "type": "barpolar"
           }
          ],
          "carpet": [
           {
            "aaxis": {
             "endlinecolor": "#2a3f5f",
             "gridcolor": "white",
             "linecolor": "white",
             "minorgridcolor": "white",
             "startlinecolor": "#2a3f5f"
            },
            "baxis": {
             "endlinecolor": "#2a3f5f",
             "gridcolor": "white",
             "linecolor": "white",
             "minorgridcolor": "white",
             "startlinecolor": "#2a3f5f"
            },
            "type": "carpet"
           }
          ],
          "choropleth": [
           {
            "colorbar": {
             "outlinewidth": 0,
             "ticks": ""
            },
            "type": "choropleth"
           }
          ],
          "contour": [
           {
            "colorbar": {
             "outlinewidth": 0,
             "ticks": ""
            },
            "colorscale": [
             [
              0,
              "#0d0887"
             ],
             [
              0.1111111111111111,
              "#46039f"
             ],
             [
              0.2222222222222222,
              "#7201a8"
             ],
             [
              0.3333333333333333,
              "#9c179e"
             ],
             [
              0.4444444444444444,
              "#bd3786"
             ],
             [
              0.5555555555555556,
              "#d8576b"
             ],
             [
              0.6666666666666666,
              "#ed7953"
             ],
             [
              0.7777777777777778,
              "#fb9f3a"
             ],
             [
              0.8888888888888888,
              "#fdca26"
             ],
             [
              1,
              "#f0f921"
             ]
            ],
            "type": "contour"
           }
          ],
          "contourcarpet": [
           {
            "colorbar": {
             "outlinewidth": 0,
             "ticks": ""
            },
            "type": "contourcarpet"
           }
          ],
          "heatmap": [
           {
            "colorbar": {
             "outlinewidth": 0,
             "ticks": ""
            },
            "colorscale": [
             [
              0,
              "#0d0887"
             ],
             [
              0.1111111111111111,
              "#46039f"
             ],
             [
              0.2222222222222222,
              "#7201a8"
             ],
             [
              0.3333333333333333,
              "#9c179e"
             ],
             [
              0.4444444444444444,
              "#bd3786"
             ],
             [
              0.5555555555555556,
              "#d8576b"
             ],
             [
              0.6666666666666666,
              "#ed7953"
             ],
             [
              0.7777777777777778,
              "#fb9f3a"
             ],
             [
              0.8888888888888888,
              "#fdca26"
             ],
             [
              1,
              "#f0f921"
             ]
            ],
            "type": "heatmap"
           }
          ],
          "heatmapgl": [
           {
            "colorbar": {
             "outlinewidth": 0,
             "ticks": ""
            },
            "colorscale": [
             [
              0,
              "#0d0887"
             ],
             [
              0.1111111111111111,
              "#46039f"
             ],
             [
              0.2222222222222222,
              "#7201a8"
             ],
             [
              0.3333333333333333,
              "#9c179e"
             ],
             [
              0.4444444444444444,
              "#bd3786"
             ],
             [
              0.5555555555555556,
              "#d8576b"
             ],
             [
              0.6666666666666666,
              "#ed7953"
             ],
             [
              0.7777777777777778,
              "#fb9f3a"
             ],
             [
              0.8888888888888888,
              "#fdca26"
             ],
             [
              1,
              "#f0f921"
             ]
            ],
            "type": "heatmapgl"
           }
          ],
          "histogram": [
           {
            "marker": {
             "colorbar": {
              "outlinewidth": 0,
              "ticks": ""
             }
            },
            "type": "histogram"
           }
          ],
          "histogram2d": [
           {
            "colorbar": {
             "outlinewidth": 0,
             "ticks": ""
            },
            "colorscale": [
             [
              0,
              "#0d0887"
             ],
             [
              0.1111111111111111,
              "#46039f"
             ],
             [
              0.2222222222222222,
              "#7201a8"
             ],
             [
              0.3333333333333333,
              "#9c179e"
             ],
             [
              0.4444444444444444,
              "#bd3786"
             ],
             [
              0.5555555555555556,
              "#d8576b"
             ],
             [
              0.6666666666666666,
              "#ed7953"
             ],
             [
              0.7777777777777778,
              "#fb9f3a"
             ],
             [
              0.8888888888888888,
              "#fdca26"
             ],
             [
              1,
              "#f0f921"
             ]
            ],
            "type": "histogram2d"
           }
          ],
          "histogram2dcontour": [
           {
            "colorbar": {
             "outlinewidth": 0,
             "ticks": ""
            },
            "colorscale": [
             [
              0,
              "#0d0887"
             ],
             [
              0.1111111111111111,
              "#46039f"
             ],
             [
              0.2222222222222222,
              "#7201a8"
             ],
             [
              0.3333333333333333,
              "#9c179e"
             ],
             [
              0.4444444444444444,
              "#bd3786"
             ],
             [
              0.5555555555555556,
              "#d8576b"
             ],
             [
              0.6666666666666666,
              "#ed7953"
             ],
             [
              0.7777777777777778,
              "#fb9f3a"
             ],
             [
              0.8888888888888888,
              "#fdca26"
             ],
             [
              1,
              "#f0f921"
             ]
            ],
            "type": "histogram2dcontour"
           }
          ],
          "mesh3d": [
           {
            "colorbar": {
             "outlinewidth": 0,
             "ticks": ""
            },
            "type": "mesh3d"
           }
          ],
          "parcoords": [
           {
            "line": {
             "colorbar": {
              "outlinewidth": 0,
              "ticks": ""
             }
            },
            "type": "parcoords"
           }
          ],
          "pie": [
           {
            "automargin": true,
            "type": "pie"
           }
          ],
          "scatter": [
           {
            "marker": {
             "colorbar": {
              "outlinewidth": 0,
              "ticks": ""
             }
            },
            "type": "scatter"
           }
          ],
          "scatter3d": [
           {
            "line": {
             "colorbar": {
              "outlinewidth": 0,
              "ticks": ""
             }
            },
            "marker": {
             "colorbar": {
              "outlinewidth": 0,
              "ticks": ""
             }
            },
            "type": "scatter3d"
           }
          ],
          "scattercarpet": [
           {
            "marker": {
             "colorbar": {
              "outlinewidth": 0,
              "ticks": ""
             }
            },
            "type": "scattercarpet"
           }
          ],
          "scattergeo": [
           {
            "marker": {
             "colorbar": {
              "outlinewidth": 0,
              "ticks": ""
             }
            },
            "type": "scattergeo"
           }
          ],
          "scattergl": [
           {
            "marker": {
             "colorbar": {
              "outlinewidth": 0,
              "ticks": ""
             }
            },
            "type": "scattergl"
           }
          ],
          "scattermapbox": [
           {
            "marker": {
             "colorbar": {
              "outlinewidth": 0,
              "ticks": ""
             }
            },
            "type": "scattermapbox"
           }
          ],
          "scatterpolar": [
           {
            "marker": {
             "colorbar": {
              "outlinewidth": 0,
              "ticks": ""
             }
            },
            "type": "scatterpolar"
           }
          ],
          "scatterpolargl": [
           {
            "marker": {
             "colorbar": {
              "outlinewidth": 0,
              "ticks": ""
             }
            },
            "type": "scatterpolargl"
           }
          ],
          "scatterternary": [
           {
            "marker": {
             "colorbar": {
              "outlinewidth": 0,
              "ticks": ""
             }
            },
            "type": "scatterternary"
           }
          ],
          "surface": [
           {
            "colorbar": {
             "outlinewidth": 0,
             "ticks": ""
            },
            "colorscale": [
             [
              0,
              "#0d0887"
             ],
             [
              0.1111111111111111,
              "#46039f"
             ],
             [
              0.2222222222222222,
              "#7201a8"
             ],
             [
              0.3333333333333333,
              "#9c179e"
             ],
             [
              0.4444444444444444,
              "#bd3786"
             ],
             [
              0.5555555555555556,
              "#d8576b"
             ],
             [
              0.6666666666666666,
              "#ed7953"
             ],
             [
              0.7777777777777778,
              "#fb9f3a"
             ],
             [
              0.8888888888888888,
              "#fdca26"
             ],
             [
              1,
              "#f0f921"
             ]
            ],
            "type": "surface"
           }
          ],
          "table": [
           {
            "cells": {
             "fill": {
              "color": "#EBF0F8"
             },
             "line": {
              "color": "white"
             }
            },
            "header": {
             "fill": {
              "color": "#C8D4E3"
             },
             "line": {
              "color": "white"
             }
            },
            "type": "table"
           }
          ]
         },
         "layout": {
          "annotationdefaults": {
           "arrowcolor": "#2a3f5f",
           "arrowhead": 0,
           "arrowwidth": 1
          },
          "autotypenumbers": "strict",
          "coloraxis": {
           "colorbar": {
            "outlinewidth": 0,
            "ticks": ""
           }
          },
          "colorscale": {
           "diverging": [
            [
             0,
             "#8e0152"
            ],
            [
             0.1,
             "#c51b7d"
            ],
            [
             0.2,
             "#de77ae"
            ],
            [
             0.3,
             "#f1b6da"
            ],
            [
             0.4,
             "#fde0ef"
            ],
            [
             0.5,
             "#f7f7f7"
            ],
            [
             0.6,
             "#e6f5d0"
            ],
            [
             0.7,
             "#b8e186"
            ],
            [
             0.8,
             "#7fbc41"
            ],
            [
             0.9,
             "#4d9221"
            ],
            [
             1,
             "#276419"
            ]
           ],
           "sequential": [
            [
             0,
             "#0d0887"
            ],
            [
             0.1111111111111111,
             "#46039f"
            ],
            [
             0.2222222222222222,
             "#7201a8"
            ],
            [
             0.3333333333333333,
             "#9c179e"
            ],
            [
             0.4444444444444444,
             "#bd3786"
            ],
            [
             0.5555555555555556,
             "#d8576b"
            ],
            [
             0.6666666666666666,
             "#ed7953"
            ],
            [
             0.7777777777777778,
             "#fb9f3a"
            ],
            [
             0.8888888888888888,
             "#fdca26"
            ],
            [
             1,
             "#f0f921"
            ]
           ],
           "sequentialminus": [
            [
             0,
             "#0d0887"
            ],
            [
             0.1111111111111111,
             "#46039f"
            ],
            [
             0.2222222222222222,
             "#7201a8"
            ],
            [
             0.3333333333333333,
             "#9c179e"
            ],
            [
             0.4444444444444444,
             "#bd3786"
            ],
            [
             0.5555555555555556,
             "#d8576b"
            ],
            [
             0.6666666666666666,
             "#ed7953"
            ],
            [
             0.7777777777777778,
             "#fb9f3a"
            ],
            [
             0.8888888888888888,
             "#fdca26"
            ],
            [
             1,
             "#f0f921"
            ]
           ]
          },
          "colorway": [
           "#636efa",
           "#EF553B",
           "#00cc96",
           "#ab63fa",
           "#FFA15A",
           "#19d3f3",
           "#FF6692",
           "#B6E880",
           "#FF97FF",
           "#FECB52"
          ],
          "font": {
           "color": "#2a3f5f"
          },
          "geo": {
           "bgcolor": "white",
           "lakecolor": "white",
           "landcolor": "#E5ECF6",
           "showlakes": true,
           "showland": true,
           "subunitcolor": "white"
          },
          "hoverlabel": {
           "align": "left"
          },
          "hovermode": "closest",
          "mapbox": {
           "style": "light"
          },
          "paper_bgcolor": "white",
          "plot_bgcolor": "#E5ECF6",
          "polar": {
           "angularaxis": {
            "gridcolor": "white",
            "linecolor": "white",
            "ticks": ""
           },
           "bgcolor": "#E5ECF6",
           "radialaxis": {
            "gridcolor": "white",
            "linecolor": "white",
            "ticks": ""
           }
          },
          "scene": {
           "xaxis": {
            "backgroundcolor": "#E5ECF6",
            "gridcolor": "white",
            "gridwidth": 2,
            "linecolor": "white",
            "showbackground": true,
            "ticks": "",
            "zerolinecolor": "white"
           },
           "yaxis": {
            "backgroundcolor": "#E5ECF6",
            "gridcolor": "white",
            "gridwidth": 2,
            "linecolor": "white",
            "showbackground": true,
            "ticks": "",
            "zerolinecolor": "white"
           },
           "zaxis": {
            "backgroundcolor": "#E5ECF6",
            "gridcolor": "white",
            "gridwidth": 2,
            "linecolor": "white",
            "showbackground": true,
            "ticks": "",
            "zerolinecolor": "white"
           }
          },
          "shapedefaults": {
           "line": {
            "color": "#2a3f5f"
           }
          },
          "ternary": {
           "aaxis": {
            "gridcolor": "white",
            "linecolor": "white",
            "ticks": ""
           },
           "baxis": {
            "gridcolor": "white",
            "linecolor": "white",
            "ticks": ""
           },
           "bgcolor": "#E5ECF6",
           "caxis": {
            "gridcolor": "white",
            "linecolor": "white",
            "ticks": ""
           }
          },
          "title": {
           "x": 0.05
          },
          "xaxis": {
           "automargin": true,
           "gridcolor": "white",
           "linecolor": "white",
           "ticks": "",
           "title": {
            "standoff": 15
           },
           "zerolinecolor": "white",
           "zerolinewidth": 2
          },
          "yaxis": {
           "automargin": true,
           "gridcolor": "white",
           "linecolor": "white",
           "ticks": "",
           "title": {
            "standoff": 15
           },
           "zerolinecolor": "white",
           "zerolinewidth": 2
          }
         }
        },
        "title": {
         "text": "Sentiment of the population (top 30 by frequncy)",
         "x": 0.5,
         "xanchor": "center"
        },
        "xaxis": {
         "anchor": "y",
         "domain": [
          0,
          1
         ],
         "title": {
          "text": "Sentiment Score"
         }
        },
        "yaxis": {
         "anchor": "x",
         "domain": [
          0,
          1
         ],
         "title": {
          "text": "Frequency"
         }
        }
       }
      },
      "text/html": [
       "<div>                            <div id=\"58a9f866-e855-4d71-93a5-20dd0b45ea2a\" class=\"plotly-graph-div\" style=\"height:525px; width:100%;\"></div>            <script type=\"text/javascript\">                require([\"plotly\"], function(Plotly) {                    window.PLOTLYENV=window.PLOTLYENV || {};                                    if (document.getElementById(\"58a9f866-e855-4d71-93a5-20dd0b45ea2a\")) {                    Plotly.newPlot(                        \"58a9f866-e855-4d71-93a5-20dd0b45ea2a\",                        [{\"hovertemplate\": \"score=%{marker.color}<br>freq=%{y}<br>entity=%{text}<extra></extra>\", \"legendgroup\": \"\", \"marker\": {\"color\": [-48.0, 28.0, 109.0, 206.0, 103.0, -76.0, 141.0, -27.0, -1.0, 127.0, 15.0, -5.0, 5.0, 47.0, 18.0, 45.0, 20.0, -6.0, 1.0, 8.0, 13.0, 22.0, 41.0, 14.0, -14.0, -5.0, 5.0, 89.0, 45.0, -16.0], \"coloraxis\": \"coloraxis\", \"symbol\": \"circle\"}, \"mode\": \"markers+text\", \"name\": \"\", \"orientation\": \"h\", \"showlegend\": false, \"text\": [\"iran\", \"afghanistan\", \"china\", \"israel\", \"pakistan\", \"iraq\", \"haiti\", \"libya\", \"russia\", \"india\", \"ny\", \"uk\", \"london\", \"hrc\", \"turkey\", \"karzai\", \"kabul\", \"egypt\", \"france\", \"massachusetts\", \"jerusalem\", \"mexico\", \"brazil\", \"florida\", \"germany\", \"jiloty\", \"honduras\", \"indonesia\", \"united states\", \"britain\"], \"textposition\": \"top right\", \"type\": \"scatter\", \"x\": [-48.0, 28.0, 109.0, 206.0, 103.0, -76.0, 141.0, -27.0, -1.0, 127.0, 15.0, -5.0, 5.0, 47.0, 18.0, 45.0, 20.0, -6.0, 1.0, 8.0, 13.0, 22.0, 41.0, 14.0, -14.0, -5.0, 5.0, 89.0, 45.0, -16.0], \"xaxis\": \"x\", \"y\": [102, 100, 85, 76, 70, 68, 66, 55, 54, 52, 49, 41, 41, 34, 33, 33, 33, 28, 25, 25, 25, 25, 24, 23, 23, 23, 22, 21, 21, 21], \"yaxis\": \"y\"}],                        {\"coloraxis\": {\"colorbar\": {\"title\": {\"text\": \"score\"}}, \"colorscale\": [[0.0, \"rgb(255,0,0)\"], [1.0, \"rgb(0,0,255)\"]]}, \"legend\": {\"tracegroupgap\": 0}, \"margin\": {\"t\": 60}, \"template\": {\"data\": {\"bar\": [{\"error_x\": {\"color\": \"#2a3f5f\"}, \"error_y\": {\"color\": \"#2a3f5f\"}, \"marker\": {\"line\": {\"color\": \"#E5ECF6\", \"width\": 0.5}}, \"type\": \"bar\"}], \"barpolar\": [{\"marker\": {\"line\": {\"color\": \"#E5ECF6\", \"width\": 0.5}}, \"type\": \"barpolar\"}], \"carpet\": [{\"aaxis\": {\"endlinecolor\": \"#2a3f5f\", \"gridcolor\": \"white\", \"linecolor\": \"white\", \"minorgridcolor\": \"white\", \"startlinecolor\": \"#2a3f5f\"}, \"baxis\": {\"endlinecolor\": \"#2a3f5f\", \"gridcolor\": \"white\", \"linecolor\": \"white\", \"minorgridcolor\": \"white\", \"startlinecolor\": \"#2a3f5f\"}, \"type\": \"carpet\"}], \"choropleth\": [{\"colorbar\": {\"outlinewidth\": 0, \"ticks\": \"\"}, \"type\": \"choropleth\"}], \"contour\": [{\"colorbar\": {\"outlinewidth\": 0, \"ticks\": \"\"}, \"colorscale\": [[0.0, \"#0d0887\"], [0.1111111111111111, \"#46039f\"], [0.2222222222222222, \"#7201a8\"], [0.3333333333333333, \"#9c179e\"], [0.4444444444444444, \"#bd3786\"], [0.5555555555555556, \"#d8576b\"], [0.6666666666666666, \"#ed7953\"], [0.7777777777777778, \"#fb9f3a\"], [0.8888888888888888, \"#fdca26\"], [1.0, \"#f0f921\"]], \"type\": \"contour\"}], \"contourcarpet\": [{\"colorbar\": {\"outlinewidth\": 0, \"ticks\": \"\"}, \"type\": \"contourcarpet\"}], \"heatmap\": [{\"colorbar\": {\"outlinewidth\": 0, \"ticks\": \"\"}, \"colorscale\": [[0.0, \"#0d0887\"], [0.1111111111111111, \"#46039f\"], [0.2222222222222222, \"#7201a8\"], [0.3333333333333333, \"#9c179e\"], [0.4444444444444444, \"#bd3786\"], [0.5555555555555556, \"#d8576b\"], [0.6666666666666666, \"#ed7953\"], [0.7777777777777778, \"#fb9f3a\"], [0.8888888888888888, \"#fdca26\"], [1.0, \"#f0f921\"]], \"type\": \"heatmap\"}], \"heatmapgl\": [{\"colorbar\": {\"outlinewidth\": 0, \"ticks\": \"\"}, \"colorscale\": [[0.0, \"#0d0887\"], [0.1111111111111111, \"#46039f\"], [0.2222222222222222, \"#7201a8\"], [0.3333333333333333, \"#9c179e\"], [0.4444444444444444, \"#bd3786\"], [0.5555555555555556, \"#d8576b\"], [0.6666666666666666, \"#ed7953\"], [0.7777777777777778, \"#fb9f3a\"], [0.8888888888888888, \"#fdca26\"], [1.0, \"#f0f921\"]], \"type\": \"heatmapgl\"}], \"histogram\": [{\"marker\": {\"colorbar\": {\"outlinewidth\": 0, \"ticks\": \"\"}}, \"type\": \"histogram\"}], \"histogram2d\": [{\"colorbar\": {\"outlinewidth\": 0, \"ticks\": \"\"}, \"colorscale\": [[0.0, \"#0d0887\"], [0.1111111111111111, \"#46039f\"], [0.2222222222222222, \"#7201a8\"], [0.3333333333333333, \"#9c179e\"], [0.4444444444444444, \"#bd3786\"], [0.5555555555555556, \"#d8576b\"], [0.6666666666666666, \"#ed7953\"], [0.7777777777777778, \"#fb9f3a\"], [0.8888888888888888, \"#fdca26\"], [1.0, \"#f0f921\"]], \"type\": \"histogram2d\"}], \"histogram2dcontour\": [{\"colorbar\": {\"outlinewidth\": 0, \"ticks\": \"\"}, \"colorscale\": [[0.0, \"#0d0887\"], [0.1111111111111111, \"#46039f\"], [0.2222222222222222, \"#7201a8\"], [0.3333333333333333, \"#9c179e\"], [0.4444444444444444, \"#bd3786\"], [0.5555555555555556, \"#d8576b\"], [0.6666666666666666, \"#ed7953\"], [0.7777777777777778, \"#fb9f3a\"], [0.8888888888888888, \"#fdca26\"], [1.0, \"#f0f921\"]], \"type\": \"histogram2dcontour\"}], \"mesh3d\": [{\"colorbar\": {\"outlinewidth\": 0, \"ticks\": \"\"}, \"type\": \"mesh3d\"}], \"parcoords\": [{\"line\": {\"colorbar\": {\"outlinewidth\": 0, \"ticks\": \"\"}}, \"type\": \"parcoords\"}], \"pie\": [{\"automargin\": true, \"type\": \"pie\"}], \"scatter\": [{\"marker\": {\"colorbar\": {\"outlinewidth\": 0, \"ticks\": \"\"}}, \"type\": \"scatter\"}], \"scatter3d\": [{\"line\": {\"colorbar\": {\"outlinewidth\": 0, \"ticks\": \"\"}}, \"marker\": {\"colorbar\": {\"outlinewidth\": 0, \"ticks\": \"\"}}, \"type\": \"scatter3d\"}], \"scattercarpet\": [{\"marker\": {\"colorbar\": {\"outlinewidth\": 0, \"ticks\": \"\"}}, \"type\": \"scattercarpet\"}], \"scattergeo\": [{\"marker\": {\"colorbar\": {\"outlinewidth\": 0, \"ticks\": \"\"}}, \"type\": \"scattergeo\"}], \"scattergl\": [{\"marker\": {\"colorbar\": {\"outlinewidth\": 0, \"ticks\": \"\"}}, \"type\": \"scattergl\"}], \"scattermapbox\": [{\"marker\": {\"colorbar\": {\"outlinewidth\": 0, \"ticks\": \"\"}}, \"type\": \"scattermapbox\"}], \"scatterpolar\": [{\"marker\": {\"colorbar\": {\"outlinewidth\": 0, \"ticks\": \"\"}}, \"type\": \"scatterpolar\"}], \"scatterpolargl\": [{\"marker\": {\"colorbar\": {\"outlinewidth\": 0, \"ticks\": \"\"}}, \"type\": \"scatterpolargl\"}], \"scatterternary\": [{\"marker\": {\"colorbar\": {\"outlinewidth\": 0, \"ticks\": \"\"}}, \"type\": \"scatterternary\"}], \"surface\": [{\"colorbar\": {\"outlinewidth\": 0, \"ticks\": \"\"}, \"colorscale\": [[0.0, \"#0d0887\"], [0.1111111111111111, \"#46039f\"], [0.2222222222222222, \"#7201a8\"], [0.3333333333333333, \"#9c179e\"], [0.4444444444444444, \"#bd3786\"], [0.5555555555555556, \"#d8576b\"], [0.6666666666666666, \"#ed7953\"], [0.7777777777777778, \"#fb9f3a\"], [0.8888888888888888, \"#fdca26\"], [1.0, \"#f0f921\"]], \"type\": \"surface\"}], \"table\": [{\"cells\": {\"fill\": {\"color\": \"#EBF0F8\"}, \"line\": {\"color\": \"white\"}}, \"header\": {\"fill\": {\"color\": \"#C8D4E3\"}, \"line\": {\"color\": \"white\"}}, \"type\": \"table\"}]}, \"layout\": {\"annotationdefaults\": {\"arrowcolor\": \"#2a3f5f\", \"arrowhead\": 0, \"arrowwidth\": 1}, \"autotypenumbers\": \"strict\", \"coloraxis\": {\"colorbar\": {\"outlinewidth\": 0, \"ticks\": \"\"}}, \"colorscale\": {\"diverging\": [[0, \"#8e0152\"], [0.1, \"#c51b7d\"], [0.2, \"#de77ae\"], [0.3, \"#f1b6da\"], [0.4, \"#fde0ef\"], [0.5, \"#f7f7f7\"], [0.6, \"#e6f5d0\"], [0.7, \"#b8e186\"], [0.8, \"#7fbc41\"], [0.9, \"#4d9221\"], [1, \"#276419\"]], \"sequential\": [[0.0, \"#0d0887\"], [0.1111111111111111, \"#46039f\"], [0.2222222222222222, \"#7201a8\"], [0.3333333333333333, \"#9c179e\"], [0.4444444444444444, \"#bd3786\"], [0.5555555555555556, \"#d8576b\"], [0.6666666666666666, \"#ed7953\"], [0.7777777777777778, \"#fb9f3a\"], [0.8888888888888888, \"#fdca26\"], [1.0, \"#f0f921\"]], \"sequentialminus\": [[0.0, \"#0d0887\"], [0.1111111111111111, \"#46039f\"], [0.2222222222222222, \"#7201a8\"], [0.3333333333333333, \"#9c179e\"], [0.4444444444444444, \"#bd3786\"], [0.5555555555555556, \"#d8576b\"], [0.6666666666666666, \"#ed7953\"], [0.7777777777777778, \"#fb9f3a\"], [0.8888888888888888, \"#fdca26\"], [1.0, \"#f0f921\"]]}, \"colorway\": [\"#636efa\", \"#EF553B\", \"#00cc96\", \"#ab63fa\", \"#FFA15A\", \"#19d3f3\", \"#FF6692\", \"#B6E880\", \"#FF97FF\", \"#FECB52\"], \"font\": {\"color\": \"#2a3f5f\"}, \"geo\": {\"bgcolor\": \"white\", \"lakecolor\": \"white\", \"landcolor\": \"#E5ECF6\", \"showlakes\": true, \"showland\": true, \"subunitcolor\": \"white\"}, \"hoverlabel\": {\"align\": \"left\"}, \"hovermode\": \"closest\", \"mapbox\": {\"style\": \"light\"}, \"paper_bgcolor\": \"white\", \"plot_bgcolor\": \"#E5ECF6\", \"polar\": {\"angularaxis\": {\"gridcolor\": \"white\", \"linecolor\": \"white\", \"ticks\": \"\"}, \"bgcolor\": \"#E5ECF6\", \"radialaxis\": {\"gridcolor\": \"white\", \"linecolor\": \"white\", \"ticks\": \"\"}}, \"scene\": {\"xaxis\": {\"backgroundcolor\": \"#E5ECF6\", \"gridcolor\": \"white\", \"gridwidth\": 2, \"linecolor\": \"white\", \"showbackground\": true, \"ticks\": \"\", \"zerolinecolor\": \"white\"}, \"yaxis\": {\"backgroundcolor\": \"#E5ECF6\", \"gridcolor\": \"white\", \"gridwidth\": 2, \"linecolor\": \"white\", \"showbackground\": true, \"ticks\": \"\", \"zerolinecolor\": \"white\"}, \"zaxis\": {\"backgroundcolor\": \"#E5ECF6\", \"gridcolor\": \"white\", \"gridwidth\": 2, \"linecolor\": \"white\", \"showbackground\": true, \"ticks\": \"\", \"zerolinecolor\": \"white\"}}, \"shapedefaults\": {\"line\": {\"color\": \"#2a3f5f\"}}, \"ternary\": {\"aaxis\": {\"gridcolor\": \"white\", \"linecolor\": \"white\", \"ticks\": \"\"}, \"baxis\": {\"gridcolor\": \"white\", \"linecolor\": \"white\", \"ticks\": \"\"}, \"bgcolor\": \"#E5ECF6\", \"caxis\": {\"gridcolor\": \"white\", \"linecolor\": \"white\", \"ticks\": \"\"}}, \"title\": {\"x\": 0.05}, \"xaxis\": {\"automargin\": true, \"gridcolor\": \"white\", \"linecolor\": \"white\", \"ticks\": \"\", \"title\": {\"standoff\": 15}, \"zerolinecolor\": \"white\", \"zerolinewidth\": 2}, \"yaxis\": {\"automargin\": true, \"gridcolor\": \"white\", \"linecolor\": \"white\", \"ticks\": \"\", \"title\": {\"standoff\": 15}, \"zerolinecolor\": \"white\", \"zerolinewidth\": 2}}}, \"title\": {\"text\": \"Sentiment of the population (top 30 by frequncy)\", \"x\": 0.5, \"xanchor\": \"center\"}, \"xaxis\": {\"anchor\": \"y\", \"domain\": [0.0, 1.0], \"title\": {\"text\": \"Sentiment Score\"}}, \"yaxis\": {\"anchor\": \"x\", \"domain\": [0.0, 1.0], \"title\": {\"text\": \"Frequency\"}}},                        {\"responsive\": true}                    ).then(function(){\n",
       "                            \n",
       "var gd = document.getElementById('58a9f866-e855-4d71-93a5-20dd0b45ea2a');\n",
       "var x = new MutationObserver(function (mutations, observer) {{\n",
       "        var display = window.getComputedStyle(gd).display;\n",
       "        if (!display || display === 'none') {{\n",
       "            console.log([gd, 'removed!']);\n",
       "            Plotly.purge(gd);\n",
       "            observer.disconnect();\n",
       "        }}\n",
       "}});\n",
       "\n",
       "// Listen for the removal of the full notebook cells\n",
       "var notebookContainer = gd.closest('#notebook-container');\n",
       "if (notebookContainer) {{\n",
       "    x.observe(notebookContainer, {childList: true});\n",
       "}}\n",
       "\n",
       "// Listen for the clearing of the current output cell\n",
       "var outputEl = gd.closest('.output');\n",
       "if (outputEl) {{\n",
       "    x.observe(outputEl, {childList: true});\n",
       "}}\n",
       "\n",
       "                        })                };                });            </script>        </div>"
      ]
     },
     "metadata": {},
     "output_type": "display_data"
    }
   ],
   "source": [
    "df_entities = build_entities_df(entities_gpe)\n",
    "plot_entitites_sentiment(df_entities)"
   ]
  },
  {
   "cell_type": "markdown",
   "metadata": {},
   "source": [
    "Plot on map"
   ]
  },
  {
   "cell_type": "markdown",
   "metadata": {
    "pycharm": {
     "name": "#%% md\n"
    }
   },
   "source": [
    "Named entity Recognition and linking on dates to find hilary's schedule of the day"
   ]
  }
 ],
 "metadata": {
  "kernelspec": {
   "display_name": "Python 3",
   "language": "python",
   "name": "python3"
  },
  "language_info": {
   "codemirror_mode": {
    "name": "ipython",
    "version": 3
   },
   "file_extension": ".py",
   "mimetype": "text/x-python",
   "name": "python",
   "nbconvert_exporter": "python",
   "pygments_lexer": "ipython3",
   "version": "3.8.7"
  }
 },
 "nbformat": 4,
 "nbformat_minor": 1
}
